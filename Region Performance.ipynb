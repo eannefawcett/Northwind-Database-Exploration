{
 "cells": [
  {
   "cell_type": "markdown",
   "metadata": {},
   "source": [
    "- graphs starting quantities at zero\n",
    "- graph prettiness\n",
    "- store pvalues \n",
    "- conversation about type 1 and 2 errors\n",
    "- ANOVA tukey graph, talk about CI\n",
    "- Bonferroni correction"
   ]
  },
  {
   "cell_type": "markdown",
   "metadata": {},
   "source": [
    "<img src='images/Northwind_ERD_updated.png.'>"
   ]
  },
  {
   "cell_type": "markdown",
   "metadata": {},
   "source": [
    "<a href='#1.0-Initial-Question'>**1.0 Initial Question**</a>\n",
    "\n",
    "<a href='#1.1-Initial-Hypothesis'>**1.1 Initial Hypothesis**</a>\n",
    "- <a href='#1.1.1-Null-Hypothesis'>1.1.1 Null Hypothesis</a>\n",
    "- <a href='#1.1.2-Alternative-Hypothesis'>1.1.2 Alternative Hypothesis</a>\n",
    "- <a href='#1.1.3-Features'>1.1.3 Features</a>\n",
    "- <a href='#1.1.4-Target-Variable'>1.1.4 Target Variable</a>\n",
    "\n",
    "<a href='#1.2-Methodology'>**1.2 Methodology**</a>\n",
    "- <a href='#1.2.1-Obtain-Data'>1.2.1 Obtain Data</a>\n",
    "- <a href='#1.2.2-Scrub-Data'>1.2.2 Scrub Data</a>\n",
    "    - <a href='#1.2.2.1-Manage-n/a-data-types'>1.2.2.1 Manage n/a data types</a>\n",
    "    - <a href='#1.2.2.2-Remove-duplicate-data'>1.2.2.2 Remove duplicate data</a>\n",
    "    - <a href='#1.2.2.3-Manage-data-typs'>1.2.2.3 Manage data types</a>\n",
    "    - <a href='#1.2.2.4-Remove-outliers'>1.2.2.4 Remove outliers</a>\n",
    "- <a href='#1.2.3-Explore-Data'>1.2.3 Explore Data</a>\n",
    "    - <a href='#1.2.3.1-Visualize-data'>1.2.3.1 Visualize data</a>\n",
    "    - <a href='#1.2.3.2-Transform-data'>1.2.3.2 Transform data</a>\n",
    "    - <a href='#1.2.3.3-Sort-data-/-Prepare-data-for-testing'>1.2.3.3 Sort data / Prepare data for testing</a>\n",
    "    - <a href='#1.2.3.4-Develop-feature'>1.2.3.4 Develop Feature</a>\n",
    "- <a href='#1.2.4-Model-Data'>1.2.4 Model Data</a>\n",
    "    - <a href='#1.2.4.1-Check-for-data-normality'>1.2.4.1 Check for data normality</a>\n",
    "    - <a href='#1.2.4.2-Standard-deviation-and-other-basic-statistics'>1.2.4.2 Standard deviation and other basic statistics</a>\n",
    "    - <a href='#1.2.4.3-Statistical-test'>1.2.4.3 Statistical test</a>\n",
    "    - <a href='#1.2.4.4-Verification-techniques'>1.2.4.4 Verification techniques</a>\n",
    "        - <a href='#1.2.4.4.1-Nonparametric-testing-and-confirmatory-testing'>1.2.4.4.1 Nonparametric testing</a>\n",
    "        - <a href='#1.2.4.4.2-Effect-size'>1.2.4.4.2 Effect size</a>\n",
    "        - <a href='#1.2.4.4.3-Error'>1.2.4.4.3 Error</a>\n",
    "- <a href='#1.2.5-Interpret-Model'>1.2.5 Interpret Model</a>\n",
    "    - <a href='#1.2.5.1-Extension-of-acquired-knowledge'>1.2.5.1 Extension of acquired knowledge</a>\n",
    "    \n",
    "<a href='#1.3-Results'>**1.3 Results**</a>\n",
    "\n",
    "<a href='#1.4-Conclusions'>**1.4 Conclusions**</a>\n",
    "\n",
    "- <a href='#1.4.1-Actionable-Items-and-Insights'>1.4.1 Actionable Items and Insights</a>\n",
    "- <a href='#1.4.2-Additional-Visuals'>1.4.2 Additional Visuals</a>\n",
    "\n",
    "<a href='#1.5-Future-Work'>**1.5 Future Work**</a>\n",
    "\n",
    "<a href='#1.6-References'>**1.6 References**</a>"
   ]
  },
  {
   "cell_type": "markdown",
   "metadata": {},
   "source": [
    "# Question\n",
    "\n",
    "### Which region is preforming the best? How can we optimize preformance?\n"
   ]
  },
  {
   "cell_type": "markdown",
   "metadata": {},
   "source": [
    "# Hypothesis for Z-Test\n",
    "\n",
    "### H0: no effect - Item total for specific regions is no different than that of all regions\n",
    "\n",
    "### HA: effect - Item total for specific regions is different than that of all regions\n",
    "\n",
    "The bolded items in the H0 statement represent the data that needs to be pulled down from the database. \n",
    "\n",
    "### Feature: RegionId\n",
    "### Target: OrderDetail.Quantity * OrderDetail.UnitPrice"
   ]
  },
  {
   "cell_type": "markdown",
   "metadata": {},
   "source": [
    "# Gathering data\n",
    "\n",
    "### Importing the data"
   ]
  },
  {
   "cell_type": "code",
   "execution_count": 1,
   "metadata": {},
   "outputs": [],
   "source": [
    "import pandas as pd\n",
    "import sqlite3\n",
    "\n",
    "import numpy as np\n",
    "from numpy import std, mean, sqrt\n",
    "import scipy.stats as stats\n",
    "from statsmodels.stats.power import tt_ind_solve_power\n",
    "import statsmodels.api as sm\n",
    "from statsmodels.formula.api import ols\n",
    "\n",
    "import matplotlib.pyplot as plt\n",
    "%matplotlib inline\n",
    "import seaborn as sns\n",
    "import folium\n",
    "\n",
    "idx = pd.IndexSlice"
   ]
  },
  {
   "cell_type": "markdown",
   "metadata": {},
   "source": [
    "### Setting up the connection with the database"
   ]
  },
  {
   "cell_type": "code",
   "execution_count": 2,
   "metadata": {},
   "outputs": [],
   "source": [
    "conn = sqlite3.Connection('Northwind_small.sqlite')\n",
    "cur = conn.cursor()"
   ]
  },
  {
   "cell_type": "markdown",
   "metadata": {},
   "source": [
    "### Looking at the necessary data"
   ]
  },
  {
   "cell_type": "code",
   "execution_count": 3,
   "metadata": {},
   "outputs": [
    {
     "data": {
      "text/html": [
       "<div>\n",
       "<style scoped>\n",
       "    .dataframe tbody tr th:only-of-type {\n",
       "        vertical-align: middle;\n",
       "    }\n",
       "\n",
       "    .dataframe tbody tr th {\n",
       "        vertical-align: top;\n",
       "    }\n",
       "\n",
       "    .dataframe thead th {\n",
       "        text-align: right;\n",
       "    }\n",
       "</style>\n",
       "<table border=\"1\" class=\"dataframe\">\n",
       "  <thead>\n",
       "    <tr style=\"text-align: right;\">\n",
       "      <th></th>\n",
       "      <th>Id</th>\n",
       "      <th>TerritoryDescription</th>\n",
       "      <th>RegionId</th>\n",
       "    </tr>\n",
       "  </thead>\n",
       "  <tbody>\n",
       "    <tr>\n",
       "      <th>0</th>\n",
       "      <td>01581</td>\n",
       "      <td>Westboro</td>\n",
       "      <td>1</td>\n",
       "    </tr>\n",
       "    <tr>\n",
       "      <th>1</th>\n",
       "      <td>01730</td>\n",
       "      <td>Bedford</td>\n",
       "      <td>1</td>\n",
       "    </tr>\n",
       "    <tr>\n",
       "      <th>2</th>\n",
       "      <td>01833</td>\n",
       "      <td>Georgetow</td>\n",
       "      <td>1</td>\n",
       "    </tr>\n",
       "    <tr>\n",
       "      <th>3</th>\n",
       "      <td>02116</td>\n",
       "      <td>Boston</td>\n",
       "      <td>1</td>\n",
       "    </tr>\n",
       "    <tr>\n",
       "      <th>4</th>\n",
       "      <td>02139</td>\n",
       "      <td>Cambridge</td>\n",
       "      <td>1</td>\n",
       "    </tr>\n",
       "  </tbody>\n",
       "</table>\n",
       "</div>"
      ],
      "text/plain": [
       "      Id TerritoryDescription  RegionId\n",
       "0  01581             Westboro         1\n",
       "1  01730              Bedford         1\n",
       "2  01833            Georgetow         1\n",
       "3  02116               Boston         1\n",
       "4  02139            Cambridge         1"
      ]
     },
     "execution_count": 3,
     "metadata": {},
     "output_type": "execute_result"
    }
   ],
   "source": [
    "cur.execute(\"\"\"SELECT *\n",
    "               FROM Territory\n",
    "               \"\"\")\n",
    "territory = pd.DataFrame(cur.fetchall())\n",
    "territory.columns = [x[0] for x in cur.description]\n",
    "territory.head()"
   ]
  },
  {
   "cell_type": "code",
   "execution_count": 4,
   "metadata": {},
   "outputs": [
    {
     "data": {
      "text/html": [
       "<div>\n",
       "<style scoped>\n",
       "    .dataframe tbody tr th:only-of-type {\n",
       "        vertical-align: middle;\n",
       "    }\n",
       "\n",
       "    .dataframe tbody tr th {\n",
       "        vertical-align: top;\n",
       "    }\n",
       "\n",
       "    .dataframe thead th {\n",
       "        text-align: right;\n",
       "    }\n",
       "</style>\n",
       "<table border=\"1\" class=\"dataframe\">\n",
       "  <thead>\n",
       "    <tr style=\"text-align: right;\">\n",
       "      <th></th>\n",
       "      <th>Id</th>\n",
       "      <th>EmployeeId</th>\n",
       "      <th>TerritoryId</th>\n",
       "    </tr>\n",
       "  </thead>\n",
       "  <tbody>\n",
       "    <tr>\n",
       "      <th>0</th>\n",
       "      <td>1/06897</td>\n",
       "      <td>1</td>\n",
       "      <td>06897</td>\n",
       "    </tr>\n",
       "    <tr>\n",
       "      <th>1</th>\n",
       "      <td>1/19713</td>\n",
       "      <td>1</td>\n",
       "      <td>19713</td>\n",
       "    </tr>\n",
       "    <tr>\n",
       "      <th>2</th>\n",
       "      <td>2/01581</td>\n",
       "      <td>2</td>\n",
       "      <td>01581</td>\n",
       "    </tr>\n",
       "    <tr>\n",
       "      <th>3</th>\n",
       "      <td>2/01730</td>\n",
       "      <td>2</td>\n",
       "      <td>01730</td>\n",
       "    </tr>\n",
       "    <tr>\n",
       "      <th>4</th>\n",
       "      <td>2/01833</td>\n",
       "      <td>2</td>\n",
       "      <td>01833</td>\n",
       "    </tr>\n",
       "  </tbody>\n",
       "</table>\n",
       "</div>"
      ],
      "text/plain": [
       "        Id  EmployeeId TerritoryId\n",
       "0  1/06897           1       06897\n",
       "1  1/19713           1       19713\n",
       "2  2/01581           2       01581\n",
       "3  2/01730           2       01730\n",
       "4  2/01833           2       01833"
      ]
     },
     "execution_count": 4,
     "metadata": {},
     "output_type": "execute_result"
    }
   ],
   "source": [
    "cur.execute(\"\"\"SELECT *\n",
    "               FROM EmployeeTerritory\n",
    "               \"\"\")\n",
    "employeeTerritory = pd.DataFrame(cur.fetchall())\n",
    "employeeTerritory.columns = [x[0] for x in cur.description]\n",
    "employeeTerritory.head()"
   ]
  },
  {
   "cell_type": "code",
   "execution_count": 5,
   "metadata": {},
   "outputs": [
    {
     "data": {
      "text/html": [
       "<div>\n",
       "<style scoped>\n",
       "    .dataframe tbody tr th:only-of-type {\n",
       "        vertical-align: middle;\n",
       "    }\n",
       "\n",
       "    .dataframe tbody tr th {\n",
       "        vertical-align: top;\n",
       "    }\n",
       "\n",
       "    .dataframe thead th {\n",
       "        text-align: right;\n",
       "    }\n",
       "</style>\n",
       "<table border=\"1\" class=\"dataframe\">\n",
       "  <thead>\n",
       "    <tr style=\"text-align: right;\">\n",
       "      <th></th>\n",
       "      <th>Id</th>\n",
       "      <th>LastName</th>\n",
       "      <th>FirstName</th>\n",
       "      <th>Title</th>\n",
       "      <th>TitleOfCourtesy</th>\n",
       "      <th>BirthDate</th>\n",
       "      <th>HireDate</th>\n",
       "      <th>Address</th>\n",
       "      <th>City</th>\n",
       "      <th>Region</th>\n",
       "      <th>PostalCode</th>\n",
       "      <th>Country</th>\n",
       "      <th>HomePhone</th>\n",
       "      <th>Extension</th>\n",
       "      <th>Photo</th>\n",
       "      <th>Notes</th>\n",
       "      <th>ReportsTo</th>\n",
       "      <th>PhotoPath</th>\n",
       "    </tr>\n",
       "  </thead>\n",
       "  <tbody>\n",
       "    <tr>\n",
       "      <th>0</th>\n",
       "      <td>1</td>\n",
       "      <td>Davolio</td>\n",
       "      <td>Nancy</td>\n",
       "      <td>Sales Representative</td>\n",
       "      <td>Ms.</td>\n",
       "      <td>1980-12-08</td>\n",
       "      <td>2024-05-01</td>\n",
       "      <td>507 - 20th Ave. E. Apt. 2A</td>\n",
       "      <td>Seattle</td>\n",
       "      <td>North America</td>\n",
       "      <td>98122</td>\n",
       "      <td>USA</td>\n",
       "      <td>(206) 555-9857</td>\n",
       "      <td>5467</td>\n",
       "      <td>None</td>\n",
       "      <td>Education includes a BA in psychology from Col...</td>\n",
       "      <td>2.0</td>\n",
       "      <td>http://accweb/emmployees/davolio.bmp</td>\n",
       "    </tr>\n",
       "    <tr>\n",
       "      <th>1</th>\n",
       "      <td>2</td>\n",
       "      <td>Fuller</td>\n",
       "      <td>Andrew</td>\n",
       "      <td>Vice President, Sales</td>\n",
       "      <td>Dr.</td>\n",
       "      <td>1984-02-19</td>\n",
       "      <td>2024-08-14</td>\n",
       "      <td>908 W. Capital Way</td>\n",
       "      <td>Tacoma</td>\n",
       "      <td>North America</td>\n",
       "      <td>98401</td>\n",
       "      <td>USA</td>\n",
       "      <td>(206) 555-9482</td>\n",
       "      <td>3457</td>\n",
       "      <td>None</td>\n",
       "      <td>Andrew received his BTS commercial in 1974 and...</td>\n",
       "      <td>NaN</td>\n",
       "      <td>http://accweb/emmployees/fuller.bmp</td>\n",
       "    </tr>\n",
       "    <tr>\n",
       "      <th>2</th>\n",
       "      <td>3</td>\n",
       "      <td>Leverling</td>\n",
       "      <td>Janet</td>\n",
       "      <td>Sales Representative</td>\n",
       "      <td>Ms.</td>\n",
       "      <td>1995-08-30</td>\n",
       "      <td>2024-04-01</td>\n",
       "      <td>722 Moss Bay Blvd.</td>\n",
       "      <td>Kirkland</td>\n",
       "      <td>North America</td>\n",
       "      <td>98033</td>\n",
       "      <td>USA</td>\n",
       "      <td>(206) 555-3412</td>\n",
       "      <td>3355</td>\n",
       "      <td>None</td>\n",
       "      <td>Janet has a BS degree in chemistry from Boston...</td>\n",
       "      <td>2.0</td>\n",
       "      <td>http://accweb/emmployees/leverling.bmp</td>\n",
       "    </tr>\n",
       "    <tr>\n",
       "      <th>3</th>\n",
       "      <td>4</td>\n",
       "      <td>Peacock</td>\n",
       "      <td>Margaret</td>\n",
       "      <td>Sales Representative</td>\n",
       "      <td>Mrs.</td>\n",
       "      <td>1969-09-19</td>\n",
       "      <td>2025-05-03</td>\n",
       "      <td>4110 Old Redmond Rd.</td>\n",
       "      <td>Redmond</td>\n",
       "      <td>North America</td>\n",
       "      <td>98052</td>\n",
       "      <td>USA</td>\n",
       "      <td>(206) 555-8122</td>\n",
       "      <td>5176</td>\n",
       "      <td>None</td>\n",
       "      <td>Margaret holds a BA in English literature from...</td>\n",
       "      <td>2.0</td>\n",
       "      <td>http://accweb/emmployees/peacock.bmp</td>\n",
       "    </tr>\n",
       "    <tr>\n",
       "      <th>4</th>\n",
       "      <td>5</td>\n",
       "      <td>Buchanan</td>\n",
       "      <td>Steven</td>\n",
       "      <td>Sales Manager</td>\n",
       "      <td>Mr.</td>\n",
       "      <td>1987-03-04</td>\n",
       "      <td>2025-10-17</td>\n",
       "      <td>14 Garrett Hill</td>\n",
       "      <td>London</td>\n",
       "      <td>British Isles</td>\n",
       "      <td>SW1 8JR</td>\n",
       "      <td>UK</td>\n",
       "      <td>(71) 555-4848</td>\n",
       "      <td>3453</td>\n",
       "      <td>None</td>\n",
       "      <td>Steven Buchanan graduated from St. Andrews Uni...</td>\n",
       "      <td>2.0</td>\n",
       "      <td>http://accweb/emmployees/buchanan.bmp</td>\n",
       "    </tr>\n",
       "  </tbody>\n",
       "</table>\n",
       "</div>"
      ],
      "text/plain": [
       "   Id   LastName FirstName                  Title TitleOfCourtesy   BirthDate  \\\n",
       "0   1    Davolio     Nancy   Sales Representative             Ms.  1980-12-08   \n",
       "1   2     Fuller    Andrew  Vice President, Sales             Dr.  1984-02-19   \n",
       "2   3  Leverling     Janet   Sales Representative             Ms.  1995-08-30   \n",
       "3   4    Peacock  Margaret   Sales Representative            Mrs.  1969-09-19   \n",
       "4   5   Buchanan    Steven          Sales Manager             Mr.  1987-03-04   \n",
       "\n",
       "     HireDate                     Address      City         Region PostalCode  \\\n",
       "0  2024-05-01  507 - 20th Ave. E. Apt. 2A   Seattle  North America      98122   \n",
       "1  2024-08-14          908 W. Capital Way    Tacoma  North America      98401   \n",
       "2  2024-04-01          722 Moss Bay Blvd.  Kirkland  North America      98033   \n",
       "3  2025-05-03        4110 Old Redmond Rd.   Redmond  North America      98052   \n",
       "4  2025-10-17             14 Garrett Hill    London  British Isles    SW1 8JR   \n",
       "\n",
       "  Country       HomePhone Extension Photo  \\\n",
       "0     USA  (206) 555-9857      5467  None   \n",
       "1     USA  (206) 555-9482      3457  None   \n",
       "2     USA  (206) 555-3412      3355  None   \n",
       "3     USA  (206) 555-8122      5176  None   \n",
       "4      UK   (71) 555-4848      3453  None   \n",
       "\n",
       "                                               Notes  ReportsTo  \\\n",
       "0  Education includes a BA in psychology from Col...        2.0   \n",
       "1  Andrew received his BTS commercial in 1974 and...        NaN   \n",
       "2  Janet has a BS degree in chemistry from Boston...        2.0   \n",
       "3  Margaret holds a BA in English literature from...        2.0   \n",
       "4  Steven Buchanan graduated from St. Andrews Uni...        2.0   \n",
       "\n",
       "                                PhotoPath  \n",
       "0    http://accweb/emmployees/davolio.bmp  \n",
       "1     http://accweb/emmployees/fuller.bmp  \n",
       "2  http://accweb/emmployees/leverling.bmp  \n",
       "3    http://accweb/emmployees/peacock.bmp  \n",
       "4   http://accweb/emmployees/buchanan.bmp  "
      ]
     },
     "execution_count": 5,
     "metadata": {},
     "output_type": "execute_result"
    }
   ],
   "source": [
    "cur.execute(\"\"\"SELECT *\n",
    "               FROM Employee\n",
    "               \"\"\")\n",
    "employee = pd.DataFrame(cur.fetchall())\n",
    "employee.columns = [x[0] for x in cur.description]\n",
    "employee.head()"
   ]
  },
  {
   "cell_type": "code",
   "execution_count": 6,
   "metadata": {},
   "outputs": [
    {
     "data": {
      "text/html": [
       "<div>\n",
       "<style scoped>\n",
       "    .dataframe tbody tr th:only-of-type {\n",
       "        vertical-align: middle;\n",
       "    }\n",
       "\n",
       "    .dataframe tbody tr th {\n",
       "        vertical-align: top;\n",
       "    }\n",
       "\n",
       "    .dataframe thead th {\n",
       "        text-align: right;\n",
       "    }\n",
       "</style>\n",
       "<table border=\"1\" class=\"dataframe\">\n",
       "  <thead>\n",
       "    <tr style=\"text-align: right;\">\n",
       "      <th></th>\n",
       "      <th>Id</th>\n",
       "      <th>CustomerId</th>\n",
       "      <th>EmployeeId</th>\n",
       "      <th>OrderDate</th>\n",
       "      <th>RequiredDate</th>\n",
       "      <th>ShippedDate</th>\n",
       "      <th>ShipVia</th>\n",
       "      <th>Freight</th>\n",
       "      <th>ShipName</th>\n",
       "      <th>ShipAddress</th>\n",
       "      <th>ShipCity</th>\n",
       "      <th>ShipRegion</th>\n",
       "      <th>ShipPostalCode</th>\n",
       "      <th>ShipCountry</th>\n",
       "    </tr>\n",
       "  </thead>\n",
       "  <tbody>\n",
       "    <tr>\n",
       "      <th>0</th>\n",
       "      <td>10248</td>\n",
       "      <td>VINET</td>\n",
       "      <td>5</td>\n",
       "      <td>2012-07-04</td>\n",
       "      <td>2012-08-01</td>\n",
       "      <td>2012-07-16</td>\n",
       "      <td>3</td>\n",
       "      <td>32.38</td>\n",
       "      <td>Vins et alcools Chevalier</td>\n",
       "      <td>59 rue de l'Abbaye</td>\n",
       "      <td>Reims</td>\n",
       "      <td>Western Europe</td>\n",
       "      <td>51100</td>\n",
       "      <td>France</td>\n",
       "    </tr>\n",
       "    <tr>\n",
       "      <th>1</th>\n",
       "      <td>10249</td>\n",
       "      <td>TOMSP</td>\n",
       "      <td>6</td>\n",
       "      <td>2012-07-05</td>\n",
       "      <td>2012-08-16</td>\n",
       "      <td>2012-07-10</td>\n",
       "      <td>1</td>\n",
       "      <td>11.61</td>\n",
       "      <td>Toms Spezialitäten</td>\n",
       "      <td>Luisenstr. 48</td>\n",
       "      <td>Münster</td>\n",
       "      <td>Western Europe</td>\n",
       "      <td>44087</td>\n",
       "      <td>Germany</td>\n",
       "    </tr>\n",
       "    <tr>\n",
       "      <th>2</th>\n",
       "      <td>10250</td>\n",
       "      <td>HANAR</td>\n",
       "      <td>4</td>\n",
       "      <td>2012-07-08</td>\n",
       "      <td>2012-08-05</td>\n",
       "      <td>2012-07-12</td>\n",
       "      <td>2</td>\n",
       "      <td>65.83</td>\n",
       "      <td>Hanari Carnes</td>\n",
       "      <td>Rua do Paço, 67</td>\n",
       "      <td>Rio de Janeiro</td>\n",
       "      <td>South America</td>\n",
       "      <td>05454-876</td>\n",
       "      <td>Brazil</td>\n",
       "    </tr>\n",
       "    <tr>\n",
       "      <th>3</th>\n",
       "      <td>10251</td>\n",
       "      <td>VICTE</td>\n",
       "      <td>3</td>\n",
       "      <td>2012-07-08</td>\n",
       "      <td>2012-08-05</td>\n",
       "      <td>2012-07-15</td>\n",
       "      <td>1</td>\n",
       "      <td>41.34</td>\n",
       "      <td>Victuailles en stock</td>\n",
       "      <td>2, rue du Commerce</td>\n",
       "      <td>Lyon</td>\n",
       "      <td>Western Europe</td>\n",
       "      <td>69004</td>\n",
       "      <td>France</td>\n",
       "    </tr>\n",
       "    <tr>\n",
       "      <th>4</th>\n",
       "      <td>10252</td>\n",
       "      <td>SUPRD</td>\n",
       "      <td>4</td>\n",
       "      <td>2012-07-09</td>\n",
       "      <td>2012-08-06</td>\n",
       "      <td>2012-07-11</td>\n",
       "      <td>2</td>\n",
       "      <td>51.30</td>\n",
       "      <td>Suprêmes délices</td>\n",
       "      <td>Boulevard Tirou, 255</td>\n",
       "      <td>Charleroi</td>\n",
       "      <td>Western Europe</td>\n",
       "      <td>B-6000</td>\n",
       "      <td>Belgium</td>\n",
       "    </tr>\n",
       "  </tbody>\n",
       "</table>\n",
       "</div>"
      ],
      "text/plain": [
       "      Id CustomerId  EmployeeId   OrderDate RequiredDate ShippedDate  ShipVia  \\\n",
       "0  10248      VINET           5  2012-07-04   2012-08-01  2012-07-16        3   \n",
       "1  10249      TOMSP           6  2012-07-05   2012-08-16  2012-07-10        1   \n",
       "2  10250      HANAR           4  2012-07-08   2012-08-05  2012-07-12        2   \n",
       "3  10251      VICTE           3  2012-07-08   2012-08-05  2012-07-15        1   \n",
       "4  10252      SUPRD           4  2012-07-09   2012-08-06  2012-07-11        2   \n",
       "\n",
       "   Freight                   ShipName           ShipAddress        ShipCity  \\\n",
       "0    32.38  Vins et alcools Chevalier    59 rue de l'Abbaye           Reims   \n",
       "1    11.61         Toms Spezialitäten         Luisenstr. 48         Münster   \n",
       "2    65.83              Hanari Carnes       Rua do Paço, 67  Rio de Janeiro   \n",
       "3    41.34       Victuailles en stock    2, rue du Commerce            Lyon   \n",
       "4    51.30           Suprêmes délices  Boulevard Tirou, 255       Charleroi   \n",
       "\n",
       "       ShipRegion ShipPostalCode ShipCountry  \n",
       "0  Western Europe          51100      France  \n",
       "1  Western Europe          44087     Germany  \n",
       "2   South America      05454-876      Brazil  \n",
       "3  Western Europe          69004      France  \n",
       "4  Western Europe         B-6000     Belgium  "
      ]
     },
     "execution_count": 6,
     "metadata": {},
     "output_type": "execute_result"
    }
   ],
   "source": [
    "cur.execute(\"\"\"SELECT *\n",
    "               FROM 'Order'\n",
    "               \"\"\")\n",
    "order = pd.DataFrame(cur.fetchall())\n",
    "order.columns = [x[0] for x in cur.description]\n",
    "order.head()"
   ]
  },
  {
   "cell_type": "code",
   "execution_count": 7,
   "metadata": {},
   "outputs": [
    {
     "data": {
      "text/html": [
       "<div>\n",
       "<style scoped>\n",
       "    .dataframe tbody tr th:only-of-type {\n",
       "        vertical-align: middle;\n",
       "    }\n",
       "\n",
       "    .dataframe tbody tr th {\n",
       "        vertical-align: top;\n",
       "    }\n",
       "\n",
       "    .dataframe thead th {\n",
       "        text-align: right;\n",
       "    }\n",
       "</style>\n",
       "<table border=\"1\" class=\"dataframe\">\n",
       "  <thead>\n",
       "    <tr style=\"text-align: right;\">\n",
       "      <th></th>\n",
       "      <th>Id</th>\n",
       "      <th>OrderId</th>\n",
       "      <th>ProductId</th>\n",
       "      <th>UnitPrice</th>\n",
       "      <th>Quantity</th>\n",
       "      <th>Discount</th>\n",
       "    </tr>\n",
       "  </thead>\n",
       "  <tbody>\n",
       "    <tr>\n",
       "      <th>0</th>\n",
       "      <td>10248/11</td>\n",
       "      <td>10248</td>\n",
       "      <td>11</td>\n",
       "      <td>14.0</td>\n",
       "      <td>12</td>\n",
       "      <td>0.0</td>\n",
       "    </tr>\n",
       "    <tr>\n",
       "      <th>1</th>\n",
       "      <td>10248/42</td>\n",
       "      <td>10248</td>\n",
       "      <td>42</td>\n",
       "      <td>9.8</td>\n",
       "      <td>10</td>\n",
       "      <td>0.0</td>\n",
       "    </tr>\n",
       "    <tr>\n",
       "      <th>2</th>\n",
       "      <td>10248/72</td>\n",
       "      <td>10248</td>\n",
       "      <td>72</td>\n",
       "      <td>34.8</td>\n",
       "      <td>5</td>\n",
       "      <td>0.0</td>\n",
       "    </tr>\n",
       "    <tr>\n",
       "      <th>3</th>\n",
       "      <td>10249/14</td>\n",
       "      <td>10249</td>\n",
       "      <td>14</td>\n",
       "      <td>18.6</td>\n",
       "      <td>9</td>\n",
       "      <td>0.0</td>\n",
       "    </tr>\n",
       "    <tr>\n",
       "      <th>4</th>\n",
       "      <td>10249/51</td>\n",
       "      <td>10249</td>\n",
       "      <td>51</td>\n",
       "      <td>42.4</td>\n",
       "      <td>40</td>\n",
       "      <td>0.0</td>\n",
       "    </tr>\n",
       "  </tbody>\n",
       "</table>\n",
       "</div>"
      ],
      "text/plain": [
       "         Id  OrderId  ProductId  UnitPrice  Quantity  Discount\n",
       "0  10248/11    10248         11       14.0        12       0.0\n",
       "1  10248/42    10248         42        9.8        10       0.0\n",
       "2  10248/72    10248         72       34.8         5       0.0\n",
       "3  10249/14    10249         14       18.6         9       0.0\n",
       "4  10249/51    10249         51       42.4        40       0.0"
      ]
     },
     "execution_count": 7,
     "metadata": {},
     "output_type": "execute_result"
    }
   ],
   "source": [
    "cur.execute(\"\"\"SELECT *\n",
    "               FROM OrderDetail\n",
    "               \"\"\")\n",
    "orderDetail = pd.DataFrame(cur.fetchall())\n",
    "orderDetail.columns = [x[0] for x in cur.description]\n",
    "orderDetail.head()"
   ]
  },
  {
   "cell_type": "code",
   "execution_count": 8,
   "metadata": {},
   "outputs": [
    {
     "data": {
      "text/html": [
       "<div>\n",
       "<style scoped>\n",
       "    .dataframe tbody tr th:only-of-type {\n",
       "        vertical-align: middle;\n",
       "    }\n",
       "\n",
       "    .dataframe tbody tr th {\n",
       "        vertical-align: top;\n",
       "    }\n",
       "\n",
       "    .dataframe thead th {\n",
       "        text-align: right;\n",
       "    }\n",
       "</style>\n",
       "<table border=\"1\" class=\"dataframe\">\n",
       "  <thead>\n",
       "    <tr style=\"text-align: right;\">\n",
       "      <th></th>\n",
       "      <th>TerritoryId</th>\n",
       "      <th>RegionId</th>\n",
       "      <th>EmployeeId</th>\n",
       "      <th>Region</th>\n",
       "      <th>Id</th>\n",
       "      <th>ProductId</th>\n",
       "      <th>ItemTotal</th>\n",
       "      <th>UnitPrice</th>\n",
       "      <th>Quantity</th>\n",
       "    </tr>\n",
       "  </thead>\n",
       "  <tbody>\n",
       "    <tr>\n",
       "      <th>0</th>\n",
       "      <td>02903</td>\n",
       "      <td>1</td>\n",
       "      <td>5</td>\n",
       "      <td>British Isles</td>\n",
       "      <td>10248</td>\n",
       "      <td>11</td>\n",
       "      <td>168.0</td>\n",
       "      <td>14.00</td>\n",
       "      <td>12</td>\n",
       "    </tr>\n",
       "    <tr>\n",
       "      <th>1</th>\n",
       "      <td>07960</td>\n",
       "      <td>1</td>\n",
       "      <td>5</td>\n",
       "      <td>British Isles</td>\n",
       "      <td>10248</td>\n",
       "      <td>11</td>\n",
       "      <td>168.0</td>\n",
       "      <td>14.00</td>\n",
       "      <td>12</td>\n",
       "    </tr>\n",
       "    <tr>\n",
       "      <th>2</th>\n",
       "      <td>08837</td>\n",
       "      <td>1</td>\n",
       "      <td>5</td>\n",
       "      <td>British Isles</td>\n",
       "      <td>10248</td>\n",
       "      <td>11</td>\n",
       "      <td>168.0</td>\n",
       "      <td>14.00</td>\n",
       "      <td>12</td>\n",
       "    </tr>\n",
       "    <tr>\n",
       "      <th>3</th>\n",
       "      <td>10019</td>\n",
       "      <td>1</td>\n",
       "      <td>5</td>\n",
       "      <td>British Isles</td>\n",
       "      <td>10248</td>\n",
       "      <td>11</td>\n",
       "      <td>168.0</td>\n",
       "      <td>14.00</td>\n",
       "      <td>12</td>\n",
       "    </tr>\n",
       "    <tr>\n",
       "      <th>4</th>\n",
       "      <td>10038</td>\n",
       "      <td>1</td>\n",
       "      <td>5</td>\n",
       "      <td>British Isles</td>\n",
       "      <td>10248</td>\n",
       "      <td>11</td>\n",
       "      <td>168.0</td>\n",
       "      <td>14.00</td>\n",
       "      <td>12</td>\n",
       "    </tr>\n",
       "    <tr>\n",
       "      <th>...</th>\n",
       "      <td>...</td>\n",
       "      <td>...</td>\n",
       "      <td>...</td>\n",
       "      <td>...</td>\n",
       "      <td>...</td>\n",
       "      <td>...</td>\n",
       "      <td>...</td>\n",
       "      <td>...</td>\n",
       "      <td>...</td>\n",
       "    </tr>\n",
       "    <tr>\n",
       "      <th>10124</th>\n",
       "      <td>19713</td>\n",
       "      <td>1</td>\n",
       "      <td>1</td>\n",
       "      <td>North America</td>\n",
       "      <td>11077</td>\n",
       "      <td>73</td>\n",
       "      <td>30.0</td>\n",
       "      <td>15.00</td>\n",
       "      <td>2</td>\n",
       "    </tr>\n",
       "    <tr>\n",
       "      <th>10125</th>\n",
       "      <td>06897</td>\n",
       "      <td>1</td>\n",
       "      <td>1</td>\n",
       "      <td>North America</td>\n",
       "      <td>11077</td>\n",
       "      <td>75</td>\n",
       "      <td>31.0</td>\n",
       "      <td>7.75</td>\n",
       "      <td>4</td>\n",
       "    </tr>\n",
       "    <tr>\n",
       "      <th>10126</th>\n",
       "      <td>19713</td>\n",
       "      <td>1</td>\n",
       "      <td>1</td>\n",
       "      <td>North America</td>\n",
       "      <td>11077</td>\n",
       "      <td>75</td>\n",
       "      <td>31.0</td>\n",
       "      <td>7.75</td>\n",
       "      <td>4</td>\n",
       "    </tr>\n",
       "    <tr>\n",
       "      <th>10127</th>\n",
       "      <td>06897</td>\n",
       "      <td>1</td>\n",
       "      <td>1</td>\n",
       "      <td>North America</td>\n",
       "      <td>11077</td>\n",
       "      <td>77</td>\n",
       "      <td>26.0</td>\n",
       "      <td>13.00</td>\n",
       "      <td>2</td>\n",
       "    </tr>\n",
       "    <tr>\n",
       "      <th>10128</th>\n",
       "      <td>19713</td>\n",
       "      <td>1</td>\n",
       "      <td>1</td>\n",
       "      <td>North America</td>\n",
       "      <td>11077</td>\n",
       "      <td>77</td>\n",
       "      <td>26.0</td>\n",
       "      <td>13.00</td>\n",
       "      <td>2</td>\n",
       "    </tr>\n",
       "  </tbody>\n",
       "</table>\n",
       "<p>10129 rows × 9 columns</p>\n",
       "</div>"
      ],
      "text/plain": [
       "      TerritoryId  RegionId  EmployeeId         Region     Id  ProductId  \\\n",
       "0           02903         1           5  British Isles  10248         11   \n",
       "1           07960         1           5  British Isles  10248         11   \n",
       "2           08837         1           5  British Isles  10248         11   \n",
       "3           10019         1           5  British Isles  10248         11   \n",
       "4           10038         1           5  British Isles  10248         11   \n",
       "...           ...       ...         ...            ...    ...        ...   \n",
       "10124       19713         1           1  North America  11077         73   \n",
       "10125       06897         1           1  North America  11077         75   \n",
       "10126       19713         1           1  North America  11077         75   \n",
       "10127       06897         1           1  North America  11077         77   \n",
       "10128       19713         1           1  North America  11077         77   \n",
       "\n",
       "       ItemTotal  UnitPrice  Quantity  \n",
       "0          168.0      14.00        12  \n",
       "1          168.0      14.00        12  \n",
       "2          168.0      14.00        12  \n",
       "3          168.0      14.00        12  \n",
       "4          168.0      14.00        12  \n",
       "...          ...        ...       ...  \n",
       "10124       30.0      15.00         2  \n",
       "10125       31.0       7.75         4  \n",
       "10126       31.0       7.75         4  \n",
       "10127       26.0      13.00         2  \n",
       "10128       26.0      13.00         2  \n",
       "\n",
       "[10129 rows x 9 columns]"
      ]
     },
     "execution_count": 8,
     "metadata": {},
     "output_type": "execute_result"
    }
   ],
   "source": [
    "cur.execute(\"\"\"SELECT Territory.Id as TerritoryId, RegionId, EmployeeTerritory.EmployeeId, Employee.Region, 'Order'.Id, OrderDetail.ProductId, UnitPrice*Quantity as ItemTotal, UnitPrice, Quantity\n",
    "               FROM Territory\n",
    "               LEFT JOIN EmployeeTerritory ON Territory.Id = EmployeeTerritory.TerritoryId\n",
    "               JOIN Employee on EmployeeTerritory.EmployeeId = Employee.Id\n",
    "               JOIN 'Order' on Employee.Id = 'Order'.EmployeeId\n",
    "               JOIN OrderDetail on 'Order'.Id = OrderDetail.OrderId\n",
    "               \"\"\")\n",
    "df = pd.DataFrame(cur.fetchall())\n",
    "df.columns = [x[0] for x in cur.description]\n",
    "df"
   ]
  },
  {
   "cell_type": "markdown",
   "metadata": {},
   "source": [
    "# Scrub Data\n",
    "\n",
    "The following scrubbing techniques were applied to the original data:\n",
    "- Manage n/a data types\n",
    "- Delete duplicate rows\n",
    "- Correct data types\n",
    "- Find outliers\n",
    "\n",
    "### Manage n/a data types"
   ]
  },
  {
   "cell_type": "code",
   "execution_count": 9,
   "metadata": {},
   "outputs": [
    {
     "name": "stdout",
     "output_type": "stream",
     "text": [
      "10129\n"
     ]
    },
    {
     "data": {
      "text/plain": [
       "TerritoryId    0\n",
       "RegionId       0\n",
       "EmployeeId     0\n",
       "Region         0\n",
       "Id             0\n",
       "ProductId      0\n",
       "ItemTotal      0\n",
       "UnitPrice      0\n",
       "Quantity       0\n",
       "dtype: int64"
      ]
     },
     "execution_count": 9,
     "metadata": {},
     "output_type": "execute_result"
    }
   ],
   "source": [
    "# nans identification\n",
    "print(len(df))\n",
    "df.isna().sum()"
   ]
  },
  {
   "cell_type": "markdown",
   "metadata": {},
   "source": [
    "### Delete duplicate data"
   ]
  },
  {
   "cell_type": "code",
   "execution_count": 10,
   "metadata": {},
   "outputs": [
    {
     "name": "stdout",
     "output_type": "stream",
     "text": [
      "duplicated rows: 0\n"
     ]
    }
   ],
   "source": [
    "# identification of duplicate data\n",
    "print('duplicated rows: ' + str(df.duplicated().sum()))"
   ]
  },
  {
   "cell_type": "code",
   "execution_count": 11,
   "metadata": {},
   "outputs": [
    {
     "name": "stdout",
     "output_type": "stream",
     "text": [
      "duplicated rows: 0\n"
     ]
    }
   ],
   "source": [
    "# code to drop duplicate row if necessary\n",
    "df.drop_duplicates(inplace=True)\n",
    "print('duplicated rows: ' + str(df.duplicated().sum()))"
   ]
  },
  {
   "cell_type": "markdown",
   "metadata": {},
   "source": [
    "### Correct data types\n",
    "\n",
    "First, let's see what the data types for this data set are."
   ]
  },
  {
   "cell_type": "code",
   "execution_count": 12,
   "metadata": {},
   "outputs": [
    {
     "name": "stdout",
     "output_type": "stream",
     "text": [
      "<class 'pandas.core.frame.DataFrame'>\n",
      "Int64Index: 10129 entries, 0 to 10128\n",
      "Data columns (total 9 columns):\n",
      "TerritoryId    10129 non-null object\n",
      "RegionId       10129 non-null int64\n",
      "EmployeeId     10129 non-null int64\n",
      "Region         10129 non-null object\n",
      "Id             10129 non-null int64\n",
      "ProductId      10129 non-null int64\n",
      "ItemTotal      10129 non-null float64\n",
      "UnitPrice      10129 non-null float64\n",
      "Quantity       10129 non-null int64\n",
      "dtypes: float64(2), int64(5), object(2)\n",
      "memory usage: 791.3+ KB\n"
     ]
    }
   ],
   "source": [
    "# data type identification\n",
    "df.info()"
   ]
  },
  {
   "cell_type": "code",
   "execution_count": 13,
   "metadata": {},
   "outputs": [
    {
     "data": {
      "text/plain": [
       "array(['02903', '07960', '08837', '10019', '10038', '11747', '14450',\n",
       "       '85014', '85251', '98004', '98052', '98104', '20852', '27403',\n",
       "       '27511', '30346', '31406', '32859', '33607', '03049', '03801',\n",
       "       '48075', '48084', '48304', '55113', '55439', '06897', '19713',\n",
       "       '19428', '44122', '45839', '53404', '01581', '01730', '01833',\n",
       "       '02116', '02139', '02184', '40222', '60179', '60601', '80202',\n",
       "       '80909', '90405', '94025', '94105', '95008', '95054', '95060'],\n",
       "      dtype=object)"
      ]
     },
     "execution_count": 13,
     "metadata": {},
     "output_type": "execute_result"
    }
   ],
   "source": [
    "df.TerritoryId.unique()"
   ]
  },
  {
   "cell_type": "code",
   "execution_count": 14,
   "metadata": {},
   "outputs": [
    {
     "name": "stdout",
     "output_type": "stream",
     "text": [
      "<class 'pandas.core.frame.DataFrame'>\n",
      "Int64Index: 10129 entries, 0 to 10128\n",
      "Data columns (total 9 columns):\n",
      "TerritoryId    10129 non-null int32\n",
      "RegionId       10129 non-null int64\n",
      "EmployeeId     10129 non-null int64\n",
      "Region         10129 non-null object\n",
      "Id             10129 non-null int64\n",
      "ProductId      10129 non-null int64\n",
      "ItemTotal      10129 non-null float64\n",
      "UnitPrice      10129 non-null float64\n",
      "Quantity       10129 non-null int64\n",
      "dtypes: float64(2), int32(1), int64(5), object(1)\n",
      "memory usage: 751.8+ KB\n"
     ]
    }
   ],
   "source": [
    "df['TerritoryId'] = df['TerritoryId'].astype(int)\n",
    "df.info()"
   ]
  },
  {
   "cell_type": "code",
   "execution_count": 15,
   "metadata": {},
   "outputs": [
    {
     "data": {
      "text/plain": [
       "array(['British Isles', 'North America'], dtype=object)"
      ]
     },
     "execution_count": 15,
     "metadata": {},
     "output_type": "execute_result"
    }
   ],
   "source": [
    "df.Region.unique()"
   ]
  },
  {
   "cell_type": "code",
   "execution_count": 16,
   "metadata": {},
   "outputs": [],
   "source": [
    "df['Region'] = ['British_Isles' if x == 'British Isles' else 'North_America' for x in df['Region']]"
   ]
  },
  {
   "cell_type": "code",
   "execution_count": 17,
   "metadata": {},
   "outputs": [
    {
     "name": "stdout",
     "output_type": "stream",
     "text": [
      "<class 'pandas.core.frame.DataFrame'>\n",
      "Int64Index: 10129 entries, 0 to 10128\n",
      "Data columns (total 9 columns):\n",
      "TerritoryId    10129 non-null int32\n",
      "RegionId       10129 non-null int64\n",
      "EmployeeId     10129 non-null int64\n",
      "Region         10129 non-null object\n",
      "Id             10129 non-null int64\n",
      "ProductId      10129 non-null int64\n",
      "ItemTotal      10129 non-null float64\n",
      "UnitPrice      10129 non-null float64\n",
      "Quantity       10129 non-null int64\n",
      "dtypes: float64(2), int32(1), int64(5), object(1)\n",
      "memory usage: 751.8+ KB\n"
     ]
    }
   ],
   "source": [
    "df.info()"
   ]
  },
  {
   "cell_type": "code",
   "execution_count": 18,
   "metadata": {},
   "outputs": [
    {
     "data": {
      "text/plain": [
       "array(['British_Isles', 'North_America'], dtype=object)"
      ]
     },
     "execution_count": 18,
     "metadata": {},
     "output_type": "execute_result"
    }
   ],
   "source": [
    "df.Region.unique()"
   ]
  },
  {
   "cell_type": "code",
   "execution_count": 19,
   "metadata": {},
   "outputs": [
    {
     "name": "stdout",
     "output_type": "stream",
     "text": [
      "<class 'pandas.core.frame.DataFrame'>\n",
      "Int64Index: 10129 entries, 0 to 10128\n",
      "Data columns (total 9 columns):\n",
      "TerritoryId    10129 non-null int32\n",
      "RegionId       10129 non-null int64\n",
      "EmployeeId     10129 non-null int64\n",
      "Region         10129 non-null object\n",
      "Id             10129 non-null int64\n",
      "ProductId      10129 non-null int64\n",
      "ItemTotal      10129 non-null float64\n",
      "UnitPrice      10129 non-null float64\n",
      "Quantity       10129 non-null int64\n",
      "dtypes: float64(2), int32(1), int64(5), object(1)\n",
      "memory usage: 751.8+ KB\n"
     ]
    }
   ],
   "source": [
    "df['Region'] = [str(x) for x in df['Region']]\n",
    "df.info()"
   ]
  },
  {
   "cell_type": "code",
   "execution_count": 20,
   "metadata": {},
   "outputs": [
    {
     "data": {
      "text/plain": [
       "Index(['TerritoryId', 'RegionId', 'EmployeeId', 'Region', 'Id', 'ProductId',\n",
       "       'ItemTotal', 'UnitPrice', 'Quantity'],\n",
       "      dtype='object')"
      ]
     },
     "execution_count": 20,
     "metadata": {},
     "output_type": "execute_result"
    }
   ],
   "source": [
    "df.columns"
   ]
  },
  {
   "cell_type": "markdown",
   "metadata": {},
   "source": [
    "### Find outliers"
   ]
  },
  {
   "cell_type": "code",
   "execution_count": 21,
   "metadata": {},
   "outputs": [],
   "source": [
    "# outlier identification\n",
    "pass"
   ]
  },
  {
   "cell_type": "code",
   "execution_count": 22,
   "metadata": {},
   "outputs": [],
   "source": [
    "# management of outliers\n",
    "pass"
   ]
  },
  {
   "cell_type": "markdown",
   "metadata": {},
   "source": [
    "Observations about data types"
   ]
  },
  {
   "cell_type": "markdown",
   "metadata": {},
   "source": [
    "# Explore Data\n",
    "\n",
    "For a quick preview of what we have to work with, we'll use the describe method."
   ]
  },
  {
   "cell_type": "code",
   "execution_count": 23,
   "metadata": {},
   "outputs": [
    {
     "data": {
      "text/html": [
       "<div>\n",
       "<style scoped>\n",
       "    .dataframe tbody tr th:only-of-type {\n",
       "        vertical-align: middle;\n",
       "    }\n",
       "\n",
       "    .dataframe tbody tr th {\n",
       "        vertical-align: top;\n",
       "    }\n",
       "\n",
       "    .dataframe thead th {\n",
       "        text-align: right;\n",
       "    }\n",
       "</style>\n",
       "<table border=\"1\" class=\"dataframe\">\n",
       "  <thead>\n",
       "    <tr style=\"text-align: right;\">\n",
       "      <th></th>\n",
       "      <th>TerritoryId</th>\n",
       "      <th>RegionId</th>\n",
       "      <th>EmployeeId</th>\n",
       "      <th>Id</th>\n",
       "      <th>ProductId</th>\n",
       "      <th>ItemTotal</th>\n",
       "      <th>UnitPrice</th>\n",
       "      <th>Quantity</th>\n",
       "    </tr>\n",
       "  </thead>\n",
       "  <tbody>\n",
       "    <tr>\n",
       "      <th>count</th>\n",
       "      <td>10129.000000</td>\n",
       "      <td>10129.000000</td>\n",
       "      <td>10129.000000</td>\n",
       "      <td>10129.000000</td>\n",
       "      <td>10129.000000</td>\n",
       "      <td>10129.000000</td>\n",
       "      <td>10129.000000</td>\n",
       "      <td>10129.000000</td>\n",
       "    </tr>\n",
       "    <tr>\n",
       "      <th>mean</th>\n",
       "      <td>39445.883503</td>\n",
       "      <td>1.990226</td>\n",
       "      <td>4.884194</td>\n",
       "      <td>10663.762563</td>\n",
       "      <td>40.567874</td>\n",
       "      <td>661.287053</td>\n",
       "      <td>26.519361</td>\n",
       "      <td>24.343963</td>\n",
       "    </tr>\n",
       "    <tr>\n",
       "      <th>std</th>\n",
       "      <td>32149.598006</td>\n",
       "      <td>1.060010</td>\n",
       "      <td>2.468345</td>\n",
       "      <td>240.279728</td>\n",
       "      <td>22.098367</td>\n",
       "      <td>1122.766498</td>\n",
       "      <td>30.607125</td>\n",
       "      <td>19.410689</td>\n",
       "    </tr>\n",
       "    <tr>\n",
       "      <th>min</th>\n",
       "      <td>1581.000000</td>\n",
       "      <td>1.000000</td>\n",
       "      <td>1.000000</td>\n",
       "      <td>10248.000000</td>\n",
       "      <td>1.000000</td>\n",
       "      <td>4.800000</td>\n",
       "      <td>2.000000</td>\n",
       "      <td>1.000000</td>\n",
       "    </tr>\n",
       "    <tr>\n",
       "      <th>25%</th>\n",
       "      <td>10038.000000</td>\n",
       "      <td>1.000000</td>\n",
       "      <td>3.000000</td>\n",
       "      <td>10460.000000</td>\n",
       "      <td>22.000000</td>\n",
       "      <td>156.150000</td>\n",
       "      <td>12.000000</td>\n",
       "      <td>10.000000</td>\n",
       "    </tr>\n",
       "    <tr>\n",
       "      <th>50%</th>\n",
       "      <td>31406.000000</td>\n",
       "      <td>2.000000</td>\n",
       "      <td>5.000000</td>\n",
       "      <td>10659.000000</td>\n",
       "      <td>41.000000</td>\n",
       "      <td>372.000000</td>\n",
       "      <td>18.400000</td>\n",
       "      <td>20.000000</td>\n",
       "    </tr>\n",
       "    <tr>\n",
       "      <th>75%</th>\n",
       "      <td>60179.000000</td>\n",
       "      <td>3.000000</td>\n",
       "      <td>7.000000</td>\n",
       "      <td>10869.000000</td>\n",
       "      <td>60.000000</td>\n",
       "      <td>733.600000</td>\n",
       "      <td>32.800000</td>\n",
       "      <td>30.000000</td>\n",
       "    </tr>\n",
       "    <tr>\n",
       "      <th>max</th>\n",
       "      <td>98104.000000</td>\n",
       "      <td>4.000000</td>\n",
       "      <td>9.000000</td>\n",
       "      <td>11077.000000</td>\n",
       "      <td>77.000000</td>\n",
       "      <td>15810.000000</td>\n",
       "      <td>263.500000</td>\n",
       "      <td>130.000000</td>\n",
       "    </tr>\n",
       "  </tbody>\n",
       "</table>\n",
       "</div>"
      ],
      "text/plain": [
       "        TerritoryId      RegionId    EmployeeId            Id     ProductId  \\\n",
       "count  10129.000000  10129.000000  10129.000000  10129.000000  10129.000000   \n",
       "mean   39445.883503      1.990226      4.884194  10663.762563     40.567874   \n",
       "std    32149.598006      1.060010      2.468345    240.279728     22.098367   \n",
       "min     1581.000000      1.000000      1.000000  10248.000000      1.000000   \n",
       "25%    10038.000000      1.000000      3.000000  10460.000000     22.000000   \n",
       "50%    31406.000000      2.000000      5.000000  10659.000000     41.000000   \n",
       "75%    60179.000000      3.000000      7.000000  10869.000000     60.000000   \n",
       "max    98104.000000      4.000000      9.000000  11077.000000     77.000000   \n",
       "\n",
       "          ItemTotal     UnitPrice      Quantity  \n",
       "count  10129.000000  10129.000000  10129.000000  \n",
       "mean     661.287053     26.519361     24.343963  \n",
       "std     1122.766498     30.607125     19.410689  \n",
       "min        4.800000      2.000000      1.000000  \n",
       "25%      156.150000     12.000000     10.000000  \n",
       "50%      372.000000     18.400000     20.000000  \n",
       "75%      733.600000     32.800000     30.000000  \n",
       "max    15810.000000    263.500000    130.000000  "
      ]
     },
     "execution_count": 23,
     "metadata": {},
     "output_type": "execute_result"
    }
   ],
   "source": [
    "# describe data\n",
    "df.describe()"
   ]
  },
  {
   "cell_type": "markdown",
   "metadata": {},
   "source": [
    "Observations about df.describe()\n",
    "\n",
    "### Visualize data"
   ]
  },
  {
   "cell_type": "code",
   "execution_count": 24,
   "metadata": {},
   "outputs": [
    {
     "data": {
      "image/png": "[encoded data removed]",
      "text/plain": [
       "<Figure size 1440x1440 with 9 Axes>"
      ]
     },
     "metadata": {
      "needs_background": "light"
     },
     "output_type": "display_data"
    }
   ],
   "source": [
    "# visualize data\n",
    "df.hist(figsize=(20,20));"
   ]
  },
  {
   "cell_type": "code",
   "execution_count": 25,
   "metadata": {},
   "outputs": [
    {
     "data": {
      "text/plain": [
       "<matplotlib.axes._subplots.AxesSubplot at 0x25eef071208>"
      ]
     },
     "execution_count": 25,
     "metadata": {},
     "output_type": "execute_result"
    },
    {
     "data": {
      "image/png": "[encoded data removed]",
      "text/plain": [
       "<Figure size 432x288 with 1 Axes>"
      ]
     },
     "metadata": {
      "needs_background": "light"
     },
     "output_type": "display_data"
    }
   ],
   "source": [
    "log = df.copy(deep=True)\n",
    "log['ItemTotal'] = df['ItemTotal'].map(lambda x: np.log(x))\n",
    "log.ItemTotal.hist()"
   ]
  },
  {
   "cell_type": "markdown",
   "metadata": {},
   "source": [
    "### Sort data\n",
    "\n",
    "Plan and justification of sorting data"
   ]
  },
  {
   "cell_type": "code",
   "execution_count": 26,
   "metadata": {},
   "outputs": [],
   "source": [
    "# sort data\n",
    "pass"
   ]
  },
  {
   "cell_type": "markdown",
   "metadata": {},
   "source": [
    "Observations about sorted data"
   ]
  },
  {
   "cell_type": "markdown",
   "metadata": {},
   "source": [
    "### Develop feature"
   ]
  },
  {
   "cell_type": "code",
   "execution_count": 27,
   "metadata": {},
   "outputs": [],
   "source": [
    "# create features\n",
    "pass"
   ]
  },
  {
   "cell_type": "markdown",
   "metadata": {},
   "source": [
    "# Model Data\n",
    "Below is the model after scrubbing and exploring have been managed, let's see what the model picks up."
   ]
  },
  {
   "cell_type": "markdown",
   "metadata": {},
   "source": [
    "### Data normality"
   ]
  },
  {
   "cell_type": "code",
   "execution_count": 28,
   "metadata": {},
   "outputs": [
    {
     "data": {
      "image/png": "[encoded data removed]",
      "text/plain": [
       "<Figure size 1440x1440 with 9 Axes>"
      ]
     },
     "metadata": {
      "needs_background": "light"
     },
     "output_type": "display_data"
    }
   ],
   "source": [
    "# visual/code for data normality\n",
    "log.hist(figsize=(20,20));"
   ]
  },
  {
   "cell_type": "markdown",
   "metadata": {},
   "source": [
    "### Standard deviation"
   ]
  },
  {
   "cell_type": "code",
   "execution_count": 29,
   "metadata": {},
   "outputs": [
    {
     "name": "stdout",
     "output_type": "stream",
     "text": [
      "ItemTotal Population Measures of Variance\n",
      "numbers of samples: 10129\n",
      "population mean: 5.82235979429891\n",
      "population standard deviation: 1.165811275166423\n",
      "population variance: 1.3591159293051611\n",
      "skew: -0.09461385082007663\n"
     ]
    }
   ],
   "source": [
    "# standard deviation for target variable\n",
    "print('ItemTotal Population Measures of Variance')\n",
    "print('numbers of samples: ' + str(len(log['ItemTotal'])))\n",
    "print('population mean: ' + str(mean(log['ItemTotal'])))\n",
    "print('population standard deviation: ' + str(std(log['ItemTotal'])))\n",
    "print('population variance: ' + str(std(log['ItemTotal'])**2))\n",
    "print('skew: ' + str(log['ItemTotal'].skew()))"
   ]
  },
  {
   "cell_type": "markdown",
   "metadata": {},
   "source": [
    "### Basic testing"
   ]
  },
  {
   "cell_type": "code",
   "execution_count": 30,
   "metadata": {},
   "outputs": [],
   "source": [
    "# set up variables for this particular test\n",
    "alpha = 0.05\n",
    "territoryId = [log[log['TerritoryId'] == x] for x in log['TerritoryId'].unique()]\n",
    "len(territoryId)\n",
    "x_bar_pop = log.ItemTotal.mean()\n",
    "x_bar_sample = [x['ItemTotal'].mean() for x in territoryId]\n",
    "sigma_pop = log.ItemTotal.std()\n",
    "sigma_sample = [x['ItemTotal'].std() for x in territoryId]\n",
    "n_pop = len(log.ItemTotal)\n",
    "n_sample = [len(x['ItemTotal']) for x in territoryId]\n",
    "mu_pop = mu_sample = 100\n",
    "dof = [x-1 for x in n_sample]"
   ]
  },
  {
   "cell_type": "code",
   "execution_count": 31,
   "metadata": {},
   "outputs": [],
   "source": [
    "# test\n",
    "x_bar = np.array([x_bar_pop - i for i in x_bar_sample])\n",
    "sigma = np.array([i**2 for i in sigma_sample])\n",
    "sigma_per_sample = sigma / n_sample\n",
    "t = ((x_bar) - (mu_pop-mu_sample)) / np.sqrt((sigma_pop**2/n_pop) + (sigma_per_sample))\n",
    "dof_t = pd.DataFrame()\n",
    "dof_t['dof'] = dof\n",
    "dof_t['t'] = t"
   ]
  },
  {
   "cell_type": "code",
   "execution_count": 32,
   "metadata": {},
   "outputs": [
    {
     "data": {
      "text/plain": [
       "array([0.72187205, 0.72187205, 0.72187205, 0.72187205, 0.72187205,\n",
       "       0.72187205, 0.72187205, 0.00686218, 0.00686218, 0.00686218,\n",
       "       0.00686218, 0.00686218, 0.27060678, 0.27060678, 0.27060678,\n",
       "       0.71619506, 0.71619506, 0.71619506, 0.71619506, 0.71759218,\n",
       "       0.71759218, 0.71759218, 0.71759218, 0.71759218, 0.71759218,\n",
       "       0.71759218, 0.00880333, 0.00880333, 0.21202311, 0.21202311,\n",
       "       0.21202311, 0.21202311, 0.68476546, 0.68476546, 0.68476546,\n",
       "       0.68476546, 0.68476546, 0.68476546, 0.68476546, 0.85751959,\n",
       "       0.85751959, 0.85751959, 0.85751959, 0.85751959, 0.85751959,\n",
       "       0.85751959, 0.85751959, 0.85751959, 0.85751959])"
      ]
     },
     "execution_count": 32,
     "metadata": {},
     "output_type": "execute_result"
    }
   ],
   "source": [
    "# result\n",
    "p_value = 1-stats.t.cdf(dof_t['t'], dof_t['dof'])\n",
    "p_value"
   ]
  },
  {
   "cell_type": "code",
   "execution_count": null,
   "metadata": {},
   "outputs": [],
   "source": [
    "# bonferroni correction"
   ]
  },
  {
   "cell_type": "code",
   "execution_count": 33,
   "metadata": {},
   "outputs": [
    {
     "name": "stdout",
     "output_type": "stream",
     "text": [
      "0: Fail to reject the null hypothesis\n",
      "1: Fail to reject the null hypothesis\n",
      "2: Fail to reject the null hypothesis\n",
      "3: Fail to reject the null hypothesis\n",
      "4: Fail to reject the null hypothesis\n",
      "5: Fail to reject the null hypothesis\n",
      "6: Fail to reject the null hypothesis\n",
      "7: Reject the null hypothesis\n",
      "8: Reject the null hypothesis\n",
      "9: Reject the null hypothesis\n",
      "10: Reject the null hypothesis\n",
      "11: Reject the null hypothesis\n",
      "12: Fail to reject the null hypothesis\n",
      "13: Fail to reject the null hypothesis\n",
      "14: Fail to reject the null hypothesis\n",
      "15: Fail to reject the null hypothesis\n",
      "16: Fail to reject the null hypothesis\n",
      "17: Fail to reject the null hypothesis\n",
      "18: Fail to reject the null hypothesis\n",
      "19: Fail to reject the null hypothesis\n",
      "20: Fail to reject the null hypothesis\n",
      "21: Fail to reject the null hypothesis\n",
      "22: Fail to reject the null hypothesis\n",
      "23: Fail to reject the null hypothesis\n",
      "24: Fail to reject the null hypothesis\n",
      "25: Fail to reject the null hypothesis\n",
      "26: Reject the null hypothesis\n",
      "27: Reject the null hypothesis\n",
      "28: Fail to reject the null hypothesis\n",
      "29: Fail to reject the null hypothesis\n",
      "30: Fail to reject the null hypothesis\n",
      "31: Fail to reject the null hypothesis\n",
      "32: Fail to reject the null hypothesis\n",
      "33: Fail to reject the null hypothesis\n",
      "34: Fail to reject the null hypothesis\n",
      "35: Fail to reject the null hypothesis\n",
      "36: Fail to reject the null hypothesis\n",
      "37: Fail to reject the null hypothesis\n",
      "38: Fail to reject the null hypothesis\n",
      "39: Fail to reject the null hypothesis\n",
      "40: Fail to reject the null hypothesis\n",
      "41: Fail to reject the null hypothesis\n",
      "42: Fail to reject the null hypothesis\n",
      "43: Fail to reject the null hypothesis\n",
      "44: Fail to reject the null hypothesis\n",
      "45: Fail to reject the null hypothesis\n",
      "46: Fail to reject the null hypothesis\n",
      "47: Fail to reject the null hypothesis\n",
      "48: Fail to reject the null hypothesis\n"
     ]
    }
   ],
   "source": [
    "# evaluation of result\n",
    "for x,y in enumerate(p_value):\n",
    "    if alpha > y:\n",
    "        print(str(x) + ': Reject the null hypothesis')\n",
    "    else:\n",
    "        print(str(x) + ': Fail to reject the null hypothesis')"
   ]
  },
  {
   "cell_type": "code",
   "execution_count": 34,
   "metadata": {},
   "outputs": [],
   "source": [
    "# For Region's 7, 8, 9, 10, 11, 26, 27\n",
    "territory_85014 = territoryId[7]\n",
    "territory_85251 = territoryId[8]\n",
    "territory_98004 = territoryId[9]\n",
    "territory_98052 = territoryId[10]\n",
    "territory_98104 = territoryId[11]\n",
    "territory_06897 = territoryId[26]\n",
    "territory_19713 = territoryId[27]"
   ]
  },
  {
   "cell_type": "code",
   "execution_count": 36,
   "metadata": {},
   "outputs": [
    {
     "data": {
      "text/html": [
       "<div>\n",
       "<style scoped>\n",
       "    .dataframe tbody tr th:only-of-type {\n",
       "        vertical-align: middle;\n",
       "    }\n",
       "\n",
       "    .dataframe tbody tr th {\n",
       "        vertical-align: top;\n",
       "    }\n",
       "\n",
       "    .dataframe thead th {\n",
       "        text-align: right;\n",
       "    }\n",
       "</style>\n",
       "<table border=\"1\" class=\"dataframe\">\n",
       "  <thead>\n",
       "    <tr style=\"text-align: right;\">\n",
       "      <th></th>\n",
       "      <th>TerritoryId</th>\n",
       "      <th>RegionId</th>\n",
       "      <th>EmployeeId</th>\n",
       "      <th>Region</th>\n",
       "      <th>Id</th>\n",
       "      <th>ProductId</th>\n",
       "      <th>ItemTotal</th>\n",
       "      <th>UnitPrice</th>\n",
       "      <th>Quantity</th>\n",
       "    </tr>\n",
       "  </thead>\n",
       "  <tbody>\n",
       "    <tr>\n",
       "      <th>21</th>\n",
       "      <td>85014</td>\n",
       "      <td>2</td>\n",
       "      <td>6</td>\n",
       "      <td>British_Isles</td>\n",
       "      <td>10249</td>\n",
       "      <td>14</td>\n",
       "      <td>5.120386</td>\n",
       "      <td>18.60</td>\n",
       "      <td>9</td>\n",
       "    </tr>\n",
       "    <tr>\n",
       "      <th>26</th>\n",
       "      <td>85014</td>\n",
       "      <td>2</td>\n",
       "      <td>6</td>\n",
       "      <td>British_Isles</td>\n",
       "      <td>10249</td>\n",
       "      <td>51</td>\n",
       "      <td>7.436028</td>\n",
       "      <td>42.40</td>\n",
       "      <td>40</td>\n",
       "    </tr>\n",
       "    <tr>\n",
       "      <th>209</th>\n",
       "      <td>85014</td>\n",
       "      <td>2</td>\n",
       "      <td>6</td>\n",
       "      <td>British_Isles</td>\n",
       "      <td>10264</td>\n",
       "      <td>2</td>\n",
       "      <td>6.276643</td>\n",
       "      <td>15.20</td>\n",
       "      <td>35</td>\n",
       "    </tr>\n",
       "    <tr>\n",
       "      <th>214</th>\n",
       "      <td>85014</td>\n",
       "      <td>2</td>\n",
       "      <td>6</td>\n",
       "      <td>British_Isles</td>\n",
       "      <td>10264</td>\n",
       "      <td>41</td>\n",
       "      <td>5.260096</td>\n",
       "      <td>7.70</td>\n",
       "      <td>25</td>\n",
       "    </tr>\n",
       "    <tr>\n",
       "      <th>272</th>\n",
       "      <td>85014</td>\n",
       "      <td>2</td>\n",
       "      <td>6</td>\n",
       "      <td>British_Isles</td>\n",
       "      <td>10271</td>\n",
       "      <td>33</td>\n",
       "      <td>3.871201</td>\n",
       "      <td>2.00</td>\n",
       "      <td>24</td>\n",
       "    </tr>\n",
       "    <tr>\n",
       "      <th>...</th>\n",
       "      <td>...</td>\n",
       "      <td>...</td>\n",
       "      <td>...</td>\n",
       "      <td>...</td>\n",
       "      <td>...</td>\n",
       "      <td>...</td>\n",
       "      <td>...</td>\n",
       "      <td>...</td>\n",
       "      <td>...</td>\n",
       "    </tr>\n",
       "    <tr>\n",
       "      <th>9519</th>\n",
       "      <td>85014</td>\n",
       "      <td>2</td>\n",
       "      <td>6</td>\n",
       "      <td>British_Isles</td>\n",
       "      <td>11031</td>\n",
       "      <td>24</td>\n",
       "      <td>4.548600</td>\n",
       "      <td>4.50</td>\n",
       "      <td>21</td>\n",
       "    </tr>\n",
       "    <tr>\n",
       "      <th>9524</th>\n",
       "      <td>85014</td>\n",
       "      <td>2</td>\n",
       "      <td>6</td>\n",
       "      <td>British_Isles</td>\n",
       "      <td>11031</td>\n",
       "      <td>64</td>\n",
       "      <td>6.499787</td>\n",
       "      <td>33.25</td>\n",
       "      <td>20</td>\n",
       "    </tr>\n",
       "    <tr>\n",
       "      <th>9529</th>\n",
       "      <td>85014</td>\n",
       "      <td>2</td>\n",
       "      <td>6</td>\n",
       "      <td>British_Isles</td>\n",
       "      <td>11031</td>\n",
       "      <td>71</td>\n",
       "      <td>5.840642</td>\n",
       "      <td>21.50</td>\n",
       "      <td>16</td>\n",
       "    </tr>\n",
       "    <tr>\n",
       "      <th>9682</th>\n",
       "      <td>85014</td>\n",
       "      <td>2</td>\n",
       "      <td>6</td>\n",
       "      <td>British_Isles</td>\n",
       "      <td>11045</td>\n",
       "      <td>33</td>\n",
       "      <td>3.624341</td>\n",
       "      <td>2.50</td>\n",
       "      <td>15</td>\n",
       "    </tr>\n",
       "    <tr>\n",
       "      <th>9687</th>\n",
       "      <td>85014</td>\n",
       "      <td>2</td>\n",
       "      <td>6</td>\n",
       "      <td>British_Isles</td>\n",
       "      <td>11045</td>\n",
       "      <td>51</td>\n",
       "      <td>7.148346</td>\n",
       "      <td>53.00</td>\n",
       "      <td>24</td>\n",
       "    </tr>\n",
       "  </tbody>\n",
       "</table>\n",
       "<p>168 rows × 9 columns</p>\n",
       "</div>"
      ],
      "text/plain": [
       "      TerritoryId  RegionId  EmployeeId         Region     Id  ProductId  \\\n",
       "21          85014         2           6  British_Isles  10249         14   \n",
       "26          85014         2           6  British_Isles  10249         51   \n",
       "209         85014         2           6  British_Isles  10264          2   \n",
       "214         85014         2           6  British_Isles  10264         41   \n",
       "272         85014         2           6  British_Isles  10271         33   \n",
       "...           ...       ...         ...            ...    ...        ...   \n",
       "9519        85014         2           6  British_Isles  11031         24   \n",
       "9524        85014         2           6  British_Isles  11031         64   \n",
       "9529        85014         2           6  British_Isles  11031         71   \n",
       "9682        85014         2           6  British_Isles  11045         33   \n",
       "9687        85014         2           6  British_Isles  11045         51   \n",
       "\n",
       "      ItemTotal  UnitPrice  Quantity  \n",
       "21     5.120386      18.60         9  \n",
       "26     7.436028      42.40        40  \n",
       "209    6.276643      15.20        35  \n",
       "214    5.260096       7.70        25  \n",
       "272    3.871201       2.00        24  \n",
       "...         ...        ...       ...  \n",
       "9519   4.548600       4.50        21  \n",
       "9524   6.499787      33.25        20  \n",
       "9529   5.840642      21.50        16  \n",
       "9682   3.624341       2.50        15  \n",
       "9687   7.148346      53.00        24  \n",
       "\n",
       "[168 rows x 9 columns]"
      ]
     },
     "execution_count": 36,
     "metadata": {},
     "output_type": "execute_result"
    }
   ],
   "source": [
    "territory_85014"
   ]
  },
  {
   "cell_type": "code",
   "execution_count": 37,
   "metadata": {},
   "outputs": [
    {
     "data": {
      "image/png": "[encoded data removed]",
      "text/plain": [
       "<Figure size 1440x3600 with 8 Axes>"
      ]
     },
     "metadata": {
      "needs_background": "light"
     },
     "output_type": "display_data"
    }
   ],
   "source": [
    "fig00 = plt.figure(figsize=(20,50))\n",
    "ax = fig00.add_subplot(811)\n",
    "ax1 = plt.hist(log['EmployeeId'])\n",
    "ax = fig00.add_subplot(812)\n",
    "ax2 = plt.hist(territory_85014['EmployeeId'])\n",
    "ax = fig00.add_subplot(813)\n",
    "ax3 = plt.hist(territory_85251['EmployeeId'])\n",
    "ax = fig00.add_subplot(814)\n",
    "ax4 = plt.hist(territory_98004['EmployeeId'])\n",
    "ax = fig00.add_subplot(815)\n",
    "ax5 = plt.hist(territory_98052['EmployeeId'])\n",
    "ax = fig00.add_subplot(816)\n",
    "ax6 = plt.hist(territory_98104['EmployeeId'])\n",
    "ax = fig00.add_subplot(817)\n",
    "ax7 = plt.hist(territory_06897['EmployeeId'])\n",
    "ax = fig00.add_subplot(818)\n",
    "ax8 = plt.hist(territory_19713['EmployeeId']);"
   ]
  },
  {
   "cell_type": "code",
   "execution_count": 38,
   "metadata": {},
   "outputs": [
    {
     "data": {
      "text/html": [
       "<div>\n",
       "<style scoped>\n",
       "    .dataframe tbody tr th:only-of-type {\n",
       "        vertical-align: middle;\n",
       "    }\n",
       "\n",
       "    .dataframe tbody tr th {\n",
       "        vertical-align: top;\n",
       "    }\n",
       "\n",
       "    .dataframe thead th {\n",
       "        text-align: right;\n",
       "    }\n",
       "</style>\n",
       "<table border=\"1\" class=\"dataframe\">\n",
       "  <thead>\n",
       "    <tr style=\"text-align: right;\">\n",
       "      <th></th>\n",
       "      <th>TerritoryId</th>\n",
       "      <th>RegionId</th>\n",
       "      <th>EmployeeId</th>\n",
       "      <th>Region</th>\n",
       "      <th>Id</th>\n",
       "      <th>ProductId</th>\n",
       "      <th>ItemTotal</th>\n",
       "      <th>UnitPrice</th>\n",
       "      <th>Quantity</th>\n",
       "    </tr>\n",
       "  </thead>\n",
       "  <tbody>\n",
       "    <tr>\n",
       "      <th>21</th>\n",
       "      <td>85014</td>\n",
       "      <td>2</td>\n",
       "      <td>6</td>\n",
       "      <td>British_Isles</td>\n",
       "      <td>10249</td>\n",
       "      <td>14</td>\n",
       "      <td>5.120386</td>\n",
       "      <td>18.60</td>\n",
       "      <td>9</td>\n",
       "    </tr>\n",
       "    <tr>\n",
       "      <th>26</th>\n",
       "      <td>85014</td>\n",
       "      <td>2</td>\n",
       "      <td>6</td>\n",
       "      <td>British_Isles</td>\n",
       "      <td>10249</td>\n",
       "      <td>51</td>\n",
       "      <td>7.436028</td>\n",
       "      <td>42.40</td>\n",
       "      <td>40</td>\n",
       "    </tr>\n",
       "    <tr>\n",
       "      <th>209</th>\n",
       "      <td>85014</td>\n",
       "      <td>2</td>\n",
       "      <td>6</td>\n",
       "      <td>British_Isles</td>\n",
       "      <td>10264</td>\n",
       "      <td>2</td>\n",
       "      <td>6.276643</td>\n",
       "      <td>15.20</td>\n",
       "      <td>35</td>\n",
       "    </tr>\n",
       "    <tr>\n",
       "      <th>214</th>\n",
       "      <td>85014</td>\n",
       "      <td>2</td>\n",
       "      <td>6</td>\n",
       "      <td>British_Isles</td>\n",
       "      <td>10264</td>\n",
       "      <td>41</td>\n",
       "      <td>5.260096</td>\n",
       "      <td>7.70</td>\n",
       "      <td>25</td>\n",
       "    </tr>\n",
       "    <tr>\n",
       "      <th>272</th>\n",
       "      <td>85014</td>\n",
       "      <td>2</td>\n",
       "      <td>6</td>\n",
       "      <td>British_Isles</td>\n",
       "      <td>10271</td>\n",
       "      <td>33</td>\n",
       "      <td>3.871201</td>\n",
       "      <td>2.00</td>\n",
       "      <td>24</td>\n",
       "    </tr>\n",
       "    <tr>\n",
       "      <th>...</th>\n",
       "      <td>...</td>\n",
       "      <td>...</td>\n",
       "      <td>...</td>\n",
       "      <td>...</td>\n",
       "      <td>...</td>\n",
       "      <td>...</td>\n",
       "      <td>...</td>\n",
       "      <td>...</td>\n",
       "      <td>...</td>\n",
       "    </tr>\n",
       "    <tr>\n",
       "      <th>10120</th>\n",
       "      <td>19713</td>\n",
       "      <td>1</td>\n",
       "      <td>1</td>\n",
       "      <td>North_America</td>\n",
       "      <td>11077</td>\n",
       "      <td>64</td>\n",
       "      <td>4.197202</td>\n",
       "      <td>33.25</td>\n",
       "      <td>2</td>\n",
       "    </tr>\n",
       "    <tr>\n",
       "      <th>10122</th>\n",
       "      <td>19713</td>\n",
       "      <td>1</td>\n",
       "      <td>1</td>\n",
       "      <td>North_America</td>\n",
       "      <td>11077</td>\n",
       "      <td>66</td>\n",
       "      <td>2.833213</td>\n",
       "      <td>17.00</td>\n",
       "      <td>1</td>\n",
       "    </tr>\n",
       "    <tr>\n",
       "      <th>10124</th>\n",
       "      <td>19713</td>\n",
       "      <td>1</td>\n",
       "      <td>1</td>\n",
       "      <td>North_America</td>\n",
       "      <td>11077</td>\n",
       "      <td>73</td>\n",
       "      <td>3.401197</td>\n",
       "      <td>15.00</td>\n",
       "      <td>2</td>\n",
       "    </tr>\n",
       "    <tr>\n",
       "      <th>10126</th>\n",
       "      <td>19713</td>\n",
       "      <td>1</td>\n",
       "      <td>1</td>\n",
       "      <td>North_America</td>\n",
       "      <td>11077</td>\n",
       "      <td>75</td>\n",
       "      <td>3.433987</td>\n",
       "      <td>7.75</td>\n",
       "      <td>4</td>\n",
       "    </tr>\n",
       "    <tr>\n",
       "      <th>10128</th>\n",
       "      <td>19713</td>\n",
       "      <td>1</td>\n",
       "      <td>1</td>\n",
       "      <td>North_America</td>\n",
       "      <td>11077</td>\n",
       "      <td>77</td>\n",
       "      <td>3.258097</td>\n",
       "      <td>13.00</td>\n",
       "      <td>2</td>\n",
       "    </tr>\n",
       "  </tbody>\n",
       "</table>\n",
       "<p>1530 rows × 9 columns</p>\n",
       "</div>"
      ],
      "text/plain": [
       "       TerritoryId  RegionId  EmployeeId         Region     Id  ProductId  \\\n",
       "21           85014         2           6  British_Isles  10249         14   \n",
       "26           85014         2           6  British_Isles  10249         51   \n",
       "209          85014         2           6  British_Isles  10264          2   \n",
       "214          85014         2           6  British_Isles  10264         41   \n",
       "272          85014         2           6  British_Isles  10271         33   \n",
       "...            ...       ...         ...            ...    ...        ...   \n",
       "10120        19713         1           1  North_America  11077         64   \n",
       "10122        19713         1           1  North_America  11077         66   \n",
       "10124        19713         1           1  North_America  11077         73   \n",
       "10126        19713         1           1  North_America  11077         75   \n",
       "10128        19713         1           1  North_America  11077         77   \n",
       "\n",
       "       ItemTotal  UnitPrice  Quantity  \n",
       "21      5.120386      18.60         9  \n",
       "26      7.436028      42.40        40  \n",
       "209     6.276643      15.20        35  \n",
       "214     5.260096       7.70        25  \n",
       "272     3.871201       2.00        24  \n",
       "...          ...        ...       ...  \n",
       "10120   4.197202      33.25         2  \n",
       "10122   2.833213      17.00         1  \n",
       "10124   3.401197      15.00         2  \n",
       "10126   3.433987       7.75         4  \n",
       "10128   3.258097      13.00         2  \n",
       "\n",
       "[1530 rows x 9 columns]"
      ]
     },
     "execution_count": 38,
     "metadata": {},
     "output_type": "execute_result"
    }
   ],
   "source": [
    "data_to_join = [territory_85014, territory_85251, territory_98004, territory_98052, \n",
    "                territory_98104, territory_06897, territory_19713]\n",
    "different = pd.concat(data_to_join)\n",
    "different"
   ]
  },
  {
   "cell_type": "code",
   "execution_count": 39,
   "metadata": {},
   "outputs": [
    {
     "data": {
      "text/plain": [
       "0     01581\n",
       "1     01730\n",
       "2     01833\n",
       "3     02116\n",
       "4     02139\n",
       "5     02184\n",
       "6     02903\n",
       "7     03049\n",
       "8     03801\n",
       "9     06897\n",
       "10    07960\n",
       "11    08837\n",
       "12    10019\n",
       "13    10038\n",
       "14    11747\n",
       "15    14450\n",
       "16    19428\n",
       "17    19713\n",
       "18    20852\n",
       "19    27403\n",
       "20    27511\n",
       "21    29202\n",
       "22    30346\n",
       "23    31406\n",
       "24    32859\n",
       "25    33607\n",
       "26    40222\n",
       "27    44122\n",
       "28    45839\n",
       "29    48075\n",
       "30    48084\n",
       "31    48304\n",
       "32    53404\n",
       "33    55113\n",
       "34    55439\n",
       "35    60179\n",
       "36    60601\n",
       "37    72716\n",
       "38    75234\n",
       "39    78759\n",
       "40    80202\n",
       "41    80909\n",
       "42    85014\n",
       "43    85251\n",
       "44    90405\n",
       "45    94025\n",
       "46    94105\n",
       "47    95008\n",
       "48    95054\n",
       "49    95060\n",
       "50    98004\n",
       "51    98052\n",
       "52    98104\n",
       "Name: Id, dtype: object"
      ]
     },
     "execution_count": 39,
     "metadata": {},
     "output_type": "execute_result"
    }
   ],
   "source": [
    "territory['Id']"
   ]
  },
  {
   "cell_type": "code",
   "execution_count": 40,
   "metadata": {},
   "outputs": [
    {
     "data": {
      "text/plain": [
       "[42    Phoenix\n",
       " Name: TerritoryDescription, dtype: object, 43    Scottsdale\n",
       " Name: TerritoryDescription, dtype: object, 50    Bellevue\n",
       " Name: TerritoryDescription, dtype: object, 51    Redmond\n",
       " Name: TerritoryDescription, dtype: object, 52    Seattle\n",
       " Name: TerritoryDescription, dtype: object, 9    Wilton\n",
       " Name: TerritoryDescription, dtype: object, 17    Neward\n",
       " Name: TerritoryDescription, dtype: object]"
      ]
     },
     "execution_count": 40,
     "metadata": {},
     "output_type": "execute_result"
    }
   ],
   "source": [
    "successful_territories = []\n",
    "successful_territories.append(territory[territory['Id'] == '85014']['TerritoryDescription'])\n",
    "successful_territories.append(territory[territory['Id'] == '85251']['TerritoryDescription'])\n",
    "successful_territories.append(territory[territory['Id'] == '98004']['TerritoryDescription'])\n",
    "successful_territories.append(territory[territory['Id'] == '98052']['TerritoryDescription'])\n",
    "successful_territories.append(territory[territory['Id'] == '98104']['TerritoryDescription'])\n",
    "successful_territories.append(territory[territory['Id'] == '06897']['TerritoryDescription'])\n",
    "successful_territories.append(territory[territory['Id'] == '19713']['TerritoryDescription'])\n",
    "successful_territories"
   ]
  },
  {
   "cell_type": "code",
   "execution_count": 41,
   "metadata": {},
   "outputs": [
    {
     "data": {
      "text/plain": [
       "7"
      ]
     },
     "execution_count": 41,
     "metadata": {},
     "output_type": "execute_result"
    }
   ],
   "source": [
    "successful_cities = ['Phoenix', 'Scottsdale', 'Bellevue', 'Redmond', 'Seattle', 'Wilton', 'Neward']\n",
    "len(successful_cities)"
   ]
  },
  {
   "cell_type": "code",
   "execution_count": 42,
   "metadata": {},
   "outputs": [
    {
     "data": {
      "text/html": [
       "<div style=\"width:100%;\"><div style=\"position:relative;width:100%;height:0;padding-bottom:60%;\"><iframe src=\"data:text/html;charset=utf-8;base64,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\" style=\"position:absolute;width:100%;height:100%;left:0;top:0;border:none !important;\" allowfullscreen webkitallowfullscreen mozallowfullscreen></iframe></div></div>"
      ],
      "text/plain": [
       "<folium.folium.Map at 0x25eee230dd8>"
      ]
     },
     "execution_count": 42,
     "metadata": {},
     "output_type": "execute_result"
    }
   ],
   "source": [
    "# map regions\n",
    "successful_zips = [(33.448376,-112.074036), (33.494171,-111.926048), (47.610149,-122.201515), (47.673988,-122.121513),\n",
    "                   (47.606209,-122.332069), (54.235130,-0.682000), (55.487810,-4.602750)]\n",
    "\n",
    "# map generation\n",
    "successful_zip_map = folium.Map(location=(59.136499, -27.829387), zoom_start = 2)\n",
    "\n",
    "# addition of significant zipcode data\n",
    "popup_phoenix = 'Phoenix'\n",
    "marker_phoenix = folium.Marker(successful_zips[0], popup=popup_phoenix, icon=folium.Icon(color='green'))\n",
    "popup_scottsdale = 'Scottsdale'\n",
    "marker_scottsdale = folium.Marker(successful_zips[1], popup=popup_scottsdale, icon=folium.Icon(color='green'))\n",
    "popup_Bellevue = 'Bellevue'\n",
    "marker_Bellevue = folium.Marker(successful_zips[2], popup=popup_Bellevue, icon=folium.Icon(color='green'))\n",
    "popup_Redmond = 'Redmond'\n",
    "marker_Redmond = folium.Marker(successful_zips[3], popup=popup_Redmond, icon=folium.Icon(color='green'))\n",
    "popup_Seattle = 'Seattle'\n",
    "marker_Seattle = folium.Marker(successful_zips[4], popup=popup_Seattle, icon=folium.Icon(color='green'))\n",
    "popup_Wilton = 'Wilton'\n",
    "marker_Wilton = folium.Marker(successful_zips[5], popup=popup_Wilton, icon=folium.Icon(color='green'))\n",
    "popup_Neward = 'Bellevue'\n",
    "marker_Neward = folium.Marker(successful_zips[6], popup=popup_Neward, icon=folium.Icon(color='green'))\n",
    "\n",
    "# populate zipcode data onto map\n",
    "successful_zip_map.add_child(marker_phoenix)\n",
    "successful_zip_map.add_child(marker_scottsdale)\n",
    "successful_zip_map.add_child(marker_Bellevue)\n",
    "successful_zip_map.add_child(marker_Redmond)\n",
    "successful_zip_map.add_child(marker_Seattle)\n",
    "successful_zip_map.add_child(marker_Wilton)\n",
    "successful_zip_map.add_child(marker_Neward)\n",
    "\n",
    "#save map\n",
    "successful_zip_map.save('locations where item total is higher than everywhere else.html')\n",
    "\n",
    "# display map\n",
    "successful_zip_map"
   ]
  },
  {
   "cell_type": "code",
   "execution_count": 43,
   "metadata": {},
   "outputs": [
    {
     "data": {
      "text/html": [
       "<div>\n",
       "<style scoped>\n",
       "    .dataframe tbody tr th:only-of-type {\n",
       "        vertical-align: middle;\n",
       "    }\n",
       "\n",
       "    .dataframe tbody tr th {\n",
       "        vertical-align: top;\n",
       "    }\n",
       "\n",
       "    .dataframe thead th {\n",
       "        text-align: right;\n",
       "    }\n",
       "</style>\n",
       "<table border=\"1\" class=\"dataframe\">\n",
       "  <thead>\n",
       "    <tr style=\"text-align: right;\">\n",
       "      <th></th>\n",
       "      <th>df</th>\n",
       "      <th>sum_sq</th>\n",
       "      <th>mean_sq</th>\n",
       "      <th>F</th>\n",
       "      <th>PR(&gt;F)</th>\n",
       "    </tr>\n",
       "  </thead>\n",
       "  <tbody>\n",
       "    <tr>\n",
       "      <th>TerritoryId</th>\n",
       "      <td>1.0</td>\n",
       "      <td>0.671189</td>\n",
       "      <td>0.671189</td>\n",
       "      <td>0.505824</td>\n",
       "      <td>0.477061</td>\n",
       "    </tr>\n",
       "    <tr>\n",
       "      <th>RegionId</th>\n",
       "      <td>1.0</td>\n",
       "      <td>0.017344</td>\n",
       "      <td>0.017344</td>\n",
       "      <td>0.013071</td>\n",
       "      <td>0.908992</td>\n",
       "    </tr>\n",
       "    <tr>\n",
       "      <th>EmployeeId</th>\n",
       "      <td>1.0</td>\n",
       "      <td>1.563854</td>\n",
       "      <td>1.563854</td>\n",
       "      <td>1.178556</td>\n",
       "      <td>0.277821</td>\n",
       "    </tr>\n",
       "    <tr>\n",
       "      <th>Residual</th>\n",
       "      <td>1527.0</td>\n",
       "      <td>2026.211658</td>\n",
       "      <td>1.326923</td>\n",
       "      <td>NaN</td>\n",
       "      <td>NaN</td>\n",
       "    </tr>\n",
       "  </tbody>\n",
       "</table>\n",
       "</div>"
      ],
      "text/plain": [
       "                 df       sum_sq   mean_sq         F    PR(>F)\n",
       "TerritoryId     1.0     0.671189  0.671189  0.505824  0.477061\n",
       "RegionId        1.0     0.017344  0.017344  0.013071  0.908992\n",
       "EmployeeId      1.0     1.563854  1.563854  1.178556  0.277821\n",
       "Residual     1527.0  2026.211658  1.326923       NaN       NaN"
      ]
     },
     "execution_count": 43,
     "metadata": {},
     "output_type": "execute_result"
    }
   ],
   "source": [
    "sm.stats.anova_lm(ols('ItemTotal ~ TerritoryId + RegionId + EmployeeId', data=different).fit())"
   ]
  },
  {
   "cell_type": "markdown",
   "metadata": {},
   "source": [
    "Summarize results and determine next steps. Might include verification of sample size, error types, non-parametric testing, or a deepening of understanding\n",
    "\n",
    "### Verification techniques\n",
    "#### Non-parametric testing"
   ]
  },
  {
   "cell_type": "code",
   "execution_count": 44,
   "metadata": {},
   "outputs": [],
   "source": [
    "# non-parametric testing variables\n",
    "pass"
   ]
  },
  {
   "cell_type": "code",
   "execution_count": 45,
   "metadata": {},
   "outputs": [],
   "source": [
    "# non-parametric test\n",
    "pass"
   ]
  },
  {
   "cell_type": "code",
   "execution_count": 46,
   "metadata": {},
   "outputs": [],
   "source": [
    "# result\n",
    "pass"
   ]
  },
  {
   "cell_type": "code",
   "execution_count": 47,
   "metadata": {},
   "outputs": [],
   "source": [
    "# evaluation of results\n",
    "pass"
   ]
  },
  {
   "cell_type": "markdown",
   "metadata": {},
   "source": [
    "Oberservations based on new finding"
   ]
  },
  {
   "cell_type": "markdown",
   "metadata": {},
   "source": [
    "#### Confirmatory Testing"
   ]
  },
  {
   "cell_type": "code",
   "execution_count": 48,
   "metadata": {},
   "outputs": [],
   "source": [
    "# confirmatory test \n",
    "pass"
   ]
  },
  {
   "cell_type": "markdown",
   "metadata": {},
   "source": [
    "Oberservations based on new finding\n",
    "\n",
    "#### Effect size"
   ]
  },
  {
   "cell_type": "code",
   "execution_count": 49,
   "metadata": {},
   "outputs": [],
   "source": [
    "# effect size variables\n",
    "pass"
   ]
  },
  {
   "cell_type": "code",
   "execution_count": 50,
   "metadata": {},
   "outputs": [],
   "source": [
    "# effect size test\n",
    "def cohen_d_one_samp(x, mu0):\n",
    "    mu = mean(x)\n",
    "    sample_std = std(x, ddof=1)\n",
    "    return (mu - mu0) / sample_std\n",
    "def cohen_d_two_samp(x,y):\n",
    "    nx = len(x)\n",
    "    ny = len(y)\n",
    "    dof = nx + ny - 2\n",
    "    return (mean(x) - mean(y)) / sqrt(((nx-1)*std(x, ddof=1) ** 2 + (ny-1)*std(y, ddof=1) ** 2) / dof)\n",
    "# effect_size = cohen_d_two_samp('', '')\n",
    "# effect_size"
   ]
  },
  {
   "cell_type": "markdown",
   "metadata": {},
   "source": [
    "Obeservations about effect size\n",
    "\n",
    "#### Power and error"
   ]
  },
  {
   "cell_type": "code",
   "execution_count": 51,
   "metadata": {},
   "outputs": [],
   "source": [
    "# power variables\n",
    "pass"
   ]
  },
  {
   "cell_type": "code",
   "execution_count": 52,
   "metadata": {},
   "outputs": [],
   "source": [
    "# power test"
   ]
  },
  {
   "cell_type": "code",
   "execution_count": 53,
   "metadata": {},
   "outputs": [],
   "source": [
    "# evaluation of power test"
   ]
  },
  {
   "cell_type": "markdown",
   "metadata": {},
   "source": [
    "Observations about power test"
   ]
  },
  {
   "cell_type": "markdown",
   "metadata": {},
   "source": [
    "### Cross validatation"
   ]
  },
  {
   "cell_type": "code",
   "execution_count": 54,
   "metadata": {},
   "outputs": [],
   "source": [
    "# test train split or resampling for testing preformed above\n",
    "pass"
   ]
  },
  {
   "cell_type": "markdown",
   "metadata": {},
   "source": [
    "### Extension of acquired knowledge\n",
    "#### Deeper question\n",
    "#### Hypothesis for deeper question"
   ]
  },
  {
   "cell_type": "code",
   "execution_count": 55,
   "metadata": {},
   "outputs": [],
   "source": [
    "# deeper understanding variables\n",
    "pass"
   ]
  },
  {
   "cell_type": "code",
   "execution_count": 56,
   "metadata": {},
   "outputs": [],
   "source": [
    "# deeper understanding test\n",
    "pass"
   ]
  },
  {
   "cell_type": "code",
   "execution_count": 57,
   "metadata": {},
   "outputs": [],
   "source": [
    "# deeper understanding result\n",
    "pass"
   ]
  },
  {
   "cell_type": "code",
   "execution_count": 58,
   "metadata": {},
   "outputs": [],
   "source": [
    "# deeper understanding evaluation of result\n",
    "pass"
   ]
  },
  {
   "cell_type": "markdown",
   "metadata": {},
   "source": [
    "Observations based off of deeper understanding test"
   ]
  },
  {
   "cell_type": "markdown",
   "metadata": {},
   "source": [
    "# Interpret\n",
    "\n",
    "Conclusions about question overall commentary on hypothesis"
   ]
  },
  {
   "cell_type": "markdown",
   "metadata": {},
   "source": [
    "### Additional visualizations"
   ]
  },
  {
   "cell_type": "code",
   "execution_count": 59,
   "metadata": {},
   "outputs": [
    {
     "data": {
      "text/plain": [
       "<matplotlib.axes._subplots.AxesSubplot at 0x25eee78aef0>"
      ]
     },
     "execution_count": 59,
     "metadata": {},
     "output_type": "execute_result"
    },
    {
     "data": {
      "image/png": "[encoded data removed]",
      "text/plain": [
       "<Figure size 432x288 with 1 Axes>"
      ]
     },
     "metadata": {
      "needs_background": "light"
     },
     "output_type": "display_data"
    }
   ],
   "source": [
    "# visual for blah blah blah\n",
    "df[df['TerritoryId'] == 85014]['ItemTotal'].hist()"
   ]
  },
  {
   "cell_type": "code",
   "execution_count": 60,
   "metadata": {},
   "outputs": [
    {
     "data": {
      "text/plain": [
       "<matplotlib.axes._subplots.AxesSubplot at 0x25eee78ada0>"
      ]
     },
     "execution_count": 60,
     "metadata": {},
     "output_type": "execute_result"
    },
    {
     "data": {
      "image/png": "[encoded data removed]",
      "text/plain": [
       "<Figure size 432x288 with 1 Axes>"
      ]
     },
     "metadata": {
      "needs_background": "light"
     },
     "output_type": "display_data"
    }
   ],
   "source": [
    "df[df['TerritoryId'] == 85251]['ItemTotal'].hist()"
   ]
  },
  {
   "cell_type": "code",
   "execution_count": 61,
   "metadata": {},
   "outputs": [
    {
     "data": {
      "text/plain": [
       "<matplotlib.axes._subplots.AxesSubplot at 0x25eee0dd898>"
      ]
     },
     "execution_count": 61,
     "metadata": {},
     "output_type": "execute_result"
    },
    {
     "data": {
      "image/png": "[encoded data removed]",
      "text/plain": [
       "<Figure size 432x288 with 1 Axes>"
      ]
     },
     "metadata": {
      "needs_background": "light"
     },
     "output_type": "display_data"
    }
   ],
   "source": [
    "df[df['TerritoryId'] == 98004]['ItemTotal'].hist()"
   ]
  },
  {
   "cell_type": "code",
   "execution_count": 62,
   "metadata": {},
   "outputs": [
    {
     "data": {
      "text/plain": [
       "<matplotlib.axes._subplots.AxesSubplot at 0x25eee0dde48>"
      ]
     },
     "execution_count": 62,
     "metadata": {},
     "output_type": "execute_result"
    },
    {
     "data": {
      "image/png": "[encoded data removed]",
      "text/plain": [
       "<Figure size 432x288 with 1 Axes>"
      ]
     },
     "metadata": {
      "needs_background": "light"
     },
     "output_type": "display_data"
    }
   ],
   "source": [
    "df[df['TerritoryId'] == 98052]['ItemTotal'].hist()"
   ]
  },
  {
   "cell_type": "code",
   "execution_count": 63,
   "metadata": {},
   "outputs": [
    {
     "data": {
      "text/plain": [
       "<matplotlib.axes._subplots.AxesSubplot at 0x25eee6d1860>"
      ]
     },
     "execution_count": 63,
     "metadata": {},
     "output_type": "execute_result"
    },
    {
     "data": {
      "image/png": "[encoded data removed]",
      "text/plain": [
       "<Figure size 432x288 with 1 Axes>"
      ]
     },
     "metadata": {
      "needs_background": "light"
     },
     "output_type": "display_data"
    }
   ],
   "source": [
    "df[df['TerritoryId'] == 98104]['ItemTotal'].hist()"
   ]
  },
  {
   "cell_type": "code",
   "execution_count": 64,
   "metadata": {},
   "outputs": [
    {
     "data": {
      "text/plain": [
       "<matplotlib.axes._subplots.AxesSubplot at 0x25eee6f7978>"
      ]
     },
     "execution_count": 64,
     "metadata": {},
     "output_type": "execute_result"
    },
    {
     "data": {
      "image/png": "[encoded data removed]",
      "text/plain": [
       "<Figure size 432x288 with 1 Axes>"
      ]
     },
     "metadata": {
      "needs_background": "light"
     },
     "output_type": "display_data"
    }
   ],
   "source": [
    "df[df['TerritoryId'] == 6897]['ItemTotal'].hist()"
   ]
  },
  {
   "cell_type": "code",
   "execution_count": 65,
   "metadata": {},
   "outputs": [
    {
     "data": {
      "text/plain": [
       "<matplotlib.axes._subplots.AxesSubplot at 0x25eee2b21d0>"
      ]
     },
     "execution_count": 65,
     "metadata": {},
     "output_type": "execute_result"
    },
    {
     "data": {
      "image/png": "[encoded data removed]",
      "text/plain": [
       "<Figure size 432x288 with 1 Axes>"
      ]
     },
     "metadata": {
      "needs_background": "light"
     },
     "output_type": "display_data"
    }
   ],
   "source": [
    "df[df['TerritoryId'] == 19713]['ItemTotal'].hist()"
   ]
  },
  {
   "cell_type": "code",
   "execution_count": 66,
   "metadata": {},
   "outputs": [
    {
     "data": {
      "text/html": [
       "<div>\n",
       "<style scoped>\n",
       "    .dataframe tbody tr th:only-of-type {\n",
       "        vertical-align: middle;\n",
       "    }\n",
       "\n",
       "    .dataframe tbody tr th {\n",
       "        vertical-align: top;\n",
       "    }\n",
       "\n",
       "    .dataframe thead th {\n",
       "        text-align: right;\n",
       "    }\n",
       "</style>\n",
       "<table border=\"1\" class=\"dataframe\">\n",
       "  <thead>\n",
       "    <tr style=\"text-align: right;\">\n",
       "      <th></th>\n",
       "      <th>Id</th>\n",
       "      <th>LastName</th>\n",
       "      <th>FirstName</th>\n",
       "      <th>Title</th>\n",
       "      <th>TitleOfCourtesy</th>\n",
       "      <th>BirthDate</th>\n",
       "      <th>HireDate</th>\n",
       "      <th>Address</th>\n",
       "      <th>City</th>\n",
       "      <th>Region</th>\n",
       "      <th>PostalCode</th>\n",
       "      <th>Country</th>\n",
       "      <th>HomePhone</th>\n",
       "      <th>Extension</th>\n",
       "      <th>Photo</th>\n",
       "      <th>Notes</th>\n",
       "      <th>ReportsTo</th>\n",
       "      <th>PhotoPath</th>\n",
       "    </tr>\n",
       "  </thead>\n",
       "  <tbody>\n",
       "    <tr>\n",
       "      <th>5</th>\n",
       "      <td>6</td>\n",
       "      <td>Suyama</td>\n",
       "      <td>Michael</td>\n",
       "      <td>Sales Representative</td>\n",
       "      <td>Mr.</td>\n",
       "      <td>1995-07-02</td>\n",
       "      <td>2025-10-17</td>\n",
       "      <td>Coventry House Miner Rd.</td>\n",
       "      <td>London</td>\n",
       "      <td>British Isles</td>\n",
       "      <td>EC2 7JR</td>\n",
       "      <td>UK</td>\n",
       "      <td>(71) 555-7773</td>\n",
       "      <td>428</td>\n",
       "      <td>None</td>\n",
       "      <td>Michael is a graduate of Sussex University (MA...</td>\n",
       "      <td>5.0</td>\n",
       "      <td>http://accweb/emmployees/davolio.bmp</td>\n",
       "    </tr>\n",
       "  </tbody>\n",
       "</table>\n",
       "</div>"
      ],
      "text/plain": [
       "   Id LastName FirstName                 Title TitleOfCourtesy   BirthDate  \\\n",
       "5   6   Suyama   Michael  Sales Representative             Mr.  1995-07-02   \n",
       "\n",
       "     HireDate                   Address    City         Region PostalCode  \\\n",
       "5  2025-10-17  Coventry House Miner Rd.  London  British Isles    EC2 7JR   \n",
       "\n",
       "  Country      HomePhone Extension Photo  \\\n",
       "5      UK  (71) 555-7773       428  None   \n",
       "\n",
       "                                               Notes  ReportsTo  \\\n",
       "5  Michael is a graduate of Sussex University (MA...        5.0   \n",
       "\n",
       "                              PhotoPath  \n",
       "5  http://accweb/emmployees/davolio.bmp  "
      ]
     },
     "execution_count": 66,
     "metadata": {},
     "output_type": "execute_result"
    }
   ],
   "source": [
    "employee[employee['Id'] == 6]"
   ]
  },
  {
   "cell_type": "code",
   "execution_count": 67,
   "metadata": {},
   "outputs": [
    {
     "data": {
      "text/html": [
       "<div>\n",
       "<style scoped>\n",
       "    .dataframe tbody tr th:only-of-type {\n",
       "        vertical-align: middle;\n",
       "    }\n",
       "\n",
       "    .dataframe tbody tr th {\n",
       "        vertical-align: top;\n",
       "    }\n",
       "\n",
       "    .dataframe thead th {\n",
       "        text-align: right;\n",
       "    }\n",
       "</style>\n",
       "<table border=\"1\" class=\"dataframe\">\n",
       "  <thead>\n",
       "    <tr style=\"text-align: right;\">\n",
       "      <th></th>\n",
       "      <th>Id</th>\n",
       "      <th>LastName</th>\n",
       "      <th>FirstName</th>\n",
       "      <th>Title</th>\n",
       "      <th>TitleOfCourtesy</th>\n",
       "      <th>BirthDate</th>\n",
       "      <th>HireDate</th>\n",
       "      <th>Address</th>\n",
       "      <th>City</th>\n",
       "      <th>Region</th>\n",
       "      <th>PostalCode</th>\n",
       "      <th>Country</th>\n",
       "      <th>HomePhone</th>\n",
       "      <th>Extension</th>\n",
       "      <th>Photo</th>\n",
       "      <th>Notes</th>\n",
       "      <th>ReportsTo</th>\n",
       "      <th>PhotoPath</th>\n",
       "    </tr>\n",
       "  </thead>\n",
       "  <tbody>\n",
       "    <tr>\n",
       "      <th>0</th>\n",
       "      <td>1</td>\n",
       "      <td>Davolio</td>\n",
       "      <td>Nancy</td>\n",
       "      <td>Sales Representative</td>\n",
       "      <td>Ms.</td>\n",
       "      <td>1980-12-08</td>\n",
       "      <td>2024-05-01</td>\n",
       "      <td>507 - 20th Ave. E. Apt. 2A</td>\n",
       "      <td>Seattle</td>\n",
       "      <td>North America</td>\n",
       "      <td>98122</td>\n",
       "      <td>USA</td>\n",
       "      <td>(206) 555-9857</td>\n",
       "      <td>5467</td>\n",
       "      <td>None</td>\n",
       "      <td>Education includes a BA in psychology from Col...</td>\n",
       "      <td>2.0</td>\n",
       "      <td>http://accweb/emmployees/davolio.bmp</td>\n",
       "    </tr>\n",
       "  </tbody>\n",
       "</table>\n",
       "</div>"
      ],
      "text/plain": [
       "   Id LastName FirstName                 Title TitleOfCourtesy   BirthDate  \\\n",
       "0   1  Davolio     Nancy  Sales Representative             Ms.  1980-12-08   \n",
       "\n",
       "     HireDate                     Address     City         Region PostalCode  \\\n",
       "0  2024-05-01  507 - 20th Ave. E. Apt. 2A  Seattle  North America      98122   \n",
       "\n",
       "  Country       HomePhone Extension Photo  \\\n",
       "0     USA  (206) 555-9857      5467  None   \n",
       "\n",
       "                                               Notes  ReportsTo  \\\n",
       "0  Education includes a BA in psychology from Col...        2.0   \n",
       "\n",
       "                              PhotoPath  \n",
       "0  http://accweb/emmployees/davolio.bmp  "
      ]
     },
     "execution_count": 67,
     "metadata": {},
     "output_type": "execute_result"
    }
   ],
   "source": [
    "employee[employee['Id'] == 1]"
   ]
  },
  {
   "cell_type": "code",
   "execution_count": 68,
   "metadata": {},
   "outputs": [],
   "source": [
    "employee_work = df.groupby(['EmployeeId', 'Id', 'ProductId']).mean()"
   ]
  },
  {
   "cell_type": "code",
   "execution_count": 69,
   "metadata": {},
   "outputs": [],
   "source": [
    "employee_id = df['EmployeeId'].unique()"
   ]
  },
  {
   "cell_type": "code",
   "execution_count": 70,
   "metadata": {},
   "outputs": [
    {
     "data": {
      "text/plain": [
       "Index(['TerritoryId', 'RegionId', 'ItemTotal', 'UnitPrice', 'Quantity'], dtype='object')"
      ]
     },
     "execution_count": 70,
     "metadata": {},
     "output_type": "execute_result"
    }
   ],
   "source": [
    "employee_work.columns"
   ]
  },
  {
   "cell_type": "code",
   "execution_count": 71,
   "metadata": {},
   "outputs": [
    {
     "data": {
      "text/plain": [
       "MultiIndex([(1, 10258,  2),\n",
       "            (1, 10258,  5),\n",
       "            (1, 10258, 32),\n",
       "            (1, 10270, 36),\n",
       "            (1, 10270, 43),\n",
       "            (1, 10275, 24),\n",
       "            (1, 10275, 59),\n",
       "            (1, 10285,  1),\n",
       "            (1, 10285, 40),\n",
       "            (1, 10285, 53),\n",
       "            ...\n",
       "            (9, 11016, 31),\n",
       "            (9, 11016, 36),\n",
       "            (9, 11017,  3),\n",
       "            (9, 11017, 59),\n",
       "            (9, 11017, 70),\n",
       "            (9, 11022, 19),\n",
       "            (9, 11022, 69),\n",
       "            (9, 11058, 21),\n",
       "            (9, 11058, 60),\n",
       "            (9, 11058, 61)],\n",
       "           names=['EmployeeId', 'Id', 'ProductId'], length=2155)"
      ]
     },
     "execution_count": 71,
     "metadata": {},
     "output_type": "execute_result"
    }
   ],
   "source": [
    "employee_work.index"
   ]
  },
  {
   "cell_type": "code",
   "execution_count": 72,
   "metadata": {},
   "outputs": [
    {
     "data": {
      "text/html": [
       "<div>\n",
       "<style scoped>\n",
       "    .dataframe tbody tr th:only-of-type {\n",
       "        vertical-align: middle;\n",
       "    }\n",
       "\n",
       "    .dataframe tbody tr th {\n",
       "        vertical-align: top;\n",
       "    }\n",
       "\n",
       "    .dataframe thead th {\n",
       "        text-align: right;\n",
       "    }\n",
       "</style>\n",
       "<table border=\"1\" class=\"dataframe\">\n",
       "  <thead>\n",
       "    <tr style=\"text-align: right;\">\n",
       "      <th></th>\n",
       "      <th></th>\n",
       "      <th>TerritoryId</th>\n",
       "      <th>RegionId</th>\n",
       "      <th>ItemTotal</th>\n",
       "      <th>UnitPrice</th>\n",
       "      <th>Quantity</th>\n",
       "    </tr>\n",
       "    <tr>\n",
       "      <th>Id</th>\n",
       "      <th>ProductId</th>\n",
       "      <th></th>\n",
       "      <th></th>\n",
       "      <th></th>\n",
       "      <th></th>\n",
       "      <th></th>\n",
       "    </tr>\n",
       "  </thead>\n",
       "  <tbody>\n",
       "    <tr>\n",
       "      <th rowspan=\"3\" valign=\"top\">10258</th>\n",
       "      <th>2</th>\n",
       "      <td>13305.0</td>\n",
       "      <td>1</td>\n",
       "      <td>760.0</td>\n",
       "      <td>15.20</td>\n",
       "      <td>50</td>\n",
       "    </tr>\n",
       "    <tr>\n",
       "      <th>5</th>\n",
       "      <td>13305.0</td>\n",
       "      <td>1</td>\n",
       "      <td>1105.0</td>\n",
       "      <td>17.00</td>\n",
       "      <td>65</td>\n",
       "    </tr>\n",
       "    <tr>\n",
       "      <th>32</th>\n",
       "      <td>13305.0</td>\n",
       "      <td>1</td>\n",
       "      <td>153.6</td>\n",
       "      <td>25.60</td>\n",
       "      <td>6</td>\n",
       "    </tr>\n",
       "    <tr>\n",
       "      <th rowspan=\"2\" valign=\"top\">10270</th>\n",
       "      <th>36</th>\n",
       "      <td>13305.0</td>\n",
       "      <td>1</td>\n",
       "      <td>456.0</td>\n",
       "      <td>15.20</td>\n",
       "      <td>30</td>\n",
       "    </tr>\n",
       "    <tr>\n",
       "      <th>43</th>\n",
       "      <td>13305.0</td>\n",
       "      <td>1</td>\n",
       "      <td>920.0</td>\n",
       "      <td>36.80</td>\n",
       "      <td>25</td>\n",
       "    </tr>\n",
       "    <tr>\n",
       "      <th>...</th>\n",
       "      <th>...</th>\n",
       "      <td>...</td>\n",
       "      <td>...</td>\n",
       "      <td>...</td>\n",
       "      <td>...</td>\n",
       "      <td>...</td>\n",
       "    </tr>\n",
       "    <tr>\n",
       "      <th rowspan=\"5\" valign=\"top\">11077</th>\n",
       "      <th>64</th>\n",
       "      <td>13305.0</td>\n",
       "      <td>1</td>\n",
       "      <td>66.5</td>\n",
       "      <td>33.25</td>\n",
       "      <td>2</td>\n",
       "    </tr>\n",
       "    <tr>\n",
       "      <th>66</th>\n",
       "      <td>13305.0</td>\n",
       "      <td>1</td>\n",
       "      <td>17.0</td>\n",
       "      <td>17.00</td>\n",
       "      <td>1</td>\n",
       "    </tr>\n",
       "    <tr>\n",
       "      <th>73</th>\n",
       "      <td>13305.0</td>\n",
       "      <td>1</td>\n",
       "      <td>30.0</td>\n",
       "      <td>15.00</td>\n",
       "      <td>2</td>\n",
       "    </tr>\n",
       "    <tr>\n",
       "      <th>75</th>\n",
       "      <td>13305.0</td>\n",
       "      <td>1</td>\n",
       "      <td>31.0</td>\n",
       "      <td>7.75</td>\n",
       "      <td>4</td>\n",
       "    </tr>\n",
       "    <tr>\n",
       "      <th>77</th>\n",
       "      <td>13305.0</td>\n",
       "      <td>1</td>\n",
       "      <td>26.0</td>\n",
       "      <td>13.00</td>\n",
       "      <td>2</td>\n",
       "    </tr>\n",
       "  </tbody>\n",
       "</table>\n",
       "<p>345 rows × 5 columns</p>\n",
       "</div>"
      ],
      "text/plain": [
       "                 TerritoryId  RegionId  ItemTotal  UnitPrice  Quantity\n",
       "Id    ProductId                                                       \n",
       "10258 2              13305.0         1      760.0      15.20        50\n",
       "      5              13305.0         1     1105.0      17.00        65\n",
       "      32             13305.0         1      153.6      25.60         6\n",
       "10270 36             13305.0         1      456.0      15.20        30\n",
       "      43             13305.0         1      920.0      36.80        25\n",
       "...                      ...       ...        ...        ...       ...\n",
       "11077 64             13305.0         1       66.5      33.25         2\n",
       "      66             13305.0         1       17.0      17.00         1\n",
       "      73             13305.0         1       30.0      15.00         2\n",
       "      75             13305.0         1       31.0       7.75         4\n",
       "      77             13305.0         1       26.0      13.00         2\n",
       "\n",
       "[345 rows x 5 columns]"
      ]
     },
     "execution_count": 72,
     "metadata": {},
     "output_type": "execute_result"
    }
   ],
   "source": [
    "employee_work.loc[idx[1]]"
   ]
  },
  {
   "cell_type": "code",
   "execution_count": 73,
   "metadata": {},
   "outputs": [
    {
     "data": {
      "image/png": "[encoded data removed]",
      "text/plain": [
       "<Figure size 432x288 with 1 Axes>"
      ]
     },
     "metadata": {
      "needs_background": "light"
     },
     "output_type": "display_data"
    }
   ],
   "source": [
    "[plt.hist(employee_work.loc[idx[x]]['Quantity'], label=x) for x in range(1,9)];"
   ]
  },
  {
   "cell_type": "code",
   "execution_count": 74,
   "metadata": {},
   "outputs": [
    {
     "data": {
      "text/plain": [
       "[Id     ProductId\n",
       " 10258  2            50\n",
       "        5            65\n",
       "        32            6\n",
       " 10270  36           30\n",
       "        43           25\n",
       "                     ..\n",
       " 11077  64            2\n",
       "        66            1\n",
       "        73            2\n",
       "        75            4\n",
       "        77            2\n",
       " Name: Quantity, Length: 345, dtype: int64, Id     ProductId\n",
       " 10265  17           30\n",
       "        70           20\n",
       " 10277  28           20\n",
       "        62           12\n",
       " 10280  24           12\n",
       "                     ..\n",
       " 11070  2            20\n",
       "        16           30\n",
       "        31           20\n",
       " 11073  11           10\n",
       "        24           20\n",
       " Name: Quantity, Length: 241, dtype: int64, Id     ProductId\n",
       " 10251  22            6\n",
       "        57           15\n",
       "        65           20\n",
       " 10253  31           20\n",
       "        39           42\n",
       "                     ..\n",
       " 11052  61           10\n",
       " 11057  70            3\n",
       " 11063  34           30\n",
       "        40           40\n",
       "        41           30\n",
       " Name: Quantity, Length: 321, dtype: int64, Id     ProductId\n",
       " 10250  41            10\n",
       "        51            35\n",
       "        65            15\n",
       " 10252  20            40\n",
       "        33            25\n",
       "                    ... \n",
       " 11072  50            22\n",
       "        64           130\n",
       " 11076  6             20\n",
       "        14            20\n",
       "        19            10\n",
       " Name: Quantity, Length: 420, dtype: int64, Id     ProductId\n",
       " 10248  11           12\n",
       "        42           10\n",
       "        72            5\n",
       " 10254  24           15\n",
       "        55           21\n",
       "                     ..\n",
       " 10954  16           28\n",
       "        31           25\n",
       "        45           30\n",
       "        60           24\n",
       " 11043  11           10\n",
       " Name: Quantity, Length: 117, dtype: int64, Id     ProductId\n",
       " 10249  14            9\n",
       "        51           40\n",
       " 10264  2            35\n",
       "        41           25\n",
       " 10271  33           24\n",
       "                     ..\n",
       " 11031  24           21\n",
       "        64           20\n",
       "        71           16\n",
       " 11045  33           15\n",
       "        51           24\n",
       " Name: Quantity, Length: 168, dtype: int64, Id     ProductId\n",
       " 10289  3            30\n",
       "        64            9\n",
       " 10303  40           40\n",
       "        65           30\n",
       "        68           15\n",
       "                     ..\n",
       " 11055  57           20\n",
       " 11066  16            3\n",
       "        19           42\n",
       "        34           35\n",
       " 11074  16           14\n",
       " Name: Quantity, Length: 176, dtype: int64, Id     ProductId\n",
       " 10262  5            12\n",
       "        7            15\n",
       "        56            2\n",
       " 10268  29           10\n",
       "        72            4\n",
       "                     ..\n",
       " 11068  43           36\n",
       "        77           28\n",
       " 11075  2            10\n",
       "        46           30\n",
       "        76            2\n",
       " Name: Quantity, Length: 260, dtype: int64]"
      ]
     },
     "execution_count": 74,
     "metadata": {},
     "output_type": "execute_result"
    }
   ],
   "source": [
    "x = [employee_work.loc[idx[i]]['Quantity'] for i in range(1,9)]\n",
    "x"
   ]
  },
  {
   "cell_type": "code",
   "execution_count": 75,
   "metadata": {},
   "outputs": [
    {
     "data": {
      "image/png": "[encoded data removed]",
      "text/plain": [
       "<Figure size 1440x1440 with 9 Axes>"
      ]
     },
     "metadata": {
      "needs_background": "light"
     },
     "output_type": "display_data"
    }
   ],
   "source": [
    "x = [employee_work.loc[idx[i]]['Quantity'] for i in employee_id]\n",
    "fig00, axes = plt.subplots(nrows=3, ncols=3, figsize=(20,20))\n",
    "for n in range(0, len(employee_id)):\n",
    "    row = (n-1)//3\n",
    "    col = n%3-1\n",
    "    ax = axes[row][col]\n",
    "    sns.distplot(x[n], ax=ax)\n",
    "    ax.set_title('Employee {}'.format(employee_id[n]))"
   ]
  },
  {
   "cell_type": "code",
   "execution_count": 76,
   "metadata": {},
   "outputs": [
    {
     "data": {
      "text/plain": [
       "(array([134.,  87.,  62.,  23.,  23.,   9.,   3.,   1.,   0.,   3.]),\n",
       " array([  1. ,  12.9,  24.8,  36.7,  48.6,  60.5,  72.4,  84.3,  96.2,\n",
       "        108.1, 120. ]),\n",
       " <a list of 10 Patch objects>)"
      ]
     },
     "execution_count": 76,
     "metadata": {},
     "output_type": "execute_result"
    },
    {
     "data": {
      "image/png": "[encoded data removed]",
      "text/plain": [
       "<Figure size 432x288 with 1 Axes>"
      ]
     },
     "metadata": {
      "needs_background": "light"
     },
     "output_type": "display_data"
    }
   ],
   "source": [
    "plt.hist(employee_work.loc[idx[1]]['Quantity'])"
   ]
  },
  {
   "cell_type": "code",
   "execution_count": 77,
   "metadata": {},
   "outputs": [
    {
     "data": {
      "text/plain": [
       "(array([79., 66., 54., 13., 13.,  7.,  5.,  0.,  1.,  3.]),\n",
       " array([  1. ,  12.9,  24.8,  36.7,  48.6,  60.5,  72.4,  84.3,  96.2,\n",
       "        108.1, 120. ]),\n",
       " <a list of 10 Patch objects>)"
      ]
     },
     "execution_count": 77,
     "metadata": {},
     "output_type": "execute_result"
    },
    {
     "data": {
      "image/png": "[encoded data removed]",
      "text/plain": [
       "<Figure size 432x288 with 1 Axes>"
      ]
     },
     "metadata": {
      "needs_background": "light"
     },
     "output_type": "display_data"
    }
   ],
   "source": [
    "plt.hist(employee_work.loc[idx[2]]['Quantity'])"
   ]
  },
  {
   "cell_type": "code",
   "execution_count": 78,
   "metadata": {},
   "outputs": [
    {
     "data": {
      "text/plain": [
       "(array([97., 88., 58., 40., 13., 17.,  1.,  3.,  1.,  3.]),\n",
       " array([  2. ,  12.8,  23.6,  34.4,  45.2,  56. ,  66.8,  77.6,  88.4,\n",
       "         99.2, 110. ]),\n",
       " <a list of 10 Patch objects>)"
      ]
     },
     "execution_count": 78,
     "metadata": {},
     "output_type": "execute_result"
    },
    {
     "data": {
      "image/png": "[encoded data removed]",
      "text/plain": [
       "<Figure size 432x288 with 1 Axes>"
      ]
     },
     "metadata": {
      "needs_background": "light"
     },
     "output_type": "display_data"
    }
   ],
   "source": [
    "plt.hist(employee_work.loc[idx[3]]['Quantity'])"
   ]
  },
  {
   "cell_type": "code",
   "execution_count": 79,
   "metadata": {},
   "outputs": [
    {
     "data": {
      "text/plain": [
       "(array([139., 145.,  54.,  53.,  18.,   6.,   3.,   0.,   0.,   2.]),\n",
       " array([  1. ,  13.9,  26.8,  39.7,  52.6,  65.5,  78.4,  91.3, 104.2,\n",
       "        117.1, 130. ]),\n",
       " <a list of 10 Patch objects>)"
      ]
     },
     "execution_count": 79,
     "metadata": {},
     "output_type": "execute_result"
    },
    {
     "data": {
      "image/png": "[encoded data removed]",
      "text/plain": [
       "<Figure size 432x288 with 1 Axes>"
      ]
     },
     "metadata": {
      "needs_background": "light"
     },
     "output_type": "display_data"
    }
   ],
   "source": [
    "plt.hist(employee_work.loc[idx[4]]['Quantity'])"
   ]
  },
  {
   "cell_type": "code",
   "execution_count": 80,
   "metadata": {},
   "outputs": [
    {
     "data": {
      "text/plain": [
       "(array([35., 40., 15., 12.,  9.,  2.,  1.,  0.,  2.,  1.]),\n",
       " array([  2. ,  13.8,  25.6,  37.4,  49.2,  61. ,  72.8,  84.6,  96.4,\n",
       "        108.2, 120. ]),\n",
       " <a list of 10 Patch objects>)"
      ]
     },
     "execution_count": 80,
     "metadata": {},
     "output_type": "execute_result"
    },
    {
     "data": {
      "image/png": "[encoded data removed]",
      "text/plain": [
       "<Figure size 432x288 with 1 Axes>"
      ]
     },
     "metadata": {
      "needs_background": "light"
     },
     "output_type": "display_data"
    }
   ],
   "source": [
    "plt.hist(employee_work.loc[idx[5]]['Quantity'])"
   ]
  },
  {
   "cell_type": "code",
   "execution_count": 81,
   "metadata": {},
   "outputs": [
    {
     "data": {
      "text/plain": [
       "(array([60., 64., 32.,  5.,  3.,  2.,  1.,  0.,  0.,  1.]),\n",
       " array([  2. ,  14.8,  27.6,  40.4,  53.2,  66. ,  78.8,  91.6, 104.4,\n",
       "        117.2, 130. ]),\n",
       " <a list of 10 Patch objects>)"
      ]
     },
     "execution_count": 81,
     "metadata": {},
     "output_type": "execute_result"
    },
    {
     "data": {
      "image/png": "[encoded data removed]",
      "text/plain": [
       "<Figure size 432x288 with 1 Axes>"
      ]
     },
     "metadata": {
      "needs_background": "light"
     },
     "output_type": "display_data"
    }
   ],
   "source": [
    "plt.hist(employee_work.loc[idx[6]]['Quantity'])"
   ]
  },
  {
   "cell_type": "code",
   "execution_count": 82,
   "metadata": {},
   "outputs": [
    {
     "data": {
      "text/plain": [
       "(array([48., 53., 38., 12., 15.,  3.,  2.,  1.,  3.,  1.]),\n",
       " array([  1. ,  12.9,  24.8,  36.7,  48.6,  60.5,  72.4,  84.3,  96.2,\n",
       "        108.1, 120. ]),\n",
       " <a list of 10 Patch objects>)"
      ]
     },
     "execution_count": 82,
     "metadata": {},
     "output_type": "execute_result"
    },
    {
     "data": {
      "image/png": "[encoded data removed]",
      "text/plain": [
       "<Figure size 432x288 with 1 Axes>"
      ]
     },
     "metadata": {
      "needs_background": "light"
     },
     "output_type": "display_data"
    }
   ],
   "source": [
    "plt.hist(employee_work.loc[idx[7]]['Quantity'])"
   ]
  },
  {
   "cell_type": "code",
   "execution_count": 83,
   "metadata": {},
   "outputs": [
    {
     "data": {
      "text/plain": [
       "(array([73., 93., 44., 18., 17.,  5.,  4.,  3.,  1.,  2.]),\n",
       " array([  2. ,  11.8,  21.6,  31.4,  41.2,  51. ,  60.8,  70.6,  80.4,\n",
       "         90.2, 100. ]),\n",
       " <a list of 10 Patch objects>)"
      ]
     },
     "execution_count": 83,
     "metadata": {},
     "output_type": "execute_result"
    },
    {
     "data": {
      "image/png": "[encoded data removed]",
      "text/plain": [
       "<Figure size 432x288 with 1 Axes>"
      ]
     },
     "metadata": {
      "needs_background": "light"
     },
     "output_type": "display_data"
    }
   ],
   "source": [
    "plt.hist(employee_work.loc[idx[8]]['Quantity'])"
   ]
  },
  {
   "cell_type": "code",
   "execution_count": 84,
   "metadata": {},
   "outputs": [
    {
     "data": {
      "text/plain": [
       "(array([26., 34., 17., 17.,  7.,  3.,  1.,  1.,  0.,  1.]),\n",
       " array([  1. ,  11.9,  22.8,  33.7,  44.6,  55.5,  66.4,  77.3,  88.2,\n",
       "         99.1, 110. ]),\n",
       " <a list of 10 Patch objects>)"
      ]
     },
     "execution_count": 84,
     "metadata": {},
     "output_type": "execute_result"
    },
    {
     "data": {
      "image/png": "[encoded data removed]",
      "text/plain": [
       "<Figure size 432x288 with 1 Axes>"
      ]
     },
     "metadata": {
      "needs_background": "light"
     },
     "output_type": "display_data"
    }
   ],
   "source": [
    "plt.hist(employee_work.loc[idx[9]]['Quantity'])"
   ]
  },
  {
   "cell_type": "code",
   "execution_count": 85,
   "metadata": {},
   "outputs": [
    {
     "data": {
      "text/plain": [
       "[(array([322.,  19.,   2.,   0.,   1.,   0.,   0.,   0.,   0.,   1.]),\n",
       "  array([1.000e+01, 1.590e+03, 3.170e+03, 4.750e+03, 6.330e+03, 7.910e+03,\n",
       "         9.490e+03, 1.107e+04, 1.265e+04, 1.423e+04, 1.581e+04]),\n",
       "  <a list of 10 Patch objects>),\n",
       " (array([217.,  18.,   1.,   2.,   2.,   0.,   0.,   0.,   0.,   1.]),\n",
       "  array([4.800000e+00, 1.585320e+03, 3.165840e+03, 4.746360e+03,\n",
       "         6.326880e+03, 7.907400e+03, 9.487920e+03, 1.106844e+04,\n",
       "         1.264896e+04, 1.422948e+04, 1.581000e+04]),\n",
       "  <a list of 10 Patch objects>),\n",
       " (array([259.,  45.,  10.,   3.,   0.,   0.,   1.,   2.,   0.,   1.]),\n",
       "  array([9.60000e+00, 9.98960e+02, 1.98832e+03, 2.97768e+03, 3.96704e+03,\n",
       "         4.95640e+03, 5.94576e+03, 6.93512e+03, 7.92448e+03, 8.91384e+03,\n",
       "         9.90320e+03]),\n",
       "  <a list of 10 Patch objects>),\n",
       " (array([363.,  40.,  11.,   3.,   1.,   0.,   0.,   1.,   0.,   1.]),\n",
       "  array([7.30000e+00, 1.06057e+03, 2.11384e+03, 3.16711e+03, 4.22038e+03,\n",
       "         5.27365e+03, 6.32692e+03, 7.38019e+03, 8.43346e+03, 9.48673e+03,\n",
       "         1.05400e+04]),\n",
       "  <a list of 10 Patch objects>),\n",
       " (array([97., 11.,  5.,  1.,  2.,  0.,  0.,  0.,  0.,  1.]),\n",
       "  array([  27. ,  867.5, 1708. , 2548.5, 3389. , 4229.5, 5070. , 5910.5,\n",
       "         6751. , 7591.5, 8432. ]),\n",
       "  <a list of 10 Patch objects>),\n",
       " (array([115.,  34.,   7.,   6.,   2.,   3.,   0.,   0.,   0.,   1.]),\n",
       "  array([  20.   ,  463.644,  907.288, 1350.932, 1794.576, 2238.22 ,\n",
       "         2681.864, 3125.508, 3569.152, 4012.796, 4456.44 ]),\n",
       "  <a list of 10 Patch objects>),\n",
       " (array([144.,  21.,   2.,   3.,   1.,   2.,   0.,   1.,   0.,   2.]),\n",
       "  array([   16. ,  1068.4,  2120.8,  3173.2,  4225.6,  5278. ,  6330.4,\n",
       "          7382.8,  8435.2,  9487.6, 10540. ]),\n",
       "  <a list of 10 Patch objects>),\n",
       " (array([108.,  68.,  36.,  11.,  17.,  10.,   5.,   1.,   1.,   3.]),\n",
       "  array([  13.5 ,  282.15,  550.8 ,  819.45, 1088.1 , 1356.75, 1625.4 ,\n",
       "         1894.05, 2162.7 , 2431.35, 2700.  ]),\n",
       "  <a list of 10 Patch objects>)]"
      ]
     },
     "execution_count": 85,
     "metadata": {},
     "output_type": "execute_result"
    },
    {
     "data": {
      "image/png": "[encoded data removed]",
      "text/plain": [
       "<Figure size 432x288 with 1 Axes>"
      ]
     },
     "metadata": {
      "needs_background": "light"
     },
     "output_type": "display_data"
    }
   ],
   "source": [
    "[plt.hist(employee_work.loc[idx[x]]['ItemTotal']) for x in range(1,9)]"
   ]
  },
  {
   "cell_type": "markdown",
   "metadata": {},
   "source": [
    "### Tools for use of discovered information"
   ]
  },
  {
   "cell_type": "code",
   "execution_count": 86,
   "metadata": {},
   "outputs": [],
   "source": [
    "# function or equation used to test developed theories\n",
    "pass"
   ]
  },
  {
   "cell_type": "markdown",
   "metadata": {},
   "source": [
    "# Future Work"
   ]
  },
  {
   "cell_type": "markdown",
   "metadata": {},
   "source": [
    "give a list of options for future exploration opportunities"
   ]
  },
  {
   "cell_type": "markdown",
   "metadata": {},
   "source": [
    "# Resources"
   ]
  },
  {
   "cell_type": "markdown",
   "metadata": {},
   "source": [
    "Measure skewness https://towardsdatascience.com/understanding-measures-of-variance-with-python-f57d59617a0b\n",
    "Lat/Long: https://www.latlong.net/"
   ]
  }
 ],
 "metadata": {
  "kernelspec": {
   "display_name": "learn-env",
   "language": "python",
   "name": "learn-env"
  },
  "language_info": {
   "codemirror_mode": {
    "name": "ipython",
    "version": 3
   },
   "file_extension": ".py",
   "mimetype": "text/x-python",
   "name": "python",
   "nbconvert_exporter": "python",
   "pygments_lexer": "ipython3",
   "version": "3.6.9"
  }
 },
 "nbformat": 4,
 "nbformat_minor": 2
}
