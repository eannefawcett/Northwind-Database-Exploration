{
 "cells": [
  {
   "cell_type": "markdown",
   "metadata": {},
   "source": [
    "- graphs starting quantities at zero\n",
    "- graph prettiness\n",
    "- store pvalues \n",
    "- conversation about type 1 and 2 errors\n",
    "- ANOVA tukey graph, talk about CI\n",
    "- Bonferroni correction"
   ]
  },
  {
   "cell_type": "markdown",
   "metadata": {},
   "source": [
    "<img src='images/Northwind_ERD_updated.png.'>"
   ]
  },
  {
   "cell_type": "markdown",
   "metadata": {},
   "source": [
    "<a href='#4.0-Initial-Question'>**4.0 Initial Question**</a>\n",
    "\n",
    "<a href='#4.1-Initial-Hypothesis'>**4.1 Initial Hypothesis**</a>\n",
    "- <a href='#4.1.1-Null-Hypothesis'>4.1.1 Null Hypothesis</a>\n",
    "- <a href='#4.1.2-Alternative-Hypothesis'>4.1.2 Alternative Hypothesis</a>\n",
    "- <a href='#4.1.3-Features'>4.1.3 Features</a>\n",
    "- <a href='#4.1.4-Target-Variable'>4.1.4 Target Variable</a>\n",
    "\n",
    "<a href='#4.2-Methodology'>**4.2 Methodology**</a>\n",
    "- <a href='#4.2.1-Obtain-Data'>4.2.1 Obtain Data</a>\n",
    "- <a href='#4.2.2-Scrub-Data'>4.2.2 Scrub Data</a>\n",
    "    - <a href='#4.2.2.1-Manage-n/a-data-types'>4.2.2.1 Manage n/a data types</a>\n",
    "    - <a href='#4.2.2.2-Remove-duplicate-data'>4.2.2.2 Remove duplicate data</a>\n",
    "    - <a href='#4.2.2.3-Manage-data-types'>4.2.2.3 Manage data types</a>\n",
    "    - <a href='#4.2.2.4-Remove-outliers'>4.2.2.4 Remove outliers</a>\n",
    "- <a href='#4.2.3-Explore-Data'>4.2.3 Explore Data</a>\n",
    "    - <a href='#4.2.3.1-Visualize-data'>4.2.3.1 Visualize data</a>\n",
    "    - <a href='#4.2.3.2-Transform-data'>4.2.3.2 Transform data</a>\n",
    "    - <a href='#4.2.3.3-Sort-data-/-Prepare-data-for-testing'>4.2.3.3 Sort data / Prepare data for testing</a>\n",
    "    - <a href='#4.2.3.4-Develop-feature'>4.2.3.4 Develop feature</a>\n",
    "- <a href='#4.2.4-Model-Data'>4.2.4 Model Data</a>\n",
    "    - <a href='#4.2.4.1-Check-for-data-normality'>4.2.4.1 Check for data normality</a>\n",
    "    - <a href='#4.2.4.2-Standard-deviation-and-other-basic-statistics'>4.2.4.2 Standard deviation and other basic statistics</a>\n",
    "    - <a href='#4.2.4.3-Statistical-test'>4.2.4.3 Statistical test</a>\n",
    "    - <a href='#4.2.4.4-Verification-techniques'>4.2.4.4 Verification techniques</a>\n",
    "        - <a href='#4.2.4.4.1-Nonparametric-testing-and-confirmatory-testing'>4.2.4.4.1 Nonparametric testing</a>\n",
    "        - <a href='#4.2.4.4.2-Effect-size'>4.2.4.4.2 Effect size</a>\n",
    "        - <a href='#4.2.4.4.3-Error'>4.2.4.4.3 Error</a>\n",
    "- <a href='#4.2.5-Interpret-Model'>4.2.5 Interpret Model</a>\n",
    "    - <a href='#4.2.5.1-Extension-of-acquired-knowledge'>4.2.5.1 Extension of acquired knowledge</a>\n",
    "    \n",
    "<a href='#4.3-Results'>**4.3 Results**</a>\n",
    "\n",
    "<a href='#4.4-Conclusions'>**4.4 Conclusions**</a>\n",
    "\n",
    "- <a href='#4.4.1-Actionable-Items-and-Insights'>4.4.1 Actionable Items and Insights</a>\n",
    "- <a href='#4.4.2-Additional-Visuals'>4.4.2 Additional Visuals</a>\n",
    "\n",
    "<a href='#4.5-Future-Work'>**4.5 Future Work**</a>\n",
    "\n",
    "<a href='#4.6-References'>**4.6 References**</a>"
   ]
  },
  {
   "cell_type": "markdown",
   "metadata": {},
   "source": [
    "# 4.0 Initial Question<a id='Initial Question'></a>\n",
    "\n",
    "Which region is preforming the best? How can we optimize preformance?\n"
   ]
  },
  {
   "cell_type": "markdown",
   "metadata": {},
   "source": [
    "# 4.1 Initial Hypothesis<a id='Initial Hypothesis'></a>"
   ]
  },
  {
   "cell_type": "markdown",
   "metadata": {},
   "source": [
    "### 4.1.1 Null Hypothesis<a id='Null Hypothesis'></a>\n",
    "H0: no effect - Item total for specific regions is no different than that of all regions\n",
    "\n",
    "The bolded items in the H0 statement represent the data that needs to be pulled down from the database. "
   ]
  },
  {
   "cell_type": "markdown",
   "metadata": {},
   "source": [
    "### 4.1.2 Alternative Hypothesis<a id='Alternative Hypothesis'></a>\n",
    "HA: effect - Item total for specific regions is different than that of all regions"
   ]
  },
  {
   "cell_type": "markdown",
   "metadata": {},
   "source": [
    "### 4.1.3 Features<a id='Features'></a>\n",
    ": RegionId"
   ]
  },
  {
   "cell_type": "markdown",
   "metadata": {},
   "source": [
    "### 4.1.4 Target Variable<a id='Target Variable'></a>\n",
    ": OrderDetail.Quantity * OrderDetail.UnitPrice"
   ]
  },
  {
   "cell_type": "markdown",
   "metadata": {},
   "source": [
    "# 4.2 Methodology<a id='Methodology'></a>\n",
    "\n",
    "To evaluate, I have chosen to use the following steps:\n",
    "- 4.2.1 Obtain Data\n",
    "- 4.2.2 Scrub Data\n",
    "- 4.2.3 Explore Data\n",
    "- 4.2.4 Model Data\n",
    "- 4.2.5 Interpret Model\n",
    "\n",
    "I have found that the OSEMN method explains the data science process, and gives context to exploring data."
   ]
  },
  {
   "cell_type": "markdown",
   "metadata": {},
   "source": [
    "## 4.2.1 Obtain Data\n",
    "The data that we're evaulating will come from the following tables.\n",
    "\n",
    "\n",
    "put info in here"
   ]
  },
  {
   "cell_type": "code",
   "execution_count": 1,
   "metadata": {},
   "outputs": [],
   "source": [
    "# develop class\n",
    "pass"
   ]
  },
  {
   "cell_type": "code",
   "execution_count": 2,
   "metadata": {},
   "outputs": [],
   "source": [
    "# import py file\n",
    "from classes import Pvalue"
   ]
  },
  {
   "cell_type": "code",
   "execution_count": 3,
   "metadata": {},
   "outputs": [],
   "source": [
    "# import libraries\n",
    "import pandas as pd\n",
    "import sqlite3\n",
    "\n",
    "import numpy as np\n",
    "from numpy import std, mean, sqrt\n",
    "import scipy.stats as stats\n",
    "from statsmodels.stats.power import tt_ind_solve_power\n",
    "import statsmodels.api as sm\n",
    "from statsmodels.formula.api import ols\n",
    "\n",
    "import matplotlib.pyplot as plt\n",
    "%matplotlib inline\n",
    "import seaborn as sns\n",
    "import folium\n",
    "\n",
    "idx = pd.IndexSlice"
   ]
  },
  {
   "cell_type": "code",
   "execution_count": 4,
   "metadata": {},
   "outputs": [],
   "source": [
    "# import data\n",
    "conn = sqlite3.Connection('Northwind_small.sqlite')\n",
    "cur = conn.cursor()"
   ]
  },
  {
   "cell_type": "code",
   "execution_count": 5,
   "metadata": {},
   "outputs": [
    {
     "data": {
      "text/html": [
       "<div>\n",
       "<style scoped>\n",
       "    .dataframe tbody tr th:only-of-type {\n",
       "        vertical-align: middle;\n",
       "    }\n",
       "\n",
       "    .dataframe tbody tr th {\n",
       "        vertical-align: top;\n",
       "    }\n",
       "\n",
       "    .dataframe thead th {\n",
       "        text-align: right;\n",
       "    }\n",
       "</style>\n",
       "<table border=\"1\" class=\"dataframe\">\n",
       "  <thead>\n",
       "    <tr style=\"text-align: right;\">\n",
       "      <th></th>\n",
       "      <th>Id</th>\n",
       "      <th>TerritoryDescription</th>\n",
       "      <th>RegionId</th>\n",
       "    </tr>\n",
       "  </thead>\n",
       "  <tbody>\n",
       "    <tr>\n",
       "      <th>0</th>\n",
       "      <td>01581</td>\n",
       "      <td>Westboro</td>\n",
       "      <td>1</td>\n",
       "    </tr>\n",
       "    <tr>\n",
       "      <th>1</th>\n",
       "      <td>01730</td>\n",
       "      <td>Bedford</td>\n",
       "      <td>1</td>\n",
       "    </tr>\n",
       "    <tr>\n",
       "      <th>2</th>\n",
       "      <td>01833</td>\n",
       "      <td>Georgetow</td>\n",
       "      <td>1</td>\n",
       "    </tr>\n",
       "    <tr>\n",
       "      <th>3</th>\n",
       "      <td>02116</td>\n",
       "      <td>Boston</td>\n",
       "      <td>1</td>\n",
       "    </tr>\n",
       "    <tr>\n",
       "      <th>4</th>\n",
       "      <td>02139</td>\n",
       "      <td>Cambridge</td>\n",
       "      <td>1</td>\n",
       "    </tr>\n",
       "  </tbody>\n",
       "</table>\n",
       "</div>"
      ],
      "text/plain": [
       "      Id TerritoryDescription  RegionId\n",
       "0  01581             Westboro         1\n",
       "1  01730              Bedford         1\n",
       "2  01833            Georgetow         1\n",
       "3  02116               Boston         1\n",
       "4  02139            Cambridge         1"
      ]
     },
     "execution_count": 5,
     "metadata": {},
     "output_type": "execute_result"
    }
   ],
   "source": [
    "# Territory data\n",
    "cur.execute(\"\"\"SELECT *\n",
    "               FROM Territory\n",
    "               \"\"\")\n",
    "territory = pd.DataFrame(cur.fetchall())\n",
    "territory.columns = [x[0] for x in cur.description]\n",
    "territory.head()"
   ]
  },
  {
   "cell_type": "code",
   "execution_count": 6,
   "metadata": {},
   "outputs": [
    {
     "data": {
      "text/html": [
       "<div>\n",
       "<style scoped>\n",
       "    .dataframe tbody tr th:only-of-type {\n",
       "        vertical-align: middle;\n",
       "    }\n",
       "\n",
       "    .dataframe tbody tr th {\n",
       "        vertical-align: top;\n",
       "    }\n",
       "\n",
       "    .dataframe thead th {\n",
       "        text-align: right;\n",
       "    }\n",
       "</style>\n",
       "<table border=\"1\" class=\"dataframe\">\n",
       "  <thead>\n",
       "    <tr style=\"text-align: right;\">\n",
       "      <th></th>\n",
       "      <th>Id</th>\n",
       "      <th>EmployeeId</th>\n",
       "      <th>TerritoryId</th>\n",
       "    </tr>\n",
       "  </thead>\n",
       "  <tbody>\n",
       "    <tr>\n",
       "      <th>0</th>\n",
       "      <td>1/06897</td>\n",
       "      <td>1</td>\n",
       "      <td>06897</td>\n",
       "    </tr>\n",
       "    <tr>\n",
       "      <th>1</th>\n",
       "      <td>1/19713</td>\n",
       "      <td>1</td>\n",
       "      <td>19713</td>\n",
       "    </tr>\n",
       "    <tr>\n",
       "      <th>2</th>\n",
       "      <td>2/01581</td>\n",
       "      <td>2</td>\n",
       "      <td>01581</td>\n",
       "    </tr>\n",
       "    <tr>\n",
       "      <th>3</th>\n",
       "      <td>2/01730</td>\n",
       "      <td>2</td>\n",
       "      <td>01730</td>\n",
       "    </tr>\n",
       "    <tr>\n",
       "      <th>4</th>\n",
       "      <td>2/01833</td>\n",
       "      <td>2</td>\n",
       "      <td>01833</td>\n",
       "    </tr>\n",
       "  </tbody>\n",
       "</table>\n",
       "</div>"
      ],
      "text/plain": [
       "        Id  EmployeeId TerritoryId\n",
       "0  1/06897           1       06897\n",
       "1  1/19713           1       19713\n",
       "2  2/01581           2       01581\n",
       "3  2/01730           2       01730\n",
       "4  2/01833           2       01833"
      ]
     },
     "execution_count": 6,
     "metadata": {},
     "output_type": "execute_result"
    }
   ],
   "source": [
    "# Employee Territory\n",
    "cur.execute(\"\"\"SELECT *\n",
    "               FROM EmployeeTerritory\n",
    "               \"\"\")\n",
    "employeeTerritory = pd.DataFrame(cur.fetchall())\n",
    "employeeTerritory.columns = [x[0] for x in cur.description]\n",
    "employeeTerritory.head()"
   ]
  },
  {
   "cell_type": "code",
   "execution_count": 7,
   "metadata": {},
   "outputs": [
    {
     "data": {
      "text/html": [
       "<div>\n",
       "<style scoped>\n",
       "    .dataframe tbody tr th:only-of-type {\n",
       "        vertical-align: middle;\n",
       "    }\n",
       "\n",
       "    .dataframe tbody tr th {\n",
       "        vertical-align: top;\n",
       "    }\n",
       "\n",
       "    .dataframe thead th {\n",
       "        text-align: right;\n",
       "    }\n",
       "</style>\n",
       "<table border=\"1\" class=\"dataframe\">\n",
       "  <thead>\n",
       "    <tr style=\"text-align: right;\">\n",
       "      <th></th>\n",
       "      <th>Id</th>\n",
       "      <th>LastName</th>\n",
       "      <th>FirstName</th>\n",
       "      <th>Title</th>\n",
       "      <th>TitleOfCourtesy</th>\n",
       "      <th>BirthDate</th>\n",
       "      <th>HireDate</th>\n",
       "      <th>Address</th>\n",
       "      <th>City</th>\n",
       "      <th>Region</th>\n",
       "      <th>PostalCode</th>\n",
       "      <th>Country</th>\n",
       "      <th>HomePhone</th>\n",
       "      <th>Extension</th>\n",
       "      <th>Photo</th>\n",
       "      <th>Notes</th>\n",
       "      <th>ReportsTo</th>\n",
       "      <th>PhotoPath</th>\n",
       "    </tr>\n",
       "  </thead>\n",
       "  <tbody>\n",
       "    <tr>\n",
       "      <th>0</th>\n",
       "      <td>1</td>\n",
       "      <td>Davolio</td>\n",
       "      <td>Nancy</td>\n",
       "      <td>Sales Representative</td>\n",
       "      <td>Ms.</td>\n",
       "      <td>1980-12-08</td>\n",
       "      <td>2024-05-01</td>\n",
       "      <td>507 - 20th Ave. E. Apt. 2A</td>\n",
       "      <td>Seattle</td>\n",
       "      <td>North America</td>\n",
       "      <td>98122</td>\n",
       "      <td>USA</td>\n",
       "      <td>(206) 555-9857</td>\n",
       "      <td>5467</td>\n",
       "      <td>None</td>\n",
       "      <td>Education includes a BA in psychology from Col...</td>\n",
       "      <td>2.0</td>\n",
       "      <td>http://accweb/emmployees/davolio.bmp</td>\n",
       "    </tr>\n",
       "    <tr>\n",
       "      <th>1</th>\n",
       "      <td>2</td>\n",
       "      <td>Fuller</td>\n",
       "      <td>Andrew</td>\n",
       "      <td>Vice President, Sales</td>\n",
       "      <td>Dr.</td>\n",
       "      <td>1984-02-19</td>\n",
       "      <td>2024-08-14</td>\n",
       "      <td>908 W. Capital Way</td>\n",
       "      <td>Tacoma</td>\n",
       "      <td>North America</td>\n",
       "      <td>98401</td>\n",
       "      <td>USA</td>\n",
       "      <td>(206) 555-9482</td>\n",
       "      <td>3457</td>\n",
       "      <td>None</td>\n",
       "      <td>Andrew received his BTS commercial in 1974 and...</td>\n",
       "      <td>NaN</td>\n",
       "      <td>http://accweb/emmployees/fuller.bmp</td>\n",
       "    </tr>\n",
       "    <tr>\n",
       "      <th>2</th>\n",
       "      <td>3</td>\n",
       "      <td>Leverling</td>\n",
       "      <td>Janet</td>\n",
       "      <td>Sales Representative</td>\n",
       "      <td>Ms.</td>\n",
       "      <td>1995-08-30</td>\n",
       "      <td>2024-04-01</td>\n",
       "      <td>722 Moss Bay Blvd.</td>\n",
       "      <td>Kirkland</td>\n",
       "      <td>North America</td>\n",
       "      <td>98033</td>\n",
       "      <td>USA</td>\n",
       "      <td>(206) 555-3412</td>\n",
       "      <td>3355</td>\n",
       "      <td>None</td>\n",
       "      <td>Janet has a BS degree in chemistry from Boston...</td>\n",
       "      <td>2.0</td>\n",
       "      <td>http://accweb/emmployees/leverling.bmp</td>\n",
       "    </tr>\n",
       "    <tr>\n",
       "      <th>3</th>\n",
       "      <td>4</td>\n",
       "      <td>Peacock</td>\n",
       "      <td>Margaret</td>\n",
       "      <td>Sales Representative</td>\n",
       "      <td>Mrs.</td>\n",
       "      <td>1969-09-19</td>\n",
       "      <td>2025-05-03</td>\n",
       "      <td>4110 Old Redmond Rd.</td>\n",
       "      <td>Redmond</td>\n",
       "      <td>North America</td>\n",
       "      <td>98052</td>\n",
       "      <td>USA</td>\n",
       "      <td>(206) 555-8122</td>\n",
       "      <td>5176</td>\n",
       "      <td>None</td>\n",
       "      <td>Margaret holds a BA in English literature from...</td>\n",
       "      <td>2.0</td>\n",
       "      <td>http://accweb/emmployees/peacock.bmp</td>\n",
       "    </tr>\n",
       "    <tr>\n",
       "      <th>4</th>\n",
       "      <td>5</td>\n",
       "      <td>Buchanan</td>\n",
       "      <td>Steven</td>\n",
       "      <td>Sales Manager</td>\n",
       "      <td>Mr.</td>\n",
       "      <td>1987-03-04</td>\n",
       "      <td>2025-10-17</td>\n",
       "      <td>14 Garrett Hill</td>\n",
       "      <td>London</td>\n",
       "      <td>British Isles</td>\n",
       "      <td>SW1 8JR</td>\n",
       "      <td>UK</td>\n",
       "      <td>(71) 555-4848</td>\n",
       "      <td>3453</td>\n",
       "      <td>None</td>\n",
       "      <td>Steven Buchanan graduated from St. Andrews Uni...</td>\n",
       "      <td>2.0</td>\n",
       "      <td>http://accweb/emmployees/buchanan.bmp</td>\n",
       "    </tr>\n",
       "  </tbody>\n",
       "</table>\n",
       "</div>"
      ],
      "text/plain": [
       "   Id   LastName FirstName                  Title TitleOfCourtesy   BirthDate  \\\n",
       "0   1    Davolio     Nancy   Sales Representative             Ms.  1980-12-08   \n",
       "1   2     Fuller    Andrew  Vice President, Sales             Dr.  1984-02-19   \n",
       "2   3  Leverling     Janet   Sales Representative             Ms.  1995-08-30   \n",
       "3   4    Peacock  Margaret   Sales Representative            Mrs.  1969-09-19   \n",
       "4   5   Buchanan    Steven          Sales Manager             Mr.  1987-03-04   \n",
       "\n",
       "     HireDate                     Address      City         Region PostalCode  \\\n",
       "0  2024-05-01  507 - 20th Ave. E. Apt. 2A   Seattle  North America      98122   \n",
       "1  2024-08-14          908 W. Capital Way    Tacoma  North America      98401   \n",
       "2  2024-04-01          722 Moss Bay Blvd.  Kirkland  North America      98033   \n",
       "3  2025-05-03        4110 Old Redmond Rd.   Redmond  North America      98052   \n",
       "4  2025-10-17             14 Garrett Hill    London  British Isles    SW1 8JR   \n",
       "\n",
       "  Country       HomePhone Extension Photo  \\\n",
       "0     USA  (206) 555-9857      5467  None   \n",
       "1     USA  (206) 555-9482      3457  None   \n",
       "2     USA  (206) 555-3412      3355  None   \n",
       "3     USA  (206) 555-8122      5176  None   \n",
       "4      UK   (71) 555-4848      3453  None   \n",
       "\n",
       "                                               Notes  ReportsTo  \\\n",
       "0  Education includes a BA in psychology from Col...        2.0   \n",
       "1  Andrew received his BTS commercial in 1974 and...        NaN   \n",
       "2  Janet has a BS degree in chemistry from Boston...        2.0   \n",
       "3  Margaret holds a BA in English literature from...        2.0   \n",
       "4  Steven Buchanan graduated from St. Andrews Uni...        2.0   \n",
       "\n",
       "                                PhotoPath  \n",
       "0    http://accweb/emmployees/davolio.bmp  \n",
       "1     http://accweb/emmployees/fuller.bmp  \n",
       "2  http://accweb/emmployees/leverling.bmp  \n",
       "3    http://accweb/emmployees/peacock.bmp  \n",
       "4   http://accweb/emmployees/buchanan.bmp  "
      ]
     },
     "execution_count": 7,
     "metadata": {},
     "output_type": "execute_result"
    }
   ],
   "source": [
    "# Employee data\n",
    "cur.execute(\"\"\"SELECT *\n",
    "               FROM Employee\n",
    "               \"\"\")\n",
    "employee = pd.DataFrame(cur.fetchall())\n",
    "employee.columns = [x[0] for x in cur.description]\n",
    "employee.head()"
   ]
  },
  {
   "cell_type": "code",
   "execution_count": 8,
   "metadata": {},
   "outputs": [
    {
     "data": {
      "text/html": [
       "<div>\n",
       "<style scoped>\n",
       "    .dataframe tbody tr th:only-of-type {\n",
       "        vertical-align: middle;\n",
       "    }\n",
       "\n",
       "    .dataframe tbody tr th {\n",
       "        vertical-align: top;\n",
       "    }\n",
       "\n",
       "    .dataframe thead th {\n",
       "        text-align: right;\n",
       "    }\n",
       "</style>\n",
       "<table border=\"1\" class=\"dataframe\">\n",
       "  <thead>\n",
       "    <tr style=\"text-align: right;\">\n",
       "      <th></th>\n",
       "      <th>Id</th>\n",
       "      <th>CustomerId</th>\n",
       "      <th>EmployeeId</th>\n",
       "      <th>OrderDate</th>\n",
       "      <th>RequiredDate</th>\n",
       "      <th>ShippedDate</th>\n",
       "      <th>ShipVia</th>\n",
       "      <th>Freight</th>\n",
       "      <th>ShipName</th>\n",
       "      <th>ShipAddress</th>\n",
       "      <th>ShipCity</th>\n",
       "      <th>ShipRegion</th>\n",
       "      <th>ShipPostalCode</th>\n",
       "      <th>ShipCountry</th>\n",
       "    </tr>\n",
       "  </thead>\n",
       "  <tbody>\n",
       "    <tr>\n",
       "      <th>0</th>\n",
       "      <td>10248</td>\n",
       "      <td>VINET</td>\n",
       "      <td>5</td>\n",
       "      <td>2012-07-04</td>\n",
       "      <td>2012-08-01</td>\n",
       "      <td>2012-07-16</td>\n",
       "      <td>3</td>\n",
       "      <td>32.38</td>\n",
       "      <td>Vins et alcools Chevalier</td>\n",
       "      <td>59 rue de l'Abbaye</td>\n",
       "      <td>Reims</td>\n",
       "      <td>Western Europe</td>\n",
       "      <td>51100</td>\n",
       "      <td>France</td>\n",
       "    </tr>\n",
       "    <tr>\n",
       "      <th>1</th>\n",
       "      <td>10249</td>\n",
       "      <td>TOMSP</td>\n",
       "      <td>6</td>\n",
       "      <td>2012-07-05</td>\n",
       "      <td>2012-08-16</td>\n",
       "      <td>2012-07-10</td>\n",
       "      <td>1</td>\n",
       "      <td>11.61</td>\n",
       "      <td>Toms Spezialitäten</td>\n",
       "      <td>Luisenstr. 48</td>\n",
       "      <td>Münster</td>\n",
       "      <td>Western Europe</td>\n",
       "      <td>44087</td>\n",
       "      <td>Germany</td>\n",
       "    </tr>\n",
       "    <tr>\n",
       "      <th>2</th>\n",
       "      <td>10250</td>\n",
       "      <td>HANAR</td>\n",
       "      <td>4</td>\n",
       "      <td>2012-07-08</td>\n",
       "      <td>2012-08-05</td>\n",
       "      <td>2012-07-12</td>\n",
       "      <td>2</td>\n",
       "      <td>65.83</td>\n",
       "      <td>Hanari Carnes</td>\n",
       "      <td>Rua do Paço, 67</td>\n",
       "      <td>Rio de Janeiro</td>\n",
       "      <td>South America</td>\n",
       "      <td>05454-876</td>\n",
       "      <td>Brazil</td>\n",
       "    </tr>\n",
       "    <tr>\n",
       "      <th>3</th>\n",
       "      <td>10251</td>\n",
       "      <td>VICTE</td>\n",
       "      <td>3</td>\n",
       "      <td>2012-07-08</td>\n",
       "      <td>2012-08-05</td>\n",
       "      <td>2012-07-15</td>\n",
       "      <td>1</td>\n",
       "      <td>41.34</td>\n",
       "      <td>Victuailles en stock</td>\n",
       "      <td>2, rue du Commerce</td>\n",
       "      <td>Lyon</td>\n",
       "      <td>Western Europe</td>\n",
       "      <td>69004</td>\n",
       "      <td>France</td>\n",
       "    </tr>\n",
       "    <tr>\n",
       "      <th>4</th>\n",
       "      <td>10252</td>\n",
       "      <td>SUPRD</td>\n",
       "      <td>4</td>\n",
       "      <td>2012-07-09</td>\n",
       "      <td>2012-08-06</td>\n",
       "      <td>2012-07-11</td>\n",
       "      <td>2</td>\n",
       "      <td>51.30</td>\n",
       "      <td>Suprêmes délices</td>\n",
       "      <td>Boulevard Tirou, 255</td>\n",
       "      <td>Charleroi</td>\n",
       "      <td>Western Europe</td>\n",
       "      <td>B-6000</td>\n",
       "      <td>Belgium</td>\n",
       "    </tr>\n",
       "  </tbody>\n",
       "</table>\n",
       "</div>"
      ],
      "text/plain": [
       "      Id CustomerId  EmployeeId   OrderDate RequiredDate ShippedDate  ShipVia  \\\n",
       "0  10248      VINET           5  2012-07-04   2012-08-01  2012-07-16        3   \n",
       "1  10249      TOMSP           6  2012-07-05   2012-08-16  2012-07-10        1   \n",
       "2  10250      HANAR           4  2012-07-08   2012-08-05  2012-07-12        2   \n",
       "3  10251      VICTE           3  2012-07-08   2012-08-05  2012-07-15        1   \n",
       "4  10252      SUPRD           4  2012-07-09   2012-08-06  2012-07-11        2   \n",
       "\n",
       "   Freight                   ShipName           ShipAddress        ShipCity  \\\n",
       "0    32.38  Vins et alcools Chevalier    59 rue de l'Abbaye           Reims   \n",
       "1    11.61         Toms Spezialitäten         Luisenstr. 48         Münster   \n",
       "2    65.83              Hanari Carnes       Rua do Paço, 67  Rio de Janeiro   \n",
       "3    41.34       Victuailles en stock    2, rue du Commerce            Lyon   \n",
       "4    51.30           Suprêmes délices  Boulevard Tirou, 255       Charleroi   \n",
       "\n",
       "       ShipRegion ShipPostalCode ShipCountry  \n",
       "0  Western Europe          51100      France  \n",
       "1  Western Europe          44087     Germany  \n",
       "2   South America      05454-876      Brazil  \n",
       "3  Western Europe          69004      France  \n",
       "4  Western Europe         B-6000     Belgium  "
      ]
     },
     "execution_count": 8,
     "metadata": {},
     "output_type": "execute_result"
    }
   ],
   "source": [
    "# Order data\n",
    "cur.execute(\"\"\"SELECT *\n",
    "               FROM 'Order'\n",
    "               \"\"\")\n",
    "order = pd.DataFrame(cur.fetchall())\n",
    "order.columns = [x[0] for x in cur.description]\n",
    "order.head()"
   ]
  },
  {
   "cell_type": "code",
   "execution_count": 9,
   "metadata": {},
   "outputs": [
    {
     "data": {
      "text/html": [
       "<div>\n",
       "<style scoped>\n",
       "    .dataframe tbody tr th:only-of-type {\n",
       "        vertical-align: middle;\n",
       "    }\n",
       "\n",
       "    .dataframe tbody tr th {\n",
       "        vertical-align: top;\n",
       "    }\n",
       "\n",
       "    .dataframe thead th {\n",
       "        text-align: right;\n",
       "    }\n",
       "</style>\n",
       "<table border=\"1\" class=\"dataframe\">\n",
       "  <thead>\n",
       "    <tr style=\"text-align: right;\">\n",
       "      <th></th>\n",
       "      <th>Id</th>\n",
       "      <th>OrderId</th>\n",
       "      <th>ProductId</th>\n",
       "      <th>UnitPrice</th>\n",
       "      <th>Quantity</th>\n",
       "      <th>Discount</th>\n",
       "    </tr>\n",
       "  </thead>\n",
       "  <tbody>\n",
       "    <tr>\n",
       "      <th>0</th>\n",
       "      <td>10248/11</td>\n",
       "      <td>10248</td>\n",
       "      <td>11</td>\n",
       "      <td>14.0</td>\n",
       "      <td>12</td>\n",
       "      <td>0.0</td>\n",
       "    </tr>\n",
       "    <tr>\n",
       "      <th>1</th>\n",
       "      <td>10248/42</td>\n",
       "      <td>10248</td>\n",
       "      <td>42</td>\n",
       "      <td>9.8</td>\n",
       "      <td>10</td>\n",
       "      <td>0.0</td>\n",
       "    </tr>\n",
       "    <tr>\n",
       "      <th>2</th>\n",
       "      <td>10248/72</td>\n",
       "      <td>10248</td>\n",
       "      <td>72</td>\n",
       "      <td>34.8</td>\n",
       "      <td>5</td>\n",
       "      <td>0.0</td>\n",
       "    </tr>\n",
       "    <tr>\n",
       "      <th>3</th>\n",
       "      <td>10249/14</td>\n",
       "      <td>10249</td>\n",
       "      <td>14</td>\n",
       "      <td>18.6</td>\n",
       "      <td>9</td>\n",
       "      <td>0.0</td>\n",
       "    </tr>\n",
       "    <tr>\n",
       "      <th>4</th>\n",
       "      <td>10249/51</td>\n",
       "      <td>10249</td>\n",
       "      <td>51</td>\n",
       "      <td>42.4</td>\n",
       "      <td>40</td>\n",
       "      <td>0.0</td>\n",
       "    </tr>\n",
       "  </tbody>\n",
       "</table>\n",
       "</div>"
      ],
      "text/plain": [
       "         Id  OrderId  ProductId  UnitPrice  Quantity  Discount\n",
       "0  10248/11    10248         11       14.0        12       0.0\n",
       "1  10248/42    10248         42        9.8        10       0.0\n",
       "2  10248/72    10248         72       34.8         5       0.0\n",
       "3  10249/14    10249         14       18.6         9       0.0\n",
       "4  10249/51    10249         51       42.4        40       0.0"
      ]
     },
     "execution_count": 9,
     "metadata": {},
     "output_type": "execute_result"
    }
   ],
   "source": [
    "# OrderDetail data\n",
    "cur.execute(\"\"\"SELECT *\n",
    "               FROM OrderDetail\n",
    "               \"\"\")\n",
    "orderDetail = pd.DataFrame(cur.fetchall())\n",
    "orderDetail.columns = [x[0] for x in cur.description]\n",
    "orderDetail.head()"
   ]
  },
  {
   "cell_type": "code",
   "execution_count": 10,
   "metadata": {},
   "outputs": [
    {
     "data": {
      "text/html": [
       "<div>\n",
       "<style scoped>\n",
       "    .dataframe tbody tr th:only-of-type {\n",
       "        vertical-align: middle;\n",
       "    }\n",
       "\n",
       "    .dataframe tbody tr th {\n",
       "        vertical-align: top;\n",
       "    }\n",
       "\n",
       "    .dataframe thead th {\n",
       "        text-align: right;\n",
       "    }\n",
       "</style>\n",
       "<table border=\"1\" class=\"dataframe\">\n",
       "  <thead>\n",
       "    <tr style=\"text-align: right;\">\n",
       "      <th></th>\n",
       "      <th>TerritoryId</th>\n",
       "      <th>RegionId</th>\n",
       "      <th>EmployeeId</th>\n",
       "      <th>Region</th>\n",
       "      <th>LastName</th>\n",
       "      <th>Id</th>\n",
       "      <th>ProductId</th>\n",
       "      <th>ItemTotal</th>\n",
       "      <th>UnitPrice</th>\n",
       "      <th>Quantity</th>\n",
       "    </tr>\n",
       "  </thead>\n",
       "  <tbody>\n",
       "    <tr>\n",
       "      <th>0</th>\n",
       "      <td>01581</td>\n",
       "      <td>1</td>\n",
       "      <td>2</td>\n",
       "      <td>North America</td>\n",
       "      <td>Fuller</td>\n",
       "      <td>10265</td>\n",
       "      <td>17</td>\n",
       "      <td>936.0</td>\n",
       "      <td>31.20</td>\n",
       "      <td>30</td>\n",
       "    </tr>\n",
       "    <tr>\n",
       "      <th>1</th>\n",
       "      <td>01581</td>\n",
       "      <td>1</td>\n",
       "      <td>2</td>\n",
       "      <td>North America</td>\n",
       "      <td>Fuller</td>\n",
       "      <td>10265</td>\n",
       "      <td>70</td>\n",
       "      <td>240.0</td>\n",
       "      <td>12.00</td>\n",
       "      <td>20</td>\n",
       "    </tr>\n",
       "    <tr>\n",
       "      <th>2</th>\n",
       "      <td>01581</td>\n",
       "      <td>1</td>\n",
       "      <td>2</td>\n",
       "      <td>North America</td>\n",
       "      <td>Fuller</td>\n",
       "      <td>10277</td>\n",
       "      <td>28</td>\n",
       "      <td>728.0</td>\n",
       "      <td>36.40</td>\n",
       "      <td>20</td>\n",
       "    </tr>\n",
       "    <tr>\n",
       "      <th>3</th>\n",
       "      <td>01581</td>\n",
       "      <td>1</td>\n",
       "      <td>2</td>\n",
       "      <td>North America</td>\n",
       "      <td>Fuller</td>\n",
       "      <td>10277</td>\n",
       "      <td>62</td>\n",
       "      <td>472.8</td>\n",
       "      <td>39.40</td>\n",
       "      <td>12</td>\n",
       "    </tr>\n",
       "    <tr>\n",
       "      <th>4</th>\n",
       "      <td>01581</td>\n",
       "      <td>1</td>\n",
       "      <td>2</td>\n",
       "      <td>North America</td>\n",
       "      <td>Fuller</td>\n",
       "      <td>10280</td>\n",
       "      <td>24</td>\n",
       "      <td>43.2</td>\n",
       "      <td>3.60</td>\n",
       "      <td>12</td>\n",
       "    </tr>\n",
       "    <tr>\n",
       "      <th>...</th>\n",
       "      <td>...</td>\n",
       "      <td>...</td>\n",
       "      <td>...</td>\n",
       "      <td>...</td>\n",
       "      <td>...</td>\n",
       "      <td>...</td>\n",
       "      <td>...</td>\n",
       "      <td>...</td>\n",
       "      <td>...</td>\n",
       "      <td>...</td>\n",
       "    </tr>\n",
       "    <tr>\n",
       "      <th>10124</th>\n",
       "      <td>98104</td>\n",
       "      <td>2</td>\n",
       "      <td>6</td>\n",
       "      <td>British Isles</td>\n",
       "      <td>Suyama</td>\n",
       "      <td>11031</td>\n",
       "      <td>24</td>\n",
       "      <td>94.5</td>\n",
       "      <td>4.50</td>\n",
       "      <td>21</td>\n",
       "    </tr>\n",
       "    <tr>\n",
       "      <th>10125</th>\n",
       "      <td>98104</td>\n",
       "      <td>2</td>\n",
       "      <td>6</td>\n",
       "      <td>British Isles</td>\n",
       "      <td>Suyama</td>\n",
       "      <td>11031</td>\n",
       "      <td>64</td>\n",
       "      <td>665.0</td>\n",
       "      <td>33.25</td>\n",
       "      <td>20</td>\n",
       "    </tr>\n",
       "    <tr>\n",
       "      <th>10126</th>\n",
       "      <td>98104</td>\n",
       "      <td>2</td>\n",
       "      <td>6</td>\n",
       "      <td>British Isles</td>\n",
       "      <td>Suyama</td>\n",
       "      <td>11031</td>\n",
       "      <td>71</td>\n",
       "      <td>344.0</td>\n",
       "      <td>21.50</td>\n",
       "      <td>16</td>\n",
       "    </tr>\n",
       "    <tr>\n",
       "      <th>10127</th>\n",
       "      <td>98104</td>\n",
       "      <td>2</td>\n",
       "      <td>6</td>\n",
       "      <td>British Isles</td>\n",
       "      <td>Suyama</td>\n",
       "      <td>11045</td>\n",
       "      <td>33</td>\n",
       "      <td>37.5</td>\n",
       "      <td>2.50</td>\n",
       "      <td>15</td>\n",
       "    </tr>\n",
       "    <tr>\n",
       "      <th>10128</th>\n",
       "      <td>98104</td>\n",
       "      <td>2</td>\n",
       "      <td>6</td>\n",
       "      <td>British Isles</td>\n",
       "      <td>Suyama</td>\n",
       "      <td>11045</td>\n",
       "      <td>51</td>\n",
       "      <td>1272.0</td>\n",
       "      <td>53.00</td>\n",
       "      <td>24</td>\n",
       "    </tr>\n",
       "  </tbody>\n",
       "</table>\n",
       "<p>10129 rows × 10 columns</p>\n",
       "</div>"
      ],
      "text/plain": [
       "      TerritoryId  RegionId  EmployeeId         Region LastName     Id  \\\n",
       "0           01581         1           2  North America   Fuller  10265   \n",
       "1           01581         1           2  North America   Fuller  10265   \n",
       "2           01581         1           2  North America   Fuller  10277   \n",
       "3           01581         1           2  North America   Fuller  10277   \n",
       "4           01581         1           2  North America   Fuller  10280   \n",
       "...           ...       ...         ...            ...      ...    ...   \n",
       "10124       98104         2           6  British Isles   Suyama  11031   \n",
       "10125       98104         2           6  British Isles   Suyama  11031   \n",
       "10126       98104         2           6  British Isles   Suyama  11031   \n",
       "10127       98104         2           6  British Isles   Suyama  11045   \n",
       "10128       98104         2           6  British Isles   Suyama  11045   \n",
       "\n",
       "       ProductId  ItemTotal  UnitPrice  Quantity  \n",
       "0             17      936.0      31.20        30  \n",
       "1             70      240.0      12.00        20  \n",
       "2             28      728.0      36.40        20  \n",
       "3             62      472.8      39.40        12  \n",
       "4             24       43.2       3.60        12  \n",
       "...          ...        ...        ...       ...  \n",
       "10124         24       94.5       4.50        21  \n",
       "10125         64      665.0      33.25        20  \n",
       "10126         71      344.0      21.50        16  \n",
       "10127         33       37.5       2.50        15  \n",
       "10128         51     1272.0      53.00        24  \n",
       "\n",
       "[10129 rows x 10 columns]"
      ]
     },
     "execution_count": 10,
     "metadata": {},
     "output_type": "execute_result"
    }
   ],
   "source": [
    "# Import all data\n",
    "cur.execute(\"\"\"SELECT Territory.Id as TerritoryId, RegionId, EmployeeTerritory.EmployeeId, Employee.Region, Employee.LastName, 'Order'.Id, OrderDetail.ProductId, UnitPrice*Quantity as ItemTotal, UnitPrice, Quantity\n",
    "               FROM Territory\n",
    "               LEFT JOIN EmployeeTerritory ON Territory.Id = EmployeeTerritory.TerritoryId\n",
    "               JOIN Employee on EmployeeTerritory.EmployeeId = Employee.Id\n",
    "               JOIN 'Order' on Employee.Id = 'Order'.EmployeeId\n",
    "               JOIN OrderDetail on 'Order'.Id = OrderDetail.OrderId\n",
    "               \"\"\")\n",
    "df = pd.DataFrame(cur.fetchall())\n",
    "df.columns = [x[0] for x in cur.description]\n",
    "df"
   ]
  },
  {
   "cell_type": "markdown",
   "metadata": {},
   "source": [
    "## 4.2.2 Scrub Data<a id='Scrub Data'></a>\n",
    "\n",
    "The following scrubbing techniques were applied to the original data:\n",
    "- 4.2.2.1 Manage n/a data types\n",
    "- 4.2.2.2 Remove duplicate rows\n",
    "- 4.2.2.3 Manage data types\n",
    "- 4.2.2.4 Remove outliers"
   ]
  },
  {
   "cell_type": "markdown",
   "metadata": {},
   "source": [
    "### 4.2.2.1 Manage n/a data types"
   ]
  },
  {
   "cell_type": "code",
   "execution_count": 11,
   "metadata": {},
   "outputs": [
    {
     "name": "stdout",
     "output_type": "stream",
     "text": [
      "10129\n"
     ]
    },
    {
     "data": {
      "text/plain": [
       "TerritoryId    0\n",
       "RegionId       0\n",
       "EmployeeId     0\n",
       "Region         0\n",
       "LastName       0\n",
       "Id             0\n",
       "ProductId      0\n",
       "ItemTotal      0\n",
       "UnitPrice      0\n",
       "Quantity       0\n",
       "dtype: int64"
      ]
     },
     "execution_count": 11,
     "metadata": {},
     "output_type": "execute_result"
    }
   ],
   "source": [
    "# nans identification\n",
    "print(len(df))\n",
    "df.isna().sum()"
   ]
  },
  {
   "cell_type": "markdown",
   "metadata": {},
   "source": [
    "### 4.2.2.2 Remove duplicate data"
   ]
  },
  {
   "cell_type": "code",
   "execution_count": 12,
   "metadata": {},
   "outputs": [
    {
     "name": "stdout",
     "output_type": "stream",
     "text": [
      "duplicated rows: 0\n"
     ]
    }
   ],
   "source": [
    "# identification of duplicate data\n",
    "print('duplicated rows: ' + str(df.duplicated().sum()))"
   ]
  },
  {
   "cell_type": "code",
   "execution_count": 13,
   "metadata": {},
   "outputs": [
    {
     "name": "stdout",
     "output_type": "stream",
     "text": [
      "duplicated rows: 0\n"
     ]
    }
   ],
   "source": [
    "# code to drop duplicate row if necessary\n",
    "df.drop_duplicates(inplace=True)\n",
    "print('duplicated rows: ' + str(df.duplicated().sum()))"
   ]
  },
  {
   "cell_type": "markdown",
   "metadata": {},
   "source": [
    "### 4.2.2.3 Manage data types\n",
    "\n",
    "First, let's see what the data types for this data set are."
   ]
  },
  {
   "cell_type": "code",
   "execution_count": 14,
   "metadata": {},
   "outputs": [
    {
     "name": "stdout",
     "output_type": "stream",
     "text": [
      "<class 'pandas.core.frame.DataFrame'>\n",
      "Int64Index: 10129 entries, 0 to 10128\n",
      "Data columns (total 10 columns):\n",
      "TerritoryId    10129 non-null object\n",
      "RegionId       10129 non-null int64\n",
      "EmployeeId     10129 non-null int64\n",
      "Region         10129 non-null object\n",
      "LastName       10129 non-null object\n",
      "Id             10129 non-null int64\n",
      "ProductId      10129 non-null int64\n",
      "ItemTotal      10129 non-null float64\n",
      "UnitPrice      10129 non-null float64\n",
      "Quantity       10129 non-null int64\n",
      "dtypes: float64(2), int64(5), object(3)\n",
      "memory usage: 870.5+ KB\n"
     ]
    }
   ],
   "source": [
    "# data type identification\n",
    "df.info()"
   ]
  },
  {
   "cell_type": "code",
   "execution_count": 15,
   "metadata": {},
   "outputs": [
    {
     "data": {
      "text/plain": [
       "array(['01581', '01730', '01833', '02116', '02139', '02184', '02903',\n",
       "       '03049', '03801', '06897', '07960', '08837', '10019', '10038',\n",
       "       '11747', '14450', '19428', '19713', '20852', '27403', '27511',\n",
       "       '30346', '31406', '32859', '33607', '40222', '44122', '45839',\n",
       "       '48075', '48084', '48304', '53404', '55113', '55439', '60179',\n",
       "       '60601', '80202', '80909', '85014', '85251', '90405', '94025',\n",
       "       '94105', '95008', '95054', '95060', '98004', '98052', '98104'],\n",
       "      dtype=object)"
      ]
     },
     "execution_count": 15,
     "metadata": {},
     "output_type": "execute_result"
    }
   ],
   "source": [
    "df.TerritoryId.unique()"
   ]
  },
  {
   "cell_type": "code",
   "execution_count": 16,
   "metadata": {},
   "outputs": [
    {
     "name": "stdout",
     "output_type": "stream",
     "text": [
      "<class 'pandas.core.frame.DataFrame'>\n",
      "Int64Index: 10129 entries, 0 to 10128\n",
      "Data columns (total 10 columns):\n",
      "TerritoryId    10129 non-null int32\n",
      "RegionId       10129 non-null int64\n",
      "EmployeeId     10129 non-null int64\n",
      "Region         10129 non-null object\n",
      "LastName       10129 non-null object\n",
      "Id             10129 non-null int64\n",
      "ProductId      10129 non-null int64\n",
      "ItemTotal      10129 non-null float64\n",
      "UnitPrice      10129 non-null float64\n",
      "Quantity       10129 non-null int64\n",
      "dtypes: float64(2), int32(1), int64(5), object(2)\n",
      "memory usage: 830.9+ KB\n"
     ]
    }
   ],
   "source": [
    "df['TerritoryId'] = df['TerritoryId'].astype(int)\n",
    "df.info()"
   ]
  },
  {
   "cell_type": "code",
   "execution_count": 17,
   "metadata": {},
   "outputs": [
    {
     "data": {
      "text/plain": [
       "array(['North America', 'British Isles'], dtype=object)"
      ]
     },
     "execution_count": 17,
     "metadata": {},
     "output_type": "execute_result"
    }
   ],
   "source": [
    "df.Region.unique()"
   ]
  },
  {
   "cell_type": "code",
   "execution_count": 18,
   "metadata": {},
   "outputs": [],
   "source": [
    "df['Region'] = ['British_Isles' if x == 'British Isles' else 'North_America' for x in df['Region']]"
   ]
  },
  {
   "cell_type": "code",
   "execution_count": 19,
   "metadata": {},
   "outputs": [
    {
     "name": "stdout",
     "output_type": "stream",
     "text": [
      "<class 'pandas.core.frame.DataFrame'>\n",
      "Int64Index: 10129 entries, 0 to 10128\n",
      "Data columns (total 10 columns):\n",
      "TerritoryId    10129 non-null int32\n",
      "RegionId       10129 non-null int64\n",
      "EmployeeId     10129 non-null int64\n",
      "Region         10129 non-null object\n",
      "LastName       10129 non-null object\n",
      "Id             10129 non-null int64\n",
      "ProductId      10129 non-null int64\n",
      "ItemTotal      10129 non-null float64\n",
      "UnitPrice      10129 non-null float64\n",
      "Quantity       10129 non-null int64\n",
      "dtypes: float64(2), int32(1), int64(5), object(2)\n",
      "memory usage: 830.9+ KB\n"
     ]
    }
   ],
   "source": [
    "df.info()"
   ]
  },
  {
   "cell_type": "code",
   "execution_count": 20,
   "metadata": {},
   "outputs": [
    {
     "data": {
      "text/plain": [
       "array(['North_America', 'British_Isles'], dtype=object)"
      ]
     },
     "execution_count": 20,
     "metadata": {},
     "output_type": "execute_result"
    }
   ],
   "source": [
    "df.Region.unique()"
   ]
  },
  {
   "cell_type": "code",
   "execution_count": 21,
   "metadata": {},
   "outputs": [
    {
     "name": "stdout",
     "output_type": "stream",
     "text": [
      "<class 'pandas.core.frame.DataFrame'>\n",
      "Int64Index: 10129 entries, 0 to 10128\n",
      "Data columns (total 10 columns):\n",
      "TerritoryId    10129 non-null int32\n",
      "RegionId       10129 non-null int64\n",
      "EmployeeId     10129 non-null int64\n",
      "Region         10129 non-null object\n",
      "LastName       10129 non-null object\n",
      "Id             10129 non-null int64\n",
      "ProductId      10129 non-null int64\n",
      "ItemTotal      10129 non-null float64\n",
      "UnitPrice      10129 non-null float64\n",
      "Quantity       10129 non-null int64\n",
      "dtypes: float64(2), int32(1), int64(5), object(2)\n",
      "memory usage: 830.9+ KB\n"
     ]
    }
   ],
   "source": [
    "df['Region'] = [str(x) for x in df['Region']]\n",
    "df.info()"
   ]
  },
  {
   "cell_type": "code",
   "execution_count": 22,
   "metadata": {},
   "outputs": [
    {
     "data": {
      "text/plain": [
       "Index(['TerritoryId', 'RegionId', 'EmployeeId', 'Region', 'LastName', 'Id',\n",
       "       'ProductId', 'ItemTotal', 'UnitPrice', 'Quantity'],\n",
       "      dtype='object')"
      ]
     },
     "execution_count": 22,
     "metadata": {},
     "output_type": "execute_result"
    }
   ],
   "source": [
    "df.columns"
   ]
  },
  {
   "cell_type": "markdown",
   "metadata": {},
   "source": [
    "Observations about data types"
   ]
  },
  {
   "cell_type": "markdown",
   "metadata": {},
   "source": [
    "### 4.2.2.4 Remove outliers"
   ]
  },
  {
   "cell_type": "code",
   "execution_count": 23,
   "metadata": {},
   "outputs": [],
   "source": [
    "# outlier identification\n",
    "pass"
   ]
  },
  {
   "cell_type": "code",
   "execution_count": 24,
   "metadata": {},
   "outputs": [],
   "source": [
    "# management of outliers\n",
    "pass"
   ]
  },
  {
   "cell_type": "markdown",
   "metadata": {},
   "source": [
    "### Looking at the necessary data"
   ]
  },
  {
   "cell_type": "markdown",
   "metadata": {},
   "source": [
    "## 4.2.3 Explore Data<a id='Explore Data'></a>\n",
    "\n",
    "For a quick preview of what we have to work with, we'll use the describe method.\n",
    "\n",
    "- 4.2.3.1 Visualize data\n",
    "- 4.2.3.2 Transform data\n",
    "- 4.2.3.3 Sort data / Prepare data for testing\n",
    "- 4.2.3.4 Develop Feature"
   ]
  },
  {
   "cell_type": "code",
   "execution_count": 25,
   "metadata": {},
   "outputs": [
    {
     "data": {
      "text/html": [
       "<div>\n",
       "<style scoped>\n",
       "    .dataframe tbody tr th:only-of-type {\n",
       "        vertical-align: middle;\n",
       "    }\n",
       "\n",
       "    .dataframe tbody tr th {\n",
       "        vertical-align: top;\n",
       "    }\n",
       "\n",
       "    .dataframe thead th {\n",
       "        text-align: right;\n",
       "    }\n",
       "</style>\n",
       "<table border=\"1\" class=\"dataframe\">\n",
       "  <thead>\n",
       "    <tr style=\"text-align: right;\">\n",
       "      <th></th>\n",
       "      <th>TerritoryId</th>\n",
       "      <th>RegionId</th>\n",
       "      <th>EmployeeId</th>\n",
       "      <th>Id</th>\n",
       "      <th>ProductId</th>\n",
       "      <th>ItemTotal</th>\n",
       "      <th>UnitPrice</th>\n",
       "      <th>Quantity</th>\n",
       "    </tr>\n",
       "  </thead>\n",
       "  <tbody>\n",
       "    <tr>\n",
       "      <th>count</th>\n",
       "      <td>10129.000000</td>\n",
       "      <td>10129.000000</td>\n",
       "      <td>10129.000000</td>\n",
       "      <td>10129.000000</td>\n",
       "      <td>10129.000000</td>\n",
       "      <td>10129.000000</td>\n",
       "      <td>10129.000000</td>\n",
       "      <td>10129.000000</td>\n",
       "    </tr>\n",
       "    <tr>\n",
       "      <th>mean</th>\n",
       "      <td>39445.883503</td>\n",
       "      <td>1.990226</td>\n",
       "      <td>4.884194</td>\n",
       "      <td>10663.762563</td>\n",
       "      <td>40.567874</td>\n",
       "      <td>661.287053</td>\n",
       "      <td>26.519361</td>\n",
       "      <td>24.343963</td>\n",
       "    </tr>\n",
       "    <tr>\n",
       "      <th>std</th>\n",
       "      <td>32149.598006</td>\n",
       "      <td>1.060010</td>\n",
       "      <td>2.468345</td>\n",
       "      <td>240.279728</td>\n",
       "      <td>22.098367</td>\n",
       "      <td>1122.766498</td>\n",
       "      <td>30.607125</td>\n",
       "      <td>19.410689</td>\n",
       "    </tr>\n",
       "    <tr>\n",
       "      <th>min</th>\n",
       "      <td>1581.000000</td>\n",
       "      <td>1.000000</td>\n",
       "      <td>1.000000</td>\n",
       "      <td>10248.000000</td>\n",
       "      <td>1.000000</td>\n",
       "      <td>4.800000</td>\n",
       "      <td>2.000000</td>\n",
       "      <td>1.000000</td>\n",
       "    </tr>\n",
       "    <tr>\n",
       "      <th>25%</th>\n",
       "      <td>10038.000000</td>\n",
       "      <td>1.000000</td>\n",
       "      <td>3.000000</td>\n",
       "      <td>10460.000000</td>\n",
       "      <td>22.000000</td>\n",
       "      <td>156.150000</td>\n",
       "      <td>12.000000</td>\n",
       "      <td>10.000000</td>\n",
       "    </tr>\n",
       "    <tr>\n",
       "      <th>50%</th>\n",
       "      <td>31406.000000</td>\n",
       "      <td>2.000000</td>\n",
       "      <td>5.000000</td>\n",
       "      <td>10659.000000</td>\n",
       "      <td>41.000000</td>\n",
       "      <td>372.000000</td>\n",
       "      <td>18.400000</td>\n",
       "      <td>20.000000</td>\n",
       "    </tr>\n",
       "    <tr>\n",
       "      <th>75%</th>\n",
       "      <td>60179.000000</td>\n",
       "      <td>3.000000</td>\n",
       "      <td>7.000000</td>\n",
       "      <td>10869.000000</td>\n",
       "      <td>60.000000</td>\n",
       "      <td>733.600000</td>\n",
       "      <td>32.800000</td>\n",
       "      <td>30.000000</td>\n",
       "    </tr>\n",
       "    <tr>\n",
       "      <th>max</th>\n",
       "      <td>98104.000000</td>\n",
       "      <td>4.000000</td>\n",
       "      <td>9.000000</td>\n",
       "      <td>11077.000000</td>\n",
       "      <td>77.000000</td>\n",
       "      <td>15810.000000</td>\n",
       "      <td>263.500000</td>\n",
       "      <td>130.000000</td>\n",
       "    </tr>\n",
       "  </tbody>\n",
       "</table>\n",
       "</div>"
      ],
      "text/plain": [
       "        TerritoryId      RegionId    EmployeeId            Id     ProductId  \\\n",
       "count  10129.000000  10129.000000  10129.000000  10129.000000  10129.000000   \n",
       "mean   39445.883503      1.990226      4.884194  10663.762563     40.567874   \n",
       "std    32149.598006      1.060010      2.468345    240.279728     22.098367   \n",
       "min     1581.000000      1.000000      1.000000  10248.000000      1.000000   \n",
       "25%    10038.000000      1.000000      3.000000  10460.000000     22.000000   \n",
       "50%    31406.000000      2.000000      5.000000  10659.000000     41.000000   \n",
       "75%    60179.000000      3.000000      7.000000  10869.000000     60.000000   \n",
       "max    98104.000000      4.000000      9.000000  11077.000000     77.000000   \n",
       "\n",
       "          ItemTotal     UnitPrice      Quantity  \n",
       "count  10129.000000  10129.000000  10129.000000  \n",
       "mean     661.287053     26.519361     24.343963  \n",
       "std     1122.766498     30.607125     19.410689  \n",
       "min        4.800000      2.000000      1.000000  \n",
       "25%      156.150000     12.000000     10.000000  \n",
       "50%      372.000000     18.400000     20.000000  \n",
       "75%      733.600000     32.800000     30.000000  \n",
       "max    15810.000000    263.500000    130.000000  "
      ]
     },
     "execution_count": 25,
     "metadata": {},
     "output_type": "execute_result"
    }
   ],
   "source": [
    "# describe data\n",
    "df.describe()"
   ]
  },
  {
   "cell_type": "markdown",
   "metadata": {},
   "source": [
    "Observations about df.describe()\n",
    "\n",
    "### 4.2.3.1 Visualize data"
   ]
  },
  {
   "cell_type": "code",
   "execution_count": 26,
   "metadata": {},
   "outputs": [
    {
     "data": {
      "image/png": "[encoded data removed]",
      "text/plain": [
       "<Figure size 1440x1440 with 9 Axes>"
      ]
     },
     "metadata": {
      "needs_background": "light"
     },
     "output_type": "display_data"
    }
   ],
   "source": [
    "# visualize data\n",
    "df.hist(figsize=(20,20));"
   ]
  },
  {
   "cell_type": "markdown",
   "metadata": {},
   "source": [
    "### 4.2.3.2 Transform data"
   ]
  },
  {
   "cell_type": "code",
   "execution_count": 27,
   "metadata": {},
   "outputs": [
    {
     "data": {
      "text/plain": [
       "<matplotlib.axes._subplots.AxesSubplot at 0x1b670fded68>"
      ]
     },
     "execution_count": 27,
     "metadata": {},
     "output_type": "execute_result"
    },
    {
     "data": {
      "image/png": "[encoded data removed]",
      "text/plain": [
       "<Figure size 432x288 with 1 Axes>"
      ]
     },
     "metadata": {
      "needs_background": "light"
     },
     "output_type": "display_data"
    }
   ],
   "source": [
    "log = df.copy(deep=True)\n",
    "log['ItemTotal'] = df['ItemTotal'].map(lambda x: np.log(x))\n",
    "log['Quantity'] = df['Quantity'].map(lambda x: np.log(x))\n",
    "log.ItemTotal.hist()"
   ]
  },
  {
   "cell_type": "markdown",
   "metadata": {},
   "source": [
    "### 4.2.3.3 Sort data / Prepare data for testing\n",
    "\n",
    "Plan and justification of sorting data"
   ]
  },
  {
   "cell_type": "code",
   "execution_count": 28,
   "metadata": {},
   "outputs": [],
   "source": [
    "# sort data\n",
    "pass"
   ]
  },
  {
   "cell_type": "markdown",
   "metadata": {},
   "source": [
    "Observations about sorted data"
   ]
  },
  {
   "cell_type": "markdown",
   "metadata": {},
   "source": [
    "### 4.2.3.4 Develop feature"
   ]
  },
  {
   "cell_type": "code",
   "execution_count": 29,
   "metadata": {},
   "outputs": [],
   "source": [
    "# create features\n",
    "pass"
   ]
  },
  {
   "cell_type": "markdown",
   "metadata": {},
   "source": [
    "## 4.2.4 Model Data<a id='Model Data'></a>\n",
    "\n",
    "- 1.2.4.1 Check for data normality\n",
    "- 1.2.4.2 Standard deviation and other basic statistics\n",
    "- 1.2.4.3 Statistical test\n",
    "- 1.2.4.4 Verification techniques"
   ]
  },
  {
   "cell_type": "markdown",
   "metadata": {},
   "source": [
    "### 4.2.4.1 Check for data normality"
   ]
  },
  {
   "cell_type": "code",
   "execution_count": 30,
   "metadata": {},
   "outputs": [
    {
     "data": {
      "image/png": "[encoded data removed]",
      "text/plain": [
       "<Figure size 1440x1440 with 9 Axes>"
      ]
     },
     "metadata": {
      "needs_background": "light"
     },
     "output_type": "display_data"
    }
   ],
   "source": [
    "# visual/code for data normality\n",
    "log.hist(figsize=(20,20));"
   ]
  },
  {
   "cell_type": "markdown",
   "metadata": {},
   "source": [
    "### 4.2.4.2 Standard deviation and other basic statistics"
   ]
  },
  {
   "cell_type": "code",
   "execution_count": 31,
   "metadata": {},
   "outputs": [
    {
     "name": "stdout",
     "output_type": "stream",
     "text": [
      "ItemTotal Population Measures of Variance\n",
      "numbers of samples: 10129\n",
      "population mean: 5.822359794298912\n",
      "population standard deviation: 1.165811275166423\n",
      "population variance: 1.3591159293051611\n",
      "skew: -0.09461385082008122\n",
      "Quantity Population Measures of Variance\n",
      "numbers of samples: 10129\n",
      "population mean: 2.874407680352321\n",
      "population standard deviation: 0.8598564746203211\n",
      "population variance: 0.739353156946487\n",
      "skew: -0.5729028877668095\n"
     ]
    }
   ],
   "source": [
    "# standard deviation for target variable\n",
    "print('ItemTotal Population Measures of Variance')\n",
    "print('numbers of samples: ' + str(len(log['ItemTotal'])))\n",
    "print('population mean: ' + str(mean(log['ItemTotal'])))\n",
    "print('population standard deviation: ' + str(std(log['ItemTotal'])))\n",
    "print('population variance: ' + str(std(log['ItemTotal'])**2))\n",
    "print('skew: ' + str(log['ItemTotal'].skew()))\n",
    "print('Quantity Population Measures of Variance')\n",
    "print('numbers of samples: ' + str(len(log['Quantity'])))\n",
    "print('population mean: ' + str(mean(log['Quantity'])))\n",
    "print('population standard deviation: ' + str(std(log['Quantity'])))\n",
    "print('population variance: ' + str(std(log['Quantity'])**2))\n",
    "print('skew: ' + str(log['Quantity'].skew()))"
   ]
  },
  {
   "cell_type": "markdown",
   "metadata": {},
   "source": [
    "### 4.2.4.3 Statistical test"
   ]
  },
  {
   "cell_type": "code",
   "execution_count": 32,
   "metadata": {},
   "outputs": [],
   "source": [
    "# set up variables for this particular test\n",
    "alpha = 0.05\n",
    "territoryId = [log[log['TerritoryId'] == x] for x in log['TerritoryId'].unique()]\n",
    "len(territoryId)\n",
    "x_bar_pop = log.ItemTotal.mean()\n",
    "x_bar_sample = [x['ItemTotal'].mean() for x in territoryId]\n",
    "sigma_pop = log.ItemTotal.std()\n",
    "sigma_sample = [x['ItemTotal'].std() for x in territoryId]\n",
    "n_pop = len(log.ItemTotal)\n",
    "n_sample = [len(x['ItemTotal']) for x in territoryId]\n",
    "mu_pop = mu_sample = 100\n",
    "dof = [x-1 for x in n_sample]"
   ]
  },
  {
   "cell_type": "code",
   "execution_count": 33,
   "metadata": {},
   "outputs": [
    {
     "data": {
      "text/plain": [
       "0.0010204081632653062"
      ]
     },
     "execution_count": 33,
     "metadata": {},
     "output_type": "execute_result"
    }
   ],
   "source": [
    "# bonferroni correction\n",
    "alpha_adj = alpha/(len(n_sample))\n",
    "alpha_adj"
   ]
  },
  {
   "cell_type": "code",
   "execution_count": 34,
   "metadata": {},
   "outputs": [],
   "source": [
    "# test\n",
    "x_bar = np.array([x_bar_pop - i for i in x_bar_sample])\n",
    "sigma = np.array([i**2 for i in sigma_sample])\n",
    "sigma_per_sample = sigma / n_sample\n",
    "t = ((x_bar) - (mu_pop-mu_sample)) / np.sqrt((sigma_pop**2/n_pop) + (sigma_per_sample))\n",
    "dof_t = pd.DataFrame()\n",
    "dof_t['dof'] = dof\n",
    "dof_t['t'] = t"
   ]
  },
  {
   "cell_type": "code",
   "execution_count": 35,
   "metadata": {},
   "outputs": [
    {
     "data": {
      "text/plain": [
       "array([0.68476546, 0.68476546, 0.68476546, 0.68476546, 0.68476546,\n",
       "       0.68476546, 0.72187205, 0.71759218, 0.71759218, 0.00880333,\n",
       "       0.72187205, 0.72187205, 0.72187205, 0.72187205, 0.72187205,\n",
       "       0.72187205, 0.21202311, 0.00880333, 0.27060678, 0.27060678,\n",
       "       0.27060678, 0.71619506, 0.71619506, 0.71619506, 0.71619506,\n",
       "       0.68476546, 0.21202311, 0.21202311, 0.71759218, 0.71759218,\n",
       "       0.71759218, 0.21202311, 0.71759218, 0.71759218, 0.85751959,\n",
       "       0.85751959, 0.85751959, 0.85751959, 0.00686218, 0.00686218,\n",
       "       0.85751959, 0.85751959, 0.85751959, 0.85751959, 0.85751959,\n",
       "       0.85751959, 0.00686218, 0.00686218, 0.00686218])"
      ]
     },
     "execution_count": 35,
     "metadata": {},
     "output_type": "execute_result"
    }
   ],
   "source": [
    "# result\n",
    "p_value = 1-stats.t.cdf(dof_t['t'], dof_t['dof'])\n",
    "p_value"
   ]
  },
  {
   "cell_type": "code",
   "execution_count": 87,
   "metadata": {},
   "outputs": [
    {
     "name": "stdout",
     "output_type": "stream",
     "text": [
      "0: Fail to reject the null hypothesis\n",
      "1: Fail to reject the null hypothesis\n",
      "2: Fail to reject the null hypothesis\n",
      "3: Fail to reject the null hypothesis\n",
      "4: Fail to reject the null hypothesis\n",
      "5: Fail to reject the null hypothesis\n",
      "6: Fail to reject the null hypothesis\n",
      "7: Fail to reject the null hypothesis\n",
      "8: Fail to reject the null hypothesis\n",
      "9: Reject the null hypothesis\n",
      "10: Fail to reject the null hypothesis\n",
      "11: Fail to reject the null hypothesis\n",
      "12: Fail to reject the null hypothesis\n",
      "13: Fail to reject the null hypothesis\n",
      "14: Fail to reject the null hypothesis\n",
      "15: Fail to reject the null hypothesis\n",
      "16: Fail to reject the null hypothesis\n",
      "17: Reject the null hypothesis\n",
      "18: Fail to reject the null hypothesis\n",
      "19: Fail to reject the null hypothesis\n",
      "20: Fail to reject the null hypothesis\n",
      "21: Fail to reject the null hypothesis\n",
      "22: Fail to reject the null hypothesis\n",
      "23: Fail to reject the null hypothesis\n",
      "24: Fail to reject the null hypothesis\n",
      "25: Fail to reject the null hypothesis\n",
      "26: Fail to reject the null hypothesis\n",
      "27: Fail to reject the null hypothesis\n",
      "28: Fail to reject the null hypothesis\n",
      "29: Fail to reject the null hypothesis\n",
      "30: Fail to reject the null hypothesis\n",
      "31: Fail to reject the null hypothesis\n",
      "32: Fail to reject the null hypothesis\n",
      "33: Fail to reject the null hypothesis\n",
      "34: Fail to reject the null hypothesis\n",
      "35: Fail to reject the null hypothesis\n",
      "36: Fail to reject the null hypothesis\n",
      "37: Fail to reject the null hypothesis\n",
      "38: Reject the null hypothesis\n",
      "39: Reject the null hypothesis\n",
      "40: Fail to reject the null hypothesis\n",
      "41: Fail to reject the null hypothesis\n",
      "42: Fail to reject the null hypothesis\n",
      "43: Fail to reject the null hypothesis\n",
      "44: Fail to reject the null hypothesis\n",
      "45: Fail to reject the null hypothesis\n",
      "46: Reject the null hypothesis\n",
      "47: Reject the null hypothesis\n",
      "48: Reject the null hypothesis\n"
     ]
    }
   ],
   "source": [
    "# evaluation of result\n",
    "for x,y in enumerate(p_value):\n",
    "    if alpha > y:\n",
    "        print(str(x) + ': Reject the null hypothesis')\n",
    "    else:\n",
    "        print(str(x) + ': Fail to reject the null hypothesis')"
   ]
  },
  {
   "cell_type": "code",
   "execution_count": 88,
   "metadata": {},
   "outputs": [
    {
     "name": "stdout",
     "output_type": "stream",
     "text": [
      "0: Fail to reject the null hypothesis\n",
      "1: Fail to reject the null hypothesis\n",
      "2: Fail to reject the null hypothesis\n",
      "3: Fail to reject the null hypothesis\n",
      "4: Fail to reject the null hypothesis\n",
      "5: Fail to reject the null hypothesis\n",
      "6: Fail to reject the null hypothesis\n",
      "7: Fail to reject the null hypothesis\n",
      "8: Fail to reject the null hypothesis\n",
      "9: Fail to reject the null hypothesis\n",
      "10: Fail to reject the null hypothesis\n",
      "11: Fail to reject the null hypothesis\n",
      "12: Fail to reject the null hypothesis\n",
      "13: Fail to reject the null hypothesis\n",
      "14: Fail to reject the null hypothesis\n",
      "15: Fail to reject the null hypothesis\n",
      "16: Fail to reject the null hypothesis\n",
      "17: Fail to reject the null hypothesis\n",
      "18: Fail to reject the null hypothesis\n",
      "19: Fail to reject the null hypothesis\n",
      "20: Fail to reject the null hypothesis\n",
      "21: Fail to reject the null hypothesis\n",
      "22: Fail to reject the null hypothesis\n",
      "23: Fail to reject the null hypothesis\n",
      "24: Fail to reject the null hypothesis\n",
      "25: Fail to reject the null hypothesis\n",
      "26: Fail to reject the null hypothesis\n",
      "27: Fail to reject the null hypothesis\n",
      "28: Fail to reject the null hypothesis\n",
      "29: Fail to reject the null hypothesis\n",
      "30: Fail to reject the null hypothesis\n",
      "31: Fail to reject the null hypothesis\n",
      "32: Fail to reject the null hypothesis\n",
      "33: Fail to reject the null hypothesis\n",
      "34: Fail to reject the null hypothesis\n",
      "35: Fail to reject the null hypothesis\n",
      "36: Fail to reject the null hypothesis\n",
      "37: Fail to reject the null hypothesis\n",
      "38: Fail to reject the null hypothesis\n",
      "39: Fail to reject the null hypothesis\n",
      "40: Fail to reject the null hypothesis\n",
      "41: Fail to reject the null hypothesis\n",
      "42: Fail to reject the null hypothesis\n",
      "43: Fail to reject the null hypothesis\n",
      "44: Fail to reject the null hypothesis\n",
      "45: Fail to reject the null hypothesis\n",
      "46: Fail to reject the null hypothesis\n",
      "47: Fail to reject the null hypothesis\n",
      "48: Fail to reject the null hypothesis\n"
     ]
    }
   ],
   "source": [
    "# evaluation of result with bonferroni correction\n",
    "for x,y in enumerate(p_value):\n",
    "    if alpha_adj > y:\n",
    "        print(str(x) + ': Reject the null hypothesis')\n",
    "    else:\n",
    "        print(str(x) + ': Fail to reject the null hypothesis')"
   ]
  },
  {
   "cell_type": "code",
   "execution_count": 37,
   "metadata": {},
   "outputs": [],
   "source": [
    "# variables for quantity\n",
    "x_bar_pop = log.Quantity.mean()\n",
    "x_bar_sample = [x['Quantity'].mean() for x in territoryId]\n",
    "sigma_pop = log.Quantity.std()\n",
    "sigma_sample = [x['Quantity'].std() for x in territoryId]\n",
    "n_pop = len(log.Quantity)\n",
    "n_sample = [len(x['Quantity']) for x in territoryId]\n",
    "mu_pop = mu_sample = 100\n",
    "dof = [x-1 for x in n_sample]"
   ]
  },
  {
   "cell_type": "code",
   "execution_count": 38,
   "metadata": {},
   "outputs": [],
   "source": [
    "# tests for quantity\n",
    "x_bar = np.array([x_bar_pop - i for i in x_bar_sample])\n",
    "sigma = np.array([i**2 for i in sigma_sample])\n",
    "sigma_per_sample = sigma / n_sample\n",
    "t = ((x_bar) - (mu_pop-mu_sample)) / np.sqrt((sigma_pop**2/n_pop) + (sigma_per_sample))\n",
    "dof_t = pd.DataFrame()\n",
    "dof_t['dof'] = dof\n",
    "dof_t['t'] = t"
   ]
  },
  {
   "cell_type": "code",
   "execution_count": 39,
   "metadata": {},
   "outputs": [
    {
     "data": {
      "text/plain": [
       "array([0.53239871, 0.53239871, 0.53239871, 0.53239871, 0.53239871,\n",
       "       0.53239871, 0.93952233, 0.69486033, 0.69486033, 0.00149569,\n",
       "       0.93952233, 0.93952233, 0.93952233, 0.93952233, 0.93952233,\n",
       "       0.93952233, 0.30183705, 0.00149569, 0.16568705, 0.16568705,\n",
       "       0.16568705, 0.69938616, 0.69938616, 0.69938616, 0.69938616,\n",
       "       0.53239871, 0.30183705, 0.30183705, 0.69486033, 0.69486033,\n",
       "       0.69486033, 0.30183705, 0.69486033, 0.69486033, 0.87918113,\n",
       "       0.87918113, 0.87918113, 0.87918113, 0.02595722, 0.02595722,\n",
       "       0.87918113, 0.87918113, 0.87918113, 0.87918113, 0.87918113,\n",
       "       0.87918113, 0.02595722, 0.02595722, 0.02595722])"
      ]
     },
     "execution_count": 39,
     "metadata": {},
     "output_type": "execute_result"
    }
   ],
   "source": [
    "# results for quantity\n",
    "p_value = 1-stats.t.cdf(dof_t['t'], dof_t['dof'])\n",
    "p_value"
   ]
  },
  {
   "cell_type": "code",
   "execution_count": 86,
   "metadata": {},
   "outputs": [
    {
     "name": "stdout",
     "output_type": "stream",
     "text": [
      "0: Fail to reject the null hypothesis\n",
      "1: Fail to reject the null hypothesis\n",
      "2: Fail to reject the null hypothesis\n",
      "3: Fail to reject the null hypothesis\n",
      "4: Fail to reject the null hypothesis\n",
      "5: Fail to reject the null hypothesis\n",
      "6: Fail to reject the null hypothesis\n",
      "7: Fail to reject the null hypothesis\n",
      "8: Fail to reject the null hypothesis\n",
      "9: Reject the null hypothesis\n",
      "10: Fail to reject the null hypothesis\n",
      "11: Fail to reject the null hypothesis\n",
      "12: Fail to reject the null hypothesis\n",
      "13: Fail to reject the null hypothesis\n",
      "14: Fail to reject the null hypothesis\n",
      "15: Fail to reject the null hypothesis\n",
      "16: Fail to reject the null hypothesis\n",
      "17: Reject the null hypothesis\n",
      "18: Fail to reject the null hypothesis\n",
      "19: Fail to reject the null hypothesis\n",
      "20: Fail to reject the null hypothesis\n",
      "21: Fail to reject the null hypothesis\n",
      "22: Fail to reject the null hypothesis\n",
      "23: Fail to reject the null hypothesis\n",
      "24: Fail to reject the null hypothesis\n",
      "25: Fail to reject the null hypothesis\n",
      "26: Fail to reject the null hypothesis\n",
      "27: Fail to reject the null hypothesis\n",
      "28: Fail to reject the null hypothesis\n",
      "29: Fail to reject the null hypothesis\n",
      "30: Fail to reject the null hypothesis\n",
      "31: Fail to reject the null hypothesis\n",
      "32: Fail to reject the null hypothesis\n",
      "33: Fail to reject the null hypothesis\n",
      "34: Fail to reject the null hypothesis\n",
      "35: Fail to reject the null hypothesis\n",
      "36: Fail to reject the null hypothesis\n",
      "37: Fail to reject the null hypothesis\n",
      "38: Reject the null hypothesis\n",
      "39: Reject the null hypothesis\n",
      "40: Fail to reject the null hypothesis\n",
      "41: Fail to reject the null hypothesis\n",
      "42: Fail to reject the null hypothesis\n",
      "43: Fail to reject the null hypothesis\n",
      "44: Fail to reject the null hypothesis\n",
      "45: Fail to reject the null hypothesis\n",
      "46: Reject the null hypothesis\n",
      "47: Reject the null hypothesis\n",
      "48: Reject the null hypothesis\n"
     ]
    }
   ],
   "source": [
    "# evaluation of result for quantity\n",
    "for x,y in enumerate(p_value):\n",
    "    if alpha > y:\n",
    "        print(str(x) + ': Reject the null hypothesis')\n",
    "    else:\n",
    "        print(str(x) + ': Fail to reject the null hypothesis')"
   ]
  },
  {
   "cell_type": "code",
   "execution_count": 90,
   "metadata": {},
   "outputs": [
    {
     "name": "stdout",
     "output_type": "stream",
     "text": [
      "0: Fail to reject the null hypothesis\n",
      "1: Fail to reject the null hypothesis\n",
      "2: Fail to reject the null hypothesis\n",
      "3: Fail to reject the null hypothesis\n",
      "4: Fail to reject the null hypothesis\n",
      "5: Fail to reject the null hypothesis\n",
      "6: Fail to reject the null hypothesis\n",
      "7: Fail to reject the null hypothesis\n",
      "8: Fail to reject the null hypothesis\n",
      "9: Fail to reject the null hypothesis\n",
      "10: Fail to reject the null hypothesis\n",
      "11: Fail to reject the null hypothesis\n",
      "12: Fail to reject the null hypothesis\n",
      "13: Fail to reject the null hypothesis\n",
      "14: Fail to reject the null hypothesis\n",
      "15: Fail to reject the null hypothesis\n",
      "16: Fail to reject the null hypothesis\n",
      "17: Fail to reject the null hypothesis\n",
      "18: Fail to reject the null hypothesis\n",
      "19: Fail to reject the null hypothesis\n",
      "20: Fail to reject the null hypothesis\n",
      "21: Fail to reject the null hypothesis\n",
      "22: Fail to reject the null hypothesis\n",
      "23: Fail to reject the null hypothesis\n",
      "24: Fail to reject the null hypothesis\n",
      "25: Fail to reject the null hypothesis\n",
      "26: Fail to reject the null hypothesis\n",
      "27: Fail to reject the null hypothesis\n",
      "28: Fail to reject the null hypothesis\n",
      "29: Fail to reject the null hypothesis\n",
      "30: Fail to reject the null hypothesis\n",
      "31: Fail to reject the null hypothesis\n",
      "32: Fail to reject the null hypothesis\n",
      "33: Fail to reject the null hypothesis\n",
      "34: Fail to reject the null hypothesis\n",
      "35: Fail to reject the null hypothesis\n",
      "36: Fail to reject the null hypothesis\n",
      "37: Fail to reject the null hypothesis\n",
      "38: Fail to reject the null hypothesis\n",
      "39: Fail to reject the null hypothesis\n",
      "40: Fail to reject the null hypothesis\n",
      "41: Fail to reject the null hypothesis\n",
      "42: Fail to reject the null hypothesis\n",
      "43: Fail to reject the null hypothesis\n",
      "44: Fail to reject the null hypothesis\n",
      "45: Fail to reject the null hypothesis\n",
      "46: Fail to reject the null hypothesis\n",
      "47: Fail to reject the null hypothesis\n",
      "48: Fail to reject the null hypothesis\n"
     ]
    }
   ],
   "source": [
    "# evaluation of result for quantity with bonferroni correction\n",
    "for x,y in enumerate(p_value):\n",
    "    if alpha_adj > y:\n",
    "        print(str(x) + ': Reject the null hypothesis')\n",
    "    else:\n",
    "        print(str(x) + ': Fail to reject the null hypothesis')"
   ]
  },
  {
   "cell_type": "code",
   "execution_count": 41,
   "metadata": {},
   "outputs": [],
   "source": [
    "# For Region's 7, 8, 9, 10, 11, 26, 27\n",
    "territory_85014 = territoryId[7]\n",
    "territory_85251 = territoryId[8]\n",
    "territory_98004 = territoryId[9]\n",
    "territory_98052 = territoryId[10]\n",
    "territory_98104 = territoryId[11]\n",
    "territory_06897 = territoryId[26]\n",
    "territory_19713 = territoryId[27]"
   ]
  },
  {
   "cell_type": "code",
   "execution_count": 42,
   "metadata": {},
   "outputs": [
    {
     "data": {
      "text/html": [
       "<div>\n",
       "<style scoped>\n",
       "    .dataframe tbody tr th:only-of-type {\n",
       "        vertical-align: middle;\n",
       "    }\n",
       "\n",
       "    .dataframe tbody tr th {\n",
       "        vertical-align: top;\n",
       "    }\n",
       "\n",
       "    .dataframe thead th {\n",
       "        text-align: right;\n",
       "    }\n",
       "</style>\n",
       "<table border=\"1\" class=\"dataframe\">\n",
       "  <thead>\n",
       "    <tr style=\"text-align: right;\">\n",
       "      <th></th>\n",
       "      <th>TerritoryId</th>\n",
       "      <th>RegionId</th>\n",
       "      <th>EmployeeId</th>\n",
       "      <th>Region</th>\n",
       "      <th>LastName</th>\n",
       "      <th>Id</th>\n",
       "      <th>ProductId</th>\n",
       "      <th>ItemTotal</th>\n",
       "      <th>UnitPrice</th>\n",
       "      <th>Quantity</th>\n",
       "    </tr>\n",
       "  </thead>\n",
       "  <tbody>\n",
       "    <tr>\n",
       "      <th>1563</th>\n",
       "      <td>3049</td>\n",
       "      <td>3</td>\n",
       "      <td>9</td>\n",
       "      <td>British_Isles</td>\n",
       "      <td>Dodsworth</td>\n",
       "      <td>10255</td>\n",
       "      <td>2</td>\n",
       "      <td>5.717028</td>\n",
       "      <td>15.2</td>\n",
       "      <td>2.995732</td>\n",
       "    </tr>\n",
       "    <tr>\n",
       "      <th>1564</th>\n",
       "      <td>3049</td>\n",
       "      <td>3</td>\n",
       "      <td>9</td>\n",
       "      <td>British_Isles</td>\n",
       "      <td>Dodsworth</td>\n",
       "      <td>10255</td>\n",
       "      <td>16</td>\n",
       "      <td>6.187237</td>\n",
       "      <td>13.9</td>\n",
       "      <td>3.555348</td>\n",
       "    </tr>\n",
       "    <tr>\n",
       "      <th>1565</th>\n",
       "      <td>3049</td>\n",
       "      <td>3</td>\n",
       "      <td>9</td>\n",
       "      <td>British_Isles</td>\n",
       "      <td>Dodsworth</td>\n",
       "      <td>10255</td>\n",
       "      <td>36</td>\n",
       "      <td>5.940171</td>\n",
       "      <td>15.2</td>\n",
       "      <td>3.218876</td>\n",
       "    </tr>\n",
       "    <tr>\n",
       "      <th>1566</th>\n",
       "      <td>3049</td>\n",
       "      <td>3</td>\n",
       "      <td>9</td>\n",
       "      <td>British_Isles</td>\n",
       "      <td>Dodsworth</td>\n",
       "      <td>10255</td>\n",
       "      <td>59</td>\n",
       "      <td>7.185387</td>\n",
       "      <td>44.0</td>\n",
       "      <td>3.401197</td>\n",
       "    </tr>\n",
       "    <tr>\n",
       "      <th>1567</th>\n",
       "      <td>3049</td>\n",
       "      <td>3</td>\n",
       "      <td>9</td>\n",
       "      <td>British_Isles</td>\n",
       "      <td>Dodsworth</td>\n",
       "      <td>10263</td>\n",
       "      <td>16</td>\n",
       "      <td>6.726233</td>\n",
       "      <td>13.9</td>\n",
       "      <td>4.094345</td>\n",
       "    </tr>\n",
       "    <tr>\n",
       "      <th>...</th>\n",
       "      <td>...</td>\n",
       "      <td>...</td>\n",
       "      <td>...</td>\n",
       "      <td>...</td>\n",
       "      <td>...</td>\n",
       "      <td>...</td>\n",
       "      <td>...</td>\n",
       "      <td>...</td>\n",
       "      <td>...</td>\n",
       "      <td>...</td>\n",
       "    </tr>\n",
       "    <tr>\n",
       "      <th>1665</th>\n",
       "      <td>3049</td>\n",
       "      <td>3</td>\n",
       "      <td>9</td>\n",
       "      <td>British_Isles</td>\n",
       "      <td>Dodsworth</td>\n",
       "      <td>11022</td>\n",
       "      <td>19</td>\n",
       "      <td>5.774552</td>\n",
       "      <td>9.2</td>\n",
       "      <td>3.555348</td>\n",
       "    </tr>\n",
       "    <tr>\n",
       "      <th>1666</th>\n",
       "      <td>3049</td>\n",
       "      <td>3</td>\n",
       "      <td>9</td>\n",
       "      <td>British_Isles</td>\n",
       "      <td>Dodsworth</td>\n",
       "      <td>11022</td>\n",
       "      <td>69</td>\n",
       "      <td>6.984716</td>\n",
       "      <td>36.0</td>\n",
       "      <td>3.401197</td>\n",
       "    </tr>\n",
       "    <tr>\n",
       "      <th>1667</th>\n",
       "      <td>3049</td>\n",
       "      <td>3</td>\n",
       "      <td>9</td>\n",
       "      <td>British_Isles</td>\n",
       "      <td>Dodsworth</td>\n",
       "      <td>11058</td>\n",
       "      <td>21</td>\n",
       "      <td>3.401197</td>\n",
       "      <td>10.0</td>\n",
       "      <td>1.098612</td>\n",
       "    </tr>\n",
       "    <tr>\n",
       "      <th>1668</th>\n",
       "      <td>3049</td>\n",
       "      <td>3</td>\n",
       "      <td>9</td>\n",
       "      <td>British_Isles</td>\n",
       "      <td>Dodsworth</td>\n",
       "      <td>11058</td>\n",
       "      <td>60</td>\n",
       "      <td>6.570883</td>\n",
       "      <td>34.0</td>\n",
       "      <td>3.044522</td>\n",
       "    </tr>\n",
       "    <tr>\n",
       "      <th>1669</th>\n",
       "      <td>3049</td>\n",
       "      <td>3</td>\n",
       "      <td>9</td>\n",
       "      <td>British_Isles</td>\n",
       "      <td>Dodsworth</td>\n",
       "      <td>11058</td>\n",
       "      <td>61</td>\n",
       "      <td>4.736198</td>\n",
       "      <td>28.5</td>\n",
       "      <td>1.386294</td>\n",
       "    </tr>\n",
       "  </tbody>\n",
       "</table>\n",
       "<p>107 rows × 10 columns</p>\n",
       "</div>"
      ],
      "text/plain": [
       "      TerritoryId  RegionId  EmployeeId         Region   LastName     Id  \\\n",
       "1563         3049         3           9  British_Isles  Dodsworth  10255   \n",
       "1564         3049         3           9  British_Isles  Dodsworth  10255   \n",
       "1565         3049         3           9  British_Isles  Dodsworth  10255   \n",
       "1566         3049         3           9  British_Isles  Dodsworth  10255   \n",
       "1567         3049         3           9  British_Isles  Dodsworth  10263   \n",
       "...           ...       ...         ...            ...        ...    ...   \n",
       "1665         3049         3           9  British_Isles  Dodsworth  11022   \n",
       "1666         3049         3           9  British_Isles  Dodsworth  11022   \n",
       "1667         3049         3           9  British_Isles  Dodsworth  11058   \n",
       "1668         3049         3           9  British_Isles  Dodsworth  11058   \n",
       "1669         3049         3           9  British_Isles  Dodsworth  11058   \n",
       "\n",
       "      ProductId  ItemTotal  UnitPrice  Quantity  \n",
       "1563          2   5.717028       15.2  2.995732  \n",
       "1564         16   6.187237       13.9  3.555348  \n",
       "1565         36   5.940171       15.2  3.218876  \n",
       "1566         59   7.185387       44.0  3.401197  \n",
       "1567         16   6.726233       13.9  4.094345  \n",
       "...         ...        ...        ...       ...  \n",
       "1665         19   5.774552        9.2  3.555348  \n",
       "1666         69   6.984716       36.0  3.401197  \n",
       "1667         21   3.401197       10.0  1.098612  \n",
       "1668         60   6.570883       34.0  3.044522  \n",
       "1669         61   4.736198       28.5  1.386294  \n",
       "\n",
       "[107 rows x 10 columns]"
      ]
     },
     "execution_count": 42,
     "metadata": {},
     "output_type": "execute_result"
    }
   ],
   "source": [
    "territory_85014"
   ]
  },
  {
   "cell_type": "code",
   "execution_count": 43,
   "metadata": {},
   "outputs": [
    {
     "data": {
      "image/png": "[encoded data removed]",
      "text/plain": [
       "<Figure size 1440x3600 with 8 Axes>"
      ]
     },
     "metadata": {
      "needs_background": "light"
     },
     "output_type": "display_data"
    }
   ],
   "source": [
    "fig00 = plt.figure(figsize=(20,50))\n",
    "ax = fig00.add_subplot(811)\n",
    "ax1 = plt.hist(log['EmployeeId'])\n",
    "ax = fig00.add_subplot(812)\n",
    "ax2 = plt.hist(territory_85014['EmployeeId'])\n",
    "ax = fig00.add_subplot(813)\n",
    "ax3 = plt.hist(territory_85251['EmployeeId'])\n",
    "ax = fig00.add_subplot(814)\n",
    "ax4 = plt.hist(territory_98004['EmployeeId'])\n",
    "ax = fig00.add_subplot(815)\n",
    "ax5 = plt.hist(territory_98052['EmployeeId'])\n",
    "ax = fig00.add_subplot(816)\n",
    "ax6 = plt.hist(territory_98104['EmployeeId'])\n",
    "ax = fig00.add_subplot(817)\n",
    "ax7 = plt.hist(territory_06897['EmployeeId'])\n",
    "ax = fig00.add_subplot(818)\n",
    "ax8 = plt.hist(territory_19713['EmployeeId']);"
   ]
  },
  {
   "cell_type": "code",
   "execution_count": 44,
   "metadata": {},
   "outputs": [
    {
     "data": {
      "text/html": [
       "<div>\n",
       "<style scoped>\n",
       "    .dataframe tbody tr th:only-of-type {\n",
       "        vertical-align: middle;\n",
       "    }\n",
       "\n",
       "    .dataframe tbody tr th {\n",
       "        vertical-align: top;\n",
       "    }\n",
       "\n",
       "    .dataframe thead th {\n",
       "        text-align: right;\n",
       "    }\n",
       "</style>\n",
       "<table border=\"1\" class=\"dataframe\">\n",
       "  <thead>\n",
       "    <tr style=\"text-align: right;\">\n",
       "      <th></th>\n",
       "      <th>TerritoryId</th>\n",
       "      <th>RegionId</th>\n",
       "      <th>EmployeeId</th>\n",
       "      <th>Region</th>\n",
       "      <th>LastName</th>\n",
       "      <th>Id</th>\n",
       "      <th>ProductId</th>\n",
       "      <th>ItemTotal</th>\n",
       "      <th>UnitPrice</th>\n",
       "      <th>Quantity</th>\n",
       "    </tr>\n",
       "  </thead>\n",
       "  <tbody>\n",
       "    <tr>\n",
       "      <th>1563</th>\n",
       "      <td>3049</td>\n",
       "      <td>3</td>\n",
       "      <td>9</td>\n",
       "      <td>British_Isles</td>\n",
       "      <td>Dodsworth</td>\n",
       "      <td>10255</td>\n",
       "      <td>2</td>\n",
       "      <td>5.717028</td>\n",
       "      <td>15.2</td>\n",
       "      <td>2.995732</td>\n",
       "    </tr>\n",
       "    <tr>\n",
       "      <th>1564</th>\n",
       "      <td>3049</td>\n",
       "      <td>3</td>\n",
       "      <td>9</td>\n",
       "      <td>British_Isles</td>\n",
       "      <td>Dodsworth</td>\n",
       "      <td>10255</td>\n",
       "      <td>16</td>\n",
       "      <td>6.187237</td>\n",
       "      <td>13.9</td>\n",
       "      <td>3.555348</td>\n",
       "    </tr>\n",
       "    <tr>\n",
       "      <th>1565</th>\n",
       "      <td>3049</td>\n",
       "      <td>3</td>\n",
       "      <td>9</td>\n",
       "      <td>British_Isles</td>\n",
       "      <td>Dodsworth</td>\n",
       "      <td>10255</td>\n",
       "      <td>36</td>\n",
       "      <td>5.940171</td>\n",
       "      <td>15.2</td>\n",
       "      <td>3.218876</td>\n",
       "    </tr>\n",
       "    <tr>\n",
       "      <th>1566</th>\n",
       "      <td>3049</td>\n",
       "      <td>3</td>\n",
       "      <td>9</td>\n",
       "      <td>British_Isles</td>\n",
       "      <td>Dodsworth</td>\n",
       "      <td>10255</td>\n",
       "      <td>59</td>\n",
       "      <td>7.185387</td>\n",
       "      <td>44.0</td>\n",
       "      <td>3.401197</td>\n",
       "    </tr>\n",
       "    <tr>\n",
       "      <th>1567</th>\n",
       "      <td>3049</td>\n",
       "      <td>3</td>\n",
       "      <td>9</td>\n",
       "      <td>British_Isles</td>\n",
       "      <td>Dodsworth</td>\n",
       "      <td>10263</td>\n",
       "      <td>16</td>\n",
       "      <td>6.726233</td>\n",
       "      <td>13.9</td>\n",
       "      <td>4.094345</td>\n",
       "    </tr>\n",
       "    <tr>\n",
       "      <th>...</th>\n",
       "      <td>...</td>\n",
       "      <td>...</td>\n",
       "      <td>...</td>\n",
       "      <td>...</td>\n",
       "      <td>...</td>\n",
       "      <td>...</td>\n",
       "      <td>...</td>\n",
       "      <td>...</td>\n",
       "      <td>...</td>\n",
       "      <td>...</td>\n",
       "    </tr>\n",
       "    <tr>\n",
       "      <th>6729</th>\n",
       "      <td>45839</td>\n",
       "      <td>3</td>\n",
       "      <td>8</td>\n",
       "      <td>North_America</td>\n",
       "      <td>Callahan</td>\n",
       "      <td>11068</td>\n",
       "      <td>43</td>\n",
       "      <td>7.412160</td>\n",
       "      <td>46.0</td>\n",
       "      <td>3.583519</td>\n",
       "    </tr>\n",
       "    <tr>\n",
       "      <th>6730</th>\n",
       "      <td>45839</td>\n",
       "      <td>3</td>\n",
       "      <td>8</td>\n",
       "      <td>North_America</td>\n",
       "      <td>Callahan</td>\n",
       "      <td>11068</td>\n",
       "      <td>77</td>\n",
       "      <td>5.897154</td>\n",
       "      <td>13.0</td>\n",
       "      <td>3.332205</td>\n",
       "    </tr>\n",
       "    <tr>\n",
       "      <th>6731</th>\n",
       "      <td>45839</td>\n",
       "      <td>3</td>\n",
       "      <td>8</td>\n",
       "      <td>North_America</td>\n",
       "      <td>Callahan</td>\n",
       "      <td>11075</td>\n",
       "      <td>2</td>\n",
       "      <td>5.247024</td>\n",
       "      <td>19.0</td>\n",
       "      <td>2.302585</td>\n",
       "    </tr>\n",
       "    <tr>\n",
       "      <th>6732</th>\n",
       "      <td>45839</td>\n",
       "      <td>3</td>\n",
       "      <td>8</td>\n",
       "      <td>North_America</td>\n",
       "      <td>Callahan</td>\n",
       "      <td>11075</td>\n",
       "      <td>46</td>\n",
       "      <td>5.886104</td>\n",
       "      <td>12.0</td>\n",
       "      <td>3.401197</td>\n",
       "    </tr>\n",
       "    <tr>\n",
       "      <th>6733</th>\n",
       "      <td>45839</td>\n",
       "      <td>3</td>\n",
       "      <td>8</td>\n",
       "      <td>North_America</td>\n",
       "      <td>Callahan</td>\n",
       "      <td>11075</td>\n",
       "      <td>76</td>\n",
       "      <td>3.583519</td>\n",
       "      <td>18.0</td>\n",
       "      <td>0.693147</td>\n",
       "    </tr>\n",
       "  </tbody>\n",
       "</table>\n",
       "<p>1313 rows × 10 columns</p>\n",
       "</div>"
      ],
      "text/plain": [
       "      TerritoryId  RegionId  EmployeeId         Region   LastName     Id  \\\n",
       "1563         3049         3           9  British_Isles  Dodsworth  10255   \n",
       "1564         3049         3           9  British_Isles  Dodsworth  10255   \n",
       "1565         3049         3           9  British_Isles  Dodsworth  10255   \n",
       "1566         3049         3           9  British_Isles  Dodsworth  10255   \n",
       "1567         3049         3           9  British_Isles  Dodsworth  10263   \n",
       "...           ...       ...         ...            ...        ...    ...   \n",
       "6729        45839         3           8  North_America   Callahan  11068   \n",
       "6730        45839         3           8  North_America   Callahan  11068   \n",
       "6731        45839         3           8  North_America   Callahan  11075   \n",
       "6732        45839         3           8  North_America   Callahan  11075   \n",
       "6733        45839         3           8  North_America   Callahan  11075   \n",
       "\n",
       "      ProductId  ItemTotal  UnitPrice  Quantity  \n",
       "1563          2   5.717028       15.2  2.995732  \n",
       "1564         16   6.187237       13.9  3.555348  \n",
       "1565         36   5.940171       15.2  3.218876  \n",
       "1566         59   7.185387       44.0  3.401197  \n",
       "1567         16   6.726233       13.9  4.094345  \n",
       "...         ...        ...        ...       ...  \n",
       "6729         43   7.412160       46.0  3.583519  \n",
       "6730         77   5.897154       13.0  3.332205  \n",
       "6731          2   5.247024       19.0  2.302585  \n",
       "6732         46   5.886104       12.0  3.401197  \n",
       "6733         76   3.583519       18.0  0.693147  \n",
       "\n",
       "[1313 rows x 10 columns]"
      ]
     },
     "execution_count": 44,
     "metadata": {},
     "output_type": "execute_result"
    }
   ],
   "source": [
    "data_to_join = [territory_85014, territory_85251, territory_98004, territory_98052, \n",
    "                territory_98104, territory_06897, territory_19713]\n",
    "different = pd.concat(data_to_join)\n",
    "different"
   ]
  },
  {
   "cell_type": "code",
   "execution_count": 45,
   "metadata": {},
   "outputs": [
    {
     "data": {
      "text/plain": [
       "0     01581\n",
       "1     01730\n",
       "2     01833\n",
       "3     02116\n",
       "4     02139\n",
       "5     02184\n",
       "6     02903\n",
       "7     03049\n",
       "8     03801\n",
       "9     06897\n",
       "10    07960\n",
       "11    08837\n",
       "12    10019\n",
       "13    10038\n",
       "14    11747\n",
       "15    14450\n",
       "16    19428\n",
       "17    19713\n",
       "18    20852\n",
       "19    27403\n",
       "20    27511\n",
       "21    29202\n",
       "22    30346\n",
       "23    31406\n",
       "24    32859\n",
       "25    33607\n",
       "26    40222\n",
       "27    44122\n",
       "28    45839\n",
       "29    48075\n",
       "30    48084\n",
       "31    48304\n",
       "32    53404\n",
       "33    55113\n",
       "34    55439\n",
       "35    60179\n",
       "36    60601\n",
       "37    72716\n",
       "38    75234\n",
       "39    78759\n",
       "40    80202\n",
       "41    80909\n",
       "42    85014\n",
       "43    85251\n",
       "44    90405\n",
       "45    94025\n",
       "46    94105\n",
       "47    95008\n",
       "48    95054\n",
       "49    95060\n",
       "50    98004\n",
       "51    98052\n",
       "52    98104\n",
       "Name: Id, dtype: object"
      ]
     },
     "execution_count": 45,
     "metadata": {},
     "output_type": "execute_result"
    }
   ],
   "source": [
    "territory['Id']"
   ]
  },
  {
   "cell_type": "code",
   "execution_count": 46,
   "metadata": {},
   "outputs": [
    {
     "data": {
      "text/plain": [
       "[42    Phoenix\n",
       " Name: TerritoryDescription, dtype: object, 43    Scottsdale\n",
       " Name: TerritoryDescription, dtype: object, 50    Bellevue\n",
       " Name: TerritoryDescription, dtype: object, 51    Redmond\n",
       " Name: TerritoryDescription, dtype: object, 52    Seattle\n",
       " Name: TerritoryDescription, dtype: object, 9    Wilton\n",
       " Name: TerritoryDescription, dtype: object, 17    Neward\n",
       " Name: TerritoryDescription, dtype: object]"
      ]
     },
     "execution_count": 46,
     "metadata": {},
     "output_type": "execute_result"
    }
   ],
   "source": [
    "successful_territories = []\n",
    "successful_territories.append(territory[territory['Id'] == '85014']['TerritoryDescription'])\n",
    "successful_territories.append(territory[territory['Id'] == '85251']['TerritoryDescription'])\n",
    "successful_territories.append(territory[territory['Id'] == '98004']['TerritoryDescription'])\n",
    "successful_territories.append(territory[territory['Id'] == '98052']['TerritoryDescription'])\n",
    "successful_territories.append(territory[territory['Id'] == '98104']['TerritoryDescription'])\n",
    "successful_territories.append(territory[territory['Id'] == '06897']['TerritoryDescription'])\n",
    "successful_territories.append(territory[territory['Id'] == '19713']['TerritoryDescription'])\n",
    "successful_territories"
   ]
  },
  {
   "cell_type": "code",
   "execution_count": 47,
   "metadata": {},
   "outputs": [
    {
     "data": {
      "text/plain": [
       "7"
      ]
     },
     "execution_count": 47,
     "metadata": {},
     "output_type": "execute_result"
    }
   ],
   "source": [
    "successful_cities = ['Phoenix', 'Scottsdale', 'Bellevue', 'Redmond', 'Seattle', 'Wilton', 'Neward']\n",
    "len(successful_cities)"
   ]
  },
  {
   "cell_type": "code",
   "execution_count": 48,
   "metadata": {},
   "outputs": [
    {
     "data": {
      "text/plain": [
       "array(['Dodsworth', 'Davolio', 'Buchanan', 'Callahan'], dtype=object)"
      ]
     },
     "execution_count": 48,
     "metadata": {},
     "output_type": "execute_result"
    }
   ],
   "source": [
    "successful_people = different['LastName'].unique()\n",
    "successful_people"
   ]
  },
  {
   "cell_type": "code",
   "execution_count": 49,
   "metadata": {},
   "outputs": [
    {
     "data": {
      "text/html": [
       "<div style=\"width:100%;\"><div style=\"position:relative;width:100%;height:0;padding-bottom:60%;\"><iframe src=\"data:text/html;charset=utf-8;base64,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\" style=\"position:absolute;width:100%;height:100%;left:0;top:0;border:none !important;\" allowfullscreen webkitallowfullscreen mozallowfullscreen></iframe></div></div>"
      ],
      "text/plain": [
       "<folium.folium.Map at 0x1b671f99cc0>"
      ]
     },
     "execution_count": 49,
     "metadata": {},
     "output_type": "execute_result"
    }
   ],
   "source": [
    "# map regions\n",
    "successful_zips = [(33.448376,-112.074036), (33.494171,-111.926048), (47.610149,-122.201515), (47.673988,-122.121513),\n",
    "                   (47.606209,-122.332069), (54.235130,-0.682000), (55.487810,-4.602750)]\n",
    "\n",
    "# map generation\n",
    "successful_zip_map = folium.Map(location=(59.136499, -27.829387), zoom_start = 2)\n",
    "\n",
    "# addition of significant zipcode data\n",
    "popup_phoenix = 'Phoenix'\n",
    "marker_phoenix = folium.Marker(successful_zips[0], popup=popup_phoenix, icon=folium.Icon(color='green'))\n",
    "popup_scottsdale = 'Scottsdale'\n",
    "marker_scottsdale = folium.Marker(successful_zips[1], popup=popup_scottsdale, icon=folium.Icon(color='green'))\n",
    "popup_Bellevue = 'Bellevue'\n",
    "marker_Bellevue = folium.Marker(successful_zips[2], popup=popup_Bellevue, icon=folium.Icon(color='green'))\n",
    "popup_Redmond = 'Redmond'\n",
    "marker_Redmond = folium.Marker(successful_zips[3], popup=popup_Redmond, icon=folium.Icon(color='green'))\n",
    "popup_Seattle = 'Seattle'\n",
    "marker_Seattle = folium.Marker(successful_zips[4], popup=popup_Seattle, icon=folium.Icon(color='green'))\n",
    "popup_Wilton = 'Wilton'\n",
    "marker_Wilton = folium.Marker(successful_zips[5], popup=popup_Wilton, icon=folium.Icon(color='green'))\n",
    "popup_Neward = 'Bellevue'\n",
    "marker_Neward = folium.Marker(successful_zips[6], popup=popup_Neward, icon=folium.Icon(color='green'))\n",
    "\n",
    "# populate zipcode data onto map\n",
    "successful_zip_map.add_child(marker_phoenix)\n",
    "successful_zip_map.add_child(marker_scottsdale)\n",
    "successful_zip_map.add_child(marker_Bellevue)\n",
    "successful_zip_map.add_child(marker_Redmond)\n",
    "successful_zip_map.add_child(marker_Seattle)\n",
    "successful_zip_map.add_child(marker_Wilton)\n",
    "successful_zip_map.add_child(marker_Neward)\n",
    "\n",
    "#save map\n",
    "successful_zip_map.save('locations where item total is higher than everywhere else.html')\n",
    "\n",
    "# display map\n",
    "successful_zip_map"
   ]
  },
  {
   "cell_type": "code",
   "execution_count": 50,
   "metadata": {},
   "outputs": [
    {
     "data": {
      "text/html": [
       "<div>\n",
       "<style scoped>\n",
       "    .dataframe tbody tr th:only-of-type {\n",
       "        vertical-align: middle;\n",
       "    }\n",
       "\n",
       "    .dataframe tbody tr th {\n",
       "        vertical-align: top;\n",
       "    }\n",
       "\n",
       "    .dataframe thead th {\n",
       "        text-align: right;\n",
       "    }\n",
       "</style>\n",
       "<table border=\"1\" class=\"dataframe\">\n",
       "  <thead>\n",
       "    <tr style=\"text-align: right;\">\n",
       "      <th></th>\n",
       "      <th>df</th>\n",
       "      <th>sum_sq</th>\n",
       "      <th>mean_sq</th>\n",
       "      <th>F</th>\n",
       "      <th>PR(&gt;F)</th>\n",
       "    </tr>\n",
       "  </thead>\n",
       "  <tbody>\n",
       "    <tr>\n",
       "      <th>LastName</th>\n",
       "      <td>3.0</td>\n",
       "      <td>1.017291e+01</td>\n",
       "      <td>3.390969e+00</td>\n",
       "      <td>2.613093e+00</td>\n",
       "      <td>0.049907</td>\n",
       "    </tr>\n",
       "    <tr>\n",
       "      <th>TerritoryId</th>\n",
       "      <td>1.0</td>\n",
       "      <td>5.048710e-29</td>\n",
       "      <td>5.048710e-29</td>\n",
       "      <td>3.890554e-29</td>\n",
       "      <td>1.000000</td>\n",
       "    </tr>\n",
       "    <tr>\n",
       "      <th>RegionId</th>\n",
       "      <td>1.0</td>\n",
       "      <td>1.283523e+00</td>\n",
       "      <td>1.283523e+00</td>\n",
       "      <td>9.890876e-01</td>\n",
       "      <td>0.320149</td>\n",
       "    </tr>\n",
       "    <tr>\n",
       "      <th>Residual</th>\n",
       "      <td>1308.0</td>\n",
       "      <td>1.697371e+03</td>\n",
       "      <td>1.297684e+00</td>\n",
       "      <td>NaN</td>\n",
       "      <td>NaN</td>\n",
       "    </tr>\n",
       "  </tbody>\n",
       "</table>\n",
       "</div>"
      ],
      "text/plain": [
       "                 df        sum_sq       mean_sq             F    PR(>F)\n",
       "LastName        3.0  1.017291e+01  3.390969e+00  2.613093e+00  0.049907\n",
       "TerritoryId     1.0  5.048710e-29  5.048710e-29  3.890554e-29  1.000000\n",
       "RegionId        1.0  1.283523e+00  1.283523e+00  9.890876e-01  0.320149\n",
       "Residual     1308.0  1.697371e+03  1.297684e+00           NaN       NaN"
      ]
     },
     "execution_count": 50,
     "metadata": {},
     "output_type": "execute_result"
    }
   ],
   "source": [
    "sm.stats.anova_lm(ols('ItemTotal ~ TerritoryId + RegionId + LastName', data=different).fit())"
   ]
  },
  {
   "cell_type": "markdown",
   "metadata": {},
   "source": [
    "Summarize results and determine next steps. Might include verification of sample size, error types, non-parametric testing, or a deepening of understanding\n",
    "\n",
    "### 4.2.4.4 Verification techniques\n",
    "#### 4.2.4.4.1 Nonparametric testing and confirmatory testing<a id='Nonparametric testing'></a>\n",
    "##### Nonparametric testing"
   ]
  },
  {
   "cell_type": "code",
   "execution_count": 51,
   "metadata": {},
   "outputs": [],
   "source": [
    "# non-parametric testing variables\n",
    "pass"
   ]
  },
  {
   "cell_type": "code",
   "execution_count": 52,
   "metadata": {},
   "outputs": [],
   "source": [
    "# non-parametric test\n",
    "pass"
   ]
  },
  {
   "cell_type": "code",
   "execution_count": 53,
   "metadata": {},
   "outputs": [],
   "source": [
    "# result\n",
    "pass"
   ]
  },
  {
   "cell_type": "code",
   "execution_count": 54,
   "metadata": {},
   "outputs": [],
   "source": [
    "# evaluation of results\n",
    "pass"
   ]
  },
  {
   "cell_type": "markdown",
   "metadata": {},
   "source": [
    "Oberservations based on new finding"
   ]
  },
  {
   "cell_type": "markdown",
   "metadata": {},
   "source": [
    "##### Confirmatory testing"
   ]
  },
  {
   "cell_type": "code",
   "execution_count": 55,
   "metadata": {},
   "outputs": [],
   "source": [
    "# confirmatory test \n",
    "pass"
   ]
  },
  {
   "cell_type": "markdown",
   "metadata": {},
   "source": [
    "Oberservations based on new finding\n",
    "\n",
    "#### 4.2.4.4.2 Effect size<a id='Effect size'></a>\n",
    "Cohen's D"
   ]
  },
  {
   "cell_type": "code",
   "execution_count": 56,
   "metadata": {},
   "outputs": [],
   "source": [
    "# effect size variables\n",
    "pass"
   ]
  },
  {
   "cell_type": "code",
   "execution_count": 57,
   "metadata": {},
   "outputs": [],
   "source": [
    "# effect size test\n",
    "def cohen_d_one_samp(x, mu0):\n",
    "    mu = mean(x)\n",
    "    sample_std = std(x, ddof=1)\n",
    "    return (mu - mu0) / sample_std\n",
    "def cohen_d_two_samp(x,y):\n",
    "    nx = len(x)\n",
    "    ny = len(y)\n",
    "    dof = nx + ny - 2\n",
    "    return (mean(x) - mean(y)) / sqrt(((nx-1)*std(x, ddof=1) ** 2 + (ny-1)*std(y, ddof=1) ** 2) / dof)\n",
    "# effect_size = cohen_d_two_samp('', '')\n",
    "# effect_size"
   ]
  },
  {
   "cell_type": "markdown",
   "metadata": {},
   "source": [
    "Obeservations about effect size\n",
    "\n",
    "#### 4.2.4.4.3 Error<a id='Error'></a>"
   ]
  },
  {
   "cell_type": "code",
   "execution_count": 58,
   "metadata": {},
   "outputs": [],
   "source": [
    "# power variables\n",
    "pass"
   ]
  },
  {
   "cell_type": "code",
   "execution_count": 59,
   "metadata": {},
   "outputs": [],
   "source": [
    "# power test"
   ]
  },
  {
   "cell_type": "code",
   "execution_count": 60,
   "metadata": {},
   "outputs": [],
   "source": [
    "# evaluation of power test"
   ]
  },
  {
   "cell_type": "markdown",
   "metadata": {},
   "source": [
    "Observations about power test"
   ]
  },
  {
   "cell_type": "markdown",
   "metadata": {},
   "source": [
    "### Cross validatation"
   ]
  },
  {
   "cell_type": "code",
   "execution_count": 61,
   "metadata": {},
   "outputs": [],
   "source": [
    "# test train split or resampling for testing preformed above\n",
    "pass"
   ]
  },
  {
   "cell_type": "markdown",
   "metadata": {},
   "source": [
    "## 4.2.5 Interpret Model<a id='Interpret Model'></a>"
   ]
  },
  {
   "cell_type": "markdown",
   "metadata": {},
   "source": [
    "### 4.2.5.1 Extension of acquired knowledge<a id='Extension'></a>\n",
    "#### Deeper question\n",
    "#### Hypothesis for deeper question"
   ]
  },
  {
   "cell_type": "code",
   "execution_count": 62,
   "metadata": {},
   "outputs": [],
   "source": [
    "# deeper understanding variables\n",
    "pass"
   ]
  },
  {
   "cell_type": "code",
   "execution_count": 63,
   "metadata": {},
   "outputs": [],
   "source": [
    "# deeper understanding test\n",
    "pass"
   ]
  },
  {
   "cell_type": "code",
   "execution_count": 64,
   "metadata": {},
   "outputs": [],
   "source": [
    "# deeper understanding result\n",
    "pass"
   ]
  },
  {
   "cell_type": "code",
   "execution_count": 65,
   "metadata": {},
   "outputs": [],
   "source": [
    "# deeper understanding evaluation of result\n",
    "pass"
   ]
  },
  {
   "cell_type": "markdown",
   "metadata": {},
   "source": [
    "Observations based off of deeper understanding test"
   ]
  },
  {
   "cell_type": "markdown",
   "metadata": {},
   "source": [
    "# 4.3 Results<a id='Results'></a>\n",
    "\n",
    "Conclusions about question overall commentary on hypothesis"
   ]
  },
  {
   "cell_type": "markdown",
   "metadata": {},
   "source": [
    "# 4.4 Conclusions<a id='Conclusions'></a>\n",
    "\n",
    "- 4.4.1 Actionable Items and Insights\n",
    "- 4.4.2 Additional Visuals"
   ]
  },
  {
   "cell_type": "markdown",
   "metadata": {},
   "source": [
    "## 4.4.1 Actionable Items and Insights<a id='Actionable Items and Insights'></a>"
   ]
  },
  {
   "cell_type": "markdown",
   "metadata": {},
   "source": [
    "## 4.4.2 Additional Visuals"
   ]
  },
  {
   "cell_type": "code",
   "execution_count": 66,
   "metadata": {},
   "outputs": [
    {
     "data": {
      "text/plain": [
       "<matplotlib.axes._subplots.AxesSubplot at 0x1b671f26160>"
      ]
     },
     "execution_count": 66,
     "metadata": {},
     "output_type": "execute_result"
    },
    {
     "data": {
      "image/png": "[encoded data removed]",
      "text/plain": [
       "<Figure size 432x288 with 1 Axes>"
      ]
     },
     "metadata": {
      "needs_background": "light"
     },
     "output_type": "display_data"
    }
   ],
   "source": [
    "# visual for blah blah blah\n",
    "df[df['TerritoryId'] == 85014]['ItemTotal'].hist()"
   ]
  },
  {
   "cell_type": "code",
   "execution_count": 67,
   "metadata": {},
   "outputs": [
    {
     "data": {
      "text/plain": [
       "<matplotlib.axes._subplots.AxesSubplot at 0x1b670f578d0>"
      ]
     },
     "execution_count": 67,
     "metadata": {},
     "output_type": "execute_result"
    },
    {
     "data": {
      "image/png": "[encoded data removed]",
      "text/plain": [
       "<Figure size 432x288 with 1 Axes>"
      ]
     },
     "metadata": {
      "needs_background": "light"
     },
     "output_type": "display_data"
    }
   ],
   "source": [
    "df[df['TerritoryId'] == 85251]['ItemTotal'].hist()"
   ]
  },
  {
   "cell_type": "code",
   "execution_count": 68,
   "metadata": {},
   "outputs": [
    {
     "data": {
      "text/plain": [
       "<matplotlib.axes._subplots.AxesSubplot at 0x1b6711f7400>"
      ]
     },
     "execution_count": 68,
     "metadata": {},
     "output_type": "execute_result"
    },
    {
     "data": {
      "image/png": "[encoded data removed]",
      "text/plain": [
       "<Figure size 432x288 with 1 Axes>"
      ]
     },
     "metadata": {
      "needs_background": "light"
     },
     "output_type": "display_data"
    }
   ],
   "source": [
    "df[df['TerritoryId'] == 98004]['ItemTotal'].hist()"
   ]
  },
  {
   "cell_type": "code",
   "execution_count": 69,
   "metadata": {},
   "outputs": [
    {
     "data": {
      "text/plain": [
       "<matplotlib.axes._subplots.AxesSubplot at 0x1b6711b4d30>"
      ]
     },
     "execution_count": 69,
     "metadata": {},
     "output_type": "execute_result"
    },
    {
     "data": {
      "image/png": "[encoded data removed]",
      "text/plain": [
       "<Figure size 432x288 with 1 Axes>"
      ]
     },
     "metadata": {
      "needs_background": "light"
     },
     "output_type": "display_data"
    }
   ],
   "source": [
    "df[df['TerritoryId'] == 98052]['ItemTotal'].hist()"
   ]
  },
  {
   "cell_type": "code",
   "execution_count": 70,
   "metadata": {},
   "outputs": [
    {
     "data": {
      "text/plain": [
       "<matplotlib.axes._subplots.AxesSubplot at 0x1b671effe48>"
      ]
     },
     "execution_count": 70,
     "metadata": {},
     "output_type": "execute_result"
    },
    {
     "data": {
      "image/png": "[encoded data removed]",
      "text/plain": [
       "<Figure size 432x288 with 1 Axes>"
      ]
     },
     "metadata": {
      "needs_background": "light"
     },
     "output_type": "display_data"
    }
   ],
   "source": [
    "df[df['TerritoryId'] == 98104]['ItemTotal'].hist()"
   ]
  },
  {
   "cell_type": "code",
   "execution_count": 71,
   "metadata": {},
   "outputs": [
    {
     "data": {
      "text/plain": [
       "<matplotlib.axes._subplots.AxesSubplot at 0x1b671f26f60>"
      ]
     },
     "execution_count": 71,
     "metadata": {},
     "output_type": "execute_result"
    },
    {
     "data": {
      "image/png": "[encoded data removed]",
      "text/plain": [
       "<Figure size 432x288 with 1 Axes>"
      ]
     },
     "metadata": {
      "needs_background": "light"
     },
     "output_type": "display_data"
    }
   ],
   "source": [
    "df[df['TerritoryId'] == 6897]['ItemTotal'].hist()"
   ]
  },
  {
   "cell_type": "code",
   "execution_count": 72,
   "metadata": {},
   "outputs": [
    {
     "data": {
      "text/plain": [
       "<matplotlib.axes._subplots.AxesSubplot at 0x1b670ffd208>"
      ]
     },
     "execution_count": 72,
     "metadata": {},
     "output_type": "execute_result"
    },
    {
     "data": {
      "image/png": "[encoded data removed]",
      "text/plain": [
       "<Figure size 432x288 with 1 Axes>"
      ]
     },
     "metadata": {
      "needs_background": "light"
     },
     "output_type": "display_data"
    }
   ],
   "source": [
    "df[df['TerritoryId'] == 19713]['ItemTotal'].hist()"
   ]
  },
  {
   "cell_type": "code",
   "execution_count": 73,
   "metadata": {},
   "outputs": [
    {
     "data": {
      "text/html": [
       "<div>\n",
       "<style scoped>\n",
       "    .dataframe tbody tr th:only-of-type {\n",
       "        vertical-align: middle;\n",
       "    }\n",
       "\n",
       "    .dataframe tbody tr th {\n",
       "        vertical-align: top;\n",
       "    }\n",
       "\n",
       "    .dataframe thead th {\n",
       "        text-align: right;\n",
       "    }\n",
       "</style>\n",
       "<table border=\"1\" class=\"dataframe\">\n",
       "  <thead>\n",
       "    <tr style=\"text-align: right;\">\n",
       "      <th></th>\n",
       "      <th>Id</th>\n",
       "      <th>LastName</th>\n",
       "      <th>FirstName</th>\n",
       "      <th>Title</th>\n",
       "      <th>TitleOfCourtesy</th>\n",
       "      <th>BirthDate</th>\n",
       "      <th>HireDate</th>\n",
       "      <th>Address</th>\n",
       "      <th>City</th>\n",
       "      <th>Region</th>\n",
       "      <th>PostalCode</th>\n",
       "      <th>Country</th>\n",
       "      <th>HomePhone</th>\n",
       "      <th>Extension</th>\n",
       "      <th>Photo</th>\n",
       "      <th>Notes</th>\n",
       "      <th>ReportsTo</th>\n",
       "      <th>PhotoPath</th>\n",
       "    </tr>\n",
       "  </thead>\n",
       "  <tbody>\n",
       "    <tr>\n",
       "      <th>5</th>\n",
       "      <td>6</td>\n",
       "      <td>Suyama</td>\n",
       "      <td>Michael</td>\n",
       "      <td>Sales Representative</td>\n",
       "      <td>Mr.</td>\n",
       "      <td>1995-07-02</td>\n",
       "      <td>2025-10-17</td>\n",
       "      <td>Coventry House Miner Rd.</td>\n",
       "      <td>London</td>\n",
       "      <td>British Isles</td>\n",
       "      <td>EC2 7JR</td>\n",
       "      <td>UK</td>\n",
       "      <td>(71) 555-7773</td>\n",
       "      <td>428</td>\n",
       "      <td>None</td>\n",
       "      <td>Michael is a graduate of Sussex University (MA...</td>\n",
       "      <td>5.0</td>\n",
       "      <td>http://accweb/emmployees/davolio.bmp</td>\n",
       "    </tr>\n",
       "  </tbody>\n",
       "</table>\n",
       "</div>"
      ],
      "text/plain": [
       "   Id LastName FirstName                 Title TitleOfCourtesy   BirthDate  \\\n",
       "5   6   Suyama   Michael  Sales Representative             Mr.  1995-07-02   \n",
       "\n",
       "     HireDate                   Address    City         Region PostalCode  \\\n",
       "5  2025-10-17  Coventry House Miner Rd.  London  British Isles    EC2 7JR   \n",
       "\n",
       "  Country      HomePhone Extension Photo  \\\n",
       "5      UK  (71) 555-7773       428  None   \n",
       "\n",
       "                                               Notes  ReportsTo  \\\n",
       "5  Michael is a graduate of Sussex University (MA...        5.0   \n",
       "\n",
       "                              PhotoPath  \n",
       "5  http://accweb/emmployees/davolio.bmp  "
      ]
     },
     "execution_count": 73,
     "metadata": {},
     "output_type": "execute_result"
    }
   ],
   "source": [
    "employee[employee['Id'] == 6]"
   ]
  },
  {
   "cell_type": "code",
   "execution_count": 74,
   "metadata": {},
   "outputs": [
    {
     "data": {
      "text/html": [
       "<div>\n",
       "<style scoped>\n",
       "    .dataframe tbody tr th:only-of-type {\n",
       "        vertical-align: middle;\n",
       "    }\n",
       "\n",
       "    .dataframe tbody tr th {\n",
       "        vertical-align: top;\n",
       "    }\n",
       "\n",
       "    .dataframe thead th {\n",
       "        text-align: right;\n",
       "    }\n",
       "</style>\n",
       "<table border=\"1\" class=\"dataframe\">\n",
       "  <thead>\n",
       "    <tr style=\"text-align: right;\">\n",
       "      <th></th>\n",
       "      <th>Id</th>\n",
       "      <th>LastName</th>\n",
       "      <th>FirstName</th>\n",
       "      <th>Title</th>\n",
       "      <th>TitleOfCourtesy</th>\n",
       "      <th>BirthDate</th>\n",
       "      <th>HireDate</th>\n",
       "      <th>Address</th>\n",
       "      <th>City</th>\n",
       "      <th>Region</th>\n",
       "      <th>PostalCode</th>\n",
       "      <th>Country</th>\n",
       "      <th>HomePhone</th>\n",
       "      <th>Extension</th>\n",
       "      <th>Photo</th>\n",
       "      <th>Notes</th>\n",
       "      <th>ReportsTo</th>\n",
       "      <th>PhotoPath</th>\n",
       "    </tr>\n",
       "  </thead>\n",
       "  <tbody>\n",
       "    <tr>\n",
       "      <th>0</th>\n",
       "      <td>1</td>\n",
       "      <td>Davolio</td>\n",
       "      <td>Nancy</td>\n",
       "      <td>Sales Representative</td>\n",
       "      <td>Ms.</td>\n",
       "      <td>1980-12-08</td>\n",
       "      <td>2024-05-01</td>\n",
       "      <td>507 - 20th Ave. E. Apt. 2A</td>\n",
       "      <td>Seattle</td>\n",
       "      <td>North America</td>\n",
       "      <td>98122</td>\n",
       "      <td>USA</td>\n",
       "      <td>(206) 555-9857</td>\n",
       "      <td>5467</td>\n",
       "      <td>None</td>\n",
       "      <td>Education includes a BA in psychology from Col...</td>\n",
       "      <td>2.0</td>\n",
       "      <td>http://accweb/emmployees/davolio.bmp</td>\n",
       "    </tr>\n",
       "  </tbody>\n",
       "</table>\n",
       "</div>"
      ],
      "text/plain": [
       "   Id LastName FirstName                 Title TitleOfCourtesy   BirthDate  \\\n",
       "0   1  Davolio     Nancy  Sales Representative             Ms.  1980-12-08   \n",
       "\n",
       "     HireDate                     Address     City         Region PostalCode  \\\n",
       "0  2024-05-01  507 - 20th Ave. E. Apt. 2A  Seattle  North America      98122   \n",
       "\n",
       "  Country       HomePhone Extension Photo  \\\n",
       "0     USA  (206) 555-9857      5467  None   \n",
       "\n",
       "                                               Notes  ReportsTo  \\\n",
       "0  Education includes a BA in psychology from Col...        2.0   \n",
       "\n",
       "                              PhotoPath  \n",
       "0  http://accweb/emmployees/davolio.bmp  "
      ]
     },
     "execution_count": 74,
     "metadata": {},
     "output_type": "execute_result"
    }
   ],
   "source": [
    "employee[employee['Id'] == 1]"
   ]
  },
  {
   "cell_type": "code",
   "execution_count": 75,
   "metadata": {},
   "outputs": [
    {
     "data": {
      "text/html": [
       "<div>\n",
       "<style scoped>\n",
       "    .dataframe tbody tr th:only-of-type {\n",
       "        vertical-align: middle;\n",
       "    }\n",
       "\n",
       "    .dataframe tbody tr th {\n",
       "        vertical-align: top;\n",
       "    }\n",
       "\n",
       "    .dataframe thead th {\n",
       "        text-align: right;\n",
       "    }\n",
       "</style>\n",
       "<table border=\"1\" class=\"dataframe\">\n",
       "  <thead>\n",
       "    <tr style=\"text-align: right;\">\n",
       "      <th></th>\n",
       "      <th></th>\n",
       "      <th></th>\n",
       "      <th>TerritoryId</th>\n",
       "      <th>RegionId</th>\n",
       "      <th>EmployeeId</th>\n",
       "      <th>ItemTotal</th>\n",
       "      <th>UnitPrice</th>\n",
       "      <th>Quantity</th>\n",
       "    </tr>\n",
       "    <tr>\n",
       "      <th>LastName</th>\n",
       "      <th>Id</th>\n",
       "      <th>ProductId</th>\n",
       "      <th></th>\n",
       "      <th></th>\n",
       "      <th></th>\n",
       "      <th></th>\n",
       "      <th></th>\n",
       "      <th></th>\n",
       "    </tr>\n",
       "  </thead>\n",
       "  <tbody>\n",
       "    <tr>\n",
       "      <th rowspan=\"5\" valign=\"top\">Buchanan</th>\n",
       "      <th rowspan=\"3\" valign=\"top\">10248</th>\n",
       "      <th>11</th>\n",
       "      <td>9422.0</td>\n",
       "      <td>1</td>\n",
       "      <td>5</td>\n",
       "      <td>168.0</td>\n",
       "      <td>14.00</td>\n",
       "      <td>12</td>\n",
       "    </tr>\n",
       "    <tr>\n",
       "      <th>42</th>\n",
       "      <td>9422.0</td>\n",
       "      <td>1</td>\n",
       "      <td>5</td>\n",
       "      <td>98.0</td>\n",
       "      <td>9.80</td>\n",
       "      <td>10</td>\n",
       "    </tr>\n",
       "    <tr>\n",
       "      <th>72</th>\n",
       "      <td>9422.0</td>\n",
       "      <td>1</td>\n",
       "      <td>5</td>\n",
       "      <td>174.0</td>\n",
       "      <td>34.80</td>\n",
       "      <td>5</td>\n",
       "    </tr>\n",
       "    <tr>\n",
       "      <th rowspan=\"2\" valign=\"top\">10254</th>\n",
       "      <th>24</th>\n",
       "      <td>9422.0</td>\n",
       "      <td>1</td>\n",
       "      <td>5</td>\n",
       "      <td>54.0</td>\n",
       "      <td>3.60</td>\n",
       "      <td>15</td>\n",
       "    </tr>\n",
       "    <tr>\n",
       "      <th>55</th>\n",
       "      <td>9422.0</td>\n",
       "      <td>1</td>\n",
       "      <td>5</td>\n",
       "      <td>403.2</td>\n",
       "      <td>19.20</td>\n",
       "      <td>21</td>\n",
       "    </tr>\n",
       "    <tr>\n",
       "      <th>...</th>\n",
       "      <th>...</th>\n",
       "      <th>...</th>\n",
       "      <td>...</td>\n",
       "      <td>...</td>\n",
       "      <td>...</td>\n",
       "      <td>...</td>\n",
       "      <td>...</td>\n",
       "      <td>...</td>\n",
       "    </tr>\n",
       "    <tr>\n",
       "      <th rowspan=\"5\" valign=\"top\">Suyama</th>\n",
       "      <th rowspan=\"3\" valign=\"top\">11031</th>\n",
       "      <th>24</th>\n",
       "      <td>92885.0</td>\n",
       "      <td>2</td>\n",
       "      <td>6</td>\n",
       "      <td>94.5</td>\n",
       "      <td>4.50</td>\n",
       "      <td>21</td>\n",
       "    </tr>\n",
       "    <tr>\n",
       "      <th>64</th>\n",
       "      <td>92885.0</td>\n",
       "      <td>2</td>\n",
       "      <td>6</td>\n",
       "      <td>665.0</td>\n",
       "      <td>33.25</td>\n",
       "      <td>20</td>\n",
       "    </tr>\n",
       "    <tr>\n",
       "      <th>71</th>\n",
       "      <td>92885.0</td>\n",
       "      <td>2</td>\n",
       "      <td>6</td>\n",
       "      <td>344.0</td>\n",
       "      <td>21.50</td>\n",
       "      <td>16</td>\n",
       "    </tr>\n",
       "    <tr>\n",
       "      <th rowspan=\"2\" valign=\"top\">11045</th>\n",
       "      <th>33</th>\n",
       "      <td>92885.0</td>\n",
       "      <td>2</td>\n",
       "      <td>6</td>\n",
       "      <td>37.5</td>\n",
       "      <td>2.50</td>\n",
       "      <td>15</td>\n",
       "    </tr>\n",
       "    <tr>\n",
       "      <th>51</th>\n",
       "      <td>92885.0</td>\n",
       "      <td>2</td>\n",
       "      <td>6</td>\n",
       "      <td>1272.0</td>\n",
       "      <td>53.00</td>\n",
       "      <td>24</td>\n",
       "    </tr>\n",
       "  </tbody>\n",
       "</table>\n",
       "<p>2155 rows × 6 columns</p>\n",
       "</div>"
      ],
      "text/plain": [
       "                          TerritoryId  RegionId  EmployeeId  ItemTotal  \\\n",
       "LastName Id    ProductId                                                 \n",
       "Buchanan 10248 11              9422.0         1           5      168.0   \n",
       "               42              9422.0         1           5       98.0   \n",
       "               72              9422.0         1           5      174.0   \n",
       "         10254 24              9422.0         1           5       54.0   \n",
       "               55              9422.0         1           5      403.2   \n",
       "...                               ...       ...         ...        ...   \n",
       "Suyama   11031 24             92885.0         2           6       94.5   \n",
       "               64             92885.0         2           6      665.0   \n",
       "               71             92885.0         2           6      344.0   \n",
       "         11045 33             92885.0         2           6       37.5   \n",
       "               51             92885.0         2           6     1272.0   \n",
       "\n",
       "                          UnitPrice  Quantity  \n",
       "LastName Id    ProductId                       \n",
       "Buchanan 10248 11             14.00        12  \n",
       "               42              9.80        10  \n",
       "               72             34.80         5  \n",
       "         10254 24              3.60        15  \n",
       "               55             19.20        21  \n",
       "...                             ...       ...  \n",
       "Suyama   11031 24              4.50        21  \n",
       "               64             33.25        20  \n",
       "               71             21.50        16  \n",
       "         11045 33              2.50        15  \n",
       "               51             53.00        24  \n",
       "\n",
       "[2155 rows x 6 columns]"
      ]
     },
     "execution_count": 75,
     "metadata": {},
     "output_type": "execute_result"
    }
   ],
   "source": [
    "employee_work = df.groupby(['LastName', 'Id', 'ProductId']).mean()\n",
    "employee_work"
   ]
  },
  {
   "cell_type": "code",
   "execution_count": 76,
   "metadata": {},
   "outputs": [
    {
     "data": {
      "text/plain": [
       "array(['Fuller', 'Buchanan', 'Dodsworth', 'Davolio', 'Callahan',\n",
       "       'Peacock', 'Leverling', 'King', 'Suyama'], dtype=object)"
      ]
     },
     "execution_count": 76,
     "metadata": {},
     "output_type": "execute_result"
    }
   ],
   "source": [
    "employees = df['LastName'].unique()\n",
    "employees"
   ]
  },
  {
   "cell_type": "markdown",
   "metadata": {},
   "source": [
    "### Tools for use of discovered information"
   ]
  },
  {
   "cell_type": "code",
   "execution_count": null,
   "metadata": {},
   "outputs": [],
   "source": [
    "# function or equation used to test developed theories\n",
    "pass"
   ]
  },
  {
   "cell_type": "code",
   "execution_count": 84,
   "metadata": {},
   "outputs": [
    {
     "data": {
      "image/png": "[encoded data removed]",
      "text/plain": [
       "<Figure size 1440x1440 with 9 Axes>"
      ]
     },
     "metadata": {
      "needs_background": "light"
     },
     "output_type": "display_data"
    }
   ],
   "source": [
    "x = [employee_work.loc[idx[i]]['Quantity'] for i in employees]\n",
    "fig05, axes = plt.subplots(nrows=3, ncols=3, figsize=(20,20))\n",
    "for n in range(0, len(employees)):\n",
    "    row = (n-1)//3\n",
    "    col = n%3-1\n",
    "    ax = axes[row][col]\n",
    "    sns.distplot(x[n], ax=ax).set_xlim(left=0, right=140)\n",
    "    ax.set_ylim(ymax=0.05)\n",
    "    ax.set_title('{}'.format(employees[n]), fontsize=18)\n",
    "fig05.suptitle('Quantity Sold by Each Employee', fontsize=18);"
   ]
  },
  {
   "cell_type": "markdown",
   "metadata": {},
   "source": [
    "# 4.5 Future Work<a id='Future Work'></a>"
   ]
  },
  {
   "cell_type": "markdown",
   "metadata": {},
   "source": [
    "Investigate deeper into work done by territory.\n",
    "Set sales goals that focus on lower quantities of product sold with high frequency."
   ]
  },
  {
   "cell_type": "markdown",
   "metadata": {},
   "source": [
    "# 4.6 References<a id='References'></a>"
   ]
  },
  {
   "cell_type": "markdown",
   "metadata": {},
   "source": [
    "Measure skewness https://towardsdatascience.com/understanding-measures-of-variance-with-python-f57d59617a0b\n",
    "Lat/Long: https://www.latlong.net/"
   ]
  }
 ],
 "metadata": {
  "kernelspec": {
   "display_name": "learn-env",
   "language": "python",
   "name": "learn-env"
  },
  "language_info": {
   "codemirror_mode": {
    "name": "ipython",
    "version": 3
   },
   "file_extension": ".py",
   "mimetype": "text/x-python",
   "name": "python",
   "nbconvert_exporter": "python",
   "pygments_lexer": "ipython3",
   "version": "3.6.6"
  }
 },
 "nbformat": 4,
 "nbformat_minor": 2
}
