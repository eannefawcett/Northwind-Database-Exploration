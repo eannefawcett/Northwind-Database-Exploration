{
 "cells": [
  {
   "cell_type": "markdown",
   "metadata": {},
   "source": [
    "<img src='images/Northwind_ERD_updated.png.'>"
   ]
  },
  {
   "cell_type": "markdown",
   "metadata": {},
   "source": [
    "<a href='#4.0-Initial-Question'>**4.0 Initial Question**</a>\n",
    "\n",
    "<a href='#4.1-Initial-Hypothesis'>**4.1 Initial Hypothesis**</a>\n",
    "- <a href='#4.1.1-Null-Hypothesis'>4.1.1 Null Hypothesis</a>\n",
    "- <a href='#4.1.2-Alternative-Hypothesis'>4.1.2 Alternative Hypothesis</a>\n",
    "- <a href='#4.1.3-Features'>4.1.3 Features</a>\n",
    "- <a href='#4.1.4-Target-Variable'>4.1.4 Target Variable</a>\n",
    "\n",
    "<a href='#4.2-Methodology'>**4.2 Methodology**</a>\n",
    "- <a href='#4.2.1-Obtain-Data'>4.2.1 Obtain Data</a>\n",
    "- <a href='#4.2.2-Scrub-Data'>4.2.2 Scrub Data</a>\n",
    "    - <a href='#4.2.2.1-Manage-n/a-data-types'>4.2.2.1 Manage n/a data types</a>\n",
    "    - <a href='#4.2.2.2-Remove-duplicate-data'>4.2.2.2 Remove duplicate data</a>\n",
    "    - <a href='#4.2.2.3-Manage-data-types'>4.2.2.3 Manage data types</a>\n",
    "    - <a href='#4.2.2.4-Remove-outliers'>4.2.2.4 Remove outliers</a>\n",
    "- <a href='#4.2.3-Explore-Data'>4.2.3 Explore Data</a>\n",
    "    - <a href='#4.2.3.1-Visualize-data'>4.2.3.1 Visualize data</a>\n",
    "    - <a href='#4.2.3.2-Transform-data'>4.2.3.2 Transform data</a>\n",
    "    - <a href='#4.2.3.3-Sort-data-/-Prepare-data-for-testing'>4.2.3.3 Sort data / Prepare data for testing</a>\n",
    "    - <a href='#4.2.3.4-Develop-feature'>4.2.3.4 Develop feature</a>\n",
    "- <a href='#4.2.4-Model-Data'>4.2.4 Model Data</a>\n",
    "    - <a href='#4.2.4.1-Check-for-data-normality'>4.2.4.1 Check for data normality</a>\n",
    "    - <a href='#4.2.4.2-Standard-deviation-and-other-basic-statistics'>4.2.4.2 Standard deviation and other basic statistics</a>\n",
    "    - <a href='#4.2.4.3-Statistical-test'>4.2.4.3 Statistical test</a>\n",
    "    - <a href='#4.2.4.4-Verification-techniques'>4.2.4.4 Verification techniques</a>\n",
    "        - <a href='#4.2.4.4.1-Nonparametric-testing-and-confirmatory-testing'>4.2.4.4.1 Nonparametric testing</a>\n",
    "        - <a href='#4.2.4.4.2-Effect-size'>4.2.4.4.2 Effect size</a>\n",
    "        - <a href='#4.2.4.4.3-Error'>4.2.4.4.3 Error</a>\n",
    "- <a href='#4.2.5-Interpret-Model'>4.2.5 Interpret Model</a>\n",
    "    - <a href='#4.2.5.1-Extension-of-acquired-knowledge'>4.2.5.1 Extension of acquired knowledge</a>\n",
    "    \n",
    "<a href='#4.3-Results'>**4.3 Results**</a>\n",
    "\n",
    "<a href='#4.4-Conclusions'>**4.4 Conclusions**</a>\n",
    "\n",
    "- <a href='#4.4.1-Actionable-Items-and-Insights'>4.4.1 Actionable Items and Insights</a>\n",
    "- <a href='#4.4.2-Additional-Visuals'>4.4.2 Additional Visuals</a>\n",
    "\n",
    "<a href='#4.5-Future-Work'>**4.5 Future Work**</a>\n",
    "\n",
    "<a href='#4.6-References'>**4.6 References**</a>"
   ]
  },
  {
   "cell_type": "markdown",
   "metadata": {},
   "source": [
    "# 4.0 Initial Question<a id='Initial Question'></a>\n",
    "\n",
    "Which region is preforming the best? How can we optimize preformance?\n"
   ]
  },
  {
   "cell_type": "markdown",
   "metadata": {},
   "source": [
    "# 4.1 Initial Hypothesis<a id='Initial Hypothesis'></a>"
   ]
  },
  {
   "cell_type": "markdown",
   "metadata": {},
   "source": [
    "### 4.1.1 Null Hypothesis<a id='Null Hypothesis'></a>\n",
    "H0: no effect - Item total for specific regions is no different than that of all regions\n",
    "\n",
    "The bolded items in the H0 statement represent the data that needs to be pulled down from the database. "
   ]
  },
  {
   "cell_type": "markdown",
   "metadata": {},
   "source": [
    "### 4.1.2 Alternative Hypothesis<a id='Alternative Hypothesis'></a>\n",
    "HA: effect - Item total for specific regions is different than that of all regions"
   ]
  },
  {
   "cell_type": "markdown",
   "metadata": {},
   "source": [
    "### 4.1.3 Features<a id='Features'></a>\n",
    ": RegionId"
   ]
  },
  {
   "cell_type": "markdown",
   "metadata": {},
   "source": [
    "### 4.1.4 Target Variable<a id='Target Variable'></a>\n",
    ": OrderDetail.Quantity * OrderDetail.UnitPrice"
   ]
  },
  {
   "cell_type": "markdown",
   "metadata": {},
   "source": [
    "# 4.2 Methodology<a id='Methodology'></a>\n",
    "\n",
    "To evaluate, I have chosen to use the following steps:\n",
    "- 4.2.1 Obtain Data\n",
    "- 4.2.2 Scrub Data\n",
    "- 4.2.3 Explore Data\n",
    "- 4.2.4 Model Data\n",
    "- 4.2.5 Interpret Model\n",
    "\n",
    "I have found that the OSEMN method explains the data science process, and gives context to exploring data."
   ]
  },
  {
   "cell_type": "markdown",
   "metadata": {},
   "source": [
    "## 4.2.1 Obtain Data\n",
    "The data that we're evaulating will come from the following tables.\n",
    "\n",
    "\n",
    "put info in here"
   ]
  },
  {
   "cell_type": "code",
   "execution_count": 1,
   "metadata": {},
   "outputs": [],
   "source": [
    "# develop class\n",
    "pass"
   ]
  },
  {
   "cell_type": "code",
   "execution_count": 2,
   "metadata": {},
   "outputs": [],
   "source": [
    "# import py file\n",
    "from classes import Pvalue"
   ]
  },
  {
   "cell_type": "code",
   "execution_count": 3,
   "metadata": {},
   "outputs": [],
   "source": [
    "# import libraries\n",
    "import pandas as pd\n",
    "import sqlite3\n",
    "\n",
    "import numpy as np\n",
    "from numpy import std, mean, sqrt\n",
    "import scipy.stats as stats\n",
    "from statsmodels.stats.power import tt_ind_solve_power\n",
    "import statsmodels.api as sm\n",
    "from statsmodels.formula.api import ols\n",
    "\n",
    "import matplotlib.pyplot as plt\n",
    "%matplotlib inline\n",
    "import seaborn as sns\n",
    "import folium\n",
    "\n",
    "idx = pd.IndexSlice"
   ]
  },
  {
   "cell_type": "code",
   "execution_count": 4,
   "metadata": {},
   "outputs": [],
   "source": [
    "# import data\n",
    "conn = sqlite3.Connection('Northwind_small.sqlite')\n",
    "cur = conn.cursor()"
   ]
  },
  {
   "cell_type": "code",
   "execution_count": 5,
   "metadata": {},
   "outputs": [
    {
     "data": {
      "text/html": [
       "<div>\n",
       "<style scoped>\n",
       "    .dataframe tbody tr th:only-of-type {\n",
       "        vertical-align: middle;\n",
       "    }\n",
       "\n",
       "    .dataframe tbody tr th {\n",
       "        vertical-align: top;\n",
       "    }\n",
       "\n",
       "    .dataframe thead th {\n",
       "        text-align: right;\n",
       "    }\n",
       "</style>\n",
       "<table border=\"1\" class=\"dataframe\">\n",
       "  <thead>\n",
       "    <tr style=\"text-align: right;\">\n",
       "      <th></th>\n",
       "      <th>Id</th>\n",
       "      <th>TerritoryDescription</th>\n",
       "      <th>RegionId</th>\n",
       "    </tr>\n",
       "  </thead>\n",
       "  <tbody>\n",
       "    <tr>\n",
       "      <th>0</th>\n",
       "      <td>01581</td>\n",
       "      <td>Westboro</td>\n",
       "      <td>1</td>\n",
       "    </tr>\n",
       "    <tr>\n",
       "      <th>1</th>\n",
       "      <td>01730</td>\n",
       "      <td>Bedford</td>\n",
       "      <td>1</td>\n",
       "    </tr>\n",
       "    <tr>\n",
       "      <th>2</th>\n",
       "      <td>01833</td>\n",
       "      <td>Georgetow</td>\n",
       "      <td>1</td>\n",
       "    </tr>\n",
       "    <tr>\n",
       "      <th>3</th>\n",
       "      <td>02116</td>\n",
       "      <td>Boston</td>\n",
       "      <td>1</td>\n",
       "    </tr>\n",
       "    <tr>\n",
       "      <th>4</th>\n",
       "      <td>02139</td>\n",
       "      <td>Cambridge</td>\n",
       "      <td>1</td>\n",
       "    </tr>\n",
       "  </tbody>\n",
       "</table>\n",
       "</div>"
      ],
      "text/plain": [
       "      Id TerritoryDescription  RegionId\n",
       "0  01581             Westboro         1\n",
       "1  01730              Bedford         1\n",
       "2  01833            Georgetow         1\n",
       "3  02116               Boston         1\n",
       "4  02139            Cambridge         1"
      ]
     },
     "execution_count": 5,
     "metadata": {},
     "output_type": "execute_result"
    }
   ],
   "source": [
    "# Territory data\n",
    "cur.execute(\"\"\"SELECT *\n",
    "               FROM Territory\n",
    "               \"\"\")\n",
    "territory = pd.DataFrame(cur.fetchall())\n",
    "territory.columns = [x[0] for x in cur.description]\n",
    "territory.head()"
   ]
  },
  {
   "cell_type": "code",
   "execution_count": 6,
   "metadata": {},
   "outputs": [
    {
     "data": {
      "text/html": [
       "<div>\n",
       "<style scoped>\n",
       "    .dataframe tbody tr th:only-of-type {\n",
       "        vertical-align: middle;\n",
       "    }\n",
       "\n",
       "    .dataframe tbody tr th {\n",
       "        vertical-align: top;\n",
       "    }\n",
       "\n",
       "    .dataframe thead th {\n",
       "        text-align: right;\n",
       "    }\n",
       "</style>\n",
       "<table border=\"1\" class=\"dataframe\">\n",
       "  <thead>\n",
       "    <tr style=\"text-align: right;\">\n",
       "      <th></th>\n",
       "      <th>Id</th>\n",
       "      <th>EmployeeId</th>\n",
       "      <th>TerritoryId</th>\n",
       "    </tr>\n",
       "  </thead>\n",
       "  <tbody>\n",
       "    <tr>\n",
       "      <th>0</th>\n",
       "      <td>1/06897</td>\n",
       "      <td>1</td>\n",
       "      <td>06897</td>\n",
       "    </tr>\n",
       "    <tr>\n",
       "      <th>1</th>\n",
       "      <td>1/19713</td>\n",
       "      <td>1</td>\n",
       "      <td>19713</td>\n",
       "    </tr>\n",
       "    <tr>\n",
       "      <th>2</th>\n",
       "      <td>2/01581</td>\n",
       "      <td>2</td>\n",
       "      <td>01581</td>\n",
       "    </tr>\n",
       "    <tr>\n",
       "      <th>3</th>\n",
       "      <td>2/01730</td>\n",
       "      <td>2</td>\n",
       "      <td>01730</td>\n",
       "    </tr>\n",
       "    <tr>\n",
       "      <th>4</th>\n",
       "      <td>2/01833</td>\n",
       "      <td>2</td>\n",
       "      <td>01833</td>\n",
       "    </tr>\n",
       "  </tbody>\n",
       "</table>\n",
       "</div>"
      ],
      "text/plain": [
       "        Id  EmployeeId TerritoryId\n",
       "0  1/06897           1       06897\n",
       "1  1/19713           1       19713\n",
       "2  2/01581           2       01581\n",
       "3  2/01730           2       01730\n",
       "4  2/01833           2       01833"
      ]
     },
     "execution_count": 6,
     "metadata": {},
     "output_type": "execute_result"
    }
   ],
   "source": [
    "# Employee Territory\n",
    "cur.execute(\"\"\"SELECT *\n",
    "               FROM EmployeeTerritory\n",
    "               \"\"\")\n",
    "employeeTerritory = pd.DataFrame(cur.fetchall())\n",
    "employeeTerritory.columns = [x[0] for x in cur.description]\n",
    "employeeTerritory.head()"
   ]
  },
  {
   "cell_type": "code",
   "execution_count": 7,
   "metadata": {},
   "outputs": [
    {
     "data": {
      "text/html": [
       "<div>\n",
       "<style scoped>\n",
       "    .dataframe tbody tr th:only-of-type {\n",
       "        vertical-align: middle;\n",
       "    }\n",
       "\n",
       "    .dataframe tbody tr th {\n",
       "        vertical-align: top;\n",
       "    }\n",
       "\n",
       "    .dataframe thead th {\n",
       "        text-align: right;\n",
       "    }\n",
       "</style>\n",
       "<table border=\"1\" class=\"dataframe\">\n",
       "  <thead>\n",
       "    <tr style=\"text-align: right;\">\n",
       "      <th></th>\n",
       "      <th>Id</th>\n",
       "      <th>LastName</th>\n",
       "      <th>FirstName</th>\n",
       "      <th>Title</th>\n",
       "      <th>TitleOfCourtesy</th>\n",
       "      <th>BirthDate</th>\n",
       "      <th>HireDate</th>\n",
       "      <th>Address</th>\n",
       "      <th>City</th>\n",
       "      <th>Region</th>\n",
       "      <th>PostalCode</th>\n",
       "      <th>Country</th>\n",
       "      <th>HomePhone</th>\n",
       "      <th>Extension</th>\n",
       "      <th>Photo</th>\n",
       "      <th>Notes</th>\n",
       "      <th>ReportsTo</th>\n",
       "      <th>PhotoPath</th>\n",
       "    </tr>\n",
       "  </thead>\n",
       "  <tbody>\n",
       "    <tr>\n",
       "      <th>0</th>\n",
       "      <td>1</td>\n",
       "      <td>Davolio</td>\n",
       "      <td>Nancy</td>\n",
       "      <td>Sales Representative</td>\n",
       "      <td>Ms.</td>\n",
       "      <td>1980-12-08</td>\n",
       "      <td>2024-05-01</td>\n",
       "      <td>507 - 20th Ave. E. Apt. 2A</td>\n",
       "      <td>Seattle</td>\n",
       "      <td>North America</td>\n",
       "      <td>98122</td>\n",
       "      <td>USA</td>\n",
       "      <td>(206) 555-9857</td>\n",
       "      <td>5467</td>\n",
       "      <td>None</td>\n",
       "      <td>Education includes a BA in psychology from Col...</td>\n",
       "      <td>2.0</td>\n",
       "      <td>http://accweb/emmployees/davolio.bmp</td>\n",
       "    </tr>\n",
       "    <tr>\n",
       "      <th>1</th>\n",
       "      <td>2</td>\n",
       "      <td>Fuller</td>\n",
       "      <td>Andrew</td>\n",
       "      <td>Vice President, Sales</td>\n",
       "      <td>Dr.</td>\n",
       "      <td>1984-02-19</td>\n",
       "      <td>2024-08-14</td>\n",
       "      <td>908 W. Capital Way</td>\n",
       "      <td>Tacoma</td>\n",
       "      <td>North America</td>\n",
       "      <td>98401</td>\n",
       "      <td>USA</td>\n",
       "      <td>(206) 555-9482</td>\n",
       "      <td>3457</td>\n",
       "      <td>None</td>\n",
       "      <td>Andrew received his BTS commercial in 1974 and...</td>\n",
       "      <td>NaN</td>\n",
       "      <td>http://accweb/emmployees/fuller.bmp</td>\n",
       "    </tr>\n",
       "    <tr>\n",
       "      <th>2</th>\n",
       "      <td>3</td>\n",
       "      <td>Leverling</td>\n",
       "      <td>Janet</td>\n",
       "      <td>Sales Representative</td>\n",
       "      <td>Ms.</td>\n",
       "      <td>1995-08-30</td>\n",
       "      <td>2024-04-01</td>\n",
       "      <td>722 Moss Bay Blvd.</td>\n",
       "      <td>Kirkland</td>\n",
       "      <td>North America</td>\n",
       "      <td>98033</td>\n",
       "      <td>USA</td>\n",
       "      <td>(206) 555-3412</td>\n",
       "      <td>3355</td>\n",
       "      <td>None</td>\n",
       "      <td>Janet has a BS degree in chemistry from Boston...</td>\n",
       "      <td>2.0</td>\n",
       "      <td>http://accweb/emmployees/leverling.bmp</td>\n",
       "    </tr>\n",
       "    <tr>\n",
       "      <th>3</th>\n",
       "      <td>4</td>\n",
       "      <td>Peacock</td>\n",
       "      <td>Margaret</td>\n",
       "      <td>Sales Representative</td>\n",
       "      <td>Mrs.</td>\n",
       "      <td>1969-09-19</td>\n",
       "      <td>2025-05-03</td>\n",
       "      <td>4110 Old Redmond Rd.</td>\n",
       "      <td>Redmond</td>\n",
       "      <td>North America</td>\n",
       "      <td>98052</td>\n",
       "      <td>USA</td>\n",
       "      <td>(206) 555-8122</td>\n",
       "      <td>5176</td>\n",
       "      <td>None</td>\n",
       "      <td>Margaret holds a BA in English literature from...</td>\n",
       "      <td>2.0</td>\n",
       "      <td>http://accweb/emmployees/peacock.bmp</td>\n",
       "    </tr>\n",
       "    <tr>\n",
       "      <th>4</th>\n",
       "      <td>5</td>\n",
       "      <td>Buchanan</td>\n",
       "      <td>Steven</td>\n",
       "      <td>Sales Manager</td>\n",
       "      <td>Mr.</td>\n",
       "      <td>1987-03-04</td>\n",
       "      <td>2025-10-17</td>\n",
       "      <td>14 Garrett Hill</td>\n",
       "      <td>London</td>\n",
       "      <td>British Isles</td>\n",
       "      <td>SW1 8JR</td>\n",
       "      <td>UK</td>\n",
       "      <td>(71) 555-4848</td>\n",
       "      <td>3453</td>\n",
       "      <td>None</td>\n",
       "      <td>Steven Buchanan graduated from St. Andrews Uni...</td>\n",
       "      <td>2.0</td>\n",
       "      <td>http://accweb/emmployees/buchanan.bmp</td>\n",
       "    </tr>\n",
       "  </tbody>\n",
       "</table>\n",
       "</div>"
      ],
      "text/plain": [
       "   Id   LastName FirstName                  Title TitleOfCourtesy   BirthDate  \\\n",
       "0   1    Davolio     Nancy   Sales Representative             Ms.  1980-12-08   \n",
       "1   2     Fuller    Andrew  Vice President, Sales             Dr.  1984-02-19   \n",
       "2   3  Leverling     Janet   Sales Representative             Ms.  1995-08-30   \n",
       "3   4    Peacock  Margaret   Sales Representative            Mrs.  1969-09-19   \n",
       "4   5   Buchanan    Steven          Sales Manager             Mr.  1987-03-04   \n",
       "\n",
       "     HireDate                     Address      City         Region PostalCode  \\\n",
       "0  2024-05-01  507 - 20th Ave. E. Apt. 2A   Seattle  North America      98122   \n",
       "1  2024-08-14          908 W. Capital Way    Tacoma  North America      98401   \n",
       "2  2024-04-01          722 Moss Bay Blvd.  Kirkland  North America      98033   \n",
       "3  2025-05-03        4110 Old Redmond Rd.   Redmond  North America      98052   \n",
       "4  2025-10-17             14 Garrett Hill    London  British Isles    SW1 8JR   \n",
       "\n",
       "  Country       HomePhone Extension Photo  \\\n",
       "0     USA  (206) 555-9857      5467  None   \n",
       "1     USA  (206) 555-9482      3457  None   \n",
       "2     USA  (206) 555-3412      3355  None   \n",
       "3     USA  (206) 555-8122      5176  None   \n",
       "4      UK   (71) 555-4848      3453  None   \n",
       "\n",
       "                                               Notes  ReportsTo  \\\n",
       "0  Education includes a BA in psychology from Col...        2.0   \n",
       "1  Andrew received his BTS commercial in 1974 and...        NaN   \n",
       "2  Janet has a BS degree in chemistry from Boston...        2.0   \n",
       "3  Margaret holds a BA in English literature from...        2.0   \n",
       "4  Steven Buchanan graduated from St. Andrews Uni...        2.0   \n",
       "\n",
       "                                PhotoPath  \n",
       "0    http://accweb/emmployees/davolio.bmp  \n",
       "1     http://accweb/emmployees/fuller.bmp  \n",
       "2  http://accweb/emmployees/leverling.bmp  \n",
       "3    http://accweb/emmployees/peacock.bmp  \n",
       "4   http://accweb/emmployees/buchanan.bmp  "
      ]
     },
     "execution_count": 7,
     "metadata": {},
     "output_type": "execute_result"
    }
   ],
   "source": [
    "# Employee data\n",
    "cur.execute(\"\"\"SELECT *\n",
    "               FROM Employee\n",
    "               \"\"\")\n",
    "employee = pd.DataFrame(cur.fetchall())\n",
    "employee.columns = [x[0] for x in cur.description]\n",
    "employee.head()"
   ]
  },
  {
   "cell_type": "code",
   "execution_count": 8,
   "metadata": {},
   "outputs": [
    {
     "data": {
      "text/html": [
       "<div>\n",
       "<style scoped>\n",
       "    .dataframe tbody tr th:only-of-type {\n",
       "        vertical-align: middle;\n",
       "    }\n",
       "\n",
       "    .dataframe tbody tr th {\n",
       "        vertical-align: top;\n",
       "    }\n",
       "\n",
       "    .dataframe thead th {\n",
       "        text-align: right;\n",
       "    }\n",
       "</style>\n",
       "<table border=\"1\" class=\"dataframe\">\n",
       "  <thead>\n",
       "    <tr style=\"text-align: right;\">\n",
       "      <th></th>\n",
       "      <th>Id</th>\n",
       "      <th>CustomerId</th>\n",
       "      <th>EmployeeId</th>\n",
       "      <th>OrderDate</th>\n",
       "      <th>RequiredDate</th>\n",
       "      <th>ShippedDate</th>\n",
       "      <th>ShipVia</th>\n",
       "      <th>Freight</th>\n",
       "      <th>ShipName</th>\n",
       "      <th>ShipAddress</th>\n",
       "      <th>ShipCity</th>\n",
       "      <th>ShipRegion</th>\n",
       "      <th>ShipPostalCode</th>\n",
       "      <th>ShipCountry</th>\n",
       "    </tr>\n",
       "  </thead>\n",
       "  <tbody>\n",
       "    <tr>\n",
       "      <th>0</th>\n",
       "      <td>10248</td>\n",
       "      <td>VINET</td>\n",
       "      <td>5</td>\n",
       "      <td>2012-07-04</td>\n",
       "      <td>2012-08-01</td>\n",
       "      <td>2012-07-16</td>\n",
       "      <td>3</td>\n",
       "      <td>32.38</td>\n",
       "      <td>Vins et alcools Chevalier</td>\n",
       "      <td>59 rue de l'Abbaye</td>\n",
       "      <td>Reims</td>\n",
       "      <td>Western Europe</td>\n",
       "      <td>51100</td>\n",
       "      <td>France</td>\n",
       "    </tr>\n",
       "    <tr>\n",
       "      <th>1</th>\n",
       "      <td>10249</td>\n",
       "      <td>TOMSP</td>\n",
       "      <td>6</td>\n",
       "      <td>2012-07-05</td>\n",
       "      <td>2012-08-16</td>\n",
       "      <td>2012-07-10</td>\n",
       "      <td>1</td>\n",
       "      <td>11.61</td>\n",
       "      <td>Toms Spezialitäten</td>\n",
       "      <td>Luisenstr. 48</td>\n",
       "      <td>Münster</td>\n",
       "      <td>Western Europe</td>\n",
       "      <td>44087</td>\n",
       "      <td>Germany</td>\n",
       "    </tr>\n",
       "    <tr>\n",
       "      <th>2</th>\n",
       "      <td>10250</td>\n",
       "      <td>HANAR</td>\n",
       "      <td>4</td>\n",
       "      <td>2012-07-08</td>\n",
       "      <td>2012-08-05</td>\n",
       "      <td>2012-07-12</td>\n",
       "      <td>2</td>\n",
       "      <td>65.83</td>\n",
       "      <td>Hanari Carnes</td>\n",
       "      <td>Rua do Paço, 67</td>\n",
       "      <td>Rio de Janeiro</td>\n",
       "      <td>South America</td>\n",
       "      <td>05454-876</td>\n",
       "      <td>Brazil</td>\n",
       "    </tr>\n",
       "    <tr>\n",
       "      <th>3</th>\n",
       "      <td>10251</td>\n",
       "      <td>VICTE</td>\n",
       "      <td>3</td>\n",
       "      <td>2012-07-08</td>\n",
       "      <td>2012-08-05</td>\n",
       "      <td>2012-07-15</td>\n",
       "      <td>1</td>\n",
       "      <td>41.34</td>\n",
       "      <td>Victuailles en stock</td>\n",
       "      <td>2, rue du Commerce</td>\n",
       "      <td>Lyon</td>\n",
       "      <td>Western Europe</td>\n",
       "      <td>69004</td>\n",
       "      <td>France</td>\n",
       "    </tr>\n",
       "    <tr>\n",
       "      <th>4</th>\n",
       "      <td>10252</td>\n",
       "      <td>SUPRD</td>\n",
       "      <td>4</td>\n",
       "      <td>2012-07-09</td>\n",
       "      <td>2012-08-06</td>\n",
       "      <td>2012-07-11</td>\n",
       "      <td>2</td>\n",
       "      <td>51.30</td>\n",
       "      <td>Suprêmes délices</td>\n",
       "      <td>Boulevard Tirou, 255</td>\n",
       "      <td>Charleroi</td>\n",
       "      <td>Western Europe</td>\n",
       "      <td>B-6000</td>\n",
       "      <td>Belgium</td>\n",
       "    </tr>\n",
       "  </tbody>\n",
       "</table>\n",
       "</div>"
      ],
      "text/plain": [
       "      Id CustomerId  EmployeeId   OrderDate RequiredDate ShippedDate  ShipVia  \\\n",
       "0  10248      VINET           5  2012-07-04   2012-08-01  2012-07-16        3   \n",
       "1  10249      TOMSP           6  2012-07-05   2012-08-16  2012-07-10        1   \n",
       "2  10250      HANAR           4  2012-07-08   2012-08-05  2012-07-12        2   \n",
       "3  10251      VICTE           3  2012-07-08   2012-08-05  2012-07-15        1   \n",
       "4  10252      SUPRD           4  2012-07-09   2012-08-06  2012-07-11        2   \n",
       "\n",
       "   Freight                   ShipName           ShipAddress        ShipCity  \\\n",
       "0    32.38  Vins et alcools Chevalier    59 rue de l'Abbaye           Reims   \n",
       "1    11.61         Toms Spezialitäten         Luisenstr. 48         Münster   \n",
       "2    65.83              Hanari Carnes       Rua do Paço, 67  Rio de Janeiro   \n",
       "3    41.34       Victuailles en stock    2, rue du Commerce            Lyon   \n",
       "4    51.30           Suprêmes délices  Boulevard Tirou, 255       Charleroi   \n",
       "\n",
       "       ShipRegion ShipPostalCode ShipCountry  \n",
       "0  Western Europe          51100      France  \n",
       "1  Western Europe          44087     Germany  \n",
       "2   South America      05454-876      Brazil  \n",
       "3  Western Europe          69004      France  \n",
       "4  Western Europe         B-6000     Belgium  "
      ]
     },
     "execution_count": 8,
     "metadata": {},
     "output_type": "execute_result"
    }
   ],
   "source": [
    "# Order data\n",
    "cur.execute(\"\"\"SELECT *\n",
    "               FROM 'Order'\n",
    "               \"\"\")\n",
    "order = pd.DataFrame(cur.fetchall())\n",
    "order.columns = [x[0] for x in cur.description]\n",
    "order.head()"
   ]
  },
  {
   "cell_type": "code",
   "execution_count": 9,
   "metadata": {},
   "outputs": [
    {
     "data": {
      "text/html": [
       "<div>\n",
       "<style scoped>\n",
       "    .dataframe tbody tr th:only-of-type {\n",
       "        vertical-align: middle;\n",
       "    }\n",
       "\n",
       "    .dataframe tbody tr th {\n",
       "        vertical-align: top;\n",
       "    }\n",
       "\n",
       "    .dataframe thead th {\n",
       "        text-align: right;\n",
       "    }\n",
       "</style>\n",
       "<table border=\"1\" class=\"dataframe\">\n",
       "  <thead>\n",
       "    <tr style=\"text-align: right;\">\n",
       "      <th></th>\n",
       "      <th>Id</th>\n",
       "      <th>OrderId</th>\n",
       "      <th>ProductId</th>\n",
       "      <th>UnitPrice</th>\n",
       "      <th>Quantity</th>\n",
       "      <th>Discount</th>\n",
       "    </tr>\n",
       "  </thead>\n",
       "  <tbody>\n",
       "    <tr>\n",
       "      <th>0</th>\n",
       "      <td>10248/11</td>\n",
       "      <td>10248</td>\n",
       "      <td>11</td>\n",
       "      <td>14.0</td>\n",
       "      <td>12</td>\n",
       "      <td>0.0</td>\n",
       "    </tr>\n",
       "    <tr>\n",
       "      <th>1</th>\n",
       "      <td>10248/42</td>\n",
       "      <td>10248</td>\n",
       "      <td>42</td>\n",
       "      <td>9.8</td>\n",
       "      <td>10</td>\n",
       "      <td>0.0</td>\n",
       "    </tr>\n",
       "    <tr>\n",
       "      <th>2</th>\n",
       "      <td>10248/72</td>\n",
       "      <td>10248</td>\n",
       "      <td>72</td>\n",
       "      <td>34.8</td>\n",
       "      <td>5</td>\n",
       "      <td>0.0</td>\n",
       "    </tr>\n",
       "    <tr>\n",
       "      <th>3</th>\n",
       "      <td>10249/14</td>\n",
       "      <td>10249</td>\n",
       "      <td>14</td>\n",
       "      <td>18.6</td>\n",
       "      <td>9</td>\n",
       "      <td>0.0</td>\n",
       "    </tr>\n",
       "    <tr>\n",
       "      <th>4</th>\n",
       "      <td>10249/51</td>\n",
       "      <td>10249</td>\n",
       "      <td>51</td>\n",
       "      <td>42.4</td>\n",
       "      <td>40</td>\n",
       "      <td>0.0</td>\n",
       "    </tr>\n",
       "  </tbody>\n",
       "</table>\n",
       "</div>"
      ],
      "text/plain": [
       "         Id  OrderId  ProductId  UnitPrice  Quantity  Discount\n",
       "0  10248/11    10248         11       14.0        12       0.0\n",
       "1  10248/42    10248         42        9.8        10       0.0\n",
       "2  10248/72    10248         72       34.8         5       0.0\n",
       "3  10249/14    10249         14       18.6         9       0.0\n",
       "4  10249/51    10249         51       42.4        40       0.0"
      ]
     },
     "execution_count": 9,
     "metadata": {},
     "output_type": "execute_result"
    }
   ],
   "source": [
    "# OrderDetail data\n",
    "cur.execute(\"\"\"SELECT *\n",
    "               FROM OrderDetail\n",
    "               \"\"\")\n",
    "orderDetail = pd.DataFrame(cur.fetchall())\n",
    "orderDetail.columns = [x[0] for x in cur.description]\n",
    "orderDetail.head()"
   ]
  },
  {
   "cell_type": "code",
   "execution_count": 10,
   "metadata": {},
   "outputs": [
    {
     "data": {
      "text/html": [
       "<div>\n",
       "<style scoped>\n",
       "    .dataframe tbody tr th:only-of-type {\n",
       "        vertical-align: middle;\n",
       "    }\n",
       "\n",
       "    .dataframe tbody tr th {\n",
       "        vertical-align: top;\n",
       "    }\n",
       "\n",
       "    .dataframe thead th {\n",
       "        text-align: right;\n",
       "    }\n",
       "</style>\n",
       "<table border=\"1\" class=\"dataframe\">\n",
       "  <thead>\n",
       "    <tr style=\"text-align: right;\">\n",
       "      <th></th>\n",
       "      <th>TerritoryId</th>\n",
       "      <th>RegionId</th>\n",
       "      <th>EmployeeId</th>\n",
       "      <th>Region</th>\n",
       "      <th>LastName</th>\n",
       "      <th>Id</th>\n",
       "      <th>ProductId</th>\n",
       "      <th>ItemTotal</th>\n",
       "      <th>UnitPrice</th>\n",
       "      <th>Quantity</th>\n",
       "    </tr>\n",
       "  </thead>\n",
       "  <tbody>\n",
       "    <tr>\n",
       "      <th>0</th>\n",
       "      <td>01581</td>\n",
       "      <td>1</td>\n",
       "      <td>2</td>\n",
       "      <td>North America</td>\n",
       "      <td>Fuller</td>\n",
       "      <td>10265</td>\n",
       "      <td>17</td>\n",
       "      <td>936.0</td>\n",
       "      <td>31.20</td>\n",
       "      <td>30</td>\n",
       "    </tr>\n",
       "    <tr>\n",
       "      <th>1</th>\n",
       "      <td>01581</td>\n",
       "      <td>1</td>\n",
       "      <td>2</td>\n",
       "      <td>North America</td>\n",
       "      <td>Fuller</td>\n",
       "      <td>10265</td>\n",
       "      <td>70</td>\n",
       "      <td>240.0</td>\n",
       "      <td>12.00</td>\n",
       "      <td>20</td>\n",
       "    </tr>\n",
       "    <tr>\n",
       "      <th>2</th>\n",
       "      <td>01581</td>\n",
       "      <td>1</td>\n",
       "      <td>2</td>\n",
       "      <td>North America</td>\n",
       "      <td>Fuller</td>\n",
       "      <td>10277</td>\n",
       "      <td>28</td>\n",
       "      <td>728.0</td>\n",
       "      <td>36.40</td>\n",
       "      <td>20</td>\n",
       "    </tr>\n",
       "    <tr>\n",
       "      <th>3</th>\n",
       "      <td>01581</td>\n",
       "      <td>1</td>\n",
       "      <td>2</td>\n",
       "      <td>North America</td>\n",
       "      <td>Fuller</td>\n",
       "      <td>10277</td>\n",
       "      <td>62</td>\n",
       "      <td>472.8</td>\n",
       "      <td>39.40</td>\n",
       "      <td>12</td>\n",
       "    </tr>\n",
       "    <tr>\n",
       "      <th>4</th>\n",
       "      <td>01581</td>\n",
       "      <td>1</td>\n",
       "      <td>2</td>\n",
       "      <td>North America</td>\n",
       "      <td>Fuller</td>\n",
       "      <td>10280</td>\n",
       "      <td>24</td>\n",
       "      <td>43.2</td>\n",
       "      <td>3.60</td>\n",
       "      <td>12</td>\n",
       "    </tr>\n",
       "    <tr>\n",
       "      <th>...</th>\n",
       "      <td>...</td>\n",
       "      <td>...</td>\n",
       "      <td>...</td>\n",
       "      <td>...</td>\n",
       "      <td>...</td>\n",
       "      <td>...</td>\n",
       "      <td>...</td>\n",
       "      <td>...</td>\n",
       "      <td>...</td>\n",
       "      <td>...</td>\n",
       "    </tr>\n",
       "    <tr>\n",
       "      <th>10124</th>\n",
       "      <td>98104</td>\n",
       "      <td>2</td>\n",
       "      <td>6</td>\n",
       "      <td>British Isles</td>\n",
       "      <td>Suyama</td>\n",
       "      <td>11031</td>\n",
       "      <td>24</td>\n",
       "      <td>94.5</td>\n",
       "      <td>4.50</td>\n",
       "      <td>21</td>\n",
       "    </tr>\n",
       "    <tr>\n",
       "      <th>10125</th>\n",
       "      <td>98104</td>\n",
       "      <td>2</td>\n",
       "      <td>6</td>\n",
       "      <td>British Isles</td>\n",
       "      <td>Suyama</td>\n",
       "      <td>11031</td>\n",
       "      <td>64</td>\n",
       "      <td>665.0</td>\n",
       "      <td>33.25</td>\n",
       "      <td>20</td>\n",
       "    </tr>\n",
       "    <tr>\n",
       "      <th>10126</th>\n",
       "      <td>98104</td>\n",
       "      <td>2</td>\n",
       "      <td>6</td>\n",
       "      <td>British Isles</td>\n",
       "      <td>Suyama</td>\n",
       "      <td>11031</td>\n",
       "      <td>71</td>\n",
       "      <td>344.0</td>\n",
       "      <td>21.50</td>\n",
       "      <td>16</td>\n",
       "    </tr>\n",
       "    <tr>\n",
       "      <th>10127</th>\n",
       "      <td>98104</td>\n",
       "      <td>2</td>\n",
       "      <td>6</td>\n",
       "      <td>British Isles</td>\n",
       "      <td>Suyama</td>\n",
       "      <td>11045</td>\n",
       "      <td>33</td>\n",
       "      <td>37.5</td>\n",
       "      <td>2.50</td>\n",
       "      <td>15</td>\n",
       "    </tr>\n",
       "    <tr>\n",
       "      <th>10128</th>\n",
       "      <td>98104</td>\n",
       "      <td>2</td>\n",
       "      <td>6</td>\n",
       "      <td>British Isles</td>\n",
       "      <td>Suyama</td>\n",
       "      <td>11045</td>\n",
       "      <td>51</td>\n",
       "      <td>1272.0</td>\n",
       "      <td>53.00</td>\n",
       "      <td>24</td>\n",
       "    </tr>\n",
       "  </tbody>\n",
       "</table>\n",
       "<p>10129 rows × 10 columns</p>\n",
       "</div>"
      ],
      "text/plain": [
       "      TerritoryId  RegionId  EmployeeId         Region LastName     Id  \\\n",
       "0           01581         1           2  North America   Fuller  10265   \n",
       "1           01581         1           2  North America   Fuller  10265   \n",
       "2           01581         1           2  North America   Fuller  10277   \n",
       "3           01581         1           2  North America   Fuller  10277   \n",
       "4           01581         1           2  North America   Fuller  10280   \n",
       "...           ...       ...         ...            ...      ...    ...   \n",
       "10124       98104         2           6  British Isles   Suyama  11031   \n",
       "10125       98104         2           6  British Isles   Suyama  11031   \n",
       "10126       98104         2           6  British Isles   Suyama  11031   \n",
       "10127       98104         2           6  British Isles   Suyama  11045   \n",
       "10128       98104         2           6  British Isles   Suyama  11045   \n",
       "\n",
       "       ProductId  ItemTotal  UnitPrice  Quantity  \n",
       "0             17      936.0      31.20        30  \n",
       "1             70      240.0      12.00        20  \n",
       "2             28      728.0      36.40        20  \n",
       "3             62      472.8      39.40        12  \n",
       "4             24       43.2       3.60        12  \n",
       "...          ...        ...        ...       ...  \n",
       "10124         24       94.5       4.50        21  \n",
       "10125         64      665.0      33.25        20  \n",
       "10126         71      344.0      21.50        16  \n",
       "10127         33       37.5       2.50        15  \n",
       "10128         51     1272.0      53.00        24  \n",
       "\n",
       "[10129 rows x 10 columns]"
      ]
     },
     "execution_count": 10,
     "metadata": {},
     "output_type": "execute_result"
    }
   ],
   "source": [
    "# Import all data\n",
    "cur.execute(\"\"\"SELECT Territory.Id as TerritoryId, RegionId, EmployeeTerritory.EmployeeId, Employee.Region, Employee.LastName, 'Order'.Id, OrderDetail.ProductId, UnitPrice*Quantity as ItemTotal, UnitPrice, Quantity\n",
    "               FROM Territory\n",
    "               LEFT JOIN EmployeeTerritory ON Territory.Id = EmployeeTerritory.TerritoryId\n",
    "               JOIN Employee on EmployeeTerritory.EmployeeId = Employee.Id\n",
    "               JOIN 'Order' on Employee.Id = 'Order'.EmployeeId\n",
    "               JOIN OrderDetail on 'Order'.Id = OrderDetail.OrderId\n",
    "               \"\"\")\n",
    "df = pd.DataFrame(cur.fetchall())\n",
    "df.columns = [x[0] for x in cur.description]\n",
    "df"
   ]
  },
  {
   "cell_type": "markdown",
   "metadata": {},
   "source": [
    "## 4.2.2 Scrub Data<a id='Scrub Data'></a>\n",
    "\n",
    "The following scrubbing techniques were applied to the original data:\n",
    "- 4.2.2.1 Manage n/a data types\n",
    "- 4.2.2.2 Remove duplicate rows\n",
    "- 4.2.2.3 Manage data types\n",
    "- 4.2.2.4 Remove outliers"
   ]
  },
  {
   "cell_type": "markdown",
   "metadata": {},
   "source": [
    "### 4.2.2.1 Manage n/a data types"
   ]
  },
  {
   "cell_type": "code",
   "execution_count": 11,
   "metadata": {},
   "outputs": [
    {
     "name": "stdout",
     "output_type": "stream",
     "text": [
      "10129\n"
     ]
    },
    {
     "data": {
      "text/plain": [
       "TerritoryId    0\n",
       "RegionId       0\n",
       "EmployeeId     0\n",
       "Region         0\n",
       "LastName       0\n",
       "Id             0\n",
       "ProductId      0\n",
       "ItemTotal      0\n",
       "UnitPrice      0\n",
       "Quantity       0\n",
       "dtype: int64"
      ]
     },
     "execution_count": 11,
     "metadata": {},
     "output_type": "execute_result"
    }
   ],
   "source": [
    "# nans identification\n",
    "print(len(df))\n",
    "df.isna().sum()"
   ]
  },
  {
   "cell_type": "markdown",
   "metadata": {},
   "source": [
    "### 4.2.2.2 Remove duplicate data"
   ]
  },
  {
   "cell_type": "code",
   "execution_count": 12,
   "metadata": {},
   "outputs": [
    {
     "name": "stdout",
     "output_type": "stream",
     "text": [
      "duplicated rows: 0\n"
     ]
    }
   ],
   "source": [
    "# identification of duplicate data\n",
    "print('duplicated rows: ' + str(df.duplicated().sum()))"
   ]
  },
  {
   "cell_type": "code",
   "execution_count": 13,
   "metadata": {},
   "outputs": [
    {
     "name": "stdout",
     "output_type": "stream",
     "text": [
      "duplicated rows: 0\n"
     ]
    }
   ],
   "source": [
    "# code to drop duplicate row if necessary\n",
    "df.drop_duplicates(inplace=True)\n",
    "print('duplicated rows: ' + str(df.duplicated().sum()))"
   ]
  },
  {
   "cell_type": "markdown",
   "metadata": {},
   "source": [
    "### 4.2.2.3 Manage data types\n",
    "\n",
    "First, let's see what the data types for this data set are."
   ]
  },
  {
   "cell_type": "code",
   "execution_count": 14,
   "metadata": {},
   "outputs": [
    {
     "name": "stdout",
     "output_type": "stream",
     "text": [
      "<class 'pandas.core.frame.DataFrame'>\n",
      "Int64Index: 10129 entries, 0 to 10128\n",
      "Data columns (total 10 columns):\n",
      "TerritoryId    10129 non-null object\n",
      "RegionId       10129 non-null int64\n",
      "EmployeeId     10129 non-null int64\n",
      "Region         10129 non-null object\n",
      "LastName       10129 non-null object\n",
      "Id             10129 non-null int64\n",
      "ProductId      10129 non-null int64\n",
      "ItemTotal      10129 non-null float64\n",
      "UnitPrice      10129 non-null float64\n",
      "Quantity       10129 non-null int64\n",
      "dtypes: float64(2), int64(5), object(3)\n",
      "memory usage: 870.5+ KB\n"
     ]
    }
   ],
   "source": [
    "# data type identification\n",
    "df.info()"
   ]
  },
  {
   "cell_type": "code",
   "execution_count": 15,
   "metadata": {},
   "outputs": [
    {
     "data": {
      "text/plain": [
       "array(['01581', '01730', '01833', '02116', '02139', '02184', '02903',\n",
       "       '03049', '03801', '06897', '07960', '08837', '10019', '10038',\n",
       "       '11747', '14450', '19428', '19713', '20852', '27403', '27511',\n",
       "       '30346', '31406', '32859', '33607', '40222', '44122', '45839',\n",
       "       '48075', '48084', '48304', '53404', '55113', '55439', '60179',\n",
       "       '60601', '80202', '80909', '85014', '85251', '90405', '94025',\n",
       "       '94105', '95008', '95054', '95060', '98004', '98052', '98104'],\n",
       "      dtype=object)"
      ]
     },
     "execution_count": 15,
     "metadata": {},
     "output_type": "execute_result"
    }
   ],
   "source": [
    "df.TerritoryId.unique()"
   ]
  },
  {
   "cell_type": "code",
   "execution_count": 16,
   "metadata": {},
   "outputs": [
    {
     "name": "stdout",
     "output_type": "stream",
     "text": [
      "<class 'pandas.core.frame.DataFrame'>\n",
      "Int64Index: 10129 entries, 0 to 10128\n",
      "Data columns (total 10 columns):\n",
      "TerritoryId    10129 non-null int32\n",
      "RegionId       10129 non-null int64\n",
      "EmployeeId     10129 non-null int64\n",
      "Region         10129 non-null object\n",
      "LastName       10129 non-null object\n",
      "Id             10129 non-null int64\n",
      "ProductId      10129 non-null int64\n",
      "ItemTotal      10129 non-null float64\n",
      "UnitPrice      10129 non-null float64\n",
      "Quantity       10129 non-null int64\n",
      "dtypes: float64(2), int32(1), int64(5), object(2)\n",
      "memory usage: 830.9+ KB\n"
     ]
    }
   ],
   "source": [
    "df['TerritoryId'] = df['TerritoryId'].astype(int)\n",
    "df.info()"
   ]
  },
  {
   "cell_type": "code",
   "execution_count": 17,
   "metadata": {},
   "outputs": [
    {
     "data": {
      "text/plain": [
       "array(['North America', 'British Isles'], dtype=object)"
      ]
     },
     "execution_count": 17,
     "metadata": {},
     "output_type": "execute_result"
    }
   ],
   "source": [
    "df.Region.unique()"
   ]
  },
  {
   "cell_type": "code",
   "execution_count": 18,
   "metadata": {},
   "outputs": [],
   "source": [
    "df['Region'] = ['British_Isles' if x == 'British Isles' else 'North_America' for x in df['Region']]"
   ]
  },
  {
   "cell_type": "code",
   "execution_count": 19,
   "metadata": {},
   "outputs": [
    {
     "name": "stdout",
     "output_type": "stream",
     "text": [
      "<class 'pandas.core.frame.DataFrame'>\n",
      "Int64Index: 10129 entries, 0 to 10128\n",
      "Data columns (total 10 columns):\n",
      "TerritoryId    10129 non-null int32\n",
      "RegionId       10129 non-null int64\n",
      "EmployeeId     10129 non-null int64\n",
      "Region         10129 non-null object\n",
      "LastName       10129 non-null object\n",
      "Id             10129 non-null int64\n",
      "ProductId      10129 non-null int64\n",
      "ItemTotal      10129 non-null float64\n",
      "UnitPrice      10129 non-null float64\n",
      "Quantity       10129 non-null int64\n",
      "dtypes: float64(2), int32(1), int64(5), object(2)\n",
      "memory usage: 830.9+ KB\n"
     ]
    }
   ],
   "source": [
    "df.info()"
   ]
  },
  {
   "cell_type": "code",
   "execution_count": 20,
   "metadata": {},
   "outputs": [
    {
     "data": {
      "text/plain": [
       "array(['North_America', 'British_Isles'], dtype=object)"
      ]
     },
     "execution_count": 20,
     "metadata": {},
     "output_type": "execute_result"
    }
   ],
   "source": [
    "df.Region.unique()"
   ]
  },
  {
   "cell_type": "code",
   "execution_count": 21,
   "metadata": {},
   "outputs": [
    {
     "name": "stdout",
     "output_type": "stream",
     "text": [
      "<class 'pandas.core.frame.DataFrame'>\n",
      "Int64Index: 10129 entries, 0 to 10128\n",
      "Data columns (total 10 columns):\n",
      "TerritoryId    10129 non-null int32\n",
      "RegionId       10129 non-null int64\n",
      "EmployeeId     10129 non-null int64\n",
      "Region         10129 non-null object\n",
      "LastName       10129 non-null object\n",
      "Id             10129 non-null int64\n",
      "ProductId      10129 non-null int64\n",
      "ItemTotal      10129 non-null float64\n",
      "UnitPrice      10129 non-null float64\n",
      "Quantity       10129 non-null int64\n",
      "dtypes: float64(2), int32(1), int64(5), object(2)\n",
      "memory usage: 830.9+ KB\n"
     ]
    }
   ],
   "source": [
    "df['Region'] = [str(x) for x in df['Region']]\n",
    "df.info()"
   ]
  },
  {
   "cell_type": "code",
   "execution_count": 22,
   "metadata": {},
   "outputs": [
    {
     "data": {
      "text/plain": [
       "Index(['TerritoryId', 'RegionId', 'EmployeeId', 'Region', 'LastName', 'Id',\n",
       "       'ProductId', 'ItemTotal', 'UnitPrice', 'Quantity'],\n",
       "      dtype='object')"
      ]
     },
     "execution_count": 22,
     "metadata": {},
     "output_type": "execute_result"
    }
   ],
   "source": [
    "df.columns"
   ]
  },
  {
   "cell_type": "markdown",
   "metadata": {},
   "source": [
    "Observations about data types"
   ]
  },
  {
   "cell_type": "markdown",
   "metadata": {},
   "source": [
    "### 4.2.2.4 Remove outliers"
   ]
  },
  {
   "cell_type": "code",
   "execution_count": 23,
   "metadata": {},
   "outputs": [],
   "source": [
    "# outlier identification\n",
    "pass"
   ]
  },
  {
   "cell_type": "code",
   "execution_count": 24,
   "metadata": {},
   "outputs": [],
   "source": [
    "# management of outliers\n",
    "pass"
   ]
  },
  {
   "cell_type": "markdown",
   "metadata": {},
   "source": [
    "### Looking at the necessary data"
   ]
  },
  {
   "cell_type": "markdown",
   "metadata": {},
   "source": [
    "## 4.2.3 Explore Data<a id='Explore Data'></a>\n",
    "\n",
    "For a quick preview of what we have to work with, we'll use the describe method.\n",
    "\n",
    "- 4.2.3.1 Visualize data\n",
    "- 4.2.3.2 Transform data\n",
    "- 4.2.3.3 Sort data / Prepare data for testing\n",
    "- 4.2.3.4 Develop Feature"
   ]
  },
  {
   "cell_type": "code",
   "execution_count": 25,
   "metadata": {},
   "outputs": [
    {
     "data": {
      "text/html": [
       "<div>\n",
       "<style scoped>\n",
       "    .dataframe tbody tr th:only-of-type {\n",
       "        vertical-align: middle;\n",
       "    }\n",
       "\n",
       "    .dataframe tbody tr th {\n",
       "        vertical-align: top;\n",
       "    }\n",
       "\n",
       "    .dataframe thead th {\n",
       "        text-align: right;\n",
       "    }\n",
       "</style>\n",
       "<table border=\"1\" class=\"dataframe\">\n",
       "  <thead>\n",
       "    <tr style=\"text-align: right;\">\n",
       "      <th></th>\n",
       "      <th>TerritoryId</th>\n",
       "      <th>RegionId</th>\n",
       "      <th>EmployeeId</th>\n",
       "      <th>Id</th>\n",
       "      <th>ProductId</th>\n",
       "      <th>ItemTotal</th>\n",
       "      <th>UnitPrice</th>\n",
       "      <th>Quantity</th>\n",
       "    </tr>\n",
       "  </thead>\n",
       "  <tbody>\n",
       "    <tr>\n",
       "      <th>count</th>\n",
       "      <td>10129.000000</td>\n",
       "      <td>10129.000000</td>\n",
       "      <td>10129.000000</td>\n",
       "      <td>10129.000000</td>\n",
       "      <td>10129.000000</td>\n",
       "      <td>10129.000000</td>\n",
       "      <td>10129.000000</td>\n",
       "      <td>10129.000000</td>\n",
       "    </tr>\n",
       "    <tr>\n",
       "      <th>mean</th>\n",
       "      <td>39445.883503</td>\n",
       "      <td>1.990226</td>\n",
       "      <td>4.884194</td>\n",
       "      <td>10663.762563</td>\n",
       "      <td>40.567874</td>\n",
       "      <td>661.287053</td>\n",
       "      <td>26.519361</td>\n",
       "      <td>24.343963</td>\n",
       "    </tr>\n",
       "    <tr>\n",
       "      <th>std</th>\n",
       "      <td>32149.598006</td>\n",
       "      <td>1.060010</td>\n",
       "      <td>2.468345</td>\n",
       "      <td>240.279728</td>\n",
       "      <td>22.098367</td>\n",
       "      <td>1122.766498</td>\n",
       "      <td>30.607125</td>\n",
       "      <td>19.410689</td>\n",
       "    </tr>\n",
       "    <tr>\n",
       "      <th>min</th>\n",
       "      <td>1581.000000</td>\n",
       "      <td>1.000000</td>\n",
       "      <td>1.000000</td>\n",
       "      <td>10248.000000</td>\n",
       "      <td>1.000000</td>\n",
       "      <td>4.800000</td>\n",
       "      <td>2.000000</td>\n",
       "      <td>1.000000</td>\n",
       "    </tr>\n",
       "    <tr>\n",
       "      <th>25%</th>\n",
       "      <td>10038.000000</td>\n",
       "      <td>1.000000</td>\n",
       "      <td>3.000000</td>\n",
       "      <td>10460.000000</td>\n",
       "      <td>22.000000</td>\n",
       "      <td>156.150000</td>\n",
       "      <td>12.000000</td>\n",
       "      <td>10.000000</td>\n",
       "    </tr>\n",
       "    <tr>\n",
       "      <th>50%</th>\n",
       "      <td>31406.000000</td>\n",
       "      <td>2.000000</td>\n",
       "      <td>5.000000</td>\n",
       "      <td>10659.000000</td>\n",
       "      <td>41.000000</td>\n",
       "      <td>372.000000</td>\n",
       "      <td>18.400000</td>\n",
       "      <td>20.000000</td>\n",
       "    </tr>\n",
       "    <tr>\n",
       "      <th>75%</th>\n",
       "      <td>60179.000000</td>\n",
       "      <td>3.000000</td>\n",
       "      <td>7.000000</td>\n",
       "      <td>10869.000000</td>\n",
       "      <td>60.000000</td>\n",
       "      <td>733.600000</td>\n",
       "      <td>32.800000</td>\n",
       "      <td>30.000000</td>\n",
       "    </tr>\n",
       "    <tr>\n",
       "      <th>max</th>\n",
       "      <td>98104.000000</td>\n",
       "      <td>4.000000</td>\n",
       "      <td>9.000000</td>\n",
       "      <td>11077.000000</td>\n",
       "      <td>77.000000</td>\n",
       "      <td>15810.000000</td>\n",
       "      <td>263.500000</td>\n",
       "      <td>130.000000</td>\n",
       "    </tr>\n",
       "  </tbody>\n",
       "</table>\n",
       "</div>"
      ],
      "text/plain": [
       "        TerritoryId      RegionId    EmployeeId            Id     ProductId  \\\n",
       "count  10129.000000  10129.000000  10129.000000  10129.000000  10129.000000   \n",
       "mean   39445.883503      1.990226      4.884194  10663.762563     40.567874   \n",
       "std    32149.598006      1.060010      2.468345    240.279728     22.098367   \n",
       "min     1581.000000      1.000000      1.000000  10248.000000      1.000000   \n",
       "25%    10038.000000      1.000000      3.000000  10460.000000     22.000000   \n",
       "50%    31406.000000      2.000000      5.000000  10659.000000     41.000000   \n",
       "75%    60179.000000      3.000000      7.000000  10869.000000     60.000000   \n",
       "max    98104.000000      4.000000      9.000000  11077.000000     77.000000   \n",
       "\n",
       "          ItemTotal     UnitPrice      Quantity  \n",
       "count  10129.000000  10129.000000  10129.000000  \n",
       "mean     661.287053     26.519361     24.343963  \n",
       "std     1122.766498     30.607125     19.410689  \n",
       "min        4.800000      2.000000      1.000000  \n",
       "25%      156.150000     12.000000     10.000000  \n",
       "50%      372.000000     18.400000     20.000000  \n",
       "75%      733.600000     32.800000     30.000000  \n",
       "max    15810.000000    263.500000    130.000000  "
      ]
     },
     "execution_count": 25,
     "metadata": {},
     "output_type": "execute_result"
    }
   ],
   "source": [
    "# describe data\n",
    "df.describe()"
   ]
  },
  {
   "cell_type": "markdown",
   "metadata": {},
   "source": [
    "Observations about df.describe()\n",
    "\n",
    "### 4.2.3.1 Visualize data"
   ]
  },
  {
   "cell_type": "code",
   "execution_count": 26,
   "metadata": {},
   "outputs": [
    {
     "data": {
      "image/png": "[encoded data removed]",
      "text/plain": [
       "<Figure size 1440x1440 with 9 Axes>"
      ]
     },
     "metadata": {
      "needs_background": "light"
     },
     "output_type": "display_data"
    }
   ],
   "source": [
    "# visualize data\n",
    "df.hist(figsize=(20,20));"
   ]
  },
  {
   "cell_type": "markdown",
   "metadata": {},
   "source": [
    "### 4.2.3.2 Transform data"
   ]
  },
  {
   "cell_type": "code",
   "execution_count": 27,
   "metadata": {},
   "outputs": [
    {
     "data": {
      "text/plain": [
       "<matplotlib.axes._subplots.AxesSubplot at 0x23331b669e8>"
      ]
     },
     "execution_count": 27,
     "metadata": {},
     "output_type": "execute_result"
    },
    {
     "data": {
      "image/png": "[encoded data removed]",
      "text/plain": [
       "<Figure size 432x288 with 1 Axes>"
      ]
     },
     "metadata": {
      "needs_background": "light"
     },
     "output_type": "display_data"
    }
   ],
   "source": [
    "df['ItemTotal_log'] = df['ItemTotal'].map(lambda x: np.log(x))\n",
    "df['Quantity_log'] = df['Quantity'].map(lambda x: np.log(x))\n",
    "df.ItemTotal.hist()"
   ]
  },
  {
   "cell_type": "markdown",
   "metadata": {},
   "source": [
    "### 4.2.3.3 Sort data / Prepare data for testing\n",
    "\n",
    "Plan and justification of sorting data"
   ]
  },
  {
   "cell_type": "code",
   "execution_count": 28,
   "metadata": {},
   "outputs": [],
   "source": [
    "# sort data\n",
    "pass"
   ]
  },
  {
   "cell_type": "markdown",
   "metadata": {},
   "source": [
    "Observations about sorted data"
   ]
  },
  {
   "cell_type": "markdown",
   "metadata": {},
   "source": [
    "### 4.2.3.4 Develop feature"
   ]
  },
  {
   "cell_type": "code",
   "execution_count": 29,
   "metadata": {},
   "outputs": [],
   "source": [
    "# create features\n",
    "df['Subtotal'] = df['Quantity']*df['ItemTotal']\n",
    "df['Subtotal_log'] = df['Subtotal'].map(lambda x: np.log(x))"
   ]
  },
  {
   "cell_type": "markdown",
   "metadata": {},
   "source": [
    "## 4.2.4 Model Data<a id='Model Data'></a>\n",
    "\n",
    "- 1.2.4.1 Check for data normality\n",
    "- 1.2.4.2 Standard deviation and other basic statistics\n",
    "- 1.2.4.3 Statistical test\n",
    "- 1.2.4.4 Verification techniques"
   ]
  },
  {
   "cell_type": "markdown",
   "metadata": {},
   "source": [
    "### 4.2.4.1 Check for data normality"
   ]
  },
  {
   "cell_type": "code",
   "execution_count": 30,
   "metadata": {},
   "outputs": [
    {
     "data": {
      "image/png": "[encoded data removed]",
      "text/plain": [
       "<Figure size 1440x1440 with 12 Axes>"
      ]
     },
     "metadata": {
      "needs_background": "light"
     },
     "output_type": "display_data"
    }
   ],
   "source": [
    "# visual/code for data normality\n",
    "df.hist(figsize=(20,20));"
   ]
  },
  {
   "cell_type": "markdown",
   "metadata": {},
   "source": [
    "### 4.2.4.2 Standard deviation and other basic statistics"
   ]
  },
  {
   "cell_type": "code",
   "execution_count": 31,
   "metadata": {},
   "outputs": [
    {
     "name": "stdout",
     "output_type": "stream",
     "text": [
      "ItemTotal Population Measures of Variance\n",
      "numbers of samples: 10129\n",
      "population mean: 5.822359794298912\n",
      "population standard deviation: 1.165811275166423\n",
      "population variance: 1.3591159293051611\n",
      "skew: 6.213384822439118\n",
      "Quantity Population Measures of Variance\n",
      "numbers of samples: 10129\n",
      "population mean: 2.874407680352321\n",
      "population standard deviation: 0.8598564746203211\n",
      "population variance: 0.739353156946487\n",
      "skew: 1.8072311526528513\n",
      "Subtotal Population Measures of Variance\n",
      "numbers of samples: 10129\n",
      "population mean: 8.69676747465123\n",
      "population standard deviation: 1.8958711634900833\n",
      "population variance: 3.5943274685532423\n",
      "skew: 6.585472882294777\n"
     ]
    }
   ],
   "source": [
    "# standard deviation for target variable\n",
    "print('ItemTotal Population Measures of Variance')\n",
    "print('numbers of samples: ' + str(len(df['ItemTotal_log'])))\n",
    "print('population mean: ' + str(mean(df['ItemTotal_log'])))\n",
    "print('population standard deviation: ' + str(std(df['ItemTotal_log'])))\n",
    "print('population variance: ' + str(std(df['ItemTotal_log'])**2))\n",
    "print('skew: ' + str(df['ItemTotal'].skew()))\n",
    "print('Quantity Population Measures of Variance')\n",
    "print('numbers of samples: ' + str(len(df['Quantity_log'])))\n",
    "print('population mean: ' + str(mean(df['Quantity_log'])))\n",
    "print('population standard deviation: ' + str(std(df['Quantity_log'])))\n",
    "print('population variance: ' + str(std(df['Quantity_log'])**2))\n",
    "print('skew: ' + str(df['Quantity'].skew()))\n",
    "print('Subtotal Population Measures of Variance')\n",
    "print('numbers of samples: ' + str(len(df['Subtotal_log'])))\n",
    "print('population mean: ' + str(mean(df['Subtotal_log'])))\n",
    "print('population standard deviation: ' + str(std(df['Subtotal_log'])))\n",
    "print('population variance: ' + str(std(df['Subtotal_log'])**2))\n",
    "print('skew: ' + str(df['Subtotal'].skew()))"
   ]
  },
  {
   "cell_type": "markdown",
   "metadata": {},
   "source": [
    "### 4.2.4.3 Statistical test"
   ]
  },
  {
   "cell_type": "code",
   "execution_count": 32,
   "metadata": {},
   "outputs": [],
   "source": [
    "# set up variables for this particular test\n",
    "alpha = 0.05\n",
    "territoryId = [df[df['TerritoryId'] == x] for x in df['TerritoryId'].unique()]\n",
    "len(territoryId)\n",
    "x_bar_pop = df.ItemTotal_log.mean()\n",
    "x_bar_sample = [x['ItemTotal_log'].mean() for x in territoryId]\n",
    "sigma_pop = df.ItemTotal_log.std()\n",
    "sigma_sample = [x['ItemTotal_log'].std() for x in territoryId]\n",
    "n_pop = len(df.ItemTotal_log)\n",
    "n_sample = [len(x['ItemTotal_log']) for x in territoryId]\n",
    "mu_pop = mu_sample = 100\n",
    "dof = [x-1 for x in n_sample]"
   ]
  },
  {
   "cell_type": "code",
   "execution_count": 33,
   "metadata": {},
   "outputs": [
    {
     "data": {
      "text/plain": [
       "0.0010204081632653062"
      ]
     },
     "execution_count": 33,
     "metadata": {},
     "output_type": "execute_result"
    }
   ],
   "source": [
    "# bonferroni correction\n",
    "alpha_adj = alpha/(len(n_sample))\n",
    "alpha_adj"
   ]
  },
  {
   "cell_type": "code",
   "execution_count": 34,
   "metadata": {},
   "outputs": [],
   "source": [
    "# test\n",
    "x_bar = np.array([x_bar_pop - i for i in x_bar_sample])\n",
    "sigma = np.array([i**2 for i in sigma_sample])\n",
    "sigma_per_sample = sigma / n_sample\n",
    "t = ((x_bar) - (mu_pop-mu_sample)) / np.sqrt((sigma_pop**2/n_pop) + (sigma_per_sample))\n",
    "dof_t = pd.DataFrame()\n",
    "dof_t['dof'] = dof\n",
    "dof_t['t'] = t"
   ]
  },
  {
   "cell_type": "code",
   "execution_count": 35,
   "metadata": {},
   "outputs": [
    {
     "data": {
      "text/plain": [
       "array([0.68476546, 0.68476546, 0.68476546, 0.68476546, 0.68476546,\n",
       "       0.68476546, 0.72187205, 0.71759218, 0.71759218, 0.00880333,\n",
       "       0.72187205, 0.72187205, 0.72187205, 0.72187205, 0.72187205,\n",
       "       0.72187205, 0.21202311, 0.00880333, 0.27060678, 0.27060678,\n",
       "       0.27060678, 0.71619506, 0.71619506, 0.71619506, 0.71619506,\n",
       "       0.68476546, 0.21202311, 0.21202311, 0.71759218, 0.71759218,\n",
       "       0.71759218, 0.21202311, 0.71759218, 0.71759218, 0.85751959,\n",
       "       0.85751959, 0.85751959, 0.85751959, 0.00686218, 0.00686218,\n",
       "       0.85751959, 0.85751959, 0.85751959, 0.85751959, 0.85751959,\n",
       "       0.85751959, 0.00686218, 0.00686218, 0.00686218])"
      ]
     },
     "execution_count": 35,
     "metadata": {},
     "output_type": "execute_result"
    }
   ],
   "source": [
    "# result\n",
    "p_value = 1-stats.t.cdf(dof_t['t'], dof_t['dof'])\n",
    "p_value"
   ]
  },
  {
   "cell_type": "code",
   "execution_count": 36,
   "metadata": {},
   "outputs": [
    {
     "name": "stdout",
     "output_type": "stream",
     "text": [
      "0: Fail to reject the null hypothesis\n",
      "1: Fail to reject the null hypothesis\n",
      "2: Fail to reject the null hypothesis\n",
      "3: Fail to reject the null hypothesis\n",
      "4: Fail to reject the null hypothesis\n",
      "5: Fail to reject the null hypothesis\n",
      "6: Fail to reject the null hypothesis\n",
      "7: Fail to reject the null hypothesis\n",
      "8: Fail to reject the null hypothesis\n",
      "9: Reject the null hypothesis\n",
      "10: Fail to reject the null hypothesis\n",
      "11: Fail to reject the null hypothesis\n",
      "12: Fail to reject the null hypothesis\n",
      "13: Fail to reject the null hypothesis\n",
      "14: Fail to reject the null hypothesis\n",
      "15: Fail to reject the null hypothesis\n",
      "16: Fail to reject the null hypothesis\n",
      "17: Reject the null hypothesis\n",
      "18: Fail to reject the null hypothesis\n",
      "19: Fail to reject the null hypothesis\n",
      "20: Fail to reject the null hypothesis\n",
      "21: Fail to reject the null hypothesis\n",
      "22: Fail to reject the null hypothesis\n",
      "23: Fail to reject the null hypothesis\n",
      "24: Fail to reject the null hypothesis\n",
      "25: Fail to reject the null hypothesis\n",
      "26: Fail to reject the null hypothesis\n",
      "27: Fail to reject the null hypothesis\n",
      "28: Fail to reject the null hypothesis\n",
      "29: Fail to reject the null hypothesis\n",
      "30: Fail to reject the null hypothesis\n",
      "31: Fail to reject the null hypothesis\n",
      "32: Fail to reject the null hypothesis\n",
      "33: Fail to reject the null hypothesis\n",
      "34: Fail to reject the null hypothesis\n",
      "35: Fail to reject the null hypothesis\n",
      "36: Fail to reject the null hypothesis\n",
      "37: Fail to reject the null hypothesis\n",
      "38: Reject the null hypothesis\n",
      "39: Reject the null hypothesis\n",
      "40: Fail to reject the null hypothesis\n",
      "41: Fail to reject the null hypothesis\n",
      "42: Fail to reject the null hypothesis\n",
      "43: Fail to reject the null hypothesis\n",
      "44: Fail to reject the null hypothesis\n",
      "45: Fail to reject the null hypothesis\n",
      "46: Reject the null hypothesis\n",
      "47: Reject the null hypothesis\n",
      "48: Reject the null hypothesis\n"
     ]
    }
   ],
   "source": [
    "# evaluation of result\n",
    "for x,y in enumerate(p_value):\n",
    "    if alpha > y:\n",
    "        print(str(x) + ': Reject the null hypothesis')\n",
    "    else:\n",
    "        print(str(x) + ': Fail to reject the null hypothesis')"
   ]
  },
  {
   "cell_type": "code",
   "execution_count": 37,
   "metadata": {},
   "outputs": [
    {
     "name": "stdout",
     "output_type": "stream",
     "text": [
      "0: Fail to reject the null hypothesis\n",
      "1: Fail to reject the null hypothesis\n",
      "2: Fail to reject the null hypothesis\n",
      "3: Fail to reject the null hypothesis\n",
      "4: Fail to reject the null hypothesis\n",
      "5: Fail to reject the null hypothesis\n",
      "6: Fail to reject the null hypothesis\n",
      "7: Fail to reject the null hypothesis\n",
      "8: Fail to reject the null hypothesis\n",
      "9: Fail to reject the null hypothesis\n",
      "10: Fail to reject the null hypothesis\n",
      "11: Fail to reject the null hypothesis\n",
      "12: Fail to reject the null hypothesis\n",
      "13: Fail to reject the null hypothesis\n",
      "14: Fail to reject the null hypothesis\n",
      "15: Fail to reject the null hypothesis\n",
      "16: Fail to reject the null hypothesis\n",
      "17: Fail to reject the null hypothesis\n",
      "18: Fail to reject the null hypothesis\n",
      "19: Fail to reject the null hypothesis\n",
      "20: Fail to reject the null hypothesis\n",
      "21: Fail to reject the null hypothesis\n",
      "22: Fail to reject the null hypothesis\n",
      "23: Fail to reject the null hypothesis\n",
      "24: Fail to reject the null hypothesis\n",
      "25: Fail to reject the null hypothesis\n",
      "26: Fail to reject the null hypothesis\n",
      "27: Fail to reject the null hypothesis\n",
      "28: Fail to reject the null hypothesis\n",
      "29: Fail to reject the null hypothesis\n",
      "30: Fail to reject the null hypothesis\n",
      "31: Fail to reject the null hypothesis\n",
      "32: Fail to reject the null hypothesis\n",
      "33: Fail to reject the null hypothesis\n",
      "34: Fail to reject the null hypothesis\n",
      "35: Fail to reject the null hypothesis\n",
      "36: Fail to reject the null hypothesis\n",
      "37: Fail to reject the null hypothesis\n",
      "38: Fail to reject the null hypothesis\n",
      "39: Fail to reject the null hypothesis\n",
      "40: Fail to reject the null hypothesis\n",
      "41: Fail to reject the null hypothesis\n",
      "42: Fail to reject the null hypothesis\n",
      "43: Fail to reject the null hypothesis\n",
      "44: Fail to reject the null hypothesis\n",
      "45: Fail to reject the null hypothesis\n",
      "46: Fail to reject the null hypothesis\n",
      "47: Fail to reject the null hypothesis\n",
      "48: Fail to reject the null hypothesis\n"
     ]
    }
   ],
   "source": [
    "# evaluation of result with bonferroni correction\n",
    "for x,y in enumerate(p_value):\n",
    "    if alpha_adj > y:\n",
    "        print(str(x) + ': Reject the null hypothesis')\n",
    "    else:\n",
    "        print(str(x) + ': Fail to reject the null hypothesis')"
   ]
  },
  {
   "cell_type": "code",
   "execution_count": 38,
   "metadata": {},
   "outputs": [],
   "source": [
    "# variables for quantity\n",
    "x_bar_pop = df.Quantity_log.mean()\n",
    "x_bar_sample = [x['Quantity_log'].mean() for x in territoryId]\n",
    "sigma_pop = df.Quantity.std()\n",
    "sigma_sample = [x['Quantity_log'].std() for x in territoryId]\n",
    "n_pop = len(df.Quantity_log)\n",
    "n_sample = [len(x['Quantity_log']) for x in territoryId]\n",
    "mu_pop = mu_sample = 100\n",
    "dof = [x-1 for x in n_sample]"
   ]
  },
  {
   "cell_type": "code",
   "execution_count": 39,
   "metadata": {},
   "outputs": [],
   "source": [
    "# tests for quantity\n",
    "x_bar = np.array([x_bar_pop - i for i in x_bar_sample])\n",
    "sigma = np.array([i**2 for i in sigma_sample])\n",
    "sigma_per_sample = sigma / n_sample\n",
    "t = ((x_bar) - (mu_pop-mu_sample)) / np.sqrt((sigma_pop**2/n_pop) + (sigma_per_sample))\n",
    "dof_t = pd.DataFrame()\n",
    "dof_t['dof'] = dof\n",
    "dof_t['t'] = t"
   ]
  },
  {
   "cell_type": "code",
   "execution_count": 40,
   "metadata": {},
   "outputs": [
    {
     "data": {
      "text/plain": [
       "array([0.50937827, 0.50937827, 0.50937827, 0.50937827, 0.50937827,\n",
       "       0.50937827, 0.70337145, 0.58190094, 0.58190094, 0.20566217,\n",
       "       0.70337145, 0.70337145, 0.70337145, 0.70337145, 0.70337145,\n",
       "       0.70337145, 0.44933783, 0.20566217, 0.41575908, 0.41575908,\n",
       "       0.41575908, 0.54956974, 0.54956974, 0.54956974, 0.54956974,\n",
       "       0.50937827, 0.44933783, 0.44933783, 0.58190094, 0.58190094,\n",
       "       0.58190094, 0.44933783, 0.58190094, 0.58190094, 0.6481039 ,\n",
       "       0.6481039 , 0.6481039 , 0.6481039 , 0.26786468, 0.26786468,\n",
       "       0.6481039 , 0.6481039 , 0.6481039 , 0.6481039 , 0.6481039 ,\n",
       "       0.6481039 , 0.26786468, 0.26786468, 0.26786468])"
      ]
     },
     "execution_count": 40,
     "metadata": {},
     "output_type": "execute_result"
    }
   ],
   "source": [
    "# results for quantity\n",
    "p_value = 1-stats.t.cdf(dof_t['t'], dof_t['dof'])\n",
    "p_value"
   ]
  },
  {
   "cell_type": "code",
   "execution_count": 41,
   "metadata": {},
   "outputs": [
    {
     "name": "stdout",
     "output_type": "stream",
     "text": [
      "0: Fail to reject the null hypothesis\n",
      "1: Fail to reject the null hypothesis\n",
      "2: Fail to reject the null hypothesis\n",
      "3: Fail to reject the null hypothesis\n",
      "4: Fail to reject the null hypothesis\n",
      "5: Fail to reject the null hypothesis\n",
      "6: Fail to reject the null hypothesis\n",
      "7: Fail to reject the null hypothesis\n",
      "8: Fail to reject the null hypothesis\n",
      "9: Fail to reject the null hypothesis\n",
      "10: Fail to reject the null hypothesis\n",
      "11: Fail to reject the null hypothesis\n",
      "12: Fail to reject the null hypothesis\n",
      "13: Fail to reject the null hypothesis\n",
      "14: Fail to reject the null hypothesis\n",
      "15: Fail to reject the null hypothesis\n",
      "16: Fail to reject the null hypothesis\n",
      "17: Fail to reject the null hypothesis\n",
      "18: Fail to reject the null hypothesis\n",
      "19: Fail to reject the null hypothesis\n",
      "20: Fail to reject the null hypothesis\n",
      "21: Fail to reject the null hypothesis\n",
      "22: Fail to reject the null hypothesis\n",
      "23: Fail to reject the null hypothesis\n",
      "24: Fail to reject the null hypothesis\n",
      "25: Fail to reject the null hypothesis\n",
      "26: Fail to reject the null hypothesis\n",
      "27: Fail to reject the null hypothesis\n",
      "28: Fail to reject the null hypothesis\n",
      "29: Fail to reject the null hypothesis\n",
      "30: Fail to reject the null hypothesis\n",
      "31: Fail to reject the null hypothesis\n",
      "32: Fail to reject the null hypothesis\n",
      "33: Fail to reject the null hypothesis\n",
      "34: Fail to reject the null hypothesis\n",
      "35: Fail to reject the null hypothesis\n",
      "36: Fail to reject the null hypothesis\n",
      "37: Fail to reject the null hypothesis\n",
      "38: Fail to reject the null hypothesis\n",
      "39: Fail to reject the null hypothesis\n",
      "40: Fail to reject the null hypothesis\n",
      "41: Fail to reject the null hypothesis\n",
      "42: Fail to reject the null hypothesis\n",
      "43: Fail to reject the null hypothesis\n",
      "44: Fail to reject the null hypothesis\n",
      "45: Fail to reject the null hypothesis\n",
      "46: Fail to reject the null hypothesis\n",
      "47: Fail to reject the null hypothesis\n",
      "48: Fail to reject the null hypothesis\n"
     ]
    }
   ],
   "source": [
    "# evaluation of result for quantity\n",
    "for x,y in enumerate(p_value):\n",
    "    if alpha > y:\n",
    "        print(str(x) + ': Reject the null hypothesis')\n",
    "    else:\n",
    "        print(str(x) + ': Fail to reject the null hypothesis')"
   ]
  },
  {
   "cell_type": "code",
   "execution_count": 42,
   "metadata": {},
   "outputs": [
    {
     "name": "stdout",
     "output_type": "stream",
     "text": [
      "0: Fail to reject the null hypothesis\n",
      "1: Fail to reject the null hypothesis\n",
      "2: Fail to reject the null hypothesis\n",
      "3: Fail to reject the null hypothesis\n",
      "4: Fail to reject the null hypothesis\n",
      "5: Fail to reject the null hypothesis\n",
      "6: Fail to reject the null hypothesis\n",
      "7: Fail to reject the null hypothesis\n",
      "8: Fail to reject the null hypothesis\n",
      "9: Fail to reject the null hypothesis\n",
      "10: Fail to reject the null hypothesis\n",
      "11: Fail to reject the null hypothesis\n",
      "12: Fail to reject the null hypothesis\n",
      "13: Fail to reject the null hypothesis\n",
      "14: Fail to reject the null hypothesis\n",
      "15: Fail to reject the null hypothesis\n",
      "16: Fail to reject the null hypothesis\n",
      "17: Fail to reject the null hypothesis\n",
      "18: Fail to reject the null hypothesis\n",
      "19: Fail to reject the null hypothesis\n",
      "20: Fail to reject the null hypothesis\n",
      "21: Fail to reject the null hypothesis\n",
      "22: Fail to reject the null hypothesis\n",
      "23: Fail to reject the null hypothesis\n",
      "24: Fail to reject the null hypothesis\n",
      "25: Fail to reject the null hypothesis\n",
      "26: Fail to reject the null hypothesis\n",
      "27: Fail to reject the null hypothesis\n",
      "28: Fail to reject the null hypothesis\n",
      "29: Fail to reject the null hypothesis\n",
      "30: Fail to reject the null hypothesis\n",
      "31: Fail to reject the null hypothesis\n",
      "32: Fail to reject the null hypothesis\n",
      "33: Fail to reject the null hypothesis\n",
      "34: Fail to reject the null hypothesis\n",
      "35: Fail to reject the null hypothesis\n",
      "36: Fail to reject the null hypothesis\n",
      "37: Fail to reject the null hypothesis\n",
      "38: Fail to reject the null hypothesis\n",
      "39: Fail to reject the null hypothesis\n",
      "40: Fail to reject the null hypothesis\n",
      "41: Fail to reject the null hypothesis\n",
      "42: Fail to reject the null hypothesis\n",
      "43: Fail to reject the null hypothesis\n",
      "44: Fail to reject the null hypothesis\n",
      "45: Fail to reject the null hypothesis\n",
      "46: Fail to reject the null hypothesis\n",
      "47: Fail to reject the null hypothesis\n",
      "48: Fail to reject the null hypothesis\n"
     ]
    }
   ],
   "source": [
    "# evaluation of result for quantity with bonferroni correction\n",
    "for x,y in enumerate(p_value):\n",
    "    if alpha_adj > y:\n",
    "        print(str(x) + ': Reject the null hypothesis')\n",
    "    else:\n",
    "        print(str(x) + ': Fail to reject the null hypothesis')"
   ]
  },
  {
   "cell_type": "markdown",
   "metadata": {},
   "source": [
    "Summarize results and determine next steps. Might include verification of sample size, error types, non-parametric testing, or a deepening of understanding\n",
    "\n",
    "### 4.2.4.4 Verification techniques\n",
    "#### 4.2.4.4.1 Nonparametric testing and confirmatory testing<a id='Nonparametric testing'></a>\n",
    "##### Nonparametric testing"
   ]
  },
  {
   "cell_type": "code",
   "execution_count": 43,
   "metadata": {},
   "outputs": [],
   "source": [
    "# non-parametric testing variables\n",
    "pass"
   ]
  },
  {
   "cell_type": "code",
   "execution_count": 44,
   "metadata": {},
   "outputs": [],
   "source": [
    "# non-parametric test\n",
    "pass"
   ]
  },
  {
   "cell_type": "code",
   "execution_count": 45,
   "metadata": {},
   "outputs": [],
   "source": [
    "# result\n",
    "pass"
   ]
  },
  {
   "cell_type": "code",
   "execution_count": 46,
   "metadata": {},
   "outputs": [],
   "source": [
    "# evaluation of results\n",
    "pass"
   ]
  },
  {
   "cell_type": "markdown",
   "metadata": {},
   "source": [
    "Oberservations based on new finding"
   ]
  },
  {
   "cell_type": "markdown",
   "metadata": {},
   "source": [
    "##### Confirmatory testing"
   ]
  },
  {
   "cell_type": "code",
   "execution_count": 47,
   "metadata": {},
   "outputs": [],
   "source": [
    "# confirmatory test \n",
    "pass"
   ]
  },
  {
   "cell_type": "markdown",
   "metadata": {},
   "source": [
    "Oberservations based on new finding\n",
    "\n",
    "#### 4.2.4.4.2 Effect size<a id='Effect size'></a>\n",
    "Cohen's D"
   ]
  },
  {
   "cell_type": "code",
   "execution_count": 48,
   "metadata": {},
   "outputs": [],
   "source": [
    "# effect size variables\n",
    "pass"
   ]
  },
  {
   "cell_type": "code",
   "execution_count": 49,
   "metadata": {},
   "outputs": [],
   "source": [
    "# effect size test\n",
    "def cohen_d_one_samp(x, mu0):\n",
    "    mu = mean(x)\n",
    "    sample_std = std(x, ddof=1)\n",
    "    return (mu - mu0) / sample_std\n",
    "def cohen_d_two_samp(x,y):\n",
    "    nx = len(x)\n",
    "    ny = len(y)\n",
    "    dof = nx + ny - 2\n",
    "    return (mean(x) - mean(y)) / sqrt(((nx-1)*std(x, ddof=1) ** 2 + (ny-1)*std(y, ddof=1) ** 2) / dof)\n",
    "# effect_size = cohen_d_two_samp('', '')\n",
    "# effect_size"
   ]
  },
  {
   "cell_type": "markdown",
   "metadata": {},
   "source": [
    "Obeservations about effect size\n",
    "\n",
    "#### 4.2.4.4.3 Error<a id='Error'></a>"
   ]
  },
  {
   "cell_type": "code",
   "execution_count": 50,
   "metadata": {},
   "outputs": [],
   "source": [
    "# power variables\n",
    "pass"
   ]
  },
  {
   "cell_type": "code",
   "execution_count": 51,
   "metadata": {},
   "outputs": [],
   "source": [
    "# power test"
   ]
  },
  {
   "cell_type": "code",
   "execution_count": 52,
   "metadata": {},
   "outputs": [],
   "source": [
    "# evaluation of power test"
   ]
  },
  {
   "cell_type": "markdown",
   "metadata": {},
   "source": [
    "Observations about power test"
   ]
  },
  {
   "cell_type": "markdown",
   "metadata": {},
   "source": [
    "### Cross validatation"
   ]
  },
  {
   "cell_type": "code",
   "execution_count": 53,
   "metadata": {},
   "outputs": [],
   "source": [
    "# test train split or resampling for testing preformed above\n",
    "pass"
   ]
  },
  {
   "cell_type": "markdown",
   "metadata": {},
   "source": [
    "## 4.2.5 Interpret Model<a id='Interpret Model'></a>"
   ]
  },
  {
   "cell_type": "markdown",
   "metadata": {},
   "source": [
    "### 4.2.5.1 Extension of acquired knowledge<a id='Extension'></a>\n",
    "#### Deeper question\n",
    "Even if regions are not out performing each other, are employees outperforming each other?\n",
    "#### Hypothesis for deeper question"
   ]
  },
  {
   "cell_type": "code",
   "execution_count": 54,
   "metadata": {},
   "outputs": [],
   "source": [
    "# deeper understanding variables\n",
    "alpha = 0.05"
   ]
  },
  {
   "cell_type": "code",
   "execution_count": 55,
   "metadata": {},
   "outputs": [],
   "source": [
    "# deeper understanding test for ItemTotal\n",
    "item_total_anova = sm.stats.anova_lm(ols('ItemTotal_log ~ LastName', data=df).fit())"
   ]
  },
  {
   "cell_type": "code",
   "execution_count": 56,
   "metadata": {},
   "outputs": [
    {
     "data": {
      "text/plain": [
       "9.310479291626011e-11"
      ]
     },
     "execution_count": 56,
     "metadata": {},
     "output_type": "execute_result"
    }
   ],
   "source": [
    "# deeper understanding result for ItemTotal\n",
    "pvalue = item_total_anova.loc['LastName', 'PR(>F)']\n",
    "pvalue"
   ]
  },
  {
   "cell_type": "code",
   "execution_count": 57,
   "metadata": {},
   "outputs": [
    {
     "name": "stdout",
     "output_type": "stream",
     "text": [
      "Reject the null hypothesis\n"
     ]
    }
   ],
   "source": [
    "# deeper understanding evaluation of result\n",
    "if alpha > pvalue:\n",
    "    print('Reject the null hypothesis')\n",
    "else:\n",
    "    print('Fail to reject the null hypothesis')"
   ]
  },
  {
   "cell_type": "code",
   "execution_count": 58,
   "metadata": {},
   "outputs": [],
   "source": [
    "# deeper understanding test for Quantity\n",
    "quantity_anova = sm.stats.anova_lm(ols('Quantity_log ~ LastName', data=df).fit())"
   ]
  },
  {
   "cell_type": "code",
   "execution_count": 59,
   "metadata": {},
   "outputs": [
    {
     "data": {
      "text/plain": [
       "1.0608570556235375e-13"
      ]
     },
     "execution_count": 59,
     "metadata": {},
     "output_type": "execute_result"
    }
   ],
   "source": [
    "# deeper understanding result for Quantity\n",
    "pvalue = quantity_anova.loc['LastName', 'PR(>F)']\n",
    "pvalue"
   ]
  },
  {
   "cell_type": "code",
   "execution_count": 60,
   "metadata": {},
   "outputs": [
    {
     "name": "stdout",
     "output_type": "stream",
     "text": [
      "Reject the null hypothesis\n"
     ]
    }
   ],
   "source": [
    "# deeper understanding evaluation of result\n",
    "if alpha > pvalue:\n",
    "    print('Reject the null hypothesis')\n",
    "else:\n",
    "    print('Fail to reject the null hypothesis')"
   ]
  },
  {
   "cell_type": "code",
   "execution_count": 61,
   "metadata": {},
   "outputs": [],
   "source": [
    "subtotal_anova = sm.stats.anova_lm(ols('Subtotal_log ~ LastName', data=df).fit())"
   ]
  },
  {
   "cell_type": "code",
   "execution_count": 62,
   "metadata": {},
   "outputs": [
    {
     "data": {
      "text/plain": [
       "1.9255329119313361e-13"
      ]
     },
     "execution_count": 62,
     "metadata": {},
     "output_type": "execute_result"
    }
   ],
   "source": [
    "pvalue = subtotal_anova.loc['LastName', 'PR(>F)']\n",
    "pvalue"
   ]
  },
  {
   "cell_type": "code",
   "execution_count": 63,
   "metadata": {},
   "outputs": [
    {
     "name": "stdout",
     "output_type": "stream",
     "text": [
      "Reject the null hypothesis\n"
     ]
    }
   ],
   "source": [
    "# deeper understanding evaluation of result\n",
    "if alpha > pvalue:\n",
    "    print('Reject the null hypothesis')\n",
    "else:\n",
    "    print('Fail to reject the null hypothesis')"
   ]
  },
  {
   "cell_type": "code",
   "execution_count": 64,
   "metadata": {},
   "outputs": [],
   "source": [
    "# nonparametric variable set up for deeper understanding ItemTotal\n",
    "unique_names = df['LastName'].unique()\n",
    "by_unique_names = [df[df['LastName']==i] for i in unique_names]"
   ]
  },
  {
   "cell_type": "code",
   "execution_count": 65,
   "metadata": {},
   "outputs": [
    {
     "data": {
      "text/plain": [
       "(49.67416893138429, 4.720282796577946e-08)"
      ]
     },
     "execution_count": 65,
     "metadata": {},
     "output_type": "execute_result"
    }
   ],
   "source": [
    "# nonparametric testing for deeper understanding ItemTotal\n",
    "kruskal_stat, pvalue = stats.kruskal(by_unique_names[0]['ItemTotal_log'], by_unique_names[1]['ItemTotal_log'], by_unique_names[2]['ItemTotal_log'],\n",
    "                                     by_unique_names[3]['ItemTotal_log'], by_unique_names[4]['ItemTotal_log'], by_unique_names[5]['ItemTotal_log'], \n",
    "                                     by_unique_names[6]['ItemTotal_log'], by_unique_names[7]['ItemTotal_log'], by_unique_names[8]['ItemTotal_log'])\n",
    "kruskal_stat, pvalue"
   ]
  },
  {
   "cell_type": "code",
   "execution_count": 66,
   "metadata": {},
   "outputs": [
    {
     "name": "stdout",
     "output_type": "stream",
     "text": [
      "Reject the null hypothesis\n"
     ]
    }
   ],
   "source": [
    "if alpha > pvalue:\n",
    "    print('Reject the null hypothesis')\n",
    "else:\n",
    "    print('Fail to reject the null hypothesis')"
   ]
  },
  {
   "cell_type": "code",
   "execution_count": 67,
   "metadata": {},
   "outputs": [
    {
     "data": {
      "text/plain": [
       "(67.55255875280854, 1.5064090592328184e-11)"
      ]
     },
     "execution_count": 67,
     "metadata": {},
     "output_type": "execute_result"
    }
   ],
   "source": [
    "# nonparametric testing for deeper understanding Quantity\n",
    "kruskal_stat, pvalue = stats.kruskal(by_unique_names[0]['Quantity_log'], by_unique_names[1]['Quantity_log'], by_unique_names[2]['Quantity_log'],\n",
    "                                     by_unique_names[3]['Quantity_log'], by_unique_names[4]['Quantity_log'], by_unique_names[5]['Quantity_log'], \n",
    "                                     by_unique_names[6]['Quantity_log'], by_unique_names[7]['Quantity_log'], by_unique_names[8]['Quantity_log'])\n",
    "kruskal_stat, pvalue"
   ]
  },
  {
   "cell_type": "code",
   "execution_count": 68,
   "metadata": {},
   "outputs": [
    {
     "name": "stdout",
     "output_type": "stream",
     "text": [
      "Reject the null hypothesis\n"
     ]
    }
   ],
   "source": [
    "if alpha > pvalue:\n",
    "    print('Reject the null hypothesis')\n",
    "else:\n",
    "    print('Fail to reject the null hypothesis')"
   ]
  },
  {
   "cell_type": "code",
   "execution_count": 69,
   "metadata": {},
   "outputs": [
    {
     "data": {
      "text/plain": [
       "(59.287341094477235, 6.429895411921454e-10)"
      ]
     },
     "execution_count": 69,
     "metadata": {},
     "output_type": "execute_result"
    }
   ],
   "source": [
    "kruskal_stat, pvalue = stats.kruskal(by_unique_names[0]['Subtotal_log'], by_unique_names[1]['Subtotal_log'], by_unique_names[2]['Subtotal_log'],\n",
    "                                     by_unique_names[3]['Subtotal_log'], by_unique_names[4]['Subtotal_log'], by_unique_names[5]['Subtotal_log'], \n",
    "                                     by_unique_names[6]['Subtotal_log'], by_unique_names[7]['Subtotal_log'], by_unique_names[8]['Subtotal_log'])\n",
    "kruskal_stat, pvalue"
   ]
  },
  {
   "cell_type": "code",
   "execution_count": 70,
   "metadata": {},
   "outputs": [
    {
     "name": "stdout",
     "output_type": "stream",
     "text": [
      "Reject the null hypothesis\n"
     ]
    }
   ],
   "source": [
    "if alpha > pvalue:\n",
    "    print('Reject the null hypothesis')\n",
    "else:\n",
    "    print('Fail to reject the null hypothesis')"
   ]
  },
  {
   "cell_type": "code",
   "execution_count": 71,
   "metadata": {},
   "outputs": [
    {
     "data": {
      "text/html": [
       "<table class=\"simpletable\">\n",
       "<caption>Multiple Comparison of Means - Tukey HSD, FWER=0.05</caption>\n",
       "<tr>\n",
       "   <th>group1</th>    <th>group2</th>   <th>meandiff</th>  <th>p-adj</th>  <th>lower</th>   <th>upper</th>  <th>reject</th>\n",
       "</tr>\n",
       "<tr>\n",
       "  <td>Buchanan</td>  <td>Callahan</td>   <td>-0.1117</td> <td>0.5029</td> <td>-0.2802</td> <td>0.0568</td>   <td>False</td>\n",
       "</tr>\n",
       "<tr>\n",
       "  <td>Buchanan</td>   <td>Davolio</td>   <td>-0.2224</td> <td>0.0067</td> <td>-0.4088</td> <td>-0.036</td>   <td>True</td> \n",
       "</tr>\n",
       "<tr>\n",
       "  <td>Buchanan</td>  <td>Dodsworth</td>  <td>0.0101</td>    <td>0.9</td>  <td>-0.1722</td> <td>0.1925</td>   <td>False</td>\n",
       "</tr>\n",
       "<tr>\n",
       "  <td>Buchanan</td>   <td>Fuller</td>    <td>-0.0197</td>   <td>0.9</td>  <td>-0.1733</td> <td>0.1339</td>   <td>False</td>\n",
       "</tr>\n",
       "<tr>\n",
       "  <td>Buchanan</td>    <td>King</td>     <td>0.0389</td>    <td>0.9</td>  <td>-0.1137</td> <td>0.1914</td>   <td>False</td>\n",
       "</tr>\n",
       "<tr>\n",
       "  <td>Buchanan</td>  <td>Leverling</td>  <td>-0.022</td>    <td>0.9</td>  <td>-0.1833</td> <td>0.1393</td>   <td>False</td>\n",
       "</tr>\n",
       "<tr>\n",
       "  <td>Buchanan</td>   <td>Peacock</td>   <td>-0.094</td>  <td>0.6577</td> <td>-0.2559</td> <td>0.0679</td>   <td>False</td>\n",
       "</tr>\n",
       "<tr>\n",
       "  <td>Buchanan</td>   <td>Suyama</td>    <td>-0.265</td>   <td>0.001</td> <td>-0.4422</td> <td>-0.0879</td>  <td>True</td> \n",
       "</tr>\n",
       "<tr>\n",
       "  <td>Callahan</td>   <td>Davolio</td>   <td>-0.1107</td> <td>0.5741</td> <td>-0.2878</td> <td>0.0664</td>   <td>False</td>\n",
       "</tr>\n",
       "<tr>\n",
       "  <td>Callahan</td>  <td>Dodsworth</td>  <td>0.1218</td>  <td>0.4175</td> <td>-0.051</td>  <td>0.2947</td>   <td>False</td>\n",
       "</tr>\n",
       "<tr>\n",
       "  <td>Callahan</td>   <td>Fuller</td>     <td>0.092</td>  <td>0.5327</td> <td>-0.0502</td> <td>0.2342</td>   <td>False</td>\n",
       "</tr>\n",
       "<tr>\n",
       "  <td>Callahan</td>    <td>King</td>     <td>0.1506</td>  <td>0.0261</td> <td>0.0095</td>  <td>0.2916</td>   <td>True</td> \n",
       "</tr>\n",
       "<tr>\n",
       "  <td>Callahan</td>  <td>Leverling</td>  <td>0.0897</td>  <td>0.6281</td> <td>-0.0608</td> <td>0.2402</td>   <td>False</td>\n",
       "</tr>\n",
       "<tr>\n",
       "  <td>Callahan</td>   <td>Peacock</td>   <td>0.0177</td>    <td>0.9</td>  <td>-0.1334</td> <td>0.1688</td>   <td>False</td>\n",
       "</tr>\n",
       "<tr>\n",
       "  <td>Callahan</td>   <td>Suyama</td>    <td>-0.1533</td> <td>0.1033</td> <td>-0.3207</td>  <td>0.014</td>   <td>False</td>\n",
       "</tr>\n",
       "<tr>\n",
       "   <td>Davolio</td>  <td>Dodsworth</td>  <td>0.2325</td>  <td>0.0048</td> <td>0.0422</td>  <td>0.4229</td>   <td>True</td> \n",
       "</tr>\n",
       "<tr>\n",
       "   <td>Davolio</td>   <td>Fuller</td>    <td>0.2027</td>  <td>0.0037</td> <td>0.0397</td>  <td>0.3657</td>   <td>True</td> \n",
       "</tr>\n",
       "<tr>\n",
       "   <td>Davolio</td>    <td>King</td>     <td>0.2613</td>   <td>0.001</td> <td>0.0992</td>  <td>0.4233</td>   <td>True</td> \n",
       "</tr>\n",
       "<tr>\n",
       "   <td>Davolio</td>  <td>Leverling</td>  <td>0.2004</td>   <td>0.008</td> <td>0.0302</td>  <td>0.3707</td>   <td>True</td> \n",
       "</tr>\n",
       "<tr>\n",
       "   <td>Davolio</td>   <td>Peacock</td>   <td>0.1284</td>  <td>0.3228</td> <td>-0.0424</td> <td>0.2992</td>   <td>False</td>\n",
       "</tr>\n",
       "<tr>\n",
       "   <td>Davolio</td>   <td>Suyama</td>    <td>-0.0426</td>   <td>0.9</td>  <td>-0.228</td>  <td>0.1427</td>   <td>False</td>\n",
       "</tr>\n",
       "<tr>\n",
       "  <td>Dodsworth</td>  <td>Fuller</td>    <td>-0.0298</td>   <td>0.9</td>  <td>-0.1882</td> <td>0.1286</td>   <td>False</td>\n",
       "</tr>\n",
       "<tr>\n",
       "  <td>Dodsworth</td>   <td>King</td>     <td>0.0287</td>    <td>0.9</td>  <td>-0.1286</td> <td>0.1861</td>   <td>False</td>\n",
       "</tr>\n",
       "<tr>\n",
       "  <td>Dodsworth</td> <td>Leverling</td>  <td>-0.0321</td>   <td>0.9</td>  <td>-0.1979</td> <td>0.1338</td>   <td>False</td>\n",
       "</tr>\n",
       "<tr>\n",
       "  <td>Dodsworth</td>  <td>Peacock</td>   <td>-0.1041</td> <td>0.5728</td> <td>-0.2706</td> <td>0.0623</td>   <td>False</td>\n",
       "</tr>\n",
       "<tr>\n",
       "  <td>Dodsworth</td>  <td>Suyama</td>    <td>-0.2752</td>  <td>0.001</td> <td>-0.4564</td> <td>-0.0939</td>  <td>True</td> \n",
       "</tr>\n",
       "<tr>\n",
       "   <td>Fuller</td>     <td>King</td>     <td>0.0586</td>  <td>0.8537</td> <td>-0.0643</td> <td>0.1815</td>   <td>False</td>\n",
       "</tr>\n",
       "<tr>\n",
       "   <td>Fuller</td>   <td>Leverling</td>  <td>-0.0023</td>   <td>0.9</td>  <td>-0.1359</td> <td>0.1313</td>   <td>False</td>\n",
       "</tr>\n",
       "<tr>\n",
       "   <td>Fuller</td>    <td>Peacock</td>   <td>-0.0743</td> <td>0.7091</td> <td>-0.2086</td>  <td>0.06</td>    <td>False</td>\n",
       "</tr>\n",
       "<tr>\n",
       "   <td>Fuller</td>    <td>Suyama</td>    <td>-0.2453</td>  <td>0.001</td> <td>-0.3977</td> <td>-0.093</td>   <td>True</td> \n",
       "</tr>\n",
       "<tr>\n",
       "    <td>King</td>    <td>Leverling</td>  <td>-0.0608</td> <td>0.8856</td> <td>-0.1932</td> <td>0.0716</td>   <td>False</td>\n",
       "</tr>\n",
       "<tr>\n",
       "    <td>King</td>     <td>Peacock</td>   <td>-0.1329</td> <td>0.0509</td> <td>-0.266</td>  <td>0.0002</td>   <td>False</td>\n",
       "</tr>\n",
       "<tr>\n",
       "    <td>King</td>     <td>Suyama</td>    <td>-0.3039</td>  <td>0.001</td> <td>-0.4552</td> <td>-0.1526</td>  <td>True</td> \n",
       "</tr>\n",
       "<tr>\n",
       "  <td>Leverling</td>  <td>Peacock</td>   <td>-0.072</td>  <td>0.8026</td> <td>-0.2151</td>  <td>0.071</td>   <td>False</td>\n",
       "</tr>\n",
       "<tr>\n",
       "  <td>Leverling</td>  <td>Suyama</td>    <td>-0.2431</td>  <td>0.001</td> <td>-0.4031</td> <td>-0.083</td>   <td>True</td> \n",
       "</tr>\n",
       "<tr>\n",
       "   <td>Peacock</td>   <td>Suyama</td>    <td>-0.171</td>  <td>0.0269</td> <td>-0.3317</td> <td>-0.0104</td>  <td>True</td> \n",
       "</tr>\n",
       "</table>"
      ],
      "text/plain": [
       "<class 'statsmodels.iolib.table.SimpleTable'>"
      ]
     },
     "execution_count": 71,
     "metadata": {},
     "output_type": "execute_result"
    }
   ],
   "source": [
    "from statsmodels.stats.multicomp import pairwise_tukeyhsd\n",
    "tukey_results = pairwise_tukeyhsd(df['ItemTotal_log'], df['LastName'])\n",
    "tukey_results.summary()"
   ]
  },
  {
   "cell_type": "code",
   "execution_count": 72,
   "metadata": {},
   "outputs": [
    {
     "name": "stderr",
     "output_type": "stream",
     "text": [
      "C:\\Users\\eannefawcett\\Anaconda3\\envs\\learn-env\\lib\\site-packages\\ipykernel_launcher.py:8: UserWarning: Matplotlib is currently using module://ipykernel.pylab.backend_inline, which is a non-GUI backend, so cannot show the figure.\n",
      "  \n"
     ]
    },
    {
     "data": {
      "image/png": "[encoded data removed]",
      "text/plain": [
       "<Figure size 720x432 with 1 Axes>"
      ]
     },
     "metadata": {
      "needs_background": "light"
     },
     "output_type": "display_data"
    }
   ],
   "source": [
    "# create figure\n",
    "fig07 = plt.figure(figsize=(5,4))\n",
    "ax = fig07.add_subplot(111)\n",
    "\n",
    "# run tukeys\n",
    "from statsmodels.stats.multicomp import pairwise_tukeyhsd\n",
    "tukey_results = pairwise_tukeyhsd(df['ItemTotal'], df['LastName'])\n",
    "tukey_plot = tukey_results.plot_simultaneous(ax=ax).show() \n",
    "\n",
    "# format plot\n",
    "ax.axes.set_title('Multiple Comparisions Between Employees')\n",
    "ax.axes.set_ylabel('Employee')\n",
    "ax.axes.set_xlabel('Item Total');"
   ]
  },
  {
   "cell_type": "code",
   "execution_count": 73,
   "metadata": {},
   "outputs": [
    {
     "data": {
      "text/html": [
       "<table class=\"simpletable\">\n",
       "<caption>Multiple Comparison of Means - Tukey HSD, FWER=0.05</caption>\n",
       "<tr>\n",
       "   <th>group1</th>    <th>group2</th>   <th>meandiff</th>  <th>p-adj</th>  <th>lower</th>   <th>upper</th>  <th>reject</th>\n",
       "</tr>\n",
       "<tr>\n",
       "  <td>Buchanan</td>  <td>Callahan</td>   <td>-0.1352</td>  <td>0.021</td> <td>-0.2594</td> <td>-0.011</td>   <td>True</td> \n",
       "</tr>\n",
       "<tr>\n",
       "  <td>Buchanan</td>   <td>Davolio</td>   <td>-0.2747</td>  <td>0.001</td> <td>-0.4121</td> <td>-0.1373</td>  <td>True</td> \n",
       "</tr>\n",
       "<tr>\n",
       "  <td>Buchanan</td>  <td>Dodsworth</td>  <td>-0.0662</td> <td>0.8238</td> <td>-0.2006</td> <td>0.0682</td>   <td>False</td>\n",
       "</tr>\n",
       "<tr>\n",
       "  <td>Buchanan</td>   <td>Fuller</td>    <td>-0.1051</td> <td>0.0933</td> <td>-0.2183</td> <td>0.0081</td>   <td>False</td>\n",
       "</tr>\n",
       "<tr>\n",
       "  <td>Buchanan</td>    <td>King</td>     <td>-0.0323</td>   <td>0.9</td>  <td>-0.1447</td> <td>0.0802</td>   <td>False</td>\n",
       "</tr>\n",
       "<tr>\n",
       "  <td>Buchanan</td>  <td>Leverling</td>  <td>-0.0851</td>  <td>0.394</td> <td>-0.204</td>  <td>0.0338</td>   <td>False</td>\n",
       "</tr>\n",
       "<tr>\n",
       "  <td>Buchanan</td>   <td>Peacock</td>   <td>-0.1519</td> <td>0.0026</td> <td>-0.2712</td> <td>-0.0326</td>  <td>True</td> \n",
       "</tr>\n",
       "<tr>\n",
       "  <td>Buchanan</td>   <td>Suyama</td>    <td>-0.2359</td>  <td>0.001</td> <td>-0.3665</td> <td>-0.1054</td>  <td>True</td> \n",
       "</tr>\n",
       "<tr>\n",
       "  <td>Callahan</td>   <td>Davolio</td>   <td>-0.1395</td> <td>0.0257</td> <td>-0.2701</td> <td>-0.009</td>   <td>True</td> \n",
       "</tr>\n",
       "<tr>\n",
       "  <td>Callahan</td>  <td>Dodsworth</td>   <td>0.069</td>  <td>0.7308</td> <td>-0.0584</td> <td>0.1964</td>   <td>False</td>\n",
       "</tr>\n",
       "<tr>\n",
       "  <td>Callahan</td>   <td>Fuller</td>    <td>0.0301</td>    <td>0.9</td>  <td>-0.0747</td> <td>0.1349</td>   <td>False</td>\n",
       "</tr>\n",
       "<tr>\n",
       "  <td>Callahan</td>    <td>King</td>     <td>0.1029</td>  <td>0.0551</td> <td>-0.0011</td> <td>0.2069</td>   <td>False</td>\n",
       "</tr>\n",
       "<tr>\n",
       "  <td>Callahan</td>  <td>Leverling</td>  <td>0.0501</td>    <td>0.9</td>  <td>-0.0608</td>  <td>0.161</td>   <td>False</td>\n",
       "</tr>\n",
       "<tr>\n",
       "  <td>Callahan</td>   <td>Peacock</td>   <td>-0.0167</td>   <td>0.9</td>  <td>-0.1281</td> <td>0.0947</td>   <td>False</td>\n",
       "</tr>\n",
       "<tr>\n",
       "  <td>Callahan</td>   <td>Suyama</td>    <td>-0.1007</td> <td>0.2157</td> <td>-0.2241</td> <td>0.0226</td>   <td>False</td>\n",
       "</tr>\n",
       "<tr>\n",
       "   <td>Davolio</td>  <td>Dodsworth</td>  <td>0.2085</td>   <td>0.001</td> <td>0.0683</td>  <td>0.3488</td>   <td>True</td> \n",
       "</tr>\n",
       "<tr>\n",
       "   <td>Davolio</td>   <td>Fuller</td>    <td>0.1696</td>   <td>0.001</td> <td>0.0495</td>  <td>0.2897</td>   <td>True</td> \n",
       "</tr>\n",
       "<tr>\n",
       "   <td>Davolio</td>    <td>King</td>     <td>0.2424</td>   <td>0.001</td>  <td>0.123</td>  <td>0.3618</td>   <td>True</td> \n",
       "</tr>\n",
       "<tr>\n",
       "   <td>Davolio</td>  <td>Leverling</td>  <td>0.1896</td>   <td>0.001</td> <td>0.0641</td>  <td>0.3151</td>   <td>True</td> \n",
       "</tr>\n",
       "<tr>\n",
       "   <td>Davolio</td>   <td>Peacock</td>   <td>0.1228</td>  <td>0.0627</td> <td>-0.0031</td> <td>0.2487</td>   <td>False</td>\n",
       "</tr>\n",
       "<tr>\n",
       "   <td>Davolio</td>   <td>Suyama</td>    <td>0.0388</td>    <td>0.9</td>  <td>-0.0978</td> <td>0.1754</td>   <td>False</td>\n",
       "</tr>\n",
       "<tr>\n",
       "  <td>Dodsworth</td>  <td>Fuller</td>    <td>-0.039</td>    <td>0.9</td>  <td>-0.1557</td> <td>0.0778</td>   <td>False</td>\n",
       "</tr>\n",
       "<tr>\n",
       "  <td>Dodsworth</td>   <td>King</td>     <td>0.0339</td>    <td>0.9</td>  <td>-0.0821</td> <td>0.1499</td>   <td>False</td>\n",
       "</tr>\n",
       "<tr>\n",
       "  <td>Dodsworth</td> <td>Leverling</td>  <td>-0.019</td>    <td>0.9</td>  <td>-0.1412</td> <td>0.1033</td>   <td>False</td>\n",
       "</tr>\n",
       "<tr>\n",
       "  <td>Dodsworth</td>  <td>Peacock</td>   <td>-0.0857</td> <td>0.4298</td> <td>-0.2084</td> <td>0.0369</td>   <td>False</td>\n",
       "</tr>\n",
       "<tr>\n",
       "  <td>Dodsworth</td>  <td>Suyama</td>    <td>-0.1698</td> <td>0.0026</td> <td>-0.3034</td> <td>-0.0362</td>  <td>True</td> \n",
       "</tr>\n",
       "<tr>\n",
       "   <td>Fuller</td>     <td>King</td>     <td>0.0728</td>  <td>0.2347</td> <td>-0.0178</td> <td>0.1634</td>   <td>False</td>\n",
       "</tr>\n",
       "<tr>\n",
       "   <td>Fuller</td>   <td>Leverling</td>   <td>0.02</td>     <td>0.9</td>  <td>-0.0785</td> <td>0.1185</td>   <td>False</td>\n",
       "</tr>\n",
       "<tr>\n",
       "   <td>Fuller</td>    <td>Peacock</td>   <td>-0.0468</td>  <td>0.861</td> <td>-0.1458</td> <td>0.0522</td>   <td>False</td>\n",
       "</tr>\n",
       "<tr>\n",
       "   <td>Fuller</td>    <td>Suyama</td>    <td>-0.1308</td> <td>0.0092</td> <td>-0.2431</td> <td>-0.0185</td>  <td>True</td> \n",
       "</tr>\n",
       "<tr>\n",
       "    <td>King</td>    <td>Leverling</td>  <td>-0.0528</td> <td>0.7313</td> <td>-0.1504</td> <td>0.0447</td>   <td>False</td>\n",
       "</tr>\n",
       "<tr>\n",
       "    <td>King</td>     <td>Peacock</td>   <td>-0.1196</td> <td>0.0049</td> <td>-0.2177</td> <td>-0.0215</td>  <td>True</td> \n",
       "</tr>\n",
       "<tr>\n",
       "    <td>King</td>     <td>Suyama</td>    <td>-0.2036</td>  <td>0.001</td> <td>-0.3151</td> <td>-0.0921</td>  <td>True</td> \n",
       "</tr>\n",
       "<tr>\n",
       "  <td>Leverling</td>  <td>Peacock</td>   <td>-0.0668</td> <td>0.5583</td> <td>-0.1722</td> <td>0.0386</td>   <td>False</td>\n",
       "</tr>\n",
       "<tr>\n",
       "  <td>Leverling</td>  <td>Suyama</td>    <td>-0.1508</td> <td>0.0024</td> <td>-0.2688</td> <td>-0.0328</td>  <td>True</td> \n",
       "</tr>\n",
       "<tr>\n",
       "   <td>Peacock</td>   <td>Suyama</td>    <td>-0.084</td>  <td>0.4073</td> <td>-0.2025</td> <td>0.0344</td>   <td>False</td>\n",
       "</tr>\n",
       "</table>"
      ],
      "text/plain": [
       "<class 'statsmodels.iolib.table.SimpleTable'>"
      ]
     },
     "execution_count": 73,
     "metadata": {},
     "output_type": "execute_result"
    }
   ],
   "source": [
    "tukey_results = pairwise_tukeyhsd(df['Quantity_log'], df['LastName'])\n",
    "tukey_results.summary()"
   ]
  },
  {
   "cell_type": "code",
   "execution_count": 74,
   "metadata": {},
   "outputs": [
    {
     "name": "stderr",
     "output_type": "stream",
     "text": [
      "C:\\Users\\eannefawcett\\Anaconda3\\envs\\learn-env\\lib\\site-packages\\ipykernel_launcher.py:8: UserWarning: Matplotlib is currently using module://ipykernel.pylab.backend_inline, which is a non-GUI backend, so cannot show the figure.\n",
      "  \n"
     ]
    },
    {
     "data": {
      "image/png": "[encoded data removed]",
      "text/plain": [
       "<Figure size 720x432 with 1 Axes>"
      ]
     },
     "metadata": {
      "needs_background": "light"
     },
     "output_type": "display_data"
    }
   ],
   "source": [
    "# create figure\n",
    "fig08 = plt.figure(figsize=(5,4))\n",
    "ax = fig08.add_subplot(111)\n",
    "\n",
    "# run tukeys\n",
    "from statsmodels.stats.multicomp import pairwise_tukeyhsd\n",
    "tukey_results = pairwise_tukeyhsd(df['Quantity'], df['LastName'])\n",
    "tukey_plot = tukey_results.plot_simultaneous(ax=ax).show() \n",
    "\n",
    "# format plot\n",
    "ax.axes.set_title('Multiple Comparisions Between Employees')\n",
    "ax.axes.set_ylabel('Employee')\n",
    "ax.axes.set_xlabel('Quantity');"
   ]
  },
  {
   "cell_type": "code",
   "execution_count": 75,
   "metadata": {},
   "outputs": [
    {
     "data": {
      "text/html": [
       "<table class=\"simpletable\">\n",
       "<caption>Multiple Comparison of Means - Tukey HSD, FWER=0.05</caption>\n",
       "<tr>\n",
       "   <th>group1</th>    <th>group2</th>   <th>meandiff</th>  <th>p-adj</th>  <th>lower</th>   <th>upper</th>  <th>reject</th>\n",
       "</tr>\n",
       "<tr>\n",
       "  <td>Buchanan</td>  <td>Callahan</td>   <td>-0.2469</td> <td>0.1166</td> <td>-0.5207</td>  <td>0.027</td>   <td>False</td>\n",
       "</tr>\n",
       "<tr>\n",
       "  <td>Buchanan</td>   <td>Davolio</td>   <td>-0.4971</td>  <td>0.001</td>  <td>-0.8</td>   <td>-0.1942</td>  <td>True</td> \n",
       "</tr>\n",
       "<tr>\n",
       "  <td>Buchanan</td>  <td>Dodsworth</td>  <td>-0.056</td>    <td>0.9</td>  <td>-0.3524</td> <td>0.2403</td>   <td>False</td>\n",
       "</tr>\n",
       "<tr>\n",
       "  <td>Buchanan</td>   <td>Fuller</td>    <td>-0.1248</td> <td>0.8095</td> <td>-0.3745</td> <td>0.1248</td>   <td>False</td>\n",
       "</tr>\n",
       "<tr>\n",
       "  <td>Buchanan</td>    <td>King</td>     <td>0.0066</td>    <td>0.9</td>  <td>-0.2414</td> <td>0.2545</td>   <td>False</td>\n",
       "</tr>\n",
       "<tr>\n",
       "  <td>Buchanan</td>  <td>Leverling</td>  <td>-0.1071</td>   <td>0.9</td>  <td>-0.3692</td> <td>0.1551</td>   <td>False</td>\n",
       "</tr>\n",
       "<tr>\n",
       "  <td>Buchanan</td>   <td>Peacock</td>   <td>-0.2459</td> <td>0.0886</td> <td>-0.509</td>  <td>0.0172</td>   <td>False</td>\n",
       "</tr>\n",
       "<tr>\n",
       "  <td>Buchanan</td>   <td>Suyama</td>    <td>-0.5009</td>  <td>0.001</td> <td>-0.7888</td> <td>-0.2131</td>  <td>True</td> \n",
       "</tr>\n",
       "<tr>\n",
       "  <td>Callahan</td>   <td>Davolio</td>   <td>-0.2502</td> <td>0.1487</td> <td>-0.538</td>  <td>0.0376</td>   <td>False</td>\n",
       "</tr>\n",
       "<tr>\n",
       "  <td>Callahan</td>  <td>Dodsworth</td>  <td>0.1908</td>  <td>0.4702</td> <td>-0.0901</td> <td>0.4718</td>   <td>False</td>\n",
       "</tr>\n",
       "<tr>\n",
       "  <td>Callahan</td>   <td>Fuller</td>    <td>0.1221</td>  <td>0.7562</td> <td>-0.109</td>  <td>0.3532</td>   <td>False</td>\n",
       "</tr>\n",
       "<tr>\n",
       "  <td>Callahan</td>    <td>King</td>     <td>0.2535</td>  <td>0.0176</td> <td>0.0242</td>  <td>0.4827</td>   <td>True</td> \n",
       "</tr>\n",
       "<tr>\n",
       "  <td>Callahan</td>  <td>Leverling</td>  <td>0.1398</td>  <td>0.6745</td> <td>-0.1048</td> <td>0.3843</td>   <td>False</td>\n",
       "</tr>\n",
       "<tr>\n",
       "  <td>Callahan</td>   <td>Peacock</td>    <td>0.001</td>    <td>0.9</td>  <td>-0.2446</td> <td>0.2466</td>   <td>False</td>\n",
       "</tr>\n",
       "<tr>\n",
       "  <td>Callahan</td>   <td>Suyama</td>    <td>-0.2541</td> <td>0.0888</td> <td>-0.526</td>  <td>0.0179</td>   <td>False</td>\n",
       "</tr>\n",
       "<tr>\n",
       "   <td>Davolio</td>  <td>Dodsworth</td>  <td>0.4411</td>   <td>0.001</td> <td>0.1317</td>  <td>0.7504</td>   <td>True</td> \n",
       "</tr>\n",
       "<tr>\n",
       "   <td>Davolio</td>   <td>Fuller</td>    <td>0.3723</td>   <td>0.001</td> <td>0.1074</td>  <td>0.6372</td>   <td>True</td> \n",
       "</tr>\n",
       "<tr>\n",
       "   <td>Davolio</td>    <td>King</td>     <td>0.5037</td>   <td>0.001</td> <td>0.2404</td>   <td>0.767</td>   <td>True</td> \n",
       "</tr>\n",
       "<tr>\n",
       "   <td>Davolio</td>  <td>Leverling</td>   <td>0.39</td>    <td>0.001</td> <td>0.1133</td>  <td>0.6667</td>   <td>True</td> \n",
       "</tr>\n",
       "<tr>\n",
       "   <td>Davolio</td>   <td>Peacock</td>   <td>0.2512</td>  <td>0.1135</td> <td>-0.0264</td> <td>0.5288</td>   <td>False</td>\n",
       "</tr>\n",
       "<tr>\n",
       "   <td>Davolio</td>   <td>Suyama</td>    <td>-0.0039</td>   <td>0.9</td>  <td>-0.305</td>  <td>0.2973</td>   <td>False</td>\n",
       "</tr>\n",
       "<tr>\n",
       "  <td>Dodsworth</td>  <td>Fuller</td>    <td>-0.0688</td>   <td>0.9</td>  <td>-0.3262</td> <td>0.1886</td>   <td>False</td>\n",
       "</tr>\n",
       "<tr>\n",
       "  <td>Dodsworth</td>   <td>King</td>     <td>0.0626</td>    <td>0.9</td>  <td>-0.1931</td> <td>0.3184</td>   <td>False</td>\n",
       "</tr>\n",
       "<tr>\n",
       "  <td>Dodsworth</td> <td>Leverling</td>  <td>-0.051</td>    <td>0.9</td>  <td>-0.3206</td> <td>0.2185</td>   <td>False</td>\n",
       "</tr>\n",
       "<tr>\n",
       "  <td>Dodsworth</td>  <td>Peacock</td>   <td>-0.1899</td> <td>0.4234</td> <td>-0.4603</td> <td>0.0806</td>   <td>False</td>\n",
       "</tr>\n",
       "<tr>\n",
       "  <td>Dodsworth</td>  <td>Suyama</td>    <td>-0.4449</td>  <td>0.001</td> <td>-0.7395</td> <td>-0.1503</td>  <td>True</td> \n",
       "</tr>\n",
       "<tr>\n",
       "   <td>Fuller</td>     <td>King</td>     <td>0.1314</td>  <td>0.5124</td> <td>-0.0684</td> <td>0.3311</td>   <td>False</td>\n",
       "</tr>\n",
       "<tr>\n",
       "   <td>Fuller</td>   <td>Leverling</td>  <td>0.0177</td>    <td>0.9</td>  <td>-0.1994</td> <td>0.2348</td>   <td>False</td>\n",
       "</tr>\n",
       "<tr>\n",
       "   <td>Fuller</td>    <td>Peacock</td>   <td>-0.1211</td> <td>0.7063</td> <td>-0.3394</td> <td>0.0972</td>   <td>False</td>\n",
       "</tr>\n",
       "<tr>\n",
       "   <td>Fuller</td>    <td>Suyama</td>    <td>-0.3761</td>  <td>0.001</td> <td>-0.6237</td> <td>-0.1286</td>  <td>True</td> \n",
       "</tr>\n",
       "<tr>\n",
       "    <td>King</td>    <td>Leverling</td>  <td>-0.1137</td> <td>0.7561</td> <td>-0.3288</td> <td>0.1015</td>   <td>False</td>\n",
       "</tr>\n",
       "<tr>\n",
       "    <td>King</td>     <td>Peacock</td>   <td>-0.2525</td>  <td>0.009</td> <td>-0.4688</td> <td>-0.0361</td>  <td>True</td> \n",
       "</tr>\n",
       "<tr>\n",
       "    <td>King</td>     <td>Suyama</td>    <td>-0.5075</td>  <td>0.001</td> <td>-0.7534</td> <td>-0.2617</td>  <td>True</td> \n",
       "</tr>\n",
       "<tr>\n",
       "  <td>Leverling</td>  <td>Peacock</td>   <td>-0.1388</td> <td>0.6265</td> <td>-0.3713</td> <td>0.0936</td>   <td>False</td>\n",
       "</tr>\n",
       "<tr>\n",
       "  <td>Leverling</td>  <td>Suyama</td>    <td>-0.3939</td>  <td>0.001</td> <td>-0.654</td>  <td>-0.1337</td>  <td>True</td> \n",
       "</tr>\n",
       "<tr>\n",
       "   <td>Peacock</td>   <td>Suyama</td>    <td>-0.2551</td> <td>0.0619</td> <td>-0.5162</td> <td>0.0061</td>   <td>False</td>\n",
       "</tr>\n",
       "</table>"
      ],
      "text/plain": [
       "<class 'statsmodels.iolib.table.SimpleTable'>"
      ]
     },
     "execution_count": 75,
     "metadata": {},
     "output_type": "execute_result"
    }
   ],
   "source": [
    "tukey_results = pairwise_tukeyhsd(df['Subtotal_log'], df['LastName'])\n",
    "tukey_results.summary()"
   ]
  },
  {
   "cell_type": "code",
   "execution_count": 76,
   "metadata": {},
   "outputs": [
    {
     "name": "stderr",
     "output_type": "stream",
     "text": [
      "C:\\Users\\eannefawcett\\Anaconda3\\envs\\learn-env\\lib\\site-packages\\ipykernel_launcher.py:8: UserWarning: Matplotlib is currently using module://ipykernel.pylab.backend_inline, which is a non-GUI backend, so cannot show the figure.\n",
      "  \n"
     ]
    },
    {
     "data": {
      "image/png": "[encoded data removed]",
      "text/plain": [
       "<Figure size 720x432 with 1 Axes>"
      ]
     },
     "metadata": {
      "needs_background": "light"
     },
     "output_type": "display_data"
    }
   ],
   "source": [
    "# create figure\n",
    "fig08 = plt.figure(figsize=(5,4))\n",
    "ax = fig08.add_subplot(111)\n",
    "\n",
    "# run tukeys\n",
    "from statsmodels.stats.multicomp import pairwise_tukeyhsd\n",
    "tukey_results = pairwise_tukeyhsd(df['Subtotal'], df['LastName'])\n",
    "tukey_plot = tukey_results.plot_simultaneous(ax=ax).show() \n",
    "\n",
    "# format plot\n",
    "ax.axes.set_title('Multiple Comparisions Between Employees')\n",
    "ax.axes.set_ylabel('Employee')\n",
    "ax.axes.set_xlabel('Subtotal');"
   ]
  },
  {
   "cell_type": "markdown",
   "metadata": {},
   "source": [
    "Observations based off of deeper understanding test"
   ]
  },
  {
   "cell_type": "markdown",
   "metadata": {},
   "source": [
    "# 4.3 Results<a id='Results'></a>\n",
    "\n",
    "Conclusions about question overall commentary on hypothesis"
   ]
  },
  {
   "cell_type": "markdown",
   "metadata": {},
   "source": [
    "# 4.4 Conclusions<a id='Conclusions'></a>\n",
    "\n",
    "- 4.4.1 Actionable Items and Insights\n",
    "- 4.4.2 Additional Visuals"
   ]
  },
  {
   "cell_type": "markdown",
   "metadata": {},
   "source": [
    "## 4.4.1 Actionable Items and Insights<a id='Actionable Items and Insights'></a>"
   ]
  },
  {
   "cell_type": "markdown",
   "metadata": {},
   "source": [
    "## 4.4.2 Additional Visuals"
   ]
  },
  {
   "cell_type": "code",
   "execution_count": 77,
   "metadata": {},
   "outputs": [
    {
     "data": {
      "text/html": [
       "<div>\n",
       "<style scoped>\n",
       "    .dataframe tbody tr th:only-of-type {\n",
       "        vertical-align: middle;\n",
       "    }\n",
       "\n",
       "    .dataframe tbody tr th {\n",
       "        vertical-align: top;\n",
       "    }\n",
       "\n",
       "    .dataframe thead th {\n",
       "        text-align: right;\n",
       "    }\n",
       "</style>\n",
       "<table border=\"1\" class=\"dataframe\">\n",
       "  <thead>\n",
       "    <tr style=\"text-align: right;\">\n",
       "      <th></th>\n",
       "      <th></th>\n",
       "      <th></th>\n",
       "      <th>TerritoryId</th>\n",
       "      <th>RegionId</th>\n",
       "      <th>EmployeeId</th>\n",
       "      <th>ItemTotal</th>\n",
       "      <th>UnitPrice</th>\n",
       "      <th>Quantity</th>\n",
       "      <th>ItemTotal_log</th>\n",
       "      <th>Quantity_log</th>\n",
       "      <th>Subtotal</th>\n",
       "      <th>Subtotal_log</th>\n",
       "    </tr>\n",
       "    <tr>\n",
       "      <th>LastName</th>\n",
       "      <th>Id</th>\n",
       "      <th>ProductId</th>\n",
       "      <th></th>\n",
       "      <th></th>\n",
       "      <th></th>\n",
       "      <th></th>\n",
       "      <th></th>\n",
       "      <th></th>\n",
       "      <th></th>\n",
       "      <th></th>\n",
       "      <th></th>\n",
       "      <th></th>\n",
       "    </tr>\n",
       "  </thead>\n",
       "  <tbody>\n",
       "    <tr>\n",
       "      <th rowspan=\"5\" valign=\"top\">Buchanan</th>\n",
       "      <th rowspan=\"3\" valign=\"top\">10248</th>\n",
       "      <th>11</th>\n",
       "      <td>9422.0</td>\n",
       "      <td>1</td>\n",
       "      <td>5</td>\n",
       "      <td>168.0</td>\n",
       "      <td>14.00</td>\n",
       "      <td>12</td>\n",
       "      <td>5.123964</td>\n",
       "      <td>2.484907</td>\n",
       "      <td>2016.0</td>\n",
       "      <td>7.608871</td>\n",
       "    </tr>\n",
       "    <tr>\n",
       "      <th>42</th>\n",
       "      <td>9422.0</td>\n",
       "      <td>1</td>\n",
       "      <td>5</td>\n",
       "      <td>98.0</td>\n",
       "      <td>9.80</td>\n",
       "      <td>10</td>\n",
       "      <td>4.584967</td>\n",
       "      <td>2.302585</td>\n",
       "      <td>980.0</td>\n",
       "      <td>6.887553</td>\n",
       "    </tr>\n",
       "    <tr>\n",
       "      <th>72</th>\n",
       "      <td>9422.0</td>\n",
       "      <td>1</td>\n",
       "      <td>5</td>\n",
       "      <td>174.0</td>\n",
       "      <td>34.80</td>\n",
       "      <td>5</td>\n",
       "      <td>5.159055</td>\n",
       "      <td>1.609438</td>\n",
       "      <td>870.0</td>\n",
       "      <td>6.768493</td>\n",
       "    </tr>\n",
       "    <tr>\n",
       "      <th rowspan=\"2\" valign=\"top\">10254</th>\n",
       "      <th>24</th>\n",
       "      <td>9422.0</td>\n",
       "      <td>1</td>\n",
       "      <td>5</td>\n",
       "      <td>54.0</td>\n",
       "      <td>3.60</td>\n",
       "      <td>15</td>\n",
       "      <td>3.988984</td>\n",
       "      <td>2.708050</td>\n",
       "      <td>810.0</td>\n",
       "      <td>6.697034</td>\n",
       "    </tr>\n",
       "    <tr>\n",
       "      <th>55</th>\n",
       "      <td>9422.0</td>\n",
       "      <td>1</td>\n",
       "      <td>5</td>\n",
       "      <td>403.2</td>\n",
       "      <td>19.20</td>\n",
       "      <td>21</td>\n",
       "      <td>5.999433</td>\n",
       "      <td>3.044522</td>\n",
       "      <td>8467.2</td>\n",
       "      <td>9.043955</td>\n",
       "    </tr>\n",
       "    <tr>\n",
       "      <th>...</th>\n",
       "      <th>...</th>\n",
       "      <th>...</th>\n",
       "      <td>...</td>\n",
       "      <td>...</td>\n",
       "      <td>...</td>\n",
       "      <td>...</td>\n",
       "      <td>...</td>\n",
       "      <td>...</td>\n",
       "      <td>...</td>\n",
       "      <td>...</td>\n",
       "      <td>...</td>\n",
       "      <td>...</td>\n",
       "    </tr>\n",
       "    <tr>\n",
       "      <th rowspan=\"5\" valign=\"top\">Suyama</th>\n",
       "      <th rowspan=\"3\" valign=\"top\">11031</th>\n",
       "      <th>24</th>\n",
       "      <td>92885.0</td>\n",
       "      <td>2</td>\n",
       "      <td>6</td>\n",
       "      <td>94.5</td>\n",
       "      <td>4.50</td>\n",
       "      <td>21</td>\n",
       "      <td>4.548600</td>\n",
       "      <td>3.044522</td>\n",
       "      <td>1984.5</td>\n",
       "      <td>7.593122</td>\n",
       "    </tr>\n",
       "    <tr>\n",
       "      <th>64</th>\n",
       "      <td>92885.0</td>\n",
       "      <td>2</td>\n",
       "      <td>6</td>\n",
       "      <td>665.0</td>\n",
       "      <td>33.25</td>\n",
       "      <td>20</td>\n",
       "      <td>6.499787</td>\n",
       "      <td>2.995732</td>\n",
       "      <td>13300.0</td>\n",
       "      <td>9.495519</td>\n",
       "    </tr>\n",
       "    <tr>\n",
       "      <th>71</th>\n",
       "      <td>92885.0</td>\n",
       "      <td>2</td>\n",
       "      <td>6</td>\n",
       "      <td>344.0</td>\n",
       "      <td>21.50</td>\n",
       "      <td>16</td>\n",
       "      <td>5.840642</td>\n",
       "      <td>2.772589</td>\n",
       "      <td>5504.0</td>\n",
       "      <td>8.613230</td>\n",
       "    </tr>\n",
       "    <tr>\n",
       "      <th rowspan=\"2\" valign=\"top\">11045</th>\n",
       "      <th>33</th>\n",
       "      <td>92885.0</td>\n",
       "      <td>2</td>\n",
       "      <td>6</td>\n",
       "      <td>37.5</td>\n",
       "      <td>2.50</td>\n",
       "      <td>15</td>\n",
       "      <td>3.624341</td>\n",
       "      <td>2.708050</td>\n",
       "      <td>562.5</td>\n",
       "      <td>6.332391</td>\n",
       "    </tr>\n",
       "    <tr>\n",
       "      <th>51</th>\n",
       "      <td>92885.0</td>\n",
       "      <td>2</td>\n",
       "      <td>6</td>\n",
       "      <td>1272.0</td>\n",
       "      <td>53.00</td>\n",
       "      <td>24</td>\n",
       "      <td>7.148346</td>\n",
       "      <td>3.178054</td>\n",
       "      <td>30528.0</td>\n",
       "      <td>10.326400</td>\n",
       "    </tr>\n",
       "  </tbody>\n",
       "</table>\n",
       "<p>2155 rows × 10 columns</p>\n",
       "</div>"
      ],
      "text/plain": [
       "                          TerritoryId  RegionId  EmployeeId  ItemTotal  \\\n",
       "LastName Id    ProductId                                                 \n",
       "Buchanan 10248 11              9422.0         1           5      168.0   \n",
       "               42              9422.0         1           5       98.0   \n",
       "               72              9422.0         1           5      174.0   \n",
       "         10254 24              9422.0         1           5       54.0   \n",
       "               55              9422.0         1           5      403.2   \n",
       "...                               ...       ...         ...        ...   \n",
       "Suyama   11031 24             92885.0         2           6       94.5   \n",
       "               64             92885.0         2           6      665.0   \n",
       "               71             92885.0         2           6      344.0   \n",
       "         11045 33             92885.0         2           6       37.5   \n",
       "               51             92885.0         2           6     1272.0   \n",
       "\n",
       "                          UnitPrice  Quantity  ItemTotal_log  Quantity_log  \\\n",
       "LastName Id    ProductId                                                     \n",
       "Buchanan 10248 11             14.00        12       5.123964      2.484907   \n",
       "               42              9.80        10       4.584967      2.302585   \n",
       "               72             34.80         5       5.159055      1.609438   \n",
       "         10254 24              3.60        15       3.988984      2.708050   \n",
       "               55             19.20        21       5.999433      3.044522   \n",
       "...                             ...       ...            ...           ...   \n",
       "Suyama   11031 24              4.50        21       4.548600      3.044522   \n",
       "               64             33.25        20       6.499787      2.995732   \n",
       "               71             21.50        16       5.840642      2.772589   \n",
       "         11045 33              2.50        15       3.624341      2.708050   \n",
       "               51             53.00        24       7.148346      3.178054   \n",
       "\n",
       "                          Subtotal  Subtotal_log  \n",
       "LastName Id    ProductId                          \n",
       "Buchanan 10248 11           2016.0      7.608871  \n",
       "               42            980.0      6.887553  \n",
       "               72            870.0      6.768493  \n",
       "         10254 24            810.0      6.697034  \n",
       "               55           8467.2      9.043955  \n",
       "...                            ...           ...  \n",
       "Suyama   11031 24           1984.5      7.593122  \n",
       "               64          13300.0      9.495519  \n",
       "               71           5504.0      8.613230  \n",
       "         11045 33            562.5      6.332391  \n",
       "               51          30528.0     10.326400  \n",
       "\n",
       "[2155 rows x 10 columns]"
      ]
     },
     "execution_count": 77,
     "metadata": {},
     "output_type": "execute_result"
    }
   ],
   "source": [
    "employee_work = df.groupby(['LastName', 'Id', 'ProductId']).mean()\n",
    "employee_work"
   ]
  },
  {
   "cell_type": "code",
   "execution_count": 78,
   "metadata": {},
   "outputs": [
    {
     "data": {
      "text/plain": [
       "array(['Fuller', 'Buchanan', 'Dodsworth', 'Davolio', 'Callahan',\n",
       "       'Peacock', 'Leverling', 'King', 'Suyama'], dtype=object)"
      ]
     },
     "execution_count": 78,
     "metadata": {},
     "output_type": "execute_result"
    }
   ],
   "source": [
    "employees = df['LastName'].unique()\n",
    "employees"
   ]
  },
  {
   "cell_type": "markdown",
   "metadata": {},
   "source": [
    "### Tools for use of discovered information"
   ]
  },
  {
   "cell_type": "code",
   "execution_count": 79,
   "metadata": {},
   "outputs": [],
   "source": [
    "# function or equation used to test developed theories\n",
    "pass"
   ]
  },
  {
   "cell_type": "code",
   "execution_count": 86,
   "metadata": {},
   "outputs": [
    {
     "data": {
      "image/png": "[encoded data removed]",
      "text/plain": [
       "<Figure size 1440x1440 with 9 Axes>"
      ]
     },
     "metadata": {
      "needs_background": "light"
     },
     "output_type": "display_data"
    }
   ],
   "source": [
    "x = [employee_work.loc[idx[i]]['Subtotal'] for i in employees]\n",
    "fig05, axes = plt.subplots(nrows=3, ncols=3, figsize=(20,20))\n",
    "for n in range(0, len(employees)):\n",
    "    row = (n-1)//3\n",
    "    col = n%3-1\n",
    "    ax = axes[row][col]\n",
    "    sns.distplot(x[n], ax=ax).set_xlim(left=0, right=600000)\n",
    "    ax.set_ylim(ymax=0.00006)\n",
    "    ax.set_title('{}'.format(employees[n]), fontsize=18)\n",
    "fig05.suptitle('Subtotal by Each Employee', fontsize=18);"
   ]
  },
  {
   "cell_type": "markdown",
   "metadata": {},
   "source": [
    "# 4.5 Future Work<a id='Future Work'></a>"
   ]
  },
  {
   "cell_type": "markdown",
   "metadata": {},
   "source": [
    "What products is King selling effectively?\n",
    "Set sales goals that focus on higher quantities of higher priced products."
   ]
  },
  {
   "cell_type": "markdown",
   "metadata": {},
   "source": [
    "# 4.6 References<a id='References'></a>"
   ]
  },
  {
   "cell_type": "markdown",
   "metadata": {},
   "source": [
    "Measure skewness https://towardsdatascience.com/understanding-measures-of-variance-with-python-f57d59617a0b\n",
    "Lat/Long: https://www.latlong.net/"
   ]
  }
 ],
 "metadata": {
  "kernelspec": {
   "display_name": "learn-env",
   "language": "python",
   "name": "learn-env"
  },
  "language_info": {
   "codemirror_mode": {
    "name": "ipython",
    "version": 3
   },
   "file_extension": ".py",
   "mimetype": "text/x-python",
   "name": "python",
   "nbconvert_exporter": "python",
   "pygments_lexer": "ipython3",
   "version": "3.6.6"
  }
 },
 "nbformat": 4,
 "nbformat_minor": 2
}
