{
 "cells": [
  {
   "cell_type": "markdown",
   "metadata": {},
   "source": [
    "<img src='../references/Northwind_ERD.png' alt='northwind database schema'>"
   ]
  },
  {
   "cell_type": "markdown",
   "metadata": {},
   "source": [
    "<a href='#4.0-Initial-Question'>**Initial Question**</a>\n",
    "\n",
    "<a href='#4.1-Initial-Hypothesis'>**Initial Hypothesis**</a>\n",
    "- <a href='#4.1.1-Null-Hypothesis'>Null Hypothesis</a>\n",
    "- <a href='#4.1.2-Alternative-Hypothesis'>Alternative Hypothesis</a>\n",
    "- <a href='#4.1.3-Features'>Features</a>\n",
    "- <a href='#4.1.4-Target-Variable'>Target Variable</a>\n",
    "\n",
    "<a href='#4.2-Methodology'>**Methodology**</a>\n",
    "- <a href='#4.2.1-Obtain-Data'>Obtain Data</a>\n",
    "- <a href='#4.2.2-Scrub-Data'>Scrub Data</a>\n",
    "    - <a href='#4.2.2.1-Manage-n/a-data-types'>Manage n/a data types</a>\n",
    "    - <a href='#4.2.2.2-Remove-duplicate-data'>Remove duplicate data</a>\n",
    "    - <a href='#4.2.2.3-Manage-data-types'>Manage data types</a>\n",
    "    - <a href='#4.2.2.4-Remove-outliers'>Remove outliers</a>\n",
    "- <a href='#4.2.3-Explore-Data'>Explore Data</a>\n",
    "    - <a href='#4.2.3.1-Visualize-data'>Visualize data</a>\n",
    "    - <a href='#4.2.3.2-Transform-data'>Transform data</a>\n",
    "    - <a href='#4.2.3.3-Sort-data-/-Prepare-data-for-testing'>Sort data / Prepare data for testing</a>\n",
    "    - <a href='#4.2.3.4-Develop-feature'>Develop feature</a>\n",
    "- <a href='#4.2.4-Model-Data'>Model Data</a>\n",
    "    - <a href='#4.2.4.1-Check-for-data-normality'>Check for data normality</a>\n",
    "    - <a href='#4.2.4.2-Standard-deviation-and-other-basic-statistics'>Standard deviation and other basic statistics</a>\n",
    "    - <a href='#4.2.4.3-Statistical-test'>Statistical test</a>\n",
    "    - <a href='#4.2.4.4-Verification-techniques'>Verification techniques</a>\n",
    "        - <a href='#4.2.4.4.1-Nonparametric-testing-and-confirmatory-testing'>Nonparametric testing</a>\n",
    "        - <a href='#4.2.4.4.2-Effect-size'>Effect size</a>\n",
    "        - <a href='#4.2.4.4.3-Error'>Error</a>\n",
    "- <a href='#4.2.5-Interpret-Model'>Interpret Model</a>\n",
    "    - <a href='#4.2.5.1-Extension-of-acquired-knowledge'>Extension of acquired knowledge</a>\n",
    "    \n",
    "<a href='#4.3-Results'>**Results**</a>\n",
    "\n",
    "<a href='#4.4-Conclusions'>**Conclusions**</a>\n",
    "\n",
    "- <a href='#4.4.1-Actionable-Items-and-Insights'>Actionable Items and Insights</a>\n",
    "- <a href='#4.4.2-Additional-Visuals'>Additional Visuals</a>\n",
    "\n",
    "<a href='#4.5-Future-Work'>**Future Work**</a>\n",
    "\n",
    "<a href='#4.6-References'>**References**</a>"
   ]
  },
  {
   "cell_type": "markdown",
   "metadata": {},
   "source": [
    "# Initial Question<a id='Initial Question'></a>\n",
    "\n",
    "Which region is preforming the best? How can we optimize preformance?\n"
   ]
  },
  {
   "cell_type": "markdown",
   "metadata": {},
   "source": [
    "# Initial Hypothesis<a id='Initial Hypothesis'></a>"
   ]
  },
  {
   "cell_type": "markdown",
   "metadata": {},
   "source": [
    "## Null Hypothesis<a id='Null Hypothesis'></a>\n",
    "H0: no effect - Item total for specific regions is no different than that of all regions "
   ]
  },
  {
   "cell_type": "markdown",
   "metadata": {},
   "source": [
    "## Alternative Hypothesis<a id='Alternative Hypothesis'></a>\n",
    "HA: effect - Item total for specific regions is different than that of all regions"
   ]
  },
  {
   "cell_type": "markdown",
   "metadata": {},
   "source": [
    "## Features<a id='Features'></a>\n",
    ": RegionId"
   ]
  },
  {
   "cell_type": "markdown",
   "metadata": {},
   "source": [
    "## Target Variable<a id='Target Variable'></a>\n",
    ": OrderDetail.Quantity * OrderDetail.UnitPrice"
   ]
  },
  {
   "cell_type": "markdown",
   "metadata": {},
   "source": [
    "# Methodology<a id='Methodology'></a>\n",
    "\n",
    "To evaluate, I have chosen to use the following steps:\n",
    "- Obtain Data\n",
    "- Scrub Data\n",
    "- Explore Data\n",
    "- Model Data\n",
    "- Interpret Model\n",
    "\n",
    "I have found that the OSEMN method explains the data science process, and gives context to exploring data."
   ]
  },
  {
   "cell_type": "markdown",
   "metadata": {},
   "source": [
    "## Obtain Data"
   ]
  },
  {
   "cell_type": "code",
   "execution_count": 12,
   "metadata": {},
   "outputs": [],
   "source": [
    "# import libraries\n",
    "import pandas as pd\n",
    "import sqlite3\n",
    "\n",
    "import numpy as np\n",
    "from numpy import std, mean, sqrt\n",
    "import scipy.stats as stats\n",
    "from statsmodels.stats.power import tt_ind_solve_power\n",
    "import statsmodels.api as sm\n",
    "from statsmodels.formula.api import ols\n",
    "\n",
    "import matplotlib.pyplot as plt\n",
    "%matplotlib inline\n",
    "import seaborn as sns\n",
    "import folium\n",
    "\n",
    "idx = pd.IndexSlice"
   ]
  },
  {
   "cell_type": "code",
   "execution_count": 13,
   "metadata": {},
   "outputs": [],
   "source": [
    "# import data\n",
    "conn = sqlite3.Connection('../data/external/Northwind_small.sqlite')\n",
    "cur = conn.cursor()"
   ]
  },
  {
   "cell_type": "code",
   "execution_count": 14,
   "metadata": {},
   "outputs": [
    {
     "data": {
      "text/html": [
       "<div>\n",
       "<style scoped>\n",
       "    .dataframe tbody tr th:only-of-type {\n",
       "        vertical-align: middle;\n",
       "    }\n",
       "\n",
       "    .dataframe tbody tr th {\n",
       "        vertical-align: top;\n",
       "    }\n",
       "\n",
       "    .dataframe thead th {\n",
       "        text-align: right;\n",
       "    }\n",
       "</style>\n",
       "<table border=\"1\" class=\"dataframe\">\n",
       "  <thead>\n",
       "    <tr style=\"text-align: right;\">\n",
       "      <th></th>\n",
       "      <th>Id</th>\n",
       "      <th>TerritoryDescription</th>\n",
       "      <th>RegionId</th>\n",
       "    </tr>\n",
       "  </thead>\n",
       "  <tbody>\n",
       "    <tr>\n",
       "      <td>28</td>\n",
       "      <td>45839</td>\n",
       "      <td>Findlay</td>\n",
       "      <td>3</td>\n",
       "    </tr>\n",
       "    <tr>\n",
       "      <td>31</td>\n",
       "      <td>48304</td>\n",
       "      <td>Bloomfield Hills</td>\n",
       "      <td>3</td>\n",
       "    </tr>\n",
       "    <tr>\n",
       "      <td>38</td>\n",
       "      <td>75234</td>\n",
       "      <td>Dallas</td>\n",
       "      <td>4</td>\n",
       "    </tr>\n",
       "  </tbody>\n",
       "</table>\n",
       "</div>"
      ],
      "text/plain": [
       "       Id TerritoryDescription  RegionId\n",
       "28  45839              Findlay         3\n",
       "31  48304     Bloomfield Hills         3\n",
       "38  75234               Dallas         4"
      ]
     },
     "execution_count": 14,
     "metadata": {},
     "output_type": "execute_result"
    }
   ],
   "source": [
    "# Territory data\n",
    "cur.execute(\"\"\"SELECT *\n",
    "               FROM Territory\n",
    "               \"\"\")\n",
    "territory = pd.DataFrame(cur.fetchall())\n",
    "territory.columns = [x[0] for x in cur.description]\n",
    "territory.sample(3)"
   ]
  },
  {
   "cell_type": "code",
   "execution_count": 15,
   "metadata": {},
   "outputs": [
    {
     "data": {
      "text/html": [
       "<div>\n",
       "<style scoped>\n",
       "    .dataframe tbody tr th:only-of-type {\n",
       "        vertical-align: middle;\n",
       "    }\n",
       "\n",
       "    .dataframe tbody tr th {\n",
       "        vertical-align: top;\n",
       "    }\n",
       "\n",
       "    .dataframe thead th {\n",
       "        text-align: right;\n",
       "    }\n",
       "</style>\n",
       "<table border=\"1\" class=\"dataframe\">\n",
       "  <thead>\n",
       "    <tr style=\"text-align: right;\">\n",
       "      <th></th>\n",
       "      <th>Id</th>\n",
       "      <th>EmployeeId</th>\n",
       "      <th>TerritoryId</th>\n",
       "    </tr>\n",
       "  </thead>\n",
       "  <tbody>\n",
       "    <tr>\n",
       "      <td>13</td>\n",
       "      <td>4/20852</td>\n",
       "      <td>4</td>\n",
       "      <td>20852</td>\n",
       "    </tr>\n",
       "    <tr>\n",
       "      <td>35</td>\n",
       "      <td>7/95008</td>\n",
       "      <td>7</td>\n",
       "      <td>95008</td>\n",
       "    </tr>\n",
       "    <tr>\n",
       "      <td>7</td>\n",
       "      <td>2/02184</td>\n",
       "      <td>2</td>\n",
       "      <td>02184</td>\n",
       "    </tr>\n",
       "  </tbody>\n",
       "</table>\n",
       "</div>"
      ],
      "text/plain": [
       "         Id  EmployeeId TerritoryId\n",
       "13  4/20852           4       20852\n",
       "35  7/95008           7       95008\n",
       "7   2/02184           2       02184"
      ]
     },
     "execution_count": 15,
     "metadata": {},
     "output_type": "execute_result"
    }
   ],
   "source": [
    "# Employee Territory\n",
    "cur.execute(\"\"\"SELECT *\n",
    "               FROM EmployeeTerritory\n",
    "               \"\"\")\n",
    "employeeTerritory = pd.DataFrame(cur.fetchall())\n",
    "employeeTerritory.columns = [x[0] for x in cur.description]\n",
    "employeeTerritory.sample(3)"
   ]
  },
  {
   "cell_type": "code",
   "execution_count": 16,
   "metadata": {},
   "outputs": [
    {
     "data": {
      "text/html": [
       "<div>\n",
       "<style scoped>\n",
       "    .dataframe tbody tr th:only-of-type {\n",
       "        vertical-align: middle;\n",
       "    }\n",
       "\n",
       "    .dataframe tbody tr th {\n",
       "        vertical-align: top;\n",
       "    }\n",
       "\n",
       "    .dataframe thead th {\n",
       "        text-align: right;\n",
       "    }\n",
       "</style>\n",
       "<table border=\"1\" class=\"dataframe\">\n",
       "  <thead>\n",
       "    <tr style=\"text-align: right;\">\n",
       "      <th></th>\n",
       "      <th>Id</th>\n",
       "      <th>LastName</th>\n",
       "      <th>FirstName</th>\n",
       "      <th>Title</th>\n",
       "      <th>TitleOfCourtesy</th>\n",
       "      <th>BirthDate</th>\n",
       "      <th>HireDate</th>\n",
       "      <th>Address</th>\n",
       "      <th>City</th>\n",
       "      <th>Region</th>\n",
       "      <th>PostalCode</th>\n",
       "      <th>Country</th>\n",
       "      <th>HomePhone</th>\n",
       "      <th>Extension</th>\n",
       "      <th>Photo</th>\n",
       "      <th>Notes</th>\n",
       "      <th>ReportsTo</th>\n",
       "      <th>PhotoPath</th>\n",
       "    </tr>\n",
       "  </thead>\n",
       "  <tbody>\n",
       "    <tr>\n",
       "      <td>7</td>\n",
       "      <td>8</td>\n",
       "      <td>Callahan</td>\n",
       "      <td>Laura</td>\n",
       "      <td>Inside Sales Coordinator</td>\n",
       "      <td>Ms.</td>\n",
       "      <td>1990-01-09</td>\n",
       "      <td>2026-03-05</td>\n",
       "      <td>4726 - 11th Ave. N.E.</td>\n",
       "      <td>Seattle</td>\n",
       "      <td>North America</td>\n",
       "      <td>98105</td>\n",
       "      <td>USA</td>\n",
       "      <td>(206) 555-1189</td>\n",
       "      <td>2344</td>\n",
       "      <td>None</td>\n",
       "      <td>Laura received a BA in psychology from the Uni...</td>\n",
       "      <td>2.0</td>\n",
       "      <td>http://accweb/emmployees/davolio.bmp</td>\n",
       "    </tr>\n",
       "    <tr>\n",
       "      <td>6</td>\n",
       "      <td>7</td>\n",
       "      <td>King</td>\n",
       "      <td>Robert</td>\n",
       "      <td>Sales Representative</td>\n",
       "      <td>Mr.</td>\n",
       "      <td>1992-05-29</td>\n",
       "      <td>2026-01-02</td>\n",
       "      <td>Edgeham Hollow Winchester Way</td>\n",
       "      <td>London</td>\n",
       "      <td>British Isles</td>\n",
       "      <td>RG1 9SP</td>\n",
       "      <td>UK</td>\n",
       "      <td>(71) 555-5598</td>\n",
       "      <td>465</td>\n",
       "      <td>None</td>\n",
       "      <td>Robert King served in the Peace Corps and trav...</td>\n",
       "      <td>5.0</td>\n",
       "      <td>http://accweb/emmployees/davolio.bmp</td>\n",
       "    </tr>\n",
       "    <tr>\n",
       "      <td>2</td>\n",
       "      <td>3</td>\n",
       "      <td>Leverling</td>\n",
       "      <td>Janet</td>\n",
       "      <td>Sales Representative</td>\n",
       "      <td>Ms.</td>\n",
       "      <td>1995-08-30</td>\n",
       "      <td>2024-04-01</td>\n",
       "      <td>722 Moss Bay Blvd.</td>\n",
       "      <td>Kirkland</td>\n",
       "      <td>North America</td>\n",
       "      <td>98033</td>\n",
       "      <td>USA</td>\n",
       "      <td>(206) 555-3412</td>\n",
       "      <td>3355</td>\n",
       "      <td>None</td>\n",
       "      <td>Janet has a BS degree in chemistry from Boston...</td>\n",
       "      <td>2.0</td>\n",
       "      <td>http://accweb/emmployees/leverling.bmp</td>\n",
       "    </tr>\n",
       "  </tbody>\n",
       "</table>\n",
       "</div>"
      ],
      "text/plain": [
       "   Id   LastName FirstName                     Title TitleOfCourtesy  \\\n",
       "7   8   Callahan     Laura  Inside Sales Coordinator             Ms.   \n",
       "6   7       King    Robert      Sales Representative             Mr.   \n",
       "2   3  Leverling     Janet      Sales Representative             Ms.   \n",
       "\n",
       "    BirthDate    HireDate                        Address      City  \\\n",
       "7  1990-01-09  2026-03-05          4726 - 11th Ave. N.E.   Seattle   \n",
       "6  1992-05-29  2026-01-02  Edgeham Hollow Winchester Way    London   \n",
       "2  1995-08-30  2024-04-01             722 Moss Bay Blvd.  Kirkland   \n",
       "\n",
       "          Region PostalCode Country       HomePhone Extension Photo  \\\n",
       "7  North America      98105     USA  (206) 555-1189      2344  None   \n",
       "6  British Isles    RG1 9SP      UK   (71) 555-5598       465  None   \n",
       "2  North America      98033     USA  (206) 555-3412      3355  None   \n",
       "\n",
       "                                               Notes  ReportsTo  \\\n",
       "7  Laura received a BA in psychology from the Uni...        2.0   \n",
       "6  Robert King served in the Peace Corps and trav...        5.0   \n",
       "2  Janet has a BS degree in chemistry from Boston...        2.0   \n",
       "\n",
       "                                PhotoPath  \n",
       "7    http://accweb/emmployees/davolio.bmp  \n",
       "6    http://accweb/emmployees/davolio.bmp  \n",
       "2  http://accweb/emmployees/leverling.bmp  "
      ]
     },
     "execution_count": 16,
     "metadata": {},
     "output_type": "execute_result"
    }
   ],
   "source": [
    "# Employee data\n",
    "cur.execute(\"\"\"SELECT *\n",
    "               FROM Employee\n",
    "               \"\"\")\n",
    "employee = pd.DataFrame(cur.fetchall())\n",
    "employee.columns = [x[0] for x in cur.description]\n",
    "employee.sample(3)"
   ]
  },
  {
   "cell_type": "code",
   "execution_count": 17,
   "metadata": {},
   "outputs": [
    {
     "data": {
      "text/html": [
       "<div>\n",
       "<style scoped>\n",
       "    .dataframe tbody tr th:only-of-type {\n",
       "        vertical-align: middle;\n",
       "    }\n",
       "\n",
       "    .dataframe tbody tr th {\n",
       "        vertical-align: top;\n",
       "    }\n",
       "\n",
       "    .dataframe thead th {\n",
       "        text-align: right;\n",
       "    }\n",
       "</style>\n",
       "<table border=\"1\" class=\"dataframe\">\n",
       "  <thead>\n",
       "    <tr style=\"text-align: right;\">\n",
       "      <th></th>\n",
       "      <th>Id</th>\n",
       "      <th>CustomerId</th>\n",
       "      <th>EmployeeId</th>\n",
       "      <th>OrderDate</th>\n",
       "      <th>RequiredDate</th>\n",
       "      <th>ShippedDate</th>\n",
       "      <th>ShipVia</th>\n",
       "      <th>Freight</th>\n",
       "      <th>ShipName</th>\n",
       "      <th>ShipAddress</th>\n",
       "      <th>ShipCity</th>\n",
       "      <th>ShipRegion</th>\n",
       "      <th>ShipPostalCode</th>\n",
       "      <th>ShipCountry</th>\n",
       "    </tr>\n",
       "  </thead>\n",
       "  <tbody>\n",
       "    <tr>\n",
       "      <td>415</td>\n",
       "      <td>10663</td>\n",
       "      <td>BONAP</td>\n",
       "      <td>2</td>\n",
       "      <td>2013-09-10</td>\n",
       "      <td>2013-09-24</td>\n",
       "      <td>2013-10-03</td>\n",
       "      <td>2</td>\n",
       "      <td>113.15</td>\n",
       "      <td>Bon app'</td>\n",
       "      <td>12, rue des Bouchers</td>\n",
       "      <td>Marseille</td>\n",
       "      <td>Western Europe</td>\n",
       "      <td>13008</td>\n",
       "      <td>France</td>\n",
       "    </tr>\n",
       "    <tr>\n",
       "      <td>117</td>\n",
       "      <td>10365</td>\n",
       "      <td>ANTO</td>\n",
       "      <td>3</td>\n",
       "      <td>2012-11-27</td>\n",
       "      <td>2012-12-25</td>\n",
       "      <td>2012-12-02</td>\n",
       "      <td>2</td>\n",
       "      <td>22.00</td>\n",
       "      <td>Antonio Moreno Taquería</td>\n",
       "      <td>Mataderos  2312</td>\n",
       "      <td>México D.F.</td>\n",
       "      <td>Central America</td>\n",
       "      <td>05023</td>\n",
       "      <td>Mexico</td>\n",
       "    </tr>\n",
       "    <tr>\n",
       "      <td>401</td>\n",
       "      <td>10649</td>\n",
       "      <td>MAISD</td>\n",
       "      <td>5</td>\n",
       "      <td>2013-08-28</td>\n",
       "      <td>2013-09-25</td>\n",
       "      <td>2013-08-29</td>\n",
       "      <td>3</td>\n",
       "      <td>6.20</td>\n",
       "      <td>Maison Dewey</td>\n",
       "      <td>Rue Joseph-Bens 532</td>\n",
       "      <td>Bruxelles</td>\n",
       "      <td>Western Europe</td>\n",
       "      <td>B-1180</td>\n",
       "      <td>Belgium</td>\n",
       "    </tr>\n",
       "  </tbody>\n",
       "</table>\n",
       "</div>"
      ],
      "text/plain": [
       "        Id CustomerId  EmployeeId   OrderDate RequiredDate ShippedDate  \\\n",
       "415  10663      BONAP           2  2013-09-10   2013-09-24  2013-10-03   \n",
       "117  10365       ANTO           3  2012-11-27   2012-12-25  2012-12-02   \n",
       "401  10649      MAISD           5  2013-08-28   2013-09-25  2013-08-29   \n",
       "\n",
       "     ShipVia  Freight                 ShipName           ShipAddress  \\\n",
       "415        2   113.15                 Bon app'  12, rue des Bouchers   \n",
       "117        2    22.00  Antonio Moreno Taquería       Mataderos  2312   \n",
       "401        3     6.20             Maison Dewey   Rue Joseph-Bens 532   \n",
       "\n",
       "        ShipCity       ShipRegion ShipPostalCode ShipCountry  \n",
       "415    Marseille   Western Europe          13008      France  \n",
       "117  México D.F.  Central America          05023      Mexico  \n",
       "401    Bruxelles   Western Europe         B-1180     Belgium  "
      ]
     },
     "execution_count": 17,
     "metadata": {},
     "output_type": "execute_result"
    }
   ],
   "source": [
    "# Order data\n",
    "cur.execute(\"\"\"SELECT *\n",
    "               FROM 'Order'\n",
    "               \"\"\")\n",
    "order = pd.DataFrame(cur.fetchall())\n",
    "order.columns = [x[0] for x in cur.description]\n",
    "order.sample(3)"
   ]
  },
  {
   "cell_type": "code",
   "execution_count": 18,
   "metadata": {},
   "outputs": [
    {
     "data": {
      "text/html": [
       "<div>\n",
       "<style scoped>\n",
       "    .dataframe tbody tr th:only-of-type {\n",
       "        vertical-align: middle;\n",
       "    }\n",
       "\n",
       "    .dataframe tbody tr th {\n",
       "        vertical-align: top;\n",
       "    }\n",
       "\n",
       "    .dataframe thead th {\n",
       "        text-align: right;\n",
       "    }\n",
       "</style>\n",
       "<table border=\"1\" class=\"dataframe\">\n",
       "  <thead>\n",
       "    <tr style=\"text-align: right;\">\n",
       "      <th></th>\n",
       "      <th>Id</th>\n",
       "      <th>OrderId</th>\n",
       "      <th>ProductId</th>\n",
       "      <th>UnitPrice</th>\n",
       "      <th>Quantity</th>\n",
       "      <th>Discount</th>\n",
       "    </tr>\n",
       "  </thead>\n",
       "  <tbody>\n",
       "    <tr>\n",
       "      <td>55</td>\n",
       "      <td>10268/29</td>\n",
       "      <td>10268</td>\n",
       "      <td>29</td>\n",
       "      <td>99.0</td>\n",
       "      <td>10</td>\n",
       "      <td>0.0</td>\n",
       "    </tr>\n",
       "    <tr>\n",
       "      <td>497</td>\n",
       "      <td>10436/56</td>\n",
       "      <td>10436</td>\n",
       "      <td>56</td>\n",
       "      <td>30.4</td>\n",
       "      <td>40</td>\n",
       "      <td>0.1</td>\n",
       "    </tr>\n",
       "    <tr>\n",
       "      <td>115</td>\n",
       "      <td>10291/13</td>\n",
       "      <td>10291</td>\n",
       "      <td>13</td>\n",
       "      <td>4.8</td>\n",
       "      <td>20</td>\n",
       "      <td>0.1</td>\n",
       "    </tr>\n",
       "  </tbody>\n",
       "</table>\n",
       "</div>"
      ],
      "text/plain": [
       "           Id  OrderId  ProductId  UnitPrice  Quantity  Discount\n",
       "55   10268/29    10268         29       99.0        10       0.0\n",
       "497  10436/56    10436         56       30.4        40       0.1\n",
       "115  10291/13    10291         13        4.8        20       0.1"
      ]
     },
     "execution_count": 18,
     "metadata": {},
     "output_type": "execute_result"
    }
   ],
   "source": [
    "# OrderDetail data\n",
    "cur.execute(\"\"\"SELECT *\n",
    "               FROM OrderDetail\n",
    "               \"\"\")\n",
    "orderDetail = pd.DataFrame(cur.fetchall())\n",
    "orderDetail.columns = [x[0] for x in cur.description]\n",
    "orderDetail.sample(3)"
   ]
  },
  {
   "cell_type": "code",
   "execution_count": 19,
   "metadata": {},
   "outputs": [
    {
     "data": {
      "text/html": [
       "<div>\n",
       "<style scoped>\n",
       "    .dataframe tbody tr th:only-of-type {\n",
       "        vertical-align: middle;\n",
       "    }\n",
       "\n",
       "    .dataframe tbody tr th {\n",
       "        vertical-align: top;\n",
       "    }\n",
       "\n",
       "    .dataframe thead th {\n",
       "        text-align: right;\n",
       "    }\n",
       "</style>\n",
       "<table border=\"1\" class=\"dataframe\">\n",
       "  <thead>\n",
       "    <tr style=\"text-align: right;\">\n",
       "      <th></th>\n",
       "      <th>TerritoryId</th>\n",
       "      <th>RegionId</th>\n",
       "      <th>EmployeeId</th>\n",
       "      <th>Region</th>\n",
       "      <th>LastName</th>\n",
       "      <th>Id</th>\n",
       "      <th>ProductId</th>\n",
       "      <th>ItemTotal</th>\n",
       "      <th>UnitPrice</th>\n",
       "      <th>Quantity</th>\n",
       "    </tr>\n",
       "  </thead>\n",
       "  <tbody>\n",
       "    <tr>\n",
       "      <td>1684</td>\n",
       "      <td>01581</td>\n",
       "      <td>1</td>\n",
       "      <td>2</td>\n",
       "      <td>North America</td>\n",
       "      <td>Fuller</td>\n",
       "      <td>10388</td>\n",
       "      <td>52</td>\n",
       "      <td>112.0</td>\n",
       "      <td>5.6</td>\n",
       "      <td>20</td>\n",
       "    </tr>\n",
       "    <tr>\n",
       "      <td>5697</td>\n",
       "      <td>02903</td>\n",
       "      <td>1</td>\n",
       "      <td>5</td>\n",
       "      <td>British Isles</td>\n",
       "      <td>Buchanan</td>\n",
       "      <td>10711</td>\n",
       "      <td>19</td>\n",
       "      <td>110.4</td>\n",
       "      <td>9.2</td>\n",
       "      <td>12</td>\n",
       "    </tr>\n",
       "    <tr>\n",
       "      <td>3099</td>\n",
       "      <td>27511</td>\n",
       "      <td>1</td>\n",
       "      <td>4</td>\n",
       "      <td>North America</td>\n",
       "      <td>Peacock</td>\n",
       "      <td>10509</td>\n",
       "      <td>28</td>\n",
       "      <td>136.8</td>\n",
       "      <td>45.6</td>\n",
       "      <td>3</td>\n",
       "    </tr>\n",
       "    <tr>\n",
       "      <td>3476</td>\n",
       "      <td>32859</td>\n",
       "      <td>4</td>\n",
       "      <td>3</td>\n",
       "      <td>North America</td>\n",
       "      <td>Leverling</td>\n",
       "      <td>10530</td>\n",
       "      <td>76</td>\n",
       "      <td>900.0</td>\n",
       "      <td>18.0</td>\n",
       "      <td>50</td>\n",
       "    </tr>\n",
       "    <tr>\n",
       "      <td>2967</td>\n",
       "      <td>60179</td>\n",
       "      <td>2</td>\n",
       "      <td>7</td>\n",
       "      <td>British Isles</td>\n",
       "      <td>King</td>\n",
       "      <td>10497</td>\n",
       "      <td>77</td>\n",
       "      <td>260.0</td>\n",
       "      <td>10.4</td>\n",
       "      <td>25</td>\n",
       "    </tr>\n",
       "  </tbody>\n",
       "</table>\n",
       "</div>"
      ],
      "text/plain": [
       "     TerritoryId  RegionId  EmployeeId         Region   LastName     Id  \\\n",
       "1684       01581         1           2  North America     Fuller  10388   \n",
       "5697       02903         1           5  British Isles   Buchanan  10711   \n",
       "3099       27511         1           4  North America    Peacock  10509   \n",
       "3476       32859         4           3  North America  Leverling  10530   \n",
       "2967       60179         2           7  British Isles       King  10497   \n",
       "\n",
       "      ProductId  ItemTotal  UnitPrice  Quantity  \n",
       "1684         52      112.0        5.6        20  \n",
       "5697         19      110.4        9.2        12  \n",
       "3099         28      136.8       45.6         3  \n",
       "3476         76      900.0       18.0        50  \n",
       "2967         77      260.0       10.4        25  "
      ]
     },
     "execution_count": 19,
     "metadata": {},
     "output_type": "execute_result"
    }
   ],
   "source": [
    "# Import all data\n",
    "cur.execute(\"\"\"SELECT Territory.Id as TerritoryId, RegionId, EmployeeTerritory.EmployeeId, Employee.Region, Employee.LastName, 'Order'.Id, OrderDetail.ProductId, UnitPrice*Quantity as ItemTotal, UnitPrice, Quantity\n",
    "               FROM Territory\n",
    "               LEFT JOIN EmployeeTerritory ON Territory.Id = EmployeeTerritory.TerritoryId\n",
    "               JOIN Employee on EmployeeTerritory.EmployeeId = Employee.Id\n",
    "               JOIN 'Order' on Employee.Id = 'Order'.EmployeeId\n",
    "               JOIN OrderDetail on 'Order'.Id = OrderDetail.OrderId\n",
    "               \"\"\")\n",
    "df = pd.DataFrame(cur.fetchall())\n",
    "df.columns = [x[0] for x in cur.description]\n",
    "df.sample(5)"
   ]
  },
  {
   "cell_type": "markdown",
   "metadata": {},
   "source": [
    "## Scrub Data<a id='Scrub Data'></a>\n",
    "\n",
    "The following scrubbing techniques were applied to the original data:\n",
    "- Manage n/a data types\n",
    "- Remove duplicate rows\n",
    "- Manage data types\n",
    "- Remove outliers"
   ]
  },
  {
   "cell_type": "markdown",
   "metadata": {},
   "source": [
    "### Manage n/a data types"
   ]
  },
  {
   "cell_type": "code",
   "execution_count": 20,
   "metadata": {},
   "outputs": [
    {
     "name": "stdout",
     "output_type": "stream",
     "text": [
      "10129\n"
     ]
    },
    {
     "data": {
      "text/plain": [
       "TerritoryId    0\n",
       "RegionId       0\n",
       "EmployeeId     0\n",
       "Region         0\n",
       "LastName       0\n",
       "Id             0\n",
       "ProductId      0\n",
       "ItemTotal      0\n",
       "UnitPrice      0\n",
       "Quantity       0\n",
       "dtype: int64"
      ]
     },
     "execution_count": 20,
     "metadata": {},
     "output_type": "execute_result"
    }
   ],
   "source": [
    "# nans identification\n",
    "print(len(df))\n",
    "df.isna().sum()"
   ]
  },
  {
   "cell_type": "markdown",
   "metadata": {},
   "source": [
    "### Remove duplicate data"
   ]
  },
  {
   "cell_type": "code",
   "execution_count": 21,
   "metadata": {},
   "outputs": [
    {
     "name": "stdout",
     "output_type": "stream",
     "text": [
      "duplicated rows: 0\n"
     ]
    }
   ],
   "source": [
    "# identification of duplicate data\n",
    "print('duplicated rows: ' + str(df.duplicated().sum()))"
   ]
  },
  {
   "cell_type": "code",
   "execution_count": 22,
   "metadata": {},
   "outputs": [
    {
     "name": "stdout",
     "output_type": "stream",
     "text": [
      "duplicated rows: 0\n"
     ]
    }
   ],
   "source": [
    "# code to drop duplicate row if necessary\n",
    "df.drop_duplicates(inplace=True)\n",
    "print('duplicated rows: ' + str(df.duplicated().sum()))"
   ]
  },
  {
   "cell_type": "markdown",
   "metadata": {},
   "source": [
    "### Manage data types\n",
    "\n",
    "First, let's see what the data types for this data set are."
   ]
  },
  {
   "cell_type": "code",
   "execution_count": 23,
   "metadata": {},
   "outputs": [
    {
     "name": "stdout",
     "output_type": "stream",
     "text": [
      "<class 'pandas.core.frame.DataFrame'>\n",
      "Int64Index: 10129 entries, 0 to 10128\n",
      "Data columns (total 10 columns):\n",
      "TerritoryId    10129 non-null object\n",
      "RegionId       10129 non-null int64\n",
      "EmployeeId     10129 non-null int64\n",
      "Region         10129 non-null object\n",
      "LastName       10129 non-null object\n",
      "Id             10129 non-null int64\n",
      "ProductId      10129 non-null int64\n",
      "ItemTotal      10129 non-null float64\n",
      "UnitPrice      10129 non-null float64\n",
      "Quantity       10129 non-null int64\n",
      "dtypes: float64(2), int64(5), object(3)\n",
      "memory usage: 870.5+ KB\n"
     ]
    }
   ],
   "source": [
    "# data type identification\n",
    "df.info()"
   ]
  },
  {
   "cell_type": "code",
   "execution_count": 24,
   "metadata": {},
   "outputs": [
    {
     "data": {
      "text/plain": [
       "array(['02903', '07960', '08837', '10019', '10038', '11747', '14450',\n",
       "       '85014', '85251', '98004', '98052', '98104', '20852', '27403',\n",
       "       '27511', '30346', '31406', '32859', '33607', '03049', '03801',\n",
       "       '48075', '48084', '48304', '55113', '55439', '06897', '19713',\n",
       "       '19428', '44122', '45839', '53404', '01581', '01730', '01833',\n",
       "       '02116', '02139', '02184', '40222', '60179', '60601', '80202',\n",
       "       '80909', '90405', '94025', '94105', '95008', '95054', '95060'],\n",
       "      dtype=object)"
      ]
     },
     "execution_count": 24,
     "metadata": {},
     "output_type": "execute_result"
    }
   ],
   "source": [
    "df.TerritoryId.unique()"
   ]
  },
  {
   "cell_type": "code",
   "execution_count": 25,
   "metadata": {},
   "outputs": [
    {
     "name": "stdout",
     "output_type": "stream",
     "text": [
      "<class 'pandas.core.frame.DataFrame'>\n",
      "Int64Index: 10129 entries, 0 to 10128\n",
      "Data columns (total 10 columns):\n",
      "TerritoryId    10129 non-null int32\n",
      "RegionId       10129 non-null int64\n",
      "EmployeeId     10129 non-null int64\n",
      "Region         10129 non-null object\n",
      "LastName       10129 non-null object\n",
      "Id             10129 non-null int64\n",
      "ProductId      10129 non-null int64\n",
      "ItemTotal      10129 non-null float64\n",
      "UnitPrice      10129 non-null float64\n",
      "Quantity       10129 non-null int64\n",
      "dtypes: float64(2), int32(1), int64(5), object(2)\n",
      "memory usage: 830.9+ KB\n"
     ]
    }
   ],
   "source": [
    "df['TerritoryId'] = df['TerritoryId'].astype(int)\n",
    "df.info()"
   ]
  },
  {
   "cell_type": "markdown",
   "metadata": {},
   "source": [
    "### Remove outliers"
   ]
  },
  {
   "cell_type": "code",
   "execution_count": 26,
   "metadata": {},
   "outputs": [],
   "source": [
    "# outlier identification\n",
    "pass"
   ]
  },
  {
   "cell_type": "code",
   "execution_count": 27,
   "metadata": {},
   "outputs": [],
   "source": [
    "# management of outliers\n",
    "pass"
   ]
  },
  {
   "cell_type": "markdown",
   "metadata": {},
   "source": [
    "## Explore Data<a id='Explore Data'></a>\n",
    "\n",
    "For a quick preview of what we have to work with, we'll use the describe method.\n",
    "\n",
    "- 4.2.3.1 Visualize data\n",
    "- 4.2.3.2 Transform data\n",
    "- 4.2.3.3 Sort data / Prepare data for testing\n",
    "- 4.2.3.4 Develop Feature"
   ]
  },
  {
   "cell_type": "code",
   "execution_count": 28,
   "metadata": {},
   "outputs": [
    {
     "data": {
      "text/html": [
       "<div>\n",
       "<style scoped>\n",
       "    .dataframe tbody tr th:only-of-type {\n",
       "        vertical-align: middle;\n",
       "    }\n",
       "\n",
       "    .dataframe tbody tr th {\n",
       "        vertical-align: top;\n",
       "    }\n",
       "\n",
       "    .dataframe thead th {\n",
       "        text-align: right;\n",
       "    }\n",
       "</style>\n",
       "<table border=\"1\" class=\"dataframe\">\n",
       "  <thead>\n",
       "    <tr style=\"text-align: right;\">\n",
       "      <th></th>\n",
       "      <th>TerritoryId</th>\n",
       "      <th>RegionId</th>\n",
       "      <th>EmployeeId</th>\n",
       "      <th>Id</th>\n",
       "      <th>ProductId</th>\n",
       "      <th>ItemTotal</th>\n",
       "      <th>UnitPrice</th>\n",
       "      <th>Quantity</th>\n",
       "    </tr>\n",
       "  </thead>\n",
       "  <tbody>\n",
       "    <tr>\n",
       "      <td>count</td>\n",
       "      <td>10129.000000</td>\n",
       "      <td>10129.000000</td>\n",
       "      <td>10129.000000</td>\n",
       "      <td>10129.000000</td>\n",
       "      <td>10129.000000</td>\n",
       "      <td>10129.000000</td>\n",
       "      <td>10129.000000</td>\n",
       "      <td>10129.000000</td>\n",
       "    </tr>\n",
       "    <tr>\n",
       "      <td>mean</td>\n",
       "      <td>39445.883503</td>\n",
       "      <td>1.990226</td>\n",
       "      <td>4.884194</td>\n",
       "      <td>10663.762563</td>\n",
       "      <td>40.567874</td>\n",
       "      <td>661.287053</td>\n",
       "      <td>26.519361</td>\n",
       "      <td>24.343963</td>\n",
       "    </tr>\n",
       "    <tr>\n",
       "      <td>std</td>\n",
       "      <td>32149.598006</td>\n",
       "      <td>1.060010</td>\n",
       "      <td>2.468345</td>\n",
       "      <td>240.279728</td>\n",
       "      <td>22.098367</td>\n",
       "      <td>1122.766498</td>\n",
       "      <td>30.607125</td>\n",
       "      <td>19.410689</td>\n",
       "    </tr>\n",
       "    <tr>\n",
       "      <td>min</td>\n",
       "      <td>1581.000000</td>\n",
       "      <td>1.000000</td>\n",
       "      <td>1.000000</td>\n",
       "      <td>10248.000000</td>\n",
       "      <td>1.000000</td>\n",
       "      <td>4.800000</td>\n",
       "      <td>2.000000</td>\n",
       "      <td>1.000000</td>\n",
       "    </tr>\n",
       "    <tr>\n",
       "      <td>25%</td>\n",
       "      <td>10038.000000</td>\n",
       "      <td>1.000000</td>\n",
       "      <td>3.000000</td>\n",
       "      <td>10460.000000</td>\n",
       "      <td>22.000000</td>\n",
       "      <td>156.150000</td>\n",
       "      <td>12.000000</td>\n",
       "      <td>10.000000</td>\n",
       "    </tr>\n",
       "    <tr>\n",
       "      <td>50%</td>\n",
       "      <td>31406.000000</td>\n",
       "      <td>2.000000</td>\n",
       "      <td>5.000000</td>\n",
       "      <td>10659.000000</td>\n",
       "      <td>41.000000</td>\n",
       "      <td>372.000000</td>\n",
       "      <td>18.400000</td>\n",
       "      <td>20.000000</td>\n",
       "    </tr>\n",
       "    <tr>\n",
       "      <td>75%</td>\n",
       "      <td>60179.000000</td>\n",
       "      <td>3.000000</td>\n",
       "      <td>7.000000</td>\n",
       "      <td>10869.000000</td>\n",
       "      <td>60.000000</td>\n",
       "      <td>733.600000</td>\n",
       "      <td>32.800000</td>\n",
       "      <td>30.000000</td>\n",
       "    </tr>\n",
       "    <tr>\n",
       "      <td>max</td>\n",
       "      <td>98104.000000</td>\n",
       "      <td>4.000000</td>\n",
       "      <td>9.000000</td>\n",
       "      <td>11077.000000</td>\n",
       "      <td>77.000000</td>\n",
       "      <td>15810.000000</td>\n",
       "      <td>263.500000</td>\n",
       "      <td>130.000000</td>\n",
       "    </tr>\n",
       "  </tbody>\n",
       "</table>\n",
       "</div>"
      ],
      "text/plain": [
       "        TerritoryId      RegionId    EmployeeId            Id     ProductId  \\\n",
       "count  10129.000000  10129.000000  10129.000000  10129.000000  10129.000000   \n",
       "mean   39445.883503      1.990226      4.884194  10663.762563     40.567874   \n",
       "std    32149.598006      1.060010      2.468345    240.279728     22.098367   \n",
       "min     1581.000000      1.000000      1.000000  10248.000000      1.000000   \n",
       "25%    10038.000000      1.000000      3.000000  10460.000000     22.000000   \n",
       "50%    31406.000000      2.000000      5.000000  10659.000000     41.000000   \n",
       "75%    60179.000000      3.000000      7.000000  10869.000000     60.000000   \n",
       "max    98104.000000      4.000000      9.000000  11077.000000     77.000000   \n",
       "\n",
       "          ItemTotal     UnitPrice      Quantity  \n",
       "count  10129.000000  10129.000000  10129.000000  \n",
       "mean     661.287053     26.519361     24.343963  \n",
       "std     1122.766498     30.607125     19.410689  \n",
       "min        4.800000      2.000000      1.000000  \n",
       "25%      156.150000     12.000000     10.000000  \n",
       "50%      372.000000     18.400000     20.000000  \n",
       "75%      733.600000     32.800000     30.000000  \n",
       "max    15810.000000    263.500000    130.000000  "
      ]
     },
     "execution_count": 28,
     "metadata": {},
     "output_type": "execute_result"
    }
   ],
   "source": [
    "# describe data\n",
    "df.describe()"
   ]
  },
  {
   "cell_type": "markdown",
   "metadata": {},
   "source": [
    "Observations about df.describe()\n",
    "\n",
    "### Visualize data"
   ]
  },
  {
   "cell_type": "code",
   "execution_count": 29,
   "metadata": {},
   "outputs": [
    {
     "data": {
      "image/png": "[encoded data removed]",
      "text/plain": [
       "<Figure size 1440x1440 with 9 Axes>"
      ]
     },
     "metadata": {
      "needs_background": "light"
     },
     "output_type": "display_data"
    }
   ],
   "source": [
    "# visualize data\n",
    "df.hist(figsize=(20,20));"
   ]
  },
  {
   "cell_type": "markdown",
   "metadata": {},
   "source": [
    "### Transform data"
   ]
  },
  {
   "cell_type": "code",
   "execution_count": 30,
   "metadata": {},
   "outputs": [
    {
     "data": {
      "image/png": "[encoded data removed]",
      "text/plain": [
       "<Figure size 432x288 with 1 Axes>"
      ]
     },
     "metadata": {
      "needs_background": "light"
     },
     "output_type": "display_data"
    }
   ],
   "source": [
    "df['ItemTotal_log'] = df['ItemTotal'].map(lambda x: np.log(x))\n",
    "df['Quantity_log'] = df['Quantity'].map(lambda x: np.log(x))\n",
    "df.ItemTotal_log.hist();"
   ]
  },
  {
   "cell_type": "markdown",
   "metadata": {},
   "source": [
    "### Sort data / Prepare data for testing"
   ]
  },
  {
   "cell_type": "code",
   "execution_count": 31,
   "metadata": {},
   "outputs": [],
   "source": [
    "# sort data\n",
    "pass"
   ]
  },
  {
   "cell_type": "markdown",
   "metadata": {},
   "source": [
    "### Develop feature"
   ]
  },
  {
   "cell_type": "code",
   "execution_count": 32,
   "metadata": {},
   "outputs": [],
   "source": [
    "# create features\n",
    "df['Subtotal'] = df['Quantity']*df['ItemTotal']\n",
    "df['Subtotal_log'] = df['Subtotal'].map(lambda x: np.log(x))"
   ]
  },
  {
   "cell_type": "markdown",
   "metadata": {},
   "source": [
    "## Model Data<a id='Model Data'></a>\n",
    "\n",
    "- 1.2.4.1 Check for data normality\n",
    "- 1.2.4.2 Standard deviation and other basic statistics\n",
    "- 1.2.4.3 Statistical test\n",
    "- 1.2.4.4 Verification techniques"
   ]
  },
  {
   "cell_type": "markdown",
   "metadata": {},
   "source": [
    "### Check for data normality"
   ]
  },
  {
   "cell_type": "code",
   "execution_count": 33,
   "metadata": {},
   "outputs": [
    {
     "data": {
      "image/png": "[encoded data removed]",
      "text/plain": [
       "<Figure size 1440x1440 with 12 Axes>"
      ]
     },
     "metadata": {
      "needs_background": "light"
     },
     "output_type": "display_data"
    }
   ],
   "source": [
    "# visual/code for data normality\n",
    "df.hist(figsize=(20,20));"
   ]
  },
  {
   "cell_type": "markdown",
   "metadata": {},
   "source": [
    "### Standard deviation and other basic statistics"
   ]
  },
  {
   "cell_type": "code",
   "execution_count": 34,
   "metadata": {},
   "outputs": [
    {
     "name": "stdout",
     "output_type": "stream",
     "text": [
      "Subtotal Population Measures of Variance\n",
      "numbers of samples: 10129\n",
      "population mean: 8.696767474651232\n",
      "population standard deviation: 1.8958711634900833\n",
      "population variance: 3.5943274685532423\n",
      "skew: 6.585472882294779\n"
     ]
    }
   ],
   "source": [
    "# standard deviation for target variable\n",
    "print('Subtotal Population Measures of Variance')\n",
    "print('numbers of samples: ' + str(len(df['Subtotal_log'])))\n",
    "print('population mean: ' + str(mean(df['Subtotal_log'])))\n",
    "print('population standard deviation: ' + str(std(df['Subtotal_log'])))\n",
    "print('population variance: ' + str(std(df['Subtotal_log'])**2))\n",
    "print('skew: ' + str(df['Subtotal'].skew()))"
   ]
  },
  {
   "cell_type": "markdown",
   "metadata": {},
   "source": [
    "### Statistical test"
   ]
  },
  {
   "cell_type": "code",
   "execution_count": 35,
   "metadata": {},
   "outputs": [],
   "source": [
    "# set up variables for this particular test\n",
    "alpha = 0.05\n",
    "territoryId = [df[df['TerritoryId'] == x] for x in df['TerritoryId'].unique()]\n",
    "len(territoryId)\n",
    "x_bar_pop = df.Subtotal_log.mean()\n",
    "x_bar_sample = [x['Subtotal_log'].mean() for x in territoryId]\n",
    "sigma_pop = df.Subtotal_log.std()\n",
    "sigma_sample = [x['Subtotal_log'].std() for x in territoryId]\n",
    "n_pop = len(df.Subtotal_log)\n",
    "n_sample = [len(x['Subtotal_log']) for x in territoryId]\n",
    "mu_pop = mu_sample = 100\n",
    "dof = [x-1 for x in n_sample]"
   ]
  },
  {
   "cell_type": "code",
   "execution_count": 36,
   "metadata": {},
   "outputs": [
    {
     "data": {
      "text/plain": [
       "0.0010204081632653062"
      ]
     },
     "execution_count": 36,
     "metadata": {},
     "output_type": "execute_result"
    }
   ],
   "source": [
    "# bonferroni correction\n",
    "alpha_adj = alpha/(len(n_sample))\n",
    "alpha_adj"
   ]
  },
  {
   "cell_type": "code",
   "execution_count": 37,
   "metadata": {},
   "outputs": [],
   "source": [
    "# test\n",
    "x_bar = np.array([x_bar_pop - i for i in x_bar_sample])\n",
    "sigma = np.array([i**2 for i in sigma_sample])\n",
    "sigma_per_sample = sigma / n_sample\n",
    "t = ((x_bar) - (mu_pop-mu_sample)) / np.sqrt((sigma_pop**2/n_pop) + (sigma_per_sample))\n",
    "dof_t = pd.DataFrame()\n",
    "dof_t['dof'] = dof\n",
    "dof_t['t'] = t"
   ]
  },
  {
   "cell_type": "code",
   "execution_count": 38,
   "metadata": {},
   "outputs": [
    {
     "data": {
      "text/plain": [
       "array([0.85481451, 0.85481451, 0.85481451, 0.85481451, 0.85481451,\n",
       "       0.85481451, 0.85481451, 0.00794011, 0.00794011, 0.00794011,\n",
       "       0.00794011, 0.00794011, 0.20689339, 0.20689339, 0.20689339,\n",
       "       0.72310861, 0.72310861, 0.72310861, 0.72310861, 0.72424348,\n",
       "       0.72424348, 0.72424348, 0.72424348, 0.72424348, 0.72424348,\n",
       "       0.72424348, 0.00278457, 0.00278457, 0.23242869, 0.23242869,\n",
       "       0.23242869, 0.23242869, 0.63105761, 0.63105761, 0.63105761,\n",
       "       0.63105761, 0.63105761, 0.63105761, 0.63105761, 0.88139477,\n",
       "       0.88139477, 0.88139477, 0.88139477, 0.88139477, 0.88139477,\n",
       "       0.88139477, 0.88139477, 0.88139477, 0.88139477])"
      ]
     },
     "execution_count": 38,
     "metadata": {},
     "output_type": "execute_result"
    }
   ],
   "source": [
    "# result\n",
    "p_value = 1-stats.t.cdf(dof_t['t'], dof_t['dof'])\n",
    "p_value"
   ]
  },
  {
   "cell_type": "code",
   "execution_count": 39,
   "metadata": {},
   "outputs": [
    {
     "name": "stdout",
     "output_type": "stream",
     "text": [
      "0: Fail to reject the null hypothesis\n",
      "1: Fail to reject the null hypothesis\n",
      "2: Fail to reject the null hypothesis\n",
      "3: Fail to reject the null hypothesis\n",
      "4: Fail to reject the null hypothesis\n",
      "5: Fail to reject the null hypothesis\n",
      "6: Fail to reject the null hypothesis\n",
      "7: Reject the null hypothesis\n",
      "8: Reject the null hypothesis\n",
      "9: Reject the null hypothesis\n",
      "10: Reject the null hypothesis\n",
      "11: Reject the null hypothesis\n",
      "12: Fail to reject the null hypothesis\n",
      "13: Fail to reject the null hypothesis\n",
      "14: Fail to reject the null hypothesis\n",
      "15: Fail to reject the null hypothesis\n",
      "16: Fail to reject the null hypothesis\n",
      "17: Fail to reject the null hypothesis\n",
      "18: Fail to reject the null hypothesis\n",
      "19: Fail to reject the null hypothesis\n",
      "20: Fail to reject the null hypothesis\n",
      "21: Fail to reject the null hypothesis\n",
      "22: Fail to reject the null hypothesis\n",
      "23: Fail to reject the null hypothesis\n",
      "24: Fail to reject the null hypothesis\n",
      "25: Fail to reject the null hypothesis\n",
      "26: Reject the null hypothesis\n",
      "27: Reject the null hypothesis\n",
      "28: Fail to reject the null hypothesis\n",
      "29: Fail to reject the null hypothesis\n",
      "30: Fail to reject the null hypothesis\n",
      "31: Fail to reject the null hypothesis\n",
      "32: Fail to reject the null hypothesis\n",
      "33: Fail to reject the null hypothesis\n",
      "34: Fail to reject the null hypothesis\n",
      "35: Fail to reject the null hypothesis\n",
      "36: Fail to reject the null hypothesis\n",
      "37: Fail to reject the null hypothesis\n",
      "38: Fail to reject the null hypothesis\n",
      "39: Fail to reject the null hypothesis\n",
      "40: Fail to reject the null hypothesis\n",
      "41: Fail to reject the null hypothesis\n",
      "42: Fail to reject the null hypothesis\n",
      "43: Fail to reject the null hypothesis\n",
      "44: Fail to reject the null hypothesis\n",
      "45: Fail to reject the null hypothesis\n",
      "46: Fail to reject the null hypothesis\n",
      "47: Fail to reject the null hypothesis\n",
      "48: Fail to reject the null hypothesis\n"
     ]
    }
   ],
   "source": [
    "# evaluation of result\n",
    "for x,y in enumerate(p_value):\n",
    "    if alpha > y:\n",
    "        print(str(x) + ': Reject the null hypothesis')\n",
    "    else:\n",
    "        print(str(x) + ': Fail to reject the null hypothesis')"
   ]
  },
  {
   "cell_type": "code",
   "execution_count": 40,
   "metadata": {},
   "outputs": [
    {
     "name": "stdout",
     "output_type": "stream",
     "text": [
      "0: Fail to reject the null hypothesis\n",
      "1: Fail to reject the null hypothesis\n",
      "2: Fail to reject the null hypothesis\n",
      "3: Fail to reject the null hypothesis\n",
      "4: Fail to reject the null hypothesis\n",
      "5: Fail to reject the null hypothesis\n",
      "6: Fail to reject the null hypothesis\n",
      "7: Fail to reject the null hypothesis\n",
      "8: Fail to reject the null hypothesis\n",
      "9: Fail to reject the null hypothesis\n",
      "10: Fail to reject the null hypothesis\n",
      "11: Fail to reject the null hypothesis\n",
      "12: Fail to reject the null hypothesis\n",
      "13: Fail to reject the null hypothesis\n",
      "14: Fail to reject the null hypothesis\n",
      "15: Fail to reject the null hypothesis\n",
      "16: Fail to reject the null hypothesis\n",
      "17: Fail to reject the null hypothesis\n",
      "18: Fail to reject the null hypothesis\n",
      "19: Fail to reject the null hypothesis\n",
      "20: Fail to reject the null hypothesis\n",
      "21: Fail to reject the null hypothesis\n",
      "22: Fail to reject the null hypothesis\n",
      "23: Fail to reject the null hypothesis\n",
      "24: Fail to reject the null hypothesis\n",
      "25: Fail to reject the null hypothesis\n",
      "26: Fail to reject the null hypothesis\n",
      "27: Fail to reject the null hypothesis\n",
      "28: Fail to reject the null hypothesis\n",
      "29: Fail to reject the null hypothesis\n",
      "30: Fail to reject the null hypothesis\n",
      "31: Fail to reject the null hypothesis\n",
      "32: Fail to reject the null hypothesis\n",
      "33: Fail to reject the null hypothesis\n",
      "34: Fail to reject the null hypothesis\n",
      "35: Fail to reject the null hypothesis\n",
      "36: Fail to reject the null hypothesis\n",
      "37: Fail to reject the null hypothesis\n",
      "38: Fail to reject the null hypothesis\n",
      "39: Fail to reject the null hypothesis\n",
      "40: Fail to reject the null hypothesis\n",
      "41: Fail to reject the null hypothesis\n",
      "42: Fail to reject the null hypothesis\n",
      "43: Fail to reject the null hypothesis\n",
      "44: Fail to reject the null hypothesis\n",
      "45: Fail to reject the null hypothesis\n",
      "46: Fail to reject the null hypothesis\n",
      "47: Fail to reject the null hypothesis\n",
      "48: Fail to reject the null hypothesis\n"
     ]
    }
   ],
   "source": [
    "# evaluation of result with bonferroni correction\n",
    "for x,y in enumerate(p_value):\n",
    "    if alpha_adj > y:\n",
    "        print(str(x) + ': Reject the null hypothesis')\n",
    "    else:\n",
    "        print(str(x) + ': Fail to reject the null hypothesis')"
   ]
  },
  {
   "cell_type": "markdown",
   "metadata": {},
   "source": [
    "At first it looked as if some territories outperformed others, after correcting for the number of comparisions being run, we were unable to reject the null hypothesis that some territories were different from each other.\n",
    "\n",
    "### Verification techniques\n",
    "#### Nonparametric testing and confirmatory testing<a id='Nonparametric testing'></a>\n",
    "##### Nonparametric testing"
   ]
  },
  {
   "cell_type": "code",
   "execution_count": 41,
   "metadata": {},
   "outputs": [],
   "source": [
    "# non-parametric testing variables\n",
    "pass"
   ]
  },
  {
   "cell_type": "code",
   "execution_count": 42,
   "metadata": {},
   "outputs": [],
   "source": [
    "# non-parametric test\n",
    "pass"
   ]
  },
  {
   "cell_type": "code",
   "execution_count": 43,
   "metadata": {},
   "outputs": [],
   "source": [
    "# result\n",
    "pass"
   ]
  },
  {
   "cell_type": "code",
   "execution_count": 44,
   "metadata": {},
   "outputs": [],
   "source": [
    "# evaluation of results\n",
    "pass"
   ]
  },
  {
   "cell_type": "markdown",
   "metadata": {},
   "source": [
    "##### Confirmatory testing"
   ]
  },
  {
   "cell_type": "code",
   "execution_count": 45,
   "metadata": {},
   "outputs": [],
   "source": [
    "# confirmatory test \n",
    "pass"
   ]
  },
  {
   "cell_type": "markdown",
   "metadata": {},
   "source": [
    "#### Effect size<a id='Effect size'></a>\n",
    "Cohen's D"
   ]
  },
  {
   "cell_type": "code",
   "execution_count": 46,
   "metadata": {},
   "outputs": [],
   "source": [
    "# effect size variables\n",
    "pass"
   ]
  },
  {
   "cell_type": "code",
   "execution_count": 47,
   "metadata": {},
   "outputs": [],
   "source": [
    "# effect size test\n",
    "def cohen_d_one_samp(x, mu0):\n",
    "    mu = mean(x)\n",
    "    sample_std = std(x, ddof=1)\n",
    "    return (mu - mu0) / sample_std\n",
    "def cohen_d_two_samp(x,y):\n",
    "    nx = len(x)\n",
    "    ny = len(y)\n",
    "    dof = nx + ny - 2\n",
    "    return (mean(x) - mean(y)) / sqrt(((nx-1)*std(x, ddof=1) ** 2 + (ny-1)*std(y, ddof=1) ** 2) / dof)\n",
    "# effect_size = cohen_d_two_samp('', '')\n",
    "# effect_size"
   ]
  },
  {
   "cell_type": "markdown",
   "metadata": {},
   "source": [
    "Obeservations about effect size\n",
    "\n",
    "#### Error<a id='Error'></a>"
   ]
  },
  {
   "cell_type": "code",
   "execution_count": 48,
   "metadata": {},
   "outputs": [],
   "source": [
    "# power variables\n",
    "pass"
   ]
  },
  {
   "cell_type": "code",
   "execution_count": 49,
   "metadata": {},
   "outputs": [],
   "source": [
    "# power test"
   ]
  },
  {
   "cell_type": "code",
   "execution_count": 50,
   "metadata": {},
   "outputs": [],
   "source": [
    "# evaluation of power test"
   ]
  },
  {
   "cell_type": "markdown",
   "metadata": {},
   "source": [
    "Observations about power test"
   ]
  },
  {
   "cell_type": "markdown",
   "metadata": {},
   "source": [
    "### Cross validatation"
   ]
  },
  {
   "cell_type": "code",
   "execution_count": 51,
   "metadata": {},
   "outputs": [],
   "source": [
    "# test train split or resampling for testing preformed above\n",
    "pass"
   ]
  },
  {
   "cell_type": "markdown",
   "metadata": {},
   "source": [
    "## Interpret Model<a id='Interpret Model'></a>"
   ]
  },
  {
   "cell_type": "markdown",
   "metadata": {},
   "source": [
    "### Extension of acquired knowledge<a id='Extension'></a>\n",
    "#### Deeper question\n",
    "Even if regions are not out performing each other, are employees outperforming each other?\n",
    "#### Hypothesis for deeper question"
   ]
  },
  {
   "cell_type": "code",
   "execution_count": 52,
   "metadata": {},
   "outputs": [],
   "source": [
    "# deeper understanding variables\n",
    "alpha = 0.05"
   ]
  },
  {
   "cell_type": "code",
   "execution_count": 53,
   "metadata": {},
   "outputs": [],
   "source": [
    "# deeper understanding test for ItemTotal\n",
    "item_total_anova = sm.stats.anova_lm(ols('ItemTotal_log ~ LastName', data=df).fit())"
   ]
  },
  {
   "cell_type": "code",
   "execution_count": 54,
   "metadata": {},
   "outputs": [
    {
     "data": {
      "text/plain": [
       "9.310479291645295e-11"
      ]
     },
     "execution_count": 54,
     "metadata": {},
     "output_type": "execute_result"
    }
   ],
   "source": [
    "# deeper understanding result for ItemTotal\n",
    "pvalue = item_total_anova.loc['LastName', 'PR(>F)']\n",
    "pvalue"
   ]
  },
  {
   "cell_type": "code",
   "execution_count": 55,
   "metadata": {},
   "outputs": [
    {
     "name": "stdout",
     "output_type": "stream",
     "text": [
      "Reject the null hypothesis\n"
     ]
    }
   ],
   "source": [
    "# deeper understanding evaluation of result\n",
    "if alpha > pvalue:\n",
    "    print('Reject the null hypothesis')\n",
    "else:\n",
    "    print('Fail to reject the null hypothesis')"
   ]
  },
  {
   "cell_type": "code",
   "execution_count": 56,
   "metadata": {},
   "outputs": [],
   "source": [
    "# deeper understanding test for Quantity\n",
    "quantity_anova = sm.stats.anova_lm(ols('Quantity_log ~ LastName', data=df).fit())"
   ]
  },
  {
   "cell_type": "code",
   "execution_count": 57,
   "metadata": {},
   "outputs": [
    {
     "data": {
      "text/plain": [
       "1.0608570556262662e-13"
      ]
     },
     "execution_count": 57,
     "metadata": {},
     "output_type": "execute_result"
    }
   ],
   "source": [
    "# deeper understanding result for Quantity\n",
    "pvalue = quantity_anova.loc['LastName', 'PR(>F)']\n",
    "pvalue"
   ]
  },
  {
   "cell_type": "code",
   "execution_count": 58,
   "metadata": {},
   "outputs": [
    {
     "name": "stdout",
     "output_type": "stream",
     "text": [
      "Reject the null hypothesis\n"
     ]
    }
   ],
   "source": [
    "# deeper understanding evaluation of result\n",
    "if alpha > pvalue:\n",
    "    print('Reject the null hypothesis')\n",
    "else:\n",
    "    print('Fail to reject the null hypothesis')"
   ]
  },
  {
   "cell_type": "code",
   "execution_count": 59,
   "metadata": {},
   "outputs": [],
   "source": [
    "subtotal_anova = sm.stats.anova_lm(ols('Subtotal_log ~ LastName', data=df).fit())"
   ]
  },
  {
   "cell_type": "code",
   "execution_count": 60,
   "metadata": {},
   "outputs": [
    {
     "data": {
      "text/plain": [
       "1.9255329119372535e-13"
      ]
     },
     "execution_count": 60,
     "metadata": {},
     "output_type": "execute_result"
    }
   ],
   "source": [
    "pvalue = subtotal_anova.loc['LastName', 'PR(>F)']\n",
    "pvalue"
   ]
  },
  {
   "cell_type": "code",
   "execution_count": 61,
   "metadata": {},
   "outputs": [
    {
     "name": "stdout",
     "output_type": "stream",
     "text": [
      "Reject the null hypothesis\n"
     ]
    }
   ],
   "source": [
    "# deeper understanding evaluation of result\n",
    "if alpha > pvalue:\n",
    "    print('Reject the null hypothesis')\n",
    "else:\n",
    "    print('Fail to reject the null hypothesis')"
   ]
  },
  {
   "cell_type": "code",
   "execution_count": 62,
   "metadata": {},
   "outputs": [],
   "source": [
    "# nonparametric variable set up for deeper understanding ItemTotal\n",
    "unique_names = df['LastName'].unique()\n",
    "by_unique_names = [df[df['LastName']==i] for i in unique_names]"
   ]
  },
  {
   "cell_type": "code",
   "execution_count": 63,
   "metadata": {},
   "outputs": [
    {
     "data": {
      "text/plain": [
       "(49.67416893138429, 4.720282796577946e-08)"
      ]
     },
     "execution_count": 63,
     "metadata": {},
     "output_type": "execute_result"
    }
   ],
   "source": [
    "# nonparametric testing for deeper understanding ItemTotal\n",
    "kruskal_stat, pvalue = stats.kruskal(by_unique_names[0]['ItemTotal_log'], by_unique_names[1]['ItemTotal_log'], by_unique_names[2]['ItemTotal_log'],\n",
    "                                     by_unique_names[3]['ItemTotal_log'], by_unique_names[4]['ItemTotal_log'], by_unique_names[5]['ItemTotal_log'], \n",
    "                                     by_unique_names[6]['ItemTotal_log'], by_unique_names[7]['ItemTotal_log'], by_unique_names[8]['ItemTotal_log'])\n",
    "kruskal_stat, pvalue"
   ]
  },
  {
   "cell_type": "code",
   "execution_count": 64,
   "metadata": {},
   "outputs": [
    {
     "name": "stdout",
     "output_type": "stream",
     "text": [
      "Reject the null hypothesis\n"
     ]
    }
   ],
   "source": [
    "if alpha > pvalue:\n",
    "    print('Reject the null hypothesis')\n",
    "else:\n",
    "    print('Fail to reject the null hypothesis')"
   ]
  },
  {
   "cell_type": "code",
   "execution_count": 65,
   "metadata": {},
   "outputs": [
    {
     "data": {
      "text/plain": [
       "(67.55255875280854, 1.5064090592328184e-11)"
      ]
     },
     "execution_count": 65,
     "metadata": {},
     "output_type": "execute_result"
    }
   ],
   "source": [
    "# nonparametric testing for deeper understanding Quantity\n",
    "kruskal_stat, pvalue = stats.kruskal(by_unique_names[0]['Quantity_log'], by_unique_names[1]['Quantity_log'], by_unique_names[2]['Quantity_log'],\n",
    "                                     by_unique_names[3]['Quantity_log'], by_unique_names[4]['Quantity_log'], by_unique_names[5]['Quantity_log'], \n",
    "                                     by_unique_names[6]['Quantity_log'], by_unique_names[7]['Quantity_log'], by_unique_names[8]['Quantity_log'])\n",
    "kruskal_stat, pvalue"
   ]
  },
  {
   "cell_type": "code",
   "execution_count": 66,
   "metadata": {},
   "outputs": [
    {
     "name": "stdout",
     "output_type": "stream",
     "text": [
      "Reject the null hypothesis\n"
     ]
    }
   ],
   "source": [
    "if alpha > pvalue:\n",
    "    print('Reject the null hypothesis')\n",
    "else:\n",
    "    print('Fail to reject the null hypothesis')"
   ]
  },
  {
   "cell_type": "code",
   "execution_count": 67,
   "metadata": {},
   "outputs": [
    {
     "data": {
      "text/plain": [
       "(59.28734109448087, 6.429895411910879e-10)"
      ]
     },
     "execution_count": 67,
     "metadata": {},
     "output_type": "execute_result"
    }
   ],
   "source": [
    "kruskal_stat, pvalue = stats.kruskal(by_unique_names[0]['Subtotal_log'], by_unique_names[1]['Subtotal_log'], by_unique_names[2]['Subtotal_log'],\n",
    "                                     by_unique_names[3]['Subtotal_log'], by_unique_names[4]['Subtotal_log'], by_unique_names[5]['Subtotal_log'], \n",
    "                                     by_unique_names[6]['Subtotal_log'], by_unique_names[7]['Subtotal_log'], by_unique_names[8]['Subtotal_log'])\n",
    "kruskal_stat, pvalue"
   ]
  },
  {
   "cell_type": "code",
   "execution_count": 68,
   "metadata": {},
   "outputs": [
    {
     "name": "stdout",
     "output_type": "stream",
     "text": [
      "Reject the null hypothesis\n"
     ]
    }
   ],
   "source": [
    "if alpha > pvalue:\n",
    "    print('Reject the null hypothesis')\n",
    "else:\n",
    "    print('Fail to reject the null hypothesis')"
   ]
  },
  {
   "cell_type": "code",
   "execution_count": 69,
   "metadata": {},
   "outputs": [
    {
     "data": {
      "text/html": [
       "<table class=\"simpletable\">\n",
       "<caption>Multiple Comparison of Means - Tukey HSD, FWER=0.05</caption>\n",
       "<tr>\n",
       "   <th>group1</th>    <th>group2</th>   <th>meandiff</th>  <th>p-adj</th>  <th>lower</th>   <th>upper</th>  <th>reject</th>\n",
       "</tr>\n",
       "<tr>\n",
       "  <td>Buchanan</td>  <td>Callahan</td>   <td>-0.1117</td> <td>0.5029</td> <td>-0.2802</td> <td>0.0568</td>   <td>False</td>\n",
       "</tr>\n",
       "<tr>\n",
       "  <td>Buchanan</td>   <td>Davolio</td>   <td>-0.2224</td> <td>0.0067</td> <td>-0.4088</td> <td>-0.036</td>   <td>True</td> \n",
       "</tr>\n",
       "<tr>\n",
       "  <td>Buchanan</td>  <td>Dodsworth</td>  <td>0.0101</td>    <td>0.9</td>  <td>-0.1722</td> <td>0.1925</td>   <td>False</td>\n",
       "</tr>\n",
       "<tr>\n",
       "  <td>Buchanan</td>   <td>Fuller</td>    <td>-0.0197</td>   <td>0.9</td>  <td>-0.1733</td> <td>0.1339</td>   <td>False</td>\n",
       "</tr>\n",
       "<tr>\n",
       "  <td>Buchanan</td>    <td>King</td>     <td>0.0389</td>    <td>0.9</td>  <td>-0.1137</td> <td>0.1914</td>   <td>False</td>\n",
       "</tr>\n",
       "<tr>\n",
       "  <td>Buchanan</td>  <td>Leverling</td>  <td>-0.022</td>    <td>0.9</td>  <td>-0.1833</td> <td>0.1393</td>   <td>False</td>\n",
       "</tr>\n",
       "<tr>\n",
       "  <td>Buchanan</td>   <td>Peacock</td>   <td>-0.094</td>  <td>0.6577</td> <td>-0.2559</td> <td>0.0679</td>   <td>False</td>\n",
       "</tr>\n",
       "<tr>\n",
       "  <td>Buchanan</td>   <td>Suyama</td>    <td>-0.265</td>   <td>0.001</td> <td>-0.4422</td> <td>-0.0879</td>  <td>True</td> \n",
       "</tr>\n",
       "<tr>\n",
       "  <td>Callahan</td>   <td>Davolio</td>   <td>-0.1107</td> <td>0.5741</td> <td>-0.2878</td> <td>0.0664</td>   <td>False</td>\n",
       "</tr>\n",
       "<tr>\n",
       "  <td>Callahan</td>  <td>Dodsworth</td>  <td>0.1218</td>  <td>0.4175</td> <td>-0.051</td>  <td>0.2947</td>   <td>False</td>\n",
       "</tr>\n",
       "<tr>\n",
       "  <td>Callahan</td>   <td>Fuller</td>     <td>0.092</td>  <td>0.5327</td> <td>-0.0502</td> <td>0.2342</td>   <td>False</td>\n",
       "</tr>\n",
       "<tr>\n",
       "  <td>Callahan</td>    <td>King</td>     <td>0.1506</td>  <td>0.0261</td> <td>0.0095</td>  <td>0.2916</td>   <td>True</td> \n",
       "</tr>\n",
       "<tr>\n",
       "  <td>Callahan</td>  <td>Leverling</td>  <td>0.0897</td>  <td>0.6281</td> <td>-0.0608</td> <td>0.2402</td>   <td>False</td>\n",
       "</tr>\n",
       "<tr>\n",
       "  <td>Callahan</td>   <td>Peacock</td>   <td>0.0177</td>    <td>0.9</td>  <td>-0.1334</td> <td>0.1688</td>   <td>False</td>\n",
       "</tr>\n",
       "<tr>\n",
       "  <td>Callahan</td>   <td>Suyama</td>    <td>-0.1533</td> <td>0.1033</td> <td>-0.3207</td>  <td>0.014</td>   <td>False</td>\n",
       "</tr>\n",
       "<tr>\n",
       "   <td>Davolio</td>  <td>Dodsworth</td>  <td>0.2325</td>  <td>0.0048</td> <td>0.0422</td>  <td>0.4229</td>   <td>True</td> \n",
       "</tr>\n",
       "<tr>\n",
       "   <td>Davolio</td>   <td>Fuller</td>    <td>0.2027</td>  <td>0.0037</td> <td>0.0397</td>  <td>0.3657</td>   <td>True</td> \n",
       "</tr>\n",
       "<tr>\n",
       "   <td>Davolio</td>    <td>King</td>     <td>0.2613</td>   <td>0.001</td> <td>0.0992</td>  <td>0.4233</td>   <td>True</td> \n",
       "</tr>\n",
       "<tr>\n",
       "   <td>Davolio</td>  <td>Leverling</td>  <td>0.2004</td>   <td>0.008</td> <td>0.0302</td>  <td>0.3707</td>   <td>True</td> \n",
       "</tr>\n",
       "<tr>\n",
       "   <td>Davolio</td>   <td>Peacock</td>   <td>0.1284</td>  <td>0.3228</td> <td>-0.0424</td> <td>0.2992</td>   <td>False</td>\n",
       "</tr>\n",
       "<tr>\n",
       "   <td>Davolio</td>   <td>Suyama</td>    <td>-0.0426</td>   <td>0.9</td>  <td>-0.228</td>  <td>0.1427</td>   <td>False</td>\n",
       "</tr>\n",
       "<tr>\n",
       "  <td>Dodsworth</td>  <td>Fuller</td>    <td>-0.0298</td>   <td>0.9</td>  <td>-0.1882</td> <td>0.1286</td>   <td>False</td>\n",
       "</tr>\n",
       "<tr>\n",
       "  <td>Dodsworth</td>   <td>King</td>     <td>0.0287</td>    <td>0.9</td>  <td>-0.1286</td> <td>0.1861</td>   <td>False</td>\n",
       "</tr>\n",
       "<tr>\n",
       "  <td>Dodsworth</td> <td>Leverling</td>  <td>-0.0321</td>   <td>0.9</td>  <td>-0.1979</td> <td>0.1338</td>   <td>False</td>\n",
       "</tr>\n",
       "<tr>\n",
       "  <td>Dodsworth</td>  <td>Peacock</td>   <td>-0.1041</td> <td>0.5728</td> <td>-0.2706</td> <td>0.0623</td>   <td>False</td>\n",
       "</tr>\n",
       "<tr>\n",
       "  <td>Dodsworth</td>  <td>Suyama</td>    <td>-0.2752</td>  <td>0.001</td> <td>-0.4564</td> <td>-0.0939</td>  <td>True</td> \n",
       "</tr>\n",
       "<tr>\n",
       "   <td>Fuller</td>     <td>King</td>     <td>0.0586</td>  <td>0.8537</td> <td>-0.0643</td> <td>0.1815</td>   <td>False</td>\n",
       "</tr>\n",
       "<tr>\n",
       "   <td>Fuller</td>   <td>Leverling</td>  <td>-0.0023</td>   <td>0.9</td>  <td>-0.1359</td> <td>0.1313</td>   <td>False</td>\n",
       "</tr>\n",
       "<tr>\n",
       "   <td>Fuller</td>    <td>Peacock</td>   <td>-0.0743</td> <td>0.7091</td> <td>-0.2086</td>  <td>0.06</td>    <td>False</td>\n",
       "</tr>\n",
       "<tr>\n",
       "   <td>Fuller</td>    <td>Suyama</td>    <td>-0.2453</td>  <td>0.001</td> <td>-0.3977</td> <td>-0.093</td>   <td>True</td> \n",
       "</tr>\n",
       "<tr>\n",
       "    <td>King</td>    <td>Leverling</td>  <td>-0.0608</td> <td>0.8856</td> <td>-0.1932</td> <td>0.0716</td>   <td>False</td>\n",
       "</tr>\n",
       "<tr>\n",
       "    <td>King</td>     <td>Peacock</td>   <td>-0.1329</td> <td>0.0509</td> <td>-0.266</td>  <td>0.0002</td>   <td>False</td>\n",
       "</tr>\n",
       "<tr>\n",
       "    <td>King</td>     <td>Suyama</td>    <td>-0.3039</td>  <td>0.001</td> <td>-0.4552</td> <td>-0.1526</td>  <td>True</td> \n",
       "</tr>\n",
       "<tr>\n",
       "  <td>Leverling</td>  <td>Peacock</td>   <td>-0.072</td>  <td>0.8026</td> <td>-0.2151</td>  <td>0.071</td>   <td>False</td>\n",
       "</tr>\n",
       "<tr>\n",
       "  <td>Leverling</td>  <td>Suyama</td>    <td>-0.2431</td>  <td>0.001</td> <td>-0.4031</td> <td>-0.083</td>   <td>True</td> \n",
       "</tr>\n",
       "<tr>\n",
       "   <td>Peacock</td>   <td>Suyama</td>    <td>-0.171</td>  <td>0.0269</td> <td>-0.3317</td> <td>-0.0104</td>  <td>True</td> \n",
       "</tr>\n",
       "</table>"
      ],
      "text/plain": [
       "<class 'statsmodels.iolib.table.SimpleTable'>"
      ]
     },
     "execution_count": 69,
     "metadata": {},
     "output_type": "execute_result"
    }
   ],
   "source": [
    "from statsmodels.stats.multicomp import pairwise_tukeyhsd\n",
    "tukey_results = pairwise_tukeyhsd(df['ItemTotal_log'], df['LastName'])\n",
    "tukey_results.summary()"
   ]
  },
  {
   "cell_type": "code",
   "execution_count": 70,
   "metadata": {},
   "outputs": [
    {
     "name": "stderr",
     "output_type": "stream",
     "text": [
      "C:\\Users\\eannefawcett\\Anaconda3\\envs\\learn-env\\lib\\site-packages\\ipykernel_launcher.py:8: UserWarning: Matplotlib is currently using module://ipykernel.pylab.backend_inline, which is a non-GUI backend, so cannot show the figure.\n",
      "  \n"
     ]
    },
    {
     "data": {
      "image/png": "[encoded data removed]",
      "text/plain": [
       "<Figure size 720x432 with 1 Axes>"
      ]
     },
     "metadata": {
      "needs_background": "light"
     },
     "output_type": "display_data"
    }
   ],
   "source": [
    "# create figure\n",
    "fig07 = plt.figure(figsize=(5,4))\n",
    "ax = fig07.add_subplot(111)\n",
    "\n",
    "# run tukeys\n",
    "from statsmodels.stats.multicomp import pairwise_tukeyhsd\n",
    "tukey_results = pairwise_tukeyhsd(df['ItemTotal'], df['LastName'])\n",
    "tukey_plot = tukey_results.plot_simultaneous(ax=ax).show() \n",
    "\n",
    "# format plot\n",
    "ax.axes.set_title('Multiple Comparisions Between Employees')\n",
    "ax.axes.set_ylabel('Employee')\n",
    "ax.axes.set_xlabel('Item Total');"
   ]
  },
  {
   "cell_type": "code",
   "execution_count": 71,
   "metadata": {},
   "outputs": [
    {
     "data": {
      "text/html": [
       "<table class=\"simpletable\">\n",
       "<caption>Multiple Comparison of Means - Tukey HSD, FWER=0.05</caption>\n",
       "<tr>\n",
       "   <th>group1</th>    <th>group2</th>   <th>meandiff</th>  <th>p-adj</th>  <th>lower</th>   <th>upper</th>  <th>reject</th>\n",
       "</tr>\n",
       "<tr>\n",
       "  <td>Buchanan</td>  <td>Callahan</td>   <td>-0.1352</td>  <td>0.021</td> <td>-0.2594</td> <td>-0.011</td>   <td>True</td> \n",
       "</tr>\n",
       "<tr>\n",
       "  <td>Buchanan</td>   <td>Davolio</td>   <td>-0.2747</td>  <td>0.001</td> <td>-0.4121</td> <td>-0.1373</td>  <td>True</td> \n",
       "</tr>\n",
       "<tr>\n",
       "  <td>Buchanan</td>  <td>Dodsworth</td>  <td>-0.0662</td> <td>0.8238</td> <td>-0.2006</td> <td>0.0682</td>   <td>False</td>\n",
       "</tr>\n",
       "<tr>\n",
       "  <td>Buchanan</td>   <td>Fuller</td>    <td>-0.1051</td> <td>0.0933</td> <td>-0.2183</td> <td>0.0081</td>   <td>False</td>\n",
       "</tr>\n",
       "<tr>\n",
       "  <td>Buchanan</td>    <td>King</td>     <td>-0.0323</td>   <td>0.9</td>  <td>-0.1447</td> <td>0.0802</td>   <td>False</td>\n",
       "</tr>\n",
       "<tr>\n",
       "  <td>Buchanan</td>  <td>Leverling</td>  <td>-0.0851</td>  <td>0.394</td> <td>-0.204</td>  <td>0.0338</td>   <td>False</td>\n",
       "</tr>\n",
       "<tr>\n",
       "  <td>Buchanan</td>   <td>Peacock</td>   <td>-0.1519</td> <td>0.0026</td> <td>-0.2712</td> <td>-0.0326</td>  <td>True</td> \n",
       "</tr>\n",
       "<tr>\n",
       "  <td>Buchanan</td>   <td>Suyama</td>    <td>-0.2359</td>  <td>0.001</td> <td>-0.3665</td> <td>-0.1054</td>  <td>True</td> \n",
       "</tr>\n",
       "<tr>\n",
       "  <td>Callahan</td>   <td>Davolio</td>   <td>-0.1395</td> <td>0.0257</td> <td>-0.2701</td> <td>-0.009</td>   <td>True</td> \n",
       "</tr>\n",
       "<tr>\n",
       "  <td>Callahan</td>  <td>Dodsworth</td>   <td>0.069</td>  <td>0.7308</td> <td>-0.0584</td> <td>0.1964</td>   <td>False</td>\n",
       "</tr>\n",
       "<tr>\n",
       "  <td>Callahan</td>   <td>Fuller</td>    <td>0.0301</td>    <td>0.9</td>  <td>-0.0747</td> <td>0.1349</td>   <td>False</td>\n",
       "</tr>\n",
       "<tr>\n",
       "  <td>Callahan</td>    <td>King</td>     <td>0.1029</td>  <td>0.0551</td> <td>-0.0011</td> <td>0.2069</td>   <td>False</td>\n",
       "</tr>\n",
       "<tr>\n",
       "  <td>Callahan</td>  <td>Leverling</td>  <td>0.0501</td>    <td>0.9</td>  <td>-0.0608</td>  <td>0.161</td>   <td>False</td>\n",
       "</tr>\n",
       "<tr>\n",
       "  <td>Callahan</td>   <td>Peacock</td>   <td>-0.0167</td>   <td>0.9</td>  <td>-0.1281</td> <td>0.0947</td>   <td>False</td>\n",
       "</tr>\n",
       "<tr>\n",
       "  <td>Callahan</td>   <td>Suyama</td>    <td>-0.1007</td> <td>0.2157</td> <td>-0.2241</td> <td>0.0226</td>   <td>False</td>\n",
       "</tr>\n",
       "<tr>\n",
       "   <td>Davolio</td>  <td>Dodsworth</td>  <td>0.2085</td>   <td>0.001</td> <td>0.0683</td>  <td>0.3488</td>   <td>True</td> \n",
       "</tr>\n",
       "<tr>\n",
       "   <td>Davolio</td>   <td>Fuller</td>    <td>0.1696</td>   <td>0.001</td> <td>0.0495</td>  <td>0.2897</td>   <td>True</td> \n",
       "</tr>\n",
       "<tr>\n",
       "   <td>Davolio</td>    <td>King</td>     <td>0.2424</td>   <td>0.001</td>  <td>0.123</td>  <td>0.3618</td>   <td>True</td> \n",
       "</tr>\n",
       "<tr>\n",
       "   <td>Davolio</td>  <td>Leverling</td>  <td>0.1896</td>   <td>0.001</td> <td>0.0641</td>  <td>0.3151</td>   <td>True</td> \n",
       "</tr>\n",
       "<tr>\n",
       "   <td>Davolio</td>   <td>Peacock</td>   <td>0.1228</td>  <td>0.0627</td> <td>-0.0031</td> <td>0.2487</td>   <td>False</td>\n",
       "</tr>\n",
       "<tr>\n",
       "   <td>Davolio</td>   <td>Suyama</td>    <td>0.0388</td>    <td>0.9</td>  <td>-0.0978</td> <td>0.1754</td>   <td>False</td>\n",
       "</tr>\n",
       "<tr>\n",
       "  <td>Dodsworth</td>  <td>Fuller</td>    <td>-0.039</td>    <td>0.9</td>  <td>-0.1557</td> <td>0.0778</td>   <td>False</td>\n",
       "</tr>\n",
       "<tr>\n",
       "  <td>Dodsworth</td>   <td>King</td>     <td>0.0339</td>    <td>0.9</td>  <td>-0.0821</td> <td>0.1499</td>   <td>False</td>\n",
       "</tr>\n",
       "<tr>\n",
       "  <td>Dodsworth</td> <td>Leverling</td>  <td>-0.019</td>    <td>0.9</td>  <td>-0.1412</td> <td>0.1033</td>   <td>False</td>\n",
       "</tr>\n",
       "<tr>\n",
       "  <td>Dodsworth</td>  <td>Peacock</td>   <td>-0.0857</td> <td>0.4298</td> <td>-0.2084</td> <td>0.0369</td>   <td>False</td>\n",
       "</tr>\n",
       "<tr>\n",
       "  <td>Dodsworth</td>  <td>Suyama</td>    <td>-0.1698</td> <td>0.0026</td> <td>-0.3034</td> <td>-0.0362</td>  <td>True</td> \n",
       "</tr>\n",
       "<tr>\n",
       "   <td>Fuller</td>     <td>King</td>     <td>0.0728</td>  <td>0.2347</td> <td>-0.0178</td> <td>0.1634</td>   <td>False</td>\n",
       "</tr>\n",
       "<tr>\n",
       "   <td>Fuller</td>   <td>Leverling</td>   <td>0.02</td>     <td>0.9</td>  <td>-0.0785</td> <td>0.1185</td>   <td>False</td>\n",
       "</tr>\n",
       "<tr>\n",
       "   <td>Fuller</td>    <td>Peacock</td>   <td>-0.0468</td>  <td>0.861</td> <td>-0.1458</td> <td>0.0522</td>   <td>False</td>\n",
       "</tr>\n",
       "<tr>\n",
       "   <td>Fuller</td>    <td>Suyama</td>    <td>-0.1308</td> <td>0.0092</td> <td>-0.2431</td> <td>-0.0185</td>  <td>True</td> \n",
       "</tr>\n",
       "<tr>\n",
       "    <td>King</td>    <td>Leverling</td>  <td>-0.0528</td> <td>0.7313</td> <td>-0.1504</td> <td>0.0447</td>   <td>False</td>\n",
       "</tr>\n",
       "<tr>\n",
       "    <td>King</td>     <td>Peacock</td>   <td>-0.1196</td> <td>0.0049</td> <td>-0.2177</td> <td>-0.0215</td>  <td>True</td> \n",
       "</tr>\n",
       "<tr>\n",
       "    <td>King</td>     <td>Suyama</td>    <td>-0.2036</td>  <td>0.001</td> <td>-0.3151</td> <td>-0.0921</td>  <td>True</td> \n",
       "</tr>\n",
       "<tr>\n",
       "  <td>Leverling</td>  <td>Peacock</td>   <td>-0.0668</td> <td>0.5583</td> <td>-0.1722</td> <td>0.0386</td>   <td>False</td>\n",
       "</tr>\n",
       "<tr>\n",
       "  <td>Leverling</td>  <td>Suyama</td>    <td>-0.1508</td> <td>0.0024</td> <td>-0.2688</td> <td>-0.0328</td>  <td>True</td> \n",
       "</tr>\n",
       "<tr>\n",
       "   <td>Peacock</td>   <td>Suyama</td>    <td>-0.084</td>  <td>0.4073</td> <td>-0.2025</td> <td>0.0344</td>   <td>False</td>\n",
       "</tr>\n",
       "</table>"
      ],
      "text/plain": [
       "<class 'statsmodels.iolib.table.SimpleTable'>"
      ]
     },
     "execution_count": 71,
     "metadata": {},
     "output_type": "execute_result"
    }
   ],
   "source": [
    "tukey_results = pairwise_tukeyhsd(df['Quantity_log'], df['LastName'])\n",
    "tukey_results.summary()"
   ]
  },
  {
   "cell_type": "code",
   "execution_count": 72,
   "metadata": {},
   "outputs": [
    {
     "name": "stderr",
     "output_type": "stream",
     "text": [
      "C:\\Users\\eannefawcett\\Anaconda3\\envs\\learn-env\\lib\\site-packages\\ipykernel_launcher.py:8: UserWarning: Matplotlib is currently using module://ipykernel.pylab.backend_inline, which is a non-GUI backend, so cannot show the figure.\n",
      "  \n"
     ]
    },
    {
     "data": {
      "image/png": "[encoded data removed]",
      "text/plain": [
       "<Figure size 720x432 with 1 Axes>"
      ]
     },
     "metadata": {
      "needs_background": "light"
     },
     "output_type": "display_data"
    }
   ],
   "source": [
    "# create figure\n",
    "fig08 = plt.figure(figsize=(5,4))\n",
    "ax = fig08.add_subplot(111)\n",
    "\n",
    "# run tukeys\n",
    "from statsmodels.stats.multicomp import pairwise_tukeyhsd\n",
    "tukey_results = pairwise_tukeyhsd(df['Quantity'], df['LastName'])\n",
    "tukey_plot = tukey_results.plot_simultaneous(ax=ax).show() \n",
    "\n",
    "# format plot\n",
    "ax.axes.set_title('Multiple Comparisions Between Employees')\n",
    "ax.axes.set_ylabel('Employee')\n",
    "ax.axes.set_xlabel('Quantity');"
   ]
  },
  {
   "cell_type": "code",
   "execution_count": 73,
   "metadata": {},
   "outputs": [
    {
     "data": {
      "text/html": [
       "<table class=\"simpletable\">\n",
       "<caption>Multiple Comparison of Means - Tukey HSD, FWER=0.05</caption>\n",
       "<tr>\n",
       "   <th>group1</th>    <th>group2</th>   <th>meandiff</th>  <th>p-adj</th>  <th>lower</th>   <th>upper</th>  <th>reject</th>\n",
       "</tr>\n",
       "<tr>\n",
       "  <td>Buchanan</td>  <td>Callahan</td>   <td>-0.2469</td> <td>0.1166</td> <td>-0.5207</td>  <td>0.027</td>   <td>False</td>\n",
       "</tr>\n",
       "<tr>\n",
       "  <td>Buchanan</td>   <td>Davolio</td>   <td>-0.4971</td>  <td>0.001</td>  <td>-0.8</td>   <td>-0.1942</td>  <td>True</td> \n",
       "</tr>\n",
       "<tr>\n",
       "  <td>Buchanan</td>  <td>Dodsworth</td>  <td>-0.056</td>    <td>0.9</td>  <td>-0.3524</td> <td>0.2403</td>   <td>False</td>\n",
       "</tr>\n",
       "<tr>\n",
       "  <td>Buchanan</td>   <td>Fuller</td>    <td>-0.1248</td> <td>0.8095</td> <td>-0.3745</td> <td>0.1248</td>   <td>False</td>\n",
       "</tr>\n",
       "<tr>\n",
       "  <td>Buchanan</td>    <td>King</td>     <td>0.0066</td>    <td>0.9</td>  <td>-0.2414</td> <td>0.2545</td>   <td>False</td>\n",
       "</tr>\n",
       "<tr>\n",
       "  <td>Buchanan</td>  <td>Leverling</td>  <td>-0.1071</td>   <td>0.9</td>  <td>-0.3692</td> <td>0.1551</td>   <td>False</td>\n",
       "</tr>\n",
       "<tr>\n",
       "  <td>Buchanan</td>   <td>Peacock</td>   <td>-0.2459</td> <td>0.0886</td> <td>-0.509</td>  <td>0.0172</td>   <td>False</td>\n",
       "</tr>\n",
       "<tr>\n",
       "  <td>Buchanan</td>   <td>Suyama</td>    <td>-0.5009</td>  <td>0.001</td> <td>-0.7888</td> <td>-0.2131</td>  <td>True</td> \n",
       "</tr>\n",
       "<tr>\n",
       "  <td>Callahan</td>   <td>Davolio</td>   <td>-0.2502</td> <td>0.1487</td> <td>-0.538</td>  <td>0.0376</td>   <td>False</td>\n",
       "</tr>\n",
       "<tr>\n",
       "  <td>Callahan</td>  <td>Dodsworth</td>  <td>0.1908</td>  <td>0.4702</td> <td>-0.0901</td> <td>0.4718</td>   <td>False</td>\n",
       "</tr>\n",
       "<tr>\n",
       "  <td>Callahan</td>   <td>Fuller</td>    <td>0.1221</td>  <td>0.7562</td> <td>-0.109</td>  <td>0.3532</td>   <td>False</td>\n",
       "</tr>\n",
       "<tr>\n",
       "  <td>Callahan</td>    <td>King</td>     <td>0.2535</td>  <td>0.0176</td> <td>0.0242</td>  <td>0.4827</td>   <td>True</td> \n",
       "</tr>\n",
       "<tr>\n",
       "  <td>Callahan</td>  <td>Leverling</td>  <td>0.1398</td>  <td>0.6745</td> <td>-0.1048</td> <td>0.3843</td>   <td>False</td>\n",
       "</tr>\n",
       "<tr>\n",
       "  <td>Callahan</td>   <td>Peacock</td>    <td>0.001</td>    <td>0.9</td>  <td>-0.2446</td> <td>0.2466</td>   <td>False</td>\n",
       "</tr>\n",
       "<tr>\n",
       "  <td>Callahan</td>   <td>Suyama</td>    <td>-0.2541</td> <td>0.0888</td> <td>-0.526</td>  <td>0.0179</td>   <td>False</td>\n",
       "</tr>\n",
       "<tr>\n",
       "   <td>Davolio</td>  <td>Dodsworth</td>  <td>0.4411</td>   <td>0.001</td> <td>0.1317</td>  <td>0.7504</td>   <td>True</td> \n",
       "</tr>\n",
       "<tr>\n",
       "   <td>Davolio</td>   <td>Fuller</td>    <td>0.3723</td>   <td>0.001</td> <td>0.1074</td>  <td>0.6372</td>   <td>True</td> \n",
       "</tr>\n",
       "<tr>\n",
       "   <td>Davolio</td>    <td>King</td>     <td>0.5037</td>   <td>0.001</td> <td>0.2404</td>   <td>0.767</td>   <td>True</td> \n",
       "</tr>\n",
       "<tr>\n",
       "   <td>Davolio</td>  <td>Leverling</td>   <td>0.39</td>    <td>0.001</td> <td>0.1133</td>  <td>0.6667</td>   <td>True</td> \n",
       "</tr>\n",
       "<tr>\n",
       "   <td>Davolio</td>   <td>Peacock</td>   <td>0.2512</td>  <td>0.1135</td> <td>-0.0264</td> <td>0.5288</td>   <td>False</td>\n",
       "</tr>\n",
       "<tr>\n",
       "   <td>Davolio</td>   <td>Suyama</td>    <td>-0.0039</td>   <td>0.9</td>  <td>-0.305</td>  <td>0.2973</td>   <td>False</td>\n",
       "</tr>\n",
       "<tr>\n",
       "  <td>Dodsworth</td>  <td>Fuller</td>    <td>-0.0688</td>   <td>0.9</td>  <td>-0.3262</td> <td>0.1886</td>   <td>False</td>\n",
       "</tr>\n",
       "<tr>\n",
       "  <td>Dodsworth</td>   <td>King</td>     <td>0.0626</td>    <td>0.9</td>  <td>-0.1931</td> <td>0.3184</td>   <td>False</td>\n",
       "</tr>\n",
       "<tr>\n",
       "  <td>Dodsworth</td> <td>Leverling</td>  <td>-0.051</td>    <td>0.9</td>  <td>-0.3206</td> <td>0.2185</td>   <td>False</td>\n",
       "</tr>\n",
       "<tr>\n",
       "  <td>Dodsworth</td>  <td>Peacock</td>   <td>-0.1899</td> <td>0.4234</td> <td>-0.4603</td> <td>0.0806</td>   <td>False</td>\n",
       "</tr>\n",
       "<tr>\n",
       "  <td>Dodsworth</td>  <td>Suyama</td>    <td>-0.4449</td>  <td>0.001</td> <td>-0.7395</td> <td>-0.1503</td>  <td>True</td> \n",
       "</tr>\n",
       "<tr>\n",
       "   <td>Fuller</td>     <td>King</td>     <td>0.1314</td>  <td>0.5124</td> <td>-0.0684</td> <td>0.3311</td>   <td>False</td>\n",
       "</tr>\n",
       "<tr>\n",
       "   <td>Fuller</td>   <td>Leverling</td>  <td>0.0177</td>    <td>0.9</td>  <td>-0.1994</td> <td>0.2348</td>   <td>False</td>\n",
       "</tr>\n",
       "<tr>\n",
       "   <td>Fuller</td>    <td>Peacock</td>   <td>-0.1211</td> <td>0.7063</td> <td>-0.3394</td> <td>0.0972</td>   <td>False</td>\n",
       "</tr>\n",
       "<tr>\n",
       "   <td>Fuller</td>    <td>Suyama</td>    <td>-0.3761</td>  <td>0.001</td> <td>-0.6237</td> <td>-0.1286</td>  <td>True</td> \n",
       "</tr>\n",
       "<tr>\n",
       "    <td>King</td>    <td>Leverling</td>  <td>-0.1137</td> <td>0.7561</td> <td>-0.3288</td> <td>0.1015</td>   <td>False</td>\n",
       "</tr>\n",
       "<tr>\n",
       "    <td>King</td>     <td>Peacock</td>   <td>-0.2525</td>  <td>0.009</td> <td>-0.4688</td> <td>-0.0361</td>  <td>True</td> \n",
       "</tr>\n",
       "<tr>\n",
       "    <td>King</td>     <td>Suyama</td>    <td>-0.5075</td>  <td>0.001</td> <td>-0.7534</td> <td>-0.2617</td>  <td>True</td> \n",
       "</tr>\n",
       "<tr>\n",
       "  <td>Leverling</td>  <td>Peacock</td>   <td>-0.1388</td> <td>0.6265</td> <td>-0.3713</td> <td>0.0936</td>   <td>False</td>\n",
       "</tr>\n",
       "<tr>\n",
       "  <td>Leverling</td>  <td>Suyama</td>    <td>-0.3939</td>  <td>0.001</td> <td>-0.654</td>  <td>-0.1337</td>  <td>True</td> \n",
       "</tr>\n",
       "<tr>\n",
       "   <td>Peacock</td>   <td>Suyama</td>    <td>-0.2551</td> <td>0.0619</td> <td>-0.5162</td> <td>0.0061</td>   <td>False</td>\n",
       "</tr>\n",
       "</table>"
      ],
      "text/plain": [
       "<class 'statsmodels.iolib.table.SimpleTable'>"
      ]
     },
     "execution_count": 73,
     "metadata": {},
     "output_type": "execute_result"
    }
   ],
   "source": [
    "tukey_results = pairwise_tukeyhsd(df['Subtotal_log'], df['LastName'])\n",
    "tukey_results.summary()"
   ]
  },
  {
   "cell_type": "code",
   "execution_count": 74,
   "metadata": {},
   "outputs": [
    {
     "name": "stderr",
     "output_type": "stream",
     "text": [
      "C:\\Users\\eannefawcett\\Anaconda3\\envs\\learn-env\\lib\\site-packages\\ipykernel_launcher.py:8: UserWarning: Matplotlib is currently using module://ipykernel.pylab.backend_inline, which is a non-GUI backend, so cannot show the figure.\n",
      "  \n"
     ]
    },
    {
     "data": {
      "image/png": "[encoded data removed]",
      "text/plain": [
       "<Figure size 720x432 with 1 Axes>"
      ]
     },
     "metadata": {
      "needs_background": "light"
     },
     "output_type": "display_data"
    }
   ],
   "source": [
    "# create figure\n",
    "fig08 = plt.figure(figsize=(5,4))\n",
    "ax = fig08.add_subplot(111)\n",
    "\n",
    "# run tukeys\n",
    "from statsmodels.stats.multicomp import pairwise_tukeyhsd\n",
    "tukey_results = pairwise_tukeyhsd(df['Subtotal'], df['LastName'])\n",
    "tukey_plot = tukey_results.plot_simultaneous(ax=ax).show() \n",
    "\n",
    "# format plot\n",
    "ax.axes.set_title('Multiple Comparisions Between Employees')\n",
    "ax.axes.set_ylabel('Employee')\n",
    "ax.axes.set_xlabel('Subtotal');"
   ]
  },
  {
   "cell_type": "markdown",
   "metadata": {},
   "source": [
    "It looks as if King is outperforming some other employees. "
   ]
  },
  {
   "cell_type": "markdown",
   "metadata": {},
   "source": [
    "# Results<a id='Results'></a>\n",
    "\n",
    "While certain territories are not outperforming each other, there does seem to be an employee that is outperforming their peers. They have a statistically different, higher, subtotal on orders."
   ]
  },
  {
   "cell_type": "markdown",
   "metadata": {},
   "source": [
    "# Conclusions<a id='Conclusions'></a>\n",
    "\n",
    "- Actionable Items and Insights\n",
    "- Additional Visuals"
   ]
  },
  {
   "cell_type": "markdown",
   "metadata": {},
   "source": [
    "## Actionable Items and Insights<a id='Actionable Items and Insights'></a>"
   ]
  },
  {
   "cell_type": "markdown",
   "metadata": {},
   "source": [
    "Follow the same strategy that King is using to work with clients - higher frequency of orders with higher items per order for high priced items."
   ]
  },
  {
   "cell_type": "markdown",
   "metadata": {},
   "source": [
    "## Additional Visuals"
   ]
  },
  {
   "cell_type": "code",
   "execution_count": 75,
   "metadata": {},
   "outputs": [
    {
     "data": {
      "text/html": [
       "<div>\n",
       "<style scoped>\n",
       "    .dataframe tbody tr th:only-of-type {\n",
       "        vertical-align: middle;\n",
       "    }\n",
       "\n",
       "    .dataframe tbody tr th {\n",
       "        vertical-align: top;\n",
       "    }\n",
       "\n",
       "    .dataframe thead th {\n",
       "        text-align: right;\n",
       "    }\n",
       "</style>\n",
       "<table border=\"1\" class=\"dataframe\">\n",
       "  <thead>\n",
       "    <tr style=\"text-align: right;\">\n",
       "      <th></th>\n",
       "      <th></th>\n",
       "      <th></th>\n",
       "      <th>TerritoryId</th>\n",
       "      <th>RegionId</th>\n",
       "      <th>EmployeeId</th>\n",
       "      <th>ItemTotal</th>\n",
       "      <th>UnitPrice</th>\n",
       "      <th>Quantity</th>\n",
       "      <th>ItemTotal_log</th>\n",
       "      <th>Quantity_log</th>\n",
       "      <th>Subtotal</th>\n",
       "      <th>Subtotal_log</th>\n",
       "    </tr>\n",
       "    <tr>\n",
       "      <th>LastName</th>\n",
       "      <th>Id</th>\n",
       "      <th>ProductId</th>\n",
       "      <th></th>\n",
       "      <th></th>\n",
       "      <th></th>\n",
       "      <th></th>\n",
       "      <th></th>\n",
       "      <th></th>\n",
       "      <th></th>\n",
       "      <th></th>\n",
       "      <th></th>\n",
       "      <th></th>\n",
       "    </tr>\n",
       "  </thead>\n",
       "  <tbody>\n",
       "    <tr>\n",
       "      <td rowspan=\"5\" valign=\"top\">Buchanan</td>\n",
       "      <td rowspan=\"3\" valign=\"top\">10248</td>\n",
       "      <td>11</td>\n",
       "      <td>9422.0</td>\n",
       "      <td>1</td>\n",
       "      <td>5</td>\n",
       "      <td>168.0</td>\n",
       "      <td>14.00</td>\n",
       "      <td>12</td>\n",
       "      <td>5.123964</td>\n",
       "      <td>2.484907</td>\n",
       "      <td>2016.0</td>\n",
       "      <td>7.608871</td>\n",
       "    </tr>\n",
       "    <tr>\n",
       "      <td>42</td>\n",
       "      <td>9422.0</td>\n",
       "      <td>1</td>\n",
       "      <td>5</td>\n",
       "      <td>98.0</td>\n",
       "      <td>9.80</td>\n",
       "      <td>10</td>\n",
       "      <td>4.584967</td>\n",
       "      <td>2.302585</td>\n",
       "      <td>980.0</td>\n",
       "      <td>6.887553</td>\n",
       "    </tr>\n",
       "    <tr>\n",
       "      <td>72</td>\n",
       "      <td>9422.0</td>\n",
       "      <td>1</td>\n",
       "      <td>5</td>\n",
       "      <td>174.0</td>\n",
       "      <td>34.80</td>\n",
       "      <td>5</td>\n",
       "      <td>5.159055</td>\n",
       "      <td>1.609438</td>\n",
       "      <td>870.0</td>\n",
       "      <td>6.768493</td>\n",
       "    </tr>\n",
       "    <tr>\n",
       "      <td rowspan=\"2\" valign=\"top\">10254</td>\n",
       "      <td>24</td>\n",
       "      <td>9422.0</td>\n",
       "      <td>1</td>\n",
       "      <td>5</td>\n",
       "      <td>54.0</td>\n",
       "      <td>3.60</td>\n",
       "      <td>15</td>\n",
       "      <td>3.988984</td>\n",
       "      <td>2.708050</td>\n",
       "      <td>810.0</td>\n",
       "      <td>6.697034</td>\n",
       "    </tr>\n",
       "    <tr>\n",
       "      <td>55</td>\n",
       "      <td>9422.0</td>\n",
       "      <td>1</td>\n",
       "      <td>5</td>\n",
       "      <td>403.2</td>\n",
       "      <td>19.20</td>\n",
       "      <td>21</td>\n",
       "      <td>5.999433</td>\n",
       "      <td>3.044522</td>\n",
       "      <td>8467.2</td>\n",
       "      <td>9.043955</td>\n",
       "    </tr>\n",
       "    <tr>\n",
       "      <td>...</td>\n",
       "      <td>...</td>\n",
       "      <td>...</td>\n",
       "      <td>...</td>\n",
       "      <td>...</td>\n",
       "      <td>...</td>\n",
       "      <td>...</td>\n",
       "      <td>...</td>\n",
       "      <td>...</td>\n",
       "      <td>...</td>\n",
       "      <td>...</td>\n",
       "      <td>...</td>\n",
       "      <td>...</td>\n",
       "    </tr>\n",
       "    <tr>\n",
       "      <td rowspan=\"5\" valign=\"top\">Suyama</td>\n",
       "      <td rowspan=\"3\" valign=\"top\">11031</td>\n",
       "      <td>24</td>\n",
       "      <td>92885.0</td>\n",
       "      <td>2</td>\n",
       "      <td>6</td>\n",
       "      <td>94.5</td>\n",
       "      <td>4.50</td>\n",
       "      <td>21</td>\n",
       "      <td>4.548600</td>\n",
       "      <td>3.044522</td>\n",
       "      <td>1984.5</td>\n",
       "      <td>7.593122</td>\n",
       "    </tr>\n",
       "    <tr>\n",
       "      <td>64</td>\n",
       "      <td>92885.0</td>\n",
       "      <td>2</td>\n",
       "      <td>6</td>\n",
       "      <td>665.0</td>\n",
       "      <td>33.25</td>\n",
       "      <td>20</td>\n",
       "      <td>6.499787</td>\n",
       "      <td>2.995732</td>\n",
       "      <td>13300.0</td>\n",
       "      <td>9.495519</td>\n",
       "    </tr>\n",
       "    <tr>\n",
       "      <td>71</td>\n",
       "      <td>92885.0</td>\n",
       "      <td>2</td>\n",
       "      <td>6</td>\n",
       "      <td>344.0</td>\n",
       "      <td>21.50</td>\n",
       "      <td>16</td>\n",
       "      <td>5.840642</td>\n",
       "      <td>2.772589</td>\n",
       "      <td>5504.0</td>\n",
       "      <td>8.613230</td>\n",
       "    </tr>\n",
       "    <tr>\n",
       "      <td rowspan=\"2\" valign=\"top\">11045</td>\n",
       "      <td>33</td>\n",
       "      <td>92885.0</td>\n",
       "      <td>2</td>\n",
       "      <td>6</td>\n",
       "      <td>37.5</td>\n",
       "      <td>2.50</td>\n",
       "      <td>15</td>\n",
       "      <td>3.624341</td>\n",
       "      <td>2.708050</td>\n",
       "      <td>562.5</td>\n",
       "      <td>6.332391</td>\n",
       "    </tr>\n",
       "    <tr>\n",
       "      <td>51</td>\n",
       "      <td>92885.0</td>\n",
       "      <td>2</td>\n",
       "      <td>6</td>\n",
       "      <td>1272.0</td>\n",
       "      <td>53.00</td>\n",
       "      <td>24</td>\n",
       "      <td>7.148346</td>\n",
       "      <td>3.178054</td>\n",
       "      <td>30528.0</td>\n",
       "      <td>10.326400</td>\n",
       "    </tr>\n",
       "  </tbody>\n",
       "</table>\n",
       "<p>2155 rows × 10 columns</p>\n",
       "</div>"
      ],
      "text/plain": [
       "                          TerritoryId  RegionId  EmployeeId  ItemTotal  \\\n",
       "LastName Id    ProductId                                                 \n",
       "Buchanan 10248 11              9422.0         1           5      168.0   \n",
       "               42              9422.0         1           5       98.0   \n",
       "               72              9422.0         1           5      174.0   \n",
       "         10254 24              9422.0         1           5       54.0   \n",
       "               55              9422.0         1           5      403.2   \n",
       "...                               ...       ...         ...        ...   \n",
       "Suyama   11031 24             92885.0         2           6       94.5   \n",
       "               64             92885.0         2           6      665.0   \n",
       "               71             92885.0         2           6      344.0   \n",
       "         11045 33             92885.0         2           6       37.5   \n",
       "               51             92885.0         2           6     1272.0   \n",
       "\n",
       "                          UnitPrice  Quantity  ItemTotal_log  Quantity_log  \\\n",
       "LastName Id    ProductId                                                     \n",
       "Buchanan 10248 11             14.00        12       5.123964      2.484907   \n",
       "               42              9.80        10       4.584967      2.302585   \n",
       "               72             34.80         5       5.159055      1.609438   \n",
       "         10254 24              3.60        15       3.988984      2.708050   \n",
       "               55             19.20        21       5.999433      3.044522   \n",
       "...                             ...       ...            ...           ...   \n",
       "Suyama   11031 24              4.50        21       4.548600      3.044522   \n",
       "               64             33.25        20       6.499787      2.995732   \n",
       "               71             21.50        16       5.840642      2.772589   \n",
       "         11045 33              2.50        15       3.624341      2.708050   \n",
       "               51             53.00        24       7.148346      3.178054   \n",
       "\n",
       "                          Subtotal  Subtotal_log  \n",
       "LastName Id    ProductId                          \n",
       "Buchanan 10248 11           2016.0      7.608871  \n",
       "               42            980.0      6.887553  \n",
       "               72            870.0      6.768493  \n",
       "         10254 24            810.0      6.697034  \n",
       "               55           8467.2      9.043955  \n",
       "...                            ...           ...  \n",
       "Suyama   11031 24           1984.5      7.593122  \n",
       "               64          13300.0      9.495519  \n",
       "               71           5504.0      8.613230  \n",
       "         11045 33            562.5      6.332391  \n",
       "               51          30528.0     10.326400  \n",
       "\n",
       "[2155 rows x 10 columns]"
      ]
     },
     "execution_count": 75,
     "metadata": {},
     "output_type": "execute_result"
    }
   ],
   "source": [
    "employee_work = df.groupby(['LastName', 'Id', 'ProductId']).mean()\n",
    "employee_work"
   ]
  },
  {
   "cell_type": "code",
   "execution_count": 76,
   "metadata": {},
   "outputs": [
    {
     "data": {
      "text/plain": [
       "array(['Buchanan', 'Suyama', 'Peacock', 'Leverling', 'Dodsworth',\n",
       "       'Davolio', 'Callahan', 'Fuller', 'King'], dtype=object)"
      ]
     },
     "execution_count": 76,
     "metadata": {},
     "output_type": "execute_result"
    }
   ],
   "source": [
    "employees = df['LastName'].unique()\n",
    "employees"
   ]
  },
  {
   "cell_type": "code",
   "execution_count": 77,
   "metadata": {},
   "outputs": [
    {
     "data": {
      "image/png": "[encoded data removed]",
      "text/plain": [
       "<Figure size 1440x1440 with 9 Axes>"
      ]
     },
     "metadata": {
      "needs_background": "light"
     },
     "output_type": "display_data"
    }
   ],
   "source": [
    "x = [employee_work.loc[idx[i]]['Subtotal'] for i in employees]\n",
    "fig05, axes = plt.subplots(nrows=3, ncols=3, figsize=(20,20))\n",
    "for n in range(0, len(employees)):\n",
    "    row = (n-1)//3\n",
    "    col = n%3-1\n",
    "    ax = axes[row][col]\n",
    "    sns.distplot(x[n], ax=ax).set_xlim(left=0, right=600000)\n",
    "    ax.set_ylim(ymax=0.00006)\n",
    "    ax.set_title('{}'.format(employees[n]), fontsize=18)\n",
    "fig05.suptitle('Subtotal by Each Employee', fontsize=18);"
   ]
  },
  {
   "cell_type": "markdown",
   "metadata": {},
   "source": [
    "### Tools for use of discovered information"
   ]
  },
  {
   "cell_type": "code",
   "execution_count": 78,
   "metadata": {},
   "outputs": [],
   "source": [
    "# function or equation used to test developed theories\n",
    "pass"
   ]
  },
  {
   "cell_type": "markdown",
   "metadata": {},
   "source": [
    "# Future Work<a id='Future Work'></a>"
   ]
  },
  {
   "cell_type": "markdown",
   "metadata": {},
   "source": [
    "What products is King selling effectively?\n",
    "Set sales goals that focus on higher quantities of higher priced products."
   ]
  },
  {
   "cell_type": "markdown",
   "metadata": {},
   "source": [
    "# References<a id='References'></a>"
   ]
  },
  {
   "cell_type": "markdown",
   "metadata": {},
   "source": [
    "Measure skewness https://towardsdatascience.com/understanding-measures-of-variance-with-python-f57d59617a0b\n",
    "Lat/Long: https://www.latlong.net/"
   ]
  }
 ],
 "metadata": {
  "kernelspec": {
   "display_name": "learn-env",
   "language": "python",
   "name": "learn-env"
  },
  "language_info": {
   "codemirror_mode": {
    "name": "ipython",
    "version": 3
   },
   "file_extension": ".py",
   "mimetype": "text/x-python",
   "name": "python",
   "nbconvert_exporter": "python",
   "pygments_lexer": "ipython3",
   "version": "3.6.9"
  },
  "toc": {
   "base_numbering": 1,
   "nav_menu": {},
   "number_sections": true,
   "sideBar": true,
   "skip_h1_title": false,
   "title_cell": "Table of Contents",
   "title_sidebar": "Contents",
   "toc_cell": false,
   "toc_position": {},
   "toc_section_display": true,
   "toc_window_display": false
  }
 },
 "nbformat": 4,
 "nbformat_minor": 2
}
