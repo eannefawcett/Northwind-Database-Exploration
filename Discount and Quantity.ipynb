{
 "cells": [
  {
   "cell_type": "markdown",
   "metadata": {},
   "source": [
    "<img src='images/Northwind_ERD_updated.png.'>"
   ]
  },
  {
   "cell_type": "markdown",
   "metadata": {},
   "source": [
    "<a href='#1.0-Initial-Question'>**1.0 Initial Question**</a>\n",
    "\n",
    "<a href='#1.1-Initial-Hypothesis'>**1.1 Initial Hypothesis**</a>\n",
    "- <a href='#1.1.1-Null-Hypothesis'>1.1.1 Null Hypothesis</a>\n",
    "- <a href='#1.1.2-Alternative-Hypothesis'>1.1.2 Alternative Hypothesis</a>\n",
    "- <a href='#1.1.3-Features'>1.1.3 Features</a>\n",
    "- <a href='#1.1.4-Target-Variable'>1.1.4 Target Variable</a>\n",
    "\n",
    "<a href='#1.2-Methodology'>**1.2 Methodology**</a>\n",
    "- <a href='#1.2.1-Obtain-Data'>1.2.1 Obtain Data</a>\n",
    "- <a href='#1.2.2-Scrub-Data'>1.2.2 Scrub Data</a>\n",
    "    - <a href='#1.2.2.1-Manage-n/a-data-types'>1.2.2.1 Manage n/a data types</a>\n",
    "    - <a href='#1.2.2.2-Remove-duplicate-data'>1.2.2.2 Remove duplicate data</a>\n",
    "    - <a href='#1.2.2.3-Manage-data-types'>1.2.2.3 Manage data types</a>\n",
    "    - <a href='#1.2.2.4-Remove-outliers'>1.2.2.4 Remove outliers</a>\n",
    "- <a href='#1.2.3-Explore-Data'>1.2.3 Explore Data</a>\n",
    "    - <a href='#1.2.3.1-Visualize-data'>1.2.3.1 Visualize data</a>\n",
    "    - <a href='#1.2.3.2-Transform-data'>1.2.3.2 Transform data</a>\n",
    "    - <a href='#1.2.3.3-Sort-data-/-Prepare-data-for-testing'>1.2.3.3 Sort data / Prepare data for testing</a>\n",
    "    - <a href='#1.2.3.4-Develop-feature'>1.2.3.4 Develop Feature</a>\n",
    "- <a href='#1.2.4-Model-Data'>1.2.4 Model Data</a>\n",
    "    - <a href='#1.2.4.1-Check-for-data-normality'>1.2.4.1 Check for data normality</a>\n",
    "    - <a href='#1.2.4.2-Standard-deviation-and-other-basic-statistics'>1.2.4.2 Standard deviation and other basic statistics</a>\n",
    "    - <a href='#1.2.4.3-Statistical-test'>1.2.4.3 Statistical test</a>\n",
    "    - <a href='#1.2.4.4-Verification-techniques'>1.2.4.4 Verification techniques</a>\n",
    "        - <a href='#1.2.4.4.1-Nonparametric-testing-and-confirmatory-testing'>1.2.4.4.1 Nonparametric testing</a>\n",
    "        - <a href='#1.2.4.4.2-Effect-size'>1.2.4.4.2 Effect size</a>\n",
    "        - <a href='#1.2.4.4.3-Error'>1.2.4.4.3 Error</a>\n",
    "- <a href='#1.2.5-Interpret-Model'>1.2.5 Interpret Model</a>\n",
    "    - <a href='#1.2.5.1-Extension-of-acquired-knowledge'>1.2.5.1 Extension of acquired knowledge</a>\n",
    "    \n",
    "<a href='#1.3-Results'>**1.3 Results**</a>\n",
    "\n",
    "<a href='#1.4-Conclusions'>**1.4 Conclusions**</a>\n",
    "\n",
    "- <a href='#1.4.1-Actionable-Items-and-Insights'>1.4.1 Actionable Items and Insights</a>\n",
    "- <a href='#1.4.2-Additional-Visuals'>1.4.2 Additional Visuals</a>\n",
    "\n",
    "<a href='#1.5-Future-Work'>**1.5 Future Work**</a>\n",
    "\n",
    "<a href='#1.6-References'>**1.6 References**</a>"
   ]
  },
  {
   "cell_type": "markdown",
   "metadata": {},
   "source": [
    "# 1.0 Initial Question<a id='Initial Question'></a>"
   ]
  },
  {
   "cell_type": "markdown",
   "metadata": {},
   "source": [
    "### Does discount amount have a statistically significant effect on the quantity of a product in an order? If so, at what level(s) of discount?"
   ]
  },
  {
   "cell_type": "markdown",
   "metadata": {},
   "source": [
    "# 1.1 Initial Hypothesis<a id='Initial Hypothesis'></a>"
   ]
  },
  {
   "cell_type": "markdown",
   "metadata": {},
   "source": [
    "### 1.1.1 Null Hypothesis<a id='Null Hypothesis'></a>"
   ]
  },
  {
   "cell_type": "markdown",
   "metadata": {},
   "source": [
    "H0: no effect - **discount** has no effect on **quantity** of a **product** in an **order**.\n",
    "\n",
    "The bolded items in the H0 statement represent the data that needs to be pulled down from the database. "
   ]
  },
  {
   "cell_type": "markdown",
   "metadata": {},
   "source": [
    "### 1.1.2 Alternative Hypothesis<a id='Alternative Hypothesis'></a>"
   ]
  },
  {
   "cell_type": "markdown",
   "metadata": {},
   "source": [
    "HA: effect - discount has statistically significant effect on quantity of a product in an order."
   ]
  },
  {
   "cell_type": "markdown",
   "metadata": {},
   "source": [
    "### 1.1.3 Features<a id='Features'></a>"
   ]
  },
  {
   "cell_type": "markdown",
   "metadata": {},
   "source": [
    "Discount"
   ]
  },
  {
   "cell_type": "markdown",
   "metadata": {},
   "source": [
    "### 1.1.4 Target Variable<a id='Target Variable'></a>"
   ]
  },
  {
   "cell_type": "markdown",
   "metadata": {},
   "source": [
    "Quantity"
   ]
  },
  {
   "cell_type": "markdown",
   "metadata": {},
   "source": [
    "# 1.2 Methodology<a id='Methodology'></a>\n",
    "\n",
    "To evaluate the data provided by Northwind_ERD, I have chosen to use the following steps:\n",
    "- 1.2.1 Obtain Data\n",
    "- 1.2.2 Scrub Data\n",
    "- 1.2.3 Explore Data\n",
    "- 1.2.4 Model Data\n",
    "- 1.2.5 Interpret Model\n",
    "\n",
    "I have found that the OSEMN method explains the data science process, and gives context to exploring data.\n"
   ]
  },
  {
   "cell_type": "markdown",
   "metadata": {},
   "source": [
    "## 1.2.1 Obtain Data<a id='Obtain Data'></a>\n",
    "\n",
    "The data we're evaluating comes from the 'Northwind_small.sqlite' file in this repository. We'll need to pull the following tables and the following lines of information:\n",
    "\n",
    "- OrderDetail\n",
    "    - OrderId\n",
    "    - ProductId\n",
    "    - UnitPrice\n",
    "    - Quantity"
   ]
  },
  {
   "cell_type": "code",
   "execution_count": 1,
   "metadata": {},
   "outputs": [],
   "source": [
    "# import py file\n",
    "from classes import Pvalue"
   ]
  },
  {
   "cell_type": "code",
   "execution_count": 2,
   "metadata": {},
   "outputs": [],
   "source": [
    "# import libraries\n",
    "import pandas as pd\n",
    "import sqlite3\n",
    "\n",
    "import numpy as np\n",
    "from numpy import std, mean, sqrt\n",
    "import scipy.stats as stats\n",
    "from statsmodels.stats.power import tt_ind_solve_power\n",
    "import statsmodels.api as sm\n",
    "from statsmodels.formula.api import ols\n",
    "\n",
    "import matplotlib.pyplot as plt\n",
    "%matplotlib inline\n",
    "import seaborn as sns"
   ]
  },
  {
   "cell_type": "code",
   "execution_count": 3,
   "metadata": {},
   "outputs": [],
   "source": [
    "# connect to database\n",
    "conn = sqlite3.Connection('Northwind_small.sqlite')\n",
    "cur = conn.cursor()"
   ]
  },
  {
   "cell_type": "code",
   "execution_count": 4,
   "metadata": {},
   "outputs": [
    {
     "data": {
      "text/plain": [
       "[('Employee',),\n",
       " ('Category',),\n",
       " ('Customer',),\n",
       " ('Shipper',),\n",
       " ('Supplier',),\n",
       " ('Order',),\n",
       " ('Product',),\n",
       " ('OrderDetail',),\n",
       " ('CustomerCustomerDemo',),\n",
       " ('CustomerDemographic',),\n",
       " ('Region',),\n",
       " ('Territory',),\n",
       " ('EmployeeTerritory',)]"
      ]
     },
     "execution_count": 4,
     "metadata": {},
     "output_type": "execute_result"
    }
   ],
   "source": [
    "#what tables are available in the database\n",
    "cur.execute(\"\"\"SELECT name \n",
    "               FROM sqlite_master\n",
    "               WHERE type = 'table';\"\"\")\n",
    "cur.fetchall()"
   ]
  },
  {
   "cell_type": "code",
   "execution_count": 5,
   "metadata": {},
   "outputs": [
    {
     "data": {
      "text/html": [
       "<div>\n",
       "<style scoped>\n",
       "    .dataframe tbody tr th:only-of-type {\n",
       "        vertical-align: middle;\n",
       "    }\n",
       "\n",
       "    .dataframe tbody tr th {\n",
       "        vertical-align: top;\n",
       "    }\n",
       "\n",
       "    .dataframe thead th {\n",
       "        text-align: right;\n",
       "    }\n",
       "</style>\n",
       "<table border=\"1\" class=\"dataframe\">\n",
       "  <thead>\n",
       "    <tr style=\"text-align: right;\">\n",
       "      <th></th>\n",
       "      <th>Id</th>\n",
       "      <th>OrderId</th>\n",
       "      <th>ProductId</th>\n",
       "      <th>UnitPrice</th>\n",
       "      <th>Quantity</th>\n",
       "      <th>Discount</th>\n",
       "    </tr>\n",
       "  </thead>\n",
       "  <tbody>\n",
       "    <tr>\n",
       "      <th>0</th>\n",
       "      <td>10248/11</td>\n",
       "      <td>10248</td>\n",
       "      <td>11</td>\n",
       "      <td>14.00</td>\n",
       "      <td>12</td>\n",
       "      <td>0.00</td>\n",
       "    </tr>\n",
       "    <tr>\n",
       "      <th>1</th>\n",
       "      <td>10248/42</td>\n",
       "      <td>10248</td>\n",
       "      <td>42</td>\n",
       "      <td>9.80</td>\n",
       "      <td>10</td>\n",
       "      <td>0.00</td>\n",
       "    </tr>\n",
       "    <tr>\n",
       "      <th>2</th>\n",
       "      <td>10248/72</td>\n",
       "      <td>10248</td>\n",
       "      <td>72</td>\n",
       "      <td>34.80</td>\n",
       "      <td>5</td>\n",
       "      <td>0.00</td>\n",
       "    </tr>\n",
       "    <tr>\n",
       "      <th>3</th>\n",
       "      <td>10249/14</td>\n",
       "      <td>10249</td>\n",
       "      <td>14</td>\n",
       "      <td>18.60</td>\n",
       "      <td>9</td>\n",
       "      <td>0.00</td>\n",
       "    </tr>\n",
       "    <tr>\n",
       "      <th>4</th>\n",
       "      <td>10249/51</td>\n",
       "      <td>10249</td>\n",
       "      <td>51</td>\n",
       "      <td>42.40</td>\n",
       "      <td>40</td>\n",
       "      <td>0.00</td>\n",
       "    </tr>\n",
       "    <tr>\n",
       "      <th>...</th>\n",
       "      <td>...</td>\n",
       "      <td>...</td>\n",
       "      <td>...</td>\n",
       "      <td>...</td>\n",
       "      <td>...</td>\n",
       "      <td>...</td>\n",
       "    </tr>\n",
       "    <tr>\n",
       "      <th>2150</th>\n",
       "      <td>11077/64</td>\n",
       "      <td>11077</td>\n",
       "      <td>64</td>\n",
       "      <td>33.25</td>\n",
       "      <td>2</td>\n",
       "      <td>0.03</td>\n",
       "    </tr>\n",
       "    <tr>\n",
       "      <th>2151</th>\n",
       "      <td>11077/66</td>\n",
       "      <td>11077</td>\n",
       "      <td>66</td>\n",
       "      <td>17.00</td>\n",
       "      <td>1</td>\n",
       "      <td>0.00</td>\n",
       "    </tr>\n",
       "    <tr>\n",
       "      <th>2152</th>\n",
       "      <td>11077/73</td>\n",
       "      <td>11077</td>\n",
       "      <td>73</td>\n",
       "      <td>15.00</td>\n",
       "      <td>2</td>\n",
       "      <td>0.01</td>\n",
       "    </tr>\n",
       "    <tr>\n",
       "      <th>2153</th>\n",
       "      <td>11077/75</td>\n",
       "      <td>11077</td>\n",
       "      <td>75</td>\n",
       "      <td>7.75</td>\n",
       "      <td>4</td>\n",
       "      <td>0.00</td>\n",
       "    </tr>\n",
       "    <tr>\n",
       "      <th>2154</th>\n",
       "      <td>11077/77</td>\n",
       "      <td>11077</td>\n",
       "      <td>77</td>\n",
       "      <td>13.00</td>\n",
       "      <td>2</td>\n",
       "      <td>0.00</td>\n",
       "    </tr>\n",
       "  </tbody>\n",
       "</table>\n",
       "<p>2155 rows × 6 columns</p>\n",
       "</div>"
      ],
      "text/plain": [
       "            Id  OrderId  ProductId  UnitPrice  Quantity  Discount\n",
       "0     10248/11    10248         11      14.00        12      0.00\n",
       "1     10248/42    10248         42       9.80        10      0.00\n",
       "2     10248/72    10248         72      34.80         5      0.00\n",
       "3     10249/14    10249         14      18.60         9      0.00\n",
       "4     10249/51    10249         51      42.40        40      0.00\n",
       "...        ...      ...        ...        ...       ...       ...\n",
       "2150  11077/64    11077         64      33.25         2      0.03\n",
       "2151  11077/66    11077         66      17.00         1      0.00\n",
       "2152  11077/73    11077         73      15.00         2      0.01\n",
       "2153  11077/75    11077         75       7.75         4      0.00\n",
       "2154  11077/77    11077         77      13.00         2      0.00\n",
       "\n",
       "[2155 rows x 6 columns]"
      ]
     },
     "execution_count": 5,
     "metadata": {},
     "output_type": "execute_result"
    }
   ],
   "source": [
    "# OrderDetail data\n",
    "cur.execute(\"\"\"SELECT *\n",
    "               FROM OrderDetail\n",
    "               \"\"\")\n",
    "df = pd.DataFrame(cur.fetchall())\n",
    "df.columns = [x[0] for x in cur.description]\n",
    "df"
   ]
  },
  {
   "cell_type": "markdown",
   "metadata": {},
   "source": [
    "## 1.2.2 Scrub Data<a id='Scrub Data'></a>\n",
    "\n",
    "The following scrubbing techniques were applied to the original data:\n",
    "- 1.2.2.1 Manage n/a data types\n",
    "- 1.2.2.2 Remove duplicate rows\n",
    "- 1.2.2.3 Manage data types\n",
    "- 1.2.2.4 Remove outliers"
   ]
  },
  {
   "cell_type": "markdown",
   "metadata": {},
   "source": [
    "### 1.2.2.1 Manage n/a data types<a id='Manage n/a data types'></a>"
   ]
  },
  {
   "cell_type": "code",
   "execution_count": 6,
   "metadata": {},
   "outputs": [
    {
     "name": "stdout",
     "output_type": "stream",
     "text": [
      "2155\n"
     ]
    },
    {
     "data": {
      "text/plain": [
       "Id           0\n",
       "OrderId      0\n",
       "ProductId    0\n",
       "UnitPrice    0\n",
       "Quantity     0\n",
       "Discount     0\n",
       "dtype: int64"
      ]
     },
     "execution_count": 6,
     "metadata": {},
     "output_type": "execute_result"
    }
   ],
   "source": [
    "# nans identification\n",
    "print(len(df))\n",
    "df.isna().sum()"
   ]
  },
  {
   "cell_type": "markdown",
   "metadata": {},
   "source": [
    "### 1.2.2.2 Remove duplicate data<a id='Remove duplicate data'></a>"
   ]
  },
  {
   "cell_type": "code",
   "execution_count": 7,
   "metadata": {},
   "outputs": [
    {
     "name": "stdout",
     "output_type": "stream",
     "text": [
      "duplicated rows: 0\n"
     ]
    }
   ],
   "source": [
    "# identification of duplicate data\n",
    "print('duplicated rows: ' + str(df.duplicated().sum()))"
   ]
  },
  {
   "cell_type": "code",
   "execution_count": 8,
   "metadata": {},
   "outputs": [],
   "source": [
    "# code to drop duplicate rows if necessary\n",
    "# df.drop_duplicates(inplace=True)\n",
    "# print('duplicated rows: ' + str(df.duplicated().sum()))"
   ]
  },
  {
   "cell_type": "markdown",
   "metadata": {},
   "source": [
    "### 1.2.2.3 Manage data types<a id='Manage data types'></a>"
   ]
  },
  {
   "cell_type": "code",
   "execution_count": 9,
   "metadata": {},
   "outputs": [
    {
     "name": "stdout",
     "output_type": "stream",
     "text": [
      "<class 'pandas.core.frame.DataFrame'>\n",
      "RangeIndex: 2155 entries, 0 to 2154\n",
      "Data columns (total 6 columns):\n",
      "Id           2155 non-null object\n",
      "OrderId      2155 non-null int64\n",
      "ProductId    2155 non-null int64\n",
      "UnitPrice    2155 non-null float64\n",
      "Quantity     2155 non-null int64\n",
      "Discount     2155 non-null float64\n",
      "dtypes: float64(2), int64(3), object(1)\n",
      "memory usage: 101.1+ KB\n"
     ]
    }
   ],
   "source": [
    "# data type identification\n",
    "df.info()"
   ]
  },
  {
   "cell_type": "markdown",
   "metadata": {},
   "source": [
    "### 1.2.2.4 Remove outliers<a id='Remove outliers'></a>"
   ]
  },
  {
   "cell_type": "code",
   "execution_count": 10,
   "metadata": {},
   "outputs": [
    {
     "data": {
      "text/plain": [
       "array([0.  , 0.15, 0.05, 0.2 , 0.25, 0.1 , 0.02, 0.03, 0.04, 0.06, 0.01])"
      ]
     },
     "execution_count": 10,
     "metadata": {},
     "output_type": "execute_result"
    }
   ],
   "source": [
    "df['Discount'].unique()"
   ]
  },
  {
   "cell_type": "code",
   "execution_count": 11,
   "metadata": {},
   "outputs": [
    {
     "data": {
      "text/html": [
       "<div>\n",
       "<style scoped>\n",
       "    .dataframe tbody tr th:only-of-type {\n",
       "        vertical-align: middle;\n",
       "    }\n",
       "\n",
       "    .dataframe tbody tr th {\n",
       "        vertical-align: top;\n",
       "    }\n",
       "\n",
       "    .dataframe thead th {\n",
       "        text-align: right;\n",
       "    }\n",
       "</style>\n",
       "<table border=\"1\" class=\"dataframe\">\n",
       "  <thead>\n",
       "    <tr style=\"text-align: right;\">\n",
       "      <th></th>\n",
       "      <th>Id</th>\n",
       "      <th>OrderId</th>\n",
       "      <th>ProductId</th>\n",
       "      <th>UnitPrice</th>\n",
       "      <th>Quantity</th>\n",
       "      <th>Discount</th>\n",
       "    </tr>\n",
       "  </thead>\n",
       "  <tbody>\n",
       "    <tr>\n",
       "      <th>2152</th>\n",
       "      <td>11077/73</td>\n",
       "      <td>11077</td>\n",
       "      <td>73</td>\n",
       "      <td>15.0</td>\n",
       "      <td>2</td>\n",
       "      <td>0.01</td>\n",
       "    </tr>\n",
       "  </tbody>\n",
       "</table>\n",
       "</div>"
      ],
      "text/plain": [
       "            Id  OrderId  ProductId  UnitPrice  Quantity  Discount\n",
       "2152  11077/73    11077         73       15.0         2      0.01"
      ]
     },
     "execution_count": 11,
     "metadata": {},
     "output_type": "execute_result"
    }
   ],
   "source": [
    "df_discount_0_01 = df[df['Discount']==0.01]\n",
    "df_discount_0_01"
   ]
  },
  {
   "cell_type": "code",
   "execution_count": 12,
   "metadata": {},
   "outputs": [
    {
     "data": {
      "text/html": [
       "<div>\n",
       "<style scoped>\n",
       "    .dataframe tbody tr th:only-of-type {\n",
       "        vertical-align: middle;\n",
       "    }\n",
       "\n",
       "    .dataframe tbody tr th {\n",
       "        vertical-align: top;\n",
       "    }\n",
       "\n",
       "    .dataframe thead th {\n",
       "        text-align: right;\n",
       "    }\n",
       "</style>\n",
       "<table border=\"1\" class=\"dataframe\">\n",
       "  <thead>\n",
       "    <tr style=\"text-align: right;\">\n",
       "      <th></th>\n",
       "      <th>Id</th>\n",
       "      <th>OrderId</th>\n",
       "      <th>ProductId</th>\n",
       "      <th>UnitPrice</th>\n",
       "      <th>Quantity</th>\n",
       "      <th>Discount</th>\n",
       "    </tr>\n",
       "  </thead>\n",
       "  <tbody>\n",
       "    <tr>\n",
       "      <th>2133</th>\n",
       "      <td>11077/6</td>\n",
       "      <td>11077</td>\n",
       "      <td>6</td>\n",
       "      <td>25.0</td>\n",
       "      <td>1</td>\n",
       "      <td>0.02</td>\n",
       "    </tr>\n",
       "    <tr>\n",
       "      <th>2146</th>\n",
       "      <td>11077/46</td>\n",
       "      <td>11077</td>\n",
       "      <td>46</td>\n",
       "      <td>12.0</td>\n",
       "      <td>3</td>\n",
       "      <td>0.02</td>\n",
       "    </tr>\n",
       "  </tbody>\n",
       "</table>\n",
       "</div>"
      ],
      "text/plain": [
       "            Id  OrderId  ProductId  UnitPrice  Quantity  Discount\n",
       "2133   11077/6    11077          6       25.0         1      0.02\n",
       "2146  11077/46    11077         46       12.0         3      0.02"
      ]
     },
     "execution_count": 12,
     "metadata": {},
     "output_type": "execute_result"
    }
   ],
   "source": [
    "df_discount_0_02 = df[df['Discount']==0.02]\n",
    "df_discount_0_02"
   ]
  },
  {
   "cell_type": "code",
   "execution_count": 13,
   "metadata": {},
   "outputs": [
    {
     "data": {
      "text/html": [
       "<div>\n",
       "<style scoped>\n",
       "    .dataframe tbody tr th:only-of-type {\n",
       "        vertical-align: middle;\n",
       "    }\n",
       "\n",
       "    .dataframe tbody tr th {\n",
       "        vertical-align: top;\n",
       "    }\n",
       "\n",
       "    .dataframe thead th {\n",
       "        text-align: right;\n",
       "    }\n",
       "</style>\n",
       "<table border=\"1\" class=\"dataframe\">\n",
       "  <thead>\n",
       "    <tr style=\"text-align: right;\">\n",
       "      <th></th>\n",
       "      <th>Id</th>\n",
       "      <th>OrderId</th>\n",
       "      <th>ProductId</th>\n",
       "      <th>UnitPrice</th>\n",
       "      <th>Quantity</th>\n",
       "      <th>Discount</th>\n",
       "    </tr>\n",
       "  </thead>\n",
       "  <tbody>\n",
       "    <tr>\n",
       "      <th>2139</th>\n",
       "      <td>11077/14</td>\n",
       "      <td>11077</td>\n",
       "      <td>14</td>\n",
       "      <td>23.25</td>\n",
       "      <td>1</td>\n",
       "      <td>0.03</td>\n",
       "    </tr>\n",
       "    <tr>\n",
       "      <th>2140</th>\n",
       "      <td>11077/16</td>\n",
       "      <td>11077</td>\n",
       "      <td>16</td>\n",
       "      <td>17.45</td>\n",
       "      <td>2</td>\n",
       "      <td>0.03</td>\n",
       "    </tr>\n",
       "    <tr>\n",
       "      <th>2150</th>\n",
       "      <td>11077/64</td>\n",
       "      <td>11077</td>\n",
       "      <td>64</td>\n",
       "      <td>33.25</td>\n",
       "      <td>2</td>\n",
       "      <td>0.03</td>\n",
       "    </tr>\n",
       "  </tbody>\n",
       "</table>\n",
       "</div>"
      ],
      "text/plain": [
       "            Id  OrderId  ProductId  UnitPrice  Quantity  Discount\n",
       "2139  11077/14    11077         14      23.25         1      0.03\n",
       "2140  11077/16    11077         16      17.45         2      0.03\n",
       "2150  11077/64    11077         64      33.25         2      0.03"
      ]
     },
     "execution_count": 13,
     "metadata": {},
     "output_type": "execute_result"
    }
   ],
   "source": [
    "df_discount_0_03 = df[df['Discount']==0.03]\n",
    "df_discount_0_03"
   ]
  },
  {
   "cell_type": "code",
   "execution_count": 14,
   "metadata": {},
   "outputs": [
    {
     "data": {
      "text/html": [
       "<div>\n",
       "<style scoped>\n",
       "    .dataframe tbody tr th:only-of-type {\n",
       "        vertical-align: middle;\n",
       "    }\n",
       "\n",
       "    .dataframe tbody tr th {\n",
       "        vertical-align: top;\n",
       "    }\n",
       "\n",
       "    .dataframe thead th {\n",
       "        text-align: right;\n",
       "    }\n",
       "</style>\n",
       "<table border=\"1\" class=\"dataframe\">\n",
       "  <thead>\n",
       "    <tr style=\"text-align: right;\">\n",
       "      <th></th>\n",
       "      <th>Id</th>\n",
       "      <th>OrderId</th>\n",
       "      <th>ProductId</th>\n",
       "      <th>UnitPrice</th>\n",
       "      <th>Quantity</th>\n",
       "      <th>Discount</th>\n",
       "    </tr>\n",
       "  </thead>\n",
       "  <tbody>\n",
       "    <tr>\n",
       "      <th>2141</th>\n",
       "      <td>11077/20</td>\n",
       "      <td>11077</td>\n",
       "      <td>20</td>\n",
       "      <td>81.0</td>\n",
       "      <td>1</td>\n",
       "      <td>0.04</td>\n",
       "    </tr>\n",
       "  </tbody>\n",
       "</table>\n",
       "</div>"
      ],
      "text/plain": [
       "            Id  OrderId  ProductId  UnitPrice  Quantity  Discount\n",
       "2141  11077/20    11077         20       81.0         1      0.04"
      ]
     },
     "execution_count": 14,
     "metadata": {},
     "output_type": "execute_result"
    }
   ],
   "source": [
    "df_discount_0_04 = df[df['Discount']==0.04]\n",
    "df_discount_0_04"
   ]
  },
  {
   "cell_type": "code",
   "execution_count": 15,
   "metadata": {},
   "outputs": [
    {
     "data": {
      "text/html": [
       "<div>\n",
       "<style scoped>\n",
       "    .dataframe tbody tr th:only-of-type {\n",
       "        vertical-align: middle;\n",
       "    }\n",
       "\n",
       "    .dataframe tbody tr th {\n",
       "        vertical-align: top;\n",
       "    }\n",
       "\n",
       "    .dataframe thead th {\n",
       "        text-align: right;\n",
       "    }\n",
       "</style>\n",
       "<table border=\"1\" class=\"dataframe\">\n",
       "  <thead>\n",
       "    <tr style=\"text-align: right;\">\n",
       "      <th></th>\n",
       "      <th>Id</th>\n",
       "      <th>OrderId</th>\n",
       "      <th>ProductId</th>\n",
       "      <th>UnitPrice</th>\n",
       "      <th>Quantity</th>\n",
       "      <th>Discount</th>\n",
       "    </tr>\n",
       "  </thead>\n",
       "  <tbody>\n",
       "    <tr>\n",
       "      <th>2149</th>\n",
       "      <td>11077/60</td>\n",
       "      <td>11077</td>\n",
       "      <td>60</td>\n",
       "      <td>34.0</td>\n",
       "      <td>2</td>\n",
       "      <td>0.06</td>\n",
       "    </tr>\n",
       "  </tbody>\n",
       "</table>\n",
       "</div>"
      ],
      "text/plain": [
       "            Id  OrderId  ProductId  UnitPrice  Quantity  Discount\n",
       "2149  11077/60    11077         60       34.0         2      0.06"
      ]
     },
     "execution_count": 15,
     "metadata": {},
     "output_type": "execute_result"
    }
   ],
   "source": [
    "df_discount_0_06 = df[df['Discount']==0.06]\n",
    "df_discount_0_06"
   ]
  },
  {
   "cell_type": "code",
   "execution_count": 16,
   "metadata": {},
   "outputs": [
    {
     "data": {
      "text/plain": [
       "0.0037122969837587007"
      ]
     },
     "execution_count": 16,
     "metadata": {},
     "output_type": "execute_result"
    }
   ],
   "source": [
    "# percentange of rows of data where \"off\" percentages were referenced\n",
    "8/len(df['Discount'])"
   ]
  },
  {
   "cell_type": "markdown",
   "metadata": {},
   "source": [
    "After some exploration, we decided to drop order number 11077. It has a bunch of off percentages that were used only for that order, including a 1, 2, 3, 4, and 6 percent discount for one, two, or three items. Additionally, this dropped data is less than 1% percent of all data included."
   ]
  },
  {
   "cell_type": "code",
   "execution_count": 17,
   "metadata": {},
   "outputs": [
    {
     "data": {
      "text/html": [
       "<div>\n",
       "<style scoped>\n",
       "    .dataframe tbody tr th:only-of-type {\n",
       "        vertical-align: middle;\n",
       "    }\n",
       "\n",
       "    .dataframe tbody tr th {\n",
       "        vertical-align: top;\n",
       "    }\n",
       "\n",
       "    .dataframe thead th {\n",
       "        text-align: right;\n",
       "    }\n",
       "</style>\n",
       "<table border=\"1\" class=\"dataframe\">\n",
       "  <thead>\n",
       "    <tr style=\"text-align: right;\">\n",
       "      <th></th>\n",
       "      <th>Id</th>\n",
       "      <th>OrderId</th>\n",
       "      <th>ProductId</th>\n",
       "      <th>UnitPrice</th>\n",
       "      <th>Quantity</th>\n",
       "      <th>Discount</th>\n",
       "    </tr>\n",
       "  </thead>\n",
       "  <tbody>\n",
       "    <tr>\n",
       "      <th>0</th>\n",
       "      <td>10248/11</td>\n",
       "      <td>10248</td>\n",
       "      <td>11</td>\n",
       "      <td>14.00</td>\n",
       "      <td>12</td>\n",
       "      <td>0.00</td>\n",
       "    </tr>\n",
       "    <tr>\n",
       "      <th>1</th>\n",
       "      <td>10248/42</td>\n",
       "      <td>10248</td>\n",
       "      <td>42</td>\n",
       "      <td>9.80</td>\n",
       "      <td>10</td>\n",
       "      <td>0.00</td>\n",
       "    </tr>\n",
       "    <tr>\n",
       "      <th>2</th>\n",
       "      <td>10248/72</td>\n",
       "      <td>10248</td>\n",
       "      <td>72</td>\n",
       "      <td>34.80</td>\n",
       "      <td>5</td>\n",
       "      <td>0.00</td>\n",
       "    </tr>\n",
       "    <tr>\n",
       "      <th>3</th>\n",
       "      <td>10249/14</td>\n",
       "      <td>10249</td>\n",
       "      <td>14</td>\n",
       "      <td>18.60</td>\n",
       "      <td>9</td>\n",
       "      <td>0.00</td>\n",
       "    </tr>\n",
       "    <tr>\n",
       "      <th>4</th>\n",
       "      <td>10249/51</td>\n",
       "      <td>10249</td>\n",
       "      <td>51</td>\n",
       "      <td>42.40</td>\n",
       "      <td>40</td>\n",
       "      <td>0.00</td>\n",
       "    </tr>\n",
       "    <tr>\n",
       "      <th>...</th>\n",
       "      <td>...</td>\n",
       "      <td>...</td>\n",
       "      <td>...</td>\n",
       "      <td>...</td>\n",
       "      <td>...</td>\n",
       "      <td>...</td>\n",
       "    </tr>\n",
       "    <tr>\n",
       "      <th>2125</th>\n",
       "      <td>11075/46</td>\n",
       "      <td>11075</td>\n",
       "      <td>46</td>\n",
       "      <td>12.00</td>\n",
       "      <td>30</td>\n",
       "      <td>0.15</td>\n",
       "    </tr>\n",
       "    <tr>\n",
       "      <th>2126</th>\n",
       "      <td>11075/76</td>\n",
       "      <td>11075</td>\n",
       "      <td>76</td>\n",
       "      <td>18.00</td>\n",
       "      <td>2</td>\n",
       "      <td>0.15</td>\n",
       "    </tr>\n",
       "    <tr>\n",
       "      <th>2127</th>\n",
       "      <td>11076/6</td>\n",
       "      <td>11076</td>\n",
       "      <td>6</td>\n",
       "      <td>25.00</td>\n",
       "      <td>20</td>\n",
       "      <td>0.25</td>\n",
       "    </tr>\n",
       "    <tr>\n",
       "      <th>2128</th>\n",
       "      <td>11076/14</td>\n",
       "      <td>11076</td>\n",
       "      <td>14</td>\n",
       "      <td>23.25</td>\n",
       "      <td>20</td>\n",
       "      <td>0.25</td>\n",
       "    </tr>\n",
       "    <tr>\n",
       "      <th>2129</th>\n",
       "      <td>11076/19</td>\n",
       "      <td>11076</td>\n",
       "      <td>19</td>\n",
       "      <td>9.20</td>\n",
       "      <td>10</td>\n",
       "      <td>0.25</td>\n",
       "    </tr>\n",
       "  </tbody>\n",
       "</table>\n",
       "<p>2130 rows × 6 columns</p>\n",
       "</div>"
      ],
      "text/plain": [
       "            Id  OrderId  ProductId  UnitPrice  Quantity  Discount\n",
       "0     10248/11    10248         11      14.00        12      0.00\n",
       "1     10248/42    10248         42       9.80        10      0.00\n",
       "2     10248/72    10248         72      34.80         5      0.00\n",
       "3     10249/14    10249         14      18.60         9      0.00\n",
       "4     10249/51    10249         51      42.40        40      0.00\n",
       "...        ...      ...        ...        ...       ...       ...\n",
       "2125  11075/46    11075         46      12.00        30      0.15\n",
       "2126  11075/76    11075         76      18.00         2      0.15\n",
       "2127   11076/6    11076          6      25.00        20      0.25\n",
       "2128  11076/14    11076         14      23.25        20      0.25\n",
       "2129  11076/19    11076         19       9.20        10      0.25\n",
       "\n",
       "[2130 rows x 6 columns]"
      ]
     },
     "execution_count": 17,
     "metadata": {},
     "output_type": "execute_result"
    }
   ],
   "source": [
    "df = df[df['OrderId']!=11077]\n",
    "df"
   ]
  },
  {
   "cell_type": "markdown",
   "metadata": {},
   "source": [
    "## 1.2.3 Explore Data<a id='Explore Data'></a>\n",
    "\n",
    "For a quick preview of what we have to work with, we'll use the describe method.\n",
    "\n",
    "- 1.2.3.1 Visualize data\n",
    "- 1.2.3.2 Transform data\n",
    "- 1.2.3.3 Sort data / Prepare data for testing\n",
    "- 1.2.3.4 Develop Feature"
   ]
  },
  {
   "cell_type": "markdown",
   "metadata": {},
   "source": [
    "### 1.2.3.1 Visualize data<a id='Visualize data'></a>"
   ]
  },
  {
   "cell_type": "code",
   "execution_count": 18,
   "metadata": {},
   "outputs": [
    {
     "data": {
      "text/html": [
       "<div>\n",
       "<style scoped>\n",
       "    .dataframe tbody tr th:only-of-type {\n",
       "        vertical-align: middle;\n",
       "    }\n",
       "\n",
       "    .dataframe tbody tr th {\n",
       "        vertical-align: top;\n",
       "    }\n",
       "\n",
       "    .dataframe thead th {\n",
       "        text-align: right;\n",
       "    }\n",
       "</style>\n",
       "<table border=\"1\" class=\"dataframe\">\n",
       "  <thead>\n",
       "    <tr style=\"text-align: right;\">\n",
       "      <th></th>\n",
       "      <th>OrderId</th>\n",
       "      <th>ProductId</th>\n",
       "      <th>UnitPrice</th>\n",
       "      <th>Quantity</th>\n",
       "      <th>Discount</th>\n",
       "    </tr>\n",
       "  </thead>\n",
       "  <tbody>\n",
       "    <tr>\n",
       "      <th>count</th>\n",
       "      <td>2130.000000</td>\n",
       "      <td>2130.000000</td>\n",
       "      <td>2130.000000</td>\n",
       "      <td>2130.000000</td>\n",
       "      <td>2130.000000</td>\n",
       "    </tr>\n",
       "    <tr>\n",
       "      <th>mean</th>\n",
       "      <td>10654.474178</td>\n",
       "      <td>40.887793</td>\n",
       "      <td>26.256601</td>\n",
       "      <td>24.058685</td>\n",
       "      <td>0.056502</td>\n",
       "    </tr>\n",
       "    <tr>\n",
       "      <th>std</th>\n",
       "      <td>238.485752</td>\n",
       "      <td>22.099737</td>\n",
       "      <td>29.952802</td>\n",
       "      <td>18.990859</td>\n",
       "      <td>0.083749</td>\n",
       "    </tr>\n",
       "    <tr>\n",
       "      <th>min</th>\n",
       "      <td>10248.000000</td>\n",
       "      <td>1.000000</td>\n",
       "      <td>2.000000</td>\n",
       "      <td>1.000000</td>\n",
       "      <td>0.000000</td>\n",
       "    </tr>\n",
       "    <tr>\n",
       "      <th>25%</th>\n",
       "      <td>10448.250000</td>\n",
       "      <td>22.000000</td>\n",
       "      <td>12.000000</td>\n",
       "      <td>10.000000</td>\n",
       "      <td>0.000000</td>\n",
       "    </tr>\n",
       "    <tr>\n",
       "      <th>50%</th>\n",
       "      <td>10653.000000</td>\n",
       "      <td>41.000000</td>\n",
       "      <td>18.400000</td>\n",
       "      <td>20.000000</td>\n",
       "      <td>0.000000</td>\n",
       "    </tr>\n",
       "    <tr>\n",
       "      <th>75%</th>\n",
       "      <td>10856.000000</td>\n",
       "      <td>60.000000</td>\n",
       "      <td>32.000000</td>\n",
       "      <td>30.000000</td>\n",
       "      <td>0.100000</td>\n",
       "    </tr>\n",
       "    <tr>\n",
       "      <th>max</th>\n",
       "      <td>11076.000000</td>\n",
       "      <td>77.000000</td>\n",
       "      <td>263.500000</td>\n",
       "      <td>130.000000</td>\n",
       "      <td>0.250000</td>\n",
       "    </tr>\n",
       "  </tbody>\n",
       "</table>\n",
       "</div>"
      ],
      "text/plain": [
       "            OrderId    ProductId    UnitPrice     Quantity     Discount\n",
       "count   2130.000000  2130.000000  2130.000000  2130.000000  2130.000000\n",
       "mean   10654.474178    40.887793    26.256601    24.058685     0.056502\n",
       "std      238.485752    22.099737    29.952802    18.990859     0.083749\n",
       "min    10248.000000     1.000000     2.000000     1.000000     0.000000\n",
       "25%    10448.250000    22.000000    12.000000    10.000000     0.000000\n",
       "50%    10653.000000    41.000000    18.400000    20.000000     0.000000\n",
       "75%    10856.000000    60.000000    32.000000    30.000000     0.100000\n",
       "max    11076.000000    77.000000   263.500000   130.000000     0.250000"
      ]
     },
     "execution_count": 18,
     "metadata": {},
     "output_type": "execute_result"
    }
   ],
   "source": [
    "df.describe()"
   ]
  },
  {
   "cell_type": "code",
   "execution_count": 19,
   "metadata": {},
   "outputs": [
    {
     "data": {
      "image/png": "[encoded data removed]",
      "text/plain": [
       "<Figure size 1440x1440 with 6 Axes>"
      ]
     },
     "metadata": {
      "needs_background": "light"
     },
     "output_type": "display_data"
    }
   ],
   "source": [
    "df.hist(figsize=(20,20));"
   ]
  },
  {
   "cell_type": "markdown",
   "metadata": {},
   "source": [
    "### 1.2.3.2 Transform data<a id='Transform data'></a>"
   ]
  },
  {
   "cell_type": "markdown",
   "metadata": {},
   "source": [
    "### 1.2.3.3 Sort data / Prepare data for testing<a id='Sort data'></a>"
   ]
  },
  {
   "cell_type": "code",
   "execution_count": 20,
   "metadata": {},
   "outputs": [],
   "source": [
    "# sort data\n",
    "pass"
   ]
  },
  {
   "cell_type": "markdown",
   "metadata": {},
   "source": [
    "### 1.2.3.4 Develop feature<a id='Develop feature'></a>"
   ]
  },
  {
   "cell_type": "code",
   "execution_count": 21,
   "metadata": {},
   "outputs": [],
   "source": [
    "pass"
   ]
  },
  {
   "cell_type": "markdown",
   "metadata": {},
   "source": [
    "## 1.2.4 Model Data<a id='Model Data'></a>\n",
    "\n",
    "2 Sample T-Test\n",
    "\n",
    "- 1.2.4.1 Check for data normality\n",
    "- 1.2.4.2 Standard deviation and other basic statistics\n",
    "- 1.2.4.3 Statistical test\n",
    "- 1.2.4.4 Verification techniques"
   ]
  },
  {
   "cell_type": "markdown",
   "metadata": {},
   "source": [
    "### 1.2.4.1 Check for data normality<a id='Data normality'></a>"
   ]
  },
  {
   "cell_type": "code",
   "execution_count": null,
   "metadata": {},
   "outputs": [],
   "source": []
  },
  {
   "cell_type": "markdown",
   "metadata": {},
   "source": [
    "### 1.2.4.2 Standard deviation and other basic statistics<a id='Standard deviation'></a>"
   ]
  },
  {
   "cell_type": "code",
   "execution_count": null,
   "metadata": {},
   "outputs": [],
   "source": []
  },
  {
   "cell_type": "markdown",
   "metadata": {},
   "source": [
    "### 1.2.4.3 Statistical test<a id='Statistical test'></a>"
   ]
  },
  {
   "cell_type": "code",
   "execution_count": 22,
   "metadata": {},
   "outputs": [
    {
     "data": {
      "text/plain": [
       "-6.435470210648312"
      ]
     },
     "execution_count": 22,
     "metadata": {},
     "output_type": "execute_result"
    }
   ],
   "source": [
    "# calculating the t statistic (doing on 'paper' to confirm that the data is organized correctly before running test)\n",
    "alpha = 0.05\n",
    "x_bar_no_discount = df[df['Discount']==0]['Quantity'].mean()\n",
    "x_bar_discount = df[df['Discount']!=0]['Quantity'].mean()\n",
    "sigma_no_discount = df[df['Discount']==0]['Quantity'].std()\n",
    "sigma_discount = df[df['Discount']!=0]['Quantity'].std()\n",
    "n_no_discount = len(df[df['Discount']==0]['Quantity'])\n",
    "n_discount = len(df[df['Discount']!=0]['Quantity'])\n",
    "mu_discount = mu_no_discount = 100\n",
    "dof = n_discount - 1\n",
    "t = ((x_bar_no_discount-x_bar_discount) - (mu_no_discount-mu_discount)) / np.sqrt((sigma_no_discount**2/n_no_discount) + (sigma_discount**2/n_discount))\n",
    "t"
   ]
  },
  {
   "cell_type": "code",
   "execution_count": 23,
   "metadata": {},
   "outputs": [
    {
     "data": {
      "text/plain": [
       "2.978795042135765e-11"
      ]
     },
     "execution_count": 23,
     "metadata": {},
     "output_type": "execute_result"
    }
   ],
   "source": [
    "# test\n",
    "statistic, pvalue = stats.ttest_ind(df[df['Discount']==0]['Quantity'], df[df['Discount']!=0]['Quantity'])\n",
    "pvalue"
   ]
  },
  {
   "cell_type": "code",
   "execution_count": 24,
   "metadata": {},
   "outputs": [
    {
     "name": "stdout",
     "output_type": "stream",
     "text": [
      "Reject the null hypothesis\n"
     ]
    }
   ],
   "source": [
    "# evaluation of results\n",
    "if alpha > pvalue:\n",
    "    print('Reject the null hypothesis')\n",
    "else:\n",
    "    print('Fail to reject the null hypothesis')"
   ]
  },
  {
   "cell_type": "markdown",
   "metadata": {},
   "source": [
    "This means means that discount has a statistically significant effect on quantity of a product in an order, tentatively. This needs to be explored a little bit further to verify that this is the case, and that our results are valid. To verfiy results, we'll run a Mann Whitney to ensure that this is the case for non-parametric data as well. Our histograms for quantity were skewed right, so there is a chance that the data is non-paramentric. Then we will run a test on effect size to ensure that we have enough data points to declare statistical significance."
   ]
  },
  {
   "cell_type": "markdown",
   "metadata": {},
   "source": [
    "### 1.2.4.4 Verification techniques<a id='Verification techniques'></a>"
   ]
  },
  {
   "cell_type": "markdown",
   "metadata": {},
   "source": [
    "#### 1.2.4.4.1 Nonparametric testing and confirmatory testing<a id='Nonparametric testing'></a>\n",
    "Mann Whitney Test"
   ]
  },
  {
   "cell_type": "code",
   "execution_count": 25,
   "metadata": {},
   "outputs": [
    {
     "data": {
      "image/png": "[encoded data removed]",
      "text/plain": [
       "<Figure size 576x360 with 1 Axes>"
      ]
     },
     "metadata": {
      "needs_background": "light"
     },
     "output_type": "display_data"
    }
   ],
   "source": [
    "# visualizing the data\n",
    "fig03 = plt.figure(figsize=(8,5))\n",
    "ax = fig03.add_subplot(111)\n",
    "ax.axes.set_title('Quantity of Discount Compared to No Discount')\n",
    "ax.axes.set_ylabel('Occurance')\n",
    "ax.axes.set_xlabel('Quantity')\n",
    "ax1 = sns.distplot(df[df['Discount']==0]['Quantity'], label=('No Discount'), ax=ax).set_xlim(0)\n",
    "ax2 = sns.distplot(df[df['Discount']!=0]['Quantity'], label=('Discount'), ax=ax).set_xlim(0)\n",
    "ax.axes.legend();"
   ]
  },
  {
   "cell_type": "code",
   "execution_count": 26,
   "metadata": {},
   "outputs": [
    {
     "data": {
      "text/plain": [
       "8.339491776417814e-12"
      ]
     },
     "execution_count": 26,
     "metadata": {},
     "output_type": "execute_result"
    }
   ],
   "source": [
    "# mann whitney test\n",
    "statistice, pvalue = stats.mannwhitneyu(df[df['Discount']==0]['Quantity'], df[df['Discount']!=0]['Quantity'])\n",
    "pvalue"
   ]
  },
  {
   "cell_type": "code",
   "execution_count": 27,
   "metadata": {},
   "outputs": [
    {
     "name": "stdout",
     "output_type": "stream",
     "text": [
      "Reject the null hypothesis\n"
     ]
    }
   ],
   "source": [
    "# evaluating the result\n",
    "if alpha > pvalue:\n",
    "    print('Reject the null hypothesis')\n",
    "else:\n",
    "    print('Fail to reject the null hypothesis')"
   ]
  },
  {
   "cell_type": "markdown",
   "metadata": {},
   "source": [
    "This confirms that even with non-parametric data, the same rejection of the null hypothesis is in place, meaning that the availablity of a discount affects quantity ordered. Now to see how large the impact of a discount is. Then to see how many samples are needed to ensure valid results.\n"
   ]
  },
  {
   "cell_type": "markdown",
   "metadata": {},
   "source": [
    "#### 1.2.4.4.2 Effect size<a id='Effect size'></a>\n",
    "Cohen's D"
   ]
  },
  {
   "cell_type": "code",
   "execution_count": 28,
   "metadata": {},
   "outputs": [
    {
     "data": {
      "text/plain": [
       "-0.29725796307085034"
      ]
     },
     "execution_count": 28,
     "metadata": {},
     "output_type": "execute_result"
    }
   ],
   "source": [
    "def cohen_d_two_samp(x,y):\n",
    "    nx = len(x)\n",
    "    ny = len(y)\n",
    "    dof = nx + ny - 2\n",
    "    return (mean(x) - mean(y)) / sqrt(((nx-1)*std(x, ddof=1) ** 2 + (ny-1)*std(y, ddof=1) ** 2) / dof)\n",
    "effect_size = cohen_d_two_samp(df[df['Discount']==0]['Quantity'], df[df['Discount']!=0]['Quantity'])\n",
    "effect_size"
   ]
  },
  {
   "cell_type": "markdown",
   "metadata": {},
   "source": [
    "This Cohen's D value actually is very low. There a very small affect of discount on quantity of products purchased."
   ]
  },
  {
   "cell_type": "markdown",
   "metadata": {},
   "source": [
    "#### 1.2.4.4.3 Error<a id='Error'></a>"
   ]
  },
  {
   "cell_type": "markdown",
   "metadata": {},
   "source": [
    "Type 1"
   ]
  },
  {
   "cell_type": "markdown",
   "metadata": {},
   "source": [
    "Type 2"
   ]
  },
  {
   "cell_type": "code",
   "execution_count": 30,
   "metadata": {},
   "outputs": [],
   "source": [
    "# prepping variables\n",
    "effect_size, nobs1, alpha = effect_size, df[df['Discount']==0]['Quantity'].shape[0], alpha"
   ]
  },
  {
   "cell_type": "code",
   "execution_count": 31,
   "metadata": {},
   "outputs": [
    {
     "data": {
      "text/plain": [
       "1.0"
      ]
     },
     "execution_count": 31,
     "metadata": {},
     "output_type": "execute_result"
    }
   ],
   "source": [
    "# power test\n",
    "power = tt_ind_solve_power(effect_size=effect_size, nobs1=nobs1, alpha=alpha)\n",
    "power"
   ]
  },
  {
   "cell_type": "code",
   "execution_count": 32,
   "metadata": {},
   "outputs": [
    {
     "data": {
      "text/plain": [
       "0.0"
      ]
     },
     "execution_count": 32,
     "metadata": {},
     "output_type": "execute_result"
    }
   ],
   "source": [
    "# results\n",
    "type_2_error = 1 - power\n",
    "type_2_error"
   ]
  },
  {
   "cell_type": "markdown",
   "metadata": {},
   "source": [
    "## 1.2.5 Interpret Model<a id='Interpret Model'></a>"
   ]
  },
  {
   "cell_type": "markdown",
   "metadata": {},
   "source": [
    "### 1.2.5.1 Extension of acquired knowledge<a id='Extension'></a>"
   ]
  },
  {
   "cell_type": "markdown",
   "metadata": {},
   "source": [
    "#### Deeper question\n",
    "#### Hypothesis for deeper question\n",
    "## One Way ANOVA\n",
    "\n",
    "### H0: quantity of order is not affected by discount size, meaning all discounts for quantity ordered are the same\n",
    "### HA: quantity of order is affected by discount size, meaning at least one discount impacts quantity ordered\n",
    "\n",
    "### Looking at the necessary data to identify discount levels\n",
    "\n",
    "A small note about the decision to drop order# 11077 from the dataset to remove the 1, 2, 3, 4, and 6 percent discounts."
   ]
  },
  {
   "cell_type": "code",
   "execution_count": 33,
   "metadata": {},
   "outputs": [
    {
     "data": {
      "text/plain": [
       "0     0.00\n",
       "1     0.15\n",
       "2     0.05\n",
       "3     0.20\n",
       "4     0.25\n",
       "5     0.10\n",
       "6     0.02\n",
       "7     0.03\n",
       "8     0.04\n",
       "9     0.06\n",
       "10    0.01\n",
       "Name: Discount, dtype: float64"
      ]
     },
     "execution_count": 33,
     "metadata": {},
     "output_type": "execute_result"
    }
   ],
   "source": [
    "# discount amount reminder from original data\n",
    "cur.execute(\"\"\"SELECT DISTINCT(Discount)\n",
    "               FROM OrderDetail\n",
    "               \"\"\")\n",
    "df_distint_discount = pd.DataFrame(cur.fetchall())\n",
    "df_distint_discount.columns = [x[0] for x in cur.description]\n",
    "df_distint_discount['Discount']"
   ]
  },
  {
   "cell_type": "code",
   "execution_count": 34,
   "metadata": {},
   "outputs": [
    {
     "data": {
      "text/html": [
       "<div>\n",
       "<style scoped>\n",
       "    .dataframe tbody tr th:only-of-type {\n",
       "        vertical-align: middle;\n",
       "    }\n",
       "\n",
       "    .dataframe tbody tr th {\n",
       "        vertical-align: top;\n",
       "    }\n",
       "\n",
       "    .dataframe thead th {\n",
       "        text-align: right;\n",
       "    }\n",
       "</style>\n",
       "<table border=\"1\" class=\"dataframe\">\n",
       "  <thead>\n",
       "    <tr style=\"text-align: right;\">\n",
       "      <th></th>\n",
       "      <th>Id</th>\n",
       "      <th>OrderId</th>\n",
       "      <th>ProductId</th>\n",
       "      <th>UnitPrice</th>\n",
       "      <th>Quantity</th>\n",
       "      <th>Discount</th>\n",
       "    </tr>\n",
       "  </thead>\n",
       "  <tbody>\n",
       "    <tr>\n",
       "      <th>6</th>\n",
       "      <td>10250/51</td>\n",
       "      <td>10250</td>\n",
       "      <td>51</td>\n",
       "      <td>42.4</td>\n",
       "      <td>35</td>\n",
       "      <td>0.15</td>\n",
       "    </tr>\n",
       "    <tr>\n",
       "      <th>7</th>\n",
       "      <td>10250/65</td>\n",
       "      <td>10250</td>\n",
       "      <td>65</td>\n",
       "      <td>16.8</td>\n",
       "      <td>15</td>\n",
       "      <td>0.15</td>\n",
       "    </tr>\n",
       "    <tr>\n",
       "      <th>8</th>\n",
       "      <td>10251/22</td>\n",
       "      <td>10251</td>\n",
       "      <td>22</td>\n",
       "      <td>16.8</td>\n",
       "      <td>6</td>\n",
       "      <td>0.05</td>\n",
       "    </tr>\n",
       "    <tr>\n",
       "      <th>9</th>\n",
       "      <td>10251/57</td>\n",
       "      <td>10251</td>\n",
       "      <td>57</td>\n",
       "      <td>15.6</td>\n",
       "      <td>15</td>\n",
       "      <td>0.05</td>\n",
       "    </tr>\n",
       "    <tr>\n",
       "      <th>11</th>\n",
       "      <td>10252/20</td>\n",
       "      <td>10252</td>\n",
       "      <td>20</td>\n",
       "      <td>64.8</td>\n",
       "      <td>40</td>\n",
       "      <td>0.05</td>\n",
       "    </tr>\n",
       "    <tr>\n",
       "      <th>12</th>\n",
       "      <td>10252/33</td>\n",
       "      <td>10252</td>\n",
       "      <td>33</td>\n",
       "      <td>2.0</td>\n",
       "      <td>25</td>\n",
       "      <td>0.05</td>\n",
       "    </tr>\n",
       "    <tr>\n",
       "      <th>17</th>\n",
       "      <td>10254/24</td>\n",
       "      <td>10254</td>\n",
       "      <td>24</td>\n",
       "      <td>3.6</td>\n",
       "      <td>15</td>\n",
       "      <td>0.15</td>\n",
       "    </tr>\n",
       "    <tr>\n",
       "      <th>18</th>\n",
       "      <td>10254/55</td>\n",
       "      <td>10254</td>\n",
       "      <td>55</td>\n",
       "      <td>19.2</td>\n",
       "      <td>21</td>\n",
       "      <td>0.15</td>\n",
       "    </tr>\n",
       "    <tr>\n",
       "      <th>29</th>\n",
       "      <td>10258/2</td>\n",
       "      <td>10258</td>\n",
       "      <td>2</td>\n",
       "      <td>15.2</td>\n",
       "      <td>50</td>\n",
       "      <td>0.20</td>\n",
       "    </tr>\n",
       "    <tr>\n",
       "      <th>30</th>\n",
       "      <td>10258/5</td>\n",
       "      <td>10258</td>\n",
       "      <td>5</td>\n",
       "      <td>17.0</td>\n",
       "      <td>65</td>\n",
       "      <td>0.20</td>\n",
       "    </tr>\n",
       "    <tr>\n",
       "      <th>31</th>\n",
       "      <td>10258/32</td>\n",
       "      <td>10258</td>\n",
       "      <td>32</td>\n",
       "      <td>25.6</td>\n",
       "      <td>6</td>\n",
       "      <td>0.20</td>\n",
       "    </tr>\n",
       "    <tr>\n",
       "      <th>34</th>\n",
       "      <td>10260/41</td>\n",
       "      <td>10260</td>\n",
       "      <td>41</td>\n",
       "      <td>7.7</td>\n",
       "      <td>16</td>\n",
       "      <td>0.25</td>\n",
       "    </tr>\n",
       "    <tr>\n",
       "      <th>36</th>\n",
       "      <td>10260/62</td>\n",
       "      <td>10260</td>\n",
       "      <td>62</td>\n",
       "      <td>39.4</td>\n",
       "      <td>15</td>\n",
       "      <td>0.25</td>\n",
       "    </tr>\n",
       "    <tr>\n",
       "      <th>37</th>\n",
       "      <td>10260/70</td>\n",
       "      <td>10260</td>\n",
       "      <td>70</td>\n",
       "      <td>12.0</td>\n",
       "      <td>21</td>\n",
       "      <td>0.25</td>\n",
       "    </tr>\n",
       "    <tr>\n",
       "      <th>40</th>\n",
       "      <td>10262/5</td>\n",
       "      <td>10262</td>\n",
       "      <td>5</td>\n",
       "      <td>17.0</td>\n",
       "      <td>12</td>\n",
       "      <td>0.20</td>\n",
       "    </tr>\n",
       "  </tbody>\n",
       "</table>\n",
       "</div>"
      ],
      "text/plain": [
       "          Id  OrderId  ProductId  UnitPrice  Quantity  Discount\n",
       "6   10250/51    10250         51       42.4        35      0.15\n",
       "7   10250/65    10250         65       16.8        15      0.15\n",
       "8   10251/22    10251         22       16.8         6      0.05\n",
       "9   10251/57    10251         57       15.6        15      0.05\n",
       "11  10252/20    10252         20       64.8        40      0.05\n",
       "12  10252/33    10252         33        2.0        25      0.05\n",
       "17  10254/24    10254         24        3.6        15      0.15\n",
       "18  10254/55    10254         55       19.2        21      0.15\n",
       "29   10258/2    10258          2       15.2        50      0.20\n",
       "30   10258/5    10258          5       17.0        65      0.20\n",
       "31  10258/32    10258         32       25.6         6      0.20\n",
       "34  10260/41    10260         41        7.7        16      0.25\n",
       "36  10260/62    10260         62       39.4        15      0.25\n",
       "37  10260/70    10260         70       12.0        21      0.25\n",
       "40   10262/5    10262          5       17.0        12      0.20"
      ]
     },
     "execution_count": 34,
     "metadata": {},
     "output_type": "execute_result"
    }
   ],
   "source": [
    "# variables are prepped from the original data frame\n",
    "anova_df = df[df['Discount']!=0]\n",
    "anova_df.head(15)"
   ]
  },
  {
   "cell_type": "code",
   "execution_count": 35,
   "metadata": {},
   "outputs": [
    {
     "data": {
      "text/html": [
       "<div>\n",
       "<style scoped>\n",
       "    .dataframe tbody tr th:only-of-type {\n",
       "        vertical-align: middle;\n",
       "    }\n",
       "\n",
       "    .dataframe tbody tr th {\n",
       "        vertical-align: top;\n",
       "    }\n",
       "\n",
       "    .dataframe thead th {\n",
       "        text-align: right;\n",
       "    }\n",
       "</style>\n",
       "<table border=\"1\" class=\"dataframe\">\n",
       "  <thead>\n",
       "    <tr style=\"text-align: right;\">\n",
       "      <th></th>\n",
       "      <th>df</th>\n",
       "      <th>sum_sq</th>\n",
       "      <th>mean_sq</th>\n",
       "      <th>F</th>\n",
       "      <th>PR(&gt;F)</th>\n",
       "    </tr>\n",
       "  </thead>\n",
       "  <tbody>\n",
       "    <tr>\n",
       "      <th>Discount</th>\n",
       "      <td>1.0</td>\n",
       "      <td>18.503014</td>\n",
       "      <td>18.503014</td>\n",
       "      <td>0.043107</td>\n",
       "      <td>0.835576</td>\n",
       "    </tr>\n",
       "    <tr>\n",
       "      <th>Residual</th>\n",
       "      <td>823.0</td>\n",
       "      <td>353261.492138</td>\n",
       "      <td>429.236321</td>\n",
       "      <td>NaN</td>\n",
       "      <td>NaN</td>\n",
       "    </tr>\n",
       "  </tbody>\n",
       "</table>\n",
       "</div>"
      ],
      "text/plain": [
       "             df         sum_sq     mean_sq         F    PR(>F)\n",
       "Discount    1.0      18.503014   18.503014  0.043107  0.835576\n",
       "Residual  823.0  353261.492138  429.236321       NaN       NaN"
      ]
     },
     "execution_count": 35,
     "metadata": {},
     "output_type": "execute_result"
    }
   ],
   "source": [
    "# ANOVA test\n",
    "anova_results = sm.stats.anova_lm(ols('Quantity ~ Discount', data=anova_df).fit())\n",
    "anova_results"
   ]
  },
  {
   "cell_type": "code",
   "execution_count": 36,
   "metadata": {},
   "outputs": [],
   "source": [
    "# results\n",
    "pvalue = anova_results.loc['Discount', 'PR(>F)']"
   ]
  },
  {
   "cell_type": "code",
   "execution_count": 37,
   "metadata": {},
   "outputs": [
    {
     "name": "stdout",
     "output_type": "stream",
     "text": [
      "Fail to reject the null hypothesis\n"
     ]
    }
   ],
   "source": [
    "# evaluating results\n",
    "if alpha > pvalue:\n",
    "    print('Reject the null hypothesis')\n",
    "else:\n",
    "    print('Fail to reject the null hypothesis')"
   ]
  },
  {
   "cell_type": "markdown",
   "metadata": {},
   "source": [
    "Due to the ANOVA test, quantity of order is not affected by discount size. This means that overall, just by offering a discount at all quantity of the products ordered will increase. But it does not seem that offering larger discounts incentivizes increased spending by increasing the quantities ordered."
   ]
  },
  {
   "cell_type": "markdown",
   "metadata": {},
   "source": [
    "# 1.3 Results<a id='Results'></a>"
   ]
  },
  {
   "cell_type": "markdown",
   "metadata": {},
   "source": [
    "# 1.4 Conclusions<a id='Conclusions'></a>\n",
    "\n",
    "- 1.4.1 Actionable Items and Insights\n",
    "- 1.4.2 Additional Visuals"
   ]
  },
  {
   "cell_type": "markdown",
   "metadata": {},
   "source": [
    "## 1.4.1 Actionable Items and Insights<a id='Actionable Items and Insights'></a>\n",
    "\n",
    "It might be wise to offer more customers smaller discounts to increased quantities of products in orders. Do note that this impact while present, will not be large. I would look for additional ways to increase customer spending in addition to offering smaller discounts to a wider range of customers. "
   ]
  },
  {
   "cell_type": "markdown",
   "metadata": {},
   "source": [
    "## 1.4.2 Additional Visuals<a id='Additional Visuals'></a>"
   ]
  },
  {
   "cell_type": "code",
   "execution_count": 38,
   "metadata": {},
   "outputs": [
    {
     "name": "stderr",
     "output_type": "stream",
     "text": [
      "C:\\Users\\eannefawcett\\Anaconda3\\envs\\learn-env\\lib\\site-packages\\ipykernel_launcher.py:10: UserWarning: Matplotlib is currently using module://ipykernel.pylab.backend_inline, which is a non-GUI backend, so cannot show the figure.\n",
      "  # Remove the CWD from sys.path while we load stuff.\n"
     ]
    },
    {
     "data": {
      "image/png": "[encoded data removed]",
      "text/plain": [
       "<Figure size 720x432 with 1 Axes>"
      ]
     },
     "metadata": {
      "needs_background": "light"
     },
     "output_type": "display_data"
    }
   ],
   "source": [
    "# visual of no differences\n",
    "\n",
    "# create figure\n",
    "fig04 = plt.figure(figsize=(5,4))\n",
    "ax = fig04.add_subplot(111)\n",
    "\n",
    "# run tukeys\n",
    "from statsmodels.stats.multicomp import pairwise_tukeyhsd\n",
    "tukey_results = pairwise_tukeyhsd(anova_df['Quantity'], anova_df['Discount'])\n",
    "tukey_plot = tukey_results.plot_simultaneous(ax=ax).show() \n",
    "\n",
    "# format plot\n",
    "ax.axes.set_title('Multiple Comparisions Between Discount Levels')\n",
    "ax.axes.set_ylabel('Discount Level')\n",
    "ax.axes.set_xlabel('Quantity')\n",
    "plt.show();"
   ]
  },
  {
   "cell_type": "markdown",
   "metadata": {},
   "source": [
    "# 1.5 Future Work<a id='Future Work'></a>\n",
    "Possibly look at discounts for high quantities of products."
   ]
  },
  {
   "cell_type": "markdown",
   "metadata": {},
   "source": [
    "# 1.6 References<a id='References'></a>"
   ]
  }
 ],
 "metadata": {
  "kernelspec": {
   "display_name": "learn-env",
   "language": "python",
   "name": "learn-env"
  },
  "language_info": {
   "codemirror_mode": {
    "name": "ipython",
    "version": 3
   },
   "file_extension": ".py",
   "mimetype": "text/x-python",
   "name": "python",
   "nbconvert_exporter": "python",
   "pygments_lexer": "ipython3",
   "version": "3.6.6"
  }
 },
 "nbformat": 4,
 "nbformat_minor": 2
}
