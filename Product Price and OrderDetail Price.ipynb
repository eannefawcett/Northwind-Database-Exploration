{
 "cells": [
  {
   "cell_type": "markdown",
   "metadata": {},
   "source": [
    "<img src='images/Northwind_ERD_updated.png.'>"
   ]
  },
  {
   "cell_type": "markdown",
   "metadata": {},
   "source": [
    "# Question\n",
    "\n",
    "### Do the changes in product pricing affect spending?\n",
    "\n",
    "Both questions can be tested using a paired sample t-test.\n",
    "\n",
    "# Hypothesis\n",
    "\n",
    "## H0: no effect - there is no change to spending based on reorder or frieght costs\n",
    "## HA: there is an effect - there is a change to spending based on reorder or frieght costs\n",
    "\n",
    "## Feature: spending\n",
    "## Target: reorder/frieght"
   ]
  },
  {
   "cell_type": "markdown",
   "metadata": {},
   "source": [
    "# Methodology\n",
    "\n",
    "To evaluate the data provided by Northwind_ERD, I have chosen to use the following steps:\n",
    "- Obtain Data\n",
    "- Scrub Data\n",
    "- Explore Data\n",
    "- Modeling\n",
    "- Interpret\n",
    "\n",
    "I have found that the OSEMN method explains the data science process, and gives context to exploring data."
   ]
  },
  {
   "cell_type": "markdown",
   "metadata": {},
   "source": [
    "# Obtain Data\n",
    "\n",
    "The data we're evaluating comes from the 'Northwind_small.sqlite' file in this repository. We'll need to pull the following tables and the following lines of information:\n",
    "\n",
    "- Product\n",
    "    - ProductId\n",
    "    - ReorderLevel\n",
    "- Order\n",
    "    - OrderId\n",
    "    - ShipVia\n",
    "    - Frieght\n",
    "- OrderDetail\n",
    "    - OrderId\n",
    "    - ProductId\n",
    "    - UnitPrice\n",
    "    - Quantity"
   ]
  },
  {
   "cell_type": "code",
   "execution_count": 1,
   "metadata": {},
   "outputs": [],
   "source": [
    "# import py file\n",
    "from classes import Pvalue"
   ]
  },
  {
   "cell_type": "code",
   "execution_count": 2,
   "metadata": {},
   "outputs": [],
   "source": [
    "# import libraries\n",
    "import pandas as pd\n",
    "import sqlite3\n",
    "\n",
    "import numpy as np\n",
    "from numpy import std, mean, sqrt\n",
    "import scipy.stats as stats\n",
    "from scipy.stats import wilcoxon\n",
    "from statsmodels.stats.power import tt_ind_solve_power\n",
    "import statsmodels.api as sm\n",
    "from statsmodels.formula.api import ols\n",
    "\n",
    "import matplotlib.pyplot as plt\n",
    "%matplotlib inline\n",
    "# plt.style.use('Solarize_Light2')\n",
    "import seaborn as sns\n",
    "\n",
    "idx = pd.IndexSlice"
   ]
  },
  {
   "cell_type": "markdown",
   "metadata": {},
   "source": [
    "### Setting up the connection with the database"
   ]
  },
  {
   "cell_type": "code",
   "execution_count": 3,
   "metadata": {},
   "outputs": [],
   "source": [
    "conn = sqlite3.Connection('Northwind_small.sqlite')\n",
    "cur = conn.cursor()"
   ]
  },
  {
   "cell_type": "markdown",
   "metadata": {},
   "source": [
    "### Looking at the necessary data"
   ]
  },
  {
   "cell_type": "code",
   "execution_count": 4,
   "metadata": {},
   "outputs": [
    {
     "data": {
      "text/html": [
       "<div>\n",
       "<style scoped>\n",
       "    .dataframe tbody tr th:only-of-type {\n",
       "        vertical-align: middle;\n",
       "    }\n",
       "\n",
       "    .dataframe tbody tr th {\n",
       "        vertical-align: top;\n",
       "    }\n",
       "\n",
       "    .dataframe thead th {\n",
       "        text-align: right;\n",
       "    }\n",
       "</style>\n",
       "<table border=\"1\" class=\"dataframe\">\n",
       "  <thead>\n",
       "    <tr style=\"text-align: right;\">\n",
       "      <th></th>\n",
       "      <th>Id</th>\n",
       "      <th>CustomerId</th>\n",
       "      <th>EmployeeId</th>\n",
       "      <th>OrderDate</th>\n",
       "      <th>RequiredDate</th>\n",
       "      <th>ShippedDate</th>\n",
       "      <th>ShipVia</th>\n",
       "      <th>Freight</th>\n",
       "      <th>ShipName</th>\n",
       "      <th>ShipAddress</th>\n",
       "      <th>ShipCity</th>\n",
       "      <th>ShipRegion</th>\n",
       "      <th>ShipPostalCode</th>\n",
       "      <th>ShipCountry</th>\n",
       "    </tr>\n",
       "  </thead>\n",
       "  <tbody>\n",
       "    <tr>\n",
       "      <th>0</th>\n",
       "      <td>10248</td>\n",
       "      <td>VINET</td>\n",
       "      <td>5</td>\n",
       "      <td>2012-07-04</td>\n",
       "      <td>2012-08-01</td>\n",
       "      <td>2012-07-16</td>\n",
       "      <td>3</td>\n",
       "      <td>32.38</td>\n",
       "      <td>Vins et alcools Chevalier</td>\n",
       "      <td>59 rue de l'Abbaye</td>\n",
       "      <td>Reims</td>\n",
       "      <td>Western Europe</td>\n",
       "      <td>51100</td>\n",
       "      <td>France</td>\n",
       "    </tr>\n",
       "    <tr>\n",
       "      <th>1</th>\n",
       "      <td>10249</td>\n",
       "      <td>TOMSP</td>\n",
       "      <td>6</td>\n",
       "      <td>2012-07-05</td>\n",
       "      <td>2012-08-16</td>\n",
       "      <td>2012-07-10</td>\n",
       "      <td>1</td>\n",
       "      <td>11.61</td>\n",
       "      <td>Toms Spezialitäten</td>\n",
       "      <td>Luisenstr. 48</td>\n",
       "      <td>Münster</td>\n",
       "      <td>Western Europe</td>\n",
       "      <td>44087</td>\n",
       "      <td>Germany</td>\n",
       "    </tr>\n",
       "    <tr>\n",
       "      <th>2</th>\n",
       "      <td>10250</td>\n",
       "      <td>HANAR</td>\n",
       "      <td>4</td>\n",
       "      <td>2012-07-08</td>\n",
       "      <td>2012-08-05</td>\n",
       "      <td>2012-07-12</td>\n",
       "      <td>2</td>\n",
       "      <td>65.83</td>\n",
       "      <td>Hanari Carnes</td>\n",
       "      <td>Rua do Paço, 67</td>\n",
       "      <td>Rio de Janeiro</td>\n",
       "      <td>South America</td>\n",
       "      <td>05454-876</td>\n",
       "      <td>Brazil</td>\n",
       "    </tr>\n",
       "    <tr>\n",
       "      <th>3</th>\n",
       "      <td>10251</td>\n",
       "      <td>VICTE</td>\n",
       "      <td>3</td>\n",
       "      <td>2012-07-08</td>\n",
       "      <td>2012-08-05</td>\n",
       "      <td>2012-07-15</td>\n",
       "      <td>1</td>\n",
       "      <td>41.34</td>\n",
       "      <td>Victuailles en stock</td>\n",
       "      <td>2, rue du Commerce</td>\n",
       "      <td>Lyon</td>\n",
       "      <td>Western Europe</td>\n",
       "      <td>69004</td>\n",
       "      <td>France</td>\n",
       "    </tr>\n",
       "    <tr>\n",
       "      <th>4</th>\n",
       "      <td>10252</td>\n",
       "      <td>SUPRD</td>\n",
       "      <td>4</td>\n",
       "      <td>2012-07-09</td>\n",
       "      <td>2012-08-06</td>\n",
       "      <td>2012-07-11</td>\n",
       "      <td>2</td>\n",
       "      <td>51.30</td>\n",
       "      <td>Suprêmes délices</td>\n",
       "      <td>Boulevard Tirou, 255</td>\n",
       "      <td>Charleroi</td>\n",
       "      <td>Western Europe</td>\n",
       "      <td>B-6000</td>\n",
       "      <td>Belgium</td>\n",
       "    </tr>\n",
       "  </tbody>\n",
       "</table>\n",
       "</div>"
      ],
      "text/plain": [
       "      Id CustomerId  EmployeeId   OrderDate RequiredDate ShippedDate  ShipVia  \\\n",
       "0  10248      VINET           5  2012-07-04   2012-08-01  2012-07-16        3   \n",
       "1  10249      TOMSP           6  2012-07-05   2012-08-16  2012-07-10        1   \n",
       "2  10250      HANAR           4  2012-07-08   2012-08-05  2012-07-12        2   \n",
       "3  10251      VICTE           3  2012-07-08   2012-08-05  2012-07-15        1   \n",
       "4  10252      SUPRD           4  2012-07-09   2012-08-06  2012-07-11        2   \n",
       "\n",
       "   Freight                   ShipName           ShipAddress        ShipCity  \\\n",
       "0    32.38  Vins et alcools Chevalier    59 rue de l'Abbaye           Reims   \n",
       "1    11.61         Toms Spezialitäten         Luisenstr. 48         Münster   \n",
       "2    65.83              Hanari Carnes       Rua do Paço, 67  Rio de Janeiro   \n",
       "3    41.34       Victuailles en stock    2, rue du Commerce            Lyon   \n",
       "4    51.30           Suprêmes délices  Boulevard Tirou, 255       Charleroi   \n",
       "\n",
       "       ShipRegion ShipPostalCode ShipCountry  \n",
       "0  Western Europe          51100      France  \n",
       "1  Western Europe          44087     Germany  \n",
       "2   South America      05454-876      Brazil  \n",
       "3  Western Europe          69004      France  \n",
       "4  Western Europe         B-6000     Belgium  "
      ]
     },
     "execution_count": 4,
     "metadata": {},
     "output_type": "execute_result"
    }
   ],
   "source": [
    "# Order data\n",
    "cur.execute(\"\"\"SELECT *\n",
    "               FROM 'Order';\n",
    "               \"\"\")\n",
    "df_order = pd.DataFrame(cur.fetchall())\n",
    "df_order.columns = [x[0] for x in cur.description]\n",
    "df_order.head()"
   ]
  },
  {
   "cell_type": "code",
   "execution_count": 5,
   "metadata": {},
   "outputs": [
    {
     "data": {
      "text/html": [
       "<div>\n",
       "<style scoped>\n",
       "    .dataframe tbody tr th:only-of-type {\n",
       "        vertical-align: middle;\n",
       "    }\n",
       "\n",
       "    .dataframe tbody tr th {\n",
       "        vertical-align: top;\n",
       "    }\n",
       "\n",
       "    .dataframe thead th {\n",
       "        text-align: right;\n",
       "    }\n",
       "</style>\n",
       "<table border=\"1\" class=\"dataframe\">\n",
       "  <thead>\n",
       "    <tr style=\"text-align: right;\">\n",
       "      <th></th>\n",
       "      <th>Id</th>\n",
       "      <th>OrderId</th>\n",
       "      <th>ProductId</th>\n",
       "      <th>UnitPrice</th>\n",
       "      <th>Quantity</th>\n",
       "      <th>Discount</th>\n",
       "      <th>OrderTotal</th>\n",
       "    </tr>\n",
       "  </thead>\n",
       "  <tbody>\n",
       "    <tr>\n",
       "      <th>0</th>\n",
       "      <td>10248/11</td>\n",
       "      <td>10248</td>\n",
       "      <td>11</td>\n",
       "      <td>14.0</td>\n",
       "      <td>12</td>\n",
       "      <td>0.0</td>\n",
       "      <td>168.0</td>\n",
       "    </tr>\n",
       "    <tr>\n",
       "      <th>1</th>\n",
       "      <td>10248/42</td>\n",
       "      <td>10248</td>\n",
       "      <td>42</td>\n",
       "      <td>9.8</td>\n",
       "      <td>10</td>\n",
       "      <td>0.0</td>\n",
       "      <td>98.0</td>\n",
       "    </tr>\n",
       "    <tr>\n",
       "      <th>2</th>\n",
       "      <td>10248/72</td>\n",
       "      <td>10248</td>\n",
       "      <td>72</td>\n",
       "      <td>34.8</td>\n",
       "      <td>5</td>\n",
       "      <td>0.0</td>\n",
       "      <td>174.0</td>\n",
       "    </tr>\n",
       "    <tr>\n",
       "      <th>3</th>\n",
       "      <td>10249/14</td>\n",
       "      <td>10249</td>\n",
       "      <td>14</td>\n",
       "      <td>18.6</td>\n",
       "      <td>9</td>\n",
       "      <td>0.0</td>\n",
       "      <td>167.4</td>\n",
       "    </tr>\n",
       "    <tr>\n",
       "      <th>4</th>\n",
       "      <td>10249/51</td>\n",
       "      <td>10249</td>\n",
       "      <td>51</td>\n",
       "      <td>42.4</td>\n",
       "      <td>40</td>\n",
       "      <td>0.0</td>\n",
       "      <td>1696.0</td>\n",
       "    </tr>\n",
       "  </tbody>\n",
       "</table>\n",
       "</div>"
      ],
      "text/plain": [
       "         Id  OrderId  ProductId  UnitPrice  Quantity  Discount  OrderTotal\n",
       "0  10248/11    10248         11       14.0        12       0.0       168.0\n",
       "1  10248/42    10248         42        9.8        10       0.0        98.0\n",
       "2  10248/72    10248         72       34.8         5       0.0       174.0\n",
       "3  10249/14    10249         14       18.6         9       0.0       167.4\n",
       "4  10249/51    10249         51       42.4        40       0.0      1696.0"
      ]
     },
     "execution_count": 5,
     "metadata": {},
     "output_type": "execute_result"
    }
   ],
   "source": [
    "# OrderDetail data\n",
    "cur.execute(\"\"\"SELECT *, UnitPrice*Quantity as OrderTotal\n",
    "               FROM OrderDetail;\n",
    "               \"\"\")\n",
    "df_orderdetail = pd.DataFrame(cur.fetchall())\n",
    "df_orderdetail.columns = [x[0] for x in cur.description]\n",
    "df_orderdetail.head()"
   ]
  },
  {
   "cell_type": "code",
   "execution_count": 6,
   "metadata": {},
   "outputs": [
    {
     "data": {
      "text/plain": [
       "77"
      ]
     },
     "execution_count": 6,
     "metadata": {},
     "output_type": "execute_result"
    }
   ],
   "source": [
    "df_orderdetail['ProductId'].max()"
   ]
  },
  {
   "cell_type": "code",
   "execution_count": 7,
   "metadata": {},
   "outputs": [
    {
     "data": {
      "text/html": [
       "<div>\n",
       "<style scoped>\n",
       "    .dataframe tbody tr th:only-of-type {\n",
       "        vertical-align: middle;\n",
       "    }\n",
       "\n",
       "    .dataframe tbody tr th {\n",
       "        vertical-align: top;\n",
       "    }\n",
       "\n",
       "    .dataframe thead th {\n",
       "        text-align: right;\n",
       "    }\n",
       "</style>\n",
       "<table border=\"1\" class=\"dataframe\">\n",
       "  <thead>\n",
       "    <tr style=\"text-align: right;\">\n",
       "      <th></th>\n",
       "      <th>Id</th>\n",
       "      <th>ProductName</th>\n",
       "      <th>SupplierId</th>\n",
       "      <th>CategoryId</th>\n",
       "      <th>QuantityPerUnit</th>\n",
       "      <th>UnitPrice</th>\n",
       "      <th>UnitsInStock</th>\n",
       "      <th>UnitsOnOrder</th>\n",
       "      <th>ReorderLevel</th>\n",
       "      <th>Discontinued</th>\n",
       "    </tr>\n",
       "  </thead>\n",
       "  <tbody>\n",
       "    <tr>\n",
       "      <th>0</th>\n",
       "      <td>1</td>\n",
       "      <td>Chai</td>\n",
       "      <td>1</td>\n",
       "      <td>1</td>\n",
       "      <td>10 boxes x 20 bags</td>\n",
       "      <td>18.00</td>\n",
       "      <td>39</td>\n",
       "      <td>0</td>\n",
       "      <td>10</td>\n",
       "      <td>0</td>\n",
       "    </tr>\n",
       "    <tr>\n",
       "      <th>1</th>\n",
       "      <td>2</td>\n",
       "      <td>Chang</td>\n",
       "      <td>1</td>\n",
       "      <td>1</td>\n",
       "      <td>24 - 12 oz bottles</td>\n",
       "      <td>19.00</td>\n",
       "      <td>17</td>\n",
       "      <td>40</td>\n",
       "      <td>25</td>\n",
       "      <td>0</td>\n",
       "    </tr>\n",
       "    <tr>\n",
       "      <th>2</th>\n",
       "      <td>3</td>\n",
       "      <td>Aniseed Syrup</td>\n",
       "      <td>1</td>\n",
       "      <td>2</td>\n",
       "      <td>12 - 550 ml bottles</td>\n",
       "      <td>10.00</td>\n",
       "      <td>13</td>\n",
       "      <td>70</td>\n",
       "      <td>25</td>\n",
       "      <td>0</td>\n",
       "    </tr>\n",
       "    <tr>\n",
       "      <th>3</th>\n",
       "      <td>4</td>\n",
       "      <td>Chef Anton's Cajun Seasoning</td>\n",
       "      <td>2</td>\n",
       "      <td>2</td>\n",
       "      <td>48 - 6 oz jars</td>\n",
       "      <td>22.00</td>\n",
       "      <td>53</td>\n",
       "      <td>0</td>\n",
       "      <td>0</td>\n",
       "      <td>0</td>\n",
       "    </tr>\n",
       "    <tr>\n",
       "      <th>4</th>\n",
       "      <td>5</td>\n",
       "      <td>Chef Anton's Gumbo Mix</td>\n",
       "      <td>2</td>\n",
       "      <td>2</td>\n",
       "      <td>36 boxes</td>\n",
       "      <td>21.35</td>\n",
       "      <td>0</td>\n",
       "      <td>0</td>\n",
       "      <td>0</td>\n",
       "      <td>1</td>\n",
       "    </tr>\n",
       "  </tbody>\n",
       "</table>\n",
       "</div>"
      ],
      "text/plain": [
       "   Id                   ProductName  SupplierId  CategoryId  \\\n",
       "0   1                          Chai           1           1   \n",
       "1   2                         Chang           1           1   \n",
       "2   3                 Aniseed Syrup           1           2   \n",
       "3   4  Chef Anton's Cajun Seasoning           2           2   \n",
       "4   5        Chef Anton's Gumbo Mix           2           2   \n",
       "\n",
       "       QuantityPerUnit  UnitPrice  UnitsInStock  UnitsOnOrder  ReorderLevel  \\\n",
       "0   10 boxes x 20 bags      18.00            39             0            10   \n",
       "1   24 - 12 oz bottles      19.00            17            40            25   \n",
       "2  12 - 550 ml bottles      10.00            13            70            25   \n",
       "3       48 - 6 oz jars      22.00            53             0             0   \n",
       "4             36 boxes      21.35             0             0             0   \n",
       "\n",
       "   Discontinued  \n",
       "0             0  \n",
       "1             0  \n",
       "2             0  \n",
       "3             0  \n",
       "4             1  "
      ]
     },
     "execution_count": 7,
     "metadata": {},
     "output_type": "execute_result"
    }
   ],
   "source": [
    "# Product data\n",
    "cur.execute(\"\"\"SELECT *\n",
    "               FROM Product;\n",
    "               \"\"\")\n",
    "df_product = pd.DataFrame(cur.fetchall())\n",
    "df_product.columns = [x[0] for x in cur.description]\n",
    "df_product.head()"
   ]
  },
  {
   "cell_type": "code",
   "execution_count": 8,
   "metadata": {},
   "outputs": [
    {
     "data": {
      "text/plain": [
       "77"
      ]
     },
     "execution_count": 8,
     "metadata": {},
     "output_type": "execute_result"
    }
   ],
   "source": [
    "# total number of prodcuts\n",
    "len(df_product['ReorderLevel'])"
   ]
  },
  {
   "cell_type": "code",
   "execution_count": 9,
   "metadata": {},
   "outputs": [
    {
     "data": {
      "text/plain": [
       "24"
      ]
     },
     "execution_count": 9,
     "metadata": {},
     "output_type": "execute_result"
    }
   ],
   "source": [
    "# number of products without reorder\n",
    "sum(df_product['ReorderLevel'] == 0)"
   ]
  },
  {
   "cell_type": "code",
   "execution_count": 10,
   "metadata": {},
   "outputs": [
    {
     "data": {
      "text/html": [
       "<div>\n",
       "<style scoped>\n",
       "    .dataframe tbody tr th:only-of-type {\n",
       "        vertical-align: middle;\n",
       "    }\n",
       "\n",
       "    .dataframe tbody tr th {\n",
       "        vertical-align: top;\n",
       "    }\n",
       "\n",
       "    .dataframe thead th {\n",
       "        text-align: right;\n",
       "    }\n",
       "</style>\n",
       "<table border=\"1\" class=\"dataframe\">\n",
       "  <thead>\n",
       "    <tr style=\"text-align: right;\">\n",
       "      <th></th>\n",
       "      <th>Id</th>\n",
       "      <th>ProductName</th>\n",
       "      <th>SupplierId</th>\n",
       "      <th>CategoryId</th>\n",
       "      <th>QuantityPerUnit</th>\n",
       "      <th>UnitPrice</th>\n",
       "      <th>UnitsInStock</th>\n",
       "      <th>UnitsOnOrder</th>\n",
       "      <th>ReorderLevel</th>\n",
       "      <th>Discontinued</th>\n",
       "    </tr>\n",
       "  </thead>\n",
       "  <tbody>\n",
       "    <tr>\n",
       "      <th>52</th>\n",
       "      <td>53</td>\n",
       "      <td>Perth Pasties</td>\n",
       "      <td>24</td>\n",
       "      <td>6</td>\n",
       "      <td>48 pieces</td>\n",
       "      <td>32.80</td>\n",
       "      <td>0</td>\n",
       "      <td>0</td>\n",
       "      <td>0</td>\n",
       "      <td>1</td>\n",
       "    </tr>\n",
       "    <tr>\n",
       "      <th>9</th>\n",
       "      <td>10</td>\n",
       "      <td>Ikura</td>\n",
       "      <td>4</td>\n",
       "      <td>8</td>\n",
       "      <td>12 - 200 ml jars</td>\n",
       "      <td>31.00</td>\n",
       "      <td>31</td>\n",
       "      <td>0</td>\n",
       "      <td>0</td>\n",
       "      <td>0</td>\n",
       "    </tr>\n",
       "    <tr>\n",
       "      <th>4</th>\n",
       "      <td>5</td>\n",
       "      <td>Chef Anton's Gumbo Mix</td>\n",
       "      <td>2</td>\n",
       "      <td>2</td>\n",
       "      <td>36 boxes</td>\n",
       "      <td>21.35</td>\n",
       "      <td>0</td>\n",
       "      <td>0</td>\n",
       "      <td>0</td>\n",
       "      <td>1</td>\n",
       "    </tr>\n",
       "    <tr>\n",
       "      <th>23</th>\n",
       "      <td>24</td>\n",
       "      <td>Guaraná Fantástica</td>\n",
       "      <td>10</td>\n",
       "      <td>1</td>\n",
       "      <td>12 - 355 ml cans</td>\n",
       "      <td>4.50</td>\n",
       "      <td>20</td>\n",
       "      <td>0</td>\n",
       "      <td>0</td>\n",
       "      <td>1</td>\n",
       "    </tr>\n",
       "    <tr>\n",
       "      <th>46</th>\n",
       "      <td>47</td>\n",
       "      <td>Zaanse koeken</td>\n",
       "      <td>22</td>\n",
       "      <td>3</td>\n",
       "      <td>10 - 4 oz boxes</td>\n",
       "      <td>9.50</td>\n",
       "      <td>36</td>\n",
       "      <td>0</td>\n",
       "      <td>0</td>\n",
       "      <td>0</td>\n",
       "    </tr>\n",
       "    <tr>\n",
       "      <th>3</th>\n",
       "      <td>4</td>\n",
       "      <td>Chef Anton's Cajun Seasoning</td>\n",
       "      <td>2</td>\n",
       "      <td>2</td>\n",
       "      <td>48 - 6 oz jars</td>\n",
       "      <td>22.00</td>\n",
       "      <td>53</td>\n",
       "      <td>0</td>\n",
       "      <td>0</td>\n",
       "      <td>0</td>\n",
       "    </tr>\n",
       "    <tr>\n",
       "      <th>17</th>\n",
       "      <td>18</td>\n",
       "      <td>Carnarvon Tigers</td>\n",
       "      <td>7</td>\n",
       "      <td>8</td>\n",
       "      <td>16 kg pkg.</td>\n",
       "      <td>62.50</td>\n",
       "      <td>42</td>\n",
       "      <td>0</td>\n",
       "      <td>0</td>\n",
       "      <td>0</td>\n",
       "    </tr>\n",
       "    <tr>\n",
       "      <th>27</th>\n",
       "      <td>28</td>\n",
       "      <td>Rössle Sauerkraut</td>\n",
       "      <td>12</td>\n",
       "      <td>7</td>\n",
       "      <td>25 - 825 g cans</td>\n",
       "      <td>45.60</td>\n",
       "      <td>26</td>\n",
       "      <td>0</td>\n",
       "      <td>0</td>\n",
       "      <td>1</td>\n",
       "    </tr>\n",
       "    <tr>\n",
       "      <th>64</th>\n",
       "      <td>65</td>\n",
       "      <td>Louisiana Fiery Hot Pepper Sauce</td>\n",
       "      <td>2</td>\n",
       "      <td>2</td>\n",
       "      <td>32 - 8 oz bottles</td>\n",
       "      <td>21.05</td>\n",
       "      <td>76</td>\n",
       "      <td>0</td>\n",
       "      <td>0</td>\n",
       "      <td>0</td>\n",
       "    </tr>\n",
       "    <tr>\n",
       "      <th>7</th>\n",
       "      <td>8</td>\n",
       "      <td>Northwoods Cranberry Sauce</td>\n",
       "      <td>3</td>\n",
       "      <td>2</td>\n",
       "      <td>12 - 12 oz jars</td>\n",
       "      <td>40.00</td>\n",
       "      <td>6</td>\n",
       "      <td>0</td>\n",
       "      <td>0</td>\n",
       "      <td>0</td>\n",
       "    </tr>\n",
       "  </tbody>\n",
       "</table>\n",
       "</div>"
      ],
      "text/plain": [
       "    Id                       ProductName  SupplierId  CategoryId  \\\n",
       "52  53                     Perth Pasties          24           6   \n",
       "9   10                             Ikura           4           8   \n",
       "4    5            Chef Anton's Gumbo Mix           2           2   \n",
       "23  24                Guaraná Fantástica          10           1   \n",
       "46  47                     Zaanse koeken          22           3   \n",
       "3    4      Chef Anton's Cajun Seasoning           2           2   \n",
       "17  18                  Carnarvon Tigers           7           8   \n",
       "27  28                 Rössle Sauerkraut          12           7   \n",
       "64  65  Louisiana Fiery Hot Pepper Sauce           2           2   \n",
       "7    8        Northwoods Cranberry Sauce           3           2   \n",
       "\n",
       "      QuantityPerUnit  UnitPrice  UnitsInStock  UnitsOnOrder  ReorderLevel  \\\n",
       "52          48 pieces      32.80             0             0             0   \n",
       "9    12 - 200 ml jars      31.00            31             0             0   \n",
       "4            36 boxes      21.35             0             0             0   \n",
       "23   12 - 355 ml cans       4.50            20             0             0   \n",
       "46    10 - 4 oz boxes       9.50            36             0             0   \n",
       "3      48 - 6 oz jars      22.00            53             0             0   \n",
       "17         16 kg pkg.      62.50            42             0             0   \n",
       "27    25 - 825 g cans      45.60            26             0             0   \n",
       "64  32 - 8 oz bottles      21.05            76             0             0   \n",
       "7     12 - 12 oz jars      40.00             6             0             0   \n",
       "\n",
       "    Discontinued  \n",
       "52             1  \n",
       "9              0  \n",
       "4              1  \n",
       "23             1  \n",
       "46             0  \n",
       "3              0  \n",
       "17             0  \n",
       "27             1  \n",
       "64             0  \n",
       "7              0  "
      ]
     },
     "execution_count": 10,
     "metadata": {},
     "output_type": "execute_result"
    }
   ],
   "source": [
    "df_product[df_product['ReorderLevel'] == 0].sample(10)"
   ]
  },
  {
   "cell_type": "code",
   "execution_count": 11,
   "metadata": {},
   "outputs": [
    {
     "data": {
      "text/plain": [
       "53"
      ]
     },
     "execution_count": 11,
     "metadata": {},
     "output_type": "execute_result"
    }
   ],
   "source": [
    "# number of products with a reorder\n",
    "sum(df_product['ReorderLevel'] != 0)"
   ]
  },
  {
   "cell_type": "code",
   "execution_count": 12,
   "metadata": {},
   "outputs": [
    {
     "data": {
      "text/html": [
       "<div>\n",
       "<style scoped>\n",
       "    .dataframe tbody tr th:only-of-type {\n",
       "        vertical-align: middle;\n",
       "    }\n",
       "\n",
       "    .dataframe tbody tr th {\n",
       "        vertical-align: top;\n",
       "    }\n",
       "\n",
       "    .dataframe thead th {\n",
       "        text-align: right;\n",
       "    }\n",
       "</style>\n",
       "<table border=\"1\" class=\"dataframe\">\n",
       "  <thead>\n",
       "    <tr style=\"text-align: right;\">\n",
       "      <th></th>\n",
       "      <th>Id</th>\n",
       "      <th>ProductName</th>\n",
       "      <th>SupplierId</th>\n",
       "      <th>CategoryId</th>\n",
       "      <th>QuantityPerUnit</th>\n",
       "      <th>UnitPrice</th>\n",
       "      <th>UnitsInStock</th>\n",
       "      <th>UnitsOnOrder</th>\n",
       "      <th>ReorderLevel</th>\n",
       "      <th>Discontinued</th>\n",
       "    </tr>\n",
       "  </thead>\n",
       "  <tbody>\n",
       "    <tr>\n",
       "      <th>56</th>\n",
       "      <td>57</td>\n",
       "      <td>Ravioli Angelo</td>\n",
       "      <td>26</td>\n",
       "      <td>5</td>\n",
       "      <td>24 - 250 g pkgs.</td>\n",
       "      <td>19.50</td>\n",
       "      <td>36</td>\n",
       "      <td>0</td>\n",
       "      <td>20</td>\n",
       "      <td>0</td>\n",
       "    </tr>\n",
       "    <tr>\n",
       "      <th>54</th>\n",
       "      <td>55</td>\n",
       "      <td>Pâté chinois</td>\n",
       "      <td>25</td>\n",
       "      <td>6</td>\n",
       "      <td>24 boxes x 2 pies</td>\n",
       "      <td>24.00</td>\n",
       "      <td>115</td>\n",
       "      <td>0</td>\n",
       "      <td>20</td>\n",
       "      <td>0</td>\n",
       "    </tr>\n",
       "    <tr>\n",
       "      <th>22</th>\n",
       "      <td>23</td>\n",
       "      <td>Tunnbröd</td>\n",
       "      <td>9</td>\n",
       "      <td>5</td>\n",
       "      <td>12 - 250 g pkgs.</td>\n",
       "      <td>9.00</td>\n",
       "      <td>61</td>\n",
       "      <td>0</td>\n",
       "      <td>25</td>\n",
       "      <td>0</td>\n",
       "    </tr>\n",
       "    <tr>\n",
       "      <th>55</th>\n",
       "      <td>56</td>\n",
       "      <td>Gnocchi di nonna Alice</td>\n",
       "      <td>26</td>\n",
       "      <td>5</td>\n",
       "      <td>24 - 250 g pkgs.</td>\n",
       "      <td>38.00</td>\n",
       "      <td>21</td>\n",
       "      <td>10</td>\n",
       "      <td>30</td>\n",
       "      <td>0</td>\n",
       "    </tr>\n",
       "    <tr>\n",
       "      <th>73</th>\n",
       "      <td>74</td>\n",
       "      <td>Longlife Tofu</td>\n",
       "      <td>4</td>\n",
       "      <td>7</td>\n",
       "      <td>5 kg pkg.</td>\n",
       "      <td>10.00</td>\n",
       "      <td>4</td>\n",
       "      <td>20</td>\n",
       "      <td>5</td>\n",
       "      <td>0</td>\n",
       "    </tr>\n",
       "    <tr>\n",
       "      <th>42</th>\n",
       "      <td>43</td>\n",
       "      <td>Ipoh Coffee</td>\n",
       "      <td>20</td>\n",
       "      <td>1</td>\n",
       "      <td>16 - 500 g tins</td>\n",
       "      <td>46.00</td>\n",
       "      <td>17</td>\n",
       "      <td>10</td>\n",
       "      <td>25</td>\n",
       "      <td>0</td>\n",
       "    </tr>\n",
       "    <tr>\n",
       "      <th>63</th>\n",
       "      <td>64</td>\n",
       "      <td>Wimmers gute Semmelknödel</td>\n",
       "      <td>12</td>\n",
       "      <td>5</td>\n",
       "      <td>20 bags x 4 pieces</td>\n",
       "      <td>33.25</td>\n",
       "      <td>22</td>\n",
       "      <td>80</td>\n",
       "      <td>30</td>\n",
       "      <td>0</td>\n",
       "    </tr>\n",
       "    <tr>\n",
       "      <th>67</th>\n",
       "      <td>68</td>\n",
       "      <td>Scottish Longbreads</td>\n",
       "      <td>8</td>\n",
       "      <td>3</td>\n",
       "      <td>10 boxes x 8 pieces</td>\n",
       "      <td>12.50</td>\n",
       "      <td>6</td>\n",
       "      <td>10</td>\n",
       "      <td>15</td>\n",
       "      <td>0</td>\n",
       "    </tr>\n",
       "    <tr>\n",
       "      <th>30</th>\n",
       "      <td>31</td>\n",
       "      <td>Gorgonzola Telino</td>\n",
       "      <td>14</td>\n",
       "      <td>4</td>\n",
       "      <td>12 - 100 g pkgs</td>\n",
       "      <td>12.50</td>\n",
       "      <td>0</td>\n",
       "      <td>70</td>\n",
       "      <td>20</td>\n",
       "      <td>0</td>\n",
       "    </tr>\n",
       "    <tr>\n",
       "      <th>20</th>\n",
       "      <td>21</td>\n",
       "      <td>Sir Rodney's Scones</td>\n",
       "      <td>8</td>\n",
       "      <td>3</td>\n",
       "      <td>24 pkgs. x 4 pieces</td>\n",
       "      <td>10.00</td>\n",
       "      <td>3</td>\n",
       "      <td>40</td>\n",
       "      <td>5</td>\n",
       "      <td>0</td>\n",
       "    </tr>\n",
       "  </tbody>\n",
       "</table>\n",
       "</div>"
      ],
      "text/plain": [
       "    Id                ProductName  SupplierId  CategoryId  \\\n",
       "56  57             Ravioli Angelo          26           5   \n",
       "54  55               Pâté chinois          25           6   \n",
       "22  23                   Tunnbröd           9           5   \n",
       "55  56     Gnocchi di nonna Alice          26           5   \n",
       "73  74              Longlife Tofu           4           7   \n",
       "42  43                Ipoh Coffee          20           1   \n",
       "63  64  Wimmers gute Semmelknödel          12           5   \n",
       "67  68        Scottish Longbreads           8           3   \n",
       "30  31          Gorgonzola Telino          14           4   \n",
       "20  21        Sir Rodney's Scones           8           3   \n",
       "\n",
       "        QuantityPerUnit  UnitPrice  UnitsInStock  UnitsOnOrder  ReorderLevel  \\\n",
       "56     24 - 250 g pkgs.      19.50            36             0            20   \n",
       "54    24 boxes x 2 pies      24.00           115             0            20   \n",
       "22     12 - 250 g pkgs.       9.00            61             0            25   \n",
       "55     24 - 250 g pkgs.      38.00            21            10            30   \n",
       "73            5 kg pkg.      10.00             4            20             5   \n",
       "42      16 - 500 g tins      46.00            17            10            25   \n",
       "63   20 bags x 4 pieces      33.25            22            80            30   \n",
       "67  10 boxes x 8 pieces      12.50             6            10            15   \n",
       "30      12 - 100 g pkgs      12.50             0            70            20   \n",
       "20  24 pkgs. x 4 pieces      10.00             3            40             5   \n",
       "\n",
       "    Discontinued  \n",
       "56             0  \n",
       "54             0  \n",
       "22             0  \n",
       "55             0  \n",
       "73             0  \n",
       "42             0  \n",
       "63             0  \n",
       "67             0  \n",
       "30             0  \n",
       "20             0  "
      ]
     },
     "execution_count": 12,
     "metadata": {},
     "output_type": "execute_result"
    }
   ],
   "source": [
    "df_product[df_product['ReorderLevel'] != 0].sample(10)"
   ]
  },
  {
   "cell_type": "markdown",
   "metadata": {},
   "source": [
    "It looks like there are duplicates because the index is the same, but the item total is different. I think it might be a good idea to incorporate the item number to ensure unique indexing."
   ]
  },
  {
   "cell_type": "code",
   "execution_count": 13,
   "metadata": {},
   "outputs": [
    {
     "data": {
      "text/html": [
       "<div>\n",
       "<style scoped>\n",
       "    .dataframe tbody tr th:only-of-type {\n",
       "        vertical-align: middle;\n",
       "    }\n",
       "\n",
       "    .dataframe tbody tr th {\n",
       "        vertical-align: top;\n",
       "    }\n",
       "\n",
       "    .dataframe thead th {\n",
       "        text-align: right;\n",
       "    }\n",
       "</style>\n",
       "<table border=\"1\" class=\"dataframe\">\n",
       "  <thead>\n",
       "    <tr style=\"text-align: right;\">\n",
       "      <th></th>\n",
       "      <th>Id</th>\n",
       "      <th>OrderDate</th>\n",
       "      <th>ShipVia</th>\n",
       "      <th>Freight</th>\n",
       "      <th>ProductPrice</th>\n",
       "      <th>OrderPrice</th>\n",
       "      <th>Quantity</th>\n",
       "      <th>ReorderLevel</th>\n",
       "      <th>ProductId</th>\n",
       "      <th>Discount</th>\n",
       "    </tr>\n",
       "  </thead>\n",
       "  <tbody>\n",
       "    <tr>\n",
       "      <th>0</th>\n",
       "      <td>10248</td>\n",
       "      <td>2012-07-04</td>\n",
       "      <td>3</td>\n",
       "      <td>32.38</td>\n",
       "      <td>21.00</td>\n",
       "      <td>14.0</td>\n",
       "      <td>12</td>\n",
       "      <td>30</td>\n",
       "      <td>11</td>\n",
       "      <td>0.0</td>\n",
       "    </tr>\n",
       "    <tr>\n",
       "      <th>1</th>\n",
       "      <td>10248</td>\n",
       "      <td>2012-07-04</td>\n",
       "      <td>3</td>\n",
       "      <td>32.38</td>\n",
       "      <td>14.00</td>\n",
       "      <td>9.8</td>\n",
       "      <td>10</td>\n",
       "      <td>0</td>\n",
       "      <td>42</td>\n",
       "      <td>0.0</td>\n",
       "    </tr>\n",
       "    <tr>\n",
       "      <th>2</th>\n",
       "      <td>10248</td>\n",
       "      <td>2012-07-04</td>\n",
       "      <td>3</td>\n",
       "      <td>32.38</td>\n",
       "      <td>34.80</td>\n",
       "      <td>34.8</td>\n",
       "      <td>5</td>\n",
       "      <td>0</td>\n",
       "      <td>72</td>\n",
       "      <td>0.0</td>\n",
       "    </tr>\n",
       "    <tr>\n",
       "      <th>3</th>\n",
       "      <td>10249</td>\n",
       "      <td>2012-07-05</td>\n",
       "      <td>1</td>\n",
       "      <td>11.61</td>\n",
       "      <td>23.25</td>\n",
       "      <td>18.6</td>\n",
       "      <td>9</td>\n",
       "      <td>0</td>\n",
       "      <td>14</td>\n",
       "      <td>0.0</td>\n",
       "    </tr>\n",
       "    <tr>\n",
       "      <th>4</th>\n",
       "      <td>10249</td>\n",
       "      <td>2012-07-05</td>\n",
       "      <td>1</td>\n",
       "      <td>11.61</td>\n",
       "      <td>53.00</td>\n",
       "      <td>42.4</td>\n",
       "      <td>40</td>\n",
       "      <td>10</td>\n",
       "      <td>51</td>\n",
       "      <td>0.0</td>\n",
       "    </tr>\n",
       "  </tbody>\n",
       "</table>\n",
       "</div>"
      ],
      "text/plain": [
       "      Id   OrderDate  ShipVia  Freight  ProductPrice  OrderPrice  Quantity  \\\n",
       "0  10248  2012-07-04        3    32.38         21.00        14.0        12   \n",
       "1  10248  2012-07-04        3    32.38         14.00         9.8        10   \n",
       "2  10248  2012-07-04        3    32.38         34.80        34.8         5   \n",
       "3  10249  2012-07-05        1    11.61         23.25        18.6         9   \n",
       "4  10249  2012-07-05        1    11.61         53.00        42.4        40   \n",
       "\n",
       "   ReorderLevel  ProductId  Discount  \n",
       "0            30         11       0.0  \n",
       "1             0         42       0.0  \n",
       "2             0         72       0.0  \n",
       "3             0         14       0.0  \n",
       "4            10         51       0.0  "
      ]
     },
     "execution_count": 13,
     "metadata": {},
     "output_type": "execute_result"
    }
   ],
   "source": [
    "# All data\n",
    "cur.execute(\"\"\"SELECT 'Order'.Id, OrderDate, ShipVia, Freight, Product.UnitPrice as ProductPrice, \n",
    "OrderDetail.UnitPrice as OrderPrice, Quantity, ReorderLevel, OrderDetail.ProductId, OrderDetail.Discount\n",
    "               FROM OrderDetail\n",
    "               LEFT JOIN 'Order' ON OrderDetail.OrderID = 'Order'.Id\n",
    "               JOIN Product ON OrderDetail.ProductId = Product.Id\n",
    "               ;\"\"\")\n",
    "df = pd.DataFrame(cur.fetchall())\n",
    "df.columns = [x[0] for x in cur.description]\n",
    "df.head()"
   ]
  },
  {
   "cell_type": "code",
   "execution_count": 14,
   "metadata": {},
   "outputs": [],
   "source": [
    "df_drop = df[df['ProductId']!=11]\n",
    "df_drop = df_drop[df_drop['ProductId']!=42]"
   ]
  },
  {
   "cell_type": "code",
   "execution_count": 15,
   "metadata": {},
   "outputs": [
    {
     "data": {
      "text/html": [
       "<div>\n",
       "<style scoped>\n",
       "    .dataframe tbody tr th:only-of-type {\n",
       "        vertical-align: middle;\n",
       "    }\n",
       "\n",
       "    .dataframe tbody tr th {\n",
       "        vertical-align: top;\n",
       "    }\n",
       "\n",
       "    .dataframe thead th {\n",
       "        text-align: right;\n",
       "    }\n",
       "</style>\n",
       "<table border=\"1\" class=\"dataframe\">\n",
       "  <thead>\n",
       "    <tr style=\"text-align: right;\">\n",
       "      <th></th>\n",
       "      <th>Id</th>\n",
       "      <th>OrderDate</th>\n",
       "      <th>ShipVia</th>\n",
       "      <th>Freight</th>\n",
       "      <th>ProductPrice</th>\n",
       "      <th>OrderPrice</th>\n",
       "      <th>Quantity</th>\n",
       "      <th>ReorderLevel</th>\n",
       "      <th>ProductId</th>\n",
       "      <th>Discount</th>\n",
       "    </tr>\n",
       "  </thead>\n",
       "  <tbody>\n",
       "    <tr>\n",
       "      <th>2150</th>\n",
       "      <td>11077</td>\n",
       "      <td>2014-05-06</td>\n",
       "      <td>2</td>\n",
       "      <td>8.53</td>\n",
       "      <td>33.25</td>\n",
       "      <td>33.25</td>\n",
       "      <td>2</td>\n",
       "      <td>30</td>\n",
       "      <td>64</td>\n",
       "      <td>0.03</td>\n",
       "    </tr>\n",
       "    <tr>\n",
       "      <th>2151</th>\n",
       "      <td>11077</td>\n",
       "      <td>2014-05-06</td>\n",
       "      <td>2</td>\n",
       "      <td>8.53</td>\n",
       "      <td>17.00</td>\n",
       "      <td>17.00</td>\n",
       "      <td>1</td>\n",
       "      <td>20</td>\n",
       "      <td>66</td>\n",
       "      <td>0.00</td>\n",
       "    </tr>\n",
       "    <tr>\n",
       "      <th>2152</th>\n",
       "      <td>11077</td>\n",
       "      <td>2014-05-06</td>\n",
       "      <td>2</td>\n",
       "      <td>8.53</td>\n",
       "      <td>15.00</td>\n",
       "      <td>15.00</td>\n",
       "      <td>2</td>\n",
       "      <td>5</td>\n",
       "      <td>73</td>\n",
       "      <td>0.01</td>\n",
       "    </tr>\n",
       "    <tr>\n",
       "      <th>2153</th>\n",
       "      <td>11077</td>\n",
       "      <td>2014-05-06</td>\n",
       "      <td>2</td>\n",
       "      <td>8.53</td>\n",
       "      <td>7.75</td>\n",
       "      <td>7.75</td>\n",
       "      <td>4</td>\n",
       "      <td>25</td>\n",
       "      <td>75</td>\n",
       "      <td>0.00</td>\n",
       "    </tr>\n",
       "    <tr>\n",
       "      <th>2154</th>\n",
       "      <td>11077</td>\n",
       "      <td>2014-05-06</td>\n",
       "      <td>2</td>\n",
       "      <td>8.53</td>\n",
       "      <td>13.00</td>\n",
       "      <td>13.00</td>\n",
       "      <td>2</td>\n",
       "      <td>15</td>\n",
       "      <td>77</td>\n",
       "      <td>0.00</td>\n",
       "    </tr>\n",
       "  </tbody>\n",
       "</table>\n",
       "</div>"
      ],
      "text/plain": [
       "         Id   OrderDate  ShipVia  Freight  ProductPrice  OrderPrice  Quantity  \\\n",
       "2150  11077  2014-05-06        2     8.53         33.25       33.25         2   \n",
       "2151  11077  2014-05-06        2     8.53         17.00       17.00         1   \n",
       "2152  11077  2014-05-06        2     8.53         15.00       15.00         2   \n",
       "2153  11077  2014-05-06        2     8.53          7.75        7.75         4   \n",
       "2154  11077  2014-05-06        2     8.53         13.00       13.00         2   \n",
       "\n",
       "      ReorderLevel  ProductId  Discount  \n",
       "2150            30         64      0.03  \n",
       "2151            20         66      0.00  \n",
       "2152             5         73      0.01  \n",
       "2153            25         75      0.00  \n",
       "2154            15         77      0.00  "
      ]
     },
     "execution_count": 15,
     "metadata": {},
     "output_type": "execute_result"
    }
   ],
   "source": [
    "df_drop.tail()"
   ]
  },
  {
   "cell_type": "code",
   "execution_count": 16,
   "metadata": {},
   "outputs": [
    {
     "data": {
      "text/plain": [
       "822"
      ]
     },
     "execution_count": 16,
     "metadata": {},
     "output_type": "execute_result"
    }
   ],
   "source": [
    "# total number of orders to be evaluated\n",
    "len(df_drop['Id'].unique())"
   ]
  },
  {
   "cell_type": "code",
   "execution_count": 17,
   "metadata": {},
   "outputs": [],
   "source": [
    "df_drop['OrderDate'] = pd.to_datetime(df_drop['OrderDate'])"
   ]
  },
  {
   "cell_type": "code",
   "execution_count": 18,
   "metadata": {},
   "outputs": [
    {
     "data": {
      "text/html": [
       "<div>\n",
       "<style scoped>\n",
       "    .dataframe tbody tr th:only-of-type {\n",
       "        vertical-align: middle;\n",
       "    }\n",
       "\n",
       "    .dataframe tbody tr th {\n",
       "        vertical-align: top;\n",
       "    }\n",
       "\n",
       "    .dataframe thead th {\n",
       "        text-align: right;\n",
       "    }\n",
       "</style>\n",
       "<table border=\"1\" class=\"dataframe\">\n",
       "  <thead>\n",
       "    <tr style=\"text-align: right;\">\n",
       "      <th></th>\n",
       "      <th></th>\n",
       "      <th></th>\n",
       "      <th></th>\n",
       "      <th>Discount</th>\n",
       "      <th>Freight</th>\n",
       "      <th>OrderPrice</th>\n",
       "      <th>ProductPrice</th>\n",
       "      <th>Quantity</th>\n",
       "      <th>ReorderLevel</th>\n",
       "    </tr>\n",
       "    <tr>\n",
       "      <th>Id</th>\n",
       "      <th>OrderDate</th>\n",
       "      <th>ShipVia</th>\n",
       "      <th>ProductId</th>\n",
       "      <th></th>\n",
       "      <th></th>\n",
       "      <th></th>\n",
       "      <th></th>\n",
       "      <th></th>\n",
       "      <th></th>\n",
       "    </tr>\n",
       "  </thead>\n",
       "  <tbody>\n",
       "    <tr>\n",
       "      <th>10248</th>\n",
       "      <th>2012-07-04</th>\n",
       "      <th>3</th>\n",
       "      <th>72</th>\n",
       "      <td>0.00</td>\n",
       "      <td>32.38</td>\n",
       "      <td>34.8</td>\n",
       "      <td>34.80</td>\n",
       "      <td>5</td>\n",
       "      <td>0</td>\n",
       "    </tr>\n",
       "    <tr>\n",
       "      <th rowspan=\"2\" valign=\"top\">10249</th>\n",
       "      <th rowspan=\"2\" valign=\"top\">2012-07-05</th>\n",
       "      <th rowspan=\"2\" valign=\"top\">1</th>\n",
       "      <th>14</th>\n",
       "      <td>0.00</td>\n",
       "      <td>11.61</td>\n",
       "      <td>18.6</td>\n",
       "      <td>23.25</td>\n",
       "      <td>9</td>\n",
       "      <td>0</td>\n",
       "    </tr>\n",
       "    <tr>\n",
       "      <th>51</th>\n",
       "      <td>0.00</td>\n",
       "      <td>11.61</td>\n",
       "      <td>42.4</td>\n",
       "      <td>53.00</td>\n",
       "      <td>40</td>\n",
       "      <td>10</td>\n",
       "    </tr>\n",
       "    <tr>\n",
       "      <th rowspan=\"2\" valign=\"top\">10250</th>\n",
       "      <th rowspan=\"2\" valign=\"top\">2012-07-08</th>\n",
       "      <th rowspan=\"2\" valign=\"top\">2</th>\n",
       "      <th>41</th>\n",
       "      <td>0.00</td>\n",
       "      <td>65.83</td>\n",
       "      <td>7.7</td>\n",
       "      <td>9.65</td>\n",
       "      <td>10</td>\n",
       "      <td>10</td>\n",
       "    </tr>\n",
       "    <tr>\n",
       "      <th>51</th>\n",
       "      <td>0.15</td>\n",
       "      <td>65.83</td>\n",
       "      <td>42.4</td>\n",
       "      <td>53.00</td>\n",
       "      <td>35</td>\n",
       "      <td>10</td>\n",
       "    </tr>\n",
       "  </tbody>\n",
       "</table>\n",
       "</div>"
      ],
      "text/plain": [
       "                                    Discount  Freight  OrderPrice  \\\n",
       "Id    OrderDate  ShipVia ProductId                                  \n",
       "10248 2012-07-04 3       72             0.00    32.38        34.8   \n",
       "10249 2012-07-05 1       14             0.00    11.61        18.6   \n",
       "                         51             0.00    11.61        42.4   \n",
       "10250 2012-07-08 2       41             0.00    65.83         7.7   \n",
       "                         51             0.15    65.83        42.4   \n",
       "\n",
       "                                    ProductPrice  Quantity  ReorderLevel  \n",
       "Id    OrderDate  ShipVia ProductId                                        \n",
       "10248 2012-07-04 3       72                34.80         5             0  \n",
       "10249 2012-07-05 1       14                23.25         9             0  \n",
       "                         51                53.00        40            10  \n",
       "10250 2012-07-08 2       41                 9.65        10            10  \n",
       "                         51                53.00        35            10  "
      ]
     },
     "execution_count": 18,
     "metadata": {},
     "output_type": "execute_result"
    }
   ],
   "source": [
    "table = pd.pivot_table(data=df_drop, index=('Id', 'OrderDate', 'ShipVia', 'ProductId'), aggfunc=sum,)\n",
    "table.head()"
   ]
  },
  {
   "cell_type": "code",
   "execution_count": 19,
   "metadata": {},
   "outputs": [
    {
     "data": {
      "text/plain": [
       "Index(['Id', 'OrderDate', 'ShipVia', 'Freight', 'ProductPrice', 'OrderPrice',\n",
       "       'Quantity', 'ReorderLevel', 'ProductId', 'Discount'],\n",
       "      dtype='object')"
      ]
     },
     "execution_count": 19,
     "metadata": {},
     "output_type": "execute_result"
    }
   ],
   "source": [
    "df_drop.columns"
   ]
  },
  {
   "cell_type": "code",
   "execution_count": 20,
   "metadata": {},
   "outputs": [
    {
     "data": {
      "text/html": [
       "<div>\n",
       "<style scoped>\n",
       "    .dataframe tbody tr th:only-of-type {\n",
       "        vertical-align: middle;\n",
       "    }\n",
       "\n",
       "    .dataframe tbody tr th {\n",
       "        vertical-align: top;\n",
       "    }\n",
       "\n",
       "    .dataframe thead th {\n",
       "        text-align: right;\n",
       "    }\n",
       "</style>\n",
       "<table border=\"1\" class=\"dataframe\">\n",
       "  <thead>\n",
       "    <tr style=\"text-align: right;\">\n",
       "      <th></th>\n",
       "      <th></th>\n",
       "      <th></th>\n",
       "      <th></th>\n",
       "      <th>Freight</th>\n",
       "      <th>ProductPrice</th>\n",
       "      <th>OrderPrice</th>\n",
       "      <th>Quantity</th>\n",
       "      <th>ReorderLevel</th>\n",
       "      <th>Discount</th>\n",
       "    </tr>\n",
       "    <tr>\n",
       "      <th>Id</th>\n",
       "      <th>OrderDate</th>\n",
       "      <th>ShipVia</th>\n",
       "      <th>ProductId</th>\n",
       "      <th></th>\n",
       "      <th></th>\n",
       "      <th></th>\n",
       "      <th></th>\n",
       "      <th></th>\n",
       "      <th></th>\n",
       "    </tr>\n",
       "  </thead>\n",
       "  <tbody>\n",
       "    <tr>\n",
       "      <th>10248</th>\n",
       "      <th>2012-07-04</th>\n",
       "      <th>3</th>\n",
       "      <th>72</th>\n",
       "      <td>32.38</td>\n",
       "      <td>34.80</td>\n",
       "      <td>34.8</td>\n",
       "      <td>5</td>\n",
       "      <td>0</td>\n",
       "      <td>0.00</td>\n",
       "    </tr>\n",
       "    <tr>\n",
       "      <th rowspan=\"2\" valign=\"top\">10249</th>\n",
       "      <th rowspan=\"2\" valign=\"top\">2012-07-05</th>\n",
       "      <th rowspan=\"2\" valign=\"top\">1</th>\n",
       "      <th>14</th>\n",
       "      <td>11.61</td>\n",
       "      <td>23.25</td>\n",
       "      <td>18.6</td>\n",
       "      <td>9</td>\n",
       "      <td>0</td>\n",
       "      <td>0.00</td>\n",
       "    </tr>\n",
       "    <tr>\n",
       "      <th>51</th>\n",
       "      <td>11.61</td>\n",
       "      <td>53.00</td>\n",
       "      <td>42.4</td>\n",
       "      <td>40</td>\n",
       "      <td>10</td>\n",
       "      <td>0.00</td>\n",
       "    </tr>\n",
       "    <tr>\n",
       "      <th rowspan=\"2\" valign=\"top\">10250</th>\n",
       "      <th rowspan=\"2\" valign=\"top\">2012-07-08</th>\n",
       "      <th rowspan=\"2\" valign=\"top\">2</th>\n",
       "      <th>41</th>\n",
       "      <td>65.83</td>\n",
       "      <td>9.65</td>\n",
       "      <td>7.7</td>\n",
       "      <td>10</td>\n",
       "      <td>10</td>\n",
       "      <td>0.00</td>\n",
       "    </tr>\n",
       "    <tr>\n",
       "      <th>51</th>\n",
       "      <td>65.83</td>\n",
       "      <td>53.00</td>\n",
       "      <td>42.4</td>\n",
       "      <td>35</td>\n",
       "      <td>10</td>\n",
       "      <td>0.15</td>\n",
       "    </tr>\n",
       "  </tbody>\n",
       "</table>\n",
       "</div>"
      ],
      "text/plain": [
       "                                    Freight  ProductPrice  OrderPrice  \\\n",
       "Id    OrderDate  ShipVia ProductId                                      \n",
       "10248 2012-07-04 3       72           32.38         34.80        34.8   \n",
       "10249 2012-07-05 1       14           11.61         23.25        18.6   \n",
       "                         51           11.61         53.00        42.4   \n",
       "10250 2012-07-08 2       41           65.83          9.65         7.7   \n",
       "                         51           65.83         53.00        42.4   \n",
       "\n",
       "                                    Quantity  ReorderLevel  Discount  \n",
       "Id    OrderDate  ShipVia ProductId                                    \n",
       "10248 2012-07-04 3       72                5             0      0.00  \n",
       "10249 2012-07-05 1       14                9             0      0.00  \n",
       "                         51               40            10      0.00  \n",
       "10250 2012-07-08 2       41               10            10      0.00  \n",
       "                         51               35            10      0.15  "
      ]
     },
     "execution_count": 20,
     "metadata": {},
     "output_type": "execute_result"
    }
   ],
   "source": [
    "multi = df_drop.copy(deep=True)\n",
    "mulit = multi.set_index(['Id', 'OrderDate', 'ShipVia', 'ProductId'], inplace=True)\n",
    "multi.head()"
   ]
  },
  {
   "cell_type": "code",
   "execution_count": 21,
   "metadata": {},
   "outputs": [
    {
     "data": {
      "text/html": [
       "<div>\n",
       "<style scoped>\n",
       "    .dataframe tbody tr th:only-of-type {\n",
       "        vertical-align: middle;\n",
       "    }\n",
       "\n",
       "    .dataframe tbody tr th {\n",
       "        vertical-align: top;\n",
       "    }\n",
       "\n",
       "    .dataframe thead th {\n",
       "        text-align: right;\n",
       "    }\n",
       "</style>\n",
       "<table border=\"1\" class=\"dataframe\">\n",
       "  <thead>\n",
       "    <tr style=\"text-align: right;\">\n",
       "      <th></th>\n",
       "      <th></th>\n",
       "      <th></th>\n",
       "      <th></th>\n",
       "      <th>Freight</th>\n",
       "      <th>ProductPrice</th>\n",
       "      <th>OrderPrice</th>\n",
       "      <th>Quantity</th>\n",
       "      <th>ReorderLevel</th>\n",
       "      <th>Discount</th>\n",
       "    </tr>\n",
       "    <tr>\n",
       "      <th>Id</th>\n",
       "      <th>OrderDate</th>\n",
       "      <th>ShipVia</th>\n",
       "      <th>ProductId</th>\n",
       "      <th></th>\n",
       "      <th></th>\n",
       "      <th></th>\n",
       "      <th></th>\n",
       "      <th></th>\n",
       "      <th></th>\n",
       "    </tr>\n",
       "  </thead>\n",
       "  <tbody>\n",
       "    <tr>\n",
       "      <th>10248</th>\n",
       "      <th>2012-07-04</th>\n",
       "      <th>3</th>\n",
       "      <th>72</th>\n",
       "      <td>32.38</td>\n",
       "      <td>34.80</td>\n",
       "      <td>34.8</td>\n",
       "      <td>5</td>\n",
       "      <td>0</td>\n",
       "      <td>0.00</td>\n",
       "    </tr>\n",
       "    <tr>\n",
       "      <th rowspan=\"2\" valign=\"top\">10249</th>\n",
       "      <th rowspan=\"2\" valign=\"top\">2012-07-05</th>\n",
       "      <th rowspan=\"2\" valign=\"top\">1</th>\n",
       "      <th>14</th>\n",
       "      <td>11.61</td>\n",
       "      <td>23.25</td>\n",
       "      <td>18.6</td>\n",
       "      <td>9</td>\n",
       "      <td>0</td>\n",
       "      <td>0.00</td>\n",
       "    </tr>\n",
       "    <tr>\n",
       "      <th>51</th>\n",
       "      <td>11.61</td>\n",
       "      <td>53.00</td>\n",
       "      <td>42.4</td>\n",
       "      <td>40</td>\n",
       "      <td>10</td>\n",
       "      <td>0.00</td>\n",
       "    </tr>\n",
       "    <tr>\n",
       "      <th rowspan=\"3\" valign=\"top\">10250</th>\n",
       "      <th rowspan=\"3\" valign=\"top\">2012-07-08</th>\n",
       "      <th rowspan=\"3\" valign=\"top\">2</th>\n",
       "      <th>41</th>\n",
       "      <td>65.83</td>\n",
       "      <td>9.65</td>\n",
       "      <td>7.7</td>\n",
       "      <td>10</td>\n",
       "      <td>10</td>\n",
       "      <td>0.00</td>\n",
       "    </tr>\n",
       "    <tr>\n",
       "      <th>51</th>\n",
       "      <td>65.83</td>\n",
       "      <td>53.00</td>\n",
       "      <td>42.4</td>\n",
       "      <td>35</td>\n",
       "      <td>10</td>\n",
       "      <td>0.15</td>\n",
       "    </tr>\n",
       "    <tr>\n",
       "      <th>65</th>\n",
       "      <td>65.83</td>\n",
       "      <td>21.05</td>\n",
       "      <td>16.8</td>\n",
       "      <td>15</td>\n",
       "      <td>0</td>\n",
       "      <td>0.15</td>\n",
       "    </tr>\n",
       "    <tr>\n",
       "      <th rowspan=\"3\" valign=\"top\">10251</th>\n",
       "      <th rowspan=\"3\" valign=\"top\">2012-07-08</th>\n",
       "      <th rowspan=\"3\" valign=\"top\">1</th>\n",
       "      <th>22</th>\n",
       "      <td>41.34</td>\n",
       "      <td>21.00</td>\n",
       "      <td>16.8</td>\n",
       "      <td>6</td>\n",
       "      <td>25</td>\n",
       "      <td>0.05</td>\n",
       "    </tr>\n",
       "    <tr>\n",
       "      <th>57</th>\n",
       "      <td>41.34</td>\n",
       "      <td>19.50</td>\n",
       "      <td>15.6</td>\n",
       "      <td>15</td>\n",
       "      <td>20</td>\n",
       "      <td>0.05</td>\n",
       "    </tr>\n",
       "    <tr>\n",
       "      <th>65</th>\n",
       "      <td>41.34</td>\n",
       "      <td>21.05</td>\n",
       "      <td>16.8</td>\n",
       "      <td>20</td>\n",
       "      <td>0</td>\n",
       "      <td>0.00</td>\n",
       "    </tr>\n",
       "    <tr>\n",
       "      <th>10252</th>\n",
       "      <th>2012-07-09</th>\n",
       "      <th>2</th>\n",
       "      <th>20</th>\n",
       "      <td>51.30</td>\n",
       "      <td>81.00</td>\n",
       "      <td>64.8</td>\n",
       "      <td>40</td>\n",
       "      <td>0</td>\n",
       "      <td>0.05</td>\n",
       "    </tr>\n",
       "  </tbody>\n",
       "</table>\n",
       "</div>"
      ],
      "text/plain": [
       "                                    Freight  ProductPrice  OrderPrice  \\\n",
       "Id    OrderDate  ShipVia ProductId                                      \n",
       "10248 2012-07-04 3       72           32.38         34.80        34.8   \n",
       "10249 2012-07-05 1       14           11.61         23.25        18.6   \n",
       "                         51           11.61         53.00        42.4   \n",
       "10250 2012-07-08 2       41           65.83          9.65         7.7   \n",
       "                         51           65.83         53.00        42.4   \n",
       "                         65           65.83         21.05        16.8   \n",
       "10251 2012-07-08 1       22           41.34         21.00        16.8   \n",
       "                         57           41.34         19.50        15.6   \n",
       "                         65           41.34         21.05        16.8   \n",
       "10252 2012-07-09 2       20           51.30         81.00        64.8   \n",
       "\n",
       "                                    Quantity  ReorderLevel  Discount  \n",
       "Id    OrderDate  ShipVia ProductId                                    \n",
       "10248 2012-07-04 3       72                5             0      0.00  \n",
       "10249 2012-07-05 1       14                9             0      0.00  \n",
       "                         51               40            10      0.00  \n",
       "10250 2012-07-08 2       41               10            10      0.00  \n",
       "                         51               35            10      0.15  \n",
       "                         65               15             0      0.15  \n",
       "10251 2012-07-08 1       22                6            25      0.05  \n",
       "                         57               15            20      0.05  \n",
       "                         65               20             0      0.00  \n",
       "10252 2012-07-09 2       20               40             0      0.05  "
      ]
     },
     "execution_count": 21,
     "metadata": {},
     "output_type": "execute_result"
    }
   ],
   "source": [
    "sort1 = multi.copy()\n",
    "sort1.sort_index(inplace=True)\n",
    "sort1.head(10)"
   ]
  },
  {
   "cell_type": "code",
   "execution_count": 22,
   "metadata": {},
   "outputs": [
    {
     "data": {
      "text/html": [
       "<div>\n",
       "<style scoped>\n",
       "    .dataframe tbody tr th:only-of-type {\n",
       "        vertical-align: middle;\n",
       "    }\n",
       "\n",
       "    .dataframe tbody tr th {\n",
       "        vertical-align: top;\n",
       "    }\n",
       "\n",
       "    .dataframe thead th {\n",
       "        text-align: right;\n",
       "    }\n",
       "</style>\n",
       "<table border=\"1\" class=\"dataframe\">\n",
       "  <thead>\n",
       "    <tr style=\"text-align: right;\">\n",
       "      <th></th>\n",
       "      <th></th>\n",
       "      <th></th>\n",
       "      <th></th>\n",
       "      <th>Freight</th>\n",
       "      <th>ProductPrice</th>\n",
       "      <th>OrderPrice</th>\n",
       "      <th>Quantity</th>\n",
       "      <th>ReorderLevel</th>\n",
       "      <th>Discount</th>\n",
       "    </tr>\n",
       "    <tr>\n",
       "      <th>Id</th>\n",
       "      <th>OrderDate</th>\n",
       "      <th>ShipVia</th>\n",
       "      <th>ProductId</th>\n",
       "      <th></th>\n",
       "      <th></th>\n",
       "      <th></th>\n",
       "      <th></th>\n",
       "      <th></th>\n",
       "      <th></th>\n",
       "    </tr>\n",
       "  </thead>\n",
       "  <tbody>\n",
       "    <tr>\n",
       "      <th>10327</th>\n",
       "      <th>2012-10-11</th>\n",
       "      <th>1</th>\n",
       "      <th>2</th>\n",
       "      <td>63.36</td>\n",
       "      <td>19.00</td>\n",
       "      <td>15.20</td>\n",
       "      <td>25</td>\n",
       "      <td>25</td>\n",
       "      <td>0.20</td>\n",
       "    </tr>\n",
       "    <tr>\n",
       "      <th>10954</th>\n",
       "      <th>2014-03-17</th>\n",
       "      <th>1</th>\n",
       "      <th>31</th>\n",
       "      <td>27.91</td>\n",
       "      <td>12.50</td>\n",
       "      <td>12.50</td>\n",
       "      <td>25</td>\n",
       "      <td>20</td>\n",
       "      <td>0.15</td>\n",
       "    </tr>\n",
       "    <tr>\n",
       "      <th>10913</th>\n",
       "      <th>2014-02-26</th>\n",
       "      <th>1</th>\n",
       "      <th>33</th>\n",
       "      <td>33.05</td>\n",
       "      <td>2.50</td>\n",
       "      <td>2.50</td>\n",
       "      <td>40</td>\n",
       "      <td>20</td>\n",
       "      <td>0.25</td>\n",
       "    </tr>\n",
       "    <tr>\n",
       "      <th>10379</th>\n",
       "      <th>2012-12-11</th>\n",
       "      <th>1</th>\n",
       "      <th>41</th>\n",
       "      <td>45.03</td>\n",
       "      <td>9.65</td>\n",
       "      <td>7.70</td>\n",
       "      <td>8</td>\n",
       "      <td>10</td>\n",
       "      <td>0.10</td>\n",
       "    </tr>\n",
       "    <tr>\n",
       "      <th>10745</th>\n",
       "      <th>2013-11-18</th>\n",
       "      <th>1</th>\n",
       "      <th>18</th>\n",
       "      <td>3.52</td>\n",
       "      <td>62.50</td>\n",
       "      <td>62.50</td>\n",
       "      <td>24</td>\n",
       "      <td>0</td>\n",
       "      <td>0.00</td>\n",
       "    </tr>\n",
       "    <tr>\n",
       "      <th>10932</th>\n",
       "      <th>2014-03-06</th>\n",
       "      <th>1</th>\n",
       "      <th>16</th>\n",
       "      <td>134.64</td>\n",
       "      <td>17.45</td>\n",
       "      <td>17.45</td>\n",
       "      <td>30</td>\n",
       "      <td>10</td>\n",
       "      <td>0.10</td>\n",
       "    </tr>\n",
       "    <tr>\n",
       "      <th>10745</th>\n",
       "      <th>2013-11-18</th>\n",
       "      <th>1</th>\n",
       "      <th>44</th>\n",
       "      <td>3.52</td>\n",
       "      <td>19.45</td>\n",
       "      <td>19.45</td>\n",
       "      <td>16</td>\n",
       "      <td>15</td>\n",
       "      <td>0.00</td>\n",
       "    </tr>\n",
       "    <tr>\n",
       "      <th>10625</th>\n",
       "      <th>2013-08-08</th>\n",
       "      <th>1</th>\n",
       "      <th>14</th>\n",
       "      <td>43.90</td>\n",
       "      <td>23.25</td>\n",
       "      <td>23.25</td>\n",
       "      <td>3</td>\n",
       "      <td>0</td>\n",
       "      <td>0.00</td>\n",
       "    </tr>\n",
       "    <tr>\n",
       "      <th>10851</th>\n",
       "      <th>2014-01-26</th>\n",
       "      <th>1</th>\n",
       "      <th>57</th>\n",
       "      <td>160.55</td>\n",
       "      <td>19.50</td>\n",
       "      <td>19.50</td>\n",
       "      <td>10</td>\n",
       "      <td>20</td>\n",
       "      <td>0.05</td>\n",
       "    </tr>\n",
       "    <tr>\n",
       "      <th>10430</th>\n",
       "      <th>2013-01-30</th>\n",
       "      <th>1</th>\n",
       "      <th>56</th>\n",
       "      <td>458.78</td>\n",
       "      <td>38.00</td>\n",
       "      <td>30.40</td>\n",
       "      <td>30</td>\n",
       "      <td>30</td>\n",
       "      <td>0.00</td>\n",
       "    </tr>\n",
       "  </tbody>\n",
       "</table>\n",
       "</div>"
      ],
      "text/plain": [
       "                                    Freight  ProductPrice  OrderPrice  \\\n",
       "Id    OrderDate  ShipVia ProductId                                      \n",
       "10327 2012-10-11 1       2            63.36         19.00       15.20   \n",
       "10954 2014-03-17 1       31           27.91         12.50       12.50   \n",
       "10913 2014-02-26 1       33           33.05          2.50        2.50   \n",
       "10379 2012-12-11 1       41           45.03          9.65        7.70   \n",
       "10745 2013-11-18 1       18            3.52         62.50       62.50   \n",
       "10932 2014-03-06 1       16          134.64         17.45       17.45   \n",
       "10745 2013-11-18 1       44            3.52         19.45       19.45   \n",
       "10625 2013-08-08 1       14           43.90         23.25       23.25   \n",
       "10851 2014-01-26 1       57          160.55         19.50       19.50   \n",
       "10430 2013-01-30 1       56          458.78         38.00       30.40   \n",
       "\n",
       "                                    Quantity  ReorderLevel  Discount  \n",
       "Id    OrderDate  ShipVia ProductId                                    \n",
       "10327 2012-10-11 1       2                25            25      0.20  \n",
       "10954 2014-03-17 1       31               25            20      0.15  \n",
       "10913 2014-02-26 1       33               40            20      0.25  \n",
       "10379 2012-12-11 1       41                8            10      0.10  \n",
       "10745 2013-11-18 1       18               24             0      0.00  \n",
       "10932 2014-03-06 1       16               30            10      0.10  \n",
       "10745 2013-11-18 1       44               16            15      0.00  \n",
       "10625 2013-08-08 1       14                3             0      0.00  \n",
       "10851 2014-01-26 1       57               10            20      0.05  \n",
       "10430 2013-01-30 1       56               30            30      0.00  "
      ]
     },
     "execution_count": 22,
     "metadata": {},
     "output_type": "execute_result"
    }
   ],
   "source": [
    "# only shipping for company 1\n",
    "company_1 = sort1.loc[idx[:, :, 1], :]\n",
    "company_1.sample(10)"
   ]
  },
  {
   "cell_type": "code",
   "execution_count": 23,
   "metadata": {},
   "outputs": [
    {
     "data": {
      "text/html": [
       "<div>\n",
       "<style scoped>\n",
       "    .dataframe tbody tr th:only-of-type {\n",
       "        vertical-align: middle;\n",
       "    }\n",
       "\n",
       "    .dataframe tbody tr th {\n",
       "        vertical-align: top;\n",
       "    }\n",
       "\n",
       "    .dataframe thead th {\n",
       "        text-align: right;\n",
       "    }\n",
       "</style>\n",
       "<table border=\"1\" class=\"dataframe\">\n",
       "  <thead>\n",
       "    <tr style=\"text-align: right;\">\n",
       "      <th></th>\n",
       "      <th></th>\n",
       "      <th></th>\n",
       "      <th></th>\n",
       "      <th>Freight</th>\n",
       "      <th>ProductPrice</th>\n",
       "      <th>OrderPrice</th>\n",
       "      <th>Quantity</th>\n",
       "      <th>ReorderLevel</th>\n",
       "      <th>Discount</th>\n",
       "    </tr>\n",
       "    <tr>\n",
       "      <th>Id</th>\n",
       "      <th>OrderDate</th>\n",
       "      <th>ShipVia</th>\n",
       "      <th>ProductId</th>\n",
       "      <th></th>\n",
       "      <th></th>\n",
       "      <th></th>\n",
       "      <th></th>\n",
       "      <th></th>\n",
       "      <th></th>\n",
       "    </tr>\n",
       "  </thead>\n",
       "  <tbody>\n",
       "    <tr>\n",
       "      <th>10973</th>\n",
       "      <th>2014-03-24</th>\n",
       "      <th>2</th>\n",
       "      <th>41</th>\n",
       "      <td>15.17</td>\n",
       "      <td>9.65</td>\n",
       "      <td>9.65</td>\n",
       "      <td>6</td>\n",
       "      <td>10</td>\n",
       "      <td>0.00</td>\n",
       "    </tr>\n",
       "    <tr>\n",
       "      <th>10868</th>\n",
       "      <th>2014-02-04</th>\n",
       "      <th>2</th>\n",
       "      <th>35</th>\n",
       "      <td>191.27</td>\n",
       "      <td>18.00</td>\n",
       "      <td>18.00</td>\n",
       "      <td>30</td>\n",
       "      <td>15</td>\n",
       "      <td>0.00</td>\n",
       "    </tr>\n",
       "    <tr>\n",
       "      <th>10294</th>\n",
       "      <th>2012-08-30</th>\n",
       "      <th>2</th>\n",
       "      <th>1</th>\n",
       "      <td>147.26</td>\n",
       "      <td>18.00</td>\n",
       "      <td>14.40</td>\n",
       "      <td>18</td>\n",
       "      <td>10</td>\n",
       "      <td>0.00</td>\n",
       "    </tr>\n",
       "    <tr>\n",
       "      <th>10905</th>\n",
       "      <th>2014-02-24</th>\n",
       "      <th>2</th>\n",
       "      <th>1</th>\n",
       "      <td>13.72</td>\n",
       "      <td>18.00</td>\n",
       "      <td>18.00</td>\n",
       "      <td>20</td>\n",
       "      <td>10</td>\n",
       "      <td>0.05</td>\n",
       "    </tr>\n",
       "    <tr>\n",
       "      <th>10477</th>\n",
       "      <th>2013-03-17</th>\n",
       "      <th>2</th>\n",
       "      <th>1</th>\n",
       "      <td>13.02</td>\n",
       "      <td>18.00</td>\n",
       "      <td>14.40</td>\n",
       "      <td>15</td>\n",
       "      <td>10</td>\n",
       "      <td>0.00</td>\n",
       "    </tr>\n",
       "    <tr>\n",
       "      <th>10261</th>\n",
       "      <th>2012-07-19</th>\n",
       "      <th>2</th>\n",
       "      <th>21</th>\n",
       "      <td>3.05</td>\n",
       "      <td>10.00</td>\n",
       "      <td>8.00</td>\n",
       "      <td>20</td>\n",
       "      <td>5</td>\n",
       "      <td>0.00</td>\n",
       "    </tr>\n",
       "    <tr>\n",
       "      <th>10334</th>\n",
       "      <th>2012-10-21</th>\n",
       "      <th>2</th>\n",
       "      <th>52</th>\n",
       "      <td>8.56</td>\n",
       "      <td>7.00</td>\n",
       "      <td>5.60</td>\n",
       "      <td>8</td>\n",
       "      <td>25</td>\n",
       "      <td>0.00</td>\n",
       "    </tr>\n",
       "    <tr>\n",
       "      <th>11056</th>\n",
       "      <th>2014-04-28</th>\n",
       "      <th>2</th>\n",
       "      <th>60</th>\n",
       "      <td>278.96</td>\n",
       "      <td>34.00</td>\n",
       "      <td>34.00</td>\n",
       "      <td>50</td>\n",
       "      <td>0</td>\n",
       "      <td>0.00</td>\n",
       "    </tr>\n",
       "    <tr>\n",
       "      <th>10772</th>\n",
       "      <th>2013-12-10</th>\n",
       "      <th>2</th>\n",
       "      <th>59</th>\n",
       "      <td>91.28</td>\n",
       "      <td>55.00</td>\n",
       "      <td>55.00</td>\n",
       "      <td>25</td>\n",
       "      <td>0</td>\n",
       "      <td>0.00</td>\n",
       "    </tr>\n",
       "    <tr>\n",
       "      <th>10685</th>\n",
       "      <th>2013-09-29</th>\n",
       "      <th>2</th>\n",
       "      <th>10</th>\n",
       "      <td>33.75</td>\n",
       "      <td>31.00</td>\n",
       "      <td>31.00</td>\n",
       "      <td>20</td>\n",
       "      <td>0</td>\n",
       "      <td>0.00</td>\n",
       "    </tr>\n",
       "  </tbody>\n",
       "</table>\n",
       "</div>"
      ],
      "text/plain": [
       "                                    Freight  ProductPrice  OrderPrice  \\\n",
       "Id    OrderDate  ShipVia ProductId                                      \n",
       "10973 2014-03-24 2       41           15.17          9.65        9.65   \n",
       "10868 2014-02-04 2       35          191.27         18.00       18.00   \n",
       "10294 2012-08-30 2       1           147.26         18.00       14.40   \n",
       "10905 2014-02-24 2       1            13.72         18.00       18.00   \n",
       "10477 2013-03-17 2       1            13.02         18.00       14.40   \n",
       "10261 2012-07-19 2       21            3.05         10.00        8.00   \n",
       "10334 2012-10-21 2       52            8.56          7.00        5.60   \n",
       "11056 2014-04-28 2       60          278.96         34.00       34.00   \n",
       "10772 2013-12-10 2       59           91.28         55.00       55.00   \n",
       "10685 2013-09-29 2       10           33.75         31.00       31.00   \n",
       "\n",
       "                                    Quantity  ReorderLevel  Discount  \n",
       "Id    OrderDate  ShipVia ProductId                                    \n",
       "10973 2014-03-24 2       41                6            10      0.00  \n",
       "10868 2014-02-04 2       35               30            15      0.00  \n",
       "10294 2012-08-30 2       1                18            10      0.00  \n",
       "10905 2014-02-24 2       1                20            10      0.05  \n",
       "10477 2013-03-17 2       1                15            10      0.00  \n",
       "10261 2012-07-19 2       21               20             5      0.00  \n",
       "10334 2012-10-21 2       52                8            25      0.00  \n",
       "11056 2014-04-28 2       60               50             0      0.00  \n",
       "10772 2013-12-10 2       59               25             0      0.00  \n",
       "10685 2013-09-29 2       10               20             0      0.00  "
      ]
     },
     "execution_count": 23,
     "metadata": {},
     "output_type": "execute_result"
    }
   ],
   "source": [
    "# only shipping for company 2\n",
    "company_2 = sort1.loc[idx[:, :, 2], :]\n",
    "company_2.sample(10)"
   ]
  },
  {
   "cell_type": "code",
   "execution_count": 24,
   "metadata": {},
   "outputs": [
    {
     "data": {
      "text/html": [
       "<div>\n",
       "<style scoped>\n",
       "    .dataframe tbody tr th:only-of-type {\n",
       "        vertical-align: middle;\n",
       "    }\n",
       "\n",
       "    .dataframe tbody tr th {\n",
       "        vertical-align: top;\n",
       "    }\n",
       "\n",
       "    .dataframe thead th {\n",
       "        text-align: right;\n",
       "    }\n",
       "</style>\n",
       "<table border=\"1\" class=\"dataframe\">\n",
       "  <thead>\n",
       "    <tr style=\"text-align: right;\">\n",
       "      <th></th>\n",
       "      <th></th>\n",
       "      <th></th>\n",
       "      <th></th>\n",
       "      <th>Freight</th>\n",
       "      <th>ProductPrice</th>\n",
       "      <th>OrderPrice</th>\n",
       "      <th>Quantity</th>\n",
       "      <th>ReorderLevel</th>\n",
       "      <th>Discount</th>\n",
       "    </tr>\n",
       "    <tr>\n",
       "      <th>Id</th>\n",
       "      <th>OrderDate</th>\n",
       "      <th>ShipVia</th>\n",
       "      <th>ProductId</th>\n",
       "      <th></th>\n",
       "      <th></th>\n",
       "      <th></th>\n",
       "      <th></th>\n",
       "      <th></th>\n",
       "      <th></th>\n",
       "    </tr>\n",
       "  </thead>\n",
       "  <tbody>\n",
       "    <tr>\n",
       "      <th>10773</th>\n",
       "      <th>2013-12-11</th>\n",
       "      <th>3</th>\n",
       "      <th>31</th>\n",
       "      <td>96.43</td>\n",
       "      <td>12.50</td>\n",
       "      <td>12.50</td>\n",
       "      <td>70</td>\n",
       "      <td>20</td>\n",
       "      <td>0.20</td>\n",
       "    </tr>\n",
       "    <tr>\n",
       "      <th>10785</th>\n",
       "      <th>2013-12-18</th>\n",
       "      <th>3</th>\n",
       "      <th>75</th>\n",
       "      <td>1.51</td>\n",
       "      <td>7.75</td>\n",
       "      <td>7.75</td>\n",
       "      <td>10</td>\n",
       "      <td>25</td>\n",
       "      <td>0.00</td>\n",
       "    </tr>\n",
       "    <tr>\n",
       "      <th>10383</th>\n",
       "      <th>2012-12-16</th>\n",
       "      <th>3</th>\n",
       "      <th>13</th>\n",
       "      <td>34.24</td>\n",
       "      <td>6.00</td>\n",
       "      <td>4.80</td>\n",
       "      <td>20</td>\n",
       "      <td>5</td>\n",
       "      <td>0.00</td>\n",
       "    </tr>\n",
       "    <tr>\n",
       "      <th>10681</th>\n",
       "      <th>2013-09-25</th>\n",
       "      <th>3</th>\n",
       "      <th>64</th>\n",
       "      <td>76.13</td>\n",
       "      <td>33.25</td>\n",
       "      <td>33.25</td>\n",
       "      <td>28</td>\n",
       "      <td>30</td>\n",
       "      <td>0.00</td>\n",
       "    </tr>\n",
       "    <tr>\n",
       "      <th>10679</th>\n",
       "      <th>2013-09-23</th>\n",
       "      <th>3</th>\n",
       "      <th>59</th>\n",
       "      <td>27.94</td>\n",
       "      <td>55.00</td>\n",
       "      <td>55.00</td>\n",
       "      <td>12</td>\n",
       "      <td>0</td>\n",
       "      <td>0.00</td>\n",
       "    </tr>\n",
       "    <tr>\n",
       "      <th>10620</th>\n",
       "      <th>2013-08-05</th>\n",
       "      <th>3</th>\n",
       "      <th>52</th>\n",
       "      <td>0.94</td>\n",
       "      <td>7.00</td>\n",
       "      <td>7.00</td>\n",
       "      <td>5</td>\n",
       "      <td>25</td>\n",
       "      <td>0.00</td>\n",
       "    </tr>\n",
       "    <tr>\n",
       "      <th>10751</th>\n",
       "      <th>2013-11-24</th>\n",
       "      <th>3</th>\n",
       "      <th>50</th>\n",
       "      <td>130.79</td>\n",
       "      <td>16.25</td>\n",
       "      <td>16.25</td>\n",
       "      <td>20</td>\n",
       "      <td>30</td>\n",
       "      <td>0.10</td>\n",
       "    </tr>\n",
       "    <tr>\n",
       "      <th>10308</th>\n",
       "      <th>2012-09-18</th>\n",
       "      <th>3</th>\n",
       "      <th>70</th>\n",
       "      <td>1.61</td>\n",
       "      <td>15.00</td>\n",
       "      <td>12.00</td>\n",
       "      <td>5</td>\n",
       "      <td>30</td>\n",
       "      <td>0.00</td>\n",
       "    </tr>\n",
       "    <tr>\n",
       "      <th>10751</th>\n",
       "      <th>2013-11-24</th>\n",
       "      <th>3</th>\n",
       "      <th>30</th>\n",
       "      <td>130.79</td>\n",
       "      <td>25.89</td>\n",
       "      <td>25.89</td>\n",
       "      <td>30</td>\n",
       "      <td>15</td>\n",
       "      <td>0.00</td>\n",
       "    </tr>\n",
       "    <tr>\n",
       "      <th>10461</th>\n",
       "      <th>2013-02-28</th>\n",
       "      <th>3</th>\n",
       "      <th>55</th>\n",
       "      <td>148.61</td>\n",
       "      <td>24.00</td>\n",
       "      <td>19.20</td>\n",
       "      <td>60</td>\n",
       "      <td>20</td>\n",
       "      <td>0.25</td>\n",
       "    </tr>\n",
       "  </tbody>\n",
       "</table>\n",
       "</div>"
      ],
      "text/plain": [
       "                                    Freight  ProductPrice  OrderPrice  \\\n",
       "Id    OrderDate  ShipVia ProductId                                      \n",
       "10773 2013-12-11 3       31           96.43         12.50       12.50   \n",
       "10785 2013-12-18 3       75            1.51          7.75        7.75   \n",
       "10383 2012-12-16 3       13           34.24          6.00        4.80   \n",
       "10681 2013-09-25 3       64           76.13         33.25       33.25   \n",
       "10679 2013-09-23 3       59           27.94         55.00       55.00   \n",
       "10620 2013-08-05 3       52            0.94          7.00        7.00   \n",
       "10751 2013-11-24 3       50          130.79         16.25       16.25   \n",
       "10308 2012-09-18 3       70            1.61         15.00       12.00   \n",
       "10751 2013-11-24 3       30          130.79         25.89       25.89   \n",
       "10461 2013-02-28 3       55          148.61         24.00       19.20   \n",
       "\n",
       "                                    Quantity  ReorderLevel  Discount  \n",
       "Id    OrderDate  ShipVia ProductId                                    \n",
       "10773 2013-12-11 3       31               70            20      0.20  \n",
       "10785 2013-12-18 3       75               10            25      0.00  \n",
       "10383 2012-12-16 3       13               20             5      0.00  \n",
       "10681 2013-09-25 3       64               28            30      0.00  \n",
       "10679 2013-09-23 3       59               12             0      0.00  \n",
       "10620 2013-08-05 3       52                5            25      0.00  \n",
       "10751 2013-11-24 3       50               20            30      0.10  \n",
       "10308 2012-09-18 3       70                5            30      0.00  \n",
       "10751 2013-11-24 3       30               30            15      0.00  \n",
       "10461 2013-02-28 3       55               60            20      0.25  "
      ]
     },
     "execution_count": 24,
     "metadata": {},
     "output_type": "execute_result"
    }
   ],
   "source": [
    "# only shipping for company 3\n",
    "company_3 = sort1.loc[idx[:, :, 3], :]\n",
    "company_3.sample(10)"
   ]
  },
  {
   "cell_type": "markdown",
   "metadata": {},
   "source": [
    "Insert commentary here about how there doesn't seems to be a pattern to the freight charges due to the company selected."
   ]
  },
  {
   "cell_type": "markdown",
   "metadata": {},
   "source": [
    "# Scrub Data\n",
    "\n",
    "The following scrubbing techniques were applied to the original data:\n",
    "- Manage n/a data types\n",
    "- Delete duplicate rows\n",
    "- Correct data types\n",
    "- Find outliers\n",
    "\n",
    "### Manage n/a data types"
   ]
  },
  {
   "cell_type": "code",
   "execution_count": 25,
   "metadata": {},
   "outputs": [
    {
     "name": "stdout",
     "output_type": "stream",
     "text": [
      "2087\n"
     ]
    },
    {
     "data": {
      "text/plain": [
       "Freight         0\n",
       "ProductPrice    0\n",
       "OrderPrice      0\n",
       "Quantity        0\n",
       "ReorderLevel    0\n",
       "Discount        0\n",
       "dtype: int64"
      ]
     },
     "execution_count": 25,
     "metadata": {},
     "output_type": "execute_result"
    }
   ],
   "source": [
    "# nans identification\n",
    "print(len(sort1))\n",
    "sort1.isna().sum()"
   ]
  },
  {
   "cell_type": "markdown",
   "metadata": {},
   "source": [
    "### Delete duplicate data"
   ]
  },
  {
   "cell_type": "code",
   "execution_count": 26,
   "metadata": {},
   "outputs": [
    {
     "name": "stdout",
     "output_type": "stream",
     "text": [
      "duplicated rows: 0\n"
     ]
    }
   ],
   "source": [
    "# identification of duplicate data\n",
    "print('duplicated rows: ' + str(sort1.duplicated().sum()))"
   ]
  },
  {
   "cell_type": "code",
   "execution_count": 27,
   "metadata": {},
   "outputs": [],
   "source": [
    "# code to drop duplicate rows if necessary\n",
    "# sort1.drop_duplicates(inplace=True)\n",
    "# print('duplicated rows: ' + str(sort1.duplicated().sum()))"
   ]
  },
  {
   "cell_type": "markdown",
   "metadata": {},
   "source": [
    "### Data types\n",
    "\n",
    "First, let's see what the data types for this data set are."
   ]
  },
  {
   "cell_type": "code",
   "execution_count": 28,
   "metadata": {},
   "outputs": [
    {
     "name": "stdout",
     "output_type": "stream",
     "text": [
      "<class 'pandas.core.frame.DataFrame'>\n",
      "MultiIndex: 2087 entries, (10248, 2012-07-04 00:00:00, 3, 72) to (11077, 2014-05-06 00:00:00, 2, 77)\n",
      "Data columns (total 6 columns):\n",
      "Freight         2087 non-null float64\n",
      "ProductPrice    2087 non-null float64\n",
      "OrderPrice      2087 non-null float64\n",
      "Quantity        2087 non-null int64\n",
      "ReorderLevel    2087 non-null int64\n",
      "Discount        2087 non-null float64\n",
      "dtypes: float64(4), int64(2)\n",
      "memory usage: 121.1 KB\n"
     ]
    }
   ],
   "source": [
    "# data type identification\n",
    "sort1.info()"
   ]
  },
  {
   "cell_type": "code",
   "execution_count": 29,
   "metadata": {},
   "outputs": [
    {
     "data": {
      "text/plain": [
       "['Id: int64',\n",
       " 'OrderDate: datetime64[ns]',\n",
       " 'ShipVia: int64',\n",
       " 'ProductId: int64']"
      ]
     },
     "execution_count": 29,
     "metadata": {},
     "output_type": "execute_result"
    }
   ],
   "source": [
    "# A function to check our index level dtypes to aid this example\n",
    "def index_level_dtypes(df):\n",
    "    return [f\"{df.index.names[i]}: {df.index.get_level_values(n).dtype}\"\n",
    "            for i, n in enumerate(df.index.names)]\n",
    "\n",
    "index_level_dtypes(sort1)"
   ]
  },
  {
   "cell_type": "markdown",
   "metadata": {},
   "source": [
    "### Find outliers"
   ]
  },
  {
   "cell_type": "code",
   "execution_count": 35,
   "metadata": {},
   "outputs": [
    {
     "name": "stdout",
     "output_type": "stream",
     "text": [
      "length of cleaner dataset: 2087\n"
     ]
    },
    {
     "data": {
      "image/png": "[encoded data removed]",
      "text/plain": [
       "<Figure size 864x576 with 3 Axes>"
      ]
     },
     "metadata": {
      "needs_background": "light"
     },
     "output_type": "display_data"
    }
   ],
   "source": [
    "# outlier identification\n",
    "print('length of cleaner dataset: ' + str(len(sort1)))\n",
    "\n",
    "fig01 = plt.figure(figsize=(12,8))\n",
    "fig01.suptitle('Outlier Exploration')\n",
    "\n",
    "ax = fig01.add_subplot(131)\n",
    "ax1 = sort1.ProductSubtotal.plot(kind='box')\n",
    "ax = fig01.add_subplot(132)\n",
    "ax2 = sort1.OrderItemsPrice.plot(kind='box')\n",
    "ax = fig01.add_subplot(133)\n",
    "ax3 = sort1.Difference.plot(kind='box')"
   ]
  },
  {
   "cell_type": "code",
   "execution_count": 36,
   "metadata": {},
   "outputs": [
    {
     "name": "stdout",
     "output_type": "stream",
     "text": [
      "length of cleaner dataset: 2050\n"
     ]
    },
    {
     "data": {
      "image/png": "[encoded data removed]",
      "text/plain": [
       "<Figure size 720x360 with 3 Axes>"
      ]
     },
     "metadata": {
      "needs_background": "light"
     },
     "output_type": "display_data"
    }
   ],
   "source": [
    "# management of outliers\n",
    "no_outliers = sort1.loc[sort1['ProductSubtotal'] < 6000]\n",
    "no_outliers = no_outliers.loc[no_outliers['OrderItemsPrice'] < 6000]\n",
    "no_outliers = no_outliers.loc[no_outliers['Difference'] < 15]\n",
    "print('length of cleaner dataset: ' + str(len(no_outliers)))\n",
    "\n",
    "fig02 = plt.figure(figsize=(10,5))\n",
    "fig02.suptitle('Outlier Exploration')\n",
    "\n",
    "ax = fig02.add_subplot(131)\n",
    "ax1 = no_outliers.ProductSubtotal.plot(kind='box')\n",
    "ax = fig02.add_subplot(132)\n",
    "ax2 = no_outliers.OrderItemsPrice.plot(kind='box')\n",
    "ax = fig02.add_subplot(133)\n",
    "ax3 = no_outliers.Difference.plot(kind='box')"
   ]
  },
  {
   "cell_type": "markdown",
   "metadata": {},
   "source": [
    "### Develop feature\n",
    "\n",
    "It would be useful to be able to evaluate the total amount for each item in an order."
   ]
  },
  {
   "cell_type": "code",
   "execution_count": 30,
   "metadata": {},
   "outputs": [
    {
     "data": {
      "text/html": [
       "<div>\n",
       "<style scoped>\n",
       "    .dataframe tbody tr th:only-of-type {\n",
       "        vertical-align: middle;\n",
       "    }\n",
       "\n",
       "    .dataframe tbody tr th {\n",
       "        vertical-align: top;\n",
       "    }\n",
       "\n",
       "    .dataframe thead th {\n",
       "        text-align: right;\n",
       "    }\n",
       "</style>\n",
       "<table border=\"1\" class=\"dataframe\">\n",
       "  <thead>\n",
       "    <tr style=\"text-align: right;\">\n",
       "      <th></th>\n",
       "      <th></th>\n",
       "      <th></th>\n",
       "      <th></th>\n",
       "      <th>Freight</th>\n",
       "      <th>ProductPrice</th>\n",
       "      <th>OrderPrice</th>\n",
       "      <th>Quantity</th>\n",
       "      <th>ReorderLevel</th>\n",
       "      <th>Discount</th>\n",
       "      <th>ProductSubtotal</th>\n",
       "    </tr>\n",
       "    <tr>\n",
       "      <th>Id</th>\n",
       "      <th>OrderDate</th>\n",
       "      <th>ShipVia</th>\n",
       "      <th>ProductId</th>\n",
       "      <th></th>\n",
       "      <th></th>\n",
       "      <th></th>\n",
       "      <th></th>\n",
       "      <th></th>\n",
       "      <th></th>\n",
       "      <th></th>\n",
       "    </tr>\n",
       "  </thead>\n",
       "  <tbody>\n",
       "    <tr>\n",
       "      <th>11001</th>\n",
       "      <th>2014-04-06</th>\n",
       "      <th>2</th>\n",
       "      <th>22</th>\n",
       "      <td>197.30</td>\n",
       "      <td>21.00</td>\n",
       "      <td>21.0</td>\n",
       "      <td>25</td>\n",
       "      <td>25</td>\n",
       "      <td>0.00</td>\n",
       "      <td>525.00</td>\n",
       "    </tr>\n",
       "    <tr>\n",
       "      <th>10291</th>\n",
       "      <th>2012-08-27</th>\n",
       "      <th>2</th>\n",
       "      <th>44</th>\n",
       "      <td>6.40</td>\n",
       "      <td>19.45</td>\n",
       "      <td>15.5</td>\n",
       "      <td>24</td>\n",
       "      <td>15</td>\n",
       "      <td>0.10</td>\n",
       "      <td>466.80</td>\n",
       "    </tr>\n",
       "    <tr>\n",
       "      <th>10890</th>\n",
       "      <th>2014-02-16</th>\n",
       "      <th>1</th>\n",
       "      <th>17</th>\n",
       "      <td>32.76</td>\n",
       "      <td>39.00</td>\n",
       "      <td>39.0</td>\n",
       "      <td>15</td>\n",
       "      <td>0</td>\n",
       "      <td>0.00</td>\n",
       "      <td>585.00</td>\n",
       "    </tr>\n",
       "    <tr>\n",
       "      <th>11023</th>\n",
       "      <th>2014-04-14</th>\n",
       "      <th>2</th>\n",
       "      <th>43</th>\n",
       "      <td>123.83</td>\n",
       "      <td>46.00</td>\n",
       "      <td>46.0</td>\n",
       "      <td>30</td>\n",
       "      <td>25</td>\n",
       "      <td>0.00</td>\n",
       "      <td>1380.00</td>\n",
       "    </tr>\n",
       "    <tr>\n",
       "      <th>10256</th>\n",
       "      <th>2012-07-15</th>\n",
       "      <th>2</th>\n",
       "      <th>53</th>\n",
       "      <td>13.97</td>\n",
       "      <td>32.80</td>\n",
       "      <td>26.2</td>\n",
       "      <td>15</td>\n",
       "      <td>0</td>\n",
       "      <td>0.00</td>\n",
       "      <td>492.00</td>\n",
       "    </tr>\n",
       "    <tr>\n",
       "      <th>10389</th>\n",
       "      <th>2012-12-20</th>\n",
       "      <th>2</th>\n",
       "      <th>70</th>\n",
       "      <td>47.42</td>\n",
       "      <td>15.00</td>\n",
       "      <td>12.0</td>\n",
       "      <td>30</td>\n",
       "      <td>30</td>\n",
       "      <td>0.00</td>\n",
       "      <td>450.00</td>\n",
       "    </tr>\n",
       "    <tr>\n",
       "      <th>10478</th>\n",
       "      <th>2013-03-18</th>\n",
       "      <th>3</th>\n",
       "      <th>10</th>\n",
       "      <td>4.81</td>\n",
       "      <td>31.00</td>\n",
       "      <td>24.8</td>\n",
       "      <td>20</td>\n",
       "      <td>0</td>\n",
       "      <td>0.05</td>\n",
       "      <td>620.00</td>\n",
       "    </tr>\n",
       "    <tr>\n",
       "      <th>10902</th>\n",
       "      <th>2014-02-23</th>\n",
       "      <th>1</th>\n",
       "      <th>55</th>\n",
       "      <td>44.15</td>\n",
       "      <td>24.00</td>\n",
       "      <td>24.0</td>\n",
       "      <td>30</td>\n",
       "      <td>20</td>\n",
       "      <td>0.15</td>\n",
       "      <td>720.00</td>\n",
       "    </tr>\n",
       "    <tr>\n",
       "      <th>10444</th>\n",
       "      <th>2013-02-12</th>\n",
       "      <th>3</th>\n",
       "      <th>26</th>\n",
       "      <td>3.50</td>\n",
       "      <td>31.23</td>\n",
       "      <td>24.9</td>\n",
       "      <td>15</td>\n",
       "      <td>0</td>\n",
       "      <td>0.00</td>\n",
       "      <td>468.45</td>\n",
       "    </tr>\n",
       "    <tr>\n",
       "      <th>10762</th>\n",
       "      <th>2013-12-02</th>\n",
       "      <th>1</th>\n",
       "      <th>39</th>\n",
       "      <td>328.74</td>\n",
       "      <td>18.00</td>\n",
       "      <td>18.0</td>\n",
       "      <td>16</td>\n",
       "      <td>5</td>\n",
       "      <td>0.00</td>\n",
       "      <td>288.00</td>\n",
       "    </tr>\n",
       "  </tbody>\n",
       "</table>\n",
       "</div>"
      ],
      "text/plain": [
       "                                    Freight  ProductPrice  OrderPrice  \\\n",
       "Id    OrderDate  ShipVia ProductId                                      \n",
       "11001 2014-04-06 2       22          197.30         21.00        21.0   \n",
       "10291 2012-08-27 2       44            6.40         19.45        15.5   \n",
       "10890 2014-02-16 1       17           32.76         39.00        39.0   \n",
       "11023 2014-04-14 2       43          123.83         46.00        46.0   \n",
       "10256 2012-07-15 2       53           13.97         32.80        26.2   \n",
       "10389 2012-12-20 2       70           47.42         15.00        12.0   \n",
       "10478 2013-03-18 3       10            4.81         31.00        24.8   \n",
       "10902 2014-02-23 1       55           44.15         24.00        24.0   \n",
       "10444 2013-02-12 3       26            3.50         31.23        24.9   \n",
       "10762 2013-12-02 1       39          328.74         18.00        18.0   \n",
       "\n",
       "                                    Quantity  ReorderLevel  Discount  \\\n",
       "Id    OrderDate  ShipVia ProductId                                     \n",
       "11001 2014-04-06 2       22               25            25      0.00   \n",
       "10291 2012-08-27 2       44               24            15      0.10   \n",
       "10890 2014-02-16 1       17               15             0      0.00   \n",
       "11023 2014-04-14 2       43               30            25      0.00   \n",
       "10256 2012-07-15 2       53               15             0      0.00   \n",
       "10389 2012-12-20 2       70               30            30      0.00   \n",
       "10478 2013-03-18 3       10               20             0      0.05   \n",
       "10902 2014-02-23 1       55               30            20      0.15   \n",
       "10444 2013-02-12 3       26               15             0      0.00   \n",
       "10762 2013-12-02 1       39               16             5      0.00   \n",
       "\n",
       "                                    ProductSubtotal  \n",
       "Id    OrderDate  ShipVia ProductId                   \n",
       "11001 2014-04-06 2       22                  525.00  \n",
       "10291 2012-08-27 2       44                  466.80  \n",
       "10890 2014-02-16 1       17                  585.00  \n",
       "11023 2014-04-14 2       43                 1380.00  \n",
       "10256 2012-07-15 2       53                  492.00  \n",
       "10389 2012-12-20 2       70                  450.00  \n",
       "10478 2013-03-18 3       10                  620.00  \n",
       "10902 2014-02-23 1       55                  720.00  \n",
       "10444 2013-02-12 3       26                  468.45  \n",
       "10762 2013-12-02 1       39                  288.00  "
      ]
     },
     "execution_count": 30,
     "metadata": {},
     "output_type": "execute_result"
    }
   ],
   "source": [
    "sort1['ProductSubtotal'] = sort1['ProductPrice'] * sort1['Quantity']\n",
    "sort1.sample(10)"
   ]
  },
  {
   "cell_type": "code",
   "execution_count": 31,
   "metadata": {},
   "outputs": [
    {
     "data": {
      "text/html": [
       "<div>\n",
       "<style scoped>\n",
       "    .dataframe tbody tr th:only-of-type {\n",
       "        vertical-align: middle;\n",
       "    }\n",
       "\n",
       "    .dataframe tbody tr th {\n",
       "        vertical-align: top;\n",
       "    }\n",
       "\n",
       "    .dataframe thead th {\n",
       "        text-align: right;\n",
       "    }\n",
       "</style>\n",
       "<table border=\"1\" class=\"dataframe\">\n",
       "  <thead>\n",
       "    <tr style=\"text-align: right;\">\n",
       "      <th></th>\n",
       "      <th></th>\n",
       "      <th></th>\n",
       "      <th></th>\n",
       "      <th>Freight</th>\n",
       "      <th>ProductPrice</th>\n",
       "      <th>OrderPrice</th>\n",
       "      <th>Quantity</th>\n",
       "      <th>ReorderLevel</th>\n",
       "      <th>Discount</th>\n",
       "      <th>ProductSubtotal</th>\n",
       "      <th>OrderItemsPrice</th>\n",
       "    </tr>\n",
       "    <tr>\n",
       "      <th>Id</th>\n",
       "      <th>OrderDate</th>\n",
       "      <th>ShipVia</th>\n",
       "      <th>ProductId</th>\n",
       "      <th></th>\n",
       "      <th></th>\n",
       "      <th></th>\n",
       "      <th></th>\n",
       "      <th></th>\n",
       "      <th></th>\n",
       "      <th></th>\n",
       "      <th></th>\n",
       "    </tr>\n",
       "  </thead>\n",
       "  <tbody>\n",
       "    <tr>\n",
       "      <th>10790</th>\n",
       "      <th>2013-12-22</th>\n",
       "      <th>1</th>\n",
       "      <th>7</th>\n",
       "      <td>28.23</td>\n",
       "      <td>30.00</td>\n",
       "      <td>30.00</td>\n",
       "      <td>3</td>\n",
       "      <td>10</td>\n",
       "      <td>0.15</td>\n",
       "      <td>90.00</td>\n",
       "      <td>90.00</td>\n",
       "    </tr>\n",
       "    <tr>\n",
       "      <th>10607</th>\n",
       "      <th>2013-07-22</th>\n",
       "      <th>1</th>\n",
       "      <th>17</th>\n",
       "      <td>200.24</td>\n",
       "      <td>39.00</td>\n",
       "      <td>39.00</td>\n",
       "      <td>100</td>\n",
       "      <td>0</td>\n",
       "      <td>0.00</td>\n",
       "      <td>3900.00</td>\n",
       "      <td>3900.00</td>\n",
       "    </tr>\n",
       "    <tr>\n",
       "      <th>10936</th>\n",
       "      <th>2014-03-09</th>\n",
       "      <th>2</th>\n",
       "      <th>36</th>\n",
       "      <td>33.68</td>\n",
       "      <td>19.00</td>\n",
       "      <td>19.00</td>\n",
       "      <td>30</td>\n",
       "      <td>20</td>\n",
       "      <td>0.20</td>\n",
       "      <td>570.00</td>\n",
       "      <td>570.00</td>\n",
       "    </tr>\n",
       "    <tr>\n",
       "      <th>10373</th>\n",
       "      <th>2012-12-05</th>\n",
       "      <th>3</th>\n",
       "      <th>71</th>\n",
       "      <td>124.12</td>\n",
       "      <td>21.50</td>\n",
       "      <td>17.20</td>\n",
       "      <td>50</td>\n",
       "      <td>0</td>\n",
       "      <td>0.20</td>\n",
       "      <td>1075.00</td>\n",
       "      <td>860.00</td>\n",
       "    </tr>\n",
       "    <tr>\n",
       "      <th>10592</th>\n",
       "      <th>2013-07-08</th>\n",
       "      <th>1</th>\n",
       "      <th>15</th>\n",
       "      <td>32.10</td>\n",
       "      <td>15.50</td>\n",
       "      <td>15.50</td>\n",
       "      <td>25</td>\n",
       "      <td>5</td>\n",
       "      <td>0.05</td>\n",
       "      <td>387.50</td>\n",
       "      <td>387.50</td>\n",
       "    </tr>\n",
       "    <tr>\n",
       "      <th>10832</th>\n",
       "      <th>2014-01-14</th>\n",
       "      <th>2</th>\n",
       "      <th>64</th>\n",
       "      <td>43.26</td>\n",
       "      <td>33.25</td>\n",
       "      <td>33.25</td>\n",
       "      <td>3</td>\n",
       "      <td>30</td>\n",
       "      <td>0.00</td>\n",
       "      <td>99.75</td>\n",
       "      <td>99.75</td>\n",
       "    </tr>\n",
       "    <tr>\n",
       "      <th>10841</th>\n",
       "      <th>2014-01-20</th>\n",
       "      <th>2</th>\n",
       "      <th>77</th>\n",
       "      <td>424.30</td>\n",
       "      <td>13.00</td>\n",
       "      <td>13.00</td>\n",
       "      <td>15</td>\n",
       "      <td>15</td>\n",
       "      <td>0.00</td>\n",
       "      <td>195.00</td>\n",
       "      <td>195.00</td>\n",
       "    </tr>\n",
       "    <tr>\n",
       "      <th>10328</th>\n",
       "      <th>2012-10-14</th>\n",
       "      <th>3</th>\n",
       "      <th>59</th>\n",
       "      <td>87.03</td>\n",
       "      <td>55.00</td>\n",
       "      <td>44.00</td>\n",
       "      <td>9</td>\n",
       "      <td>0</td>\n",
       "      <td>0.00</td>\n",
       "      <td>495.00</td>\n",
       "      <td>396.00</td>\n",
       "    </tr>\n",
       "    <tr>\n",
       "      <th>10959</th>\n",
       "      <th>2014-03-18</th>\n",
       "      <th>2</th>\n",
       "      <th>75</th>\n",
       "      <td>4.98</td>\n",
       "      <td>7.75</td>\n",
       "      <td>7.75</td>\n",
       "      <td>20</td>\n",
       "      <td>25</td>\n",
       "      <td>0.15</td>\n",
       "      <td>155.00</td>\n",
       "      <td>155.00</td>\n",
       "    </tr>\n",
       "    <tr>\n",
       "      <th>10477</th>\n",
       "      <th>2013-03-17</th>\n",
       "      <th>2</th>\n",
       "      <th>21</th>\n",
       "      <td>13.02</td>\n",
       "      <td>10.00</td>\n",
       "      <td>8.00</td>\n",
       "      <td>21</td>\n",
       "      <td>5</td>\n",
       "      <td>0.25</td>\n",
       "      <td>210.00</td>\n",
       "      <td>168.00</td>\n",
       "    </tr>\n",
       "  </tbody>\n",
       "</table>\n",
       "</div>"
      ],
      "text/plain": [
       "                                    Freight  ProductPrice  OrderPrice  \\\n",
       "Id    OrderDate  ShipVia ProductId                                      \n",
       "10790 2013-12-22 1       7            28.23         30.00       30.00   \n",
       "10607 2013-07-22 1       17          200.24         39.00       39.00   \n",
       "10936 2014-03-09 2       36           33.68         19.00       19.00   \n",
       "10373 2012-12-05 3       71          124.12         21.50       17.20   \n",
       "10592 2013-07-08 1       15           32.10         15.50       15.50   \n",
       "10832 2014-01-14 2       64           43.26         33.25       33.25   \n",
       "10841 2014-01-20 2       77          424.30         13.00       13.00   \n",
       "10328 2012-10-14 3       59           87.03         55.00       44.00   \n",
       "10959 2014-03-18 2       75            4.98          7.75        7.75   \n",
       "10477 2013-03-17 2       21           13.02         10.00        8.00   \n",
       "\n",
       "                                    Quantity  ReorderLevel  Discount  \\\n",
       "Id    OrderDate  ShipVia ProductId                                     \n",
       "10790 2013-12-22 1       7                 3            10      0.15   \n",
       "10607 2013-07-22 1       17              100             0      0.00   \n",
       "10936 2014-03-09 2       36               30            20      0.20   \n",
       "10373 2012-12-05 3       71               50             0      0.20   \n",
       "10592 2013-07-08 1       15               25             5      0.05   \n",
       "10832 2014-01-14 2       64                3            30      0.00   \n",
       "10841 2014-01-20 2       77               15            15      0.00   \n",
       "10328 2012-10-14 3       59                9             0      0.00   \n",
       "10959 2014-03-18 2       75               20            25      0.15   \n",
       "10477 2013-03-17 2       21               21             5      0.25   \n",
       "\n",
       "                                    ProductSubtotal  OrderItemsPrice  \n",
       "Id    OrderDate  ShipVia ProductId                                    \n",
       "10790 2013-12-22 1       7                    90.00            90.00  \n",
       "10607 2013-07-22 1       17                 3900.00          3900.00  \n",
       "10936 2014-03-09 2       36                  570.00           570.00  \n",
       "10373 2012-12-05 3       71                 1075.00           860.00  \n",
       "10592 2013-07-08 1       15                  387.50           387.50  \n",
       "10832 2014-01-14 2       64                   99.75            99.75  \n",
       "10841 2014-01-20 2       77                  195.00           195.00  \n",
       "10328 2012-10-14 3       59                  495.00           396.00  \n",
       "10959 2014-03-18 2       75                  155.00           155.00  \n",
       "10477 2013-03-17 2       21                  210.00           168.00  "
      ]
     },
     "execution_count": 31,
     "metadata": {},
     "output_type": "execute_result"
    }
   ],
   "source": [
    "sort1['OrderItemsPrice'] = sort1['OrderPrice'] * sort1['Quantity']\n",
    "sort1.sample(10)"
   ]
  },
  {
   "cell_type": "code",
   "execution_count": 32,
   "metadata": {},
   "outputs": [
    {
     "data": {
      "text/html": [
       "<div>\n",
       "<style scoped>\n",
       "    .dataframe tbody tr th:only-of-type {\n",
       "        vertical-align: middle;\n",
       "    }\n",
       "\n",
       "    .dataframe tbody tr th {\n",
       "        vertical-align: top;\n",
       "    }\n",
       "\n",
       "    .dataframe thead th {\n",
       "        text-align: right;\n",
       "    }\n",
       "</style>\n",
       "<table border=\"1\" class=\"dataframe\">\n",
       "  <thead>\n",
       "    <tr style=\"text-align: right;\">\n",
       "      <th></th>\n",
       "      <th></th>\n",
       "      <th></th>\n",
       "      <th></th>\n",
       "      <th>Freight</th>\n",
       "      <th>ProductPrice</th>\n",
       "      <th>OrderPrice</th>\n",
       "      <th>Quantity</th>\n",
       "      <th>ReorderLevel</th>\n",
       "      <th>Discount</th>\n",
       "      <th>ProductSubtotal</th>\n",
       "      <th>OrderItemsPrice</th>\n",
       "      <th>Difference</th>\n",
       "    </tr>\n",
       "    <tr>\n",
       "      <th>Id</th>\n",
       "      <th>OrderDate</th>\n",
       "      <th>ShipVia</th>\n",
       "      <th>ProductId</th>\n",
       "      <th></th>\n",
       "      <th></th>\n",
       "      <th></th>\n",
       "      <th></th>\n",
       "      <th></th>\n",
       "      <th></th>\n",
       "      <th></th>\n",
       "      <th></th>\n",
       "      <th></th>\n",
       "    </tr>\n",
       "  </thead>\n",
       "  <tbody>\n",
       "    <tr>\n",
       "      <th>10262</th>\n",
       "      <th>2012-07-22</th>\n",
       "      <th>3</th>\n",
       "      <th>7</th>\n",
       "      <td>48.29</td>\n",
       "      <td>30.0</td>\n",
       "      <td>24.0</td>\n",
       "      <td>15</td>\n",
       "      <td>10</td>\n",
       "      <td>0.00</td>\n",
       "      <td>450.0</td>\n",
       "      <td>360.0</td>\n",
       "      <td>6.0</td>\n",
       "    </tr>\n",
       "    <tr>\n",
       "      <th>10354</th>\n",
       "      <th>2012-11-14</th>\n",
       "      <th>3</th>\n",
       "      <th>1</th>\n",
       "      <td>53.80</td>\n",
       "      <td>18.0</td>\n",
       "      <td>14.4</td>\n",
       "      <td>12</td>\n",
       "      <td>10</td>\n",
       "      <td>0.00</td>\n",
       "      <td>216.0</td>\n",
       "      <td>172.8</td>\n",
       "      <td>3.6</td>\n",
       "    </tr>\n",
       "    <tr>\n",
       "      <th>10504</th>\n",
       "      <th>2013-04-11</th>\n",
       "      <th>3</th>\n",
       "      <th>2</th>\n",
       "      <td>59.13</td>\n",
       "      <td>19.0</td>\n",
       "      <td>19.0</td>\n",
       "      <td>12</td>\n",
       "      <td>25</td>\n",
       "      <td>0.00</td>\n",
       "      <td>228.0</td>\n",
       "      <td>228.0</td>\n",
       "      <td>0.0</td>\n",
       "    </tr>\n",
       "    <tr>\n",
       "      <th>10719</th>\n",
       "      <th>2013-10-27</th>\n",
       "      <th>2</th>\n",
       "      <th>18</th>\n",
       "      <td>51.44</td>\n",
       "      <td>62.5</td>\n",
       "      <td>62.5</td>\n",
       "      <td>12</td>\n",
       "      <td>0</td>\n",
       "      <td>0.25</td>\n",
       "      <td>750.0</td>\n",
       "      <td>750.0</td>\n",
       "      <td>0.0</td>\n",
       "    </tr>\n",
       "    <tr>\n",
       "      <th>10583</th>\n",
       "      <th>2013-06-30</th>\n",
       "      <th>2</th>\n",
       "      <th>60</th>\n",
       "      <td>7.28</td>\n",
       "      <td>34.0</td>\n",
       "      <td>34.0</td>\n",
       "      <td>24</td>\n",
       "      <td>0</td>\n",
       "      <td>0.15</td>\n",
       "      <td>816.0</td>\n",
       "      <td>816.0</td>\n",
       "      <td>0.0</td>\n",
       "    </tr>\n",
       "    <tr>\n",
       "      <th>10700</th>\n",
       "      <th>2013-10-10</th>\n",
       "      <th>1</th>\n",
       "      <th>34</th>\n",
       "      <td>65.10</td>\n",
       "      <td>14.0</td>\n",
       "      <td>14.0</td>\n",
       "      <td>12</td>\n",
       "      <td>15</td>\n",
       "      <td>0.20</td>\n",
       "      <td>168.0</td>\n",
       "      <td>168.0</td>\n",
       "      <td>0.0</td>\n",
       "    </tr>\n",
       "    <tr>\n",
       "      <th>10863</th>\n",
       "      <th>2014-02-02</th>\n",
       "      <th>2</th>\n",
       "      <th>1</th>\n",
       "      <td>30.26</td>\n",
       "      <td>18.0</td>\n",
       "      <td>18.0</td>\n",
       "      <td>20</td>\n",
       "      <td>10</td>\n",
       "      <td>0.15</td>\n",
       "      <td>360.0</td>\n",
       "      <td>360.0</td>\n",
       "      <td>0.0</td>\n",
       "    </tr>\n",
       "    <tr>\n",
       "      <th>10932</th>\n",
       "      <th>2014-03-06</th>\n",
       "      <th>1</th>\n",
       "      <th>72</th>\n",
       "      <td>134.64</td>\n",
       "      <td>34.8</td>\n",
       "      <td>34.8</td>\n",
       "      <td>16</td>\n",
       "      <td>0</td>\n",
       "      <td>0.00</td>\n",
       "      <td>556.8</td>\n",
       "      <td>556.8</td>\n",
       "      <td>0.0</td>\n",
       "    </tr>\n",
       "    <tr>\n",
       "      <th>11054</th>\n",
       "      <th>2014-04-28</th>\n",
       "      <th>1</th>\n",
       "      <th>33</th>\n",
       "      <td>0.33</td>\n",
       "      <td>2.5</td>\n",
       "      <td>2.5</td>\n",
       "      <td>10</td>\n",
       "      <td>20</td>\n",
       "      <td>0.00</td>\n",
       "      <td>25.0</td>\n",
       "      <td>25.0</td>\n",
       "      <td>0.0</td>\n",
       "    </tr>\n",
       "    <tr>\n",
       "      <th>11031</th>\n",
       "      <th>2014-04-17</th>\n",
       "      <th>2</th>\n",
       "      <th>24</th>\n",
       "      <td>227.22</td>\n",
       "      <td>4.5</td>\n",
       "      <td>4.5</td>\n",
       "      <td>21</td>\n",
       "      <td>0</td>\n",
       "      <td>0.00</td>\n",
       "      <td>94.5</td>\n",
       "      <td>94.5</td>\n",
       "      <td>0.0</td>\n",
       "    </tr>\n",
       "  </tbody>\n",
       "</table>\n",
       "</div>"
      ],
      "text/plain": [
       "                                    Freight  ProductPrice  OrderPrice  \\\n",
       "Id    OrderDate  ShipVia ProductId                                      \n",
       "10262 2012-07-22 3       7            48.29          30.0        24.0   \n",
       "10354 2012-11-14 3       1            53.80          18.0        14.4   \n",
       "10504 2013-04-11 3       2            59.13          19.0        19.0   \n",
       "10719 2013-10-27 2       18           51.44          62.5        62.5   \n",
       "10583 2013-06-30 2       60            7.28          34.0        34.0   \n",
       "10700 2013-10-10 1       34           65.10          14.0        14.0   \n",
       "10863 2014-02-02 2       1            30.26          18.0        18.0   \n",
       "10932 2014-03-06 1       72          134.64          34.8        34.8   \n",
       "11054 2014-04-28 1       33            0.33           2.5         2.5   \n",
       "11031 2014-04-17 2       24          227.22           4.5         4.5   \n",
       "\n",
       "                                    Quantity  ReorderLevel  Discount  \\\n",
       "Id    OrderDate  ShipVia ProductId                                     \n",
       "10262 2012-07-22 3       7                15            10      0.00   \n",
       "10354 2012-11-14 3       1                12            10      0.00   \n",
       "10504 2013-04-11 3       2                12            25      0.00   \n",
       "10719 2013-10-27 2       18               12             0      0.25   \n",
       "10583 2013-06-30 2       60               24             0      0.15   \n",
       "10700 2013-10-10 1       34               12            15      0.20   \n",
       "10863 2014-02-02 2       1                20            10      0.15   \n",
       "10932 2014-03-06 1       72               16             0      0.00   \n",
       "11054 2014-04-28 1       33               10            20      0.00   \n",
       "11031 2014-04-17 2       24               21             0      0.00   \n",
       "\n",
       "                                    ProductSubtotal  OrderItemsPrice  \\\n",
       "Id    OrderDate  ShipVia ProductId                                     \n",
       "10262 2012-07-22 3       7                    450.0            360.0   \n",
       "10354 2012-11-14 3       1                    216.0            172.8   \n",
       "10504 2013-04-11 3       2                    228.0            228.0   \n",
       "10719 2013-10-27 2       18                   750.0            750.0   \n",
       "10583 2013-06-30 2       60                   816.0            816.0   \n",
       "10700 2013-10-10 1       34                   168.0            168.0   \n",
       "10863 2014-02-02 2       1                    360.0            360.0   \n",
       "10932 2014-03-06 1       72                   556.8            556.8   \n",
       "11054 2014-04-28 1       33                    25.0             25.0   \n",
       "11031 2014-04-17 2       24                    94.5             94.5   \n",
       "\n",
       "                                    Difference  \n",
       "Id    OrderDate  ShipVia ProductId              \n",
       "10262 2012-07-22 3       7                 6.0  \n",
       "10354 2012-11-14 3       1                 3.6  \n",
       "10504 2013-04-11 3       2                 0.0  \n",
       "10719 2013-10-27 2       18                0.0  \n",
       "10583 2013-06-30 2       60                0.0  \n",
       "10700 2013-10-10 1       34                0.0  \n",
       "10863 2014-02-02 2       1                 0.0  \n",
       "10932 2014-03-06 1       72                0.0  \n",
       "11054 2014-04-28 1       33                0.0  \n",
       "11031 2014-04-17 2       24                0.0  "
      ]
     },
     "execution_count": 32,
     "metadata": {},
     "output_type": "execute_result"
    }
   ],
   "source": [
    "sort1['Difference'] = sort1['ProductPrice'] - sort1['OrderPrice']\n",
    "sort1.sample(10)"
   ]
  },
  {
   "cell_type": "code",
   "execution_count": 33,
   "metadata": {},
   "outputs": [
    {
     "data": {
      "text/plain": [
       "2087"
      ]
     },
     "execution_count": 33,
     "metadata": {},
     "output_type": "execute_result"
    }
   ],
   "source": [
    "len(sort1['Difference'])"
   ]
  },
  {
   "cell_type": "code",
   "execution_count": 34,
   "metadata": {},
   "outputs": [
    {
     "data": {
      "text/plain": [
       "638"
      ]
     },
     "execution_count": 34,
     "metadata": {},
     "output_type": "execute_result"
    }
   ],
   "source": [
    "sum(sort1['Difference'] != 0)"
   ]
  },
  {
   "cell_type": "markdown",
   "metadata": {},
   "source": [
    "# Explore Data\n",
    "\n",
    "For a quick preview of what we have to work with, we'll use the describe method."
   ]
  },
  {
   "cell_type": "code",
   "execution_count": 37,
   "metadata": {},
   "outputs": [
    {
     "data": {
      "text/html": [
       "<div>\n",
       "<style scoped>\n",
       "    .dataframe tbody tr th:only-of-type {\n",
       "        vertical-align: middle;\n",
       "    }\n",
       "\n",
       "    .dataframe tbody tr th {\n",
       "        vertical-align: top;\n",
       "    }\n",
       "\n",
       "    .dataframe thead th {\n",
       "        text-align: right;\n",
       "    }\n",
       "</style>\n",
       "<table border=\"1\" class=\"dataframe\">\n",
       "  <thead>\n",
       "    <tr style=\"text-align: right;\">\n",
       "      <th></th>\n",
       "      <th>Freight</th>\n",
       "      <th>ProductPrice</th>\n",
       "      <th>OrderPrice</th>\n",
       "      <th>Quantity</th>\n",
       "      <th>ReorderLevel</th>\n",
       "      <th>Discount</th>\n",
       "      <th>ProductSubtotal</th>\n",
       "      <th>OrderItemsPrice</th>\n",
       "      <th>Difference</th>\n",
       "    </tr>\n",
       "  </thead>\n",
       "  <tbody>\n",
       "    <tr>\n",
       "      <th>count</th>\n",
       "      <td>2050.000000</td>\n",
       "      <td>2050.000000</td>\n",
       "      <td>2050.000000</td>\n",
       "      <td>2050.000000</td>\n",
       "      <td>2050.000000</td>\n",
       "      <td>2050.00000</td>\n",
       "      <td>2050.000000</td>\n",
       "      <td>2050.000000</td>\n",
       "      <td>2050.000000</td>\n",
       "    </tr>\n",
       "    <tr>\n",
       "      <th>mean</th>\n",
       "      <td>92.484517</td>\n",
       "      <td>25.715054</td>\n",
       "      <td>24.309390</td>\n",
       "      <td>23.696585</td>\n",
       "      <td>11.839024</td>\n",
       "      <td>0.05602</td>\n",
       "      <td>587.576034</td>\n",
       "      <td>552.128873</td>\n",
       "      <td>1.405663</td>\n",
       "    </tr>\n",
       "    <tr>\n",
       "      <th>std</th>\n",
       "      <td>125.486610</td>\n",
       "      <td>23.725623</td>\n",
       "      <td>23.510391</td>\n",
       "      <td>18.876073</td>\n",
       "      <td>10.618199</td>\n",
       "      <td>0.08322</td>\n",
       "      <td>664.987193</td>\n",
       "      <td>635.145555</td>\n",
       "      <td>2.644466</td>\n",
       "    </tr>\n",
       "    <tr>\n",
       "      <th>min</th>\n",
       "      <td>0.020000</td>\n",
       "      <td>2.500000</td>\n",
       "      <td>2.000000</td>\n",
       "      <td>1.000000</td>\n",
       "      <td>0.000000</td>\n",
       "      <td>0.00000</td>\n",
       "      <td>6.000000</td>\n",
       "      <td>4.800000</td>\n",
       "      <td>0.000000</td>\n",
       "    </tr>\n",
       "    <tr>\n",
       "      <th>25%</th>\n",
       "      <td>18.690000</td>\n",
       "      <td>12.500000</td>\n",
       "      <td>12.000000</td>\n",
       "      <td>10.000000</td>\n",
       "      <td>0.000000</td>\n",
       "      <td>0.00000</td>\n",
       "      <td>164.400000</td>\n",
       "      <td>152.000000</td>\n",
       "      <td>0.000000</td>\n",
       "    </tr>\n",
       "    <tr>\n",
       "      <th>50%</th>\n",
       "      <td>53.050000</td>\n",
       "      <td>19.000000</td>\n",
       "      <td>18.400000</td>\n",
       "      <td>20.000000</td>\n",
       "      <td>10.000000</td>\n",
       "      <td>0.00000</td>\n",
       "      <td>376.500000</td>\n",
       "      <td>360.000000</td>\n",
       "      <td>0.000000</td>\n",
       "    </tr>\n",
       "    <tr>\n",
       "      <th>75%</th>\n",
       "      <td>116.430000</td>\n",
       "      <td>34.000000</td>\n",
       "      <td>31.230000</td>\n",
       "      <td>30.000000</td>\n",
       "      <td>20.000000</td>\n",
       "      <td>0.10000</td>\n",
       "      <td>756.000000</td>\n",
       "      <td>710.375000</td>\n",
       "      <td>1.950000</td>\n",
       "    </tr>\n",
       "    <tr>\n",
       "      <th>max</th>\n",
       "      <td>1007.640000</td>\n",
       "      <td>263.500000</td>\n",
       "      <td>263.500000</td>\n",
       "      <td>130.000000</td>\n",
       "      <td>30.000000</td>\n",
       "      <td>0.25000</td>\n",
       "      <td>5500.000000</td>\n",
       "      <td>5500.000000</td>\n",
       "      <td>12.500000</td>\n",
       "    </tr>\n",
       "  </tbody>\n",
       "</table>\n",
       "</div>"
      ],
      "text/plain": [
       "           Freight  ProductPrice   OrderPrice     Quantity  ReorderLevel  \\\n",
       "count  2050.000000   2050.000000  2050.000000  2050.000000   2050.000000   \n",
       "mean     92.484517     25.715054    24.309390    23.696585     11.839024   \n",
       "std     125.486610     23.725623    23.510391    18.876073     10.618199   \n",
       "min       0.020000      2.500000     2.000000     1.000000      0.000000   \n",
       "25%      18.690000     12.500000    12.000000    10.000000      0.000000   \n",
       "50%      53.050000     19.000000    18.400000    20.000000     10.000000   \n",
       "75%     116.430000     34.000000    31.230000    30.000000     20.000000   \n",
       "max    1007.640000    263.500000   263.500000   130.000000     30.000000   \n",
       "\n",
       "         Discount  ProductSubtotal  OrderItemsPrice   Difference  \n",
       "count  2050.00000      2050.000000      2050.000000  2050.000000  \n",
       "mean      0.05602       587.576034       552.128873     1.405663  \n",
       "std       0.08322       664.987193       635.145555     2.644466  \n",
       "min       0.00000         6.000000         4.800000     0.000000  \n",
       "25%       0.00000       164.400000       152.000000     0.000000  \n",
       "50%       0.00000       376.500000       360.000000     0.000000  \n",
       "75%       0.10000       756.000000       710.375000     1.950000  \n",
       "max       0.25000      5500.000000      5500.000000    12.500000  "
      ]
     },
     "execution_count": 37,
     "metadata": {},
     "output_type": "execute_result"
    }
   ],
   "source": [
    "# describe data\n",
    "no_outliers.describe()"
   ]
  },
  {
   "cell_type": "markdown",
   "metadata": {},
   "source": [
    "So far, the best looking data is quantity. However, our target information is Item Total.\n",
    "\n",
    "### Visualize data"
   ]
  },
  {
   "cell_type": "code",
   "execution_count": 38,
   "metadata": {},
   "outputs": [
    {
     "data": {
      "image/png": "[encoded data removed]",
      "text/plain": [
       "<Figure size 720x720 with 9 Axes>"
      ]
     },
     "metadata": {
      "needs_background": "light"
     },
     "output_type": "display_data"
    }
   ],
   "source": [
    "# visualize data\n",
    "no_outliers.hist(figsize=(10,10));"
   ]
  },
  {
   "cell_type": "markdown",
   "metadata": {},
   "source": [
    "This data looks like it needs a log transformation to be predictable. Alternatively, a non-parametric test could be used on the original data."
   ]
  },
  {
   "cell_type": "markdown",
   "metadata": {},
   "source": [
    "### Log Transformation"
   ]
  },
  {
   "cell_type": "code",
   "execution_count": 39,
   "metadata": {
    "scrolled": true
   },
   "outputs": [],
   "source": [
    "# # sort data\n",
    "log_orderItemsPrice = no_outliers['OrderItemsPrice'].map(lambda x: np.log(x))\n",
    "log_productSubtotal = no_outliers['ProductSubtotal'].map(lambda x: np.log(x))\n",
    "\n",
    "no_outliers['OrderItemsPrice'] = log_orderItemsPrice\n",
    "no_outliers['ProductSubtotal'] = log_productSubtotal"
   ]
  },
  {
   "cell_type": "markdown",
   "metadata": {},
   "source": [
    "Observations about sorted data"
   ]
  },
  {
   "cell_type": "markdown",
   "metadata": {},
   "source": [
    "# Model Data\n",
    "Below is the model after scrubbing and exploring have been managed, let's see what the model picks up."
   ]
  },
  {
   "cell_type": "markdown",
   "metadata": {},
   "source": [
    "### Data normality"
   ]
  },
  {
   "cell_type": "code",
   "execution_count": 40,
   "metadata": {},
   "outputs": [
    {
     "data": {
      "image/png": "[encoded data removed]",
      "text/plain": [
       "<Figure size 720x720 with 9 Axes>"
      ]
     },
     "metadata": {
      "needs_background": "light"
     },
     "output_type": "display_data"
    }
   ],
   "source": [
    "# visual/code for data normality\n",
    "no_outliers.hist(figsize=(10,10));"
   ]
  },
  {
   "cell_type": "markdown",
   "metadata": {},
   "source": [
    "### Standard deviation"
   ]
  },
  {
   "cell_type": "code",
   "execution_count": 41,
   "metadata": {},
   "outputs": [
    {
     "name": "stdout",
     "output_type": "stream",
     "text": [
      "ProductSubtotal\n",
      "mean: 5.824025790457207\n",
      "standard deviation: 1.1273701424031115\n",
      "OrderDetailSubtotal\n",
      "mean: 5.756912273608869\n",
      "standard deviation: 1.1291870504369397\n"
     ]
    }
   ],
   "source": [
    "# standard deviation for target variable\n",
    "print('ProductSubtotal')\n",
    "print('mean: ' + str(mean(no_outliers['ProductSubtotal'])))\n",
    "print('standard deviation: ' + str(std(no_outliers['ProductSubtotal'])))\n",
    "\n",
    "print('OrderDetailSubtotal')\n",
    "print('mean: ' + str(mean(no_outliers['OrderItemsPrice'])))\n",
    "print('standard deviation: ' + str(std(no_outliers['OrderItemsPrice'])))"
   ]
  },
  {
   "cell_type": "markdown",
   "metadata": {},
   "source": [
    "Definately use non-parametric testing"
   ]
  },
  {
   "cell_type": "markdown",
   "metadata": {},
   "source": [
    "### Basic testing"
   ]
  },
  {
   "cell_type": "code",
   "execution_count": 42,
   "metadata": {},
   "outputs": [],
   "source": [
    "# set up variables for this particular test\n",
    "product = no_outliers['ProductSubtotal']\n",
    "orderDetail = no_outliers['OrderItemsPrice']\n",
    "alpha = 0.05"
   ]
  },
  {
   "cell_type": "code",
   "execution_count": 43,
   "metadata": {},
   "outputs": [
    {
     "data": {
      "text/plain": [
       "Ttest_relResult(statistic=29.59716647892667, pvalue=1.3721240988859291e-160)"
      ]
     },
     "execution_count": 43,
     "metadata": {},
     "output_type": "execute_result"
    }
   ],
   "source": [
    "# test\n",
    "stats.ttest_rel(product, orderDetail)"
   ]
  },
  {
   "cell_type": "code",
   "execution_count": 44,
   "metadata": {},
   "outputs": [],
   "source": [
    "# result\n",
    "p_value = 4.825700370439923 * 10**-171"
   ]
  },
  {
   "cell_type": "code",
   "execution_count": 45,
   "metadata": {},
   "outputs": [
    {
     "name": "stdout",
     "output_type": "stream",
     "text": [
      "Reject the null hypothesis\n"
     ]
    }
   ],
   "source": [
    "# evaluation of result\n",
    "if alpha > p_value:\n",
    "    print('Reject the null hypothesis')\n",
    "else:\n",
    "    print('Fail to reject the null hypothesis')"
   ]
  },
  {
   "cell_type": "markdown",
   "metadata": {},
   "source": [
    "Preliminarily, we can reject the null hypothesis in favor of the idea that unit price from the Product table and unit price from the OrderDetail table are different. That can mean one of two things, either the Product table unit price includes the discount, or that the product mark up is effective. Let's verify these results.\n",
    "\n",
    "Summarize results and determine next steps. Might include verification of sample size, error types, non-parametric testing, or a deepening of understanding\n",
    "\n",
    "### Verification techniques\n",
    "#### Non-parametric testing\n",
    "\n",
    "##### H0: the distributions of both samples are equal.\n",
    "##### H1: the distributions of both samples are not equal."
   ]
  },
  {
   "cell_type": "code",
   "execution_count": 46,
   "metadata": {},
   "outputs": [
    {
     "data": {
      "text/plain": [
       "WilcoxonResult(statistic=0.0, pvalue=1.9746463031754043e-109)"
      ]
     },
     "execution_count": 46,
     "metadata": {},
     "output_type": "execute_result"
    }
   ],
   "source": [
    "# non-parametric testing variables are the same as the testing above\n",
    "# non-parametric test\n",
    "stats.wilcoxon(product, orderDetail)"
   ]
  },
  {
   "cell_type": "code",
   "execution_count": 47,
   "metadata": {},
   "outputs": [],
   "source": [
    "# result\n",
    "p_value = 3.4779637831744666 * 10**-116"
   ]
  },
  {
   "cell_type": "code",
   "execution_count": 48,
   "metadata": {},
   "outputs": [
    {
     "name": "stdout",
     "output_type": "stream",
     "text": [
      "Reject the null hypothesis\n"
     ]
    }
   ],
   "source": [
    "# evaluation of results\n",
    "if alpha > p_value:\n",
    "    print('Reject the null hypothesis')\n",
    "else:\n",
    "    print('Fail to reject the null hypothesis')"
   ]
  },
  {
   "cell_type": "markdown",
   "metadata": {},
   "source": [
    "This rejection is even more confident.\n",
    "\n",
    "#### Effect size"
   ]
  },
  {
   "cell_type": "code",
   "execution_count": 49,
   "metadata": {},
   "outputs": [],
   "source": [
    "# effect size variables\n",
    "pass"
   ]
  },
  {
   "cell_type": "code",
   "execution_count": 50,
   "metadata": {},
   "outputs": [
    {
     "data": {
      "text/plain": [
       "0.05946857820814"
      ]
     },
     "execution_count": 50,
     "metadata": {},
     "output_type": "execute_result"
    }
   ],
   "source": [
    "# effect size test\n",
    "def cohen_d_two_samp(x,y):\n",
    "    nx = len(x)\n",
    "    ny = len(y)\n",
    "    dof = nx + ny - 2\n",
    "    return (mean(x) - mean(y)) / sqrt(((nx-1)*std(x, ddof=1) ** 2 + (ny-1)*std(y, ddof=1) ** 2) / dof)\n",
    "effect_size = cohen_d_two_samp(product, orderDetail)\n",
    "effect_size"
   ]
  },
  {
   "cell_type": "markdown",
   "metadata": {},
   "source": [
    "This effect size is miniscual. There is very little effect of the product unit price on the order detail unit price.\n",
    "\n",
    "#### Power and error"
   ]
  },
  {
   "cell_type": "code",
   "execution_count": 51,
   "metadata": {},
   "outputs": [],
   "source": [
    "# power variables\n",
    "effect_size, nobs1, alpha = effect_size, product.shape[0], alpha"
   ]
  },
  {
   "cell_type": "code",
   "execution_count": 52,
   "metadata": {},
   "outputs": [
    {
     "data": {
      "text/plain": [
       "0.4775329382033766"
      ]
     },
     "execution_count": 52,
     "metadata": {},
     "output_type": "execute_result"
    }
   ],
   "source": [
    "# power test\n",
    "power = tt_ind_solve_power(effect_size=effect_size, nobs1=nobs1, alpha=alpha)\n",
    "power"
   ]
  },
  {
   "cell_type": "code",
   "execution_count": 53,
   "metadata": {},
   "outputs": [],
   "source": [
    "# power result\n",
    "p_value = ''"
   ]
  },
  {
   "cell_type": "code",
   "execution_count": 54,
   "metadata": {},
   "outputs": [
    {
     "data": {
      "text/plain": [
       "0.5224670617966234"
      ]
     },
     "execution_count": 54,
     "metadata": {},
     "output_type": "execute_result"
    }
   ],
   "source": [
    "# evaluation of power test\n",
    "type_2_error = 1 - power\n",
    "type_2_error"
   ]
  },
  {
   "cell_type": "markdown",
   "metadata": {},
   "source": [
    "There is a high chance (around 50%) that we have rejected the null hypothesis in error. It might be wise to expand testing."
   ]
  },
  {
   "cell_type": "markdown",
   "metadata": {},
   "source": [
    "### Cross validatation"
   ]
  },
  {
   "cell_type": "code",
   "execution_count": 55,
   "metadata": {},
   "outputs": [],
   "source": [
    "# test train split for testing preformed above\n",
    "pass"
   ]
  },
  {
   "cell_type": "markdown",
   "metadata": {},
   "source": [
    "### Extension of acquired knowledge\n",
    "#### Deeper question\n",
    "#### Hypothesis for deeper question"
   ]
  },
  {
   "cell_type": "code",
   "execution_count": 56,
   "metadata": {},
   "outputs": [],
   "source": [
    "# deeper understanding variables\n",
    "pass"
   ]
  },
  {
   "cell_type": "code",
   "execution_count": 57,
   "metadata": {},
   "outputs": [
    {
     "data": {
      "text/plain": [
       "[2,\n",
       " 2,\n",
       " 2,\n",
       " 2,\n",
       " 2,\n",
       " 2,\n",
       " 2,\n",
       " 2,\n",
       " 2,\n",
       " 2,\n",
       " 2,\n",
       " 2,\n",
       " 2,\n",
       " 2,\n",
       " 2,\n",
       " 2,\n",
       " 2,\n",
       " 2,\n",
       " 2,\n",
       " 2,\n",
       " 2,\n",
       " 2,\n",
       " 2,\n",
       " 2,\n",
       " 2,\n",
       " 2,\n",
       " 2,\n",
       " 2,\n",
       " 2,\n",
       " 2,\n",
       " 2,\n",
       " 2,\n",
       " 2,\n",
       " 2,\n",
       " 2,\n",
       " 2,\n",
       " 2,\n",
       " 2,\n",
       " 2,\n",
       " 2,\n",
       " 2,\n",
       " 2,\n",
       " 2,\n",
       " 2,\n",
       " 2,\n",
       " 2,\n",
       " 2,\n",
       " 2,\n",
       " 2,\n",
       " 2,\n",
       " 2,\n",
       " 2,\n",
       " 2,\n",
       " 2,\n",
       " 2,\n",
       " 2,\n",
       " 2,\n",
       " 2,\n",
       " 2,\n",
       " 2,\n",
       " 2,\n",
       " 2,\n",
       " 2,\n",
       " 2,\n",
       " 2,\n",
       " 2,\n",
       " 2,\n",
       " 2,\n",
       " 2,\n",
       " 2,\n",
       " 2,\n",
       " 2,\n",
       " 2,\n",
       " 2,\n",
       " 2]"
      ]
     },
     "execution_count": 57,
     "metadata": {},
     "output_type": "execute_result"
    }
   ],
   "source": [
    "#unique product ids\n",
    "unique_product_ids = df_drop.ProductId.unique()\n",
    "unique_product_ids\n",
    "\n",
    "count_unique_product_prices = [len(sort1[sort1.index.get_level_values(3) == x]['OrderPrice'].unique()) for x in unique_product_ids]\n",
    "count_unique_product_prices"
   ]
  },
  {
   "cell_type": "code",
   "execution_count": 58,
   "metadata": {},
   "outputs": [
    {
     "data": {
      "text/plain": [
       "ProductId\n",
       "1     18.00\n",
       "2     19.00\n",
       "3     10.00\n",
       "4     22.00\n",
       "5     21.35\n",
       "      ...  \n",
       "73    15.00\n",
       "74    10.00\n",
       "75     7.75\n",
       "76    18.00\n",
       "77    13.00\n",
       "Name: ProductPrice, Length: 75, dtype: float64"
      ]
     },
     "execution_count": 58,
     "metadata": {},
     "output_type": "execute_result"
    }
   ],
   "source": [
    "product_prices = df_drop[['ProductId', 'ProductPrice']].sort_values('ProductId').groupby('ProductId').mean().ProductPrice\n",
    "product_prices"
   ]
  },
  {
   "cell_type": "code",
   "execution_count": 59,
   "metadata": {},
   "outputs": [
    {
     "data": {
      "text/plain": [
       "ProductId\n",
       "1     17.147368\n",
       "2     17.877273\n",
       "3      9.500000\n",
       "4     20.680000\n",
       "5     19.610000\n",
       "        ...    \n",
       "73    14.357143\n",
       "74     8.769231\n",
       "75     7.379348\n",
       "76    16.984615\n",
       "77    12.110526\n",
       "Name: OrderPrice, Length: 75, dtype: float64"
      ]
     },
     "execution_count": 59,
     "metadata": {},
     "output_type": "execute_result"
    }
   ],
   "source": [
    "order_prices = df_drop[['ProductId', 'OrderPrice']].sort_values('ProductId').groupby('ProductId').mean().OrderPrice\n",
    "order_prices"
   ]
  },
  {
   "cell_type": "code",
   "execution_count": 60,
   "metadata": {},
   "outputs": [
    {
     "data": {
      "text/plain": [
       "Ttest_relResult(statistic=6.882288190488461, pvalue=1.6279818776113184e-09)"
      ]
     },
     "execution_count": 60,
     "metadata": {},
     "output_type": "execute_result"
    }
   ],
   "source": [
    "# deeper understanding test\n",
    "stats.ttest_rel(product_prices, order_prices)"
   ]
  },
  {
   "cell_type": "code",
   "execution_count": 61,
   "metadata": {},
   "outputs": [],
   "source": [
    "# deeper understanding result\n",
    "p_value = 1.6279818776113184*10**-9"
   ]
  },
  {
   "cell_type": "code",
   "execution_count": 62,
   "metadata": {},
   "outputs": [
    {
     "name": "stdout",
     "output_type": "stream",
     "text": [
      "Reject the null hypothesis\n"
     ]
    }
   ],
   "source": [
    "# deeper understanding evaluation of result\n",
    "if alpha > p_value:\n",
    "    print('Reject the null hypothesis')\n",
    "else:\n",
    "    print('Fail to reject the null hypothesis')"
   ]
  },
  {
   "cell_type": "markdown",
   "metadata": {},
   "source": [
    "Observations based off of deeper understanding test"
   ]
  },
  {
   "cell_type": "markdown",
   "metadata": {},
   "source": [
    "# Interpret\n",
    "\n",
    "Conclusions about question overall commentary on hypothesis"
   ]
  },
  {
   "cell_type": "markdown",
   "metadata": {},
   "source": [
    "### Additional visualizations"
   ]
  },
  {
   "cell_type": "code",
   "execution_count": 63,
   "metadata": {},
   "outputs": [
    {
     "data": {
      "text/plain": [
       "array([11, 42, 72, 14, 51, 41, 65, 22, 57, 20, 33, 60, 31, 39, 49, 24, 55,\n",
       "       74,  2, 16, 36, 59, 53, 77, 27,  5, 32, 21, 37, 62, 70, 35,  7, 56,\n",
       "       30, 17, 12, 40, 76, 29, 43, 10, 71, 13, 28, 44, 63, 73, 75, 19, 15,\n",
       "       67,  1, 34, 46, 54, 68,  3, 64, 18, 69, 66,  4,  6, 58, 52, 25, 38,\n",
       "       26, 47, 23,  8, 50, 45, 48, 61,  9], dtype=int64)"
      ]
     },
     "execution_count": 63,
     "metadata": {},
     "output_type": "execute_result"
    }
   ],
   "source": [
    "# visual for blah blah blah\n",
    "df['ProductId'].unique()"
   ]
  },
  {
   "cell_type": "code",
   "execution_count": 64,
   "metadata": {},
   "outputs": [
    {
     "data": {
      "image/png": "[encoded data removed]",
      "text/plain": [
       "<Figure size 432x288 with 1 Axes>"
      ]
     },
     "metadata": {
      "needs_background": "light"
     },
     "output_type": "display_data"
    },
    {
     "data": {
      "image/png": "[encoded data removed]",
      "text/plain": [
       "<Figure size 432x288 with 1 Axes>"
      ]
     },
     "metadata": {
      "needs_background": "light"
     },
     "output_type": "display_data"
    },
    {
     "data": {
      "image/png": "[encoded data removed]",
      "text/plain": [
       "<Figure size 432x288 with 1 Axes>"
      ]
     },
     "metadata": {
      "needs_background": "light"
     },
     "output_type": "display_data"
    },
    {
     "data": {
      "image/png": "[encoded data removed]",
      "text/plain": [
       "<Figure size 432x288 with 1 Axes>"
      ]
     },
     "metadata": {
      "needs_background": "light"
     },
     "output_type": "display_data"
    },
    {
     "data": {
      "image/png": "[encoded data removed]",
      "text/plain": [
       "<Figure size 432x288 with 1 Axes>"
      ]
     },
     "metadata": {
      "needs_background": "light"
     },
     "output_type": "display_data"
    },
    {
     "data": {
      "image/png": "[encoded data removed]",
      "text/plain": [
       "<Figure size 432x288 with 1 Axes>"
      ]
     },
     "metadata": {
      "needs_background": "light"
     },
     "output_type": "display_data"
    },
    {
     "data": {
      "image/png": "[encoded data removed]",
      "text/plain": [
       "<Figure size 432x288 with 1 Axes>"
      ]
     },
     "metadata": {
      "needs_background": "light"
     },
     "output_type": "display_data"
    },
    {
     "data": {
      "image/png": "[encoded data removed]",
      "text/plain": [
       "<Figure size 432x288 with 1 Axes>"
      ]
     },
     "metadata": {
      "needs_background": "light"
     },
     "output_type": "display_data"
    },
    {
     "data": {
      "image/png": "[encoded data removed]",
      "text/plain": [
       "<Figure size 432x288 with 1 Axes>"
      ]
     },
     "metadata": {
      "needs_background": "light"
     },
     "output_type": "display_data"
    },
    {
     "data": {
      "image/png": "[encoded data removed]",
      "text/plain": [
       "<Figure size 432x288 with 1 Axes>"
      ]
     },
     "metadata": {
      "needs_background": "light"
     },
     "output_type": "display_data"
    },
    {
     "data": {
      "image/png": "[encoded data removed]",
      "text/plain": [
       "<Figure size 432x288 with 1 Axes>"
      ]
     },
     "metadata": {
      "needs_background": "light"
     },
     "output_type": "display_data"
    },
    {
     "data": {
      "image/png": "[encoded data removed]",
      "text/plain": [
       "<Figure size 432x288 with 1 Axes>"
      ]
     },
     "metadata": {
      "needs_background": "light"
     },
     "output_type": "display_data"
    },
    {
     "data": {
      "image/png": "[encoded data removed]",
      "text/plain": [
       "<Figure size 432x288 with 1 Axes>"
      ]
     },
     "metadata": {
      "needs_background": "light"
     },
     "output_type": "display_data"
    },
    {
     "data": {
      "image/png": "[encoded data removed]",
      "text/plain": [
       "<Figure size 432x288 with 1 Axes>"
      ]
     },
     "metadata": {
      "needs_background": "light"
     },
     "output_type": "display_data"
    },
    {
     "data": {
      "image/png": "[encoded data removed]",
      "text/plain": [
       "<Figure size 432x288 with 1 Axes>"
      ]
     },
     "metadata": {
      "needs_background": "light"
     },
     "output_type": "display_data"
    },
    {
     "data": {
      "image/png": "[encoded data removed]",
      "text/plain": [
       "<Figure size 432x288 with 1 Axes>"
      ]
     },
     "metadata": {
      "needs_background": "light"
     },
     "output_type": "display_data"
    },
    {
     "data": {
      "image/png": "[encoded data removed]",
      "text/plain": [
       "<Figure size 432x288 with 1 Axes>"
      ]
     },
     "metadata": {
      "needs_background": "light"
     },
     "output_type": "display_data"
    },
    {
     "data": {
      "image/png": "[encoded data removed]",
      "text/plain": [
       "<Figure size 432x288 with 1 Axes>"
      ]
     },
     "metadata": {
      "needs_background": "light"
     },
     "output_type": "display_data"
    },
    {
     "data": {
      "image/png": "[encoded data removed]",
      "text/plain": [
       "<Figure size 432x288 with 1 Axes>"
      ]
     },
     "metadata": {
      "needs_background": "light"
     },
     "output_type": "display_data"
    },
    {
     "data": {
      "image/png": "[encoded data removed]",
      "text/plain": [
       "<Figure size 432x288 with 1 Axes>"
      ]
     },
     "metadata": {
      "needs_background": "light"
     },
     "output_type": "display_data"
    },
    {
     "data": {
      "image/png": "[encoded data removed]",
      "text/plain": [
       "<Figure size 432x288 with 1 Axes>"
      ]
     },
     "metadata": {
      "needs_background": "light"
     },
     "output_type": "display_data"
    },
    {
     "data": {
      "image/png": "[encoded data removed]",
      "text/plain": [
       "<Figure size 432x288 with 1 Axes>"
      ]
     },
     "metadata": {
      "needs_background": "light"
     },
     "output_type": "display_data"
    },
    {
     "data": {
      "image/png": "[encoded data removed]",
      "text/plain": [
       "<Figure size 432x288 with 1 Axes>"
      ]
     },
     "metadata": {
      "needs_background": "light"
     },
     "output_type": "display_data"
    },
    {
     "data": {
      "image/png": "[encoded data removed]",
      "text/plain": [
       "<Figure size 432x288 with 1 Axes>"
      ]
     },
     "metadata": {
      "needs_background": "light"
     },
     "output_type": "display_data"
    },
    {
     "data": {
      "image/png": "[encoded data removed]",
      "text/plain": [
       "<Figure size 432x288 with 1 Axes>"
      ]
     },
     "metadata": {
      "needs_background": "light"
     },
     "output_type": "display_data"
    },
    {
     "data": {
      "image/png": "[encoded data removed]",
      "text/plain": [
       "<Figure size 432x288 with 1 Axes>"
      ]
     },
     "metadata": {
      "needs_background": "light"
     },
     "output_type": "display_data"
    },
    {
     "data": {
      "image/png": "[encoded data removed]",
      "text/plain": [
       "<Figure size 432x288 with 1 Axes>"
      ]
     },
     "metadata": {
      "needs_background": "light"
     },
     "output_type": "display_data"
    },
    {
     "data": {
      "image/png": "[encoded data removed]",
      "text/plain": [
       "<Figure size 432x288 with 1 Axes>"
      ]
     },
     "metadata": {
      "needs_background": "light"
     },
     "output_type": "display_data"
    },
    {
     "data": {
      "image/png": "[encoded data removed]",
      "text/plain": [
       "<Figure size 432x288 with 1 Axes>"
      ]
     },
     "metadata": {
      "needs_background": "light"
     },
     "output_type": "display_data"
    },
    {
     "data": {
      "image/png": "[encoded data removed]",
      "text/plain": [
       "<Figure size 432x288 with 1 Axes>"
      ]
     },
     "metadata": {
      "needs_background": "light"
     },
     "output_type": "display_data"
    },
    {
     "data": {
      "image/png": "[encoded data removed]",
      "text/plain": [
       "<Figure size 432x288 with 1 Axes>"
      ]
     },
     "metadata": {
      "needs_background": "light"
     },
     "output_type": "display_data"
    },
    {
     "data": {
      "image/png": "[encoded data removed]",
      "text/plain": [
       "<Figure size 432x288 with 1 Axes>"
      ]
     },
     "metadata": {
      "needs_background": "light"
     },
     "output_type": "display_data"
    },
    {
     "data": {
      "image/png": "[encoded data removed]",
      "text/plain": [
       "<Figure size 432x288 with 1 Axes>"
      ]
     },
     "metadata": {
      "needs_background": "light"
     },
     "output_type": "display_data"
    },
    {
     "data": {
      "image/png": "[encoded data removed]",
      "text/plain": [
       "<Figure size 432x288 with 1 Axes>"
      ]
     },
     "metadata": {
      "needs_background": "light"
     },
     "output_type": "display_data"
    },
    {
     "data": {
      "image/png": "[encoded data removed]",
      "text/plain": [
       "<Figure size 432x288 with 1 Axes>"
      ]
     },
     "metadata": {
      "needs_background": "light"
     },
     "output_type": "display_data"
    },
    {
     "data": {
      "image/png": "[encoded data removed]",
      "text/plain": [
       "<Figure size 432x288 with 1 Axes>"
      ]
     },
     "metadata": {
      "needs_background": "light"
     },
     "output_type": "display_data"
    },
    {
     "data": {
      "image/png": "[encoded data removed]",
      "text/plain": [
       "<Figure size 432x288 with 1 Axes>"
      ]
     },
     "metadata": {
      "needs_background": "light"
     },
     "output_type": "display_data"
    },
    {
     "data": {
      "image/png": "[encoded data removed]",
      "text/plain": [
       "<Figure size 432x288 with 1 Axes>"
      ]
     },
     "metadata": {
      "needs_background": "light"
     },
     "output_type": "display_data"
    },
    {
     "data": {
      "image/png": "[encoded data removed]",
      "text/plain": [
       "<Figure size 432x288 with 1 Axes>"
      ]
     },
     "metadata": {
      "needs_background": "light"
     },
     "output_type": "display_data"
    },
    {
     "data": {
      "image/png": "[encoded data removed]",
      "text/plain": [
       "<Figure size 432x288 with 1 Axes>"
      ]
     },
     "metadata": {
      "needs_background": "light"
     },
     "output_type": "display_data"
    },
    {
     "data": {
      "image/png": "[encoded data removed]",
      "text/plain": [
       "<Figure size 432x288 with 1 Axes>"
      ]
     },
     "metadata": {
      "needs_background": "light"
     },
     "output_type": "display_data"
    },
    {
     "data": {
      "image/png": "[encoded data removed]",
      "text/plain": [
       "<Figure size 432x288 with 1 Axes>"
      ]
     },
     "metadata": {
      "needs_background": "light"
     },
     "output_type": "display_data"
    },
    {
     "data": {
      "image/png": "[encoded data removed]",
      "text/plain": [
       "<Figure size 432x288 with 1 Axes>"
      ]
     },
     "metadata": {
      "needs_background": "light"
     },
     "output_type": "display_data"
    },
    {
     "data": {
      "image/png": "[encoded data removed]",
      "text/plain": [
       "<Figure size 432x288 with 1 Axes>"
      ]
     },
     "metadata": {
      "needs_background": "light"
     },
     "output_type": "display_data"
    },
    {
     "data": {
      "image/png": "[encoded data removed]",
      "text/plain": [
       "<Figure size 432x288 with 1 Axes>"
      ]
     },
     "metadata": {
      "needs_background": "light"
     },
     "output_type": "display_data"
    },
    {
     "data": {
      "image/png": "[encoded data removed]",
      "text/plain": [
       "<Figure size 432x288 with 1 Axes>"
      ]
     },
     "metadata": {
      "needs_background": "light"
     },
     "output_type": "display_data"
    },
    {
     "data": {
      "image/png": "[encoded data removed]",
      "text/plain": [
       "<Figure size 432x288 with 1 Axes>"
      ]
     },
     "metadata": {
      "needs_background": "light"
     },
     "output_type": "display_data"
    },
    {
     "data": {
      "image/png": "[encoded data removed]",
      "text/plain": [
       "<Figure size 432x288 with 1 Axes>"
      ]
     },
     "metadata": {
      "needs_background": "light"
     },
     "output_type": "display_data"
    },
    {
     "data": {
      "image/png": "[encoded data removed]",
      "text/plain": [
       "<Figure size 432x288 with 1 Axes>"
      ]
     },
     "metadata": {
      "needs_background": "light"
     },
     "output_type": "display_data"
    },
    {
     "data": {
      "image/png": "[encoded data removed]",
      "text/plain": [
       "<Figure size 432x288 with 1 Axes>"
      ]
     },
     "metadata": {
      "needs_background": "light"
     },
     "output_type": "display_data"
    },
    {
     "data": {
      "image/png": "[encoded data removed]",
      "text/plain": [
       "<Figure size 432x288 with 1 Axes>"
      ]
     },
     "metadata": {
      "needs_background": "light"
     },
     "output_type": "display_data"
    },
    {
     "data": {
      "image/png": "[encoded data removed]",
      "text/plain": [
       "<Figure size 432x288 with 1 Axes>"
      ]
     },
     "metadata": {
      "needs_background": "light"
     },
     "output_type": "display_data"
    },
    {
     "data": {
      "image/png": "[encoded data removed]",
      "text/plain": [
       "<Figure size 432x288 with 1 Axes>"
      ]
     },
     "metadata": {
      "needs_background": "light"
     },
     "output_type": "display_data"
    },
    {
     "data": {
      "image/png": "[encoded data removed]",
      "text/plain": [
       "<Figure size 432x288 with 1 Axes>"
      ]
     },
     "metadata": {
      "needs_background": "light"
     },
     "output_type": "display_data"
    },
    {
     "data": {
      "image/png": "[encoded data removed]",
      "text/plain": [
       "<Figure size 432x288 with 1 Axes>"
      ]
     },
     "metadata": {
      "needs_background": "light"
     },
     "output_type": "display_data"
    },
    {
     "data": {
      "image/png": "[encoded data removed]",
      "text/plain": [
       "<Figure size 432x288 with 1 Axes>"
      ]
     },
     "metadata": {
      "needs_background": "light"
     },
     "output_type": "display_data"
    },
    {
     "data": {
      "image/png": "[encoded data removed]",
      "text/plain": [
       "<Figure size 432x288 with 1 Axes>"
      ]
     },
     "metadata": {
      "needs_background": "light"
     },
     "output_type": "display_data"
    },
    {
     "data": {
      "image/png": "[encoded data removed]",
      "text/plain": [
       "<Figure size 432x288 with 1 Axes>"
      ]
     },
     "metadata": {
      "needs_background": "light"
     },
     "output_type": "display_data"
    },
    {
     "data": {
      "image/png": "[encoded data removed]",
      "text/plain": [
       "<Figure size 432x288 with 1 Axes>"
      ]
     },
     "metadata": {
      "needs_background": "light"
     },
     "output_type": "display_data"
    },
    {
     "data": {
      "image/png": "[encoded data removed]",
      "text/plain": [
       "<Figure size 432x288 with 1 Axes>"
      ]
     },
     "metadata": {
      "needs_background": "light"
     },
     "output_type": "display_data"
    },
    {
     "data": {
      "image/png": "[encoded data removed]",
      "text/plain": [
       "<Figure size 432x288 with 1 Axes>"
      ]
     },
     "metadata": {
      "needs_background": "light"
     },
     "output_type": "display_data"
    },
    {
     "data": {
      "image/png": "[encoded data removed]",
      "text/plain": [
       "<Figure size 432x288 with 1 Axes>"
      ]
     },
     "metadata": {
      "needs_background": "light"
     },
     "output_type": "display_data"
    },
    {
     "data": {
      "image/png": "[encoded data removed]",
      "text/plain": [
       "<Figure size 432x288 with 1 Axes>"
      ]
     },
     "metadata": {
      "needs_background": "light"
     },
     "output_type": "display_data"
    },
    {
     "data": {
      "image/png": "[encoded data removed]",
      "text/plain": [
       "<Figure size 432x288 with 1 Axes>"
      ]
     },
     "metadata": {
      "needs_background": "light"
     },
     "output_type": "display_data"
    },
    {
     "data": {
      "image/png": "[encoded data removed]",
      "text/plain": [
       "<Figure size 432x288 with 1 Axes>"
      ]
     },
     "metadata": {
      "needs_background": "light"
     },
     "output_type": "display_data"
    },
    {
     "data": {
      "image/png": "[encoded data removed]",
      "text/plain": [
       "<Figure size 432x288 with 1 Axes>"
      ]
     },
     "metadata": {
      "needs_background": "light"
     },
     "output_type": "display_data"
    },
    {
     "data": {
      "image/png": "[encoded data removed]",
      "text/plain": [
       "<Figure size 432x288 with 1 Axes>"
      ]
     },
     "metadata": {
      "needs_background": "light"
     },
     "output_type": "display_data"
    },
    {
     "data": {
      "image/png": "[encoded data removed]",
      "text/plain": [
       "<Figure size 432x288 with 1 Axes>"
      ]
     },
     "metadata": {
      "needs_background": "light"
     },
     "output_type": "display_data"
    },
    {
     "data": {
      "image/png": "[encoded data removed]",
      "text/plain": [
       "<Figure size 432x288 with 1 Axes>"
      ]
     },
     "metadata": {
      "needs_background": "light"
     },
     "output_type": "display_data"
    },
    {
     "data": {
      "image/png": "[encoded data removed]",
      "text/plain": [
       "<Figure size 432x288 with 1 Axes>"
      ]
     },
     "metadata": {
      "needs_background": "light"
     },
     "output_type": "display_data"
    },
    {
     "data": {
      "image/png": "[encoded data removed]",
      "text/plain": [
       "<Figure size 432x288 with 1 Axes>"
      ]
     },
     "metadata": {
      "needs_background": "light"
     },
     "output_type": "display_data"
    },
    {
     "data": {
      "image/png": "[encoded data removed]",
      "text/plain": [
       "<Figure size 432x288 with 1 Axes>"
      ]
     },
     "metadata": {
      "needs_background": "light"
     },
     "output_type": "display_data"
    },
    {
     "data": {
      "image/png": "[encoded data removed]",
      "text/plain": [
       "<Figure size 432x288 with 1 Axes>"
      ]
     },
     "metadata": {
      "needs_background": "light"
     },
     "output_type": "display_data"
    },
    {
     "data": {
      "image/png": "[encoded data removed]",
      "text/plain": [
       "<Figure size 432x288 with 1 Axes>"
      ]
     },
     "metadata": {
      "needs_background": "light"
     },
     "output_type": "display_data"
    },
    {
     "data": {
      "image/png": "[encoded data removed]",
      "text/plain": [
       "<Figure size 432x288 with 1 Axes>"
      ]
     },
     "metadata": {
      "needs_background": "light"
     },
     "output_type": "display_data"
    }
   ],
   "source": [
    "for i in df_drop['ProductId'].unique():\n",
    "    plt.plot(df_drop[df_drop['ProductId']==i]['OrderDate'], df_drop[df_drop['ProductId']==i]['OrderPrice'])\n",
    "    plt.show()"
   ]
  },
  {
   "cell_type": "code",
   "execution_count": 66,
   "metadata": {},
   "outputs": [
    {
     "data": {
      "image/png": "[encoded data removed]",
      "text/plain": [
       "<Figure size 432x288 with 1 Axes>"
      ]
     },
     "metadata": {
      "needs_background": "light"
     },
     "output_type": "display_data"
    }
   ],
   "source": [
    "for i in df_drop.OrderDate.unique():\n",
    "    plt.hist(df_drop['OrderPrice'])"
   ]
  },
  {
   "cell_type": "code",
   "execution_count": 67,
   "metadata": {},
   "outputs": [
    {
     "data": {
      "image/png": "[encoded data removed]",
      "text/plain": [
       "<Figure size 432x288 with 1 Axes>"
      ]
     },
     "metadata": {
      "needs_background": "light"
     },
     "output_type": "display_data"
    }
   ],
   "source": [
    "sns.distplot(no_outliers[no_outliers['Difference'] != 0]['Difference']);"
   ]
  },
  {
   "cell_type": "markdown",
   "metadata": {},
   "source": [
    "### Tools for use of discovered information"
   ]
  },
  {
   "cell_type": "code",
   "execution_count": 68,
   "metadata": {},
   "outputs": [],
   "source": [
    "# function or equation used to test developed theories\n",
    "pass"
   ]
  },
  {
   "cell_type": "markdown",
   "metadata": {},
   "source": [
    "# Future Work"
   ]
  },
  {
   "cell_type": "markdown",
   "metadata": {},
   "source": [
    "Determine the best seasonality for a price change"
   ]
  },
  {
   "cell_type": "markdown",
   "metadata": {},
   "source": [
    "# Resources"
   ]
  },
  {
   "cell_type": "markdown",
   "metadata": {},
   "source": [
    "MultiIndexing Data\n",
    "http://zaxrosenberg.com/pandas-multiindex-tutorial/\n",
    "https://www.youtube.com/watch?v=kP-0ET0V5Tc"
   ]
  }
 ],
 "metadata": {
  "kernelspec": {
   "display_name": "learn-env",
   "language": "python",
   "name": "learn-env"
  },
  "language_info": {
   "codemirror_mode": {
    "name": "ipython",
    "version": 3
   },
   "file_extension": ".py",
   "mimetype": "text/x-python",
   "name": "python",
   "nbconvert_exporter": "python",
   "pygments_lexer": "ipython3",
   "version": "3.6.9"
  }
 },
 "nbformat": 4,
 "nbformat_minor": 2
}
