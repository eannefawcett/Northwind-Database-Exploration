{
 "cells": [
  {
   "cell_type": "markdown",
   "metadata": {},
   "source": [
    "<img src='images/Northwind_ERD_updated.png.'>"
   ]
  },
  {
   "cell_type": "markdown",
   "metadata": {},
   "source": [
    "<a href='#2.0-Initial-Question'>**2.0 Initial Question**</a>\n",
    "\n",
    "<a href='#2.1-Initial-Hypothesis'>**2.1 Initial Hypothesis**</a>\n",
    "- <a href='#2.1.1-Null-Hypothesis'>2.1.1 Null Hypothesis</a>\n",
    "- <a href='#2.1.2-Alternative-Hypothesis'>2.1.2 Alternative Hypothesis</a>\n",
    "- <a href='#2.1.3-Features'>2.1.3 Features</a>\n",
    "- <a href='#2.1.4-Target-Variable'>2.1.4 Target Variable</a>\n",
    "\n",
    "<a href='#2.2-Methodology'>**2.2 Methodology**</a>\n",
    "- <a href='#2.2.1-Obtain-Data'>2.2.1 Obtain Data</a>\n",
    "- <a href='#2.2.2-Scrub-Data'>2.2.2 Scrub Data</a>\n",
    "    - <a href='#2.2.2.1-Manage-n/a-data-types'>2.2.2.1 Manage n/a data types</a>\n",
    "    - <a href='#2.2.2.2-Remove-duplicate-data'>2.2.2.2 Remove duplicate data</a>\n",
    "    - <a href='#2.2.2.3-Manage-data-types'>2.2.2.3 Manage data types</a>\n",
    "    - <a href='#2.2.2.4-Remove-outliers'>2.2.2.4 Remove outliers</a>\n",
    "- <a href='#2.2.3-Explore-Data'>2.2.3 Explore Data</a>\n",
    "    - <a href='#2.2.3.1-Visualize-data'>2.2.3.1 Visualize data</a>\n",
    "    - <a href='#2.2.3.2-Transform-data'>2.2.3.2 Transform data</a>\n",
    "    - <a href='#2.2.3.3-Sort-data-/-Prepare-data-for-testing'>2.2.3.3 Sort data / Prepare data for testing</a>\n",
    "    - <a href='#2.2.3.4-Develop-feature'>2.2.3.4 Develop Feature</a>\n",
    "- <a href='#2.2.4-Model-Data'>2.2.4 Model Data</a>\n",
    "    - <a href='#2.2.4.1-Check-for-data-normality'>2.2.4.1 Check for data normality</a>\n",
    "    - <a href='#2.2.4.2-Standard-deviation-and-other-basic-statistics'>2.2.4.2 Standard deviation and other basic statistics</a>\n",
    "    - <a href='#2.2.4.3-Statistical-test'>2.2.4.3 Statistical test</a>\n",
    "    - <a href='#2.2.4.4-Verification-techniques'>2.2.4.4 Verification techniques</a>\n",
    "        - <a href='#2.2.4.4.1-Nonparametric-testing-and-confirmatory-testing'>2.2.4.4.1 Nonparametric testing</a>\n",
    "        - <a href='#2.2.4.4.2-Effect-size'>2.2.4.4.2 Effect size</a>\n",
    "        - <a href='#2.2.4.4.3-Error'>2.2.4.4.3 Error</a>\n",
    "- <a href='#2.2.5-Interpret-Model'>2.2.5 Interpret Model</a>\n",
    "    - <a href='#2.2.5.1-Extension-of-acquired-knowledge'>2.2.5.1 Extension of acquired knowledge</a>\n",
    "    \n",
    "<a href='#2.3-Results'>**2.3 Results**</a>\n",
    "\n",
    "<a href='#2.4-Conclusions'>**2.4 Conclusions**</a>\n",
    "\n",
    "- <a href='#2.4.1-Actionable-Items-and-Insights'>2.4.1 Actionable Items and Insights</a>\n",
    "- <a href='#2.4.2-Additional-Visuals'>2.4.2 Additional Visuals</a>\n",
    "\n",
    "<a href='#2.5-Future-Work'>**2.5 Future Work**</a>\n",
    "\n",
    "<a href='#2.6-References'>**2.6 References**</a>"
   ]
  },
  {
   "cell_type": "markdown",
   "metadata": {},
   "source": [
    "# 2.0 Initial Question<a id='Initial Question'></a>"
   ]
  },
  {
   "cell_type": "markdown",
   "metadata": {},
   "source": [
    "### Does reorder and shipping company affect customer spending on an order? Which shipping company is best for what level of reorder?"
   ]
  },
  {
   "cell_type": "markdown",
   "metadata": {},
   "source": [
    "# 2.1 Initial Hypothesis<a id='Initial Hypothesis'></a>"
   ]
  },
  {
   "cell_type": "markdown",
   "metadata": {},
   "source": [
    "### 2.1.1 Null Hypothesis<a id='Null Hypothesis'></a>"
   ]
  },
  {
   "cell_type": "markdown",
   "metadata": {},
   "source": [
    "H0: no effect - there is no change to spending based on reorder or frieght costs"
   ]
  },
  {
   "cell_type": "markdown",
   "metadata": {},
   "source": [
    "### 2.1.2 Alternative Hypothesis<a id='Alternative Hypothesis'></a>"
   ]
  },
  {
   "cell_type": "markdown",
   "metadata": {},
   "source": [
    "HA: there is an effect - there is a change to spending based on reorder or frieght costs"
   ]
  },
  {
   "cell_type": "markdown",
   "metadata": {},
   "source": [
    "### 2.1.3 Features<a id='Features'></a>"
   ]
  },
  {
   "cell_type": "markdown",
   "metadata": {},
   "source": [
    ": spending"
   ]
  },
  {
   "cell_type": "markdown",
   "metadata": {},
   "source": [
    "### 2.1.4 Target Variable<a id='Target Variable'></a>"
   ]
  },
  {
   "cell_type": "markdown",
   "metadata": {},
   "source": [
    ": reorder/frieght"
   ]
  },
  {
   "cell_type": "markdown",
   "metadata": {},
   "source": [
    "# 2.2 Methodology<a id='Methodology'></a>\n",
    "\n",
    "To evaluate, I have chosen to use the following steps:\n",
    "- 2.2.1 Obtain Data\n",
    "- 2.2.2 Scrub Data\n",
    "- 2.2.3 Explore Data\n",
    "- 2.2.4 Model Data\n",
    "- 2.2.5 Interpret Model\n",
    "\n",
    "I have found that the OSEMN method explains the data science process, and gives context to exploring data."
   ]
  },
  {
   "cell_type": "markdown",
   "metadata": {},
   "source": [
    "## 2.2.1 Obtain Data<a id='Obtain Data'></a>"
   ]
  },
  {
   "cell_type": "code",
   "execution_count": 1,
   "metadata": {},
   "outputs": [],
   "source": [
    "# develop class\n",
    "pass"
   ]
  },
  {
   "cell_type": "code",
   "execution_count": 2,
   "metadata": {},
   "outputs": [],
   "source": [
    "# import py file\n",
    "from classes import Pvalue"
   ]
  },
  {
   "cell_type": "code",
   "execution_count": 3,
   "metadata": {},
   "outputs": [],
   "source": [
    "# import libraries\n",
    "import pandas as pd\n",
    "import sqlite3\n",
    "\n",
    "import numpy as np\n",
    "from numpy import std, mean, sqrt\n",
    "import scipy.stats as stats\n",
    "from scipy.stats import wilcoxon\n",
    "from scipy.stats import chisquare\n",
    "from statsmodels.stats.power import tt_ind_solve_power\n",
    "import statsmodels.api as sm\n",
    "from statsmodels.formula.api import ols\n",
    "from statsmodels.stats.multicomp import pairwise_tukeyhsd\n",
    "\n",
    "import matplotlib.pyplot as plt\n",
    "%matplotlib inline\n",
    "# plt.style.use('Solarize_Light2')\n",
    "import seaborn as sns\n",
    "\n",
    "idx = pd.IndexSlice"
   ]
  },
  {
   "cell_type": "code",
   "execution_count": 4,
   "metadata": {},
   "outputs": [
    {
     "data": {
      "text/html": [
       "<div>\n",
       "<style scoped>\n",
       "    .dataframe tbody tr th:only-of-type {\n",
       "        vertical-align: middle;\n",
       "    }\n",
       "\n",
       "    .dataframe tbody tr th {\n",
       "        vertical-align: top;\n",
       "    }\n",
       "\n",
       "    .dataframe thead th {\n",
       "        text-align: right;\n",
       "    }\n",
       "</style>\n",
       "<table border=\"1\" class=\"dataframe\">\n",
       "  <thead>\n",
       "    <tr style=\"text-align: right;\">\n",
       "      <th></th>\n",
       "      <th>Id</th>\n",
       "      <th>OrderDate</th>\n",
       "      <th>Freight</th>\n",
       "      <th>ReorderLevel</th>\n",
       "      <th>ItemTotal</th>\n",
       "      <th>ProductId</th>\n",
       "      <th>Discount</th>\n",
       "      <th>CompanyName</th>\n",
       "    </tr>\n",
       "  </thead>\n",
       "  <tbody>\n",
       "    <tr>\n",
       "      <th>0</th>\n",
       "      <td>10248</td>\n",
       "      <td>2012-07-04</td>\n",
       "      <td>32.38</td>\n",
       "      <td>30</td>\n",
       "      <td>252.00</td>\n",
       "      <td>11</td>\n",
       "      <td>0.0</td>\n",
       "      <td>Federal Shipping</td>\n",
       "    </tr>\n",
       "    <tr>\n",
       "      <th>1</th>\n",
       "      <td>10248</td>\n",
       "      <td>2012-07-04</td>\n",
       "      <td>32.38</td>\n",
       "      <td>0</td>\n",
       "      <td>140.00</td>\n",
       "      <td>42</td>\n",
       "      <td>0.0</td>\n",
       "      <td>Federal Shipping</td>\n",
       "    </tr>\n",
       "    <tr>\n",
       "      <th>2</th>\n",
       "      <td>10248</td>\n",
       "      <td>2012-07-04</td>\n",
       "      <td>32.38</td>\n",
       "      <td>0</td>\n",
       "      <td>174.00</td>\n",
       "      <td>72</td>\n",
       "      <td>0.0</td>\n",
       "      <td>Federal Shipping</td>\n",
       "    </tr>\n",
       "    <tr>\n",
       "      <th>3</th>\n",
       "      <td>10249</td>\n",
       "      <td>2012-07-05</td>\n",
       "      <td>11.61</td>\n",
       "      <td>0</td>\n",
       "      <td>209.25</td>\n",
       "      <td>14</td>\n",
       "      <td>0.0</td>\n",
       "      <td>Speedy Express</td>\n",
       "    </tr>\n",
       "    <tr>\n",
       "      <th>4</th>\n",
       "      <td>10249</td>\n",
       "      <td>2012-07-05</td>\n",
       "      <td>11.61</td>\n",
       "      <td>10</td>\n",
       "      <td>2120.00</td>\n",
       "      <td>51</td>\n",
       "      <td>0.0</td>\n",
       "      <td>Speedy Express</td>\n",
       "    </tr>\n",
       "  </tbody>\n",
       "</table>\n",
       "</div>"
      ],
      "text/plain": [
       "      Id   OrderDate  Freight  ReorderLevel  ItemTotal  ProductId  Discount  \\\n",
       "0  10248  2012-07-04    32.38            30     252.00         11       0.0   \n",
       "1  10248  2012-07-04    32.38             0     140.00         42       0.0   \n",
       "2  10248  2012-07-04    32.38             0     174.00         72       0.0   \n",
       "3  10249  2012-07-05    11.61             0     209.25         14       0.0   \n",
       "4  10249  2012-07-05    11.61            10    2120.00         51       0.0   \n",
       "\n",
       "        CompanyName  \n",
       "0  Federal Shipping  \n",
       "1  Federal Shipping  \n",
       "2  Federal Shipping  \n",
       "3    Speedy Express  \n",
       "4    Speedy Express  "
      ]
     },
     "execution_count": 4,
     "metadata": {},
     "output_type": "execute_result"
    }
   ],
   "source": [
    "# import data\n",
    "conn = sqlite3.Connection('Northwind_small.sqlite')\n",
    "cur = conn.cursor()\n",
    "\n",
    "# All data\n",
    "cur.execute(\"\"\"SELECT 'Order'.Id, OrderDate, Freight, ReorderLevel, Product.UnitPrice*Quantity as ItemTotal, OrderDetail.ProductId, OrderDetail.Discount, Shipper.CompanyName\n",
    "               FROM OrderDetail\n",
    "               LEFT JOIN 'Order' ON OrderDetail.OrderID = 'Order'.Id\n",
    "               JOIN Product ON OrderDetail.ProductId = Product.Id\n",
    "               JOIN Shipper ON 'Order'.ShipVia = Shipper.Id\n",
    "               ;\"\"\")\n",
    "df = pd.DataFrame(cur.fetchall())\n",
    "df.columns = [x[0] for x in cur.description]\n",
    "df.head()"
   ]
  },
  {
   "cell_type": "code",
   "execution_count": 5,
   "metadata": {},
   "outputs": [
    {
     "data": {
      "text/html": [
       "<div>\n",
       "<style scoped>\n",
       "    .dataframe tbody tr th:only-of-type {\n",
       "        vertical-align: middle;\n",
       "    }\n",
       "\n",
       "    .dataframe tbody tr th {\n",
       "        vertical-align: top;\n",
       "    }\n",
       "\n",
       "    .dataframe thead th {\n",
       "        text-align: right;\n",
       "    }\n",
       "</style>\n",
       "<table border=\"1\" class=\"dataframe\">\n",
       "  <thead>\n",
       "    <tr style=\"text-align: right;\">\n",
       "      <th></th>\n",
       "      <th></th>\n",
       "      <th></th>\n",
       "      <th></th>\n",
       "      <th>OrderDate</th>\n",
       "      <th>Freight</th>\n",
       "      <th>ItemTotal</th>\n",
       "      <th>Discount</th>\n",
       "    </tr>\n",
       "    <tr>\n",
       "      <th>Id</th>\n",
       "      <th>ProductId</th>\n",
       "      <th>ReorderLevel</th>\n",
       "      <th>CompanyName</th>\n",
       "      <th></th>\n",
       "      <th></th>\n",
       "      <th></th>\n",
       "      <th></th>\n",
       "    </tr>\n",
       "  </thead>\n",
       "  <tbody>\n",
       "    <tr>\n",
       "      <th rowspan=\"3\" valign=\"top\">10248</th>\n",
       "      <th>11</th>\n",
       "      <th>30</th>\n",
       "      <th>Federal Shipping</th>\n",
       "      <td>2012-07-04</td>\n",
       "      <td>32.38</td>\n",
       "      <td>252.00</td>\n",
       "      <td>0.0</td>\n",
       "    </tr>\n",
       "    <tr>\n",
       "      <th>42</th>\n",
       "      <th>0</th>\n",
       "      <th>Federal Shipping</th>\n",
       "      <td>2012-07-04</td>\n",
       "      <td>32.38</td>\n",
       "      <td>140.00</td>\n",
       "      <td>0.0</td>\n",
       "    </tr>\n",
       "    <tr>\n",
       "      <th>72</th>\n",
       "      <th>0</th>\n",
       "      <th>Federal Shipping</th>\n",
       "      <td>2012-07-04</td>\n",
       "      <td>32.38</td>\n",
       "      <td>174.00</td>\n",
       "      <td>0.0</td>\n",
       "    </tr>\n",
       "    <tr>\n",
       "      <th rowspan=\"2\" valign=\"top\">10249</th>\n",
       "      <th>14</th>\n",
       "      <th>0</th>\n",
       "      <th>Speedy Express</th>\n",
       "      <td>2012-07-05</td>\n",
       "      <td>11.61</td>\n",
       "      <td>209.25</td>\n",
       "      <td>0.0</td>\n",
       "    </tr>\n",
       "    <tr>\n",
       "      <th>51</th>\n",
       "      <th>10</th>\n",
       "      <th>Speedy Express</th>\n",
       "      <td>2012-07-05</td>\n",
       "      <td>11.61</td>\n",
       "      <td>2120.00</td>\n",
       "      <td>0.0</td>\n",
       "    </tr>\n",
       "  </tbody>\n",
       "</table>\n",
       "</div>"
      ],
      "text/plain": [
       "                                                OrderDate  Freight  ItemTotal  \\\n",
       "Id    ProductId ReorderLevel CompanyName                                        \n",
       "10248 11        30           Federal Shipping  2012-07-04    32.38     252.00   \n",
       "      42        0            Federal Shipping  2012-07-04    32.38     140.00   \n",
       "      72        0            Federal Shipping  2012-07-04    32.38     174.00   \n",
       "10249 14        0            Speedy Express    2012-07-05    11.61     209.25   \n",
       "      51        10           Speedy Express    2012-07-05    11.61    2120.00   \n",
       "\n",
       "                                               Discount  \n",
       "Id    ProductId ReorderLevel CompanyName                 \n",
       "10248 11        30           Federal Shipping       0.0  \n",
       "      42        0            Federal Shipping       0.0  \n",
       "      72        0            Federal Shipping       0.0  \n",
       "10249 14        0            Speedy Express         0.0  \n",
       "      51        10           Speedy Express         0.0  "
      ]
     },
     "execution_count": 5,
     "metadata": {},
     "output_type": "execute_result"
    }
   ],
   "source": [
    "multi = df.copy(deep=True)\n",
    "mulit = multi.set_index(['Id', 'ProductId', 'ReorderLevel', 'CompanyName'], inplace=True)\n",
    "multi.head()"
   ]
  },
  {
   "cell_type": "markdown",
   "metadata": {},
   "source": [
    "Initial observations of data go here"
   ]
  },
  {
   "cell_type": "markdown",
   "metadata": {},
   "source": [
    "## 2.2.2 Scrub Data<a id='Scrub Data'></a>\n",
    "\n",
    "The following scrubbing techniques were applied to the original data:\n",
    "- 2.2.2.1 Manage n/a data types\n",
    "- 2.2.2.2 Remove duplicate rows\n",
    "- 2.2.2.3 Manage data types\n",
    "- 2.2.2.4 Remove outliers"
   ]
  },
  {
   "cell_type": "markdown",
   "metadata": {},
   "source": [
    "### 2.2.2.1 Manage n/a data types<a id='Manage n/a data types'></a>"
   ]
  },
  {
   "cell_type": "code",
   "execution_count": 6,
   "metadata": {},
   "outputs": [
    {
     "name": "stdout",
     "output_type": "stream",
     "text": [
      "2155\n"
     ]
    },
    {
     "data": {
      "text/plain": [
       "Id              0\n",
       "OrderDate       0\n",
       "Freight         0\n",
       "ReorderLevel    0\n",
       "ItemTotal       0\n",
       "ProductId       0\n",
       "Discount        0\n",
       "CompanyName     0\n",
       "dtype: int64"
      ]
     },
     "execution_count": 6,
     "metadata": {},
     "output_type": "execute_result"
    }
   ],
   "source": [
    "# nans identification\n",
    "print(len(df))\n",
    "df.isna().sum()"
   ]
  },
  {
   "cell_type": "markdown",
   "metadata": {},
   "source": [
    "### 2.2.2.2 Remove duplicate data<a id='Remove duplicate data'></a>"
   ]
  },
  {
   "cell_type": "code",
   "execution_count": 7,
   "metadata": {},
   "outputs": [
    {
     "name": "stdout",
     "output_type": "stream",
     "text": [
      "duplicated rows: 0\n"
     ]
    }
   ],
   "source": [
    "# identification of duplicate data\n",
    "print('duplicated rows: ' + str(df.duplicated().sum()))"
   ]
  },
  {
   "cell_type": "code",
   "execution_count": 8,
   "metadata": {},
   "outputs": [],
   "source": [
    "# code to drop duplicate row if necessary\n",
    "# df.drop_duplicates(inplace=True)\n",
    "# print('duplicated rows: ' + str(df.duplicated().sum()))"
   ]
  },
  {
   "cell_type": "markdown",
   "metadata": {},
   "source": [
    "### 2.2.2.3 Manage data types<a id='Manage data types'></a>"
   ]
  },
  {
   "cell_type": "code",
   "execution_count": 9,
   "metadata": {},
   "outputs": [
    {
     "name": "stdout",
     "output_type": "stream",
     "text": [
      "<class 'pandas.core.frame.DataFrame'>\n",
      "RangeIndex: 2155 entries, 0 to 2154\n",
      "Data columns (total 8 columns):\n",
      "Id              2155 non-null int64\n",
      "OrderDate       2155 non-null object\n",
      "Freight         2155 non-null float64\n",
      "ReorderLevel    2155 non-null int64\n",
      "ItemTotal       2155 non-null float64\n",
      "ProductId       2155 non-null int64\n",
      "Discount        2155 non-null float64\n",
      "CompanyName     2155 non-null object\n",
      "dtypes: float64(3), int64(3), object(2)\n",
      "memory usage: 134.8+ KB\n"
     ]
    }
   ],
   "source": [
    "# data type identification\n",
    "df.info()"
   ]
  },
  {
   "cell_type": "code",
   "execution_count": 10,
   "metadata": {},
   "outputs": [],
   "source": [
    "# correction to data type if necessary\n",
    "# df['CompanyName'] = df['CompanyName'].astype('category')"
   ]
  },
  {
   "cell_type": "code",
   "execution_count": 11,
   "metadata": {},
   "outputs": [
    {
     "name": "stdout",
     "output_type": "stream",
     "text": [
      "<class 'pandas.core.frame.DataFrame'>\n",
      "RangeIndex: 2155 entries, 0 to 2154\n",
      "Data columns (total 8 columns):\n",
      "Id              2155 non-null int64\n",
      "OrderDate       2155 non-null object\n",
      "Freight         2155 non-null float64\n",
      "ReorderLevel    2155 non-null int64\n",
      "ItemTotal       2155 non-null float64\n",
      "ProductId       2155 non-null int64\n",
      "Discount        2155 non-null float64\n",
      "CompanyName     2155 non-null object\n",
      "dtypes: float64(3), int64(3), object(2)\n",
      "memory usage: 134.8+ KB\n"
     ]
    }
   ],
   "source": [
    "# verification of correction to data type\n",
    "df.info()"
   ]
  },
  {
   "cell_type": "markdown",
   "metadata": {},
   "source": [
    "### 2.2.2.4 Remove outliers<a id='Remove outliers'></a>"
   ]
  },
  {
   "cell_type": "markdown",
   "metadata": {},
   "source": [
    "## 2.2.3 Explore Data<a id='Explore Data'></a>\n",
    "\n",
    "For a quick preview of what we have to work with, we'll use the describe method.\n",
    "\n",
    "- 2.2.3.1 Visualize data\n",
    "- 2.2.3.2 Transform data\n",
    "- 2.2.3.3 Sort data / Prepare data for testing\n",
    "- 2.2.3.4 Develop Feature"
   ]
  },
  {
   "cell_type": "markdown",
   "metadata": {},
   "source": [
    "### 2.2.3.1 Visualize data<a id='Visualize data'></a>"
   ]
  },
  {
   "cell_type": "code",
   "execution_count": 12,
   "metadata": {},
   "outputs": [
    {
     "data": {
      "text/html": [
       "<div>\n",
       "<style scoped>\n",
       "    .dataframe tbody tr th:only-of-type {\n",
       "        vertical-align: middle;\n",
       "    }\n",
       "\n",
       "    .dataframe tbody tr th {\n",
       "        vertical-align: top;\n",
       "    }\n",
       "\n",
       "    .dataframe thead th {\n",
       "        text-align: right;\n",
       "    }\n",
       "</style>\n",
       "<table border=\"1\" class=\"dataframe\">\n",
       "  <thead>\n",
       "    <tr style=\"text-align: right;\">\n",
       "      <th></th>\n",
       "      <th>Id</th>\n",
       "      <th>Freight</th>\n",
       "      <th>ReorderLevel</th>\n",
       "      <th>ItemTotal</th>\n",
       "      <th>ProductId</th>\n",
       "      <th>Discount</th>\n",
       "    </tr>\n",
       "  </thead>\n",
       "  <tbody>\n",
       "    <tr>\n",
       "      <th>count</th>\n",
       "      <td>2155.000000</td>\n",
       "      <td>2155.000000</td>\n",
       "      <td>2155.000000</td>\n",
       "      <td>2155.000000</td>\n",
       "      <td>2155.000000</td>\n",
       "      <td>2155.000000</td>\n",
       "    </tr>\n",
       "    <tr>\n",
       "      <th>mean</th>\n",
       "      <td>10659.375870</td>\n",
       "      <td>96.197726</td>\n",
       "      <td>11.900232</td>\n",
       "      <td>672.560237</td>\n",
       "      <td>40.793039</td>\n",
       "      <td>0.056167</td>\n",
       "    </tr>\n",
       "    <tr>\n",
       "      <th>std</th>\n",
       "      <td>241.378032</td>\n",
       "      <td>133.011272</td>\n",
       "      <td>10.791421</td>\n",
       "      <td>1110.261427</td>\n",
       "      <td>22.159019</td>\n",
       "      <td>0.083450</td>\n",
       "    </tr>\n",
       "    <tr>\n",
       "      <th>min</th>\n",
       "      <td>10248.000000</td>\n",
       "      <td>0.020000</td>\n",
       "      <td>0.000000</td>\n",
       "      <td>6.000000</td>\n",
       "      <td>1.000000</td>\n",
       "      <td>0.000000</td>\n",
       "    </tr>\n",
       "    <tr>\n",
       "      <th>25%</th>\n",
       "      <td>10451.000000</td>\n",
       "      <td>19.610000</td>\n",
       "      <td>0.000000</td>\n",
       "      <td>170.500000</td>\n",
       "      <td>22.000000</td>\n",
       "      <td>0.000000</td>\n",
       "    </tr>\n",
       "    <tr>\n",
       "      <th>50%</th>\n",
       "      <td>10657.000000</td>\n",
       "      <td>53.800000</td>\n",
       "      <td>10.000000</td>\n",
       "      <td>380.000000</td>\n",
       "      <td>41.000000</td>\n",
       "      <td>0.000000</td>\n",
       "    </tr>\n",
       "    <tr>\n",
       "      <th>75%</th>\n",
       "      <td>10862.500000</td>\n",
       "      <td>120.920000</td>\n",
       "      <td>20.000000</td>\n",
       "      <td>760.000000</td>\n",
       "      <td>60.000000</td>\n",
       "      <td>0.100000</td>\n",
       "    </tr>\n",
       "    <tr>\n",
       "      <th>max</th>\n",
       "      <td>11077.000000</td>\n",
       "      <td>1007.640000</td>\n",
       "      <td>30.000000</td>\n",
       "      <td>15810.000000</td>\n",
       "      <td>77.000000</td>\n",
       "      <td>0.250000</td>\n",
       "    </tr>\n",
       "  </tbody>\n",
       "</table>\n",
       "</div>"
      ],
      "text/plain": [
       "                 Id      Freight  ReorderLevel     ItemTotal    ProductId  \\\n",
       "count   2155.000000  2155.000000   2155.000000   2155.000000  2155.000000   \n",
       "mean   10659.375870    96.197726     11.900232    672.560237    40.793039   \n",
       "std      241.378032   133.011272     10.791421   1110.261427    22.159019   \n",
       "min    10248.000000     0.020000      0.000000      6.000000     1.000000   \n",
       "25%    10451.000000    19.610000      0.000000    170.500000    22.000000   \n",
       "50%    10657.000000    53.800000     10.000000    380.000000    41.000000   \n",
       "75%    10862.500000   120.920000     20.000000    760.000000    60.000000   \n",
       "max    11077.000000  1007.640000     30.000000  15810.000000    77.000000   \n",
       "\n",
       "          Discount  \n",
       "count  2155.000000  \n",
       "mean      0.056167  \n",
       "std       0.083450  \n",
       "min       0.000000  \n",
       "25%       0.000000  \n",
       "50%       0.000000  \n",
       "75%       0.100000  \n",
       "max       0.250000  "
      ]
     },
     "execution_count": 12,
     "metadata": {},
     "output_type": "execute_result"
    }
   ],
   "source": [
    "# describe data\n",
    "df.describe()"
   ]
  },
  {
   "cell_type": "code",
   "execution_count": 13,
   "metadata": {},
   "outputs": [
    {
     "data": {
      "image/png": "[encoded data removed]",
      "text/plain": [
       "<Figure size 1440x1440 with 6 Axes>"
      ]
     },
     "metadata": {
      "needs_background": "light"
     },
     "output_type": "display_data"
    }
   ],
   "source": [
    "# visualize data\n",
    "df.hist(figsize=(20,20));"
   ]
  },
  {
   "cell_type": "markdown",
   "metadata": {},
   "source": [
    "### 2.2.3.2 Transform data<a id='Transform data'></a>"
   ]
  },
  {
   "cell_type": "code",
   "execution_count": 14,
   "metadata": {},
   "outputs": [
    {
     "data": {
      "image/png": "[encoded data removed]",
      "text/plain": [
       "<Figure size 432x288 with 1 Axes>"
      ]
     },
     "metadata": {
      "needs_background": "light"
     },
     "output_type": "display_data"
    }
   ],
   "source": [
    "df['ItemTotal_log'] = df['ItemTotal'].map(lambda x: np.log(x))\n",
    "df.ItemTotal_log.hist();"
   ]
  },
  {
   "cell_type": "markdown",
   "metadata": {},
   "source": [
    "### 2.2.3.3 Sort data / Prepare data for testing<a id='Sort data'></a>"
   ]
  },
  {
   "cell_type": "code",
   "execution_count": 15,
   "metadata": {
    "scrolled": true
   },
   "outputs": [
    {
     "data": {
      "text/html": [
       "<div>\n",
       "<style scoped>\n",
       "    .dataframe tbody tr th:only-of-type {\n",
       "        vertical-align: middle;\n",
       "    }\n",
       "\n",
       "    .dataframe tbody tr th {\n",
       "        vertical-align: top;\n",
       "    }\n",
       "\n",
       "    .dataframe thead th {\n",
       "        text-align: right;\n",
       "    }\n",
       "</style>\n",
       "<table border=\"1\" class=\"dataframe\">\n",
       "  <thead>\n",
       "    <tr style=\"text-align: right;\">\n",
       "      <th></th>\n",
       "      <th>Id</th>\n",
       "      <th>OrderDate</th>\n",
       "      <th>Freight</th>\n",
       "      <th>ReorderLevel</th>\n",
       "      <th>ItemTotal</th>\n",
       "      <th>ProductId</th>\n",
       "      <th>Discount</th>\n",
       "      <th>CompanyName</th>\n",
       "      <th>ItemTotal_log</th>\n",
       "    </tr>\n",
       "  </thead>\n",
       "  <tbody>\n",
       "    <tr>\n",
       "      <th>0</th>\n",
       "      <td>10248</td>\n",
       "      <td>2012-07-04</td>\n",
       "      <td>32.38</td>\n",
       "      <td>30</td>\n",
       "      <td>252.0</td>\n",
       "      <td>11</td>\n",
       "      <td>0.00</td>\n",
       "      <td>Federal Shipping</td>\n",
       "      <td>5.529429</td>\n",
       "    </tr>\n",
       "    <tr>\n",
       "      <th>4</th>\n",
       "      <td>10249</td>\n",
       "      <td>2012-07-05</td>\n",
       "      <td>11.61</td>\n",
       "      <td>10</td>\n",
       "      <td>2120.0</td>\n",
       "      <td>51</td>\n",
       "      <td>0.00</td>\n",
       "      <td>Speedy Express</td>\n",
       "      <td>7.659171</td>\n",
       "    </tr>\n",
       "    <tr>\n",
       "      <th>5</th>\n",
       "      <td>10250</td>\n",
       "      <td>2012-07-08</td>\n",
       "      <td>65.83</td>\n",
       "      <td>10</td>\n",
       "      <td>96.5</td>\n",
       "      <td>41</td>\n",
       "      <td>0.00</td>\n",
       "      <td>United Package</td>\n",
       "      <td>4.569543</td>\n",
       "    </tr>\n",
       "    <tr>\n",
       "      <th>6</th>\n",
       "      <td>10250</td>\n",
       "      <td>2012-07-08</td>\n",
       "      <td>65.83</td>\n",
       "      <td>10</td>\n",
       "      <td>1855.0</td>\n",
       "      <td>51</td>\n",
       "      <td>0.15</td>\n",
       "      <td>United Package</td>\n",
       "      <td>7.525640</td>\n",
       "    </tr>\n",
       "    <tr>\n",
       "      <th>8</th>\n",
       "      <td>10251</td>\n",
       "      <td>2012-07-08</td>\n",
       "      <td>41.34</td>\n",
       "      <td>25</td>\n",
       "      <td>126.0</td>\n",
       "      <td>22</td>\n",
       "      <td>0.05</td>\n",
       "      <td>Speedy Express</td>\n",
       "      <td>4.836282</td>\n",
       "    </tr>\n",
       "  </tbody>\n",
       "</table>\n",
       "</div>"
      ],
      "text/plain": [
       "      Id   OrderDate  Freight  ReorderLevel  ItemTotal  ProductId  Discount  \\\n",
       "0  10248  2012-07-04    32.38            30      252.0         11      0.00   \n",
       "4  10249  2012-07-05    11.61            10     2120.0         51      0.00   \n",
       "5  10250  2012-07-08    65.83            10       96.5         41      0.00   \n",
       "6  10250  2012-07-08    65.83            10     1855.0         51      0.15   \n",
       "8  10251  2012-07-08    41.34            25      126.0         22      0.05   \n",
       "\n",
       "        CompanyName  ItemTotal_log  \n",
       "0  Federal Shipping       5.529429  \n",
       "4    Speedy Express       7.659171  \n",
       "5    United Package       4.569543  \n",
       "6    United Package       7.525640  \n",
       "8    Speedy Express       4.836282  "
      ]
     },
     "execution_count": 15,
     "metadata": {},
     "output_type": "execute_result"
    }
   ],
   "source": [
    "# sort data\n",
    "df_reorder = df[df['ReorderLevel'] != 0]\n",
    "df_reorder.head()"
   ]
  },
  {
   "cell_type": "code",
   "execution_count": 16,
   "metadata": {},
   "outputs": [
    {
     "data": {
      "text/html": [
       "<div>\n",
       "<style scoped>\n",
       "    .dataframe tbody tr th:only-of-type {\n",
       "        vertical-align: middle;\n",
       "    }\n",
       "\n",
       "    .dataframe tbody tr th {\n",
       "        vertical-align: top;\n",
       "    }\n",
       "\n",
       "    .dataframe thead th {\n",
       "        text-align: right;\n",
       "    }\n",
       "</style>\n",
       "<table border=\"1\" class=\"dataframe\">\n",
       "  <thead>\n",
       "    <tr style=\"text-align: right;\">\n",
       "      <th></th>\n",
       "      <th>Id</th>\n",
       "      <th>OrderDate</th>\n",
       "      <th>Freight</th>\n",
       "      <th>ReorderLevel</th>\n",
       "      <th>ItemTotal</th>\n",
       "      <th>ProductId</th>\n",
       "      <th>Discount</th>\n",
       "      <th>CompanyName</th>\n",
       "      <th>ItemTotal_log</th>\n",
       "    </tr>\n",
       "  </thead>\n",
       "  <tbody>\n",
       "    <tr>\n",
       "      <th>1</th>\n",
       "      <td>10248</td>\n",
       "      <td>2012-07-04</td>\n",
       "      <td>32.38</td>\n",
       "      <td>0</td>\n",
       "      <td>140.00</td>\n",
       "      <td>42</td>\n",
       "      <td>0.00</td>\n",
       "      <td>Federal Shipping</td>\n",
       "      <td>4.941642</td>\n",
       "    </tr>\n",
       "    <tr>\n",
       "      <th>2</th>\n",
       "      <td>10248</td>\n",
       "      <td>2012-07-04</td>\n",
       "      <td>32.38</td>\n",
       "      <td>0</td>\n",
       "      <td>174.00</td>\n",
       "      <td>72</td>\n",
       "      <td>0.00</td>\n",
       "      <td>Federal Shipping</td>\n",
       "      <td>5.159055</td>\n",
       "    </tr>\n",
       "    <tr>\n",
       "      <th>3</th>\n",
       "      <td>10249</td>\n",
       "      <td>2012-07-05</td>\n",
       "      <td>11.61</td>\n",
       "      <td>0</td>\n",
       "      <td>209.25</td>\n",
       "      <td>14</td>\n",
       "      <td>0.00</td>\n",
       "      <td>Speedy Express</td>\n",
       "      <td>5.343530</td>\n",
       "    </tr>\n",
       "    <tr>\n",
       "      <th>7</th>\n",
       "      <td>10250</td>\n",
       "      <td>2012-07-08</td>\n",
       "      <td>65.83</td>\n",
       "      <td>0</td>\n",
       "      <td>315.75</td>\n",
       "      <td>65</td>\n",
       "      <td>0.15</td>\n",
       "      <td>United Package</td>\n",
       "      <td>5.754951</td>\n",
       "    </tr>\n",
       "    <tr>\n",
       "      <th>10</th>\n",
       "      <td>10251</td>\n",
       "      <td>2012-07-08</td>\n",
       "      <td>41.34</td>\n",
       "      <td>0</td>\n",
       "      <td>421.00</td>\n",
       "      <td>65</td>\n",
       "      <td>0.00</td>\n",
       "      <td>Speedy Express</td>\n",
       "      <td>6.042633</td>\n",
       "    </tr>\n",
       "  </tbody>\n",
       "</table>\n",
       "</div>"
      ],
      "text/plain": [
       "       Id   OrderDate  Freight  ReorderLevel  ItemTotal  ProductId  Discount  \\\n",
       "1   10248  2012-07-04    32.38             0     140.00         42      0.00   \n",
       "2   10248  2012-07-04    32.38             0     174.00         72      0.00   \n",
       "3   10249  2012-07-05    11.61             0     209.25         14      0.00   \n",
       "7   10250  2012-07-08    65.83             0     315.75         65      0.15   \n",
       "10  10251  2012-07-08    41.34             0     421.00         65      0.00   \n",
       "\n",
       "         CompanyName  ItemTotal_log  \n",
       "1   Federal Shipping       4.941642  \n",
       "2   Federal Shipping       5.159055  \n",
       "3     Speedy Express       5.343530  \n",
       "7     United Package       5.754951  \n",
       "10    Speedy Express       6.042633  "
      ]
     },
     "execution_count": 16,
     "metadata": {},
     "output_type": "execute_result"
    }
   ],
   "source": [
    "df_no_reorder = df[df['ReorderLevel'] == 0]\n",
    "df_no_reorder.head()"
   ]
  },
  {
   "cell_type": "code",
   "execution_count": 17,
   "metadata": {},
   "outputs": [],
   "source": [
    "# prepare data for testing\n",
    "df['CompanyName'] = [x.replace(\" \",\"\") for x in df['CompanyName']]"
   ]
  },
  {
   "cell_type": "markdown",
   "metadata": {},
   "source": [
    "### 2.2.3.4 Develop feature<a id='Develop feature'></a>"
   ]
  },
  {
   "cell_type": "code",
   "execution_count": 18,
   "metadata": {},
   "outputs": [
    {
     "name": "stdout",
     "output_type": "stream",
     "text": [
      "      Id   OrderDate  Freight  ReorderLevel  ItemTotal  ProductId  Discount  \\\n",
      "0  10248  2012-07-04    32.38            30     252.00         11       0.0   \n",
      "1  10248  2012-07-04    32.38             0     140.00         42       0.0   \n",
      "2  10248  2012-07-04    32.38             0     174.00         72       0.0   \n",
      "3  10249  2012-07-05    11.61             0     209.25         14       0.0   \n",
      "4  10249  2012-07-05    11.61            10    2120.00         51       0.0   \n",
      "\n",
      "       CompanyName  ItemTotal_log  Reorder  \n",
      "0  FederalShipping       5.529429        1  \n",
      "1  FederalShipping       4.941642        0  \n",
      "2  FederalShipping       5.159055        0  \n",
      "3    SpeedyExpress       5.343530        0  \n",
      "4    SpeedyExpress       7.659171        1  \n",
      "      Id   OrderDate  Freight ReorderLevel  ItemTotal  ProductId  Discount  \\\n",
      "0  10248  2012-07-04    32.38       Thirty     252.00         11       0.0   \n",
      "1  10248  2012-07-04    32.38         Zero     140.00         42       0.0   \n",
      "2  10248  2012-07-04    32.38         Zero     174.00         72       0.0   \n",
      "3  10249  2012-07-05    11.61         Zero     209.25         14       0.0   \n",
      "4  10249  2012-07-05    11.61          Ten    2120.00         51       0.0   \n",
      "\n",
      "       CompanyName  ItemTotal_log     Reorder  \n",
      "0  FederalShipping       5.529429     Reorder  \n",
      "1  FederalShipping       4.941642  No Reorder  \n",
      "2  FederalShipping       5.159055  No Reorder  \n",
      "3    SpeedyExpress       5.343530  No Reorder  \n",
      "4    SpeedyExpress       7.659171     Reorder  \n"
     ]
    }
   ],
   "source": [
    "# create features\n",
    "df_str = df.copy(deep=True)\n",
    "df['Reorder'] = [1 if x != 0 else 0 for x in df['ReorderLevel']]\n",
    "df_str['Reorder'] = ['Reorder' if x != 0 else 'No Reorder' for x in df['ReorderLevel']]\n",
    "for x, y in enumerate(df_str['ReorderLevel']):\n",
    "    if y == 0:\n",
    "        df_str.loc[x,'ReorderLevel'] = 'Zero'\n",
    "    elif y == 5:\n",
    "        df_str.loc[x,'ReorderLevel'] = 'Five'\n",
    "    elif y == 10:\n",
    "        df_str.loc[x,'ReorderLevel'] = 'Ten'\n",
    "    elif y == 15:\n",
    "        df_str.loc[x,'ReorderLevel'] = 'Fifteen'\n",
    "    elif y == 20:\n",
    "        df_str.loc[x,'ReorderLevel'] = 'Twenty'\n",
    "    elif y == 25:\n",
    "        df_str.loc[x,'ReorderLevel'] = 'Twenty_Five'\n",
    "    else:\n",
    "        df_str.loc[x,'ReorderLevel'] = 'Thirty'\n",
    "print(df.head())\n",
    "print(df_str.head())"
   ]
  },
  {
   "cell_type": "markdown",
   "metadata": {},
   "source": [
    "## 2.2.4 Model Data<a id='Model Data'></a>\n",
    "\n",
    "- 2.2.4.1 Check for data normality\n",
    "- 2.2.4.2 Standard deviation and other basic statistics\n",
    "- 2.2.4.3 Statistical test\n",
    "- 2.2.4.4 Verification techniques"
   ]
  },
  {
   "cell_type": "markdown",
   "metadata": {},
   "source": [
    "### 2.2.4.1 Check for data normality<a id='Data normality'></a>"
   ]
  },
  {
   "cell_type": "code",
   "execution_count": 19,
   "metadata": {},
   "outputs": [
    {
     "data": {
      "image/png": "[encoded data removed]",
      "text/plain": [
       "<Figure size 504x504 with 9 Axes>"
      ]
     },
     "metadata": {
      "needs_background": "light"
     },
     "output_type": "display_data"
    }
   ],
   "source": [
    "# visual/code for data normality\n",
    "df.hist(figsize=(7,7));"
   ]
  },
  {
   "cell_type": "markdown",
   "metadata": {},
   "source": [
    "### 2.2.4.2 Standard deviation and other basic statistics<a id='Standard deviation'></a>"
   ]
  },
  {
   "cell_type": "code",
   "execution_count": 51,
   "metadata": {},
   "outputs": [
    {
     "name": "stdout",
     "output_type": "stream",
     "text": [
      "ItemTotal_log\n",
      "numbers of samples: 2155\n",
      "mean: 5.859902046483519\n",
      "standard deviation: 1.164650382603087\n",
      "population variance: 1.3564105136975169\n",
      "skew: -0.1682796388327049\n",
      "Reorder\n",
      "numbers of samples: 2155\n",
      "mean: 0.6668213457076566\n",
      "standard deviation: 0.4713498049392686\n",
      "population variance: 0.22217063861628655\n",
      "skew: -0.7083383265426805\n"
     ]
    }
   ],
   "source": [
    "# standard deviation for target variable\n",
    "print('ItemTotal_log')\n",
    "print('numbers of samples: ' + str(len(df['ItemTotal_log'])))\n",
    "print('mean: ' + str(mean(df['ItemTotal_log'])))\n",
    "print('standard deviation: ' + str(std(df['ItemTotal_log'])))\n",
    "print('population variance: ' + str(std(df['ItemTotal_log'])**2))\n",
    "print('skew: ' + str(df['ItemTotal_log'].skew()))\n",
    "print('Reorder')\n",
    "print('numbers of samples: ' + str(len(df['Reorder'])))\n",
    "print('mean: ' + str(mean(df['Reorder'])))\n",
    "print('standard deviation: ' + str(std(df['Reorder'])))\n",
    "print('population variance: ' + str(std(df['Reorder'])**2))\n",
    "print('skew: ' + str(df['Reorder'].skew()))"
   ]
  },
  {
   "cell_type": "markdown",
   "metadata": {},
   "source": [
    "### 2.2.4.3 Statistical test<a id='Statistical test'></a>"
   ]
  },
  {
   "cell_type": "code",
   "execution_count": 21,
   "metadata": {},
   "outputs": [],
   "source": [
    "# set up variables for this particular test\n",
    "alpha = 0.05"
   ]
  },
  {
   "cell_type": "code",
   "execution_count": 52,
   "metadata": {},
   "outputs": [
    {
     "data": {
      "text/html": [
       "<div>\n",
       "<style scoped>\n",
       "    .dataframe tbody tr th:only-of-type {\n",
       "        vertical-align: middle;\n",
       "    }\n",
       "\n",
       "    .dataframe tbody tr th {\n",
       "        vertical-align: top;\n",
       "    }\n",
       "\n",
       "    .dataframe thead th {\n",
       "        text-align: right;\n",
       "    }\n",
       "</style>\n",
       "<table border=\"1\" class=\"dataframe\">\n",
       "  <thead>\n",
       "    <tr style=\"text-align: right;\">\n",
       "      <th></th>\n",
       "      <th>df</th>\n",
       "      <th>sum_sq</th>\n",
       "      <th>mean_sq</th>\n",
       "      <th>F</th>\n",
       "      <th>PR(&gt;F)</th>\n",
       "    </tr>\n",
       "  </thead>\n",
       "  <tbody>\n",
       "    <tr>\n",
       "      <th>CompanyName</th>\n",
       "      <td>2.0</td>\n",
       "      <td>0.612092</td>\n",
       "      <td>0.306046</td>\n",
       "      <td>0.236608</td>\n",
       "      <td>7.893213e-01</td>\n",
       "    </tr>\n",
       "    <tr>\n",
       "      <th>Reorder</th>\n",
       "      <td>1.0</td>\n",
       "      <td>140.189217</td>\n",
       "      <td>140.189217</td>\n",
       "      <td>108.381906</td>\n",
       "      <td>8.512698e-25</td>\n",
       "    </tr>\n",
       "    <tr>\n",
       "      <th>Residual</th>\n",
       "      <td>2151.0</td>\n",
       "      <td>2782.263348</td>\n",
       "      <td>1.293474</td>\n",
       "      <td>NaN</td>\n",
       "      <td>NaN</td>\n",
       "    </tr>\n",
       "  </tbody>\n",
       "</table>\n",
       "</div>"
      ],
      "text/plain": [
       "                 df       sum_sq     mean_sq           F        PR(>F)\n",
       "CompanyName     2.0     0.612092    0.306046    0.236608  7.893213e-01\n",
       "Reorder         1.0   140.189217  140.189217  108.381906  8.512698e-25\n",
       "Residual     2151.0  2782.263348    1.293474         NaN           NaN"
      ]
     },
     "execution_count": 52,
     "metadata": {},
     "output_type": "execute_result"
    }
   ],
   "source": [
    "# test\n",
    "ols_results = sm.stats.anova_lm(ols('ItemTotal_log ~ CompanyName + Reorder', data=df_str).fit())\n",
    "ols_results"
   ]
  },
  {
   "cell_type": "code",
   "execution_count": 53,
   "metadata": {},
   "outputs": [],
   "source": [
    "# result\n",
    "companyName_pvalue = ols_results.loc['CompanyName', 'PR(>F)']\n",
    "reorder_pvalue = ols_results.loc['Reorder', 'PR(>F)']"
   ]
  },
  {
   "cell_type": "code",
   "execution_count": 54,
   "metadata": {},
   "outputs": [
    {
     "name": "stdout",
     "output_type": "stream",
     "text": [
      "Fail to reject the null hypothesis\n"
     ]
    }
   ],
   "source": [
    "# evaluation of result\n",
    "if alpha > companyName_pvalue:\n",
    "    print('Reject the null hypothesis')\n",
    "else:\n",
    "    print('Fail to reject the null hypothesis')"
   ]
  },
  {
   "cell_type": "code",
   "execution_count": 55,
   "metadata": {},
   "outputs": [
    {
     "name": "stdout",
     "output_type": "stream",
     "text": [
      "Reject the null hypothesis\n"
     ]
    }
   ],
   "source": [
    "# evaluation of result\n",
    "if alpha > reorder_pvalue:\n",
    "    print('Reject the null hypothesis')\n",
    "else:\n",
    "    print('Fail to reject the null hypothesis')"
   ]
  },
  {
   "cell_type": "markdown",
   "metadata": {},
   "source": [
    "Summarize results and determine next steps. Might include verification of sample size, error types, non-parametric testing, or a deepening of understanding"
   ]
  },
  {
   "cell_type": "markdown",
   "metadata": {},
   "source": [
    "### 2.2.4.4 Verification techniques<a id='Verification techniques'></a>"
   ]
  },
  {
   "cell_type": "markdown",
   "metadata": {},
   "source": [
    "#### 2.2.4.4.1 Nonparametric testing and confirmatory testing<a id='Nonparametric testing'></a>"
   ]
  },
  {
   "cell_type": "markdown",
   "metadata": {},
   "source": [
    "##### Nonparametric testing"
   ]
  },
  {
   "cell_type": "code",
   "execution_count": 26,
   "metadata": {},
   "outputs": [
    {
     "data": {
      "text/plain": [
       "array(['FederalShipping', 'SpeedyExpress', 'UnitedPackage'], dtype=object)"
      ]
     },
     "execution_count": 26,
     "metadata": {},
     "output_type": "execute_result"
    }
   ],
   "source": [
    "df['CompanyName'].unique()"
   ]
  },
  {
   "cell_type": "code",
   "execution_count": 27,
   "metadata": {},
   "outputs": [
    {
     "name": "stdout",
     "output_type": "stream",
     "text": [
      "<class 'pandas.core.frame.DataFrame'>\n",
      "RangeIndex: 2155 entries, 0 to 2154\n",
      "Data columns (total 10 columns):\n",
      "Id               2155 non-null int64\n",
      "OrderDate        2155 non-null object\n",
      "Freight          2155 non-null float64\n",
      "ReorderLevel     2155 non-null int64\n",
      "ItemTotal        2155 non-null float64\n",
      "ProductId        2155 non-null int64\n",
      "Discount         2155 non-null float64\n",
      "CompanyName      2155 non-null object\n",
      "ItemTotal_log    2155 non-null float64\n",
      "Reorder          2155 non-null int64\n",
      "dtypes: float64(4), int64(4), object(2)\n",
      "memory usage: 168.5+ KB\n"
     ]
    }
   ],
   "source": [
    "df.info()"
   ]
  },
  {
   "cell_type": "code",
   "execution_count": 28,
   "metadata": {},
   "outputs": [],
   "source": [
    "# non-parametric testing variables\n",
    "shipVia1 = df[df['CompanyName'] == 'FederalShipping']\n",
    "shipVia1_reorder0 = shipVia1[shipVia1['Reorder'] == 0]['ItemTotal']\n",
    "shipVia1_reorder1 = shipVia1[shipVia1['Reorder'] == 1]['ItemTotal']\n",
    "shipVia2 = df[df['CompanyName'] == 'SpeedyExpress']\n",
    "shipVia2_reorder0 = shipVia2[shipVia2['Reorder'] == 0]['ItemTotal']\n",
    "shipVia2_reorder1 = shipVia2[shipVia2['Reorder'] == 1]['ItemTotal']\n",
    "shipVia3 = df[df['CompanyName'] == 'UnitedPackage']\n",
    "shipVia3_reorder0 = shipVia3[shipVia3['Reorder'] == 0]['ItemTotal']\n",
    "shipVia3_reorder1 = shipVia3[shipVia3['Reorder'] == 1]['ItemTotal']"
   ]
  },
  {
   "cell_type": "code",
   "execution_count": 56,
   "metadata": {},
   "outputs": [
    {
     "data": {
      "text/plain": [
       "(120.67769879906302, 2.2551786635363805e-24)"
      ]
     },
     "execution_count": 56,
     "metadata": {},
     "output_type": "execute_result"
    }
   ],
   "source": [
    "# non-parametric test\n",
    "kruskal_stat, pvalue = stats.kruskal(shipVia1_reorder0, shipVia1_reorder1, shipVia2_reorder0, shipVia2_reorder1, shipVia3_reorder0, shipVia3_reorder1)\n",
    "kruskal_stat, pvalue"
   ]
  },
  {
   "cell_type": "code",
   "execution_count": 57,
   "metadata": {},
   "outputs": [
    {
     "name": "stdout",
     "output_type": "stream",
     "text": [
      "Reject the null hypothesis\n"
     ]
    }
   ],
   "source": [
    "# evaluation of results\n",
    "if alpha > pvalue:\n",
    "    print('Reject the null hypothesis')\n",
    "else:\n",
    "    print('Fail to reject the null hypothesis')"
   ]
  },
  {
   "cell_type": "markdown",
   "metadata": {},
   "source": [
    "##### Confirmatory testing"
   ]
  },
  {
   "cell_type": "code",
   "execution_count": 32,
   "metadata": {},
   "outputs": [
    {
     "data": {
      "text/html": [
       "<table class=\"simpletable\">\n",
       "<caption>Multiple Comparison of Means - Tukey HSD, FWER=0.05</caption>\n",
       "<tr>\n",
       "           <th>group1</th>                   <th>group2</th>          <th>meandiff</th>   <th>p-adj</th>   <th>lower</th>     <th>upper</th>   <th>reject</th>\n",
       "</tr>\n",
       "<tr>\n",
       "  <td>FederalShippingNo Reorder</td> <td>FederalShippingReorder</td>  <td>-262.4791</td> <td>0.0481</td> <td>-523.6762</td>  <td>-1.2819</td>   <td>True</td> \n",
       "</tr>\n",
       "<tr>\n",
       "  <td>FederalShippingNo Reorder</td> <td>SpeedyExpressNo Reorder</td> <td>-93.8362</td>    <td>0.9</td>  <td>-395.788</td>  <td>208.1155</td>   <td>False</td>\n",
       "</tr>\n",
       "<tr>\n",
       "  <td>FederalShippingNo Reorder</td>  <td>SpeedyExpressReorder</td>   <td>-322.8532</td> <td>0.0056</td> <td>-583.539</td>  <td>-62.1674</td>   <td>True</td> \n",
       "</tr>\n",
       "<tr>\n",
       "  <td>FederalShippingNo Reorder</td> <td>UnitedPackageNo Reorder</td> <td>126.7029</td>  <td>0.7691</td> <td>-155.4177</td> <td>408.8235</td>   <td>False</td>\n",
       "</tr>\n",
       "<tr>\n",
       "  <td>FederalShippingNo Reorder</td>  <td>UnitedPackageReorder</td>   <td>-291.153</td>  <td>0.0114</td> <td>-540.5522</td> <td>-41.7537</td>   <td>True</td> \n",
       "</tr>\n",
       "<tr>\n",
       "   <td>FederalShippingReorder</td>   <td>SpeedyExpressNo Reorder</td> <td>168.6428</td>  <td>0.4482</td> <td>-94.1654</td>  <td>431.4511</td>   <td>False</td>\n",
       "</tr>\n",
       "<tr>\n",
       "   <td>FederalShippingReorder</td>    <td>SpeedyExpressReorder</td>   <td>-60.3741</td>    <td>0.9</td>  <td>-274.5012</td>  <td>153.753</td>   <td>False</td>\n",
       "</tr>\n",
       "<tr>\n",
       "   <td>FederalShippingReorder</td>   <td>UnitedPackageNo Reorder</td>  <td>389.182</td>   <td>0.001</td> <td>149.4209</td>   <td>628.943</td>   <td>True</td> \n",
       "</tr>\n",
       "<tr>\n",
       "   <td>FederalShippingReorder</td>    <td>UnitedPackageReorder</td>   <td>-28.6739</td>    <td>0.9</td>  <td>-228.907</td>  <td>171.5592</td>   <td>False</td>\n",
       "</tr>\n",
       "<tr>\n",
       "   <td>SpeedyExpressNo Reorder</td>   <td>SpeedyExpressReorder</td>   <td>-229.0169</td> <td>0.1269</td> <td>-491.3169</td>  <td>33.2831</td>   <td>False</td>\n",
       "</tr>\n",
       "<tr>\n",
       "   <td>SpeedyExpressNo Reorder</td>  <td>UnitedPackageNo Reorder</td> <td>220.5391</td>  <td>0.2298</td> <td>-63.0737</td>   <td>504.152</td>   <td>False</td>\n",
       "</tr>\n",
       "<tr>\n",
       "   <td>SpeedyExpressNo Reorder</td>   <td>UnitedPackageReorder</td>   <td>-197.3167</td> <td>0.2192</td> <td>-448.4028</td>  <td>53.7693</td>   <td>False</td>\n",
       "</tr>\n",
       "<tr>\n",
       "    <td>SpeedyExpressReorder</td>    <td>UnitedPackageNo Reorder</td> <td>449.5561</td>   <td>0.001</td> <td>210.3523</td>  <td>688.7599</td>   <td>True</td> \n",
       "</tr>\n",
       "<tr>\n",
       "    <td>SpeedyExpressReorder</td>     <td>UnitedPackageReorder</td>    <td>31.7002</td>    <td>0.9</td>  <td>-167.8654</td> <td>231.2658</td>   <td>False</td>\n",
       "</tr>\n",
       "<tr>\n",
       "   <td>UnitedPackageNo Reorder</td>   <td>UnitedPackageReorder</td>   <td>-417.8559</td>  <td>0.001</td> <td>-644.7069</td> <td>-191.0049</td>  <td>True</td> \n",
       "</tr>\n",
       "</table>"
      ],
      "text/plain": [
       "<class 'statsmodels.iolib.table.SimpleTable'>"
      ]
     },
     "execution_count": 32,
     "metadata": {},
     "output_type": "execute_result"
    }
   ],
   "source": [
    "# confirmatory test for ANOVA is TukeyHSD\n",
    "tukey_results = pairwise_tukeyhsd(df_str['ItemTotal'], df_str['CompanyName']+df_str['Reorder'])\n",
    "tukey_results.summary()"
   ]
  },
  {
   "cell_type": "code",
   "execution_count": 34,
   "metadata": {},
   "outputs": [
    {
     "name": "stderr",
     "output_type": "stream",
     "text": [
      "C:\\Users\\eannefawcett\\Anaconda3\\envs\\learn-env\\lib\\site-packages\\ipykernel_launcher.py:8: UserWarning: Matplotlib is currently using module://ipykernel.pylab.backend_inline, which is a non-GUI backend, so cannot show the figure.\n",
      "  \n"
     ]
    },
    {
     "data": {
      "image/png": "[encoded data removed]",
      "text/plain": [
       "<Figure size 720x432 with 1 Axes>"
      ]
     },
     "metadata": {
      "needs_background": "light"
     },
     "output_type": "display_data"
    }
   ],
   "source": [
    "# create figure\n",
    "fig05 = plt.figure(figsize=(5,4))\n",
    "ax = fig05.add_subplot(111)\n",
    "\n",
    "# run tukeys\n",
    "from statsmodels.stats.multicomp import pairwise_tukeyhsd\n",
    "tukey_results = pairwise_tukeyhsd(df_str['ItemTotal'], df_str['CompanyName']+df_str['Reorder'])\n",
    "tukey_plot = tukey_results.plot_simultaneous(ax=ax).show() \n",
    "\n",
    "# format plot\n",
    "ax.axes.set_title('Multiple Comparisions Between Reorder and Shipping Company')\n",
    "ax.axes.set_ylabel('Reorder by Shipping Company')\n",
    "ax.axes.set_xlabel('Item Total');"
   ]
  },
  {
   "cell_type": "markdown",
   "metadata": {},
   "source": [
    "Oberservations based on new finding\n",
    "\n",
    "#### 2.2.4.4.2 Effect size<a id='Effect size'></a>\n",
    "Cramers V"
   ]
  },
  {
   "cell_type": "code",
   "execution_count": 35,
   "metadata": {},
   "outputs": [
    {
     "data": {
      "text/plain": [
       "(708.2598607888631, 6.384329775450025e-138)"
      ]
     },
     "execution_count": 35,
     "metadata": {},
     "output_type": "execute_result"
    }
   ],
   "source": [
    "# effect size variables\n",
    "combined_x = pd.DataFrame()\n",
    "combined_x['values'] = df_str['CompanyName']+df_str['ReorderLevel']\n",
    "from collections import Counter\n",
    "unique_values = Counter(combined_x['values'])\n",
    "for_chisquare = list(unique_values.values())\n",
    "chisquare, pvalue = stats.chisquare(for_chisquare, ddof=1)\n",
    "chisquare, pvalue"
   ]
  },
  {
   "cell_type": "code",
   "execution_count": 36,
   "metadata": {},
   "outputs": [
    {
     "data": {
      "text/plain": [
       "0.4714045207910317"
      ]
     },
     "execution_count": 36,
     "metadata": {},
     "output_type": "execute_result"
    }
   ],
   "source": [
    "# effect size test cramersV\n",
    "def cramersV(nrows, ncols, chisquared, correct_bias=True):\n",
    "    import math\n",
    "    nobs = nrows*ncols\n",
    "    if correct_bias is True:\n",
    "        phi = 0\n",
    "    else:\n",
    "        phi = chisquared/nobs\n",
    "    V = math.sqrt((phi^2)/(min(nrows-1, ncols-1)))\n",
    "    return np.array([V, phi])\n",
    "effect_size, phi = cramersV(df_str.shape[0], df_str.shape[1], chisquare, correct_bias=True)\n",
    "effect_size"
   ]
  },
  {
   "cell_type": "markdown",
   "metadata": {},
   "source": [
    "#### 2.2.4.4.3 Error<a id='Error'></a>"
   ]
  },
  {
   "cell_type": "code",
   "execution_count": 37,
   "metadata": {},
   "outputs": [],
   "source": [
    "# power variables\n",
    "effect_size, nobs1, alpha = effect_size, df['ItemTotal'].shape[0], alpha"
   ]
  },
  {
   "cell_type": "code",
   "execution_count": 38,
   "metadata": {},
   "outputs": [
    {
     "data": {
      "text/plain": [
       "1.0"
      ]
     },
     "execution_count": 38,
     "metadata": {},
     "output_type": "execute_result"
    }
   ],
   "source": [
    "# power test\n",
    "power = tt_ind_solve_power(effect_size=effect_size, nobs1=nobs1, alpha=alpha)\n",
    "power"
   ]
  },
  {
   "cell_type": "code",
   "execution_count": 39,
   "metadata": {},
   "outputs": [
    {
     "data": {
      "text/plain": [
       "0.0"
      ]
     },
     "execution_count": 39,
     "metadata": {},
     "output_type": "execute_result"
    }
   ],
   "source": [
    "# evaluation of power test\n",
    "type_2_error = 1 - power\n",
    "type_2_error"
   ]
  },
  {
   "cell_type": "markdown",
   "metadata": {},
   "source": [
    "## 2.2.5 Interpret Model<a id='Interpret Model'></a>"
   ]
  },
  {
   "cell_type": "markdown",
   "metadata": {},
   "source": [
    "### 2.2.5.1 Extension of acquired knowledge<a id='Extension'></a>\n",
    "#### Deeper question\n",
    "#### Hypothesis for deeper question"
   ]
  },
  {
   "cell_type": "code",
   "execution_count": 40,
   "metadata": {},
   "outputs": [],
   "source": [
    "# deeper understanding variables already set"
   ]
  },
  {
   "cell_type": "code",
   "execution_count": 41,
   "metadata": {},
   "outputs": [
    {
     "data": {
      "text/html": [
       "<div>\n",
       "<style scoped>\n",
       "    .dataframe tbody tr th:only-of-type {\n",
       "        vertical-align: middle;\n",
       "    }\n",
       "\n",
       "    .dataframe tbody tr th {\n",
       "        vertical-align: top;\n",
       "    }\n",
       "\n",
       "    .dataframe thead th {\n",
       "        text-align: right;\n",
       "    }\n",
       "</style>\n",
       "<table border=\"1\" class=\"dataframe\">\n",
       "  <thead>\n",
       "    <tr style=\"text-align: right;\">\n",
       "      <th></th>\n",
       "      <th>df</th>\n",
       "      <th>sum_sq</th>\n",
       "      <th>mean_sq</th>\n",
       "      <th>F</th>\n",
       "      <th>PR(&gt;F)</th>\n",
       "    </tr>\n",
       "  </thead>\n",
       "  <tbody>\n",
       "    <tr>\n",
       "      <th>CompanyName</th>\n",
       "      <td>2.0</td>\n",
       "      <td>3.445841e+06</td>\n",
       "      <td>1.722920e+06</td>\n",
       "      <td>1.410746</td>\n",
       "      <td>0.244187</td>\n",
       "    </tr>\n",
       "    <tr>\n",
       "      <th>ReorderLevel</th>\n",
       "      <td>1.0</td>\n",
       "      <td>2.476820e+07</td>\n",
       "      <td>2.476820e+07</td>\n",
       "      <td>20.280477</td>\n",
       "      <td>0.000007</td>\n",
       "    </tr>\n",
       "    <tr>\n",
       "      <th>Residual</th>\n",
       "      <td>2151.0</td>\n",
       "      <td>2.626980e+09</td>\n",
       "      <td>1.221283e+06</td>\n",
       "      <td>NaN</td>\n",
       "      <td>NaN</td>\n",
       "    </tr>\n",
       "  </tbody>\n",
       "</table>\n",
       "</div>"
      ],
      "text/plain": [
       "                  df        sum_sq       mean_sq          F    PR(>F)\n",
       "CompanyName      2.0  3.445841e+06  1.722920e+06   1.410746  0.244187\n",
       "ReorderLevel     1.0  2.476820e+07  2.476820e+07  20.280477  0.000007\n",
       "Residual      2151.0  2.626980e+09  1.221283e+06        NaN       NaN"
      ]
     },
     "execution_count": 41,
     "metadata": {},
     "output_type": "execute_result"
    }
   ],
   "source": [
    "# deeper understanding test\n",
    "anova_results = sm.stats.anova_lm(ols('ItemTotal ~ CompanyName + ReorderLevel', data=df).fit())\n",
    "anova_results"
   ]
  },
  {
   "cell_type": "code",
   "execution_count": 42,
   "metadata": {},
   "outputs": [],
   "source": [
    "# deeper understanding result\n",
    "companyName_anova_pvalue = anova_results.loc['CompanyName', 'PR(>F)']\n",
    "reorderLevel_anova_pvalue = anova_results.loc['ReorderLevel', 'PR(>F)']"
   ]
  },
  {
   "cell_type": "code",
   "execution_count": 43,
   "metadata": {},
   "outputs": [
    {
     "name": "stdout",
     "output_type": "stream",
     "text": [
      "Fail to reject the null hypothesis\n"
     ]
    }
   ],
   "source": [
    "# deeper understanding evaluation of result\n",
    "if alpha > companyName_anova_pvalue:\n",
    "    print('Reject the null hypothesis')\n",
    "else:\n",
    "    print('Fail to reject the null hypothesis')"
   ]
  },
  {
   "cell_type": "code",
   "execution_count": 44,
   "metadata": {},
   "outputs": [
    {
     "name": "stdout",
     "output_type": "stream",
     "text": [
      "Reject the null hypothesis\n"
     ]
    }
   ],
   "source": [
    "if alpha > reorderLevel_anova_pvalue:\n",
    "    print('Reject the null hypothesis')\n",
    "else:\n",
    "    print('Fail to reject the null hypothesis')"
   ]
  },
  {
   "cell_type": "code",
   "execution_count": 45,
   "metadata": {},
   "outputs": [],
   "source": [
    "# non-parametric testing variables\n",
    "shipVia1 = df[df['CompanyName'] == 'FederalShipping']\n",
    "shipVia1_reorder0 = shipVia1[shipVia1['ReorderLevel'] == 0]['ItemTotal']\n",
    "shipVia1_reorder5 = shipVia1[shipVia1['ReorderLevel'] == 5]['ItemTotal']\n",
    "shipVia1_reorder10 = shipVia1[shipVia1['ReorderLevel'] == 10]['ItemTotal']\n",
    "shipVia1_reorder15 = shipVia1[shipVia1['ReorderLevel'] == 15]['ItemTotal']\n",
    "shipVia1_reorder20 = shipVia1[shipVia1['ReorderLevel'] == 20]['ItemTotal']\n",
    "shipVia1_reorder25 = shipVia1[shipVia1['ReorderLevel'] == 25]['ItemTotal']\n",
    "shipVia1_reorder30 = shipVia1[shipVia1['ReorderLevel'] == 30]['ItemTotal']\n",
    "shipVia2 = df[df['CompanyName'] == 'SpeedyExpress']\n",
    "shipVia2_reorder0 = shipVia2[shipVia2['ReorderLevel'] == 0]['ItemTotal']\n",
    "shipVia2_reorder5 = shipVia2[shipVia2['ReorderLevel'] == 5]['ItemTotal']\n",
    "shipVia2_reorder10 = shipVia2[shipVia2['ReorderLevel'] == 10]['ItemTotal']\n",
    "shipVia2_reorder15 = shipVia2[shipVia2['ReorderLevel'] == 15]['ItemTotal']\n",
    "shipVia2_reorder20 = shipVia2[shipVia2['ReorderLevel'] == 20]['ItemTotal']\n",
    "shipVia2_reorder25 = shipVia2[shipVia2['ReorderLevel'] == 25]['ItemTotal']\n",
    "shipVia2_reorder30 = shipVia2[shipVia2['ReorderLevel'] == 30]['ItemTotal']\n",
    "shipVia3 = df[df['CompanyName'] == 'UnitedPackage']\n",
    "shipVia3_reorder0 = shipVia3[shipVia3['ReorderLevel'] == 0]['ItemTotal']\n",
    "shipVia3_reorder5 = shipVia3[shipVia3['ReorderLevel'] == 5]['ItemTotal']\n",
    "shipVia3_reorder10 = shipVia3[shipVia3['ReorderLevel'] == 10]['ItemTotal']\n",
    "shipVia3_reorder15 = shipVia3[shipVia3['ReorderLevel'] == 15]['ItemTotal']\n",
    "shipVia3_reorder20 = shipVia3[shipVia3['ReorderLevel'] == 20]['ItemTotal']\n",
    "shipVia3_reorder25 = shipVia3[shipVia3['ReorderLevel'] == 25]['ItemTotal']\n",
    "shipVia3_reorder30 = shipVia3[shipVia3['ReorderLevel'] == 30]['ItemTotal']"
   ]
  },
  {
   "cell_type": "code",
   "execution_count": 46,
   "metadata": {},
   "outputs": [
    {
     "data": {
      "text/plain": [
       "KruskalResult(statistic=191.1760174190746, pvalue=6.208124121397785e-30)"
      ]
     },
     "execution_count": 46,
     "metadata": {},
     "output_type": "execute_result"
    }
   ],
   "source": [
    "# non-parametric test\n",
    "kruskal_results = stats.kruskal(shipVia1_reorder0, shipVia1_reorder5, shipVia1_reorder10, shipVia1_reorder15, shipVia1_reorder20, \n",
    "                                shipVia1_reorder25, shipVia1_reorder30, shipVia2_reorder0, shipVia2_reorder5, shipVia2_reorder10, \n",
    "                                shipVia2_reorder15, shipVia2_reorder20, shipVia2_reorder25, shipVia2_reorder30, shipVia3_reorder0, \n",
    "                                shipVia3_reorder5, shipVia3_reorder10, shipVia3_reorder15, shipVia3_reorder20, shipVia3_reorder25, \n",
    "                                shipVia3_reorder30)\n",
    "kruskal_results"
   ]
  },
  {
   "cell_type": "code",
   "execution_count": 47,
   "metadata": {},
   "outputs": [
    {
     "data": {
      "text/plain": [
       "6.208124121397785e-30"
      ]
     },
     "execution_count": 47,
     "metadata": {},
     "output_type": "execute_result"
    }
   ],
   "source": [
    "# result\n",
    "p_value = kruskal_results[1]\n",
    "p_value"
   ]
  },
  {
   "cell_type": "code",
   "execution_count": 48,
   "metadata": {},
   "outputs": [
    {
     "name": "stdout",
     "output_type": "stream",
     "text": [
      "Reject the null hypothesis\n"
     ]
    }
   ],
   "source": [
    "if alpha > p_value:\n",
    "    print('Reject the null hypothesis')\n",
    "else:\n",
    "    print('Fail to reject the null hypothesis')"
   ]
  },
  {
   "cell_type": "code",
   "execution_count": 49,
   "metadata": {},
   "outputs": [
    {
     "data": {
      "text/html": [
       "<table class=\"simpletable\">\n",
       "<caption>Multiple Comparison of Means - Tukey HSD, FWER=0.05</caption>\n",
       "<tr>\n",
       "            <th>group1</th>                     <th>group2</th>           <th>meandiff</th>   <th>p-adj</th>    <th>lower</th>     <th>upper</th>   <th>reject</th>\n",
       "</tr>\n",
       "<tr>\n",
       "    <td>FederalShippingFifteen</td>       <td>FederalShippingFive</td>    <td>-956.5566</td>  <td>0.001</td> <td>-1594.6462</td> <td>-318.4671</td>  <td>True</td> \n",
       "</tr>\n",
       "<tr>\n",
       "    <td>FederalShippingFifteen</td>       <td>FederalShippingTen</td>     <td>-634.054</td>  <td>0.0372</td> <td>-1252.5269</td> <td>-15.5811</td>   <td>True</td> \n",
       "</tr>\n",
       "<tr>\n",
       "    <td>FederalShippingFifteen</td>      <td>FederalShippingThirty</td>   <td>-700.6749</td> <td>0.0114</td>  <td>-1328.472</td> <td>-72.8778</td>   <td>True</td> \n",
       "</tr>\n",
       "<tr>\n",
       "    <td>FederalShippingFifteen</td>      <td>FederalShippingTwenty</td>   <td>-741.8032</td> <td>0.0063</td> <td>-1382.6356</td> <td>-100.9709</td>  <td>True</td> \n",
       "</tr>\n",
       "<tr>\n",
       "    <td>FederalShippingFifteen</td>   <td>FederalShippingTwenty_Five</td> <td>-797.1815</td> <td>0.0013</td> <td>-1429.9943</td> <td>-164.3686</td>  <td>True</td> \n",
       "</tr>\n",
       "<tr>\n",
       "    <td>FederalShippingFifteen</td>       <td>FederalShippingZero</td>    <td>-349.9929</td> <td>0.5842</td>  <td>-848.1693</td> <td>148.1836</td>   <td>False</td>\n",
       "</tr>\n",
       "<tr>\n",
       "    <td>FederalShippingFifteen</td>      <td>SpeedyExpressFifteen</td>    <td>-440.4663</td> <td>0.5438</td> <td>-1052.5003</td> <td>171.5677</td>   <td>False</td>\n",
       "</tr>\n",
       "<tr>\n",
       "    <td>FederalShippingFifteen</td>        <td>SpeedyExpressFive</td>     <td>-812.2508</td> <td>0.0046</td> <td>-1500.8869</td> <td>-123.6147</td>  <td>True</td> \n",
       "</tr>\n",
       "<tr>\n",
       "    <td>FederalShippingFifteen</td>        <td>SpeedyExpressTen</td>      <td>-730.3703</td> <td>0.0042</td> <td>-1346.6472</td> <td>-114.0934</td>  <td>True</td> \n",
       "</tr>\n",
       "<tr>\n",
       "    <td>FederalShippingFifteen</td>       <td>SpeedyExpressThirty</td>    <td>-496.2385</td> <td>0.3621</td> <td>-1124.0356</td> <td>131.5587</td>   <td>False</td>\n",
       "</tr>\n",
       "<tr>\n",
       "    <td>FederalShippingFifteen</td>       <td>SpeedyExpressTwenty</td>    <td>-840.8731</td>  <td>0.001</td> <td>-1450.8567</td> <td>-230.8895</td>  <td>True</td> \n",
       "</tr>\n",
       "<tr>\n",
       "    <td>FederalShippingFifteen</td>    <td>SpeedyExpressTwenty_Five</td>  <td>-743.5337</td> <td>0.0021</td> <td>-1347.6318</td> <td>-139.4357</td>  <td>True</td> \n",
       "</tr>\n",
       "<tr>\n",
       "    <td>FederalShippingFifteen</td>        <td>SpeedyExpressZero</td>     <td>-443.8291</td> <td>0.1618</td>  <td>-943.2989</td>  <td>55.6407</td>   <td>False</td>\n",
       "</tr>\n",
       "<tr>\n",
       "    <td>FederalShippingFifteen</td>      <td>UnitedPackageFifteen</td>     <td>-183.1</td>     <td>0.9</td>   <td>-743.0213</td> <td>376.8213</td>   <td>False</td>\n",
       "</tr>\n",
       "<tr>\n",
       "    <td>FederalShippingFifteen</td>        <td>UnitedPackageFive</td>     <td>-852.5966</td>  <td>0.001</td> <td>-1460.5751</td> <td>-244.618</td>   <td>True</td> \n",
       "</tr>\n",
       "<tr>\n",
       "    <td>FederalShippingFifteen</td>        <td>UnitedPackageTen</td>      <td>-736.1914</td> <td>0.0013</td> <td>-1320.1111</td> <td>-152.2717</td>  <td>True</td> \n",
       "</tr>\n",
       "<tr>\n",
       "    <td>FederalShippingFifteen</td>       <td>UnitedPackageThirty</td>     <td>-592.29</td>  <td>0.0398</td> <td>-1173.2854</td> <td>-11.2946</td>   <td>True</td> \n",
       "</tr>\n",
       "<tr>\n",
       "    <td>FederalShippingFifteen</td>       <td>UnitedPackageTwenty</td>    <td>-836.2948</td>  <td>0.001</td> <td>-1421.7186</td> <td>-250.871</td>   <td>True</td> \n",
       "</tr>\n",
       "<tr>\n",
       "    <td>FederalShippingFifteen</td>    <td>UnitedPackageTwenty_Five</td>  <td>-757.4534</td>  <td>0.001</td> <td>-1322.9536</td> <td>-191.9532</td>  <td>True</td> \n",
       "</tr>\n",
       "<tr>\n",
       "    <td>FederalShippingFifteen</td>        <td>UnitedPackageZero</td>      <td>-223.29</td>    <td>0.9</td>   <td>-704.7119</td> <td>258.1319</td>   <td>False</td>\n",
       "</tr>\n",
       "<tr>\n",
       "      <td>FederalShippingFive</td>        <td>FederalShippingTen</td>     <td>322.5026</td>    <td>0.9</td>   <td>-334.2833</td> <td>979.2885</td>   <td>False</td>\n",
       "</tr>\n",
       "<tr>\n",
       "      <td>FederalShippingFive</td>       <td>FederalShippingThirty</td>   <td>255.8817</td>    <td>0.9</td>   <td>-409.6919</td> <td>921.4553</td>   <td>False</td>\n",
       "</tr>\n",
       "<tr>\n",
       "      <td>FederalShippingFive</td>       <td>FederalShippingTwenty</td>   <td>214.7534</td>    <td>0.9</td>   <td>-463.1294</td> <td>892.6362</td>   <td>False</td>\n",
       "</tr>\n",
       "<tr>\n",
       "      <td>FederalShippingFive</td>    <td>FederalShippingTwenty_Five</td> <td>159.3752</td>    <td>0.9</td>   <td>-510.9316</td> <td>829.6819</td>   <td>False</td>\n",
       "</tr>\n",
       "<tr>\n",
       "      <td>FederalShippingFive</td>        <td>FederalShippingZero</td>    <td>606.5637</td>  <td>0.0119</td>   <td>61.5511</td>  <td>1151.5764</td>  <td>True</td> \n",
       "</tr>\n",
       "<tr>\n",
       "      <td>FederalShippingFive</td>       <td>SpeedyExpressFifteen</td>    <td>516.0903</td>   <td>0.355</td>  <td>-134.6359</td> <td>1166.8165</td>  <td>False</td>\n",
       "</tr>\n",
       "<tr>\n",
       "      <td>FederalShippingFive</td>         <td>SpeedyExpressFive</td>     <td>144.3058</td>    <td>0.9</td>   <td>-578.936</td>  <td>867.5476</td>   <td>False</td>\n",
       "</tr>\n",
       "<tr>\n",
       "      <td>FederalShippingFive</td>         <td>SpeedyExpressTen</td>      <td>226.1863</td>    <td>0.9</td>   <td>-428.5321</td> <td>880.9047</td>   <td>False</td>\n",
       "</tr>\n",
       "<tr>\n",
       "      <td>FederalShippingFive</td>        <td>SpeedyExpressThirty</td>    <td>460.3182</td>  <td>0.6101</td>  <td>-205.2554</td> <td>1125.8918</td>  <td>False</td>\n",
       "</tr>\n",
       "<tr>\n",
       "      <td>FederalShippingFive</td>        <td>SpeedyExpressTwenty</td>    <td>115.6835</td>    <td>0.9</td>   <td>-533.1146</td> <td>764.4816</td>   <td>False</td>\n",
       "</tr>\n",
       "<tr>\n",
       "      <td>FederalShippingFive</td>     <td>SpeedyExpressTwenty_Five</td>  <td>213.0229</td>    <td>0.9</td>   <td>-430.2449</td> <td>856.2907</td>   <td>False</td>\n",
       "</tr>\n",
       "<tr>\n",
       "      <td>FederalShippingFive</td>         <td>SpeedyExpressZero</td>     <td>512.7275</td>  <td>0.0983</td>  <td>-33.4676</td>  <td>1058.9226</td>  <td>False</td>\n",
       "</tr>\n",
       "<tr>\n",
       "      <td>FederalShippingFive</td>       <td>UnitedPackageFifteen</td>    <td>773.4566</td>   <td>0.001</td>  <td>171.4842</td>  <td>1375.4291</td>  <td>True</td> \n",
       "</tr>\n",
       "<tr>\n",
       "      <td>FederalShippingFive</td>         <td>UnitedPackageFive</td>      <td>103.96</td>     <td>0.9</td>   <td>-542.9533</td> <td>750.8734</td>   <td>False</td>\n",
       "</tr>\n",
       "<tr>\n",
       "      <td>FederalShippingFive</td>         <td>UnitedPackageTen</td>      <td>220.3652</td>    <td>0.9</td>   <td>-403.9914</td> <td>844.7219</td>   <td>False</td>\n",
       "</tr>\n",
       "<tr>\n",
       "      <td>FederalShippingFive</td>        <td>UnitedPackageThirty</td>    <td>364.2666</td>  <td>0.8596</td>  <td>-257.356</td>  <td>985.8892</td>   <td>False</td>\n",
       "</tr>\n",
       "<tr>\n",
       "      <td>FederalShippingFive</td>        <td>UnitedPackageTwenty</td>    <td>120.2618</td>    <td>0.9</td>   <td>-505.5018</td> <td>746.0254</td>   <td>False</td>\n",
       "</tr>\n",
       "<tr>\n",
       "      <td>FederalShippingFive</td>     <td>UnitedPackageTwenty_Five</td>  <td>199.1032</td>    <td>0.9</td>   <td>-408.0619</td> <td>806.2683</td>   <td>False</td>\n",
       "</tr>\n",
       "<tr>\n",
       "      <td>FederalShippingFive</td>         <td>UnitedPackageZero</td>     <td>733.2666</td>   <td>0.001</td>  <td>203.5252</td>  <td>1263.0081</td>  <td>True</td> \n",
       "</tr>\n",
       "<tr>\n",
       "      <td>FederalShippingTen</td>        <td>FederalShippingThirty</td>   <td>-66.6209</td>    <td>0.9</td>   <td>-713.4119</td> <td>580.1702</td>   <td>False</td>\n",
       "</tr>\n",
       "<tr>\n",
       "      <td>FederalShippingTen</td>        <td>FederalShippingTwenty</td>   <td>-107.7492</td>   <td>0.9</td>   <td>-767.2001</td> <td>551.7017</td>   <td>False</td>\n",
       "</tr>\n",
       "<tr>\n",
       "      <td>FederalShippingTen</td>     <td>FederalShippingTwenty_Five</td> <td>-163.1274</td>   <td>0.9</td>   <td>-814.7881</td> <td>488.5332</td>   <td>False</td>\n",
       "</tr>\n",
       "<tr>\n",
       "      <td>FederalShippingTen</td>         <td>FederalShippingZero</td>    <td>284.0611</td>    <td>0.9</td>   <td>-237.848</td>  <td>805.9703</td>   <td>False</td>\n",
       "</tr>\n",
       "<tr>\n",
       "      <td>FederalShippingTen</td>        <td>SpeedyExpressFifteen</td>    <td>193.5877</td>    <td>0.9</td>   <td>-437.9145</td> <td>825.0899</td>   <td>False</td>\n",
       "</tr>\n",
       "<tr>\n",
       "      <td>FederalShippingTen</td>          <td>SpeedyExpressFive</td>     <td>-178.1968</td>   <td>0.9</td>   <td>-884.1919</td> <td>527.7983</td>   <td>False</td>\n",
       "</tr>\n",
       "<tr>\n",
       "      <td>FederalShippingTen</td>          <td>SpeedyExpressTen</td>      <td>-96.3163</td>    <td>0.9</td>   <td>-731.9315</td> <td>539.2989</td>   <td>False</td>\n",
       "</tr>\n",
       "<tr>\n",
       "      <td>FederalShippingTen</td>         <td>SpeedyExpressThirty</td>    <td>137.8156</td>    <td>0.9</td>   <td>-508.9755</td> <td>784.6066</td>   <td>False</td>\n",
       "</tr>\n",
       "<tr>\n",
       "      <td>FederalShippingTen</td>         <td>SpeedyExpressTwenty</td>    <td>-206.8191</td>   <td>0.9</td>   <td>-836.3343</td> <td>422.6962</td>   <td>False</td>\n",
       "</tr>\n",
       "<tr>\n",
       "      <td>FederalShippingTen</td>      <td>SpeedyExpressTwenty_Five</td>  <td>-109.4797</td>   <td>0.9</td>   <td>-733.2937</td> <td>514.3343</td>   <td>False</td>\n",
       "</tr>\n",
       "<tr>\n",
       "      <td>FederalShippingTen</td>          <td>SpeedyExpressZero</td>     <td>190.2249</td>    <td>0.9</td>   <td>-332.9189</td> <td>713.3687</td>   <td>False</td>\n",
       "</tr>\n",
       "<tr>\n",
       "      <td>FederalShippingTen</td>        <td>UnitedPackageFifteen</td>     <td>450.954</td>  <td>0.4015</td>  <td>-130.1839</td> <td>1032.092</td>   <td>False</td>\n",
       "</tr>\n",
       "<tr>\n",
       "      <td>FederalShippingTen</td>          <td>UnitedPackageFive</td>     <td>-218.5426</td>   <td>0.9</td>   <td>-846.1151</td>  <td>409.03</td>    <td>False</td>\n",
       "</tr>\n",
       "<tr>\n",
       "      <td>FederalShippingTen</td>          <td>UnitedPackageTen</td>      <td>-102.1374</td>   <td>0.9</td>   <td>-706.4317</td>  <td>502.157</td>   <td>False</td>\n",
       "</tr>\n",
       "<tr>\n",
       "      <td>FederalShippingTen</td>         <td>UnitedPackageThirty</td>     <td>41.764</td>     <td>0.9</td>   <td>-559.7051</td> <td>643.2331</td>   <td>False</td>\n",
       "</tr>\n",
       "<tr>\n",
       "      <td>FederalShippingTen</td>         <td>UnitedPackageTwenty</td>    <td>-202.2408</td>   <td>0.9</td>   <td>-807.9886</td> <td>403.5071</td>   <td>False</td>\n",
       "</tr>\n",
       "<tr>\n",
       "      <td>FederalShippingTen</td>      <td>UnitedPackageTwenty_Five</td>  <td>-123.3994</td>   <td>0.9</td>   <td>-709.9144</td> <td>463.1156</td>   <td>False</td>\n",
       "</tr>\n",
       "<tr>\n",
       "      <td>FederalShippingTen</td>          <td>UnitedPackageZero</td>      <td>410.764</td>  <td>0.3086</td>  <td>-95.1771</td>  <td>916.7052</td>   <td>False</td>\n",
       "</tr>\n",
       "<tr>\n",
       "     <td>FederalShippingThirty</td>      <td>FederalShippingTwenty</td>   <td>-41.1284</td>    <td>0.9</td>   <td>-709.3319</td> <td>627.0752</td>   <td>False</td>\n",
       "</tr>\n",
       "<tr>\n",
       "     <td>FederalShippingThirty</td>   <td>FederalShippingTwenty_Five</td> <td>-96.5066</td>    <td>0.9</td>   <td>-757.0231</td> <td>564.0099</td>   <td>False</td>\n",
       "</tr>\n",
       "<tr>\n",
       "     <td>FederalShippingThirty</td>       <td>FederalShippingZero</td>     <td>350.682</td>  <td>0.6894</td>  <td>-182.2436</td> <td>883.6076</td>   <td>False</td>\n",
       "</tr>\n",
       "<tr>\n",
       "     <td>FederalShippingThirty</td>      <td>SpeedyExpressFifteen</td>    <td>260.2086</td>    <td>0.9</td>   <td>-380.4283</td> <td>900.8454</td>   <td>False</td>\n",
       "</tr>\n",
       "<tr>\n",
       "     <td>FederalShippingThirty</td>        <td>SpeedyExpressFive</td>     <td>-111.5759</td>   <td>0.9</td>   <td>-825.7535</td> <td>602.6016</td>   <td>False</td>\n",
       "</tr>\n",
       "<tr>\n",
       "     <td>FederalShippingThirty</td>        <td>SpeedyExpressTen</td>      <td>-29.6954</td>    <td>0.9</td>   <td>-674.387</td>  <td>614.9961</td>   <td>False</td>\n",
       "</tr>\n",
       "<tr>\n",
       "     <td>FederalShippingThirty</td>       <td>SpeedyExpressThirty</td>    <td>204.4364</td>    <td>0.9</td>   <td>-451.2763</td> <td>860.1491</td>   <td>False</td>\n",
       "</tr>\n",
       "<tr>\n",
       "     <td>FederalShippingThirty</td>       <td>SpeedyExpressTwenty</td>    <td>-140.1982</td>   <td>0.9</td>   <td>-778.8765</td> <td>498.4801</td>   <td>False</td>\n",
       "</tr>\n",
       "<tr>\n",
       "     <td>FederalShippingThirty</td>    <td>SpeedyExpressTwenty_Five</td>  <td>-42.8588</td>    <td>0.9</td>   <td>-675.9184</td> <td>590.2007</td>   <td>False</td>\n",
       "</tr>\n",
       "<tr>\n",
       "     <td>FederalShippingThirty</td>        <td>SpeedyExpressZero</td>     <td>256.8458</td>    <td>0.9</td>   <td>-277.289</td>  <td>790.9806</td>   <td>False</td>\n",
       "</tr>\n",
       "<tr>\n",
       "     <td>FederalShippingThirty</td>      <td>UnitedPackageFifteen</td>    <td>517.5749</td>  <td>0.1815</td>  <td>-73.4765</td>  <td>1108.6264</td>  <td>False</td>\n",
       "</tr>\n",
       "<tr>\n",
       "     <td>FederalShippingThirty</td>        <td>UnitedPackageFive</td>     <td>-151.9217</td>   <td>0.9</td>   <td>-788.6852</td> <td>484.8419</td>   <td>False</td>\n",
       "</tr>\n",
       "<tr>\n",
       "     <td>FederalShippingThirty</td>        <td>UnitedPackageTen</td>      <td>-35.5165</td>    <td>0.9</td>   <td>-649.3505</td> <td>578.3175</td>   <td>False</td>\n",
       "</tr>\n",
       "<tr>\n",
       "     <td>FederalShippingThirty</td>       <td>UnitedPackageThirty</td>    <td>108.3849</td>    <td>0.9</td>   <td>-502.668</td>  <td>719.4377</td>   <td>False</td>\n",
       "</tr>\n",
       "<tr>\n",
       "     <td>FederalShippingThirty</td>       <td>UnitedPackageTwenty</td>    <td>-135.6199</td>   <td>0.9</td>   <td>-750.8849</td> <td>479.6451</td>   <td>False</td>\n",
       "</tr>\n",
       "<tr>\n",
       "     <td>FederalShippingThirty</td>    <td>UnitedPackageTwenty_Five</td>  <td>-56.7785</td>    <td>0.9</td>   <td>-653.1177</td> <td>539.5606</td>   <td>False</td>\n",
       "</tr>\n",
       "<tr>\n",
       "     <td>FederalShippingThirty</td>        <td>UnitedPackageZero</td>     <td>477.3849</td>  <td>0.1165</td>  <td>-39.9128</td>  <td>994.6826</td>   <td>False</td>\n",
       "</tr>\n",
       "<tr>\n",
       "     <td>FederalShippingTwenty</td>   <td>FederalShippingTwenty_Five</td> <td>-55.3782</td>    <td>0.9</td>   <td>-728.2965</td>  <td>617.54</td>    <td>False</td>\n",
       "</tr>\n",
       "<tr>\n",
       "     <td>FederalShippingTwenty</td>       <td>FederalShippingZero</td>    <td>391.8104</td>  <td>0.5555</td>  <td>-156.4109</td> <td>940.0317</td>   <td>False</td>\n",
       "</tr>\n",
       "<tr>\n",
       "     <td>FederalShippingTwenty</td>      <td>SpeedyExpressFifteen</td>    <td>301.3369</td>    <td>0.9</td>   <td>-352.0791</td> <td>954.7529</td>   <td>False</td>\n",
       "</tr>\n",
       "<tr>\n",
       "     <td>FederalShippingTwenty</td>        <td>SpeedyExpressFive</td>     <td>-70.4476</td>    <td>0.9</td>   <td>-796.1104</td> <td>655.2152</td>   <td>False</td>\n",
       "</tr>\n",
       "<tr>\n",
       "     <td>FederalShippingTwenty</td>        <td>SpeedyExpressTen</td>       <td>11.4329</td>    <td>0.9</td>   <td>-645.9589</td> <td>668.8248</td>   <td>False</td>\n",
       "</tr>\n",
       "<tr>\n",
       "     <td>FederalShippingTwenty</td>       <td>SpeedyExpressThirty</td>    <td>245.5648</td>    <td>0.9</td>   <td>-422.6388</td> <td>913.7684</td>   <td>False</td>\n",
       "</tr>\n",
       "<tr>\n",
       "     <td>FederalShippingTwenty</td>       <td>SpeedyExpressTwenty</td>    <td>-99.0699</td>    <td>0.9</td>   <td>-750.5657</td>  <td>552.426</td>   <td>False</td>\n",
       "</tr>\n",
       "<tr>\n",
       "     <td>FederalShippingTwenty</td>    <td>SpeedyExpressTwenty_Five</td>   <td>-1.7305</td>    <td>0.9</td>   <td>-647.7191</td> <td>644.2581</td>   <td>False</td>\n",
       "</tr>\n",
       "<tr>\n",
       "     <td>FederalShippingTwenty</td>        <td>SpeedyExpressZero</td>     <td>297.9741</td>    <td>0.9</td>   <td>-251.4227</td>  <td>847.371</td>   <td>False</td>\n",
       "</tr>\n",
       "<tr>\n",
       "     <td>FederalShippingTwenty</td>      <td>UnitedPackageFifteen</td>    <td>558.7033</td>  <td>0.1155</td>  <td>-46.1758</td>  <td>1163.5823</td>  <td>False</td>\n",
       "</tr>\n",
       "<tr>\n",
       "     <td>FederalShippingTwenty</td>        <td>UnitedPackageFive</td>     <td>-110.7933</td>   <td>0.9</td>   <td>-760.4122</td> <td>538.8256</td>   <td>False</td>\n",
       "</tr>\n",
       "<tr>\n",
       "     <td>FederalShippingTwenty</td>        <td>UnitedPackageTen</td>       <td>5.6119</td>     <td>0.9</td>   <td>-621.5476</td> <td>632.7714</td>   <td>False</td>\n",
       "</tr>\n",
       "<tr>\n",
       "     <td>FederalShippingTwenty</td>       <td>UnitedPackageThirty</td>    <td>149.5132</td>    <td>0.9</td>   <td>-474.9245</td>  <td>773.951</td>   <td>False</td>\n",
       "</tr>\n",
       "<tr>\n",
       "     <td>FederalShippingTwenty</td>       <td>UnitedPackageTwenty</td>    <td>-94.4916</td>    <td>0.9</td>   <td>-723.0517</td> <td>534.0686</td>   <td>False</td>\n",
       "</tr>\n",
       "<tr>\n",
       "     <td>FederalShippingTwenty</td>    <td>UnitedPackageTwenty_Five</td>  <td>-15.6502</td>    <td>0.9</td>   <td>-625.6972</td> <td>594.3968</td>   <td>False</td>\n",
       "</tr>\n",
       "<tr>\n",
       "     <td>FederalShippingTwenty</td>        <td>UnitedPackageZero</td>     <td>518.5133</td>  <td>0.0687</td>  <td>-14.5288</td>  <td>1051.5553</td>  <td>False</td>\n",
       "</tr>\n",
       "<tr>\n",
       "  <td>FederalShippingTwenty_Five</td>     <td>FederalShippingZero</td>    <td>447.1886</td>  <td>0.2684</td>  <td>-91.6367</td>  <td>986.0138</td>   <td>False</td>\n",
       "</tr>\n",
       "<tr>\n",
       "  <td>FederalShippingTwenty_Five</td>    <td>SpeedyExpressFifteen</td>    <td>356.7151</td>    <td>0.9</td>   <td>-288.8377</td> <td>1002.268</td>   <td>False</td>\n",
       "</tr>\n",
       "<tr>\n",
       "  <td>FederalShippingTwenty_Five</td>      <td>SpeedyExpressFive</td>     <td>-15.0694</td>    <td>0.9</td>    <td>-733.66</td>  <td>703.5213</td>   <td>False</td>\n",
       "</tr>\n",
       "<tr>\n",
       "  <td>FederalShippingTwenty_Five</td>      <td>SpeedyExpressTen</td>       <td>66.8111</td>    <td>0.9</td>   <td>-582.7657</td>  <td>716.388</td>   <td>False</td>\n",
       "</tr>\n",
       "<tr>\n",
       "  <td>FederalShippingTwenty_Five</td>     <td>SpeedyExpressThirty</td>     <td>300.943</td>    <td>0.9</td>   <td>-359.5735</td> <td>961.4595</td>   <td>False</td>\n",
       "</tr>\n",
       "<tr>\n",
       "  <td>FederalShippingTwenty_Five</td>     <td>SpeedyExpressTwenty</td>    <td>-43.6916</td>    <td>0.9</td>   <td>-687.3009</td> <td>599.9176</td>   <td>False</td>\n",
       "</tr>\n",
       "<tr>\n",
       "  <td>FederalShippingTwenty_Five</td>  <td>SpeedyExpressTwenty_Five</td>   <td>53.6477</td>    <td>0.9</td>   <td>-584.3862</td> <td>691.6817</td>   <td>False</td>\n",
       "</tr>\n",
       "<tr>\n",
       "  <td>FederalShippingTwenty_Five</td>      <td>SpeedyExpressZero</td>     <td>353.3523</td>  <td>0.6981</td>  <td>-186.6689</td> <td>893.3736</td>   <td>False</td>\n",
       "</tr>\n",
       "<tr>\n",
       "  <td>FederalShippingTwenty_Five</td>    <td>UnitedPackageFifteen</td>    <td>614.0815</td>  <td>0.0352</td>   <td>17.7051</td>  <td>1210.4578</td>  <td>True</td> \n",
       "</tr>\n",
       "<tr>\n",
       "  <td>FederalShippingTwenty_Five</td>      <td>UnitedPackageFive</td>     <td>-55.4151</td>    <td>0.9</td>   <td>-697.1243</td> <td>586.2941</td>   <td>False</td>\n",
       "</tr>\n",
       "<tr>\n",
       "  <td>FederalShippingTwenty_Five</td>      <td>UnitedPackageTen</td>       <td>60.9901</td>    <td>0.9</td>   <td>-557.9728</td>  <td>679.953</td>   <td>False</td>\n",
       "</tr>\n",
       "<tr>\n",
       "  <td>FederalShippingTwenty_Five</td>     <td>UnitedPackageThirty</td>    <td>204.8915</td>    <td>0.9</td>   <td>-411.3135</td> <td>821.0964</td>   <td>False</td>\n",
       "</tr>\n",
       "<tr>\n",
       "  <td>FederalShippingTwenty_Five</td>     <td>UnitedPackageTwenty</td>    <td>-39.1133</td>    <td>0.9</td>   <td>-659.4954</td> <td>581.2687</td>   <td>False</td>\n",
       "</tr>\n",
       "<tr>\n",
       "  <td>FederalShippingTwenty_Five</td>  <td>UnitedPackageTwenty_Five</td>   <td>39.728</td>     <td>0.9</td>   <td>-561.8892</td> <td>641.3453</td>   <td>False</td>\n",
       "</tr>\n",
       "<tr>\n",
       "  <td>FederalShippingTwenty_Five</td>      <td>UnitedPackageZero</td>     <td>573.8915</td>  <td>0.0149</td>   <td>50.5179</td>  <td>1097.265</td>   <td>True</td> \n",
       "</tr>\n",
       "<tr>\n",
       "      <td>FederalShippingZero</td>       <td>SpeedyExpressFifteen</td>    <td>-90.4734</td>    <td>0.9</td>   <td>-604.7361</td> <td>423.7892</td>   <td>False</td>\n",
       "</tr>\n",
       "<tr>\n",
       "      <td>FederalShippingZero</td>         <td>SpeedyExpressFive</td>     <td>-462.258</td>  <td>0.4285</td> <td>-1065.6651</td> <td>141.1492</td>   <td>False</td>\n",
       "</tr>\n",
       "<tr>\n",
       "      <td>FederalShippingZero</td>         <td>SpeedyExpressTen</td>      <td>-380.3774</td> <td>0.5135</td>  <td>-899.6825</td> <td>138.9276</td>   <td>False</td>\n",
       "</tr>\n",
       "<tr>\n",
       "      <td>FederalShippingZero</td>        <td>SpeedyExpressThirty</td>    <td>-146.2456</td>   <td>0.9</td>   <td>-679.1712</td>  <td>386.68</td>    <td>False</td>\n",
       "</tr>\n",
       "<tr>\n",
       "      <td>FederalShippingZero</td>        <td>SpeedyExpressTwenty</td>    <td>-490.8802</td> <td>0.0799</td>  <td>-1002.701</td>  <td>20.9406</td>   <td>False</td>\n",
       "</tr>\n",
       "<tr>\n",
       "      <td>FederalShippingZero</td>     <td>SpeedyExpressTwenty_Five</td>  <td>-393.5408</td> <td>0.3915</td>  <td>-898.3328</td> <td>111.2511</td>   <td>False</td>\n",
       "</tr>\n",
       "<tr>\n",
       "      <td>FederalShippingZero</td>         <td>SpeedyExpressZero</td>     <td>-93.8362</td>    <td>0.9</td>   <td>-467.1331</td> <td>279.4606</td>   <td>False</td>\n",
       "</tr>\n",
       "<tr>\n",
       "      <td>FederalShippingZero</td>       <td>UnitedPackageFifteen</td>    <td>166.8929</td>    <td>0.9</td>   <td>-284.0975</td> <td>617.8833</td>   <td>False</td>\n",
       "</tr>\n",
       "<tr>\n",
       "      <td>FederalShippingZero</td>         <td>UnitedPackageFive</td>     <td>-502.6037</td> <td>0.0586</td> <td>-1012.0331</td>  <td>6.8258</td>    <td>False</td>\n",
       "</tr>\n",
       "<tr>\n",
       "      <td>FederalShippingZero</td>         <td>UnitedPackageTen</td>      <td>-386.1985</td> <td>0.3272</td>  <td>-866.6594</td>  <td>94.2625</td>   <td>False</td>\n",
       "</tr>\n",
       "<tr>\n",
       "      <td>FederalShippingZero</td>        <td>UnitedPackageThirty</td>    <td>-242.2971</td>   <td>0.9</td>   <td>-719.1998</td> <td>234.6055</td>   <td>False</td>\n",
       "</tr>\n",
       "<tr>\n",
       "      <td>FederalShippingZero</td>        <td>UnitedPackageTwenty</td>    <td>-486.3019</td> <td>0.0454</td>  <td>-968.5898</td>  <td>-4.0141</td>   <td>True</td> \n",
       "</tr>\n",
       "<tr>\n",
       "      <td>FederalShippingZero</td>     <td>UnitedPackageTwenty_Five</td>  <td>-407.4605</td> <td>0.1599</td>  <td>-865.359</td>   <td>50.4379</td>   <td>False</td>\n",
       "</tr>\n",
       "<tr>\n",
       "      <td>FederalShippingZero</td>         <td>UnitedPackageZero</td>     <td>126.7029</td>    <td>0.9</td>   <td>-222.0772</td> <td>475.4829</td>   <td>False</td>\n",
       "</tr>\n",
       "<tr>\n",
       "     <td>SpeedyExpressFifteen</td>         <td>SpeedyExpressFive</td>     <td>-371.7845</td>   <td>0.9</td>  <td>-1072.1458</td> <td>328.5768</td>   <td>False</td>\n",
       "</tr>\n",
       "<tr>\n",
       "     <td>SpeedyExpressFifteen</td>         <td>SpeedyExpressTen</td>      <td>-289.904</td>    <td>0.9</td>   <td>-919.2557</td> <td>339.4477</td>   <td>False</td>\n",
       "</tr>\n",
       "<tr>\n",
       "     <td>SpeedyExpressFifteen</td>        <td>SpeedyExpressThirty</td>    <td>-55.7721</td>    <td>0.9</td>   <td>-696.409</td>  <td>584.8647</td>   <td>False</td>\n",
       "</tr>\n",
       "<tr>\n",
       "     <td>SpeedyExpressFifteen</td>        <td>SpeedyExpressTwenty</td>    <td>-400.4068</td> <td>0.7261</td> <td>-1023.5973</td> <td>222.7837</td>   <td>False</td>\n",
       "</tr>\n",
       "<tr>\n",
       "     <td>SpeedyExpressFifteen</td>     <td>SpeedyExpressTwenty_Five</td>  <td>-303.0674</td>   <td>0.9</td>   <td>-920.4982</td> <td>314.3634</td>   <td>False</td>\n",
       "</tr>\n",
       "<tr>\n",
       "     <td>SpeedyExpressFifteen</td>         <td>SpeedyExpressZero</td>      <td>-3.3628</td>    <td>0.9</td>   <td>-518.8785</td> <td>512.1529</td>   <td>False</td>\n",
       "</tr>\n",
       "<tr>\n",
       "     <td>SpeedyExpressFifteen</td>       <td>UnitedPackageFifteen</td>    <td>257.3663</td>    <td>0.9</td>   <td>-316.9143</td> <td>831.6469</td>   <td>False</td>\n",
       "</tr>\n",
       "<tr>\n",
       "     <td>SpeedyExpressFifteen</td>         <td>UnitedPackageFive</td>     <td>-412.1303</td> <td>0.6767</td> <td>-1033.3582</td> <td>209.0977</td>   <td>False</td>\n",
       "</tr>\n",
       "<tr>\n",
       "     <td>SpeedyExpressFifteen</td>         <td>UnitedPackageTen</td>      <td>-295.7251</td>   <td>0.9</td>   <td>-893.4278</td> <td>301.9777</td>   <td>False</td>\n",
       "</tr>\n",
       "<tr>\n",
       "     <td>SpeedyExpressFifteen</td>        <td>UnitedPackageThirty</td>    <td>-151.8237</td>   <td>0.9</td>   <td>-746.6699</td> <td>443.0225</td>   <td>False</td>\n",
       "</tr>\n",
       "<tr>\n",
       "     <td>SpeedyExpressFifteen</td>        <td>UnitedPackageTwenty</td>    <td>-395.8285</td> <td>0.6833</td>  <td>-995.0007</td> <td>203.3438</td>   <td>False</td>\n",
       "</tr>\n",
       "<tr>\n",
       "     <td>SpeedyExpressFifteen</td>     <td>UnitedPackageTwenty_Five</td>  <td>-316.9871</td>   <td>0.9</td>   <td>-896.7084</td> <td>262.7342</td>   <td>False</td>\n",
       "</tr>\n",
       "<tr>\n",
       "     <td>SpeedyExpressFifteen</td>         <td>UnitedPackageZero</td>     <td>217.1763</td>    <td>0.9</td>   <td>-280.8732</td> <td>715.2259</td>   <td>False</td>\n",
       "</tr>\n",
       "<tr>\n",
       "       <td>SpeedyExpressFive</td>          <td>SpeedyExpressTen</td>       <td>81.8805</td>    <td>0.9</td>   <td>-622.1916</td> <td>785.9527</td>   <td>False</td>\n",
       "</tr>\n",
       "<tr>\n",
       "       <td>SpeedyExpressFive</td>         <td>SpeedyExpressThirty</td>    <td>316.0124</td>    <td>0.9</td>   <td>-398.1652</td> <td>1030.1899</td>  <td>False</td>\n",
       "</tr>\n",
       "<tr>\n",
       "       <td>SpeedyExpressFive</td>         <td>SpeedyExpressTwenty</td>    <td>-28.6223</td>    <td>0.9</td>   <td>-727.1925</td>  <td>669.948</td>   <td>False</td>\n",
       "</tr>\n",
       "<tr>\n",
       "       <td>SpeedyExpressFive</td>      <td>SpeedyExpressTwenty_Five</td>   <td>68.7171</td>    <td>0.9</td>   <td>-624.7199</td> <td>762.1541</td>   <td>False</td>\n",
       "</tr>\n",
       "<tr>\n",
       "       <td>SpeedyExpressFive</td>          <td>SpeedyExpressZero</td>     <td>368.4217</td>  <td>0.8041</td>  <td>-236.0536</td>  <td>972.897</td>   <td>False</td>\n",
       "</tr>\n",
       "<tr>\n",
       "       <td>SpeedyExpressFive</td>        <td>UnitedPackageFifteen</td>    <td>629.1508</td>  <td>0.0791</td>  <td>-26.1599</td>  <td>1284.4616</td>  <td>False</td>\n",
       "</tr>\n",
       "<tr>\n",
       "       <td>SpeedyExpressFive</td>          <td>UnitedPackageFive</td>     <td>-40.3457</td>    <td>0.9</td>   <td>-737.1658</td> <td>656.4743</td>   <td>False</td>\n",
       "</tr>\n",
       "<tr>\n",
       "       <td>SpeedyExpressFive</td>          <td>UnitedPackageTen</td>       <td>76.0595</td>    <td>0.9</td>   <td>-599.8714</td> <td>751.9904</td>   <td>False</td>\n",
       "</tr>\n",
       "<tr>\n",
       "       <td>SpeedyExpressFive</td>         <td>UnitedPackageThirty</td>    <td>219.9608</td>    <td>0.9</td>   <td>-453.4454</td> <td>893.3671</td>   <td>False</td>\n",
       "</tr>\n",
       "<tr>\n",
       "       <td>SpeedyExpressFive</td>         <td>UnitedPackageTwenty</td>     <td>-24.044</td>    <td>0.9</td>   <td>-701.2747</td> <td>653.1867</td>   <td>False</td>\n",
       "</tr>\n",
       "<tr>\n",
       "       <td>SpeedyExpressFive</td>      <td>UnitedPackageTwenty_Five</td>   <td>54.7974</td>    <td>0.9</td>   <td>-605.2866</td> <td>714.8814</td>   <td>False</td>\n",
       "</tr>\n",
       "<tr>\n",
       "       <td>SpeedyExpressFive</td>          <td>UnitedPackageZero</td>     <td>588.9608</td>  <td>0.0507</td>   <td>-0.6894</td>  <td>1178.6111</td>  <td>False</td>\n",
       "</tr>\n",
       "<tr>\n",
       "       <td>SpeedyExpressTen</td>          <td>SpeedyExpressThirty</td>    <td>234.1319</td>    <td>0.9</td>   <td>-410.5597</td> <td>878.8234</td>   <td>False</td>\n",
       "</tr>\n",
       "<tr>\n",
       "       <td>SpeedyExpressTen</td>          <td>SpeedyExpressTwenty</td>    <td>-110.5028</td>   <td>0.9</td>   <td>-737.8607</td> <td>516.8551</td>   <td>False</td>\n",
       "</tr>\n",
       "<tr>\n",
       "       <td>SpeedyExpressTen</td>       <td>SpeedyExpressTwenty_Five</td>  <td>-13.1634</td>    <td>0.9</td>   <td>-634.8003</td> <td>608.4735</td>   <td>False</td>\n",
       "</tr>\n",
       "<tr>\n",
       "       <td>SpeedyExpressTen</td>           <td>SpeedyExpressZero</td>     <td>286.5412</td>    <td>0.9</td>   <td>-234.0047</td> <td>807.0871</td>   <td>False</td>\n",
       "</tr>\n",
       "<tr>\n",
       "       <td>SpeedyExpressTen</td>         <td>UnitedPackageFifteen</td>    <td>547.2703</td>  <td>0.0913</td>   <td>-31.53</td>   <td>1126.0707</td>  <td>False</td>\n",
       "</tr>\n",
       "<tr>\n",
       "       <td>SpeedyExpressTen</td>           <td>UnitedPackageFive</td>     <td>-122.2263</td>   <td>0.9</td>   <td>-747.6348</td> <td>503.1823</td>   <td>False</td>\n",
       "</tr>\n",
       "<tr>\n",
       "       <td>SpeedyExpressTen</td>           <td>UnitedPackageTen</td>       <td>-5.8211</td>    <td>0.9</td>   <td>-607.8677</td> <td>596.2256</td>   <td>False</td>\n",
       "</tr>\n",
       "<tr>\n",
       "       <td>SpeedyExpressTen</td>          <td>UnitedPackageThirty</td>    <td>138.0803</td>    <td>0.9</td>   <td>-461.1305</td> <td>737.2911</td>   <td>False</td>\n",
       "</tr>\n",
       "<tr>\n",
       "       <td>SpeedyExpressTen</td>          <td>UnitedPackageTwenty</td>    <td>-105.9245</td>   <td>0.9</td>   <td>-709.4301</td> <td>497.5811</td>   <td>False</td>\n",
       "</tr>\n",
       "<tr>\n",
       "       <td>SpeedyExpressTen</td>       <td>UnitedPackageTwenty_Five</td>  <td>-27.0831</td>    <td>0.9</td>   <td>-611.2821</td> <td>557.1159</td>   <td>False</td>\n",
       "</tr>\n",
       "<tr>\n",
       "       <td>SpeedyExpressTen</td>           <td>UnitedPackageZero</td>     <td>507.0803</td>  <td>0.0458</td>   <td>3.8259</td>   <td>1010.3347</td>  <td>True</td> \n",
       "</tr>\n",
       "<tr>\n",
       "      <td>SpeedyExpressThirty</td>        <td>SpeedyExpressTwenty</td>    <td>-344.6347</td>   <td>0.9</td>   <td>-983.3129</td> <td>294.0436</td>   <td>False</td>\n",
       "</tr>\n",
       "<tr>\n",
       "      <td>SpeedyExpressThirty</td>     <td>SpeedyExpressTwenty_Five</td>  <td>-247.2953</td>   <td>0.9</td>   <td>-880.3548</td> <td>385.7643</td>   <td>False</td>\n",
       "</tr>\n",
       "<tr>\n",
       "      <td>SpeedyExpressThirty</td>         <td>SpeedyExpressZero</td>      <td>52.4093</td>    <td>0.9</td>   <td>-481.7255</td> <td>586.5441</td>   <td>False</td>\n",
       "</tr>\n",
       "<tr>\n",
       "      <td>SpeedyExpressThirty</td>       <td>UnitedPackageFifteen</td>    <td>313.1385</td>    <td>0.9</td>   <td>-277.913</td>  <td>904.1899</td>   <td>False</td>\n",
       "</tr>\n",
       "<tr>\n",
       "      <td>SpeedyExpressThirty</td>         <td>UnitedPackageFive</td>     <td>-356.3581</td>   <td>0.9</td>   <td>-993.1216</td> <td>280.4054</td>   <td>False</td>\n",
       "</tr>\n",
       "<tr>\n",
       "      <td>SpeedyExpressThirty</td>         <td>UnitedPackageTen</td>      <td>-239.9529</td>   <td>0.9</td>   <td>-853.7869</td> <td>373.8811</td>   <td>False</td>\n",
       "</tr>\n",
       "<tr>\n",
       "      <td>SpeedyExpressThirty</td>        <td>UnitedPackageThirty</td>    <td>-96.0515</td>    <td>0.9</td>   <td>-707.1044</td> <td>515.0013</td>   <td>False</td>\n",
       "</tr>\n",
       "<tr>\n",
       "      <td>SpeedyExpressThirty</td>        <td>UnitedPackageTwenty</td>    <td>-340.0563</td>   <td>0.9</td>   <td>-955.3213</td> <td>275.2086</td>   <td>False</td>\n",
       "</tr>\n",
       "<tr>\n",
       "      <td>SpeedyExpressThirty</td>     <td>UnitedPackageTwenty_Five</td>  <td>-261.215</td>    <td>0.9</td>   <td>-857.5541</td> <td>335.1242</td>   <td>False</td>\n",
       "</tr>\n",
       "<tr>\n",
       "      <td>SpeedyExpressThirty</td>         <td>UnitedPackageZero</td>     <td>272.9485</td>    <td>0.9</td>   <td>-244.3493</td> <td>790.2462</td>   <td>False</td>\n",
       "</tr>\n",
       "<tr>\n",
       "      <td>SpeedyExpressTwenty</td>     <td>SpeedyExpressTwenty_Five</td>   <td>97.3394</td>    <td>0.9</td>   <td>-518.059</td>  <td>712.7378</td>   <td>False</td>\n",
       "</tr>\n",
       "<tr>\n",
       "      <td>SpeedyExpressTwenty</td>         <td>SpeedyExpressZero</td>      <td>397.044</td>  <td>0.4073</td>  <td>-116.0357</td> <td>910.1237</td>   <td>False</td>\n",
       "</tr>\n",
       "<tr>\n",
       "      <td>SpeedyExpressTwenty</td>       <td>UnitedPackageFifteen</td>    <td>657.7731</td>  <td>0.0071</td>   <td>85.6782</td>  <td>1229.8681</td>  <td>True</td> \n",
       "</tr>\n",
       "<tr>\n",
       "      <td>SpeedyExpressTwenty</td>         <td>UnitedPackageFive</td>     <td>-11.7235</td>    <td>0.9</td>   <td>-630.9315</td> <td>607.4846</td>   <td>False</td>\n",
       "</tr>\n",
       "<tr>\n",
       "      <td>SpeedyExpressTwenty</td>         <td>UnitedPackageTen</td>      <td>104.6817</td>    <td>0.9</td>   <td>-490.9213</td> <td>700.2848</td>   <td>False</td>\n",
       "</tr>\n",
       "<tr>\n",
       "      <td>SpeedyExpressTwenty</td>        <td>UnitedPackageThirty</td>    <td>248.5831</td>    <td>0.9</td>   <td>-344.1532</td> <td>841.3195</td>   <td>False</td>\n",
       "</tr>\n",
       "<tr>\n",
       "      <td>SpeedyExpressTwenty</td>        <td>UnitedPackageTwenty</td>     <td>4.5783</td>     <td>0.9</td>   <td>-592.4994</td>  <td>601.656</td>   <td>False</td>\n",
       "</tr>\n",
       "<tr>\n",
       "      <td>SpeedyExpressTwenty</td>     <td>UnitedPackageTwenty_Five</td>   <td>83.4197</td>    <td>0.9</td>   <td>-494.1366</td> <td>660.9759</td>   <td>False</td>\n",
       "</tr>\n",
       "<tr>\n",
       "      <td>SpeedyExpressTwenty</td>         <td>UnitedPackageZero</td>     <td>617.5831</td>  <td>0.0016</td>  <td>122.0554</td>  <td>1113.1109</td>  <td>True</td> \n",
       "</tr>\n",
       "<tr>\n",
       "   <td>SpeedyExpressTwenty_Five</td>       <td>SpeedyExpressZero</td>     <td>299.7046</td>  <td>0.8448</td>  <td>-206.3638</td>  <td>805.773</td>   <td>False</td>\n",
       "</tr>\n",
       "<tr>\n",
       "   <td>SpeedyExpressTwenty_Five</td>     <td>UnitedPackageFifteen</td>    <td>560.4337</td>   <td>0.056</td>   <td>-5.3816</td>  <td>1126.2491</td>  <td>False</td>\n",
       "</tr>\n",
       "<tr>\n",
       "   <td>SpeedyExpressTwenty_Five</td>       <td>UnitedPackageFive</td>     <td>-109.0628</td>   <td>0.9</td>   <td>-722.4738</td> <td>504.3481</td>   <td>False</td>\n",
       "</tr>\n",
       "<tr>\n",
       "   <td>SpeedyExpressTwenty_Five</td>       <td>UnitedPackageTen</td>       <td>7.3424</td>     <td>0.9</td>   <td>-582.2316</td> <td>596.9163</td>   <td>False</td>\n",
       "</tr>\n",
       "<tr>\n",
       "   <td>SpeedyExpressTwenty_Five</td>      <td>UnitedPackageThirty</td>    <td>151.2437</td>    <td>0.9</td>   <td>-435.4341</td> <td>737.9215</td>   <td>False</td>\n",
       "</tr>\n",
       "<tr>\n",
       "   <td>SpeedyExpressTwenty_Five</td>      <td>UnitedPackageTwenty</td>    <td>-92.7611</td>    <td>0.9</td>   <td>-683.8247</td> <td>498.3026</td>   <td>False</td>\n",
       "</tr>\n",
       "<tr>\n",
       "   <td>SpeedyExpressTwenty_Five</td>   <td>UnitedPackageTwenty_Five</td>  <td>-13.9197</td>    <td>0.9</td>   <td>-585.2564</td>  <td>557.417</td>   <td>False</td>\n",
       "</tr>\n",
       "<tr>\n",
       "   <td>SpeedyExpressTwenty_Five</td>       <td>UnitedPackageZero</td>     <td>520.2437</td>  <td>0.0224</td>   <td>31.9793</td>  <td>1008.5082</td>  <td>True</td> \n",
       "</tr>\n",
       "<tr>\n",
       "       <td>SpeedyExpressZero</td>        <td>UnitedPackageFifteen</td>    <td>260.7291</td>  <td>0.8825</td>  <td>-191.6895</td> <td>713.1478</td>   <td>False</td>\n",
       "</tr>\n",
       "<tr>\n",
       "       <td>SpeedyExpressZero</td>          <td>UnitedPackageFive</td>     <td>-408.7674</td> <td>0.3359</td>  <td>-919.4617</td> <td>101.9268</td>   <td>False</td>\n",
       "</tr>\n",
       "<tr>\n",
       "       <td>SpeedyExpressZero</td>          <td>UnitedPackageTen</td>      <td>-292.3623</td> <td>0.8104</td>  <td>-774.1641</td> <td>189.4396</td>   <td>False</td>\n",
       "</tr>\n",
       "<tr>\n",
       "       <td>SpeedyExpressZero</td>         <td>UnitedPackageThirty</td>    <td>-148.4609</td>   <td>0.9</td>   <td>-626.7144</td> <td>329.7926</td>   <td>False</td>\n",
       "</tr>\n",
       "<tr>\n",
       "       <td>SpeedyExpressZero</td>         <td>UnitedPackageTwenty</td>    <td>-392.4657</td> <td>0.3095</td>  <td>-876.0893</td>  <td>91.158</td>    <td>False</td>\n",
       "</tr>\n",
       "<tr>\n",
       "       <td>SpeedyExpressZero</td>      <td>UnitedPackageTwenty_Five</td>  <td>-313.6243</td> <td>0.6308</td>  <td>-772.9295</td> <td>145.6809</td>   <td>False</td>\n",
       "</tr>\n",
       "<tr>\n",
       "       <td>SpeedyExpressZero</td>          <td>UnitedPackageZero</td>     <td>220.5391</td>   <td>0.758</td>  <td>-130.0857</td>  <td>571.164</td>   <td>False</td>\n",
       "</tr>\n",
       "<tr>\n",
       "     <td>UnitedPackageFifteen</td>         <td>UnitedPackageFive</td>     <td>-669.4966</td> <td>0.0049</td> <td>-1239.4531</td>  <td>-99.54</td>    <td>True</td> \n",
       "</tr>\n",
       "<tr>\n",
       "     <td>UnitedPackageFifteen</td>         <td>UnitedPackageTen</td>      <td>-553.0914</td> <td>0.0414</td> <td>-1097.3108</td>  <td>-8.8719</td>   <td>True</td> \n",
       "</tr>\n",
       "<tr>\n",
       "     <td>UnitedPackageFifteen</td>        <td>UnitedPackageThirty</td>     <td>-409.19</td>  <td>0.4548</td>  <td>-950.2706</td> <td>131.8906</td>   <td>False</td>\n",
       "</tr>\n",
       "<tr>\n",
       "     <td>UnitedPackageFifteen</td>        <td>UnitedPackageTwenty</td>    <td>-653.1948</td> <td>0.0036</td> <td>-1199.0278</td> <td>-107.3618</td>  <td>True</td> \n",
       "</tr>\n",
       "<tr>\n",
       "     <td>UnitedPackageFifteen</td>     <td>UnitedPackageTwenty_Five</td>  <td>-574.3534</td> <td>0.0151</td> <td>-1098.7608</td> <td>-49.9461</td>   <td>True</td> \n",
       "</tr>\n",
       "<tr>\n",
       "     <td>UnitedPackageFifteen</td>         <td>UnitedPackageZero</td>      <td>-40.19</td>     <td>0.9</td>   <td>-472.6014</td> <td>392.2214</td>   <td>False</td>\n",
       "</tr>\n",
       "<tr>\n",
       "       <td>UnitedPackageFive</td>          <td>UnitedPackageTen</td>      <td>116.4052</td>    <td>0.9</td>   <td>-477.1441</td> <td>709.9545</td>   <td>False</td>\n",
       "</tr>\n",
       "<tr>\n",
       "       <td>UnitedPackageFive</td>         <td>UnitedPackageThirty</td>    <td>260.3066</td>    <td>0.9</td>   <td>-330.3661</td> <td>850.9793</td>   <td>False</td>\n",
       "</tr>\n",
       "<tr>\n",
       "       <td>UnitedPackageFive</td>         <td>UnitedPackageTwenty</td>     <td>16.3018</td>    <td>0.9</td>   <td>-578.7273</td> <td>611.3309</td>   <td>False</td>\n",
       "</tr>\n",
       "<tr>\n",
       "       <td>UnitedPackageFive</td>      <td>UnitedPackageTwenty_Five</td>   <td>95.1432</td>    <td>0.9</td>   <td>-480.295</td>  <td>670.5813</td>   <td>False</td>\n",
       "</tr>\n",
       "<tr>\n",
       "       <td>UnitedPackageFive</td>          <td>UnitedPackageZero</td>     <td>629.3066</td>   <td>0.001</td>  <td>136.2492</td>  <td>1122.364</td>   <td>True</td> \n",
       "</tr>\n",
       "<tr>\n",
       "       <td>UnitedPackageTen</td>          <td>UnitedPackageThirty</td>    <td>143.9014</td>    <td>0.9</td>   <td>-421.9772</td>  <td>709.78</td>    <td>False</td>\n",
       "</tr>\n",
       "<tr>\n",
       "       <td>UnitedPackageTen</td>          <td>UnitedPackageTwenty</td>    <td>-100.1034</td>   <td>0.9</td>   <td>-670.5278</td>  <td>470.321</td>   <td>False</td>\n",
       "</tr>\n",
       "<tr>\n",
       "       <td>UnitedPackageTen</td>       <td>UnitedPackageTwenty_Five</td>   <td>-21.262</td>    <td>0.9</td>   <td>-571.2197</td> <td>528.6956</td>   <td>False</td>\n",
       "</tr>\n",
       "<tr>\n",
       "       <td>UnitedPackageTen</td>           <td>UnitedPackageZero</td>     <td>512.9014</td>  <td>0.0128</td>   <td>49.8356</td>  <td>975.9672</td>   <td>True</td> \n",
       "</tr>\n",
       "<tr>\n",
       "      <td>UnitedPackageThirty</td>        <td>UnitedPackageTwenty</td>    <td>-244.0048</td>   <td>0.9</td>   <td>-811.4353</td> <td>323.4257</td>   <td>False</td>\n",
       "</tr>\n",
       "<tr>\n",
       "      <td>UnitedPackageThirty</td>     <td>UnitedPackageTwenty_Five</td>  <td>-165.1634</td>   <td>0.9</td>   <td>-712.0152</td> <td>381.6883</td>   <td>False</td>\n",
       "</tr>\n",
       "<tr>\n",
       "      <td>UnitedPackageThirty</td>         <td>UnitedPackageZero</td>       <td>369.0</td>   <td>0.3286</td>  <td>-90.3728</td>  <td>828.3728</td>   <td>False</td>\n",
       "</tr>\n",
       "<tr>\n",
       "      <td>UnitedPackageTwenty</td>     <td>UnitedPackageTwenty_Five</td>   <td>78.8414</td>    <td>0.9</td>   <td>-472.713</td>  <td>630.3958</td>   <td>False</td>\n",
       "</tr>\n",
       "<tr>\n",
       "      <td>UnitedPackageTwenty</td>         <td>UnitedPackageZero</td>     <td>613.0048</td>   <td>0.001</td>  <td>148.0437</td>  <td>1077.9659</td>  <td>True</td> \n",
       "</tr>\n",
       "<tr>\n",
       "   <td>UnitedPackageTwenty_Five</td>       <td>UnitedPackageZero</td>     <td>534.1634</td>  <td>0.0027</td>   <td>94.552</td>   <td>973.7749</td>   <td>True</td> \n",
       "</tr>\n",
       "</table>"
      ],
      "text/plain": [
       "<class 'statsmodels.iolib.table.SimpleTable'>"
      ]
     },
     "execution_count": 49,
     "metadata": {},
     "output_type": "execute_result"
    }
   ],
   "source": [
    "tukey_results = pairwise_tukeyhsd(df_str['ItemTotal'], df_str['CompanyName']+df_str['ReorderLevel'])\n",
    "tukey_results.summary()"
   ]
  },
  {
   "cell_type": "code",
   "execution_count": 50,
   "metadata": {},
   "outputs": [
    {
     "name": "stderr",
     "output_type": "stream",
     "text": [
      "C:\\Users\\eannefawcett\\Anaconda3\\envs\\learn-env\\lib\\site-packages\\ipykernel_launcher.py:7: UserWarning: Matplotlib is currently using module://ipykernel.pylab.backend_inline, which is a non-GUI backend, so cannot show the figure.\n",
      "  import sys\n"
     ]
    },
    {
     "data": {
      "image/png": "[encoded data removed]",
      "text/plain": [
       "<Figure size 720x432 with 1 Axes>"
      ]
     },
     "metadata": {
      "needs_background": "light"
     },
     "output_type": "display_data"
    }
   ],
   "source": [
    "# create figure\n",
    "fig06 = plt.figure(figsize=(5,4))\n",
    "ax = fig06.add_subplot(111)\n",
    "\n",
    "# run tukeys\n",
    "tukey_results = pairwise_tukeyhsd(df_str['ItemTotal'], df_str['CompanyName']+df_str['ReorderLevel'])\n",
    "tukey_plot = tukey_results.plot_simultaneous(ax=ax).show() \n",
    "\n",
    "# format plot\n",
    "ax.axes.set_title('Multiple Comparisions Between Shipping Companies and Level of Reorder')\n",
    "ax.axes.set_ylabel('Shipping Company and Level of Reorder')\n",
    "ax.axes.set_xlabel('Item Total')\n",
    "plt.show();"
   ]
  },
  {
   "cell_type": "markdown",
   "metadata": {},
   "source": [
    "# 2.3 Results<a id='Results'></a>"
   ]
  },
  {
   "cell_type": "markdown",
   "metadata": {},
   "source": [
    "# 2.4 Conclusions<a id='Conclusions'></a>\n",
    "\n",
    "- 2.4.1 Actionable Items and Insights\n",
    "- 2.4.2 Additional Visuals"
   ]
  },
  {
   "cell_type": "markdown",
   "metadata": {},
   "source": [
    "## 2.4.1 Actionable Items and Insights<a id='Actionable Items and Insights'></a>\n",
    "\n",
    "YES, REORDER LOWERS CUSTOMER SPENDING\n",
    "\n",
    "TRY TO MOVE CLIENTS TO A REORDER LEVEL OF 15; DISCOURAGE CLIENTS FROM A REORDER LEVEL OF 5"
   ]
  },
  {
   "cell_type": "markdown",
   "metadata": {},
   "source": [
    "## 2.4.2 Additional Visuals<a id='Additional Visuals'></a>"
   ]
  },
  {
   "cell_type": "markdown",
   "metadata": {},
   "source": [
    "# 2.5 Future Work<a id='Future Work'></a>"
   ]
  },
  {
   "cell_type": "markdown",
   "metadata": {},
   "source": [
    "Confirm that using a reorder level of 15 will be advantageous for the company."
   ]
  },
  {
   "cell_type": "markdown",
   "metadata": {},
   "source": [
    "# 2.6 References<a id='References'></a>\n",
    "https://en.wikipedia.org/wiki/Effect_size#Categorical_family:_Effect_sizes_for_associations_among_categorical_variables\n",
    "https://machinelearningmastery.com/chi-squared-test-for-machine-learning/\n",
    "https://gist.github.com/dtemkin/04e653c8f19e8ac0c4965b797ba2af2b"
   ]
  }
 ],
 "metadata": {
  "kernelspec": {
   "display_name": "learn-env",
   "language": "python",
   "name": "learn-env"
  },
  "language_info": {
   "codemirror_mode": {
    "name": "ipython",
    "version": 3
   },
   "file_extension": ".py",
   "mimetype": "text/x-python",
   "name": "python",
   "nbconvert_exporter": "python",
   "pygments_lexer": "ipython3",
   "version": "3.6.6"
  }
 },
 "nbformat": 4,
 "nbformat_minor": 2
}
