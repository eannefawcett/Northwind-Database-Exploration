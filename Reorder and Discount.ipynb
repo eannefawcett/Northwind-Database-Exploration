{
 "cells": [
  {
   "cell_type": "markdown",
   "metadata": {},
   "source": [
    "- conversation about type 1 and 2 errors\n",
    "- ANOVA tukey graph, talk about CI\n",
    "- address log transformation"
   ]
  },
  {
   "cell_type": "markdown",
   "metadata": {},
   "source": [
    "<img src='images/Northwind_ERD_updated.png.'>"
   ]
  },
  {
   "cell_type": "markdown",
   "metadata": {},
   "source": [
    "<a href='#2.0-Initial-Question'>**2.0 Initial Question**</a>\n",
    "\n",
    "<a href='#2.1-Initial-Hypothesis'>**2.1 Initial Hypothesis**</a>\n",
    "- <a href='#2.1.1-Null-Hypothesis'>2.1.1 Null Hypothesis</a>\n",
    "- <a href='#2.1.2-Alternative-Hypothesis'>2.1.2 Alternative Hypothesis</a>\n",
    "- <a href='#2.1.3-Features'>2.1.3 Features</a>\n",
    "- <a href='#2.1.4-Target-Variable'>2.1.4 Target Variable</a>\n",
    "\n",
    "<a href='#2.2-Methodology'>**2.2 Methodology**</a>\n",
    "- <a href='#2.2.1-Obtain-Data'>2.2.1 Obtain Data</a>\n",
    "- <a href='#2.2.2-Scrub-Data'>2.2.2 Scrub Data</a>\n",
    "    - <a href='#2.2.2.1-Manage-n/a-data-types'>2.2.2.1 Manage n/a data types</a>\n",
    "    - <a href='#2.2.2.2-Remove-duplicate-data'>2.2.2.2 Remove duplicate data</a>\n",
    "    - <a href='#2.2.2.3-Manage-data-types'>2.2.2.3 Manage data types</a>\n",
    "    - <a href='#2.2.2.4-Remove-outliers'>2.2.2.4 Remove outliers</a>\n",
    "- <a href='#2.2.3-Explore-Data'>2.2.3 Explore Data</a>\n",
    "    - <a href='#2.2.3.1-Visualize-data'>2.2.3.1 Visualize data</a>\n",
    "    - <a href='#2.2.3.2-Transform-data'>2.2.3.2 Transform data</a>\n",
    "    - <a href='#2.2.3.3-Sort-data-/-Prepare-data-for-testing'>2.2.3.3 Sort data / Prepare data for testing</a>\n",
    "    - <a href='#2.2.3.4-Develop-feature'>2.2.3.4 Develop Feature</a>\n",
    "- <a href='#2.2.4-Model-Data'>2.2.4 Model Data</a>\n",
    "    - <a href='#2.2.4.1-Check-for-data-normality'>2.2.4.1 Check for data normality</a>\n",
    "    - <a href='#2.2.4.2-Standard-deviation-and-other-basic-statistics'>2.2.4.2 Standard deviation and other basic statistics</a>\n",
    "    - <a href='#2.2.4.3-Statistical-test'>2.2.4.3 Statistical test</a>\n",
    "    - <a href='#2.2.4.4-Verification-techniques'>2.2.4.4 Verification techniques</a>\n",
    "        - <a href='#2.2.4.4.1-Nonparametric-testing-and-confirmatory-testing'>2.2.4.4.1 Nonparametric testing</a>\n",
    "        - <a href='#2.2.4.4.2-Effect-size'>2.2.4.4.2 Effect size</a>\n",
    "        - <a href='#2.2.4.4.3-Error'>2.2.4.4.3 Error</a>\n",
    "- <a href='#2.2.5-Interpret-Model'>2.2.5 Interpret Model</a>\n",
    "    - <a href='#2.2.5.1-Extension-of-acquired-knowledge'>2.2.5.1 Extension of acquired knowledge</a>\n",
    "    \n",
    "<a href='#2.3-Results'>**2.3 Results**</a>\n",
    "\n",
    "<a href='#2.4-Conclusions'>**2.4 Conclusions**</a>\n",
    "\n",
    "- <a href='#2.4.1-Actionable-Items-and-Insights'>2.4.1 Actionable Items and Insights</a>\n",
    "- <a href='#2.4.2-Additional-Visuals'>2.4.2 Additional Visuals</a>\n",
    "\n",
    "<a href='#2.5-Future-Work'>**2.5 Future Work**</a>\n",
    "\n",
    "<a href='#2.6-References'>**2.6 References**</a>"
   ]
  },
  {
   "cell_type": "markdown",
   "metadata": {},
   "source": [
    "# 2.0 Initial Question<a id='Initial Question'></a>"
   ]
  },
  {
   "cell_type": "markdown",
   "metadata": {},
   "source": [
    "### Does reorder and shipping company affect customer spending on an order? Which shipping company is best for what level of reorder?"
   ]
  },
  {
   "cell_type": "markdown",
   "metadata": {},
   "source": [
    "# 2.1 Initial Hypothesis<a id='Initial Hypothesis'></a>"
   ]
  },
  {
   "cell_type": "markdown",
   "metadata": {},
   "source": [
    "### 2.1.1 Null Hypothesis<a id='Null Hypothesis'></a>"
   ]
  },
  {
   "cell_type": "markdown",
   "metadata": {},
   "source": [
    "H0: no effect - there is no change to spending based on reorder or frieght costs"
   ]
  },
  {
   "cell_type": "markdown",
   "metadata": {},
   "source": [
    "### 2.1.2 Alternative Hypothesis<a id='Alternative Hypothesis'></a>"
   ]
  },
  {
   "cell_type": "markdown",
   "metadata": {},
   "source": [
    "HA: there is an effect - there is a change to spending based on reorder or frieght costs"
   ]
  },
  {
   "cell_type": "markdown",
   "metadata": {},
   "source": [
    "### 2.1.3 Features<a id='Features'></a>"
   ]
  },
  {
   "cell_type": "markdown",
   "metadata": {},
   "source": [
    ": spending"
   ]
  },
  {
   "cell_type": "markdown",
   "metadata": {},
   "source": [
    "### 2.1.4 Target Variable<a id='Target Variable'></a>"
   ]
  },
  {
   "cell_type": "markdown",
   "metadata": {},
   "source": [
    ": reorder/frieght"
   ]
  },
  {
   "cell_type": "markdown",
   "metadata": {},
   "source": [
    "# 2.2 Methodology<a id='Methodology'></a>\n",
    "\n",
    "To evaluate, I have chosen to use the following steps:\n",
    "- 2.2.1 Obtain Data\n",
    "- 2.2.2 Scrub Data\n",
    "- 2.2.3 Explore Data\n",
    "- 2.2.4 Model Data\n",
    "- 2.2.5 Interpret Model\n",
    "\n",
    "I have found that the OSEMN method explains the data science process, and gives context to exploring data."
   ]
  },
  {
   "cell_type": "markdown",
   "metadata": {},
   "source": [
    "## 2.2.1 Obtain Data<a id='Obtain Data'></a>"
   ]
  },
  {
   "cell_type": "code",
   "execution_count": 1,
   "metadata": {},
   "outputs": [],
   "source": [
    "# develop class\n",
    "pass"
   ]
  },
  {
   "cell_type": "code",
   "execution_count": 2,
   "metadata": {},
   "outputs": [],
   "source": [
    "# import py file\n",
    "from classes import Pvalue"
   ]
  },
  {
   "cell_type": "code",
   "execution_count": 3,
   "metadata": {},
   "outputs": [],
   "source": [
    "# import libraries\n",
    "import pandas as pd\n",
    "import sqlite3\n",
    "\n",
    "import numpy as np\n",
    "from numpy import std, mean, sqrt\n",
    "import scipy.stats as stats\n",
    "from scipy.stats import wilcoxon\n",
    "from scipy.stats import chisquare\n",
    "from statsmodels.stats.power import tt_ind_solve_power\n",
    "import statsmodels.api as sm\n",
    "from statsmodels.formula.api import ols\n",
    "from statsmodels.stats.multicomp import pairwise_tukeyhsd\n",
    "\n",
    "import matplotlib.pyplot as plt\n",
    "%matplotlib inline\n",
    "# plt.style.use('Solarize_Light2')\n",
    "import seaborn as sns\n",
    "\n",
    "idx = pd.IndexSlice"
   ]
  },
  {
   "cell_type": "code",
   "execution_count": 4,
   "metadata": {},
   "outputs": [
    {
     "data": {
      "text/html": [
       "<div>\n",
       "<style scoped>\n",
       "    .dataframe tbody tr th:only-of-type {\n",
       "        vertical-align: middle;\n",
       "    }\n",
       "\n",
       "    .dataframe tbody tr th {\n",
       "        vertical-align: top;\n",
       "    }\n",
       "\n",
       "    .dataframe thead th {\n",
       "        text-align: right;\n",
       "    }\n",
       "</style>\n",
       "<table border=\"1\" class=\"dataframe\">\n",
       "  <thead>\n",
       "    <tr style=\"text-align: right;\">\n",
       "      <th></th>\n",
       "      <th>Id</th>\n",
       "      <th>OrderDate</th>\n",
       "      <th>Freight</th>\n",
       "      <th>ReorderLevel</th>\n",
       "      <th>ItemTotal</th>\n",
       "      <th>ProductId</th>\n",
       "      <th>Discount</th>\n",
       "      <th>CompanyName</th>\n",
       "    </tr>\n",
       "  </thead>\n",
       "  <tbody>\n",
       "    <tr>\n",
       "      <th>0</th>\n",
       "      <td>10248</td>\n",
       "      <td>2012-07-04</td>\n",
       "      <td>32.38</td>\n",
       "      <td>30</td>\n",
       "      <td>252.00</td>\n",
       "      <td>11</td>\n",
       "      <td>0.0</td>\n",
       "      <td>Federal Shipping</td>\n",
       "    </tr>\n",
       "    <tr>\n",
       "      <th>1</th>\n",
       "      <td>10248</td>\n",
       "      <td>2012-07-04</td>\n",
       "      <td>32.38</td>\n",
       "      <td>0</td>\n",
       "      <td>140.00</td>\n",
       "      <td>42</td>\n",
       "      <td>0.0</td>\n",
       "      <td>Federal Shipping</td>\n",
       "    </tr>\n",
       "    <tr>\n",
       "      <th>2</th>\n",
       "      <td>10248</td>\n",
       "      <td>2012-07-04</td>\n",
       "      <td>32.38</td>\n",
       "      <td>0</td>\n",
       "      <td>174.00</td>\n",
       "      <td>72</td>\n",
       "      <td>0.0</td>\n",
       "      <td>Federal Shipping</td>\n",
       "    </tr>\n",
       "    <tr>\n",
       "      <th>3</th>\n",
       "      <td>10249</td>\n",
       "      <td>2012-07-05</td>\n",
       "      <td>11.61</td>\n",
       "      <td>0</td>\n",
       "      <td>209.25</td>\n",
       "      <td>14</td>\n",
       "      <td>0.0</td>\n",
       "      <td>Speedy Express</td>\n",
       "    </tr>\n",
       "    <tr>\n",
       "      <th>4</th>\n",
       "      <td>10249</td>\n",
       "      <td>2012-07-05</td>\n",
       "      <td>11.61</td>\n",
       "      <td>10</td>\n",
       "      <td>2120.00</td>\n",
       "      <td>51</td>\n",
       "      <td>0.0</td>\n",
       "      <td>Speedy Express</td>\n",
       "    </tr>\n",
       "  </tbody>\n",
       "</table>\n",
       "</div>"
      ],
      "text/plain": [
       "      Id   OrderDate  Freight  ReorderLevel  ItemTotal  ProductId  Discount  \\\n",
       "0  10248  2012-07-04    32.38            30     252.00         11       0.0   \n",
       "1  10248  2012-07-04    32.38             0     140.00         42       0.0   \n",
       "2  10248  2012-07-04    32.38             0     174.00         72       0.0   \n",
       "3  10249  2012-07-05    11.61             0     209.25         14       0.0   \n",
       "4  10249  2012-07-05    11.61            10    2120.00         51       0.0   \n",
       "\n",
       "        CompanyName  \n",
       "0  Federal Shipping  \n",
       "1  Federal Shipping  \n",
       "2  Federal Shipping  \n",
       "3    Speedy Express  \n",
       "4    Speedy Express  "
      ]
     },
     "execution_count": 4,
     "metadata": {},
     "output_type": "execute_result"
    }
   ],
   "source": [
    "# import data\n",
    "conn = sqlite3.Connection('Northwind_small.sqlite')\n",
    "cur = conn.cursor()\n",
    "\n",
    "# All data\n",
    "cur.execute(\"\"\"SELECT 'Order'.Id, OrderDate, Freight, ReorderLevel, Product.UnitPrice*Quantity as ItemTotal, OrderDetail.ProductId, OrderDetail.Discount, Shipper.CompanyName\n",
    "               FROM OrderDetail\n",
    "               LEFT JOIN 'Order' ON OrderDetail.OrderID = 'Order'.Id\n",
    "               JOIN Product ON OrderDetail.ProductId = Product.Id\n",
    "               JOIN Shipper ON 'Order'.ShipVia = Shipper.Id\n",
    "               ;\"\"\")\n",
    "df = pd.DataFrame(cur.fetchall())\n",
    "df.columns = [x[0] for x in cur.description]\n",
    "df.head()"
   ]
  },
  {
   "cell_type": "code",
   "execution_count": 5,
   "metadata": {},
   "outputs": [
    {
     "data": {
      "text/html": [
       "<div>\n",
       "<style scoped>\n",
       "    .dataframe tbody tr th:only-of-type {\n",
       "        vertical-align: middle;\n",
       "    }\n",
       "\n",
       "    .dataframe tbody tr th {\n",
       "        vertical-align: top;\n",
       "    }\n",
       "\n",
       "    .dataframe thead th {\n",
       "        text-align: right;\n",
       "    }\n",
       "</style>\n",
       "<table border=\"1\" class=\"dataframe\">\n",
       "  <thead>\n",
       "    <tr style=\"text-align: right;\">\n",
       "      <th></th>\n",
       "      <th></th>\n",
       "      <th></th>\n",
       "      <th></th>\n",
       "      <th>OrderDate</th>\n",
       "      <th>Freight</th>\n",
       "      <th>ItemTotal</th>\n",
       "      <th>Discount</th>\n",
       "    </tr>\n",
       "    <tr>\n",
       "      <th>Id</th>\n",
       "      <th>ProductId</th>\n",
       "      <th>ReorderLevel</th>\n",
       "      <th>CompanyName</th>\n",
       "      <th></th>\n",
       "      <th></th>\n",
       "      <th></th>\n",
       "      <th></th>\n",
       "    </tr>\n",
       "  </thead>\n",
       "  <tbody>\n",
       "    <tr>\n",
       "      <th rowspan=\"3\" valign=\"top\">10248</th>\n",
       "      <th>11</th>\n",
       "      <th>30</th>\n",
       "      <th>Federal Shipping</th>\n",
       "      <td>2012-07-04</td>\n",
       "      <td>32.38</td>\n",
       "      <td>252.00</td>\n",
       "      <td>0.0</td>\n",
       "    </tr>\n",
       "    <tr>\n",
       "      <th>42</th>\n",
       "      <th>0</th>\n",
       "      <th>Federal Shipping</th>\n",
       "      <td>2012-07-04</td>\n",
       "      <td>32.38</td>\n",
       "      <td>140.00</td>\n",
       "      <td>0.0</td>\n",
       "    </tr>\n",
       "    <tr>\n",
       "      <th>72</th>\n",
       "      <th>0</th>\n",
       "      <th>Federal Shipping</th>\n",
       "      <td>2012-07-04</td>\n",
       "      <td>32.38</td>\n",
       "      <td>174.00</td>\n",
       "      <td>0.0</td>\n",
       "    </tr>\n",
       "    <tr>\n",
       "      <th rowspan=\"2\" valign=\"top\">10249</th>\n",
       "      <th>14</th>\n",
       "      <th>0</th>\n",
       "      <th>Speedy Express</th>\n",
       "      <td>2012-07-05</td>\n",
       "      <td>11.61</td>\n",
       "      <td>209.25</td>\n",
       "      <td>0.0</td>\n",
       "    </tr>\n",
       "    <tr>\n",
       "      <th>51</th>\n",
       "      <th>10</th>\n",
       "      <th>Speedy Express</th>\n",
       "      <td>2012-07-05</td>\n",
       "      <td>11.61</td>\n",
       "      <td>2120.00</td>\n",
       "      <td>0.0</td>\n",
       "    </tr>\n",
       "  </tbody>\n",
       "</table>\n",
       "</div>"
      ],
      "text/plain": [
       "                                                OrderDate  Freight  ItemTotal  \\\n",
       "Id    ProductId ReorderLevel CompanyName                                        \n",
       "10248 11        30           Federal Shipping  2012-07-04    32.38     252.00   \n",
       "      42        0            Federal Shipping  2012-07-04    32.38     140.00   \n",
       "      72        0            Federal Shipping  2012-07-04    32.38     174.00   \n",
       "10249 14        0            Speedy Express    2012-07-05    11.61     209.25   \n",
       "      51        10           Speedy Express    2012-07-05    11.61    2120.00   \n",
       "\n",
       "                                               Discount  \n",
       "Id    ProductId ReorderLevel CompanyName                 \n",
       "10248 11        30           Federal Shipping       0.0  \n",
       "      42        0            Federal Shipping       0.0  \n",
       "      72        0            Federal Shipping       0.0  \n",
       "10249 14        0            Speedy Express         0.0  \n",
       "      51        10           Speedy Express         0.0  "
      ]
     },
     "execution_count": 5,
     "metadata": {},
     "output_type": "execute_result"
    }
   ],
   "source": [
    "multi = df.copy(deep=True)\n",
    "mulit = multi.set_index(['Id', 'ProductId', 'ReorderLevel', 'CompanyName'], inplace=True)\n",
    "multi.head()"
   ]
  },
  {
   "cell_type": "markdown",
   "metadata": {},
   "source": [
    "Initial observations of data go here"
   ]
  },
  {
   "cell_type": "markdown",
   "metadata": {},
   "source": [
    "## 2.2.2 Scrub Data<a id='Scrub Data'></a>\n",
    "\n",
    "The following scrubbing techniques were applied to the original data:\n",
    "- 2.2.2.1 Manage n/a data types\n",
    "- 2.2.2.2 Remove duplicate rows\n",
    "- 2.2.2.3 Manage data types\n",
    "- 2.2.2.4 Remove outliers"
   ]
  },
  {
   "cell_type": "markdown",
   "metadata": {},
   "source": [
    "### 2.2.2.1 Manage n/a data types<a id='Manage n/a data types'></a>"
   ]
  },
  {
   "cell_type": "code",
   "execution_count": 6,
   "metadata": {},
   "outputs": [
    {
     "name": "stdout",
     "output_type": "stream",
     "text": [
      "2155\n"
     ]
    },
    {
     "data": {
      "text/plain": [
       "Id              0\n",
       "OrderDate       0\n",
       "Freight         0\n",
       "ReorderLevel    0\n",
       "ItemTotal       0\n",
       "ProductId       0\n",
       "Discount        0\n",
       "CompanyName     0\n",
       "dtype: int64"
      ]
     },
     "execution_count": 6,
     "metadata": {},
     "output_type": "execute_result"
    }
   ],
   "source": [
    "# nans identification\n",
    "print(len(df))\n",
    "df.isna().sum()"
   ]
  },
  {
   "cell_type": "markdown",
   "metadata": {},
   "source": [
    "### 2.2.2.2 Remove duplicate data<a id='Remove duplicate data'></a>"
   ]
  },
  {
   "cell_type": "code",
   "execution_count": 7,
   "metadata": {},
   "outputs": [
    {
     "name": "stdout",
     "output_type": "stream",
     "text": [
      "duplicated rows: 0\n"
     ]
    }
   ],
   "source": [
    "# identification of duplicate data\n",
    "print('duplicated rows: ' + str(df.duplicated().sum()))"
   ]
  },
  {
   "cell_type": "code",
   "execution_count": 8,
   "metadata": {},
   "outputs": [],
   "source": [
    "# code to drop duplicate row if necessary\n",
    "# df.drop_duplicates(inplace=True)\n",
    "# print('duplicated rows: ' + str(df.duplicated().sum()))"
   ]
  },
  {
   "cell_type": "markdown",
   "metadata": {},
   "source": [
    "### 2.2.2.3 Manage data types<a id='Manage data types'></a>"
   ]
  },
  {
   "cell_type": "code",
   "execution_count": 9,
   "metadata": {},
   "outputs": [
    {
     "name": "stdout",
     "output_type": "stream",
     "text": [
      "<class 'pandas.core.frame.DataFrame'>\n",
      "RangeIndex: 2155 entries, 0 to 2154\n",
      "Data columns (total 8 columns):\n",
      "Id              2155 non-null int64\n",
      "OrderDate       2155 non-null object\n",
      "Freight         2155 non-null float64\n",
      "ReorderLevel    2155 non-null int64\n",
      "ItemTotal       2155 non-null float64\n",
      "ProductId       2155 non-null int64\n",
      "Discount        2155 non-null float64\n",
      "CompanyName     2155 non-null object\n",
      "dtypes: float64(3), int64(3), object(2)\n",
      "memory usage: 134.8+ KB\n"
     ]
    }
   ],
   "source": [
    "# data type identification\n",
    "df.info()"
   ]
  },
  {
   "cell_type": "code",
   "execution_count": 10,
   "metadata": {},
   "outputs": [],
   "source": [
    "# correction to data type if necessary\n",
    "# df['CompanyName'] = df['CompanyName'].astype('category')"
   ]
  },
  {
   "cell_type": "code",
   "execution_count": 11,
   "metadata": {},
   "outputs": [
    {
     "name": "stdout",
     "output_type": "stream",
     "text": [
      "<class 'pandas.core.frame.DataFrame'>\n",
      "RangeIndex: 2155 entries, 0 to 2154\n",
      "Data columns (total 8 columns):\n",
      "Id              2155 non-null int64\n",
      "OrderDate       2155 non-null object\n",
      "Freight         2155 non-null float64\n",
      "ReorderLevel    2155 non-null int64\n",
      "ItemTotal       2155 non-null float64\n",
      "ProductId       2155 non-null int64\n",
      "Discount        2155 non-null float64\n",
      "CompanyName     2155 non-null object\n",
      "dtypes: float64(3), int64(3), object(2)\n",
      "memory usage: 134.8+ KB\n"
     ]
    }
   ],
   "source": [
    "# verification of correction to data type\n",
    "df.info()"
   ]
  },
  {
   "cell_type": "markdown",
   "metadata": {},
   "source": [
    "### 2.2.2.4 Remove outliers<a id='Remove outliers'></a>"
   ]
  },
  {
   "cell_type": "markdown",
   "metadata": {},
   "source": [
    "## 2.2.3 Explore Data<a id='Explore Data'></a>\n",
    "\n",
    "For a quick preview of what we have to work with, we'll use the describe method.\n",
    "\n",
    "- 2.2.3.1 Visualize data\n",
    "- 2.2.3.2 Transform data\n",
    "- 2.2.3.3 Sort data / Prepare data for testing\n",
    "- 2.2.3.4 Develop Feature"
   ]
  },
  {
   "cell_type": "markdown",
   "metadata": {},
   "source": [
    "### 2.2.3.1 Visualize data<a id='Visualize data'></a>"
   ]
  },
  {
   "cell_type": "code",
   "execution_count": 12,
   "metadata": {},
   "outputs": [
    {
     "data": {
      "text/html": [
       "<div>\n",
       "<style scoped>\n",
       "    .dataframe tbody tr th:only-of-type {\n",
       "        vertical-align: middle;\n",
       "    }\n",
       "\n",
       "    .dataframe tbody tr th {\n",
       "        vertical-align: top;\n",
       "    }\n",
       "\n",
       "    .dataframe thead th {\n",
       "        text-align: right;\n",
       "    }\n",
       "</style>\n",
       "<table border=\"1\" class=\"dataframe\">\n",
       "  <thead>\n",
       "    <tr style=\"text-align: right;\">\n",
       "      <th></th>\n",
       "      <th>Id</th>\n",
       "      <th>Freight</th>\n",
       "      <th>ReorderLevel</th>\n",
       "      <th>ItemTotal</th>\n",
       "      <th>ProductId</th>\n",
       "      <th>Discount</th>\n",
       "    </tr>\n",
       "  </thead>\n",
       "  <tbody>\n",
       "    <tr>\n",
       "      <th>count</th>\n",
       "      <td>2155.000000</td>\n",
       "      <td>2155.000000</td>\n",
       "      <td>2155.000000</td>\n",
       "      <td>2155.000000</td>\n",
       "      <td>2155.000000</td>\n",
       "      <td>2155.000000</td>\n",
       "    </tr>\n",
       "    <tr>\n",
       "      <th>mean</th>\n",
       "      <td>10659.375870</td>\n",
       "      <td>96.197726</td>\n",
       "      <td>11.900232</td>\n",
       "      <td>672.560237</td>\n",
       "      <td>40.793039</td>\n",
       "      <td>0.056167</td>\n",
       "    </tr>\n",
       "    <tr>\n",
       "      <th>std</th>\n",
       "      <td>241.378032</td>\n",
       "      <td>133.011272</td>\n",
       "      <td>10.791421</td>\n",
       "      <td>1110.261427</td>\n",
       "      <td>22.159019</td>\n",
       "      <td>0.083450</td>\n",
       "    </tr>\n",
       "    <tr>\n",
       "      <th>min</th>\n",
       "      <td>10248.000000</td>\n",
       "      <td>0.020000</td>\n",
       "      <td>0.000000</td>\n",
       "      <td>6.000000</td>\n",
       "      <td>1.000000</td>\n",
       "      <td>0.000000</td>\n",
       "    </tr>\n",
       "    <tr>\n",
       "      <th>25%</th>\n",
       "      <td>10451.000000</td>\n",
       "      <td>19.610000</td>\n",
       "      <td>0.000000</td>\n",
       "      <td>170.500000</td>\n",
       "      <td>22.000000</td>\n",
       "      <td>0.000000</td>\n",
       "    </tr>\n",
       "    <tr>\n",
       "      <th>50%</th>\n",
       "      <td>10657.000000</td>\n",
       "      <td>53.800000</td>\n",
       "      <td>10.000000</td>\n",
       "      <td>380.000000</td>\n",
       "      <td>41.000000</td>\n",
       "      <td>0.000000</td>\n",
       "    </tr>\n",
       "    <tr>\n",
       "      <th>75%</th>\n",
       "      <td>10862.500000</td>\n",
       "      <td>120.920000</td>\n",
       "      <td>20.000000</td>\n",
       "      <td>760.000000</td>\n",
       "      <td>60.000000</td>\n",
       "      <td>0.100000</td>\n",
       "    </tr>\n",
       "    <tr>\n",
       "      <th>max</th>\n",
       "      <td>11077.000000</td>\n",
       "      <td>1007.640000</td>\n",
       "      <td>30.000000</td>\n",
       "      <td>15810.000000</td>\n",
       "      <td>77.000000</td>\n",
       "      <td>0.250000</td>\n",
       "    </tr>\n",
       "  </tbody>\n",
       "</table>\n",
       "</div>"
      ],
      "text/plain": [
       "                 Id      Freight  ReorderLevel     ItemTotal    ProductId  \\\n",
       "count   2155.000000  2155.000000   2155.000000   2155.000000  2155.000000   \n",
       "mean   10659.375870    96.197726     11.900232    672.560237    40.793039   \n",
       "std      241.378032   133.011272     10.791421   1110.261427    22.159019   \n",
       "min    10248.000000     0.020000      0.000000      6.000000     1.000000   \n",
       "25%    10451.000000    19.610000      0.000000    170.500000    22.000000   \n",
       "50%    10657.000000    53.800000     10.000000    380.000000    41.000000   \n",
       "75%    10862.500000   120.920000     20.000000    760.000000    60.000000   \n",
       "max    11077.000000  1007.640000     30.000000  15810.000000    77.000000   \n",
       "\n",
       "          Discount  \n",
       "count  2155.000000  \n",
       "mean      0.056167  \n",
       "std       0.083450  \n",
       "min       0.000000  \n",
       "25%       0.000000  \n",
       "50%       0.000000  \n",
       "75%       0.100000  \n",
       "max       0.250000  "
      ]
     },
     "execution_count": 12,
     "metadata": {},
     "output_type": "execute_result"
    }
   ],
   "source": [
    "# describe data\n",
    "df.describe()"
   ]
  },
  {
   "cell_type": "code",
   "execution_count": 13,
   "metadata": {},
   "outputs": [
    {
     "data": {
      "image/png": "[encoded data removed]",
      "text/plain": [
       "<Figure size 1440x1440 with 6 Axes>"
      ]
     },
     "metadata": {
      "needs_background": "light"
     },
     "output_type": "display_data"
    }
   ],
   "source": [
    "# visualize data\n",
    "df.hist(figsize=(20,20));"
   ]
  },
  {
   "cell_type": "markdown",
   "metadata": {},
   "source": [
    "### 2.2.3.2 Transform data<a id='Transform data'></a>"
   ]
  },
  {
   "cell_type": "code",
   "execution_count": 14,
   "metadata": {},
   "outputs": [
    {
     "data": {
      "image/png": "[encoded data removed]",
      "text/plain": [
       "<Figure size 432x288 with 1 Axes>"
      ]
     },
     "metadata": {
      "needs_background": "light"
     },
     "output_type": "display_data"
    }
   ],
   "source": [
    "df['ItemTotal'] = df['ItemTotal'].map(lambda x: np.log(x))\n",
    "df.ItemTotal.hist();\n",
    "\n",
    "# for inverse\n",
    "# df['ItemTotal'] = df['ItemTotal'].map(lambda x: np.log(np.exp(x)))\n",
    "# df.ItemTotal.hist()"
   ]
  },
  {
   "cell_type": "markdown",
   "metadata": {},
   "source": [
    "### 2.2.3.3 Sort data / Prepare data for testing<a id='Sort data'></a>"
   ]
  },
  {
   "cell_type": "code",
   "execution_count": 15,
   "metadata": {
    "scrolled": true
   },
   "outputs": [
    {
     "data": {
      "text/html": [
       "<div>\n",
       "<style scoped>\n",
       "    .dataframe tbody tr th:only-of-type {\n",
       "        vertical-align: middle;\n",
       "    }\n",
       "\n",
       "    .dataframe tbody tr th {\n",
       "        vertical-align: top;\n",
       "    }\n",
       "\n",
       "    .dataframe thead th {\n",
       "        text-align: right;\n",
       "    }\n",
       "</style>\n",
       "<table border=\"1\" class=\"dataframe\">\n",
       "  <thead>\n",
       "    <tr style=\"text-align: right;\">\n",
       "      <th></th>\n",
       "      <th>Id</th>\n",
       "      <th>OrderDate</th>\n",
       "      <th>Freight</th>\n",
       "      <th>ReorderLevel</th>\n",
       "      <th>ItemTotal</th>\n",
       "      <th>ProductId</th>\n",
       "      <th>Discount</th>\n",
       "      <th>CompanyName</th>\n",
       "    </tr>\n",
       "  </thead>\n",
       "  <tbody>\n",
       "    <tr>\n",
       "      <th>0</th>\n",
       "      <td>10248</td>\n",
       "      <td>2012-07-04</td>\n",
       "      <td>32.38</td>\n",
       "      <td>30</td>\n",
       "      <td>5.529429</td>\n",
       "      <td>11</td>\n",
       "      <td>0.00</td>\n",
       "      <td>Federal Shipping</td>\n",
       "    </tr>\n",
       "    <tr>\n",
       "      <th>4</th>\n",
       "      <td>10249</td>\n",
       "      <td>2012-07-05</td>\n",
       "      <td>11.61</td>\n",
       "      <td>10</td>\n",
       "      <td>7.659171</td>\n",
       "      <td>51</td>\n",
       "      <td>0.00</td>\n",
       "      <td>Speedy Express</td>\n",
       "    </tr>\n",
       "    <tr>\n",
       "      <th>5</th>\n",
       "      <td>10250</td>\n",
       "      <td>2012-07-08</td>\n",
       "      <td>65.83</td>\n",
       "      <td>10</td>\n",
       "      <td>4.569543</td>\n",
       "      <td>41</td>\n",
       "      <td>0.00</td>\n",
       "      <td>United Package</td>\n",
       "    </tr>\n",
       "    <tr>\n",
       "      <th>6</th>\n",
       "      <td>10250</td>\n",
       "      <td>2012-07-08</td>\n",
       "      <td>65.83</td>\n",
       "      <td>10</td>\n",
       "      <td>7.525640</td>\n",
       "      <td>51</td>\n",
       "      <td>0.15</td>\n",
       "      <td>United Package</td>\n",
       "    </tr>\n",
       "    <tr>\n",
       "      <th>8</th>\n",
       "      <td>10251</td>\n",
       "      <td>2012-07-08</td>\n",
       "      <td>41.34</td>\n",
       "      <td>25</td>\n",
       "      <td>4.836282</td>\n",
       "      <td>22</td>\n",
       "      <td>0.05</td>\n",
       "      <td>Speedy Express</td>\n",
       "    </tr>\n",
       "  </tbody>\n",
       "</table>\n",
       "</div>"
      ],
      "text/plain": [
       "      Id   OrderDate  Freight  ReorderLevel  ItemTotal  ProductId  Discount  \\\n",
       "0  10248  2012-07-04    32.38            30   5.529429         11      0.00   \n",
       "4  10249  2012-07-05    11.61            10   7.659171         51      0.00   \n",
       "5  10250  2012-07-08    65.83            10   4.569543         41      0.00   \n",
       "6  10250  2012-07-08    65.83            10   7.525640         51      0.15   \n",
       "8  10251  2012-07-08    41.34            25   4.836282         22      0.05   \n",
       "\n",
       "        CompanyName  \n",
       "0  Federal Shipping  \n",
       "4    Speedy Express  \n",
       "5    United Package  \n",
       "6    United Package  \n",
       "8    Speedy Express  "
      ]
     },
     "execution_count": 15,
     "metadata": {},
     "output_type": "execute_result"
    }
   ],
   "source": [
    "# sort data\n",
    "df_reorder = df[df['ReorderLevel'] != 0]\n",
    "df_reorder.head()"
   ]
  },
  {
   "cell_type": "code",
   "execution_count": 16,
   "metadata": {},
   "outputs": [
    {
     "data": {
      "text/html": [
       "<div>\n",
       "<style scoped>\n",
       "    .dataframe tbody tr th:only-of-type {\n",
       "        vertical-align: middle;\n",
       "    }\n",
       "\n",
       "    .dataframe tbody tr th {\n",
       "        vertical-align: top;\n",
       "    }\n",
       "\n",
       "    .dataframe thead th {\n",
       "        text-align: right;\n",
       "    }\n",
       "</style>\n",
       "<table border=\"1\" class=\"dataframe\">\n",
       "  <thead>\n",
       "    <tr style=\"text-align: right;\">\n",
       "      <th></th>\n",
       "      <th>Id</th>\n",
       "      <th>OrderDate</th>\n",
       "      <th>Freight</th>\n",
       "      <th>ReorderLevel</th>\n",
       "      <th>ItemTotal</th>\n",
       "      <th>ProductId</th>\n",
       "      <th>Discount</th>\n",
       "      <th>CompanyName</th>\n",
       "    </tr>\n",
       "  </thead>\n",
       "  <tbody>\n",
       "    <tr>\n",
       "      <th>1</th>\n",
       "      <td>10248</td>\n",
       "      <td>2012-07-04</td>\n",
       "      <td>32.38</td>\n",
       "      <td>0</td>\n",
       "      <td>4.941642</td>\n",
       "      <td>42</td>\n",
       "      <td>0.00</td>\n",
       "      <td>Federal Shipping</td>\n",
       "    </tr>\n",
       "    <tr>\n",
       "      <th>2</th>\n",
       "      <td>10248</td>\n",
       "      <td>2012-07-04</td>\n",
       "      <td>32.38</td>\n",
       "      <td>0</td>\n",
       "      <td>5.159055</td>\n",
       "      <td>72</td>\n",
       "      <td>0.00</td>\n",
       "      <td>Federal Shipping</td>\n",
       "    </tr>\n",
       "    <tr>\n",
       "      <th>3</th>\n",
       "      <td>10249</td>\n",
       "      <td>2012-07-05</td>\n",
       "      <td>11.61</td>\n",
       "      <td>0</td>\n",
       "      <td>5.343530</td>\n",
       "      <td>14</td>\n",
       "      <td>0.00</td>\n",
       "      <td>Speedy Express</td>\n",
       "    </tr>\n",
       "    <tr>\n",
       "      <th>7</th>\n",
       "      <td>10250</td>\n",
       "      <td>2012-07-08</td>\n",
       "      <td>65.83</td>\n",
       "      <td>0</td>\n",
       "      <td>5.754951</td>\n",
       "      <td>65</td>\n",
       "      <td>0.15</td>\n",
       "      <td>United Package</td>\n",
       "    </tr>\n",
       "    <tr>\n",
       "      <th>10</th>\n",
       "      <td>10251</td>\n",
       "      <td>2012-07-08</td>\n",
       "      <td>41.34</td>\n",
       "      <td>0</td>\n",
       "      <td>6.042633</td>\n",
       "      <td>65</td>\n",
       "      <td>0.00</td>\n",
       "      <td>Speedy Express</td>\n",
       "    </tr>\n",
       "  </tbody>\n",
       "</table>\n",
       "</div>"
      ],
      "text/plain": [
       "       Id   OrderDate  Freight  ReorderLevel  ItemTotal  ProductId  Discount  \\\n",
       "1   10248  2012-07-04    32.38             0   4.941642         42      0.00   \n",
       "2   10248  2012-07-04    32.38             0   5.159055         72      0.00   \n",
       "3   10249  2012-07-05    11.61             0   5.343530         14      0.00   \n",
       "7   10250  2012-07-08    65.83             0   5.754951         65      0.15   \n",
       "10  10251  2012-07-08    41.34             0   6.042633         65      0.00   \n",
       "\n",
       "         CompanyName  \n",
       "1   Federal Shipping  \n",
       "2   Federal Shipping  \n",
       "3     Speedy Express  \n",
       "7     United Package  \n",
       "10    Speedy Express  "
      ]
     },
     "execution_count": 16,
     "metadata": {},
     "output_type": "execute_result"
    }
   ],
   "source": [
    "df_no_reorder = df[df['ReorderLevel'] == 0]\n",
    "df_no_reorder.head()"
   ]
  },
  {
   "cell_type": "code",
   "execution_count": 17,
   "metadata": {},
   "outputs": [],
   "source": [
    "# prepare data for testing\n",
    "df['CompanyName'] = [x.replace(\" \",\"\") for x in df['CompanyName']]"
   ]
  },
  {
   "cell_type": "markdown",
   "metadata": {},
   "source": [
    "### 2.2.3.4 Develop feature<a id='Develop feature'></a>"
   ]
  },
  {
   "cell_type": "code",
   "execution_count": 18,
   "metadata": {},
   "outputs": [
    {
     "name": "stdout",
     "output_type": "stream",
     "text": [
      "      Id   OrderDate  Freight  ReorderLevel  ItemTotal  ProductId  Discount  \\\n",
      "0  10248  2012-07-04    32.38            30   5.529429         11       0.0   \n",
      "1  10248  2012-07-04    32.38             0   4.941642         42       0.0   \n",
      "2  10248  2012-07-04    32.38             0   5.159055         72       0.0   \n",
      "3  10249  2012-07-05    11.61             0   5.343530         14       0.0   \n",
      "4  10249  2012-07-05    11.61            10   7.659171         51       0.0   \n",
      "\n",
      "       CompanyName  Reorder  \n",
      "0  FederalShipping        1  \n",
      "1  FederalShipping        0  \n",
      "2  FederalShipping        0  \n",
      "3    SpeedyExpress        0  \n",
      "4    SpeedyExpress        1  \n",
      "      Id   OrderDate  Freight ReorderLevel  ItemTotal  ProductId  Discount  \\\n",
      "0  10248  2012-07-04    32.38       Thirty   5.529429         11       0.0   \n",
      "1  10248  2012-07-04    32.38         Zero   4.941642         42       0.0   \n",
      "2  10248  2012-07-04    32.38         Zero   5.159055         72       0.0   \n",
      "3  10249  2012-07-05    11.61         Zero   5.343530         14       0.0   \n",
      "4  10249  2012-07-05    11.61          Ten   7.659171         51       0.0   \n",
      "\n",
      "       CompanyName     Reorder  \n",
      "0  FederalShipping     Reorder  \n",
      "1  FederalShipping  No Reorder  \n",
      "2  FederalShipping  No Reorder  \n",
      "3    SpeedyExpress  No Reorder  \n",
      "4    SpeedyExpress     Reorder  \n"
     ]
    }
   ],
   "source": [
    "# create features\n",
    "df_str = df.copy(deep=True)\n",
    "df['Reorder'] = [1 if x != 0 else 0 for x in df['ReorderLevel']]\n",
    "df_str['Reorder'] = ['Reorder' if x != 0 else 'No Reorder' for x in df['ReorderLevel']]\n",
    "for x, y in enumerate(df_str['ReorderLevel']):\n",
    "    if y == 0:\n",
    "        df_str.loc[x,'ReorderLevel'] = 'Zero'\n",
    "    elif y == 5:\n",
    "        df_str.loc[x,'ReorderLevel'] = 'Five'\n",
    "    elif y == 10:\n",
    "        df_str.loc[x,'ReorderLevel'] = 'Ten'\n",
    "    elif y == 15:\n",
    "        df_str.loc[x,'ReorderLevel'] = 'Fifteen'\n",
    "    elif y == 20:\n",
    "        df_str.loc[x,'ReorderLevel'] = 'Twenty'\n",
    "    elif y == 25:\n",
    "        df_str.loc[x,'ReorderLevel'] = 'Twenty_Five'\n",
    "    else:\n",
    "        df_str.loc[x,'ReorderLevel'] = 'Thirty'\n",
    "print(df.head())\n",
    "print(df_str.head())"
   ]
  },
  {
   "cell_type": "markdown",
   "metadata": {},
   "source": [
    "## 2.2.4 Model Data<a id='Model Data'></a>\n",
    "\n",
    "- 2.2.4.1 Check for data normality\n",
    "- 2.2.4.2 Standard deviation and other basic statistics\n",
    "- 2.2.4.3 Statistical test\n",
    "- 2.2.4.4 Verification techniques"
   ]
  },
  {
   "cell_type": "markdown",
   "metadata": {},
   "source": [
    "### 2.2.4.1 Check for data normality<a id='Data normality'></a>"
   ]
  },
  {
   "cell_type": "code",
   "execution_count": 19,
   "metadata": {},
   "outputs": [
    {
     "data": {
      "image/png": "[encoded data removed]",
      "text/plain": [
       "<Figure size 504x504 with 9 Axes>"
      ]
     },
     "metadata": {
      "needs_background": "light"
     },
     "output_type": "display_data"
    }
   ],
   "source": [
    "# visual/code for data normality\n",
    "df.hist(figsize=(7,7));"
   ]
  },
  {
   "cell_type": "markdown",
   "metadata": {},
   "source": [
    "### 2.2.4.2 Standard deviation and other basic statistics<a id='Standard deviation'></a>"
   ]
  },
  {
   "cell_type": "code",
   "execution_count": 20,
   "metadata": {},
   "outputs": [
    {
     "name": "stdout",
     "output_type": "stream",
     "text": [
      "ItemTotal\n",
      "numbers of samples: 2155\n",
      "mean: 5.859902046483519\n",
      "standard deviation: 1.164650382603087\n",
      "population variance: 1.3564105136975169\n",
      "skew: -0.1682796388327049\n",
      "Reorder\n",
      "numbers of samples: 2155\n",
      "mean: 0.6668213457076566\n",
      "standard deviation: 0.4713498049392686\n",
      "population variance: 0.22217063861628655\n",
      "skew: -0.7083383265426805\n"
     ]
    }
   ],
   "source": [
    "# standard deviation for target variable\n",
    "print('ItemTotal')\n",
    "print('numbers of samples: ' + str(len(df['ItemTotal'])))\n",
    "print('mean: ' + str(mean(df['ItemTotal'])))\n",
    "print('standard deviation: ' + str(std(df['ItemTotal'])))\n",
    "print('population variance: ' + str(std(df['ItemTotal'])**2))\n",
    "print('skew: ' + str(df['ItemTotal'].skew()))\n",
    "print('Reorder')\n",
    "print('numbers of samples: ' + str(len(df['Reorder'])))\n",
    "print('mean: ' + str(mean(df['Reorder'])))\n",
    "print('standard deviation: ' + str(std(df['Reorder'])))\n",
    "print('population variance: ' + str(std(df['Reorder'])**2))\n",
    "print('skew: ' + str(df['Reorder'].skew()))"
   ]
  },
  {
   "cell_type": "markdown",
   "metadata": {},
   "source": [
    "### 2.2.4.3 Statistical test<a id='Statistical test'></a>"
   ]
  },
  {
   "cell_type": "code",
   "execution_count": 21,
   "metadata": {},
   "outputs": [],
   "source": [
    "# set up variables for this particular test\n",
    "alpha = 0.05"
   ]
  },
  {
   "cell_type": "code",
   "execution_count": 22,
   "metadata": {},
   "outputs": [
    {
     "data": {
      "text/html": [
       "<div>\n",
       "<style scoped>\n",
       "    .dataframe tbody tr th:only-of-type {\n",
       "        vertical-align: middle;\n",
       "    }\n",
       "\n",
       "    .dataframe tbody tr th {\n",
       "        vertical-align: top;\n",
       "    }\n",
       "\n",
       "    .dataframe thead th {\n",
       "        text-align: right;\n",
       "    }\n",
       "</style>\n",
       "<table border=\"1\" class=\"dataframe\">\n",
       "  <thead>\n",
       "    <tr style=\"text-align: right;\">\n",
       "      <th></th>\n",
       "      <th>df</th>\n",
       "      <th>sum_sq</th>\n",
       "      <th>mean_sq</th>\n",
       "      <th>F</th>\n",
       "      <th>PR(&gt;F)</th>\n",
       "    </tr>\n",
       "  </thead>\n",
       "  <tbody>\n",
       "    <tr>\n",
       "      <th>CompanyName</th>\n",
       "      <td>2.0</td>\n",
       "      <td>0.612092</td>\n",
       "      <td>0.306046</td>\n",
       "      <td>0.236608</td>\n",
       "      <td>7.893213e-01</td>\n",
       "    </tr>\n",
       "    <tr>\n",
       "      <th>Reorder</th>\n",
       "      <td>1.0</td>\n",
       "      <td>140.189217</td>\n",
       "      <td>140.189217</td>\n",
       "      <td>108.381906</td>\n",
       "      <td>8.512698e-25</td>\n",
       "    </tr>\n",
       "    <tr>\n",
       "      <th>Residual</th>\n",
       "      <td>2151.0</td>\n",
       "      <td>2782.263348</td>\n",
       "      <td>1.293474</td>\n",
       "      <td>NaN</td>\n",
       "      <td>NaN</td>\n",
       "    </tr>\n",
       "  </tbody>\n",
       "</table>\n",
       "</div>"
      ],
      "text/plain": [
       "                 df       sum_sq     mean_sq           F        PR(>F)\n",
       "CompanyName     2.0     0.612092    0.306046    0.236608  7.893213e-01\n",
       "Reorder         1.0   140.189217  140.189217  108.381906  8.512698e-25\n",
       "Residual     2151.0  2782.263348    1.293474         NaN           NaN"
      ]
     },
     "execution_count": 22,
     "metadata": {},
     "output_type": "execute_result"
    }
   ],
   "source": [
    "# test\n",
    "ols_results = sm.stats.anova_lm(ols('ItemTotal ~ CompanyName + Reorder', data=df_str).fit())\n",
    "ols_results"
   ]
  },
  {
   "cell_type": "code",
   "execution_count": 23,
   "metadata": {},
   "outputs": [],
   "source": [
    "# result\n",
    "companyName_pvalue = ols_results.loc['CompanyName', 'PR(>F)']\n",
    "reorder_pvalue = ols_results.loc['Reorder', 'PR(>F)']"
   ]
  },
  {
   "cell_type": "code",
   "execution_count": 24,
   "metadata": {},
   "outputs": [
    {
     "name": "stdout",
     "output_type": "stream",
     "text": [
      "Fail to reject the null hypothesis\n"
     ]
    }
   ],
   "source": [
    "# evaluation of result\n",
    "if alpha > companyName_pvalue:\n",
    "    print('Reject the null hypothesis')\n",
    "else:\n",
    "    print('Fail to reject the null hypothesis')"
   ]
  },
  {
   "cell_type": "code",
   "execution_count": 25,
   "metadata": {},
   "outputs": [
    {
     "name": "stdout",
     "output_type": "stream",
     "text": [
      "Reject the null hypothesis\n"
     ]
    }
   ],
   "source": [
    "# evaluation of result\n",
    "if alpha > reorder_pvalue:\n",
    "    print('Reject the null hypothesis')\n",
    "else:\n",
    "    print('Fail to reject the null hypothesis')"
   ]
  },
  {
   "cell_type": "markdown",
   "metadata": {},
   "source": [
    "Summarize results and determine next steps. Might include verification of sample size, error types, non-parametric testing, or a deepening of understanding"
   ]
  },
  {
   "cell_type": "markdown",
   "metadata": {},
   "source": [
    "### 2.2.4.4 Verification techniques<a id='Verification techniques'></a>"
   ]
  },
  {
   "cell_type": "markdown",
   "metadata": {},
   "source": [
    "#### 2.2.4.4.1 Nonparametric testing and confirmatory testing<a id='Nonparametric testing'></a>"
   ]
  },
  {
   "cell_type": "markdown",
   "metadata": {},
   "source": [
    "##### Nonparametric testing"
   ]
  },
  {
   "cell_type": "code",
   "execution_count": 26,
   "metadata": {},
   "outputs": [
    {
     "data": {
      "text/plain": [
       "array(['FederalShipping', 'SpeedyExpress', 'UnitedPackage'], dtype=object)"
      ]
     },
     "execution_count": 26,
     "metadata": {},
     "output_type": "execute_result"
    }
   ],
   "source": [
    "df['CompanyName'].unique()"
   ]
  },
  {
   "cell_type": "code",
   "execution_count": 27,
   "metadata": {},
   "outputs": [
    {
     "name": "stdout",
     "output_type": "stream",
     "text": [
      "<class 'pandas.core.frame.DataFrame'>\n",
      "RangeIndex: 2155 entries, 0 to 2154\n",
      "Data columns (total 9 columns):\n",
      "Id              2155 non-null int64\n",
      "OrderDate       2155 non-null object\n",
      "Freight         2155 non-null float64\n",
      "ReorderLevel    2155 non-null int64\n",
      "ItemTotal       2155 non-null float64\n",
      "ProductId       2155 non-null int64\n",
      "Discount        2155 non-null float64\n",
      "CompanyName     2155 non-null object\n",
      "Reorder         2155 non-null int64\n",
      "dtypes: float64(3), int64(4), object(2)\n",
      "memory usage: 151.6+ KB\n"
     ]
    }
   ],
   "source": [
    "df.info()"
   ]
  },
  {
   "cell_type": "code",
   "execution_count": 28,
   "metadata": {},
   "outputs": [],
   "source": [
    "# non-parametric testing variables\n",
    "shipVia1 = df[df['CompanyName'] == 'FederalShipping']\n",
    "shipVia1_reorder0 = shipVia1[shipVia1['Reorder'] == 0]['ItemTotal']\n",
    "shipVia1_reorder1 = shipVia1[shipVia1['Reorder'] == 1]['ItemTotal']\n",
    "shipVia2 = df[df['CompanyName'] == 'SpeedyExpress']\n",
    "shipVia2_reorder0 = shipVia2[shipVia2['Reorder'] == 0]['ItemTotal']\n",
    "shipVia2_reorder1 = shipVia2[shipVia2['Reorder'] == 1]['ItemTotal']\n",
    "shipVia3 = df[df['CompanyName'] == 'UnitedPackage']\n",
    "shipVia3_reorder0 = shipVia3[shipVia3['Reorder'] == 0]['ItemTotal']\n",
    "shipVia3_reorder1 = shipVia3[shipVia3['Reorder'] == 1]['ItemTotal']"
   ]
  },
  {
   "cell_type": "code",
   "execution_count": 29,
   "metadata": {},
   "outputs": [
    {
     "data": {
      "text/plain": [
       "KruskalResult(statistic=120.67778743168039, pvalue=2.2550811681212016e-24)"
      ]
     },
     "execution_count": 29,
     "metadata": {},
     "output_type": "execute_result"
    }
   ],
   "source": [
    "# non-parametric test\n",
    "kruskal_results = stats.kruskal(shipVia1_reorder0, shipVia1_reorder1, shipVia2_reorder0, shipVia2_reorder1, shipVia3_reorder0, shipVia3_reorder1)\n",
    "kruskal_results"
   ]
  },
  {
   "cell_type": "code",
   "execution_count": 30,
   "metadata": {},
   "outputs": [
    {
     "data": {
      "text/plain": [
       "2.2550811681212016e-24"
      ]
     },
     "execution_count": 30,
     "metadata": {},
     "output_type": "execute_result"
    }
   ],
   "source": [
    "# result\n",
    "p_value = kruskal_results[1]\n",
    "p_value"
   ]
  },
  {
   "cell_type": "code",
   "execution_count": 31,
   "metadata": {},
   "outputs": [
    {
     "name": "stdout",
     "output_type": "stream",
     "text": [
      "Reject the null hypothesis\n"
     ]
    }
   ],
   "source": [
    "# evaluation of results\n",
    "if alpha > p_value:\n",
    "    print('Reject the null hypothesis')\n",
    "else:\n",
    "    print('Fail to reject the null hypothesis')"
   ]
  },
  {
   "cell_type": "markdown",
   "metadata": {},
   "source": [
    "##### Confirmatory testing"
   ]
  },
  {
   "cell_type": "code",
   "execution_count": 32,
   "metadata": {},
   "outputs": [
    {
     "data": {
      "text/html": [
       "<table class=\"simpletable\">\n",
       "<caption>Multiple Comparison of Means - Tukey HSD, FWER=0.05</caption>\n",
       "<tr>\n",
       "           <th>group1</th>                   <th>group2</th>          <th>meandiff</th>  <th>p-adj</th>  <th>lower</th>   <th>upper</th>  <th>reject</th>\n",
       "</tr>\n",
       "<tr>\n",
       "  <td>FederalShippingNo Reorder</td> <td>FederalShippingReorder</td>   <td>-0.5713</td>  <td>0.001</td> <td>-0.8414</td> <td>-0.3013</td>  <td>True</td> \n",
       "</tr>\n",
       "<tr>\n",
       "  <td>FederalShippingNo Reorder</td> <td>SpeedyExpressNo Reorder</td>  <td>-0.1176</td> <td>0.8883</td> <td>-0.4298</td> <td>0.1946</td>   <td>False</td>\n",
       "</tr>\n",
       "<tr>\n",
       "  <td>FederalShippingNo Reorder</td>  <td>SpeedyExpressReorder</td>    <td>-0.5528</td>  <td>0.001</td> <td>-0.8223</td> <td>-0.2833</td>  <td>True</td> \n",
       "</tr>\n",
       "<tr>\n",
       "  <td>FederalShippingNo Reorder</td> <td>UnitedPackageNo Reorder</td>  <td>0.0309</td>    <td>0.9</td>  <td>-0.2607</td> <td>0.3226</td>   <td>False</td>\n",
       "</tr>\n",
       "<tr>\n",
       "  <td>FederalShippingNo Reorder</td>  <td>UnitedPackageReorder</td>    <td>-0.5666</td>  <td>0.001</td> <td>-0.8245</td> <td>-0.3088</td>  <td>True</td> \n",
       "</tr>\n",
       "<tr>\n",
       "   <td>FederalShippingReorder</td>   <td>SpeedyExpressNo Reorder</td>  <td>0.4537</td>   <td>0.001</td>  <td>0.182</td>  <td>0.7254</td>   <td>True</td> \n",
       "</tr>\n",
       "<tr>\n",
       "   <td>FederalShippingReorder</td>    <td>SpeedyExpressReorder</td>    <td>0.0185</td>    <td>0.9</td>  <td>-0.2029</td> <td>0.2399</td>   <td>False</td>\n",
       "</tr>\n",
       "<tr>\n",
       "   <td>FederalShippingReorder</td>   <td>UnitedPackageNo Reorder</td>  <td>0.6023</td>   <td>0.001</td> <td>0.3544</td>  <td>0.8501</td>   <td>True</td> \n",
       "</tr>\n",
       "<tr>\n",
       "   <td>FederalShippingReorder</td>    <td>UnitedPackageReorder</td>    <td>0.0047</td>    <td>0.9</td>  <td>-0.2023</td> <td>0.2117</td>   <td>False</td>\n",
       "</tr>\n",
       "<tr>\n",
       "   <td>SpeedyExpressNo Reorder</td>   <td>SpeedyExpressReorder</td>    <td>-0.4352</td>  <td>0.001</td> <td>-0.7064</td> <td>-0.164</td>   <td>True</td> \n",
       "</tr>\n",
       "<tr>\n",
       "   <td>SpeedyExpressNo Reorder</td>  <td>UnitedPackageNo Reorder</td>  <td>0.1485</td>  <td>0.6744</td> <td>-0.1447</td> <td>0.4418</td>   <td>False</td>\n",
       "</tr>\n",
       "<tr>\n",
       "   <td>SpeedyExpressNo Reorder</td>   <td>UnitedPackageReorder</td>    <td>-0.449</td>   <td>0.001</td> <td>-0.7086</td> <td>-0.1895</td>  <td>True</td> \n",
       "</tr>\n",
       "<tr>\n",
       "    <td>SpeedyExpressReorder</td>    <td>UnitedPackageNo Reorder</td>  <td>0.5838</td>   <td>0.001</td> <td>0.3365</td>  <td>0.8311</td>   <td>True</td> \n",
       "</tr>\n",
       "<tr>\n",
       "    <td>SpeedyExpressReorder</td>     <td>UnitedPackageReorder</td>    <td>-0.0138</td>   <td>0.9</td>  <td>-0.2201</td> <td>0.1925</td>   <td>False</td>\n",
       "</tr>\n",
       "<tr>\n",
       "   <td>UnitedPackageNo Reorder</td>   <td>UnitedPackageReorder</td>    <td>-0.5976</td>  <td>0.001</td> <td>-0.8321</td> <td>-0.3631</td>  <td>True</td> \n",
       "</tr>\n",
       "</table>"
      ],
      "text/plain": [
       "<class 'statsmodels.iolib.table.SimpleTable'>"
      ]
     },
     "execution_count": 32,
     "metadata": {},
     "output_type": "execute_result"
    }
   ],
   "source": [
    "# confirmatory test for ANOVA is TukeyHSD\n",
    "tukey_results = pairwise_tukeyhsd(df_str['ItemTotal'], df_str['CompanyName']+df_str['Reorder'])\n",
    "tukey_results.summary()"
   ]
  },
  {
   "cell_type": "code",
   "execution_count": 51,
   "metadata": {},
   "outputs": [
    {
     "data": {
      "image/png": "[encoded data removed]",
      "text/plain": [
       "<Figure size 432x288 with 1 Axes>"
      ]
     },
     "metadata": {
      "needs_background": "light"
     },
     "output_type": "display_data"
    }
   ],
   "source": [
    "df['ItemTotal'].map(lambda x: np.log(np.exp(x)))\n",
    "df.ItemTotal.hist();"
   ]
  },
  {
   "cell_type": "code",
   "execution_count": 34,
   "metadata": {},
   "outputs": [
    {
     "name": "stderr",
     "output_type": "stream",
     "text": [
      "C:\\Users\\eannefawcett\\Anaconda3\\envs\\learn-env\\lib\\site-packages\\ipykernel_launcher.py:8: UserWarning: Matplotlib is currently using module://ipykernel.pylab.backend_inline, which is a non-GUI backend, so cannot show the figure.\n",
      "  \n"
     ]
    },
    {
     "data": {
      "image/png": "[encoded data removed]",
      "text/plain": [
       "<Figure size 720x432 with 1 Axes>"
      ]
     },
     "metadata": {
      "needs_background": "light"
     },
     "output_type": "display_data"
    }
   ],
   "source": [
    "# create figure\n",
    "fig05 = plt.figure(figsize=(5,4))\n",
    "ax = fig05.add_subplot(111)\n",
    "\n",
    "# run tukeys\n",
    "from statsmodels.stats.multicomp import pairwise_tukeyhsd\n",
    "tukey_results = pairwise_tukeyhsd(df_str['ItemTotal'], df_str['CompanyName']+df_str['Reorder'])\n",
    "tukey_plot = tukey_results.plot_simultaneous(ax=ax).show() \n",
    "\n",
    "# format plot\n",
    "ax.axes.set_title('Multiple Comparisions Between Reorder and Shipping Company')\n",
    "ax.axes.set_ylabel('Reorder by Shipping Company')\n",
    "ax.axes.set_xlabel('Item Total');"
   ]
  },
  {
   "cell_type": "markdown",
   "metadata": {},
   "source": [
    "Oberservations based on new finding\n",
    "\n",
    "#### 2.2.4.4.2 Effect size<a id='Effect size'></a>\n",
    "Cohen's D"
   ]
  },
  {
   "cell_type": "code",
   "execution_count": 35,
   "metadata": {},
   "outputs": [
    {
     "data": {
      "text/plain": [
       "(708.2598607888631, 6.384329775450025e-138)"
      ]
     },
     "execution_count": 35,
     "metadata": {},
     "output_type": "execute_result"
    }
   ],
   "source": [
    "# effect size variables\n",
    "combined_x = pd.DataFrame()\n",
    "combined_x['values'] = df_str['CompanyName']+df_str['ReorderLevel']\n",
    "from collections import Counter\n",
    "unique_values = Counter(combined_x['values'])\n",
    "for_chisquare = list(unique_values.values())\n",
    "chisquare, pvalue = stats.chisquare(for_chisquare, ddof=1)\n",
    "chisquare, pvalue"
   ]
  },
  {
   "cell_type": "code",
   "execution_count": 36,
   "metadata": {},
   "outputs": [
    {
     "data": {
      "text/plain": [
       "0.5"
      ]
     },
     "execution_count": 36,
     "metadata": {},
     "output_type": "execute_result"
    }
   ],
   "source": [
    "# effect size test cramersV\n",
    "def cramersV(nrows, ncols, chisquared, correct_bias=True):\n",
    "    import math\n",
    "    nobs = nrows*ncols\n",
    "    if correct_bias is True:\n",
    "        phi = 0\n",
    "    else:\n",
    "        phi = chisquared/nobs\n",
    "    V = math.sqrt((phi^2)/(min(nrows-1, ncols-1)))\n",
    "    return np.array([V, phi])\n",
    "effect_size, phi = cramersV(df_str.shape[0], df_str.shape[1], chisquare, correct_bias=True)\n",
    "effect_size"
   ]
  },
  {
   "cell_type": "markdown",
   "metadata": {},
   "source": [
    "#### 2.2.4.4.3 Error<a id='Error'></a>"
   ]
  },
  {
   "cell_type": "code",
   "execution_count": 37,
   "metadata": {},
   "outputs": [],
   "source": [
    "# power variables\n",
    "effect_size, nobs1, alpha = effect_size, df['ItemTotal'].shape[0], alpha"
   ]
  },
  {
   "cell_type": "code",
   "execution_count": 38,
   "metadata": {},
   "outputs": [
    {
     "data": {
      "text/plain": [
       "1.0"
      ]
     },
     "execution_count": 38,
     "metadata": {},
     "output_type": "execute_result"
    }
   ],
   "source": [
    "# power test\n",
    "power = tt_ind_solve_power(effect_size=effect_size, nobs1=nobs1, alpha=alpha)\n",
    "power"
   ]
  },
  {
   "cell_type": "code",
   "execution_count": 39,
   "metadata": {},
   "outputs": [
    {
     "data": {
      "text/plain": [
       "0.0"
      ]
     },
     "execution_count": 39,
     "metadata": {},
     "output_type": "execute_result"
    }
   ],
   "source": [
    "# evaluation of power test\n",
    "type_2_error = 1 - power\n",
    "type_2_error"
   ]
  },
  {
   "cell_type": "markdown",
   "metadata": {},
   "source": [
    "## 2.2.5 Interpret Model<a id='Interpret Model'></a>"
   ]
  },
  {
   "cell_type": "markdown",
   "metadata": {},
   "source": [
    "### 2.2.5.1 Extension of acquired knowledge<a id='Extension'></a>\n",
    "#### Deeper question\n",
    "#### Hypothesis for deeper question"
   ]
  },
  {
   "cell_type": "code",
   "execution_count": 40,
   "metadata": {},
   "outputs": [],
   "source": [
    "# deeper understanding variables already set"
   ]
  },
  {
   "cell_type": "code",
   "execution_count": 41,
   "metadata": {},
   "outputs": [
    {
     "data": {
      "text/html": [
       "<div>\n",
       "<style scoped>\n",
       "    .dataframe tbody tr th:only-of-type {\n",
       "        vertical-align: middle;\n",
       "    }\n",
       "\n",
       "    .dataframe tbody tr th {\n",
       "        vertical-align: top;\n",
       "    }\n",
       "\n",
       "    .dataframe thead th {\n",
       "        text-align: right;\n",
       "    }\n",
       "</style>\n",
       "<table border=\"1\" class=\"dataframe\">\n",
       "  <thead>\n",
       "    <tr style=\"text-align: right;\">\n",
       "      <th></th>\n",
       "      <th>df</th>\n",
       "      <th>sum_sq</th>\n",
       "      <th>mean_sq</th>\n",
       "      <th>F</th>\n",
       "      <th>PR(&gt;F)</th>\n",
       "    </tr>\n",
       "  </thead>\n",
       "  <tbody>\n",
       "    <tr>\n",
       "      <th>CompanyName</th>\n",
       "      <td>2.0</td>\n",
       "      <td>0.612092</td>\n",
       "      <td>0.306046</td>\n",
       "      <td>0.228247</td>\n",
       "      <td>7.959471e-01</td>\n",
       "    </tr>\n",
       "    <tr>\n",
       "      <th>ReorderLevel</th>\n",
       "      <td>1.0</td>\n",
       "      <td>38.270163</td>\n",
       "      <td>38.270163</td>\n",
       "      <td>28.541580</td>\n",
       "      <td>1.013883e-07</td>\n",
       "    </tr>\n",
       "    <tr>\n",
       "      <th>Residual</th>\n",
       "      <td>2151.0</td>\n",
       "      <td>2884.182401</td>\n",
       "      <td>1.340857</td>\n",
       "      <td>NaN</td>\n",
       "      <td>NaN</td>\n",
       "    </tr>\n",
       "  </tbody>\n",
       "</table>\n",
       "</div>"
      ],
      "text/plain": [
       "                  df       sum_sq    mean_sq          F        PR(>F)\n",
       "CompanyName      2.0     0.612092   0.306046   0.228247  7.959471e-01\n",
       "ReorderLevel     1.0    38.270163  38.270163  28.541580  1.013883e-07\n",
       "Residual      2151.0  2884.182401   1.340857        NaN           NaN"
      ]
     },
     "execution_count": 41,
     "metadata": {},
     "output_type": "execute_result"
    }
   ],
   "source": [
    "# deeper understanding test\n",
    "anova_results = sm.stats.anova_lm(ols('ItemTotal ~ CompanyName + ReorderLevel', data=df).fit())\n",
    "anova_results"
   ]
  },
  {
   "cell_type": "code",
   "execution_count": 42,
   "metadata": {},
   "outputs": [],
   "source": [
    "# deeper understanding result\n",
    "companyName_anova_pvalue = anova_results.loc['CompanyName', 'PR(>F)']\n",
    "reorderLevel_anova_pvalue = anova_results.loc['ReorderLevel', 'PR(>F)']"
   ]
  },
  {
   "cell_type": "code",
   "execution_count": 43,
   "metadata": {},
   "outputs": [
    {
     "name": "stdout",
     "output_type": "stream",
     "text": [
      "Fail to reject the null hypothesis\n"
     ]
    }
   ],
   "source": [
    "# deeper understanding evaluation of result\n",
    "if alpha > companyName_anova_pvalue:\n",
    "    print('Reject the null hypothesis')\n",
    "else:\n",
    "    print('Fail to reject the null hypothesis')"
   ]
  },
  {
   "cell_type": "code",
   "execution_count": 44,
   "metadata": {},
   "outputs": [
    {
     "name": "stdout",
     "output_type": "stream",
     "text": [
      "Reject the null hypothesis\n"
     ]
    }
   ],
   "source": [
    "if alpha > reorderLevel_anova_pvalue:\n",
    "    print('Reject the null hypothesis')\n",
    "else:\n",
    "    print('Fail to reject the null hypothesis')"
   ]
  },
  {
   "cell_type": "code",
   "execution_count": 45,
   "metadata": {},
   "outputs": [],
   "source": [
    "# non-parametric testing variables\n",
    "shipVia1 = df[df['CompanyName'] == 'FederalShipping']\n",
    "shipVia1_reorder0 = shipVia1[shipVia1['ReorderLevel'] == 0]['ItemTotal']\n",
    "shipVia1_reorder5 = shipVia1[shipVia1['ReorderLevel'] == 5]['ItemTotal']\n",
    "shipVia1_reorder10 = shipVia1[shipVia1['ReorderLevel'] == 10]['ItemTotal']\n",
    "shipVia1_reorder15 = shipVia1[shipVia1['ReorderLevel'] == 15]['ItemTotal']\n",
    "shipVia1_reorder20 = shipVia1[shipVia1['ReorderLevel'] == 20]['ItemTotal']\n",
    "shipVia1_reorder25 = shipVia1[shipVia1['ReorderLevel'] == 25]['ItemTotal']\n",
    "shipVia1_reorder30 = shipVia1[shipVia1['ReorderLevel'] == 30]['ItemTotal']\n",
    "shipVia2 = df[df['CompanyName'] == 'SpeedyExpress']\n",
    "shipVia2_reorder0 = shipVia2[shipVia2['ReorderLevel'] == 0]['ItemTotal']\n",
    "shipVia2_reorder5 = shipVia2[shipVia2['ReorderLevel'] == 5]['ItemTotal']\n",
    "shipVia2_reorder10 = shipVia2[shipVia2['ReorderLevel'] == 10]['ItemTotal']\n",
    "shipVia2_reorder15 = shipVia2[shipVia2['ReorderLevel'] == 15]['ItemTotal']\n",
    "shipVia2_reorder20 = shipVia2[shipVia2['ReorderLevel'] == 20]['ItemTotal']\n",
    "shipVia2_reorder25 = shipVia2[shipVia2['ReorderLevel'] == 25]['ItemTotal']\n",
    "shipVia2_reorder30 = shipVia2[shipVia2['ReorderLevel'] == 30]['ItemTotal']\n",
    "shipVia3 = df[df['CompanyName'] == 'UnitedPackage']\n",
    "shipVia3_reorder0 = shipVia3[shipVia3['ReorderLevel'] == 0]['ItemTotal']\n",
    "shipVia3_reorder5 = shipVia3[shipVia3['ReorderLevel'] == 5]['ItemTotal']\n",
    "shipVia3_reorder10 = shipVia3[shipVia3['ReorderLevel'] == 10]['ItemTotal']\n",
    "shipVia3_reorder15 = shipVia3[shipVia3['ReorderLevel'] == 15]['ItemTotal']\n",
    "shipVia3_reorder20 = shipVia3[shipVia3['ReorderLevel'] == 20]['ItemTotal']\n",
    "shipVia3_reorder25 = shipVia3[shipVia3['ReorderLevel'] == 25]['ItemTotal']\n",
    "shipVia3_reorder30 = shipVia3[shipVia3['ReorderLevel'] == 30]['ItemTotal']"
   ]
  },
  {
   "cell_type": "code",
   "execution_count": 46,
   "metadata": {},
   "outputs": [
    {
     "data": {
      "text/plain": [
       "KruskalResult(statistic=191.17584057245134, pvalue=6.2086219812982756e-30)"
      ]
     },
     "execution_count": 46,
     "metadata": {},
     "output_type": "execute_result"
    }
   ],
   "source": [
    "# non-parametric test\n",
    "kruskal_results = stats.kruskal(shipVia1_reorder0, shipVia1_reorder5, shipVia1_reorder10, shipVia1_reorder15, shipVia1_reorder20, \n",
    "                                shipVia1_reorder25, shipVia1_reorder30, shipVia2_reorder0, shipVia2_reorder5, shipVia2_reorder10, \n",
    "                                shipVia2_reorder15, shipVia2_reorder20, shipVia2_reorder25, shipVia2_reorder30, shipVia3_reorder0, \n",
    "                                shipVia3_reorder5, shipVia3_reorder10, shipVia3_reorder15, shipVia3_reorder20, shipVia3_reorder25, \n",
    "                                shipVia3_reorder30)\n",
    "kruskal_results"
   ]
  },
  {
   "cell_type": "code",
   "execution_count": 47,
   "metadata": {},
   "outputs": [
    {
     "data": {
      "text/plain": [
       "6.2086219812982756e-30"
      ]
     },
     "execution_count": 47,
     "metadata": {},
     "output_type": "execute_result"
    }
   ],
   "source": [
    "# result\n",
    "p_value = kruskal_results[1]\n",
    "p_value"
   ]
  },
  {
   "cell_type": "code",
   "execution_count": 48,
   "metadata": {},
   "outputs": [
    {
     "name": "stdout",
     "output_type": "stream",
     "text": [
      "Reject the null hypothesis\n"
     ]
    }
   ],
   "source": [
    "if alpha > p_value:\n",
    "    print('Reject the null hypothesis')\n",
    "else:\n",
    "    print('Fail to reject the null hypothesis')"
   ]
  },
  {
   "cell_type": "code",
   "execution_count": 49,
   "metadata": {},
   "outputs": [
    {
     "data": {
      "text/html": [
       "<table class=\"simpletable\">\n",
       "<caption>Multiple Comparison of Means - Tukey HSD, FWER=0.05</caption>\n",
       "<tr>\n",
       "            <th>group1</th>                     <th>group2</th>           <th>meandiff</th>  <th>p-adj</th>  <th>lower</th>   <th>upper</th>  <th>reject</th>\n",
       "</tr>\n",
       "<tr>\n",
       "    <td>FederalShippingFifteen</td>       <td>FederalShippingFive</td>     <td>-1.038</td>   <td>0.001</td> <td>-1.696</td>  <td>-0.3799</td>  <td>True</td> \n",
       "</tr>\n",
       "<tr>\n",
       "    <td>FederalShippingFifteen</td>       <td>FederalShippingTen</td>      <td>-0.3405</td>   <td>0.9</td>  <td>-0.9783</td> <td>0.2974</td>   <td>False</td>\n",
       "</tr>\n",
       "<tr>\n",
       "    <td>FederalShippingFifteen</td>      <td>FederalShippingThirty</td>    <td>-0.3359</td>   <td>0.9</td>  <td>-0.9833</td> <td>0.3116</td>   <td>False</td>\n",
       "</tr>\n",
       "<tr>\n",
       "    <td>FederalShippingFifteen</td>      <td>FederalShippingTwenty</td>    <td>-0.5733</td> <td>0.1956</td> <td>-1.2342</td> <td>0.0876</td>   <td>False</td>\n",
       "</tr>\n",
       "<tr>\n",
       "    <td>FederalShippingFifteen</td>   <td>FederalShippingTwenty_Five</td>  <td>-0.6245</td> <td>0.0819</td> <td>-1.2771</td> <td>0.0281</td>   <td>False</td>\n",
       "</tr>\n",
       "<tr>\n",
       "    <td>FederalShippingFifteen</td>       <td>FederalShippingZero</td>     <td>0.1101</td>    <td>0.9</td>  <td>-0.4037</td> <td>0.6239</td>   <td>False</td>\n",
       "</tr>\n",
       "<tr>\n",
       "    <td>FederalShippingFifteen</td>      <td>SpeedyExpressFifteen</td>     <td>-0.2224</td>   <td>0.9</td>  <td>-0.8536</td> <td>0.4089</td>   <td>False</td>\n",
       "</tr>\n",
       "<tr>\n",
       "    <td>FederalShippingFifteen</td>        <td>SpeedyExpressFive</td>      <td>-0.8076</td> <td>0.0085</td> <td>-1.5178</td> <td>-0.0974</td>  <td>True</td> \n",
       "</tr>\n",
       "<tr>\n",
       "    <td>FederalShippingFifteen</td>        <td>SpeedyExpressTen</td>       <td>-0.5379</td>  <td>0.235</td> <td>-1.1734</td> <td>0.0977</td>   <td>False</td>\n",
       "</tr>\n",
       "<tr>\n",
       "    <td>FederalShippingFifteen</td>       <td>SpeedyExpressThirty</td>     <td>-0.0556</td>   <td>0.9</td>  <td>-0.7031</td> <td>0.5918</td>   <td>False</td>\n",
       "</tr>\n",
       "<tr>\n",
       "    <td>FederalShippingFifteen</td>       <td>SpeedyExpressTwenty</td>     <td>-0.6597</td> <td>0.0278</td> <td>-1.2888</td> <td>-0.0306</td>  <td>True</td> \n",
       "</tr>\n",
       "<tr>\n",
       "    <td>FederalShippingFifteen</td>    <td>SpeedyExpressTwenty_Five</td>   <td>-0.4599</td> <td>0.5002</td> <td>-1.0829</td> <td>0.1631</td>   <td>False</td>\n",
       "</tr>\n",
       "<tr>\n",
       "    <td>FederalShippingFifteen</td>        <td>SpeedyExpressZero</td>      <td>-0.0075</td>   <td>0.9</td>  <td>-0.5226</td> <td>0.5076</td>   <td>False</td>\n",
       "</tr>\n",
       "<tr>\n",
       "    <td>FederalShippingFifteen</td>      <td>UnitedPackageFifteen</td>     <td>-0.2062</td>   <td>0.9</td>  <td>-0.7836</td> <td>0.3713</td>   <td>False</td>\n",
       "</tr>\n",
       "<tr>\n",
       "    <td>FederalShippingFifteen</td>        <td>UnitedPackageFive</td>      <td>-0.8355</td>  <td>0.001</td> <td>-1.4625</td> <td>-0.2085</td>  <td>True</td> \n",
       "</tr>\n",
       "<tr>\n",
       "    <td>FederalShippingFifteen</td>        <td>UnitedPackageTen</td>       <td>-0.5295</td> <td>0.1757</td> <td>-1.1317</td> <td>0.0727</td>   <td>False</td>\n",
       "</tr>\n",
       "<tr>\n",
       "    <td>FederalShippingFifteen</td>       <td>UnitedPackageThirty</td>     <td>-0.0855</td>   <td>0.9</td>  <td>-0.6847</td> <td>0.5137</td>   <td>False</td>\n",
       "</tr>\n",
       "<tr>\n",
       "    <td>FederalShippingFifteen</td>       <td>UnitedPackageTwenty</td>     <td>-0.6158</td> <td>0.0396</td> <td>-1.2196</td> <td>-0.0121</td>  <td>True</td> \n",
       "</tr>\n",
       "<tr>\n",
       "    <td>FederalShippingFifteen</td>    <td>UnitedPackageTwenty_Five</td>   <td>-0.5679</td>  <td>0.068</td> <td>-1.1511</td> <td>0.0153</td>   <td>False</td>\n",
       "</tr>\n",
       "<tr>\n",
       "    <td>FederalShippingFifteen</td>        <td>UnitedPackageZero</td>       <td>0.141</td>    <td>0.9</td>  <td>-0.3554</td> <td>0.6375</td>   <td>False</td>\n",
       "</tr>\n",
       "<tr>\n",
       "      <td>FederalShippingFive</td>        <td>FederalShippingTen</td>      <td>0.6975</td>  <td>0.0352</td> <td>0.0201</td>  <td>1.3748</td>   <td>True</td> \n",
       "</tr>\n",
       "<tr>\n",
       "      <td>FederalShippingFive</td>       <td>FederalShippingThirty</td>    <td>0.7021</td>  <td>0.0382</td> <td>0.0157</td>  <td>1.3885</td>   <td>True</td> \n",
       "</tr>\n",
       "<tr>\n",
       "      <td>FederalShippingFive</td>       <td>FederalShippingTwenty</td>    <td>0.4647</td>  <td>0.6736</td> <td>-0.2344</td> <td>1.1638</td>   <td>False</td>\n",
       "</tr>\n",
       "<tr>\n",
       "      <td>FederalShippingFive</td>    <td>FederalShippingTwenty_Five</td>  <td>0.4135</td>  <td>0.8309</td> <td>-0.2778</td> <td>1.1048</td>   <td>False</td>\n",
       "</tr>\n",
       "<tr>\n",
       "      <td>FederalShippingFive</td>        <td>FederalShippingZero</td>     <td>1.1481</td>   <td>0.001</td>  <td>0.586</td>  <td>1.7102</td>   <td>True</td> \n",
       "</tr>\n",
       "<tr>\n",
       "      <td>FederalShippingFive</td>       <td>SpeedyExpressFifteen</td>     <td>0.8156</td>  <td>0.0027</td> <td>0.1445</td>  <td>1.4867</td>   <td>True</td> \n",
       "</tr>\n",
       "<tr>\n",
       "      <td>FederalShippingFive</td>         <td>SpeedyExpressFive</td>      <td>0.2303</td>    <td>0.9</td>  <td>-0.5155</td> <td>0.9762</td>   <td>False</td>\n",
       "</tr>\n",
       "<tr>\n",
       "      <td>FederalShippingFive</td>         <td>SpeedyExpressTen</td>       <td>0.5001</td>  <td>0.4942</td> <td>-0.1751</td> <td>1.1753</td>   <td>False</td>\n",
       "</tr>\n",
       "<tr>\n",
       "      <td>FederalShippingFive</td>        <td>SpeedyExpressThirty</td>     <td>0.9824</td>   <td>0.001</td> <td>0.2959</td>  <td>1.6688</td>   <td>True</td> \n",
       "</tr>\n",
       "<tr>\n",
       "      <td>FederalShippingFive</td>        <td>SpeedyExpressTwenty</td>     <td>0.3783</td>    <td>0.9</td>  <td>-0.2908</td> <td>1.0474</td>   <td>False</td>\n",
       "</tr>\n",
       "<tr>\n",
       "      <td>FederalShippingFive</td>     <td>SpeedyExpressTwenty_Five</td>   <td>0.5781</td>  <td>0.1887</td> <td>-0.0853</td> <td>1.2415</td>   <td>False</td>\n",
       "</tr>\n",
       "<tr>\n",
       "      <td>FederalShippingFive</td>         <td>SpeedyExpressZero</td>      <td>1.0305</td>   <td>0.001</td> <td>0.4672</td>  <td>1.5938</td>   <td>True</td> \n",
       "</tr>\n",
       "<tr>\n",
       "      <td>FederalShippingFive</td>       <td>UnitedPackageFifteen</td>     <td>0.8318</td>   <td>0.001</td>  <td>0.211</td>  <td>1.4526</td>   <td>True</td> \n",
       "</tr>\n",
       "<tr>\n",
       "      <td>FederalShippingFive</td>         <td>UnitedPackageFive</td>      <td>0.2025</td>    <td>0.9</td>  <td>-0.4647</td> <td>0.8697</td>   <td>False</td>\n",
       "</tr>\n",
       "<tr>\n",
       "      <td>FederalShippingFive</td>         <td>UnitedPackageTen</td>       <td>0.5085</td>  <td>0.3641</td> <td>-0.1354</td> <td>1.1524</td>   <td>False</td>\n",
       "</tr>\n",
       "<tr>\n",
       "      <td>FederalShippingFive</td>        <td>UnitedPackageThirty</td>     <td>0.9525</td>   <td>0.001</td> <td>0.3114</td>  <td>1.5936</td>   <td>True</td> \n",
       "</tr>\n",
       "<tr>\n",
       "      <td>FederalShippingFive</td>        <td>UnitedPackageTwenty</td>     <td>0.4222</td>  <td>0.6986</td> <td>-0.2232</td> <td>1.0675</td>   <td>False</td>\n",
       "</tr>\n",
       "<tr>\n",
       "      <td>FederalShippingFive</td>     <td>UnitedPackageTwenty_Five</td>   <td>0.4701</td>  <td>0.4691</td> <td>-0.1561</td> <td>1.0963</td>   <td>False</td>\n",
       "</tr>\n",
       "<tr>\n",
       "      <td>FederalShippingFive</td>         <td>UnitedPackageZero</td>       <td>1.179</td>   <td>0.001</td> <td>0.6327</td>  <td>1.7254</td>   <td>True</td> \n",
       "</tr>\n",
       "<tr>\n",
       "      <td>FederalShippingTen</td>        <td>FederalShippingThirty</td>    <td>0.0046</td>    <td>0.9</td>  <td>-0.6624</td> <td>0.6717</td>   <td>False</td>\n",
       "</tr>\n",
       "<tr>\n",
       "      <td>FederalShippingTen</td>        <td>FederalShippingTwenty</td>    <td>-0.2328</td>   <td>0.9</td>  <td>-0.9129</td> <td>0.4473</td>   <td>False</td>\n",
       "</tr>\n",
       "<tr>\n",
       "      <td>FederalShippingTen</td>     <td>FederalShippingTwenty_Five</td>  <td>-0.284</td>    <td>0.9</td>  <td>-0.9561</td> <td>0.3881</td>   <td>False</td>\n",
       "</tr>\n",
       "<tr>\n",
       "      <td>FederalShippingTen</td>         <td>FederalShippingZero</td>     <td>0.4506</td>  <td>0.2531</td> <td>-0.0877</td> <td>0.9888</td>   <td>False</td>\n",
       "</tr>\n",
       "<tr>\n",
       "      <td>FederalShippingTen</td>        <td>SpeedyExpressFifteen</td>     <td>0.1181</td>    <td>0.9</td>  <td>-0.5331</td> <td>0.7694</td>   <td>False</td>\n",
       "</tr>\n",
       "<tr>\n",
       "      <td>FederalShippingTen</td>          <td>SpeedyExpressFive</td>      <td>-0.4671</td> <td>0.7282</td> <td>-1.1952</td>  <td>0.261</td>   <td>False</td>\n",
       "</tr>\n",
       "<tr>\n",
       "      <td>FederalShippingTen</td>          <td>SpeedyExpressTen</td>       <td>-0.1974</td>   <td>0.9</td>  <td>-0.8529</td> <td>0.4581</td>   <td>False</td>\n",
       "</tr>\n",
       "<tr>\n",
       "      <td>FederalShippingTen</td>         <td>SpeedyExpressThirty</td>     <td>0.2849</td>    <td>0.9</td>  <td>-0.3822</td> <td>0.9519</td>   <td>False</td>\n",
       "</tr>\n",
       "<tr>\n",
       "      <td>FederalShippingTen</td>         <td>SpeedyExpressTwenty</td>     <td>-0.3192</td>   <td>0.9</td>  <td>-0.9684</td>  <td>0.33</td>    <td>False</td>\n",
       "</tr>\n",
       "<tr>\n",
       "      <td>FederalShippingTen</td>      <td>SpeedyExpressTwenty_Five</td>   <td>-0.1194</td>   <td>0.9</td>  <td>-0.7627</td>  <td>0.524</td>   <td>False</td>\n",
       "</tr>\n",
       "<tr>\n",
       "      <td>FederalShippingTen</td>          <td>SpeedyExpressZero</td>       <td>0.333</td>  <td>0.7858</td> <td>-0.2065</td> <td>0.8725</td>   <td>False</td>\n",
       "</tr>\n",
       "<tr>\n",
       "      <td>FederalShippingTen</td>        <td>UnitedPackageFifteen</td>     <td>0.1343</td>    <td>0.9</td>  <td>-0.465</td>  <td>0.7336</td>   <td>False</td>\n",
       "</tr>\n",
       "<tr>\n",
       "      <td>FederalShippingTen</td>          <td>UnitedPackageFive</td>      <td>-0.495</td>   <td>0.432</td> <td>-1.1422</td> <td>0.1522</td>   <td>False</td>\n",
       "</tr>\n",
       "<tr>\n",
       "      <td>FederalShippingTen</td>          <td>UnitedPackageTen</td>       <td>-0.189</td>    <td>0.9</td>  <td>-0.8122</td> <td>0.4342</td>   <td>False</td>\n",
       "</tr>\n",
       "<tr>\n",
       "      <td>FederalShippingTen</td>         <td>UnitedPackageThirty</td>      <td>0.255</td>    <td>0.9</td>  <td>-0.3653</td> <td>0.8753</td>   <td>False</td>\n",
       "</tr>\n",
       "<tr>\n",
       "      <td>FederalShippingTen</td>         <td>UnitedPackageTwenty</td>     <td>-0.2753</td>   <td>0.9</td>   <td>-0.9</td>   <td>0.3494</td>   <td>False</td>\n",
       "</tr>\n",
       "<tr>\n",
       "      <td>FederalShippingTen</td>      <td>UnitedPackageTwenty_Five</td>   <td>-0.2274</td>   <td>0.9</td>  <td>-0.8323</td> <td>0.3775</td>   <td>False</td>\n",
       "</tr>\n",
       "<tr>\n",
       "      <td>FederalShippingTen</td>          <td>UnitedPackageZero</td>      <td>0.4815</td>  <td>0.1165</td> <td>-0.0402</td> <td>1.0033</td>   <td>False</td>\n",
       "</tr>\n",
       "<tr>\n",
       "     <td>FederalShippingThirty</td>      <td>FederalShippingTwenty</td>    <td>-0.2374</td>   <td>0.9</td>  <td>-0.9265</td> <td>0.4517</td>   <td>False</td>\n",
       "</tr>\n",
       "<tr>\n",
       "     <td>FederalShippingThirty</td>   <td>FederalShippingTwenty_Five</td>  <td>-0.2886</td>   <td>0.9</td>  <td>-0.9698</td> <td>0.3926</td>   <td>False</td>\n",
       "</tr>\n",
       "<tr>\n",
       "     <td>FederalShippingThirty</td>       <td>FederalShippingZero</td>      <td>0.446</td>  <td>0.3097</td> <td>-0.1037</td> <td>0.9956</td>   <td>False</td>\n",
       "</tr>\n",
       "<tr>\n",
       "     <td>FederalShippingThirty</td>      <td>SpeedyExpressFifteen</td>     <td>0.1135</td>    <td>0.9</td>  <td>-0.5472</td> <td>0.7742</td>   <td>False</td>\n",
       "</tr>\n",
       "<tr>\n",
       "     <td>FederalShippingThirty</td>        <td>SpeedyExpressFive</td>      <td>-0.4718</td> <td>0.7308</td> <td>-1.2083</td> <td>0.2648</td>   <td>False</td>\n",
       "</tr>\n",
       "<tr>\n",
       "     <td>FederalShippingThirty</td>        <td>SpeedyExpressTen</td>       <td>-0.202</td>    <td>0.9</td>  <td>-0.8669</td> <td>0.4629</td>   <td>False</td>\n",
       "</tr>\n",
       "<tr>\n",
       "     <td>FederalShippingThirty</td>       <td>SpeedyExpressThirty</td>     <td>0.2802</td>    <td>0.9</td>  <td>-0.396</td>  <td>0.9565</td>   <td>False</td>\n",
       "</tr>\n",
       "<tr>\n",
       "     <td>FederalShippingThirty</td>       <td>SpeedyExpressTwenty</td>     <td>-0.3238</td>   <td>0.9</td>  <td>-0.9825</td> <td>0.3349</td>   <td>False</td>\n",
       "</tr>\n",
       "<tr>\n",
       "     <td>FederalShippingThirty</td>    <td>SpeedyExpressTwenty_Five</td>   <td>-0.124</td>    <td>0.9</td>  <td>-0.7769</td> <td>0.5289</td>   <td>False</td>\n",
       "</tr>\n",
       "<tr>\n",
       "     <td>FederalShippingThirty</td>        <td>SpeedyExpressZero</td>      <td>0.3284</td>  <td>0.8357</td> <td>-0.2225</td> <td>0.8792</td>   <td>False</td>\n",
       "</tr>\n",
       "<tr>\n",
       "     <td>FederalShippingThirty</td>      <td>UnitedPackageFifteen</td>     <td>0.1297</td>    <td>0.9</td>  <td>-0.4799</td> <td>0.7392</td>   <td>False</td>\n",
       "</tr>\n",
       "<tr>\n",
       "     <td>FederalShippingThirty</td>        <td>UnitedPackageFive</td>      <td>-0.4996</td> <td>0.4427</td> <td>-1.1563</td> <td>0.1571</td>   <td>False</td>\n",
       "</tr>\n",
       "<tr>\n",
       "     <td>FederalShippingThirty</td>        <td>UnitedPackageTen</td>       <td>-0.1936</td>   <td>0.9</td>  <td>-0.8267</td> <td>0.4394</td>   <td>False</td>\n",
       "</tr>\n",
       "<tr>\n",
       "     <td>FederalShippingThirty</td>       <td>UnitedPackageThirty</td>     <td>0.2504</td>    <td>0.9</td>  <td>-0.3798</td> <td>0.8806</td>   <td>False</td>\n",
       "</tr>\n",
       "<tr>\n",
       "     <td>FederalShippingThirty</td>       <td>UnitedPackageTwenty</td>     <td>-0.2799</td>   <td>0.9</td>  <td>-0.9145</td> <td>0.3546</td>   <td>False</td>\n",
       "</tr>\n",
       "<tr>\n",
       "     <td>FederalShippingThirty</td>    <td>UnitedPackageTwenty_Five</td>   <td>-0.232</td>    <td>0.9</td>  <td>-0.847</td>   <td>0.383</td>   <td>False</td>\n",
       "</tr>\n",
       "<tr>\n",
       "     <td>FederalShippingThirty</td>        <td>UnitedPackageZero</td>      <td>0.4769</td>  <td>0.1537</td> <td>-0.0566</td> <td>1.0104</td>   <td>False</td>\n",
       "</tr>\n",
       "<tr>\n",
       "     <td>FederalShippingTwenty</td>   <td>FederalShippingTwenty_Five</td>  <td>-0.0512</td>   <td>0.9</td>  <td>-0.7452</td> <td>0.6428</td>   <td>False</td>\n",
       "</tr>\n",
       "<tr>\n",
       "     <td>FederalShippingTwenty</td>       <td>FederalShippingZero</td>     <td>0.6834</td>   <td>0.003</td>  <td>0.118</td>  <td>1.2488</td>   <td>True</td> \n",
       "</tr>\n",
       "<tr>\n",
       "     <td>FederalShippingTwenty</td>      <td>SpeedyExpressFifteen</td>     <td>0.3509</td>    <td>0.9</td>  <td>-0.323</td>  <td>1.0248</td>   <td>False</td>\n",
       "</tr>\n",
       "<tr>\n",
       "     <td>FederalShippingTwenty</td>        <td>SpeedyExpressFive</td>      <td>-0.2344</td>   <td>0.9</td>  <td>-0.9827</td>  <td>0.514</td>   <td>False</td>\n",
       "</tr>\n",
       "<tr>\n",
       "     <td>FederalShippingTwenty</td>        <td>SpeedyExpressTen</td>       <td>0.0354</td>    <td>0.9</td>  <td>-0.6426</td> <td>0.7134</td>   <td>False</td>\n",
       "</tr>\n",
       "<tr>\n",
       "     <td>FederalShippingTwenty</td>       <td>SpeedyExpressThirty</td>     <td>0.5176</td>   <td>0.468</td> <td>-0.1715</td> <td>1.2068</td>   <td>False</td>\n",
       "</tr>\n",
       "<tr>\n",
       "     <td>FederalShippingTwenty</td>       <td>SpeedyExpressTwenty</td>     <td>-0.0864</td>   <td>0.9</td>  <td>-0.7583</td> <td>0.5855</td>   <td>False</td>\n",
       "</tr>\n",
       "<tr>\n",
       "     <td>FederalShippingTwenty</td>    <td>SpeedyExpressTwenty_Five</td>   <td>0.1134</td>    <td>0.9</td>  <td>-0.5528</td> <td>0.7796</td>   <td>False</td>\n",
       "</tr>\n",
       "<tr>\n",
       "     <td>FederalShippingTwenty</td>        <td>SpeedyExpressZero</td>      <td>0.5658</td>  <td>0.0509</td> <td>-0.0008</td> <td>1.1324</td>   <td>False</td>\n",
       "</tr>\n",
       "<tr>\n",
       "     <td>FederalShippingTwenty</td>      <td>UnitedPackageFifteen</td>     <td>0.3671</td>  <td>0.8538</td> <td>-0.2567</td> <td>0.9909</td>   <td>False</td>\n",
       "</tr>\n",
       "<tr>\n",
       "     <td>FederalShippingTwenty</td>        <td>UnitedPackageFive</td>      <td>-0.2622</td>   <td>0.9</td>  <td>-0.9322</td> <td>0.4077</td>   <td>False</td>\n",
       "</tr>\n",
       "<tr>\n",
       "     <td>FederalShippingTwenty</td>        <td>UnitedPackageTen</td>       <td>0.0438</td>    <td>0.9</td>  <td>-0.603</td>  <td>0.6906</td>   <td>False</td>\n",
       "</tr>\n",
       "<tr>\n",
       "     <td>FederalShippingTwenty</td>       <td>UnitedPackageThirty</td>     <td>0.4878</td>  <td>0.4516</td> <td>-0.1562</td> <td>1.1318</td>   <td>False</td>\n",
       "</tr>\n",
       "<tr>\n",
       "     <td>FederalShippingTwenty</td>       <td>UnitedPackageTwenty</td>     <td>-0.0425</td>   <td>0.9</td>  <td>-0.6908</td> <td>0.6057</td>   <td>False</td>\n",
       "</tr>\n",
       "<tr>\n",
       "     <td>FederalShippingTwenty</td>    <td>UnitedPackageTwenty_Five</td>   <td>0.0054</td>    <td>0.9</td>  <td>-0.6238</td> <td>0.6345</td>   <td>False</td>\n",
       "</tr>\n",
       "<tr>\n",
       "     <td>FederalShippingTwenty</td>        <td>UnitedPackageZero</td>      <td>0.7143</td>   <td>0.001</td> <td>0.1646</td>  <td>1.2641</td>   <td>True</td> \n",
       "</tr>\n",
       "<tr>\n",
       "  <td>FederalShippingTwenty_Five</td>     <td>FederalShippingZero</td>     <td>0.7346</td>   <td>0.001</td> <td>0.1789</td>  <td>1.2903</td>   <td>True</td> \n",
       "</tr>\n",
       "<tr>\n",
       "  <td>FederalShippingTwenty_Five</td>    <td>SpeedyExpressFifteen</td>     <td>0.4021</td>   <td>0.817</td> <td>-0.2636</td> <td>1.0679</td>   <td>False</td>\n",
       "</tr>\n",
       "<tr>\n",
       "  <td>FederalShippingTwenty_Five</td>      <td>SpeedyExpressFive</td>      <td>-0.1831</td>   <td>0.9</td>  <td>-0.9242</td>  <td>0.558</td>   <td>False</td>\n",
       "</tr>\n",
       "<tr>\n",
       "  <td>FederalShippingTwenty_Five</td>      <td>SpeedyExpressTen</td>       <td>0.0866</td>    <td>0.9</td>  <td>-0.5833</td> <td>0.7565</td>   <td>False</td>\n",
       "</tr>\n",
       "<tr>\n",
       "  <td>FederalShippingTwenty_Five</td>     <td>SpeedyExpressThirty</td>     <td>0.5689</td>  <td>0.2574</td> <td>-0.1123</td> <td>1.2501</td>   <td>False</td>\n",
       "</tr>\n",
       "<tr>\n",
       "  <td>FederalShippingTwenty_Five</td>     <td>SpeedyExpressTwenty</td>     <td>-0.0352</td>   <td>0.9</td>  <td>-0.699</td>  <td>0.6286</td>   <td>False</td>\n",
       "</tr>\n",
       "<tr>\n",
       "  <td>FederalShippingTwenty_Five</td>  <td>SpeedyExpressTwenty_Five</td>   <td>0.1646</td>    <td>0.9</td>  <td>-0.4934</td> <td>0.8226</td>   <td>False</td>\n",
       "</tr>\n",
       "<tr>\n",
       "  <td>FederalShippingTwenty_Five</td>      <td>SpeedyExpressZero</td>       <td>0.617</td>  <td>0.0128</td> <td>0.0601</td>  <td>1.1739</td>   <td>True</td> \n",
       "</tr>\n",
       "<tr>\n",
       "  <td>FederalShippingTwenty_Five</td>    <td>UnitedPackageFifteen</td>     <td>0.4183</td>  <td>0.6372</td> <td>-0.1968</td> <td>1.0334</td>   <td>False</td>\n",
       "</tr>\n",
       "<tr>\n",
       "  <td>FederalShippingTwenty_Five</td>      <td>UnitedPackageFive</td>      <td>-0.211</td>    <td>0.9</td>  <td>-0.8728</td> <td>0.4508</td>   <td>False</td>\n",
       "</tr>\n",
       "<tr>\n",
       "  <td>FederalShippingTwenty_Five</td>      <td>UnitedPackageTen</td>        <td>0.095</td>    <td>0.9</td>  <td>-0.5434</td> <td>0.7333</td>   <td>False</td>\n",
       "</tr>\n",
       "<tr>\n",
       "  <td>FederalShippingTwenty_Five</td>     <td>UnitedPackageThirty</td>      <td>0.539</td>  <td>0.2313</td> <td>-0.0965</td> <td>1.1745</td>   <td>False</td>\n",
       "</tr>\n",
       "<tr>\n",
       "  <td>FederalShippingTwenty_Five</td>     <td>UnitedPackageTwenty</td>     <td>0.0087</td>    <td>0.9</td>  <td>-0.6311</td> <td>0.6485</td>   <td>False</td>\n",
       "</tr>\n",
       "<tr>\n",
       "  <td>FederalShippingTwenty_Five</td>  <td>UnitedPackageTwenty_Five</td>   <td>0.0566</td>    <td>0.9</td>  <td>-0.5639</td> <td>0.6771</td>   <td>False</td>\n",
       "</tr>\n",
       "<tr>\n",
       "  <td>FederalShippingTwenty_Five</td>      <td>UnitedPackageZero</td>      <td>0.7655</td>   <td>0.001</td> <td>0.2258</td>  <td>1.3053</td>   <td>True</td> \n",
       "</tr>\n",
       "<tr>\n",
       "      <td>FederalShippingZero</td>       <td>SpeedyExpressFifteen</td>     <td>-0.3324</td> <td>0.7631</td> <td>-0.8628</td> <td>0.1979</td>   <td>False</td>\n",
       "</tr>\n",
       "<tr>\n",
       "      <td>FederalShippingZero</td>         <td>SpeedyExpressFive</td>      <td>-0.9177</td>  <td>0.001</td>  <td>-1.54</td>  <td>-0.2954</td>  <td>True</td> \n",
       "</tr>\n",
       "<tr>\n",
       "      <td>FederalShippingZero</td>         <td>SpeedyExpressTen</td>       <td>-0.648</td>  <td>0.0029</td> <td>-1.1835</td> <td>-0.1124</td>  <td>True</td> \n",
       "</tr>\n",
       "<tr>\n",
       "      <td>FederalShippingZero</td>        <td>SpeedyExpressThirty</td>     <td>-0.1657</td>   <td>0.9</td>  <td>-0.7153</td> <td>0.3839</td>   <td>False</td>\n",
       "</tr>\n",
       "<tr>\n",
       "      <td>FederalShippingZero</td>        <td>SpeedyExpressTwenty</td>     <td>-0.7698</td>  <td>0.001</td> <td>-1.2976</td> <td>-0.2419</td>  <td>True</td> \n",
       "</tr>\n",
       "<tr>\n",
       "      <td>FederalShippingZero</td>     <td>SpeedyExpressTwenty_Five</td>    <td>-0.57</td>  <td>0.0152</td> <td>-1.0906</td> <td>-0.0494</td>  <td>True</td> \n",
       "</tr>\n",
       "<tr>\n",
       "      <td>FederalShippingZero</td>         <td>SpeedyExpressZero</td>      <td>-0.1176</td>   <td>0.9</td>  <td>-0.5026</td> <td>0.2674</td>   <td>False</td>\n",
       "</tr>\n",
       "<tr>\n",
       "      <td>FederalShippingZero</td>       <td>UnitedPackageFifteen</td>     <td>-0.3163</td> <td>0.6375</td> <td>-0.7814</td> <td>0.1488</td>   <td>False</td>\n",
       "</tr>\n",
       "<tr>\n",
       "      <td>FederalShippingZero</td>         <td>UnitedPackageFive</td>      <td>-0.9456</td>  <td>0.001</td> <td>-1.471</td>  <td>-0.4202</td>  <td>True</td> \n",
       "</tr>\n",
       "<tr>\n",
       "      <td>FederalShippingZero</td>         <td>UnitedPackageTen</td>       <td>-0.6396</td>  <td>0.001</td> <td>-1.1351</td> <td>-0.1441</td>  <td>True</td> \n",
       "</tr>\n",
       "<tr>\n",
       "      <td>FederalShippingZero</td>        <td>UnitedPackageThirty</td>     <td>-0.1956</td>   <td>0.9</td>  <td>-0.6874</td> <td>0.2963</td>   <td>False</td>\n",
       "</tr>\n",
       "<tr>\n",
       "      <td>FederalShippingZero</td>        <td>UnitedPackageTwenty</td>     <td>-0.7259</td>  <td>0.001</td> <td>-1.2233</td> <td>-0.2285</td>  <td>True</td> \n",
       "</tr>\n",
       "<tr>\n",
       "      <td>FederalShippingZero</td>     <td>UnitedPackageTwenty_Five</td>   <td>-0.678</td>   <td>0.001</td> <td>-1.1502</td> <td>-0.2057</td>  <td>True</td> \n",
       "</tr>\n",
       "<tr>\n",
       "      <td>FederalShippingZero</td>         <td>UnitedPackageZero</td>      <td>0.0309</td>    <td>0.9</td>  <td>-0.3288</td> <td>0.3907</td>   <td>False</td>\n",
       "</tr>\n",
       "<tr>\n",
       "     <td>SpeedyExpressFifteen</td>         <td>SpeedyExpressFive</td>      <td>-0.5853</td> <td>0.3122</td> <td>-1.3076</td>  <td>0.137</td>   <td>False</td>\n",
       "</tr>\n",
       "<tr>\n",
       "     <td>SpeedyExpressFifteen</td>         <td>SpeedyExpressTen</td>       <td>-0.3155</td>   <td>0.9</td>  <td>-0.9646</td> <td>0.3335</td>   <td>False</td>\n",
       "</tr>\n",
       "<tr>\n",
       "     <td>SpeedyExpressFifteen</td>        <td>SpeedyExpressThirty</td>     <td>0.1667</td>    <td>0.9</td>  <td>-0.494</td>  <td>0.8274</td>   <td>False</td>\n",
       "</tr>\n",
       "<tr>\n",
       "     <td>SpeedyExpressFifteen</td>        <td>SpeedyExpressTwenty</td>     <td>-0.4373</td> <td>0.6365</td>  <td>-1.08</td>  <td>0.2054</td>   <td>False</td>\n",
       "</tr>\n",
       "<tr>\n",
       "     <td>SpeedyExpressFifteen</td>     <td>SpeedyExpressTwenty_Five</td>   <td>-0.2375</td>   <td>0.9</td>  <td>-0.8743</td> <td>0.3993</td>   <td>False</td>\n",
       "</tr>\n",
       "<tr>\n",
       "     <td>SpeedyExpressFifteen</td>         <td>SpeedyExpressZero</td>      <td>0.2149</td>    <td>0.9</td>  <td>-0.3168</td> <td>0.7465</td>   <td>False</td>\n",
       "</tr>\n",
       "<tr>\n",
       "     <td>SpeedyExpressFifteen</td>       <td>UnitedPackageFifteen</td>     <td>0.0162</td>    <td>0.9</td>  <td>-0.5761</td> <td>0.6084</td>   <td>False</td>\n",
       "</tr>\n",
       "<tr>\n",
       "     <td>SpeedyExpressFifteen</td>         <td>UnitedPackageFive</td>      <td>-0.6131</td> <td>0.0818</td> <td>-1.2538</td> <td>0.0275</td>   <td>False</td>\n",
       "</tr>\n",
       "<tr>\n",
       "     <td>SpeedyExpressFifteen</td>         <td>UnitedPackageTen</td>       <td>-0.3071</td>   <td>0.9</td>  <td>-0.9236</td> <td>0.3093</td>   <td>False</td>\n",
       "</tr>\n",
       "<tr>\n",
       "     <td>SpeedyExpressFifteen</td>        <td>UnitedPackageThirty</td>     <td>0.1369</td>    <td>0.9</td>  <td>-0.4766</td> <td>0.7503</td>   <td>False</td>\n",
       "</tr>\n",
       "<tr>\n",
       "     <td>SpeedyExpressFifteen</td>        <td>UnitedPackageTwenty</td>     <td>-0.3935</td> <td>0.7397</td> <td>-1.0114</td> <td>0.2245</td>   <td>False</td>\n",
       "</tr>\n",
       "<tr>\n",
       "     <td>SpeedyExpressFifteen</td>     <td>UnitedPackageTwenty_Five</td>   <td>-0.3455</td> <td>0.8786</td> <td>-0.9434</td> <td>0.2523</td>   <td>False</td>\n",
       "</tr>\n",
       "<tr>\n",
       "     <td>SpeedyExpressFifteen</td>         <td>UnitedPackageZero</td>      <td>0.3634</td>  <td>0.5726</td> <td>-0.1502</td>  <td>0.877</td>   <td>False</td>\n",
       "</tr>\n",
       "<tr>\n",
       "       <td>SpeedyExpressFive</td>          <td>SpeedyExpressTen</td>       <td>0.2698</td>    <td>0.9</td>  <td>-0.4564</td> <td>0.9959</td>   <td>False</td>\n",
       "</tr>\n",
       "<tr>\n",
       "       <td>SpeedyExpressFive</td>         <td>SpeedyExpressThirty</td>      <td>0.752</td>  <td>0.0391</td> <td>0.0155</td>  <td>1.4885</td>   <td>True</td> \n",
       "</tr>\n",
       "<tr>\n",
       "       <td>SpeedyExpressFive</td>         <td>SpeedyExpressTwenty</td>      <td>0.148</td>    <td>0.9</td>  <td>-0.5725</td> <td>0.8684</td>   <td>False</td>\n",
       "</tr>\n",
       "<tr>\n",
       "       <td>SpeedyExpressFive</td>      <td>SpeedyExpressTwenty_Five</td>   <td>0.3478</td>    <td>0.9</td>  <td>-0.3674</td> <td>1.0629</td>   <td>False</td>\n",
       "</tr>\n",
       "<tr>\n",
       "       <td>SpeedyExpressFive</td>          <td>SpeedyExpressZero</td>      <td>0.8001</td>   <td>0.001</td> <td>0.1767</td>  <td>1.4235</td>   <td>True</td> \n",
       "</tr>\n",
       "<tr>\n",
       "       <td>SpeedyExpressFive</td>        <td>UnitedPackageFifteen</td>     <td>0.6014</td>  <td>0.1597</td> <td>-0.0744</td> <td>1.2773</td>   <td>False</td>\n",
       "</tr>\n",
       "<tr>\n",
       "       <td>SpeedyExpressFive</td>          <td>UnitedPackageFive</td>      <td>-0.0279</td>   <td>0.9</td>  <td>-0.7465</td> <td>0.6908</td>   <td>False</td>\n",
       "</tr>\n",
       "<tr>\n",
       "       <td>SpeedyExpressFive</td>          <td>UnitedPackageTen</td>       <td>0.2781</td>    <td>0.9</td>  <td>-0.419</td>  <td>0.9752</td>   <td>False</td>\n",
       "</tr>\n",
       "<tr>\n",
       "       <td>SpeedyExpressFive</td>         <td>UnitedPackageThirty</td>     <td>0.7221</td>   <td>0.031</td> <td>0.0277</td>  <td>1.4166</td>   <td>True</td> \n",
       "</tr>\n",
       "<tr>\n",
       "       <td>SpeedyExpressFive</td>         <td>UnitedPackageTwenty</td>     <td>0.1918</td>    <td>0.9</td>  <td>-0.5066</td> <td>0.8903</td>   <td>False</td>\n",
       "</tr>\n",
       "<tr>\n",
       "       <td>SpeedyExpressFive</td>      <td>UnitedPackageTwenty_Five</td>   <td>0.2397</td>    <td>0.9</td>  <td>-0.441</td>  <td>0.9205</td>   <td>False</td>\n",
       "</tr>\n",
       "<tr>\n",
       "       <td>SpeedyExpressFive</td>          <td>UnitedPackageZero</td>      <td>0.9487</td>   <td>0.001</td> <td>0.3406</td>  <td>1.5568</td>   <td>True</td> \n",
       "</tr>\n",
       "<tr>\n",
       "       <td>SpeedyExpressTen</td>          <td>SpeedyExpressThirty</td>     <td>0.4823</td>  <td>0.5304</td> <td>-0.1826</td> <td>1.1471</td>   <td>False</td>\n",
       "</tr>\n",
       "<tr>\n",
       "       <td>SpeedyExpressTen</td>          <td>SpeedyExpressTwenty</td>     <td>-0.1218</td>   <td>0.9</td>  <td>-0.7688</td> <td>0.5252</td>   <td>False</td>\n",
       "</tr>\n",
       "<tr>\n",
       "       <td>SpeedyExpressTen</td>       <td>SpeedyExpressTwenty_Five</td>    <td>0.078</td>    <td>0.9</td>  <td>-0.5631</td> <td>0.7191</td>   <td>False</td>\n",
       "</tr>\n",
       "<tr>\n",
       "       <td>SpeedyExpressTen</td>           <td>SpeedyExpressZero</td>      <td>0.5304</td>  <td>0.0577</td> <td>-0.0065</td> <td>1.0672</td>   <td>False</td>\n",
       "</tr>\n",
       "<tr>\n",
       "       <td>SpeedyExpressTen</td>         <td>UnitedPackageFifteen</td>     <td>0.3317</td>    <td>0.9</td>  <td>-0.2652</td> <td>0.9286</td>   <td>False</td>\n",
       "</tr>\n",
       "<tr>\n",
       "       <td>SpeedyExpressTen</td>           <td>UnitedPackageFive</td>      <td>-0.2976</td>   <td>0.9</td>  <td>-0.9426</td> <td>0.3474</td>   <td>False</td>\n",
       "</tr>\n",
       "<tr>\n",
       "       <td>SpeedyExpressTen</td>           <td>UnitedPackageTen</td>       <td>0.0084</td>    <td>0.9</td>  <td>-0.6125</td> <td>0.6293</td>   <td>False</td>\n",
       "</tr>\n",
       "<tr>\n",
       "       <td>SpeedyExpressTen</td>          <td>UnitedPackageThirty</td>     <td>0.4524</td>  <td>0.5145</td> <td>-0.1656</td> <td>1.0704</td>   <td>False</td>\n",
       "</tr>\n",
       "<tr>\n",
       "       <td>SpeedyExpressTen</td>          <td>UnitedPackageTwenty</td>     <td>-0.0779</td>   <td>0.9</td>  <td>-0.7003</td> <td>0.5445</td>   <td>False</td>\n",
       "</tr>\n",
       "<tr>\n",
       "       <td>SpeedyExpressTen</td>       <td>UnitedPackageTwenty_Five</td>    <td>-0.03</td>    <td>0.9</td>  <td>-0.6325</td> <td>0.5725</td>   <td>False</td>\n",
       "</tr>\n",
       "<tr>\n",
       "       <td>SpeedyExpressTen</td>           <td>UnitedPackageZero</td>      <td>0.6789</td>   <td>0.001</td> <td>0.1599</td>  <td>1.1979</td>   <td>True</td> \n",
       "</tr>\n",
       "<tr>\n",
       "      <td>SpeedyExpressThirty</td>        <td>SpeedyExpressTwenty</td>     <td>-0.6041</td> <td>0.1236</td> <td>-1.2627</td> <td>0.0546</td>   <td>False</td>\n",
       "</tr>\n",
       "<tr>\n",
       "      <td>SpeedyExpressThirty</td>     <td>SpeedyExpressTwenty_Five</td>   <td>-0.4042</td> <td>0.7812</td> <td>-1.0571</td> <td>0.2486</td>   <td>False</td>\n",
       "</tr>\n",
       "<tr>\n",
       "      <td>SpeedyExpressThirty</td>         <td>SpeedyExpressZero</td>      <td>0.0481</td>    <td>0.9</td>  <td>-0.5027</td>  <td>0.599</td>   <td>False</td>\n",
       "</tr>\n",
       "<tr>\n",
       "      <td>SpeedyExpressThirty</td>       <td>UnitedPackageFifteen</td>     <td>-0.1506</td>   <td>0.9</td>  <td>-0.7601</td>  <td>0.459</td>   <td>False</td>\n",
       "</tr>\n",
       "<tr>\n",
       "      <td>SpeedyExpressThirty</td>         <td>UnitedPackageFive</td>      <td>-0.7799</td> <td>0.0041</td> <td>-1.4366</td> <td>-0.1232</td>  <td>True</td> \n",
       "</tr>\n",
       "<tr>\n",
       "      <td>SpeedyExpressThirty</td>         <td>UnitedPackageTen</td>       <td>-0.4739</td> <td>0.4746</td> <td>-1.1069</td> <td>0.1592</td>   <td>False</td>\n",
       "</tr>\n",
       "<tr>\n",
       "      <td>SpeedyExpressThirty</td>        <td>UnitedPackageThirty</td>     <td>-0.0299</td>   <td>0.9</td>   <td>-0.66</td>  <td>0.6003</td>   <td>False</td>\n",
       "</tr>\n",
       "<tr>\n",
       "      <td>SpeedyExpressThirty</td>        <td>UnitedPackageTwenty</td>     <td>-0.5602</td> <td>0.1708</td> <td>-1.1947</td> <td>0.0743</td>   <td>False</td>\n",
       "</tr>\n",
       "<tr>\n",
       "      <td>SpeedyExpressThirty</td>     <td>UnitedPackageTwenty_Five</td>   <td>-0.5123</td>  <td>0.262</td> <td>-1.1273</td> <td>0.1028</td>   <td>False</td>\n",
       "</tr>\n",
       "<tr>\n",
       "      <td>SpeedyExpressThirty</td>         <td>UnitedPackageZero</td>      <td>0.1967</td>    <td>0.9</td>  <td>-0.3368</td> <td>0.7302</td>   <td>False</td>\n",
       "</tr>\n",
       "<tr>\n",
       "      <td>SpeedyExpressTwenty</td>     <td>SpeedyExpressTwenty_Five</td>   <td>0.1998</td>    <td>0.9</td>  <td>-0.4349</td> <td>0.8345</td>   <td>False</td>\n",
       "</tr>\n",
       "<tr>\n",
       "      <td>SpeedyExpressTwenty</td>         <td>SpeedyExpressZero</td>      <td>0.6522</td>  <td>0.0021</td>  <td>0.123</td>  <td>1.1813</td>   <td>True</td> \n",
       "</tr>\n",
       "<tr>\n",
       "      <td>SpeedyExpressTwenty</td>       <td>UnitedPackageFifteen</td>     <td>0.4535</td>  <td>0.4216</td> <td>-0.1365</td> <td>1.0435</td>   <td>False</td>\n",
       "</tr>\n",
       "<tr>\n",
       "      <td>SpeedyExpressTwenty</td>         <td>UnitedPackageFive</td>      <td>-0.1758</td>   <td>0.9</td>  <td>-0.8144</td> <td>0.4628</td>   <td>False</td>\n",
       "</tr>\n",
       "<tr>\n",
       "      <td>SpeedyExpressTwenty</td>         <td>UnitedPackageTen</td>       <td>0.1302</td>    <td>0.9</td>  <td>-0.4841</td> <td>0.7444</td>   <td>False</td>\n",
       "</tr>\n",
       "<tr>\n",
       "      <td>SpeedyExpressTwenty</td>        <td>UnitedPackageThirty</td>     <td>0.5742</td>  <td>0.0977</td> <td>-0.0371</td> <td>1.1855</td>   <td>False</td>\n",
       "</tr>\n",
       "<tr>\n",
       "      <td>SpeedyExpressTwenty</td>        <td>UnitedPackageTwenty</td>     <td>0.0439</td>    <td>0.9</td>  <td>-0.5719</td> <td>0.6596</td>   <td>False</td>\n",
       "</tr>\n",
       "<tr>\n",
       "      <td>SpeedyExpressTwenty</td>     <td>UnitedPackageTwenty_Five</td>   <td>0.0918</td>    <td>0.9</td>  <td>-0.5038</td> <td>0.6874</td>   <td>False</td>\n",
       "</tr>\n",
       "<tr>\n",
       "      <td>SpeedyExpressTwenty</td>         <td>UnitedPackageZero</td>      <td>0.8007</td>   <td>0.001</td> <td>0.2897</td>  <td>1.3118</td>   <td>True</td> \n",
       "</tr>\n",
       "<tr>\n",
       "   <td>SpeedyExpressTwenty_Five</td>       <td>SpeedyExpressZero</td>      <td>0.4524</td>  <td>0.1968</td> <td>-0.0695</td> <td>0.9743</td>   <td>False</td>\n",
       "</tr>\n",
       "<tr>\n",
       "   <td>SpeedyExpressTwenty_Five</td>     <td>UnitedPackageFifteen</td>     <td>0.2537</td>    <td>0.9</td>  <td>-0.3298</td> <td>0.8372</td>   <td>False</td>\n",
       "</tr>\n",
       "<tr>\n",
       "   <td>SpeedyExpressTwenty_Five</td>       <td>UnitedPackageFive</td>      <td>-0.3756</td> <td>0.8412</td> <td>-1.0082</td>  <td>0.257</td>   <td>False</td>\n",
       "</tr>\n",
       "<tr>\n",
       "   <td>SpeedyExpressTwenty_Five</td>       <td>UnitedPackageTen</td>       <td>-0.0696</td>   <td>0.9</td>  <td>-0.6777</td> <td>0.5384</td>   <td>False</td>\n",
       "</tr>\n",
       "<tr>\n",
       "   <td>SpeedyExpressTwenty_Five</td>      <td>UnitedPackageThirty</td>     <td>0.3744</td>  <td>0.7821</td> <td>-0.2307</td> <td>0.9794</td>   <td>False</td>\n",
       "</tr>\n",
       "<tr>\n",
       "   <td>SpeedyExpressTwenty_Five</td>      <td>UnitedPackageTwenty</td>     <td>-0.1559</td>   <td>0.9</td>  <td>-0.7655</td> <td>0.4536</td>   <td>False</td>\n",
       "</tr>\n",
       "<tr>\n",
       "   <td>SpeedyExpressTwenty_Five</td>   <td>UnitedPackageTwenty_Five</td>   <td>-0.108</td>    <td>0.9</td>  <td>-0.6972</td> <td>0.4812</td>   <td>False</td>\n",
       "</tr>\n",
       "<tr>\n",
       "   <td>SpeedyExpressTwenty_Five</td>       <td>UnitedPackageZero</td>      <td>0.6009</td>  <td>0.0037</td> <td>0.0974</td>  <td>1.1045</td>   <td>True</td> \n",
       "</tr>\n",
       "<tr>\n",
       "       <td>SpeedyExpressZero</td>        <td>UnitedPackageFifteen</td>     <td>-0.1987</td>   <td>0.9</td>  <td>-0.6653</td> <td>0.2679</td>   <td>False</td>\n",
       "</tr>\n",
       "<tr>\n",
       "       <td>SpeedyExpressZero</td>          <td>UnitedPackageFive</td>      <td>-0.828</td>   <td>0.001</td> <td>-1.3547</td> <td>-0.3013</td>  <td>True</td> \n",
       "</tr>\n",
       "<tr>\n",
       "       <td>SpeedyExpressZero</td>          <td>UnitedPackageTen</td>       <td>-0.522</td>  <td>0.0271</td> <td>-1.0189</td> <td>-0.0251</td>  <td>True</td> \n",
       "</tr>\n",
       "<tr>\n",
       "       <td>SpeedyExpressZero</td>         <td>UnitedPackageThirty</td>     <td>-0.078</td>    <td>0.9</td>  <td>-0.5712</td> <td>0.4152</td>   <td>False</td>\n",
       "</tr>\n",
       "<tr>\n",
       "       <td>SpeedyExpressZero</td>         <td>UnitedPackageTwenty</td>     <td>-0.6083</td> <td>0.0025</td> <td>-1.1071</td> <td>-0.1095</td>  <td>True</td> \n",
       "</tr>\n",
       "<tr>\n",
       "       <td>SpeedyExpressZero</td>      <td>UnitedPackageTwenty_Five</td>   <td>-0.5604</td> <td>0.0044</td> <td>-1.0341</td> <td>-0.0867</td>  <td>True</td> \n",
       "</tr>\n",
       "<tr>\n",
       "       <td>SpeedyExpressZero</td>          <td>UnitedPackageZero</td>      <td>0.1485</td>    <td>0.9</td>  <td>-0.2131</td> <td>0.5101</td>   <td>False</td>\n",
       "</tr>\n",
       "<tr>\n",
       "     <td>UnitedPackageFifteen</td>         <td>UnitedPackageFive</td>      <td>-0.6293</td>  <td>0.021</td> <td>-1.2171</td> <td>-0.0415</td>  <td>True</td> \n",
       "</tr>\n",
       "<tr>\n",
       "     <td>UnitedPackageFifteen</td>         <td>UnitedPackageTen</td>       <td>-0.3233</td> <td>0.8831</td> <td>-0.8846</td>  <td>0.238</td>   <td>False</td>\n",
       "</tr>\n",
       "<tr>\n",
       "     <td>UnitedPackageFifteen</td>        <td>UnitedPackageThirty</td>     <td>0.1207</td>    <td>0.9</td>  <td>-0.4373</td> <td>0.6787</td>   <td>False</td>\n",
       "</tr>\n",
       "<tr>\n",
       "     <td>UnitedPackageFifteen</td>        <td>UnitedPackageTwenty</td>     <td>-0.4096</td> <td>0.5249</td> <td>-0.9726</td> <td>0.1533</td>   <td>False</td>\n",
       "</tr>\n",
       "<tr>\n",
       "     <td>UnitedPackageFifteen</td>     <td>UnitedPackageTwenty_Five</td>   <td>-0.3617</td>  <td>0.664</td> <td>-0.9025</td> <td>0.1791</td>   <td>False</td>\n",
       "</tr>\n",
       "<tr>\n",
       "     <td>UnitedPackageFifteen</td>         <td>UnitedPackageZero</td>      <td>0.3472</td>  <td>0.3942</td> <td>-0.0987</td> <td>0.7932</td>   <td>False</td>\n",
       "</tr>\n",
       "<tr>\n",
       "       <td>UnitedPackageFive</td>          <td>UnitedPackageTen</td>        <td>0.306</td>    <td>0.9</td>  <td>-0.3061</td> <td>0.9181</td>   <td>False</td>\n",
       "</tr>\n",
       "<tr>\n",
       "       <td>UnitedPackageFive</td>         <td>UnitedPackageThirty</td>      <td>0.75</td>   <td>0.0021</td> <td>0.1408</td>  <td>1.3592</td>   <td>True</td> \n",
       "</tr>\n",
       "<tr>\n",
       "       <td>UnitedPackageFive</td>         <td>UnitedPackageTwenty</td>     <td>0.2197</td>    <td>0.9</td>  <td>-0.394</td>  <td>0.8333</td>   <td>False</td>\n",
       "</tr>\n",
       "<tr>\n",
       "       <td>UnitedPackageFive</td>      <td>UnitedPackageTwenty_Five</td>   <td>0.2676</td>    <td>0.9</td>  <td>-0.3258</td> <td>0.8611</td>   <td>False</td>\n",
       "</tr>\n",
       "<tr>\n",
       "       <td>UnitedPackageFive</td>          <td>UnitedPackageZero</td>      <td>0.9765</td>   <td>0.001</td>  <td>0.468</td>   <td>1.485</td>   <td>True</td> \n",
       "</tr>\n",
       "<tr>\n",
       "       <td>UnitedPackageTen</td>          <td>UnitedPackageThirty</td>      <td>0.444</td>  <td>0.4427</td> <td>-0.1396</td> <td>1.0276</td>   <td>False</td>\n",
       "</tr>\n",
       "<tr>\n",
       "       <td>UnitedPackageTen</td>          <td>UnitedPackageTwenty</td>     <td>-0.0863</td>   <td>0.9</td>  <td>-0.6746</td>  <td>0.502</td>   <td>False</td>\n",
       "</tr>\n",
       "<tr>\n",
       "       <td>UnitedPackageTen</td>       <td>UnitedPackageTwenty_Five</td>   <td>-0.0384</td>   <td>0.9</td>  <td>-0.6056</td> <td>0.5288</td>   <td>False</td>\n",
       "</tr>\n",
       "<tr>\n",
       "       <td>UnitedPackageTen</td>           <td>UnitedPackageZero</td>      <td>0.6705</td>   <td>0.001</td>  <td>0.193</td>  <td>1.1481</td>   <td>True</td> \n",
       "</tr>\n",
       "<tr>\n",
       "      <td>UnitedPackageThirty</td>        <td>UnitedPackageTwenty</td>     <td>-0.5303</td> <td>0.1359</td> <td>-1.1155</td> <td>0.0549</td>   <td>False</td>\n",
       "</tr>\n",
       "<tr>\n",
       "      <td>UnitedPackageThirty</td>     <td>UnitedPackageTwenty_Five</td>   <td>-0.4824</td> <td>0.2176</td> <td>-1.0464</td> <td>0.0816</td>   <td>False</td>\n",
       "</tr>\n",
       "<tr>\n",
       "      <td>UnitedPackageThirty</td>         <td>UnitedPackageZero</td>      <td>0.2265</td>    <td>0.9</td>  <td>-0.2472</td> <td>0.7003</td>   <td>False</td>\n",
       "</tr>\n",
       "<tr>\n",
       "      <td>UnitedPackageTwenty</td>     <td>UnitedPackageTwenty_Five</td>   <td>0.0479</td>    <td>0.9</td>  <td>-0.5209</td> <td>0.6168</td>   <td>False</td>\n",
       "</tr>\n",
       "<tr>\n",
       "      <td>UnitedPackageTwenty</td>         <td>UnitedPackageZero</td>      <td>0.7569</td>   <td>0.001</td> <td>0.2773</td>  <td>1.2364</td>   <td>True</td> \n",
       "</tr>\n",
       "<tr>\n",
       "   <td>UnitedPackageTwenty_Five</td>       <td>UnitedPackageZero</td>      <td>0.7089</td>   <td>0.001</td> <td>0.2555</td>  <td>1.1623</td>   <td>True</td> \n",
       "</tr>\n",
       "</table>"
      ],
      "text/plain": [
       "<class 'statsmodels.iolib.table.SimpleTable'>"
      ]
     },
     "execution_count": 49,
     "metadata": {},
     "output_type": "execute_result"
    }
   ],
   "source": [
    "tukey_results = pairwise_tukeyhsd(df_str['ItemTotal'], df_str['CompanyName']+df_str['ReorderLevel'])\n",
    "tukey_results.summary()"
   ]
  },
  {
   "cell_type": "code",
   "execution_count": 50,
   "metadata": {},
   "outputs": [
    {
     "name": "stderr",
     "output_type": "stream",
     "text": [
      "C:\\Users\\eannefawcett\\Anaconda3\\envs\\learn-env\\lib\\site-packages\\ipykernel_launcher.py:7: UserWarning: Matplotlib is currently using module://ipykernel.pylab.backend_inline, which is a non-GUI backend, so cannot show the figure.\n",
      "  import sys\n"
     ]
    },
    {
     "data": {
      "image/png": "[encoded data removed]",
      "text/plain": [
       "<Figure size 720x432 with 1 Axes>"
      ]
     },
     "metadata": {
      "needs_background": "light"
     },
     "output_type": "display_data"
    }
   ],
   "source": [
    "# create figure\n",
    "fig06 = plt.figure(figsize=(5,4))\n",
    "ax = fig06.add_subplot(111)\n",
    "\n",
    "# run tukeys\n",
    "tukey_results = pairwise_tukeyhsd(df_str['ItemTotal'], df_str['CompanyName']+df_str['ReorderLevel'])\n",
    "tukey_plot = tukey_results.plot_simultaneous(ax=ax).show() \n",
    "\n",
    "# format plot\n",
    "ax.axes.set_title('Multiple Comparisions Between Shipping Companies and Level of Reorder')\n",
    "ax.axes.set_ylabel('Shipping Company and Level of Reorder')\n",
    "ax.axes.set_xlabel('Item Total')\n",
    "plt.show();"
   ]
  },
  {
   "cell_type": "markdown",
   "metadata": {},
   "source": [
    "# 2.3 Results<a id='Results'></a>"
   ]
  },
  {
   "cell_type": "markdown",
   "metadata": {},
   "source": [
    "# 2.4 Conclusions<a id='Conclusions'></a>\n",
    "\n",
    "- 2.4.1 Actionable Items and Insights\n",
    "- 2.4.2 Additional Visuals"
   ]
  },
  {
   "cell_type": "markdown",
   "metadata": {},
   "source": [
    "## 2.4.1 Actionable Items and Insights<a id='Actionable Items and Insights'></a>\n",
    "\n",
    "YES, REORDER LOWERS CUSTOMER SPENDING\n",
    "\n",
    "TRY TO MOVE CLIENTS TO A REORDER LEVEL OF 15; DISCOURAGE CLIENTS FROM A REORDER LEVEL OF 5"
   ]
  },
  {
   "cell_type": "markdown",
   "metadata": {},
   "source": [
    "## 2.4.2 Additional Visuals<a id='Additional Visuals'></a>"
   ]
  },
  {
   "cell_type": "markdown",
   "metadata": {},
   "source": [
    "# 2.5 Future Work<a id='Future Work'></a>"
   ]
  },
  {
   "cell_type": "markdown",
   "metadata": {},
   "source": [
    "Confirm that using a reorder level of 15 will be advantageous for the company."
   ]
  },
  {
   "cell_type": "markdown",
   "metadata": {},
   "source": [
    "# 2.6 References<a id='References'></a>\n",
    "https://en.wikipedia.org/wiki/Effect_size#Categorical_family:_Effect_sizes_for_associations_among_categorical_variables\n",
    "https://machinelearningmastery.com/chi-squared-test-for-machine-learning/\n",
    "https://gist.github.com/dtemkin/04e653c8f19e8ac0c4965b797ba2af2b"
   ]
  }
 ],
 "metadata": {
  "kernelspec": {
   "display_name": "learn-env",
   "language": "python",
   "name": "learn-env"
  },
  "language_info": {
   "codemirror_mode": {
    "name": "ipython",
    "version": 3
   },
   "file_extension": ".py",
   "mimetype": "text/x-python",
   "name": "python",
   "nbconvert_exporter": "python",
   "pygments_lexer": "ipython3",
   "version": "3.6.6"
  }
 },
 "nbformat": 4,
 "nbformat_minor": 2
}
