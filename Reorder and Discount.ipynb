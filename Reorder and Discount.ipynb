{
 "cells": [
  {
   "cell_type": "markdown",
   "metadata": {},
   "source": [
    "- conversation about type 1 and 2 errors\n",
    "- ANOVA tukey graph, talk about CI\n",
    "- address log transformation\n",
    "- fix effect size"
   ]
  },
  {
   "cell_type": "markdown",
   "metadata": {},
   "source": [
    "<img src='images/Northwind_ERD_updated.png.'>"
   ]
  },
  {
   "cell_type": "markdown",
   "metadata": {},
   "source": [
    "<a href='#2.0-Initial-Question'>**2.0 Initial Question**</a>\n",
    "\n",
    "<a href='#2.1-Initial-Hypothesis'>**2.1 Initial Hypothesis**</a>\n",
    "- <a href='#2.1.1-Null-Hypothesis'>2.1.1 Null Hypothesis</a>\n",
    "- <a href='#2.1.2-Alternative-Hypothesis'>2.1.2 Alternative Hypothesis</a>\n",
    "- <a href='#2.1.3-Features'>2.1.3 Features</a>\n",
    "- <a href='#2.1.4-Target-Variable'>2.1.4 Target Variable</a>\n",
    "\n",
    "<a href='#2.2-Methodology'>**2.2 Methodology**</a>\n",
    "- <a href='#2.2.1-Obtain-Data'>2.2.1 Obtain Data</a>\n",
    "- <a href='#2.2.2-Scrub-Data'>2.2.2 Scrub Data</a>\n",
    "    - <a href='#2.2.2.1-Manage-n/a-data-types'>2.2.2.1 Manage n/a data types</a>\n",
    "    - <a href='#2.2.2.2-Remove-duplicate-data'>2.2.2.2 Remove duplicate data</a>\n",
    "    - <a href='#2.2.2.3-Manage-data-types'>2.2.2.3 Manage data types</a>\n",
    "    - <a href='#2.2.2.4-Remove-outliers'>2.2.2.4 Remove outliers</a>\n",
    "- <a href='#2.2.3-Explore-Data'>2.2.3 Explore Data</a>\n",
    "    - <a href='#2.2.3.1-Visualize-data'>2.2.3.1 Visualize data</a>\n",
    "    - <a href='#2.2.3.2-Transform-data'>2.2.3.2 Transform data</a>\n",
    "    - <a href='#2.2.3.3-Sort-data-/-Prepare-data-for-testing'>2.2.3.3 Sort data / Prepare data for testing</a>\n",
    "    - <a href='#2.2.3.4-Develop-feature'>2.2.3.4 Develop Feature</a>\n",
    "- <a href='#2.2.4-Model-Data'>2.2.4 Model Data</a>\n",
    "    - <a href='#2.2.4.1-Check-for-data-normality'>2.2.4.1 Check for data normality</a>\n",
    "    - <a href='#2.2.4.2-Standard-deviation-and-other-basic-statistics'>2.2.4.2 Standard deviation and other basic statistics</a>\n",
    "    - <a href='#2.2.4.3-Statistical-test'>2.2.4.3 Statistical test</a>\n",
    "    - <a href='#2.2.4.4-Verification-techniques'>2.2.4.4 Verification techniques</a>\n",
    "        - <a href='#2.2.4.4.1-Nonparametric-testing-and-confirmatory-testing'>2.2.4.4.1 Nonparametric testing</a>\n",
    "        - <a href='#2.2.4.4.2-Effect-size'>2.2.4.4.2 Effect size</a>\n",
    "        - <a href='#2.2.4.4.3-Error'>2.2.4.4.3 Error</a>\n",
    "- <a href='#2.2.5-Interpret-Model'>2.2.5 Interpret Model</a>\n",
    "    - <a href='#2.2.5.1-Extension-of-acquired-knowledge'>2.2.5.1 Extension of acquired knowledge</a>\n",
    "    \n",
    "<a href='#2.3-Results'>**2.3 Results**</a>\n",
    "\n",
    "<a href='#2.4-Conclusions'>**2.4 Conclusions**</a>\n",
    "\n",
    "- <a href='#2.4.1-Actionable-Items-and-Insights'>2.4.1 Actionable Items and Insights</a>\n",
    "- <a href='#2.4.2-Additional-Visuals'>2.4.2 Additional Visuals</a>\n",
    "\n",
    "<a href='#2.5-Future-Work'>**2.5 Future Work**</a>\n",
    "\n",
    "<a href='#2.6-References'>**2.6 References**</a>"
   ]
  },
  {
   "cell_type": "markdown",
   "metadata": {},
   "source": [
    "# 2.0 Initial Question<a id='Initial Question'></a>"
   ]
  },
  {
   "cell_type": "markdown",
   "metadata": {},
   "source": [
    "### Does reorder and shipping company affect customer spending on an order? Which shipping company is best for what level of reorder?"
   ]
  },
  {
   "cell_type": "markdown",
   "metadata": {},
   "source": [
    "# 2.1 Initial Hypothesis<a id='Initial Hypothesis'></a>"
   ]
  },
  {
   "cell_type": "markdown",
   "metadata": {},
   "source": [
    "### 2.1.1 Null Hypothesis<a id='Null Hypothesis'></a>"
   ]
  },
  {
   "cell_type": "markdown",
   "metadata": {},
   "source": [
    "H0: no effect - there is no change to spending based on reorder or frieght costs"
   ]
  },
  {
   "cell_type": "markdown",
   "metadata": {},
   "source": [
    "### 2.1.2 Alternative Hypothesis<a id='Alternative Hypothesis'></a>"
   ]
  },
  {
   "cell_type": "markdown",
   "metadata": {},
   "source": [
    "HA: there is an effect - there is a change to spending based on reorder or frieght costs"
   ]
  },
  {
   "cell_type": "markdown",
   "metadata": {},
   "source": [
    "### 2.1.3 Features<a id='Features'></a>"
   ]
  },
  {
   "cell_type": "markdown",
   "metadata": {},
   "source": [
    ": spending"
   ]
  },
  {
   "cell_type": "markdown",
   "metadata": {},
   "source": [
    "### 2.1.4 Target Variable<a id='Target Variable'></a>"
   ]
  },
  {
   "cell_type": "markdown",
   "metadata": {},
   "source": [
    ": reorder/frieght"
   ]
  },
  {
   "cell_type": "markdown",
   "metadata": {},
   "source": [
    "# 2.2 Methodology<a id='Methodology'></a>\n",
    "\n",
    "To evaluate, I have chosen to use the following steps:\n",
    "- 2.2.1 Obtain Data\n",
    "- 2.2.2 Scrub Data\n",
    "- 2.2.3 Explore Data\n",
    "- 2.2.4 Model Data\n",
    "- 2.2.5 Interpret Model\n",
    "\n",
    "I have found that the OSEMN method explains the data science process, and gives context to exploring data."
   ]
  },
  {
   "cell_type": "markdown",
   "metadata": {},
   "source": [
    "## 2.2.1 Obtain Data<a id='Obtain Data'></a>"
   ]
  },
  {
   "cell_type": "code",
   "execution_count": 54,
   "metadata": {},
   "outputs": [],
   "source": [
    "# develop class\n",
    "pass"
   ]
  },
  {
   "cell_type": "code",
   "execution_count": 55,
   "metadata": {},
   "outputs": [],
   "source": [
    "# import py file\n",
    "from classes import Pvalue"
   ]
  },
  {
   "cell_type": "code",
   "execution_count": 56,
   "metadata": {},
   "outputs": [],
   "source": [
    "# import libraries\n",
    "import pandas as pd\n",
    "import sqlite3\n",
    "\n",
    "import numpy as np\n",
    "from numpy import std, mean, sqrt\n",
    "import scipy.stats as stats\n",
    "from scipy.stats import wilcoxon\n",
    "from statsmodels.stats.power import tt_ind_solve_power\n",
    "import statsmodels.api as sm\n",
    "from statsmodels.formula.api import ols\n",
    "from statsmodels.stats.multicomp import pairwise_tukeyhsd\n",
    "\n",
    "import matplotlib.pyplot as plt\n",
    "%matplotlib inline\n",
    "# plt.style.use('Solarize_Light2')\n",
    "import seaborn as sns\n",
    "\n",
    "idx = pd.IndexSlice"
   ]
  },
  {
   "cell_type": "code",
   "execution_count": 126,
   "metadata": {},
   "outputs": [
    {
     "data": {
      "text/html": [
       "<div>\n",
       "<style scoped>\n",
       "    .dataframe tbody tr th:only-of-type {\n",
       "        vertical-align: middle;\n",
       "    }\n",
       "\n",
       "    .dataframe tbody tr th {\n",
       "        vertical-align: top;\n",
       "    }\n",
       "\n",
       "    .dataframe thead th {\n",
       "        text-align: right;\n",
       "    }\n",
       "</style>\n",
       "<table border=\"1\" class=\"dataframe\">\n",
       "  <thead>\n",
       "    <tr style=\"text-align: right;\">\n",
       "      <th></th>\n",
       "      <th>Id</th>\n",
       "      <th>OrderDate</th>\n",
       "      <th>Freight</th>\n",
       "      <th>ReorderLevel</th>\n",
       "      <th>ItemTotal</th>\n",
       "      <th>ProductId</th>\n",
       "      <th>Discount</th>\n",
       "      <th>CompanyName</th>\n",
       "    </tr>\n",
       "  </thead>\n",
       "  <tbody>\n",
       "    <tr>\n",
       "      <th>0</th>\n",
       "      <td>10248</td>\n",
       "      <td>2012-07-04</td>\n",
       "      <td>32.38</td>\n",
       "      <td>30</td>\n",
       "      <td>252.00</td>\n",
       "      <td>11</td>\n",
       "      <td>0.0</td>\n",
       "      <td>Federal Shipping</td>\n",
       "    </tr>\n",
       "    <tr>\n",
       "      <th>1</th>\n",
       "      <td>10248</td>\n",
       "      <td>2012-07-04</td>\n",
       "      <td>32.38</td>\n",
       "      <td>0</td>\n",
       "      <td>140.00</td>\n",
       "      <td>42</td>\n",
       "      <td>0.0</td>\n",
       "      <td>Federal Shipping</td>\n",
       "    </tr>\n",
       "    <tr>\n",
       "      <th>2</th>\n",
       "      <td>10248</td>\n",
       "      <td>2012-07-04</td>\n",
       "      <td>32.38</td>\n",
       "      <td>0</td>\n",
       "      <td>174.00</td>\n",
       "      <td>72</td>\n",
       "      <td>0.0</td>\n",
       "      <td>Federal Shipping</td>\n",
       "    </tr>\n",
       "    <tr>\n",
       "      <th>3</th>\n",
       "      <td>10249</td>\n",
       "      <td>2012-07-05</td>\n",
       "      <td>11.61</td>\n",
       "      <td>0</td>\n",
       "      <td>209.25</td>\n",
       "      <td>14</td>\n",
       "      <td>0.0</td>\n",
       "      <td>Speedy Express</td>\n",
       "    </tr>\n",
       "    <tr>\n",
       "      <th>4</th>\n",
       "      <td>10249</td>\n",
       "      <td>2012-07-05</td>\n",
       "      <td>11.61</td>\n",
       "      <td>10</td>\n",
       "      <td>2120.00</td>\n",
       "      <td>51</td>\n",
       "      <td>0.0</td>\n",
       "      <td>Speedy Express</td>\n",
       "    </tr>\n",
       "  </tbody>\n",
       "</table>\n",
       "</div>"
      ],
      "text/plain": [
       "      Id   OrderDate  Freight  ReorderLevel  ItemTotal  ProductId  Discount  \\\n",
       "0  10248  2012-07-04    32.38            30     252.00         11       0.0   \n",
       "1  10248  2012-07-04    32.38             0     140.00         42       0.0   \n",
       "2  10248  2012-07-04    32.38             0     174.00         72       0.0   \n",
       "3  10249  2012-07-05    11.61             0     209.25         14       0.0   \n",
       "4  10249  2012-07-05    11.61            10    2120.00         51       0.0   \n",
       "\n",
       "        CompanyName  \n",
       "0  Federal Shipping  \n",
       "1  Federal Shipping  \n",
       "2  Federal Shipping  \n",
       "3    Speedy Express  \n",
       "4    Speedy Express  "
      ]
     },
     "execution_count": 126,
     "metadata": {},
     "output_type": "execute_result"
    }
   ],
   "source": [
    "# import data\n",
    "conn = sqlite3.Connection('Northwind_small.sqlite')\n",
    "cur = conn.cursor()\n",
    "\n",
    "# All data\n",
    "cur.execute(\"\"\"SELECT 'Order'.Id, OrderDate, Freight, ReorderLevel, Product.UnitPrice*Quantity as ItemTotal, OrderDetail.ProductId, OrderDetail.Discount, Shipper.CompanyName\n",
    "               FROM OrderDetail\n",
    "               LEFT JOIN 'Order' ON OrderDetail.OrderID = 'Order'.Id\n",
    "               JOIN Product ON OrderDetail.ProductId = Product.Id\n",
    "               JOIN Shipper ON 'Order'.ShipVia = Shipper.Id\n",
    "               ;\"\"\")\n",
    "df = pd.DataFrame(cur.fetchall())\n",
    "df.columns = [x[0] for x in cur.description]\n",
    "df.head()"
   ]
  },
  {
   "cell_type": "code",
   "execution_count": 127,
   "metadata": {},
   "outputs": [
    {
     "data": {
      "text/html": [
       "<div>\n",
       "<style scoped>\n",
       "    .dataframe tbody tr th:only-of-type {\n",
       "        vertical-align: middle;\n",
       "    }\n",
       "\n",
       "    .dataframe tbody tr th {\n",
       "        vertical-align: top;\n",
       "    }\n",
       "\n",
       "    .dataframe thead th {\n",
       "        text-align: right;\n",
       "    }\n",
       "</style>\n",
       "<table border=\"1\" class=\"dataframe\">\n",
       "  <thead>\n",
       "    <tr style=\"text-align: right;\">\n",
       "      <th></th>\n",
       "      <th></th>\n",
       "      <th></th>\n",
       "      <th></th>\n",
       "      <th>OrderDate</th>\n",
       "      <th>Freight</th>\n",
       "      <th>ItemTotal</th>\n",
       "      <th>Discount</th>\n",
       "    </tr>\n",
       "    <tr>\n",
       "      <th>Id</th>\n",
       "      <th>ProductId</th>\n",
       "      <th>ReorderLevel</th>\n",
       "      <th>CompanyName</th>\n",
       "      <th></th>\n",
       "      <th></th>\n",
       "      <th></th>\n",
       "      <th></th>\n",
       "    </tr>\n",
       "  </thead>\n",
       "  <tbody>\n",
       "    <tr>\n",
       "      <th rowspan=\"3\" valign=\"top\">10248</th>\n",
       "      <th>11</th>\n",
       "      <th>30</th>\n",
       "      <th>Federal Shipping</th>\n",
       "      <td>2012-07-04</td>\n",
       "      <td>32.38</td>\n",
       "      <td>252.00</td>\n",
       "      <td>0.0</td>\n",
       "    </tr>\n",
       "    <tr>\n",
       "      <th>42</th>\n",
       "      <th>0</th>\n",
       "      <th>Federal Shipping</th>\n",
       "      <td>2012-07-04</td>\n",
       "      <td>32.38</td>\n",
       "      <td>140.00</td>\n",
       "      <td>0.0</td>\n",
       "    </tr>\n",
       "    <tr>\n",
       "      <th>72</th>\n",
       "      <th>0</th>\n",
       "      <th>Federal Shipping</th>\n",
       "      <td>2012-07-04</td>\n",
       "      <td>32.38</td>\n",
       "      <td>174.00</td>\n",
       "      <td>0.0</td>\n",
       "    </tr>\n",
       "    <tr>\n",
       "      <th rowspan=\"2\" valign=\"top\">10249</th>\n",
       "      <th>14</th>\n",
       "      <th>0</th>\n",
       "      <th>Speedy Express</th>\n",
       "      <td>2012-07-05</td>\n",
       "      <td>11.61</td>\n",
       "      <td>209.25</td>\n",
       "      <td>0.0</td>\n",
       "    </tr>\n",
       "    <tr>\n",
       "      <th>51</th>\n",
       "      <th>10</th>\n",
       "      <th>Speedy Express</th>\n",
       "      <td>2012-07-05</td>\n",
       "      <td>11.61</td>\n",
       "      <td>2120.00</td>\n",
       "      <td>0.0</td>\n",
       "    </tr>\n",
       "  </tbody>\n",
       "</table>\n",
       "</div>"
      ],
      "text/plain": [
       "                                                OrderDate  Freight  ItemTotal  \\\n",
       "Id    ProductId ReorderLevel CompanyName                                        \n",
       "10248 11        30           Federal Shipping  2012-07-04    32.38     252.00   \n",
       "      42        0            Federal Shipping  2012-07-04    32.38     140.00   \n",
       "      72        0            Federal Shipping  2012-07-04    32.38     174.00   \n",
       "10249 14        0            Speedy Express    2012-07-05    11.61     209.25   \n",
       "      51        10           Speedy Express    2012-07-05    11.61    2120.00   \n",
       "\n",
       "                                               Discount  \n",
       "Id    ProductId ReorderLevel CompanyName                 \n",
       "10248 11        30           Federal Shipping       0.0  \n",
       "      42        0            Federal Shipping       0.0  \n",
       "      72        0            Federal Shipping       0.0  \n",
       "10249 14        0            Speedy Express         0.0  \n",
       "      51        10           Speedy Express         0.0  "
      ]
     },
     "execution_count": 127,
     "metadata": {},
     "output_type": "execute_result"
    }
   ],
   "source": [
    "multi = df.copy(deep=True)\n",
    "mulit = multi.set_index(['Id', 'ProductId', 'ReorderLevel', 'CompanyName'], inplace=True)\n",
    "multi.head()"
   ]
  },
  {
   "cell_type": "code",
   "execution_count": 128,
   "metadata": {},
   "outputs": [
    {
     "data": {
      "text/html": [
       "<div>\n",
       "<style scoped>\n",
       "    .dataframe tbody tr th:only-of-type {\n",
       "        vertical-align: middle;\n",
       "    }\n",
       "\n",
       "    .dataframe tbody tr th {\n",
       "        vertical-align: top;\n",
       "    }\n",
       "\n",
       "    .dataframe thead th {\n",
       "        text-align: right;\n",
       "    }\n",
       "</style>\n",
       "<table border=\"1\" class=\"dataframe\">\n",
       "  <thead>\n",
       "    <tr style=\"text-align: right;\">\n",
       "      <th></th>\n",
       "      <th></th>\n",
       "      <th>CompanyName</th>\n",
       "      <th>Federal Shipping</th>\n",
       "      <th>Speedy Express</th>\n",
       "      <th>United Package</th>\n",
       "    </tr>\n",
       "    <tr>\n",
       "      <th>Id</th>\n",
       "      <th>ProductId</th>\n",
       "      <th>ReorderLevel</th>\n",
       "      <th></th>\n",
       "      <th></th>\n",
       "      <th></th>\n",
       "    </tr>\n",
       "  </thead>\n",
       "  <tbody>\n",
       "    <tr>\n",
       "      <th rowspan=\"3\" valign=\"top\">10248</th>\n",
       "      <th>11</th>\n",
       "      <th>30</th>\n",
       "      <td>252.0</td>\n",
       "      <td>NaN</td>\n",
       "      <td>NaN</td>\n",
       "    </tr>\n",
       "    <tr>\n",
       "      <th>42</th>\n",
       "      <th>0</th>\n",
       "      <td>140.0</td>\n",
       "      <td>NaN</td>\n",
       "      <td>NaN</td>\n",
       "    </tr>\n",
       "    <tr>\n",
       "      <th>72</th>\n",
       "      <th>0</th>\n",
       "      <td>174.0</td>\n",
       "      <td>NaN</td>\n",
       "      <td>NaN</td>\n",
       "    </tr>\n",
       "    <tr>\n",
       "      <th rowspan=\"2\" valign=\"top\">10249</th>\n",
       "      <th>14</th>\n",
       "      <th>0</th>\n",
       "      <td>NaN</td>\n",
       "      <td>209.25</td>\n",
       "      <td>NaN</td>\n",
       "    </tr>\n",
       "    <tr>\n",
       "      <th>51</th>\n",
       "      <th>10</th>\n",
       "      <td>NaN</td>\n",
       "      <td>2120.00</td>\n",
       "      <td>NaN</td>\n",
       "    </tr>\n",
       "    <tr>\n",
       "      <th>...</th>\n",
       "      <th>...</th>\n",
       "      <th>...</th>\n",
       "      <td>...</td>\n",
       "      <td>...</td>\n",
       "      <td>...</td>\n",
       "    </tr>\n",
       "    <tr>\n",
       "      <th rowspan=\"5\" valign=\"top\">11077</th>\n",
       "      <th>64</th>\n",
       "      <th>30</th>\n",
       "      <td>NaN</td>\n",
       "      <td>NaN</td>\n",
       "      <td>66.5</td>\n",
       "    </tr>\n",
       "    <tr>\n",
       "      <th>66</th>\n",
       "      <th>20</th>\n",
       "      <td>NaN</td>\n",
       "      <td>NaN</td>\n",
       "      <td>17.0</td>\n",
       "    </tr>\n",
       "    <tr>\n",
       "      <th>73</th>\n",
       "      <th>5</th>\n",
       "      <td>NaN</td>\n",
       "      <td>NaN</td>\n",
       "      <td>30.0</td>\n",
       "    </tr>\n",
       "    <tr>\n",
       "      <th>75</th>\n",
       "      <th>25</th>\n",
       "      <td>NaN</td>\n",
       "      <td>NaN</td>\n",
       "      <td>31.0</td>\n",
       "    </tr>\n",
       "    <tr>\n",
       "      <th>77</th>\n",
       "      <th>15</th>\n",
       "      <td>NaN</td>\n",
       "      <td>NaN</td>\n",
       "      <td>26.0</td>\n",
       "    </tr>\n",
       "  </tbody>\n",
       "</table>\n",
       "<p>2155 rows × 3 columns</p>\n",
       "</div>"
      ],
      "text/plain": [
       "CompanyName                   Federal Shipping  Speedy Express  United Package\n",
       "Id    ProductId ReorderLevel                                                  \n",
       "10248 11        30                       252.0             NaN             NaN\n",
       "      42        0                        140.0             NaN             NaN\n",
       "      72        0                        174.0             NaN             NaN\n",
       "10249 14        0                          NaN          209.25             NaN\n",
       "      51        10                         NaN         2120.00             NaN\n",
       "...                                        ...             ...             ...\n",
       "11077 64        30                         NaN             NaN            66.5\n",
       "      66        20                         NaN             NaN            17.0\n",
       "      73        5                          NaN             NaN            30.0\n",
       "      75        25                         NaN             NaN            31.0\n",
       "      77        15                         NaN             NaN            26.0\n",
       "\n",
       "[2155 rows x 3 columns]"
      ]
     },
     "execution_count": 128,
     "metadata": {},
     "output_type": "execute_result"
    }
   ],
   "source": [
    "shipping = multi.unstack('CompanyName')['ItemTotal']\n",
    "shipping"
   ]
  },
  {
   "cell_type": "code",
   "execution_count": 60,
   "metadata": {},
   "outputs": [
    {
     "data": {
      "text/html": [
       "<div>\n",
       "<style scoped>\n",
       "    .dataframe tbody tr th:only-of-type {\n",
       "        vertical-align: middle;\n",
       "    }\n",
       "\n",
       "    .dataframe tbody tr th {\n",
       "        vertical-align: top;\n",
       "    }\n",
       "\n",
       "    .dataframe thead tr th {\n",
       "        text-align: left;\n",
       "    }\n",
       "\n",
       "    .dataframe thead tr:last-of-type th {\n",
       "        text-align: right;\n",
       "    }\n",
       "</style>\n",
       "<table border=\"1\" class=\"dataframe\">\n",
       "  <thead>\n",
       "    <tr>\n",
       "      <th></th>\n",
       "      <th>ShipVia</th>\n",
       "      <th colspan=\"7\" halign=\"left\">1</th>\n",
       "      <th colspan=\"7\" halign=\"left\">2</th>\n",
       "      <th colspan=\"7\" halign=\"left\">3</th>\n",
       "    </tr>\n",
       "    <tr>\n",
       "      <th></th>\n",
       "      <th>ReorderLevel</th>\n",
       "      <th>0</th>\n",
       "      <th>5</th>\n",
       "      <th>10</th>\n",
       "      <th>15</th>\n",
       "      <th>20</th>\n",
       "      <th>25</th>\n",
       "      <th>30</th>\n",
       "      <th>0</th>\n",
       "      <th>5</th>\n",
       "      <th>10</th>\n",
       "      <th>...</th>\n",
       "      <th>20</th>\n",
       "      <th>25</th>\n",
       "      <th>30</th>\n",
       "      <th>0</th>\n",
       "      <th>5</th>\n",
       "      <th>10</th>\n",
       "      <th>15</th>\n",
       "      <th>20</th>\n",
       "      <th>25</th>\n",
       "      <th>30</th>\n",
       "    </tr>\n",
       "    <tr>\n",
       "      <th>Id</th>\n",
       "      <th>ProductId</th>\n",
       "      <th></th>\n",
       "      <th></th>\n",
       "      <th></th>\n",
       "      <th></th>\n",
       "      <th></th>\n",
       "      <th></th>\n",
       "      <th></th>\n",
       "      <th></th>\n",
       "      <th></th>\n",
       "      <th></th>\n",
       "      <th></th>\n",
       "      <th></th>\n",
       "      <th></th>\n",
       "      <th></th>\n",
       "      <th></th>\n",
       "      <th></th>\n",
       "      <th></th>\n",
       "      <th></th>\n",
       "      <th></th>\n",
       "      <th></th>\n",
       "      <th></th>\n",
       "    </tr>\n",
       "  </thead>\n",
       "  <tbody>\n",
       "    <tr>\n",
       "      <th rowspan=\"3\" valign=\"top\">10248</th>\n",
       "      <th>11</th>\n",
       "      <td>NaN</td>\n",
       "      <td>NaN</td>\n",
       "      <td>NaN</td>\n",
       "      <td>NaN</td>\n",
       "      <td>NaN</td>\n",
       "      <td>NaN</td>\n",
       "      <td>NaN</td>\n",
       "      <td>NaN</td>\n",
       "      <td>NaN</td>\n",
       "      <td>NaN</td>\n",
       "      <td>...</td>\n",
       "      <td>NaN</td>\n",
       "      <td>NaN</td>\n",
       "      <td>NaN</td>\n",
       "      <td>NaN</td>\n",
       "      <td>NaN</td>\n",
       "      <td>NaN</td>\n",
       "      <td>NaN</td>\n",
       "      <td>NaN</td>\n",
       "      <td>NaN</td>\n",
       "      <td>252.0</td>\n",
       "    </tr>\n",
       "    <tr>\n",
       "      <th>42</th>\n",
       "      <td>NaN</td>\n",
       "      <td>NaN</td>\n",
       "      <td>NaN</td>\n",
       "      <td>NaN</td>\n",
       "      <td>NaN</td>\n",
       "      <td>NaN</td>\n",
       "      <td>NaN</td>\n",
       "      <td>NaN</td>\n",
       "      <td>NaN</td>\n",
       "      <td>NaN</td>\n",
       "      <td>...</td>\n",
       "      <td>NaN</td>\n",
       "      <td>NaN</td>\n",
       "      <td>NaN</td>\n",
       "      <td>140.0</td>\n",
       "      <td>NaN</td>\n",
       "      <td>NaN</td>\n",
       "      <td>NaN</td>\n",
       "      <td>NaN</td>\n",
       "      <td>NaN</td>\n",
       "      <td>NaN</td>\n",
       "    </tr>\n",
       "    <tr>\n",
       "      <th>72</th>\n",
       "      <td>NaN</td>\n",
       "      <td>NaN</td>\n",
       "      <td>NaN</td>\n",
       "      <td>NaN</td>\n",
       "      <td>NaN</td>\n",
       "      <td>NaN</td>\n",
       "      <td>NaN</td>\n",
       "      <td>NaN</td>\n",
       "      <td>NaN</td>\n",
       "      <td>NaN</td>\n",
       "      <td>...</td>\n",
       "      <td>NaN</td>\n",
       "      <td>NaN</td>\n",
       "      <td>NaN</td>\n",
       "      <td>174.0</td>\n",
       "      <td>NaN</td>\n",
       "      <td>NaN</td>\n",
       "      <td>NaN</td>\n",
       "      <td>NaN</td>\n",
       "      <td>NaN</td>\n",
       "      <td>NaN</td>\n",
       "    </tr>\n",
       "    <tr>\n",
       "      <th rowspan=\"2\" valign=\"top\">10249</th>\n",
       "      <th>14</th>\n",
       "      <td>209.25</td>\n",
       "      <td>NaN</td>\n",
       "      <td>NaN</td>\n",
       "      <td>NaN</td>\n",
       "      <td>NaN</td>\n",
       "      <td>NaN</td>\n",
       "      <td>NaN</td>\n",
       "      <td>NaN</td>\n",
       "      <td>NaN</td>\n",
       "      <td>NaN</td>\n",
       "      <td>...</td>\n",
       "      <td>NaN</td>\n",
       "      <td>NaN</td>\n",
       "      <td>NaN</td>\n",
       "      <td>NaN</td>\n",
       "      <td>NaN</td>\n",
       "      <td>NaN</td>\n",
       "      <td>NaN</td>\n",
       "      <td>NaN</td>\n",
       "      <td>NaN</td>\n",
       "      <td>NaN</td>\n",
       "    </tr>\n",
       "    <tr>\n",
       "      <th>51</th>\n",
       "      <td>NaN</td>\n",
       "      <td>NaN</td>\n",
       "      <td>2120.0</td>\n",
       "      <td>NaN</td>\n",
       "      <td>NaN</td>\n",
       "      <td>NaN</td>\n",
       "      <td>NaN</td>\n",
       "      <td>NaN</td>\n",
       "      <td>NaN</td>\n",
       "      <td>NaN</td>\n",
       "      <td>...</td>\n",
       "      <td>NaN</td>\n",
       "      <td>NaN</td>\n",
       "      <td>NaN</td>\n",
       "      <td>NaN</td>\n",
       "      <td>NaN</td>\n",
       "      <td>NaN</td>\n",
       "      <td>NaN</td>\n",
       "      <td>NaN</td>\n",
       "      <td>NaN</td>\n",
       "      <td>NaN</td>\n",
       "    </tr>\n",
       "    <tr>\n",
       "      <th>...</th>\n",
       "      <th>...</th>\n",
       "      <td>...</td>\n",
       "      <td>...</td>\n",
       "      <td>...</td>\n",
       "      <td>...</td>\n",
       "      <td>...</td>\n",
       "      <td>...</td>\n",
       "      <td>...</td>\n",
       "      <td>...</td>\n",
       "      <td>...</td>\n",
       "      <td>...</td>\n",
       "      <td>...</td>\n",
       "      <td>...</td>\n",
       "      <td>...</td>\n",
       "      <td>...</td>\n",
       "      <td>...</td>\n",
       "      <td>...</td>\n",
       "      <td>...</td>\n",
       "      <td>...</td>\n",
       "      <td>...</td>\n",
       "      <td>...</td>\n",
       "      <td>...</td>\n",
       "    </tr>\n",
       "    <tr>\n",
       "      <th rowspan=\"5\" valign=\"top\">11077</th>\n",
       "      <th>64</th>\n",
       "      <td>NaN</td>\n",
       "      <td>NaN</td>\n",
       "      <td>NaN</td>\n",
       "      <td>NaN</td>\n",
       "      <td>NaN</td>\n",
       "      <td>NaN</td>\n",
       "      <td>NaN</td>\n",
       "      <td>NaN</td>\n",
       "      <td>NaN</td>\n",
       "      <td>NaN</td>\n",
       "      <td>...</td>\n",
       "      <td>NaN</td>\n",
       "      <td>NaN</td>\n",
       "      <td>66.5</td>\n",
       "      <td>NaN</td>\n",
       "      <td>NaN</td>\n",
       "      <td>NaN</td>\n",
       "      <td>NaN</td>\n",
       "      <td>NaN</td>\n",
       "      <td>NaN</td>\n",
       "      <td>NaN</td>\n",
       "    </tr>\n",
       "    <tr>\n",
       "      <th>66</th>\n",
       "      <td>NaN</td>\n",
       "      <td>NaN</td>\n",
       "      <td>NaN</td>\n",
       "      <td>NaN</td>\n",
       "      <td>NaN</td>\n",
       "      <td>NaN</td>\n",
       "      <td>NaN</td>\n",
       "      <td>NaN</td>\n",
       "      <td>NaN</td>\n",
       "      <td>NaN</td>\n",
       "      <td>...</td>\n",
       "      <td>17.0</td>\n",
       "      <td>NaN</td>\n",
       "      <td>NaN</td>\n",
       "      <td>NaN</td>\n",
       "      <td>NaN</td>\n",
       "      <td>NaN</td>\n",
       "      <td>NaN</td>\n",
       "      <td>NaN</td>\n",
       "      <td>NaN</td>\n",
       "      <td>NaN</td>\n",
       "    </tr>\n",
       "    <tr>\n",
       "      <th>73</th>\n",
       "      <td>NaN</td>\n",
       "      <td>NaN</td>\n",
       "      <td>NaN</td>\n",
       "      <td>NaN</td>\n",
       "      <td>NaN</td>\n",
       "      <td>NaN</td>\n",
       "      <td>NaN</td>\n",
       "      <td>NaN</td>\n",
       "      <td>30.0</td>\n",
       "      <td>NaN</td>\n",
       "      <td>...</td>\n",
       "      <td>NaN</td>\n",
       "      <td>NaN</td>\n",
       "      <td>NaN</td>\n",
       "      <td>NaN</td>\n",
       "      <td>NaN</td>\n",
       "      <td>NaN</td>\n",
       "      <td>NaN</td>\n",
       "      <td>NaN</td>\n",
       "      <td>NaN</td>\n",
       "      <td>NaN</td>\n",
       "    </tr>\n",
       "    <tr>\n",
       "      <th>75</th>\n",
       "      <td>NaN</td>\n",
       "      <td>NaN</td>\n",
       "      <td>NaN</td>\n",
       "      <td>NaN</td>\n",
       "      <td>NaN</td>\n",
       "      <td>NaN</td>\n",
       "      <td>NaN</td>\n",
       "      <td>NaN</td>\n",
       "      <td>NaN</td>\n",
       "      <td>NaN</td>\n",
       "      <td>...</td>\n",
       "      <td>NaN</td>\n",
       "      <td>31.0</td>\n",
       "      <td>NaN</td>\n",
       "      <td>NaN</td>\n",
       "      <td>NaN</td>\n",
       "      <td>NaN</td>\n",
       "      <td>NaN</td>\n",
       "      <td>NaN</td>\n",
       "      <td>NaN</td>\n",
       "      <td>NaN</td>\n",
       "    </tr>\n",
       "    <tr>\n",
       "      <th>77</th>\n",
       "      <td>NaN</td>\n",
       "      <td>NaN</td>\n",
       "      <td>NaN</td>\n",
       "      <td>NaN</td>\n",
       "      <td>NaN</td>\n",
       "      <td>NaN</td>\n",
       "      <td>NaN</td>\n",
       "      <td>NaN</td>\n",
       "      <td>NaN</td>\n",
       "      <td>NaN</td>\n",
       "      <td>...</td>\n",
       "      <td>NaN</td>\n",
       "      <td>NaN</td>\n",
       "      <td>NaN</td>\n",
       "      <td>NaN</td>\n",
       "      <td>NaN</td>\n",
       "      <td>NaN</td>\n",
       "      <td>NaN</td>\n",
       "      <td>NaN</td>\n",
       "      <td>NaN</td>\n",
       "      <td>NaN</td>\n",
       "    </tr>\n",
       "  </tbody>\n",
       "</table>\n",
       "<p>2155 rows × 21 columns</p>\n",
       "</div>"
      ],
      "text/plain": [
       "ShipVia               1                               2            ...        \\\n",
       "ReorderLevel         0   5       10  15  20  25  30  0     5   10  ...    20   \n",
       "Id    ProductId                                                    ...         \n",
       "10248 11            NaN NaN     NaN NaN NaN NaN NaN NaN   NaN NaN  ...   NaN   \n",
       "      42            NaN NaN     NaN NaN NaN NaN NaN NaN   NaN NaN  ...   NaN   \n",
       "      72            NaN NaN     NaN NaN NaN NaN NaN NaN   NaN NaN  ...   NaN   \n",
       "10249 14         209.25 NaN     NaN NaN NaN NaN NaN NaN   NaN NaN  ...   NaN   \n",
       "      51            NaN NaN  2120.0 NaN NaN NaN NaN NaN   NaN NaN  ...   NaN   \n",
       "...                 ...  ..     ...  ..  ..  ..  ..  ..   ...  ..  ...   ...   \n",
       "11077 64            NaN NaN     NaN NaN NaN NaN NaN NaN   NaN NaN  ...   NaN   \n",
       "      66            NaN NaN     NaN NaN NaN NaN NaN NaN   NaN NaN  ...  17.0   \n",
       "      73            NaN NaN     NaN NaN NaN NaN NaN NaN  30.0 NaN  ...   NaN   \n",
       "      75            NaN NaN     NaN NaN NaN NaN NaN NaN   NaN NaN  ...   NaN   \n",
       "      77            NaN NaN     NaN NaN NaN NaN NaN NaN   NaN NaN  ...   NaN   \n",
       "\n",
       "ShipVia                          3                             \n",
       "ReorderLevel       25    30     0   5   10  15  20  25     30  \n",
       "Id    ProductId                                                \n",
       "10248 11          NaN   NaN    NaN NaN NaN NaN NaN NaN  252.0  \n",
       "      42          NaN   NaN  140.0 NaN NaN NaN NaN NaN    NaN  \n",
       "      72          NaN   NaN  174.0 NaN NaN NaN NaN NaN    NaN  \n",
       "10249 14          NaN   NaN    NaN NaN NaN NaN NaN NaN    NaN  \n",
       "      51          NaN   NaN    NaN NaN NaN NaN NaN NaN    NaN  \n",
       "...               ...   ...    ...  ..  ..  ..  ..  ..    ...  \n",
       "11077 64          NaN  66.5    NaN NaN NaN NaN NaN NaN    NaN  \n",
       "      66          NaN   NaN    NaN NaN NaN NaN NaN NaN    NaN  \n",
       "      73          NaN   NaN    NaN NaN NaN NaN NaN NaN    NaN  \n",
       "      75         31.0   NaN    NaN NaN NaN NaN NaN NaN    NaN  \n",
       "      77          NaN   NaN    NaN NaN NaN NaN NaN NaN    NaN  \n",
       "\n",
       "[2155 rows x 21 columns]"
      ]
     },
     "execution_count": 60,
     "metadata": {},
     "output_type": "execute_result"
    }
   ],
   "source": [
    "shipping_reorder = shipping.unstack('ReorderLevel')\n",
    "shipping_reorder"
   ]
  },
  {
   "cell_type": "markdown",
   "metadata": {},
   "source": [
    "Initial observations of data go here"
   ]
  },
  {
   "cell_type": "code",
   "execution_count": 61,
   "metadata": {},
   "outputs": [
    {
     "data": {
      "text/plain": [
       "['Id: int64', 'ProductId: int64']"
      ]
     },
     "execution_count": 61,
     "metadata": {},
     "output_type": "execute_result"
    }
   ],
   "source": [
    "def index_level_dtypes(df):\n",
    "    return [f\"{df.index.names[i]}: {df.index.get_level_values(n).dtype}\"\n",
    "            for i, n in enumerate(df.index.names)]\n",
    "\n",
    "index_level_dtypes(shipping_reorder)"
   ]
  },
  {
   "cell_type": "markdown",
   "metadata": {},
   "source": [
    "## 2.2.2 Scrub Data<a id='Scrub Data'></a>\n",
    "\n",
    "The following scrubbing techniques were applied to the original data:\n",
    "- 2.2.2.1 Manage n/a data types\n",
    "- 2.2.2.2 Remove duplicate rows\n",
    "- 2.2.2.3 Manage data types\n",
    "- 2.2.2.4 Remove outliers"
   ]
  },
  {
   "cell_type": "markdown",
   "metadata": {},
   "source": [
    "### 2.2.2.1 Manage n/a data types<a id='Manage n/a data types'></a>"
   ]
  },
  {
   "cell_type": "code",
   "execution_count": 129,
   "metadata": {},
   "outputs": [
    {
     "name": "stdout",
     "output_type": "stream",
     "text": [
      "2155\n"
     ]
    },
    {
     "data": {
      "text/plain": [
       "Id              0\n",
       "OrderDate       0\n",
       "Freight         0\n",
       "ReorderLevel    0\n",
       "ItemTotal       0\n",
       "ProductId       0\n",
       "Discount        0\n",
       "CompanyName     0\n",
       "dtype: int64"
      ]
     },
     "execution_count": 129,
     "metadata": {},
     "output_type": "execute_result"
    }
   ],
   "source": [
    "# nans identification\n",
    "print(len(df))\n",
    "df.isna().sum()"
   ]
  },
  {
   "cell_type": "markdown",
   "metadata": {},
   "source": [
    "### 2.2.2.2 Remove duplicate data<a id='Remove duplicate data'></a>"
   ]
  },
  {
   "cell_type": "code",
   "execution_count": 130,
   "metadata": {},
   "outputs": [
    {
     "name": "stdout",
     "output_type": "stream",
     "text": [
      "duplicated rows: 0\n"
     ]
    }
   ],
   "source": [
    "# identification of duplicate data\n",
    "print('duplicated rows: ' + str(df.duplicated().sum()))"
   ]
  },
  {
   "cell_type": "code",
   "execution_count": 64,
   "metadata": {},
   "outputs": [],
   "source": [
    "# code to drop duplicate row if necessary\n",
    "# df.drop_duplicates(inplace=True)\n",
    "# print('duplicated rows: ' + str(df.duplicated().sum()))"
   ]
  },
  {
   "cell_type": "markdown",
   "metadata": {},
   "source": [
    "### 2.2.2.3 Manage data types<a id='Manage data types'></a>"
   ]
  },
  {
   "cell_type": "code",
   "execution_count": 131,
   "metadata": {},
   "outputs": [
    {
     "name": "stdout",
     "output_type": "stream",
     "text": [
      "<class 'pandas.core.frame.DataFrame'>\n",
      "RangeIndex: 2155 entries, 0 to 2154\n",
      "Data columns (total 8 columns):\n",
      "Id              2155 non-null int64\n",
      "OrderDate       2155 non-null object\n",
      "Freight         2155 non-null float64\n",
      "ReorderLevel    2155 non-null int64\n",
      "ItemTotal       2155 non-null float64\n",
      "ProductId       2155 non-null int64\n",
      "Discount        2155 non-null float64\n",
      "CompanyName     2155 non-null object\n",
      "dtypes: float64(3), int64(3), object(2)\n",
      "memory usage: 134.8+ KB\n"
     ]
    }
   ],
   "source": [
    "# data type identification\n",
    "df.info()"
   ]
  },
  {
   "cell_type": "code",
   "execution_count": 140,
   "metadata": {},
   "outputs": [],
   "source": [
    "# correction to data type if necessary\n",
    "df['CompanyName'] = [str(x) for x in df['CompanyName']]"
   ]
  },
  {
   "cell_type": "code",
   "execution_count": 141,
   "metadata": {},
   "outputs": [
    {
     "name": "stdout",
     "output_type": "stream",
     "text": [
      "<class 'pandas.core.frame.DataFrame'>\n",
      "RangeIndex: 2155 entries, 0 to 2154\n",
      "Data columns (total 9 columns):\n",
      "Id              2155 non-null int64\n",
      "OrderDate       2155 non-null object\n",
      "Freight         2155 non-null float64\n",
      "ReorderLevel    2155 non-null int64\n",
      "ItemTotal       2155 non-null float64\n",
      "ProductId       2155 non-null int64\n",
      "Discount        2155 non-null float64\n",
      "CompanyName     2155 non-null object\n",
      "Reorder         2155 non-null int64\n",
      "dtypes: float64(3), int64(4), object(2)\n",
      "memory usage: 151.6+ KB\n"
     ]
    }
   ],
   "source": [
    "# verification of correction to data type\n",
    "df.info()"
   ]
  },
  {
   "cell_type": "markdown",
   "metadata": {},
   "source": [
    "### 2.2.2.4 Remove outliers<a id='Remove outliers'></a>"
   ]
  },
  {
   "cell_type": "markdown",
   "metadata": {},
   "source": [
    "## 2.2.3 Explore Data<a id='Explore Data'></a>\n",
    "\n",
    "For a quick preview of what we have to work with, we'll use the describe method.\n",
    "\n",
    "- 2.2.3.1 Visualize data\n",
    "- 2.2.3.2 Transform data\n",
    "- 2.2.3.3 Sort data / Prepare data for testing\n",
    "- 2.2.3.4 Develop Feature"
   ]
  },
  {
   "cell_type": "markdown",
   "metadata": {},
   "source": [
    "### 2.2.3.1 Visualize data<a id='Visualize data'></a>"
   ]
  },
  {
   "cell_type": "code",
   "execution_count": 133,
   "metadata": {},
   "outputs": [
    {
     "data": {
      "text/html": [
       "<div>\n",
       "<style scoped>\n",
       "    .dataframe tbody tr th:only-of-type {\n",
       "        vertical-align: middle;\n",
       "    }\n",
       "\n",
       "    .dataframe tbody tr th {\n",
       "        vertical-align: top;\n",
       "    }\n",
       "\n",
       "    .dataframe thead th {\n",
       "        text-align: right;\n",
       "    }\n",
       "</style>\n",
       "<table border=\"1\" class=\"dataframe\">\n",
       "  <thead>\n",
       "    <tr style=\"text-align: right;\">\n",
       "      <th></th>\n",
       "      <th>Id</th>\n",
       "      <th>Freight</th>\n",
       "      <th>ReorderLevel</th>\n",
       "      <th>ItemTotal</th>\n",
       "      <th>ProductId</th>\n",
       "      <th>Discount</th>\n",
       "    </tr>\n",
       "  </thead>\n",
       "  <tbody>\n",
       "    <tr>\n",
       "      <th>count</th>\n",
       "      <td>2155.000000</td>\n",
       "      <td>2155.000000</td>\n",
       "      <td>2155.000000</td>\n",
       "      <td>2155.000000</td>\n",
       "      <td>2155.000000</td>\n",
       "      <td>2155.000000</td>\n",
       "    </tr>\n",
       "    <tr>\n",
       "      <th>mean</th>\n",
       "      <td>10659.375870</td>\n",
       "      <td>96.197726</td>\n",
       "      <td>11.900232</td>\n",
       "      <td>672.560237</td>\n",
       "      <td>40.793039</td>\n",
       "      <td>0.056167</td>\n",
       "    </tr>\n",
       "    <tr>\n",
       "      <th>std</th>\n",
       "      <td>241.378032</td>\n",
       "      <td>133.011272</td>\n",
       "      <td>10.791421</td>\n",
       "      <td>1110.261427</td>\n",
       "      <td>22.159019</td>\n",
       "      <td>0.083450</td>\n",
       "    </tr>\n",
       "    <tr>\n",
       "      <th>min</th>\n",
       "      <td>10248.000000</td>\n",
       "      <td>0.020000</td>\n",
       "      <td>0.000000</td>\n",
       "      <td>6.000000</td>\n",
       "      <td>1.000000</td>\n",
       "      <td>0.000000</td>\n",
       "    </tr>\n",
       "    <tr>\n",
       "      <th>25%</th>\n",
       "      <td>10451.000000</td>\n",
       "      <td>19.610000</td>\n",
       "      <td>0.000000</td>\n",
       "      <td>170.500000</td>\n",
       "      <td>22.000000</td>\n",
       "      <td>0.000000</td>\n",
       "    </tr>\n",
       "    <tr>\n",
       "      <th>50%</th>\n",
       "      <td>10657.000000</td>\n",
       "      <td>53.800000</td>\n",
       "      <td>10.000000</td>\n",
       "      <td>380.000000</td>\n",
       "      <td>41.000000</td>\n",
       "      <td>0.000000</td>\n",
       "    </tr>\n",
       "    <tr>\n",
       "      <th>75%</th>\n",
       "      <td>10862.500000</td>\n",
       "      <td>120.920000</td>\n",
       "      <td>20.000000</td>\n",
       "      <td>760.000000</td>\n",
       "      <td>60.000000</td>\n",
       "      <td>0.100000</td>\n",
       "    </tr>\n",
       "    <tr>\n",
       "      <th>max</th>\n",
       "      <td>11077.000000</td>\n",
       "      <td>1007.640000</td>\n",
       "      <td>30.000000</td>\n",
       "      <td>15810.000000</td>\n",
       "      <td>77.000000</td>\n",
       "      <td>0.250000</td>\n",
       "    </tr>\n",
       "  </tbody>\n",
       "</table>\n",
       "</div>"
      ],
      "text/plain": [
       "                 Id      Freight  ReorderLevel     ItemTotal    ProductId  \\\n",
       "count   2155.000000  2155.000000   2155.000000   2155.000000  2155.000000   \n",
       "mean   10659.375870    96.197726     11.900232    672.560237    40.793039   \n",
       "std      241.378032   133.011272     10.791421   1110.261427    22.159019   \n",
       "min    10248.000000     0.020000      0.000000      6.000000     1.000000   \n",
       "25%    10451.000000    19.610000      0.000000    170.500000    22.000000   \n",
       "50%    10657.000000    53.800000     10.000000    380.000000    41.000000   \n",
       "75%    10862.500000   120.920000     20.000000    760.000000    60.000000   \n",
       "max    11077.000000  1007.640000     30.000000  15810.000000    77.000000   \n",
       "\n",
       "          Discount  \n",
       "count  2155.000000  \n",
       "mean      0.056167  \n",
       "std       0.083450  \n",
       "min       0.000000  \n",
       "25%       0.000000  \n",
       "50%       0.000000  \n",
       "75%       0.100000  \n",
       "max       0.250000  "
      ]
     },
     "execution_count": 133,
     "metadata": {},
     "output_type": "execute_result"
    }
   ],
   "source": [
    "# describe data\n",
    "df.describe()"
   ]
  },
  {
   "cell_type": "code",
   "execution_count": 134,
   "metadata": {},
   "outputs": [
    {
     "data": {
      "image/png": "[encoded data removed]",
      "text/plain": [
       "<Figure size 1440x1440 with 6 Axes>"
      ]
     },
     "metadata": {
      "needs_background": "light"
     },
     "output_type": "display_data"
    }
   ],
   "source": [
    "# visualize data\n",
    "df.hist(figsize=(20,20));"
   ]
  },
  {
   "cell_type": "markdown",
   "metadata": {},
   "source": [
    "### 2.2.3.2 Transform data<a id='Transform data'></a>"
   ]
  },
  {
   "cell_type": "code",
   "execution_count": 69,
   "metadata": {},
   "outputs": [
    {
     "data": {
      "image/png": "[encoded data removed]",
      "text/plain": [
       "<Figure size 432x288 with 1 Axes>"
      ]
     },
     "metadata": {
      "needs_background": "light"
     },
     "output_type": "display_data"
    }
   ],
   "source": [
    "df['ItemTotal'] = df['ItemTotal'].map(lambda x: np.log(x))\n",
    "df.ItemTotal.hist();\n",
    "\n",
    "# for inverse\n",
    "# df['ItemTotal'] = df['ItemTotal'].map(lambda x: np.log(np.exp(x)))\n",
    "# df.ItemTotal.hist()"
   ]
  },
  {
   "cell_type": "markdown",
   "metadata": {},
   "source": [
    "### 2.2.3.3 Sort data / Prepare data for testing<a id='Sort data'></a>"
   ]
  },
  {
   "cell_type": "code",
   "execution_count": 135,
   "metadata": {
    "scrolled": true
   },
   "outputs": [
    {
     "data": {
      "text/html": [
       "<div>\n",
       "<style scoped>\n",
       "    .dataframe tbody tr th:only-of-type {\n",
       "        vertical-align: middle;\n",
       "    }\n",
       "\n",
       "    .dataframe tbody tr th {\n",
       "        vertical-align: top;\n",
       "    }\n",
       "\n",
       "    .dataframe thead th {\n",
       "        text-align: right;\n",
       "    }\n",
       "</style>\n",
       "<table border=\"1\" class=\"dataframe\">\n",
       "  <thead>\n",
       "    <tr style=\"text-align: right;\">\n",
       "      <th></th>\n",
       "      <th>Id</th>\n",
       "      <th>OrderDate</th>\n",
       "      <th>Freight</th>\n",
       "      <th>ReorderLevel</th>\n",
       "      <th>ItemTotal</th>\n",
       "      <th>ProductId</th>\n",
       "      <th>Discount</th>\n",
       "      <th>CompanyName</th>\n",
       "    </tr>\n",
       "  </thead>\n",
       "  <tbody>\n",
       "    <tr>\n",
       "      <th>0</th>\n",
       "      <td>10248</td>\n",
       "      <td>2012-07-04</td>\n",
       "      <td>32.38</td>\n",
       "      <td>30</td>\n",
       "      <td>252.0</td>\n",
       "      <td>11</td>\n",
       "      <td>0.00</td>\n",
       "      <td>Federal Shipping</td>\n",
       "    </tr>\n",
       "    <tr>\n",
       "      <th>4</th>\n",
       "      <td>10249</td>\n",
       "      <td>2012-07-05</td>\n",
       "      <td>11.61</td>\n",
       "      <td>10</td>\n",
       "      <td>2120.0</td>\n",
       "      <td>51</td>\n",
       "      <td>0.00</td>\n",
       "      <td>Speedy Express</td>\n",
       "    </tr>\n",
       "    <tr>\n",
       "      <th>5</th>\n",
       "      <td>10250</td>\n",
       "      <td>2012-07-08</td>\n",
       "      <td>65.83</td>\n",
       "      <td>10</td>\n",
       "      <td>96.5</td>\n",
       "      <td>41</td>\n",
       "      <td>0.00</td>\n",
       "      <td>United Package</td>\n",
       "    </tr>\n",
       "    <tr>\n",
       "      <th>6</th>\n",
       "      <td>10250</td>\n",
       "      <td>2012-07-08</td>\n",
       "      <td>65.83</td>\n",
       "      <td>10</td>\n",
       "      <td>1855.0</td>\n",
       "      <td>51</td>\n",
       "      <td>0.15</td>\n",
       "      <td>United Package</td>\n",
       "    </tr>\n",
       "    <tr>\n",
       "      <th>8</th>\n",
       "      <td>10251</td>\n",
       "      <td>2012-07-08</td>\n",
       "      <td>41.34</td>\n",
       "      <td>25</td>\n",
       "      <td>126.0</td>\n",
       "      <td>22</td>\n",
       "      <td>0.05</td>\n",
       "      <td>Speedy Express</td>\n",
       "    </tr>\n",
       "  </tbody>\n",
       "</table>\n",
       "</div>"
      ],
      "text/plain": [
       "      Id   OrderDate  Freight  ReorderLevel  ItemTotal  ProductId  Discount  \\\n",
       "0  10248  2012-07-04    32.38            30      252.0         11      0.00   \n",
       "4  10249  2012-07-05    11.61            10     2120.0         51      0.00   \n",
       "5  10250  2012-07-08    65.83            10       96.5         41      0.00   \n",
       "6  10250  2012-07-08    65.83            10     1855.0         51      0.15   \n",
       "8  10251  2012-07-08    41.34            25      126.0         22      0.05   \n",
       "\n",
       "        CompanyName  \n",
       "0  Federal Shipping  \n",
       "4    Speedy Express  \n",
       "5    United Package  \n",
       "6    United Package  \n",
       "8    Speedy Express  "
      ]
     },
     "execution_count": 135,
     "metadata": {},
     "output_type": "execute_result"
    }
   ],
   "source": [
    "# sort data\n",
    "df_reorder = df[df['ReorderLevel'] != 0]\n",
    "df_reorder.head()"
   ]
  },
  {
   "cell_type": "code",
   "execution_count": 136,
   "metadata": {},
   "outputs": [
    {
     "data": {
      "text/html": [
       "<div>\n",
       "<style scoped>\n",
       "    .dataframe tbody tr th:only-of-type {\n",
       "        vertical-align: middle;\n",
       "    }\n",
       "\n",
       "    .dataframe tbody tr th {\n",
       "        vertical-align: top;\n",
       "    }\n",
       "\n",
       "    .dataframe thead th {\n",
       "        text-align: right;\n",
       "    }\n",
       "</style>\n",
       "<table border=\"1\" class=\"dataframe\">\n",
       "  <thead>\n",
       "    <tr style=\"text-align: right;\">\n",
       "      <th></th>\n",
       "      <th>Id</th>\n",
       "      <th>OrderDate</th>\n",
       "      <th>Freight</th>\n",
       "      <th>ReorderLevel</th>\n",
       "      <th>ItemTotal</th>\n",
       "      <th>ProductId</th>\n",
       "      <th>Discount</th>\n",
       "      <th>CompanyName</th>\n",
       "    </tr>\n",
       "  </thead>\n",
       "  <tbody>\n",
       "    <tr>\n",
       "      <th>1</th>\n",
       "      <td>10248</td>\n",
       "      <td>2012-07-04</td>\n",
       "      <td>32.38</td>\n",
       "      <td>0</td>\n",
       "      <td>140.00</td>\n",
       "      <td>42</td>\n",
       "      <td>0.00</td>\n",
       "      <td>Federal Shipping</td>\n",
       "    </tr>\n",
       "    <tr>\n",
       "      <th>2</th>\n",
       "      <td>10248</td>\n",
       "      <td>2012-07-04</td>\n",
       "      <td>32.38</td>\n",
       "      <td>0</td>\n",
       "      <td>174.00</td>\n",
       "      <td>72</td>\n",
       "      <td>0.00</td>\n",
       "      <td>Federal Shipping</td>\n",
       "    </tr>\n",
       "    <tr>\n",
       "      <th>3</th>\n",
       "      <td>10249</td>\n",
       "      <td>2012-07-05</td>\n",
       "      <td>11.61</td>\n",
       "      <td>0</td>\n",
       "      <td>209.25</td>\n",
       "      <td>14</td>\n",
       "      <td>0.00</td>\n",
       "      <td>Speedy Express</td>\n",
       "    </tr>\n",
       "    <tr>\n",
       "      <th>7</th>\n",
       "      <td>10250</td>\n",
       "      <td>2012-07-08</td>\n",
       "      <td>65.83</td>\n",
       "      <td>0</td>\n",
       "      <td>315.75</td>\n",
       "      <td>65</td>\n",
       "      <td>0.15</td>\n",
       "      <td>United Package</td>\n",
       "    </tr>\n",
       "    <tr>\n",
       "      <th>10</th>\n",
       "      <td>10251</td>\n",
       "      <td>2012-07-08</td>\n",
       "      <td>41.34</td>\n",
       "      <td>0</td>\n",
       "      <td>421.00</td>\n",
       "      <td>65</td>\n",
       "      <td>0.00</td>\n",
       "      <td>Speedy Express</td>\n",
       "    </tr>\n",
       "  </tbody>\n",
       "</table>\n",
       "</div>"
      ],
      "text/plain": [
       "       Id   OrderDate  Freight  ReorderLevel  ItemTotal  ProductId  Discount  \\\n",
       "1   10248  2012-07-04    32.38             0     140.00         42      0.00   \n",
       "2   10248  2012-07-04    32.38             0     174.00         72      0.00   \n",
       "3   10249  2012-07-05    11.61             0     209.25         14      0.00   \n",
       "7   10250  2012-07-08    65.83             0     315.75         65      0.15   \n",
       "10  10251  2012-07-08    41.34             0     421.00         65      0.00   \n",
       "\n",
       "         CompanyName  \n",
       "1   Federal Shipping  \n",
       "2   Federal Shipping  \n",
       "3     Speedy Express  \n",
       "7     United Package  \n",
       "10    Speedy Express  "
      ]
     },
     "execution_count": 136,
     "metadata": {},
     "output_type": "execute_result"
    }
   ],
   "source": [
    "df_no_reorder = df[df['ReorderLevel'] == 0]\n",
    "df_no_reorder.head()"
   ]
  },
  {
   "cell_type": "markdown",
   "metadata": {},
   "source": [
    "### 2.2.3.4 Develop feature<a id='Develop feature'></a>"
   ]
  },
  {
   "cell_type": "code",
   "execution_count": 137,
   "metadata": {},
   "outputs": [
    {
     "name": "stdout",
     "output_type": "stream",
     "text": [
      "      Id   OrderDate  Freight  ReorderLevel  ItemTotal  ProductId  Discount  \\\n",
      "0  10248  2012-07-04    32.38            30     252.00         11       0.0   \n",
      "1  10248  2012-07-04    32.38             0     140.00         42       0.0   \n",
      "2  10248  2012-07-04    32.38             0     174.00         72       0.0   \n",
      "3  10249  2012-07-05    11.61             0     209.25         14       0.0   \n",
      "4  10249  2012-07-05    11.61            10    2120.00         51       0.0   \n",
      "\n",
      "        CompanyName  Reorder  \n",
      "0  Federal Shipping        1  \n",
      "1  Federal Shipping        0  \n",
      "2  Federal Shipping        0  \n",
      "3    Speedy Express        0  \n",
      "4    Speedy Express        1  \n",
      "      Id   OrderDate  Freight ReorderLevel  ItemTotal  ProductId  Discount  \\\n",
      "0  10248  2012-07-04    32.38       Thirty     252.00         11       0.0   \n",
      "1  10248  2012-07-04    32.38         Zero     140.00         42       0.0   \n",
      "2  10248  2012-07-04    32.38         Zero     174.00         72       0.0   \n",
      "3  10249  2012-07-05    11.61         Zero     209.25         14       0.0   \n",
      "4  10249  2012-07-05    11.61          Ten    2120.00         51       0.0   \n",
      "\n",
      "        CompanyName     Reorder  \n",
      "0  Federal Shipping     Reorder  \n",
      "1  Federal Shipping  No Reorder  \n",
      "2  Federal Shipping  No Reorder  \n",
      "3    Speedy Express  No Reorder  \n",
      "4    Speedy Express     Reorder  \n"
     ]
    }
   ],
   "source": [
    "# create features\n",
    "df_str = df.copy(deep=True)\n",
    "df['Reorder'] = [1 if x != 0 else 0 for x in df['ReorderLevel']]\n",
    "df_str['Reorder'] = ['Reorder' if x != 0 else 'No Reorder' for x in df['ReorderLevel']]\n",
    "for x, y in enumerate(df_str['ReorderLevel']):\n",
    "    if y == 0:\n",
    "        df_str.loc[x,'ReorderLevel'] = 'Zero'\n",
    "    elif y == 5:\n",
    "        df_str.loc[x,'ReorderLevel'] = 'Five'\n",
    "    elif y == 10:\n",
    "        df_str.loc[x,'ReorderLevel'] = 'Ten'\n",
    "    elif y == 15:\n",
    "        df_str.loc[x,'ReorderLevel'] = 'Fifteen'\n",
    "    elif y == 20:\n",
    "        df_str.loc[x,'ReorderLevel'] = 'Twenty'\n",
    "    elif y == 25:\n",
    "        df_str.loc[x,'ReorderLevel'] = 'Twenty Five'\n",
    "    else:\n",
    "        df_str.loc[x,'ReorderLevel'] = 'Thirty'\n",
    "print(df.head())\n",
    "print(df_str.head())"
   ]
  },
  {
   "cell_type": "markdown",
   "metadata": {},
   "source": [
    "## 2.2.4 Model Data<a id='Model Data'></a>\n",
    "\n",
    "- 2.2.4.1 Check for data normality\n",
    "- 2.2.4.2 Standard deviation and other basic statistics\n",
    "- 2.2.4.3 Statistical test\n",
    "- 2.2.4.4 Verification techniques"
   ]
  },
  {
   "cell_type": "markdown",
   "metadata": {},
   "source": [
    "### 2.2.4.1 Check for data normality<a id='Data normality'></a>"
   ]
  },
  {
   "cell_type": "code",
   "execution_count": 142,
   "metadata": {},
   "outputs": [
    {
     "data": {
      "image/png": "[encoded data removed]",
      "text/plain": [
       "<Figure size 504x504 with 9 Axes>"
      ]
     },
     "metadata": {
      "needs_background": "light"
     },
     "output_type": "display_data"
    }
   ],
   "source": [
    "# visual/code for data normality\n",
    "df.hist(figsize=(7,7));"
   ]
  },
  {
   "cell_type": "markdown",
   "metadata": {},
   "source": [
    "### 2.2.4.2 Standard deviation and other basic statistics<a id='Standard deviation'></a>"
   ]
  },
  {
   "cell_type": "code",
   "execution_count": 143,
   "metadata": {},
   "outputs": [
    {
     "name": "stdout",
     "output_type": "stream",
     "text": [
      "ItemTotal\n",
      "numbers of samples: 2155\n",
      "mean: 672.5602366589327\n",
      "standard deviation: 1110.003796118042\n",
      "population variance: 1232108.4273964635\n",
      "skew: 6.768150799861715\n",
      "Reorder\n",
      "numbers of samples: 2155\n",
      "mean: 0.6668213457076566\n",
      "standard deviation: 0.4713498049392686\n",
      "population variance: 0.22217063861628655\n",
      "skew: -0.7083383265426805\n"
     ]
    }
   ],
   "source": [
    "# standard deviation for target variable\n",
    "print('ItemTotal')\n",
    "print('numbers of samples: ' + str(len(df['ItemTotal'])))\n",
    "print('mean: ' + str(mean(df['ItemTotal'])))\n",
    "print('standard deviation: ' + str(std(df['ItemTotal'])))\n",
    "print('population variance: ' + str(std(df['ItemTotal'])**2))\n",
    "print('skew: ' + str(df['ItemTotal'].skew()))\n",
    "print('Reorder')\n",
    "print('numbers of samples: ' + str(len(df['Reorder'])))\n",
    "print('mean: ' + str(mean(df['Reorder'])))\n",
    "print('standard deviation: ' + str(std(df['Reorder'])))\n",
    "print('population variance: ' + str(std(df['Reorder'])**2))\n",
    "print('skew: ' + str(df['Reorder'].skew()))"
   ]
  },
  {
   "cell_type": "markdown",
   "metadata": {},
   "source": [
    "### 2.2.4.3 Statistical test<a id='Statistical test'></a>"
   ]
  },
  {
   "cell_type": "code",
   "execution_count": 76,
   "metadata": {},
   "outputs": [],
   "source": [
    "# set up variables for this particular test\n",
    "alpha = 0.05"
   ]
  },
  {
   "cell_type": "code",
   "execution_count": 145,
   "metadata": {},
   "outputs": [
    {
     "data": {
      "text/html": [
       "<div>\n",
       "<style scoped>\n",
       "    .dataframe tbody tr th:only-of-type {\n",
       "        vertical-align: middle;\n",
       "    }\n",
       "\n",
       "    .dataframe tbody tr th {\n",
       "        vertical-align: top;\n",
       "    }\n",
       "\n",
       "    .dataframe thead th {\n",
       "        text-align: right;\n",
       "    }\n",
       "</style>\n",
       "<table border=\"1\" class=\"dataframe\">\n",
       "  <thead>\n",
       "    <tr style=\"text-align: right;\">\n",
       "      <th></th>\n",
       "      <th>df</th>\n",
       "      <th>sum_sq</th>\n",
       "      <th>mean_sq</th>\n",
       "      <th>F</th>\n",
       "      <th>PR(&gt;F)</th>\n",
       "    </tr>\n",
       "  </thead>\n",
       "  <tbody>\n",
       "    <tr>\n",
       "      <th>CompanyName</th>\n",
       "      <td>2.0</td>\n",
       "      <td>3.445841e+06</td>\n",
       "      <td>1.722920e+06</td>\n",
       "      <td>1.422992</td>\n",
       "      <td>2.412186e-01</td>\n",
       "    </tr>\n",
       "    <tr>\n",
       "      <th>Reorder</th>\n",
       "      <td>1.0</td>\n",
       "      <td>4.737530e+07</td>\n",
       "      <td>4.737530e+07</td>\n",
       "      <td>39.128143</td>\n",
       "      <td>4.774064e-10</td>\n",
       "    </tr>\n",
       "    <tr>\n",
       "      <th>Residual</th>\n",
       "      <td>2151.0</td>\n",
       "      <td>2.604373e+09</td>\n",
       "      <td>1.210773e+06</td>\n",
       "      <td>NaN</td>\n",
       "      <td>NaN</td>\n",
       "    </tr>\n",
       "  </tbody>\n",
       "</table>\n",
       "</div>"
      ],
      "text/plain": [
       "                 df        sum_sq       mean_sq          F        PR(>F)\n",
       "CompanyName     2.0  3.445841e+06  1.722920e+06   1.422992  2.412186e-01\n",
       "Reorder         1.0  4.737530e+07  4.737530e+07  39.128143  4.774064e-10\n",
       "Residual     2151.0  2.604373e+09  1.210773e+06        NaN           NaN"
      ]
     },
     "execution_count": 145,
     "metadata": {},
     "output_type": "execute_result"
    }
   ],
   "source": [
    "# test\n",
    "ols_results = sm.stats.anova_lm(ols('ItemTotal ~ CompanyName + Reorder', data=df_str).fit())\n",
    "ols_results"
   ]
  },
  {
   "cell_type": "code",
   "execution_count": 147,
   "metadata": {},
   "outputs": [],
   "source": [
    "# result\n",
    "companyName_pvalue = ols_results.loc['CompanyName', 'PR(>F)']\n",
    "reorder_pvalue = ols_results.loc['Reorder', 'PR(>F)']"
   ]
  },
  {
   "cell_type": "code",
   "execution_count": 148,
   "metadata": {},
   "outputs": [
    {
     "name": "stdout",
     "output_type": "stream",
     "text": [
      "Fail to reject the null hypothesis\n"
     ]
    }
   ],
   "source": [
    "# evaluation of result\n",
    "if alpha > companyName_pvalue:\n",
    "    print('Reject the null hypothesis')\n",
    "else:\n",
    "    print('Fail to reject the null hypothesis')"
   ]
  },
  {
   "cell_type": "code",
   "execution_count": 149,
   "metadata": {},
   "outputs": [
    {
     "name": "stdout",
     "output_type": "stream",
     "text": [
      "Reject the null hypothesis\n"
     ]
    }
   ],
   "source": [
    "# evaluation of result\n",
    "if alpha > reorder_pvalue:\n",
    "    print('Reject the null hypothesis')\n",
    "else:\n",
    "    print('Fail to reject the null hypothesis')"
   ]
  },
  {
   "cell_type": "markdown",
   "metadata": {},
   "source": [
    "Summarize results and determine next steps. Might include verification of sample size, error types, non-parametric testing, or a deepening of understanding"
   ]
  },
  {
   "cell_type": "markdown",
   "metadata": {},
   "source": [
    "### 2.2.4.4 Verification techniques<a id='Verification techniques'></a>"
   ]
  },
  {
   "cell_type": "markdown",
   "metadata": {},
   "source": [
    "#### 2.2.4.4.1 Nonparametric testing and confirmatory testing<a id='Nonparametric testing'></a>"
   ]
  },
  {
   "cell_type": "markdown",
   "metadata": {},
   "source": [
    "##### Nonparametric testing"
   ]
  },
  {
   "cell_type": "code",
   "execution_count": 156,
   "metadata": {},
   "outputs": [
    {
     "data": {
      "text/plain": [
       "array(['Federal Shipping', 'Speedy Express', 'United Package'],\n",
       "      dtype=object)"
      ]
     },
     "execution_count": 156,
     "metadata": {},
     "output_type": "execute_result"
    }
   ],
   "source": [
    "df['CompanyName'].unique()"
   ]
  },
  {
   "cell_type": "code",
   "execution_count": 157,
   "metadata": {},
   "outputs": [],
   "source": [
    "# non-parametric testing variables\n",
    "shipVia1 = df[df['CompanyName'] == 'Federal Shipping']\n",
    "shipVia1_reorder0 = shipVia1[shipVia1['Reorder'] == 0]['ItemTotal']\n",
    "shipVia1_reorder1 = shipVia1[shipVia1['Reorder'] == 1]['ItemTotal']\n",
    "shipVia2 = df[df['CompanyName'] == 'Speedy Express']\n",
    "shipVia2_reorder0 = shipVia2[shipVia2['Reorder'] == 0]['ItemTotal']\n",
    "shipVia2_reorder1 = shipVia2[shipVia2['Reorder'] == 1]['ItemTotal']\n",
    "shipVia3 = df[df['CompanyName'] == 'United Package']\n",
    "shipVia3_reorder0 = shipVia3[shipVia3['Reorder'] == 0]['ItemTotal']\n",
    "shipVia3_reorder1 = shipVia3[shipVia3['Reorder'] == 1]['ItemTotal']"
   ]
  },
  {
   "cell_type": "code",
   "execution_count": 158,
   "metadata": {},
   "outputs": [
    {
     "data": {
      "text/plain": [
       "KruskalResult(statistic=120.67769879906302, pvalue=2.2551786635363805e-24)"
      ]
     },
     "execution_count": 158,
     "metadata": {},
     "output_type": "execute_result"
    }
   ],
   "source": [
    "# non-parametric test\n",
    "kruskal_results = stats.kruskal(shipVia1_reorder0, shipVia1_reorder1, shipVia2_reorder0, shipVia2_reorder1, shipVia3_reorder0, shipVia3_reorder1)\n",
    "kruskal_results"
   ]
  },
  {
   "cell_type": "code",
   "execution_count": 159,
   "metadata": {},
   "outputs": [
    {
     "data": {
      "text/plain": [
       "2.2551786635363805e-24"
      ]
     },
     "execution_count": 159,
     "metadata": {},
     "output_type": "execute_result"
    }
   ],
   "source": [
    "# result\n",
    "p_value = kruskal_results[1]\n",
    "p_value"
   ]
  },
  {
   "cell_type": "code",
   "execution_count": 160,
   "metadata": {},
   "outputs": [
    {
     "name": "stdout",
     "output_type": "stream",
     "text": [
      "Reject the null hypothesis\n"
     ]
    }
   ],
   "source": [
    "# evaluation of results\n",
    "if alpha > p_value:\n",
    "    print('Reject the null hypothesis')\n",
    "else:\n",
    "    print('Fail to reject the null hypothesis')"
   ]
  },
  {
   "cell_type": "markdown",
   "metadata": {},
   "source": [
    "##### Confirmatory testing"
   ]
  },
  {
   "cell_type": "code",
   "execution_count": 162,
   "metadata": {},
   "outputs": [
    {
     "data": {
      "text/html": [
       "<table class=\"simpletable\">\n",
       "<caption>Multiple Comparison of Means - Tukey HSD, FWER=0.05</caption>\n",
       "<tr>\n",
       "            <th>group1</th>                    <th>group2</th>          <th>meandiff</th>   <th>p-adj</th>   <th>lower</th>     <th>upper</th>   <th>reject</th>\n",
       "</tr>\n",
       "<tr>\n",
       "  <td>Federal ShippingNo Reorder</td>  <td>Federal ShippingReorder</td> <td>-262.4791</td> <td>0.0481</td> <td>-523.6762</td>  <td>-1.2819</td>   <td>True</td> \n",
       "</tr>\n",
       "<tr>\n",
       "  <td>Federal ShippingNo Reorder</td> <td>Speedy ExpressNo Reorder</td> <td>-93.8362</td>    <td>0.9</td>  <td>-395.788</td>  <td>208.1155</td>   <td>False</td>\n",
       "</tr>\n",
       "<tr>\n",
       "  <td>Federal ShippingNo Reorder</td>   <td>Speedy ExpressReorder</td>  <td>-322.8532</td> <td>0.0056</td> <td>-583.539</td>  <td>-62.1674</td>   <td>True</td> \n",
       "</tr>\n",
       "<tr>\n",
       "  <td>Federal ShippingNo Reorder</td> <td>United PackageNo Reorder</td> <td>126.7029</td>  <td>0.7691</td> <td>-155.4177</td> <td>408.8235</td>   <td>False</td>\n",
       "</tr>\n",
       "<tr>\n",
       "  <td>Federal ShippingNo Reorder</td>   <td>United PackageReorder</td>  <td>-291.153</td>  <td>0.0114</td> <td>-540.5522</td> <td>-41.7537</td>   <td>True</td> \n",
       "</tr>\n",
       "<tr>\n",
       "    <td>Federal ShippingReorder</td>  <td>Speedy ExpressNo Reorder</td> <td>168.6428</td>  <td>0.4482</td> <td>-94.1654</td>  <td>431.4511</td>   <td>False</td>\n",
       "</tr>\n",
       "<tr>\n",
       "    <td>Federal ShippingReorder</td>    <td>Speedy ExpressReorder</td>  <td>-60.3741</td>    <td>0.9</td>  <td>-274.5012</td>  <td>153.753</td>   <td>False</td>\n",
       "</tr>\n",
       "<tr>\n",
       "    <td>Federal ShippingReorder</td>  <td>United PackageNo Reorder</td>  <td>389.182</td>   <td>0.001</td> <td>149.4209</td>   <td>628.943</td>   <td>True</td> \n",
       "</tr>\n",
       "<tr>\n",
       "    <td>Federal ShippingReorder</td>    <td>United PackageReorder</td>  <td>-28.6739</td>    <td>0.9</td>  <td>-228.907</td>  <td>171.5592</td>   <td>False</td>\n",
       "</tr>\n",
       "<tr>\n",
       "   <td>Speedy ExpressNo Reorder</td>    <td>Speedy ExpressReorder</td>  <td>-229.0169</td> <td>0.1269</td> <td>-491.3169</td>  <td>33.2831</td>   <td>False</td>\n",
       "</tr>\n",
       "<tr>\n",
       "   <td>Speedy ExpressNo Reorder</td>  <td>United PackageNo Reorder</td> <td>220.5391</td>  <td>0.2298</td> <td>-63.0737</td>   <td>504.152</td>   <td>False</td>\n",
       "</tr>\n",
       "<tr>\n",
       "   <td>Speedy ExpressNo Reorder</td>    <td>United PackageReorder</td>  <td>-197.3167</td> <td>0.2192</td> <td>-448.4028</td>  <td>53.7693</td>   <td>False</td>\n",
       "</tr>\n",
       "<tr>\n",
       "     <td>Speedy ExpressReorder</td>   <td>United PackageNo Reorder</td> <td>449.5561</td>   <td>0.001</td> <td>210.3523</td>  <td>688.7599</td>   <td>True</td> \n",
       "</tr>\n",
       "<tr>\n",
       "     <td>Speedy ExpressReorder</td>     <td>United PackageReorder</td>   <td>31.7002</td>    <td>0.9</td>  <td>-167.8654</td> <td>231.2658</td>   <td>False</td>\n",
       "</tr>\n",
       "<tr>\n",
       "   <td>United PackageNo Reorder</td>    <td>United PackageReorder</td>  <td>-417.8559</td>  <td>0.001</td> <td>-644.7069</td> <td>-191.0049</td>  <td>True</td> \n",
       "</tr>\n",
       "</table>"
      ],
      "text/plain": [
       "<class 'statsmodels.iolib.table.SimpleTable'>"
      ]
     },
     "execution_count": 162,
     "metadata": {},
     "output_type": "execute_result"
    }
   ],
   "source": [
    "# confirmatory test for ANOVA is TukeyHSD\n",
    "tukey_results = pairwise_tukeyhsd(df_str['ItemTotal'], df_str['CompanyName']+ df_str['Reorder'])\n",
    "tukey_results.summary()"
   ]
  },
  {
   "cell_type": "code",
   "execution_count": 175,
   "metadata": {},
   "outputs": [
    {
     "name": "stderr",
     "output_type": "stream",
     "text": [
      "C:\\Users\\eannefawcett\\Anaconda3\\envs\\learn-env\\lib\\site-packages\\ipykernel_launcher.py:8: UserWarning: Matplotlib is currently using module://ipykernel.pylab.backend_inline, which is a non-GUI backend, so cannot show the figure.\n",
      "  \n"
     ]
    },
    {
     "data": {
      "image/png": "[encoded data removed]",
      "text/plain": [
       "<Figure size 720x432 with 1 Axes>"
      ]
     },
     "metadata": {
      "needs_background": "light"
     },
     "output_type": "display_data"
    }
   ],
   "source": [
    "# create figure\n",
    "fig05 = plt.figure(figsize=(5,4))\n",
    "ax = fig05.add_subplot(111)\n",
    "\n",
    "# run tukeys\n",
    "from statsmodels.stats.multicomp import pairwise_tukeyhsd\n",
    "tukey_results = pairwise_tukeyhsd(df_str['ItemTotal'], df_str['CompanyName']+df_str['Reorder'])\n",
    "tukey_plot = tukey_results.plot_simultaneous(ax=ax).show() \n",
    "\n",
    "# format plot\n",
    "ax.axes.set_title('Multiple Comparisions Between Reorder and Shipping Company')\n",
    "ax.axes.set_ylabel('Reorder by Shipping Company')\n",
    "ax.axes.set_xlabel('Item Total')\n",
    "plt.show();"
   ]
  },
  {
   "cell_type": "markdown",
   "metadata": {},
   "source": [
    "Oberservations based on new finding\n",
    "\n",
    "#### 2.2.4.4.2 Effect size<a id='Effect size'></a>\n",
    "Cohen's D"
   ]
  },
  {
   "cell_type": "code",
   "execution_count": 86,
   "metadata": {},
   "outputs": [],
   "source": [
    "# effect size variables\n",
    "pass"
   ]
  },
  {
   "cell_type": "code",
   "execution_count": 176,
   "metadata": {},
   "outputs": [
    {
     "ename": "TypeError",
     "evalue": "Could not convert Federal ShippingThirtyFederal ShippingZeroFederal ShippingZeroSpeedy ExpressZeroSpeedy ExpressTenUnited PackageTenUnited PackageTenUnited PackageZeroSpeedy ExpressTwenty FiveSpeedy ExpressTwentySpeedy ExpressZeroUnited PackageZeroUnited PackageTwentyUnited PackageZeroUnited PackageTwentyUnited PackageFiveUnited PackageFifteenUnited PackageZeroUnited PackageTwentyUnited PackageFiveFederal ShippingTwenty FiveFederal ShippingTenFederal ShippingTwentyFederal ShippingZeroUnited PackageZeroUnited PackageFifteenFederal ShippingThirtyFederal ShippingFiveFederal ShippingFifteenSpeedy ExpressTwenty FiveSpeedy ExpressZeroSpeedy ExpressTwenty FiveFederal ShippingFiveFederal ShippingTwenty FiveSpeedy ExpressTenSpeedy ExpressTwentySpeedy ExpressZeroSpeedy ExpressThirtyUnited PackageFiveUnited PackageFifteenFederal ShippingZeroFederal ShippingTenFederal ShippingThirtyFederal ShippingTenFederal ShippingZeroFederal ShippingFifteenFederal ShippingFiveFederal ShippingTwenty FiveFederal ShippingTenSpeedy ExpressZeroSpeedy ExpressThirtyFederal ShippingZeroSpeedy ExpressThirtySpeedy ExpressZeroSpeedy ExpressTwentyFederal ShippingZeroFederal ShippingZeroSpeedy ExpressTwentySpeedy ExpressZeroSpeedy ExpressTwentySpeedy ExpressTwenty FiveUnited PackageTwentyUnited PackageZeroUnited PackageTwentyUnited PackageZeroFederal ShippingZeroFederal ShippingTwentyFederal ShippingTwentyFederal ShippingThirtyFederal ShippingTwentySpeedy ExpressZeroSpeedy ExpressZeroSpeedy ExpressZeroSpeedy ExpressZeroFederal ShippingZeroFederal ShippingFiveFederal ShippingZeroFederal ShippingZeroUnited PackageFifteenUnited PackageZeroUnited PackageFiveUnited PackageFiveUnited PackageZeroSpeedy ExpressZeroSpeedy ExpressTwentySpeedy ExpressTwenty FiveSpeedy ExpressFiveSpeedy ExpressZeroSpeedy ExpressFifteenSpeedy ExpressFifteenSpeedy ExpressTwentyFederal ShippingFiveFederal ShippingFiveFederal ShippingZeroFederal ShippingZeroSpeedy ExpressThirtySpeedy ExpressFifteenSpeedy ExpressZeroSpeedy ExpressTenUnited PackageTenUnited PackageThirtyUnited PackageZeroFederal ShippingFifteenFederal ShippingZeroFederal ShippingTenFederal ShippingFifteenFederal ShippingZeroSpeedy ExpressTenSpeedy ExpressFifteenFederal ShippingTwenty FiveFederal ShippingThirtySpeedy ExpressZeroSpeedy ExpressZeroSpeedy ExpressFifteenSpeedy ExpressFifteenUnited PackageFiveUnited PackageFifteenUnited PackageTenUnited PackageZeroFederal ShippingZeroFederal ShippingZeroFederal ShippingFiveFederal ShippingTwenty FiveUnited PackageTenUnited PackageZeroUnited PackageTwenty FiveUnited PackageZeroUnited PackageTwenty FiveUnited PackageThirtySpeedy ExpressThirtySpeedy ExpressTenSpeedy ExpressFifteenUnited PackageFiveUnited PackageZeroUnited PackageTwenty FiveUnited PackageTwentyUnited PackageZeroUnited PackageZeroUnited PackageFiveUnited PackageThirtyUnited PackageTwentyUnited PackageFifteenUnited PackageThirtyUnited PackageThirtyUnited PackageZeroUnited PackageZeroUnited PackageTwenty FiveUnited PackageThirtyUnited PackageZeroUnited PackageFifteenUnited PackageFifteenUnited PackageZeroUnited PackageZeroFederal ShippingZeroFederal ShippingZeroFederal ShippingFiveFederal ShippingFifteenFederal ShippingZeroFederal ShippingTenUnited PackageZeroUnited PackageFifteenFederal ShippingFifteenFederal ShippingThirtySpeedy ExpressZeroSpeedy ExpressTwenty FiveSpeedy ExpressZeroSpeedy ExpressTwenty FiveSpeedy ExpressZeroUnited PackageTenUnited PackageZeroFederal ShippingZeroFederal ShippingFifteenUnited PackageZeroUnited PackageTwenty FiveUnited PackageZeroUnited PackageTwenty FiveUnited PackageTwentyUnited PackageTwenty FiveUnited PackageTwentyUnited PackageZeroUnited PackageFifteenUnited PackageThirtyFederal ShippingTenFederal ShippingZeroSpeedy ExpressTenUnited PackageTenUnited PackageTwentyFederal ShippingZeroFederal ShippingZeroFederal ShippingTwentyFederal ShippingZeroUnited PackageFifteenFederal ShippingTwenty FiveSpeedy ExpressFiveSpeedy ExpressThirtySpeedy ExpressFiveSpeedy ExpressTenSpeedy ExpressFifteenSpeedy ExpressZeroSpeedy ExpressZeroSpeedy ExpressFiveFederal ShippingTwenty FiveFederal ShippingFiveFederal ShippingZeroFederal ShippingTwentyFederal ShippingZeroUnited PackageZeroUnited PackageTwentyUnited PackageTwenty FiveSpeedy ExpressTwenty FiveSpeedy ExpressThirtySpeedy ExpressFifteenSpeedy ExpressTwentyFederal ShippingZeroFederal ShippingZeroFederal ShippingFifteenUnited PackageFiveUnited PackageFifteenUnited PackageFifteenUnited PackageThirtySpeedy ExpressZeroSpeedy ExpressZeroSpeedy ExpressTenUnited PackageZeroUnited PackageZeroUnited PackageZeroFederal ShippingZeroFederal ShippingFiveFederal ShippingZeroUnited PackageTwenty FiveUnited PackageFifteenUnited PackageTwenty FiveUnited PackageTwentyUnited PackageTwenty FiveUnited PackageTenUnited PackageZeroFederal ShippingTwenty FiveFederal ShippingZeroFederal ShippingTwentyFederal ShippingTwenty FiveFederal ShippingZeroFederal ShippingZeroFederal ShippingFifteenUnited PackageZeroUnited PackageZeroUnited PackageZeroFederal ShippingZeroFederal ShippingTenFederal ShippingTwenty FiveFederal ShippingTwentyFederal ShippingZeroUnited PackageTwenty FiveUnited PackageTwentyUnited PackageTwentyUnited PackageTwentySpeedy ExpressThirtySpeedy ExpressFifteenSpeedy ExpressTwentyUnited PackageZeroUnited PackageZeroUnited PackageZeroUnited PackageFiveUnited PackageZeroFederal ShippingZeroFederal ShippingThirtyFederal ShippingThirtyFederal ShippingFiveFederal ShippingThirtyFederal ShippingTwenty FiveUnited PackageTenUnited PackageTwenty FiveSpeedy ExpressTenUnited PackageThirtyUnited PackageFifteenSpeedy ExpressFifteenSpeedy ExpressTenSpeedy ExpressFifteenSpeedy ExpressZeroFederal ShippingZeroFederal ShippingTenFederal ShippingThirtyFederal ShippingFifteenFederal ShippingTenFederal ShippingZeroSpeedy ExpressZeroSpeedy ExpressTwentyUnited PackageTwentyUnited PackageTwentyUnited PackageFifteenFederal ShippingZeroFederal ShippingZeroFederal ShippingZeroSpeedy ExpressZeroSpeedy ExpressFifteenSpeedy ExpressTwentyFederal ShippingTenFederal ShippingTwentyFederal ShippingZeroFederal ShippingZeroFederal ShippingZeroFederal ShippingFifteenFederal ShippingFifteenFederal ShippingTenUnited PackageFiveUnited PackageZeroSpeedy ExpressThirtySpeedy ExpressTenSpeedy ExpressTenFederal ShippingTwentyFederal ShippingTwenty FiveFederal ShippingTwentySpeedy ExpressFifteenSpeedy ExpressZeroUnited PackageThirtyUnited PackageZeroUnited PackageFifteenFederal ShippingFifteenFederal ShippingTenFederal ShippingZeroFederal ShippingFifteenUnited PackageFiveUnited PackageZeroUnited PackageTwentyUnited PackageThirtyUnited PackageZeroUnited PackageThirtyUnited PackageTenUnited PackageThirtyUnited PackageFiveSpeedy ExpressTwentyUnited PackageZeroUnited PackageFifteenUnited PackageZeroUnited PackageZeroFederal ShippingTwentyFederal ShippingZeroFederal ShippingTwentyFederal ShippingTwentyUnited PackageZeroUnited PackageTenUnited PackageTwentyFederal ShippingZeroFederal ShippingFiveFederal ShippingZeroSpeedy ExpressTenSpeedy ExpressFiveSpeedy ExpressZeroFederal ShippingFifteenFederal ShippingZeroFederal ShippingZeroFederal ShippingThirtyFederal ShippingFiveSpeedy ExpressZeroSpeedy ExpressZeroSpeedy ExpressZeroSpeedy ExpressTwentySpeedy ExpressFiveFederal ShippingFiveFederal ShippingThirtyFederal ShippingThirtyFederal ShippingZeroFederal ShippingZeroUnited PackageTenUnited PackageZeroUnited PackageFifteenFederal ShippingZeroFederal ShippingFifteenUnited PackageZeroUnited PackageZeroUnited PackageZeroUnited PackageZeroSpeedy ExpressFifteenSpeedy ExpressTwenty FiveSpeedy ExpressZeroUnited PackageZeroUnited PackageTwentyUnited PackageZeroUnited PackageThirtySpeedy ExpressTwentySpeedy ExpressFifteenSpeedy ExpressZeroSpeedy ExpressZeroFederal ShippingFiveFederal ShippingFifteenFederal ShippingTwenty FiveFederal ShippingZeroFederal ShippingThirtyFederal ShippingZeroFederal ShippingTwentyFederal ShippingFiveFederal ShippingZeroSpeedy ExpressZeroSpeedy ExpressZeroSpeedy ExpressFifteenFederal ShippingTwenty FiveFederal ShippingZeroFederal ShippingZeroSpeedy ExpressFiveSpeedy ExpressTenFederal ShippingFifteenFederal ShippingTwentyFederal ShippingFifteenFederal ShippingZeroFederal ShippingTwentyFederal ShippingFifteenFederal ShippingZeroFederal ShippingFifteenFederal ShippingFifteenSpeedy ExpressFifteenSpeedy ExpressThirtySpeedy ExpressZeroSpeedy ExpressZeroUnited PackageTwenty FiveUnited PackageFiveFederal ShippingTenFederal ShippingTwenty FiveSpeedy ExpressZeroSpeedy ExpressZeroSpeedy ExpressFifteenSpeedy ExpressTwenty FiveSpeedy ExpressTenSpeedy ExpressFiveSpeedy ExpressZeroSpeedy ExpressTwentySpeedy ExpressThirtyUnited PackageThirtyUnited PackageFifteenUnited PackageZeroSpeedy ExpressTwenty FiveSpeedy ExpressTenSpeedy ExpressZeroSpeedy ExpressZeroSpeedy ExpressFiveFederal ShippingTwentyFederal ShippingZeroFederal ShippingTenFederal ShippingFifteenFederal ShippingZeroUnited PackageZeroUnited PackageTenUnited PackageZeroUnited PackageTwentyFederal ShippingFiveFederal ShippingTwentySpeedy ExpressZeroSpeedy ExpressTwentyFederal ShippingFiveFederal ShippingZeroFederal ShippingTwentyFederal ShippingFifteenFederal ShippingZeroFederal ShippingFifteenFederal ShippingFifteenSpeedy ExpressTwenty FiveSpeedy ExpressZeroSpeedy ExpressTwenty FiveSpeedy ExpressFiveUnited PackageZeroUnited PackageFifteenSpeedy ExpressZeroSpeedy ExpressFiveSpeedy ExpressThirtySpeedy ExpressFiveSpeedy ExpressFiveSpeedy ExpressZeroSpeedy ExpressZeroSpeedy ExpressFifteenSpeedy ExpressZeroFederal ShippingTwentyFederal ShippingZeroUnited PackageFifteenUnited PackageFifteenUnited PackageFifteenUnited PackageTwentyUnited PackageTwentySpeedy ExpressThirtySpeedy ExpressThirtyUnited PackageZeroSpeedy ExpressZeroUnited PackageThirtyUnited PackageFiveSpeedy ExpressZeroSpeedy ExpressFiveSpeedy ExpressThirtySpeedy ExpressZeroUnited PackageZeroUnited PackageThirtyUnited PackageZeroUnited PackageZeroUnited PackageTenFederal ShippingThirtyUnited PackageThirtyUnited PackageTwentyUnited PackageTwenty FiveUnited PackageTwenty FiveUnited PackageZeroUnited PackageZeroUnited PackageThirtyUnited PackageThirtyUnited PackageTwenty FiveSpeedy ExpressZeroUnited PackageFiveUnited PackageFifteenUnited PackageTwentyFederal ShippingZeroFederal ShippingTenFederal ShippingThirtyFederal ShippingFiveUnited PackageTwenty FiveUnited PackageTenUnited PackageZeroUnited PackageTwenty FiveUnited PackageThirtyUnited PackageThirtyUnited PackageTenUnited PackageTwentySpeedy ExpressThirtySpeedy ExpressZeroFederal ShippingZeroFederal ShippingZeroFederal ShippingFifteenFederal ShippingTenSpeedy ExpressFiveSpeedy ExpressTenSpeedy ExpressFiveSpeedy ExpressZeroSpeedy ExpressTwentySpeedy ExpressTwenty FiveUnited PackageFiveUnited PackageZeroUnited PackageZeroUnited PackageZeroUnited PackageThirtyUnited PackageZeroUnited PackageTwenty FiveUnited PackageZeroUnited PackageZeroUnited PackageTenFederal ShippingTwentyFederal ShippingThirtyFederal ShippingZeroFederal ShippingFifteenSpeedy ExpressZeroSpeedy ExpressFifteenUnited PackageTwenty FiveUnited PackageThirtyFederal ShippingTenFederal ShippingTwentyFederal ShippingZeroUnited PackageFiveUnited PackageZeroUnited PackageTwenty FiveUnited PackageZeroUnited PackageFiveUnited PackageFifteenSpeedy ExpressZeroFederal ShippingZeroFederal ShippingZeroFederal ShippingTwenty FiveFederal ShippingThirtyFederal ShippingZeroUnited PackageTenUnited PackageZeroUnited PackageZeroSpeedy ExpressFifteenSpeedy ExpressTwenty FiveFederal ShippingFiveFederal ShippingFifteenFederal ShippingTwentySpeedy ExpressFiveSpeedy ExpressTwenty FiveFederal ShippingFiveFederal ShippingZeroUnited PackageZeroUnited PackageTwenty FiveUnited PackageThirtyUnited PackageZeroFederal ShippingZeroFederal ShippingZeroFederal ShippingThirtyFederal ShippingFifteenFederal ShippingThirtySpeedy ExpressThirtySpeedy ExpressZeroUnited PackageZeroUnited PackageThirtyFederal ShippingFifteenFederal ShippingTwenty FiveSpeedy ExpressTwenty FiveSpeedy ExpressTenSpeedy ExpressFifteenUnited PackageZeroUnited PackageTwenty FiveUnited PackageThirtyFederal ShippingTenFederal ShippingThirtySpeedy ExpressZeroSpeedy ExpressTenFederal ShippingTwentyFederal ShippingZeroUnited PackageZeroUnited PackageZeroUnited PackageThirtyUnited PackageTwenty FiveSpeedy ExpressTwentySpeedy ExpressTwentySpeedy ExpressTwentyFederal ShippingTwentyFederal ShippingThirtyUnited PackageTenUnited PackageFiveUnited PackageFiveFederal ShippingZeroFederal ShippingFifteenFederal ShippingZeroFederal ShippingZeroFederal ShippingThirtyUnited PackageZeroUnited PackageZeroUnited PackageFifteenUnited PackageZeroFederal ShippingThirtyUnited PackageFifteenUnited PackageFifteenFederal ShippingFiveFederal ShippingThirtyFederal ShippingTenUnited PackageTwenty FiveUnited PackageTwenty FiveUnited PackageTwentyUnited PackageThirtyUnited PackageThirtyUnited PackageTenUnited PackageFiveUnited PackageFiveUnited PackageZeroUnited PackageTenUnited PackageZeroUnited PackageFiveUnited PackageThirtyUnited PackageTenUnited PackageZeroUnited PackageFifteenUnited PackageTwenty FiveFederal ShippingFifteenFederal ShippingFifteenSpeedy ExpressThirtySpeedy ExpressZeroFederal ShippingZeroFederal ShippingTwentyFederal ShippingFifteenUnited PackageThirtyFederal ShippingTwenty FiveFederal ShippingTenFederal ShippingFifteenUnited PackageTwentySpeedy ExpressThirtySpeedy ExpressZeroSpeedy ExpressFifteenUnited PackageZeroUnited PackageThirtyUnited PackageZeroUnited PackageZeroUnited PackageFifteenSpeedy ExpressFiveSpeedy ExpressZeroFederal ShippingTenSpeedy ExpressFifteenSpeedy ExpressZeroSpeedy ExpressTenUnited PackageZeroUnited PackageZeroFederal ShippingTwenty FiveFederal ShippingFiveFederal ShippingZeroFederal ShippingTwenty FiveFederal ShippingZeroUnited PackageThirtyUnited PackageThirtySpeedy ExpressTwenty FiveSpeedy ExpressTwenty FiveUnited PackageFiveUnited PackageFiveSpeedy ExpressZeroFederal ShippingZeroFederal ShippingTwenty FiveFederal ShippingZeroFederal ShippingTenFederal ShippingZeroUnited PackageZeroUnited PackageZeroUnited PackageZeroUnited PackageZeroSpeedy ExpressFiveSpeedy ExpressTwenty FiveSpeedy ExpressTwenty FiveUnited PackageZeroUnited PackageZeroUnited PackageThirtyUnited PackageZeroUnited PackageTwenty FiveSpeedy ExpressZeroSpeedy ExpressTenSpeedy ExpressThirtySpeedy ExpressTwentySpeedy ExpressZeroFederal ShippingZeroFederal ShippingTenFederal ShippingZeroFederal ShippingTwenty FiveFederal ShippingZeroFederal ShippingThirtyUnited PackageZeroUnited PackageFifteenUnited PackageFifteenFederal ShippingZeroFederal ShippingThirtyFederal ShippingZeroSpeedy ExpressZeroSpeedy ExpressZeroUnited PackageFifteenUnited PackageTenUnited PackageFifteenSpeedy ExpressTenSpeedy ExpressZeroSpeedy ExpressFifteenSpeedy ExpressThirtyUnited PackageZeroUnited PackageZeroUnited PackageTwenty FiveUnited PackageTenUnited PackageZeroUnited PackageFifteenUnited PackageTwenty FiveUnited PackageTenUnited PackageTwentyUnited PackageThirtyUnited PackageTenUnited PackageFiveUnited PackageThirtySpeedy ExpressZeroSpeedy ExpressTwentyUnited PackageThirtyUnited PackageTwentyUnited PackageZeroUnited PackageTwentyUnited PackageFifteenUnited PackageFifteenUnited PackageZeroUnited PackageTwenty FiveUnited PackageTwenty FiveUnited PackageTwentySpeedy ExpressZeroFederal ShippingFifteenFederal ShippingTwentySpeedy ExpressZeroSpeedy ExpressZeroSpeedy ExpressFiveUnited PackageFifteenUnited PackageThirtyUnited PackageTenSpeedy ExpressThirtySpeedy ExpressThirtySpeedy ExpressTwentySpeedy ExpressZeroUnited PackageZeroUnited PackageTwentyUnited PackageTwentyUnited PackageZeroSpeedy ExpressTwentySpeedy ExpressTenSpeedy ExpressTwentySpeedy ExpressZeroSpeedy ExpressFiveFederal ShippingThirtyFederal ShippingZeroFederal ShippingFiveFederal ShippingFiveFederal ShippingTwentyFederal ShippingFifteenFederal ShippingTwenty FiveFederal ShippingZeroFederal ShippingFifteenFederal ShippingFifteenSpeedy ExpressZeroSpeedy ExpressFifteenSpeedy ExpressZeroSpeedy ExpressZeroFederal ShippingThirtyFederal ShippingTenUnited PackageZeroUnited PackageTwenty FiveSpeedy ExpressZeroSpeedy ExpressTenUnited PackageThirtyFederal ShippingTenFederal ShippingFifteenFederal ShippingZeroUnited PackageTwenty FiveUnited PackageTwentyUnited PackageFifteenUnited PackageTenSpeedy ExpressTwentySpeedy ExpressFifteenSpeedy ExpressTenFederal ShippingZeroFederal ShippingFiveFederal ShippingFiveFederal ShippingTwenty FiveFederal ShippingTenFederal ShippingFifteenFederal ShippingFifteenSpeedy ExpressFifteenSpeedy ExpressTwenty FiveUnited PackageThirtyUnited PackageTenUnited PackageTwenty FiveUnited PackageTwentyUnited PackageFifteenFederal ShippingTenFederal ShippingTwenty FiveFederal ShippingZeroFederal ShippingFifteenFederal ShippingZeroFederal ShippingFiveFederal ShippingZeroFederal ShippingTenFederal ShippingThirtySpeedy ExpressZeroUnited PackageThirtyUnited PackageTwenty FiveUnited PackageZeroUnited PackageTenUnited PackageTwenty FiveUnited PackageZeroUnited PackageFiveSpeedy ExpressTenSpeedy ExpressTwentySpeedy ExpressFifteenSpeedy ExpressZeroUnited PackageFifteenUnited PackageTenSpeedy ExpressTwentySpeedy ExpressZeroUnited PackageTwentyUnited PackageTwenty FiveFederal ShippingZeroFederal ShippingTwentyFederal ShippingTwentyUnited PackageZeroUnited PackageThirtySpeedy ExpressThirtySpeedy ExpressZeroSpeedy ExpressTwentySpeedy ExpressTwentySpeedy ExpressTenSpeedy ExpressZeroFederal ShippingZeroSpeedy ExpressTwentySpeedy ExpressTwentyFederal ShippingThirtyFederal ShippingThirtyFederal ShippingZeroFederal ShippingZeroUnited PackageTenUnited PackageTwenty FiveUnited PackageThirtyUnited PackageTwenty FiveFederal ShippingZeroFederal ShippingFifteenFederal ShippingZeroUnited PackageTwentyUnited PackageThirtyUnited PackageZeroUnited PackageThirtySpeedy ExpressZeroSpeedy ExpressFiveSpeedy ExpressZeroSpeedy ExpressTwentyFederal ShippingTenFederal ShippingTwentyFederal ShippingFifteenUnited PackageFiveUnited PackageTwenty FiveUnited PackageFifteenFederal ShippingFifteenFederal ShippingTwentyUnited PackageFiveUnited PackageTwenty FiveFederal ShippingZeroFederal ShippingTenFederal ShippingZeroSpeedy ExpressTwenty FiveUnited PackageTwentyUnited PackageTwentyUnited PackageZeroUnited PackageZeroUnited PackageFifteenSpeedy ExpressTwentySpeedy ExpressZeroSpeedy ExpressTwenty FiveSpeedy ExpressZeroSpeedy ExpressFifteenSpeedy ExpressFifteenFederal ShippingZeroFederal ShippingZeroUnited PackageFifteenFederal ShippingTenFederal ShippingFifteenSpeedy ExpressTwenty FiveSpeedy ExpressTenSpeedy ExpressTenSpeedy ExpressFiveSpeedy ExpressZeroUnited PackageZeroUnited PackageFifteenUnited PackageTwentyUnited PackageTwenty FiveUnited PackageTwentySpeedy ExpressFifteenSpeedy ExpressTwenty FiveSpeedy ExpressFifteenSpeedy ExpressThirtySpeedy ExpressFiveSpeedy ExpressTwenty FiveFederal ShippingZeroFederal ShippingTwentyFederal ShippingZeroFederal ShippingThirtyFederal ShippingZeroFederal ShippingZeroSpeedy ExpressTenSpeedy ExpressFiveSpeedy ExpressFiveSpeedy ExpressZeroUnited PackageFifteenUnited PackageTwenty FiveUnited PackageFifteenSpeedy ExpressTwenty FiveSpeedy ExpressTwentyUnited PackageTenUnited PackageZeroUnited PackageZeroUnited PackageZeroFederal ShippingZeroFederal ShippingTwentyFederal ShippingZeroSpeedy ExpressTenSpeedy ExpressZeroSpeedy ExpressTwentySpeedy ExpressThirtySpeedy ExpressZeroUnited PackageThirtyUnited PackageTenUnited PackageZeroUnited PackageFiveSpeedy ExpressTwentyUnited PackageTenUnited PackageTwenty FiveUnited PackageZeroUnited PackageZeroUnited PackageTwentyUnited PackageFifteenUnited PackageZeroUnited PackageTwentyUnited PackageFiveUnited PackageTwenty FiveFederal ShippingThirtyFederal ShippingFiveFederal ShippingFiveFederal ShippingTwentyUnited PackageFifteenUnited PackageThirtyUnited PackageThirtyUnited PackageZeroUnited PackageZeroSpeedy ExpressTwenty FiveSpeedy ExpressThirtySpeedy ExpressFifteenFederal ShippingFiveFederal ShippingTwenty FiveFederal ShippingZeroFederal ShippingTwenty FiveUnited PackageFiveUnited PackageTwenty FiveUnited PackageThirtyUnited PackageZeroFederal ShippingTwenty FiveFederal ShippingFifteenUnited PackageZeroUnited PackageFiveUnited PackageFiveUnited PackageZeroUnited PackageFifteenUnited PackageZeroUnited PackageZeroUnited PackageFifteenSpeedy ExpressZeroSpeedy ExpressZeroSpeedy ExpressZeroUnited PackageZeroUnited PackageZeroUnited PackageZeroFederal ShippingZeroFederal ShippingFiveFederal ShippingTenFederal ShippingZeroFederal ShippingThirtyUnited PackageTwentyUnited PackageTwentySpeedy ExpressTwenty FiveSpeedy ExpressTwenty FiveSpeedy ExpressTwentyFederal ShippingZeroFederal ShippingFiveFederal ShippingZeroFederal ShippingZeroFederal ShippingTenFederal ShippingZeroFederal ShippingTenFederal ShippingTwenty FiveFederal ShippingZeroFederal ShippingZeroFederal ShippingTwenty FiveSpeedy ExpressZeroSpeedy ExpressTwentySpeedy ExpressThirtySpeedy ExpressThirtySpeedy ExpressThirtySpeedy ExpressFifteenSpeedy ExpressZeroSpeedy ExpressZeroFederal ShippingZeroSpeedy ExpressFifteenSpeedy ExpressThirtyUnited PackageTwenty FiveUnited PackageThirtyFederal ShippingFiveFederal ShippingTwenty FiveSpeedy ExpressZeroSpeedy ExpressFiveSpeedy ExpressZeroUnited PackageZeroUnited PackageTwenty FiveUnited PackageZeroSpeedy ExpressZeroSpeedy ExpressTwentyFederal ShippingTenFederal ShippingZeroFederal ShippingZeroFederal ShippingFifteenUnited PackageFiveUnited PackageFiveUnited PackageTwenty FiveUnited PackageZeroFederal ShippingZeroFederal ShippingZeroFederal ShippingFifteenFederal ShippingZeroFederal ShippingTenUnited PackageFiveUnited PackageTwenty FiveUnited PackageFifteenUnited PackageZeroSpeedy ExpressTenSpeedy ExpressZeroSpeedy ExpressZeroSpeedy ExpressFiveSpeedy ExpressTenUnited PackageTenSpeedy ExpressZeroSpeedy ExpressFifteenSpeedy ExpressZeroUnited PackageFiveUnited PackageTenUnited PackageZeroUnited PackageZeroUnited PackageThirtyUnited PackageZeroSpeedy ExpressFiveSpeedy ExpressThirtySpeedy ExpressZeroSpeedy ExpressFifteenUnited PackageTwentyUnited PackageThirtyUnited PackageThirtySpeedy ExpressZeroFederal ShippingFiveFederal ShippingTwentyUnited PackageFifteenUnited PackageThirtyUnited PackageZeroUnited PackageTenFederal ShippingZeroFederal ShippingThirtyFederal ShippingZeroUnited PackageTenUnited PackageZeroUnited PackageTwentyUnited PackageZeroUnited PackageZeroSpeedy ExpressFifteenSpeedy ExpressZeroUnited PackageTwentyUnited PackageTwentyUnited PackageThirtySpeedy ExpressTwentySpeedy ExpressTwenty FiveSpeedy ExpressZeroSpeedy ExpressTenSpeedy ExpressFiveSpeedy ExpressTwenty FiveSpeedy ExpressTenSpeedy ExpressZeroSpeedy ExpressZeroUnited PackageFifteenUnited PackageZeroSpeedy ExpressTenSpeedy ExpressZeroSpeedy ExpressTwenty FiveUnited PackageTwenty FiveUnited PackageZeroUnited PackageZeroUnited PackageTwentyUnited PackageZeroUnited PackageFiveUnited PackageFifteenFederal ShippingZeroFederal ShippingTwentyFederal ShippingZeroFederal ShippingTwentyFederal ShippingTenFederal ShippingTenFederal ShippingZeroSpeedy ExpressTenSpeedy ExpressTwentySpeedy ExpressZeroFederal ShippingFiveFederal ShippingFiveFederal ShippingThirtyUnited PackageTwentyUnited PackageTwentyUnited PackageTwenty FiveSpeedy ExpressTwenty FiveSpeedy ExpressThirtySpeedy ExpressZeroSpeedy ExpressZeroUnited PackageZeroUnited PackageTenUnited PackageZeroSpeedy ExpressZeroSpeedy ExpressZeroUnited PackageZeroUnited PackageZeroUnited PackageTwentyUnited PackageZeroUnited PackageZeroUnited PackageFifteenUnited PackageTenSpeedy ExpressThirtySpeedy ExpressFifteenUnited PackageTenUnited PackageZeroUnited PackageTwenty FiveUnited PackageFifteenUnited PackageZeroUnited PackageFiveFederal ShippingZeroFederal ShippingTenFederal ShippingFifteenFederal ShippingFiveFederal ShippingTenFederal ShippingZeroFederal ShippingThirtySpeedy ExpressZeroSpeedy ExpressZeroSpeedy ExpressZeroFederal ShippingZeroFederal ShippingZeroSpeedy ExpressFiveSpeedy ExpressFifteenSpeedy ExpressTwentySpeedy ExpressThirtySpeedy ExpressThirtySpeedy ExpressZeroSpeedy ExpressZeroSpeedy ExpressZeroSpeedy ExpressThirtyFederal ShippingZeroSpeedy ExpressTenSpeedy ExpressFifteenSpeedy ExpressFifteenSpeedy ExpressZeroFederal ShippingZeroFederal ShippingZeroFederal ShippingTwentySpeedy ExpressTwenty FiveSpeedy ExpressTwentyUnited PackageTwenty FiveUnited PackageZeroUnited PackageFiveSpeedy ExpressZeroSpeedy ExpressZeroSpeedy ExpressTwenty FiveUnited PackageTwentyUnited PackageTwenty FiveFederal ShippingTenFederal ShippingTwenty FiveFederal ShippingZeroFederal ShippingTwentyFederal ShippingTwentyFederal ShippingThirtyUnited PackageZeroUnited PackageTwentyFederal ShippingZeroFederal ShippingTenFederal ShippingZeroSpeedy ExpressFiveSpeedy ExpressZeroUnited PackageFiveUnited PackageTenUnited PackageZeroSpeedy ExpressZeroSpeedy ExpressThirtySpeedy ExpressZeroSpeedy ExpressZeroSpeedy ExpressFifteenSpeedy ExpressZeroFederal ShippingTwenty FiveFederal ShippingZeroFederal ShippingZeroFederal ShippingThirtyFederal ShippingTwentySpeedy ExpressZeroSpeedy ExpressZeroUnited PackageFiveUnited PackageTenUnited PackageTwenty FiveUnited PackageFiveUnited PackageTenUnited PackageFifteenFederal ShippingZeroFederal ShippingTenFederal ShippingTwentyFederal ShippingZeroUnited PackageZeroUnited PackageFifteenUnited PackageTenUnited PackageFifteenUnited PackageZeroFederal ShippingFifteenSpeedy ExpressTwenty FiveSpeedy ExpressTwentySpeedy ExpressFifteenSpeedy ExpressTwenty FiveSpeedy ExpressZeroUnited PackageZeroUnited PackageTwenty FiveFederal ShippingTenFederal ShippingTwenty FiveFederal ShippingTwentySpeedy ExpressZeroSpeedy ExpressThirtySpeedy ExpressZeroSpeedy ExpressThirtySpeedy ExpressZeroUnited PackageFifteenUnited PackageThirtyUnited PackageTwentyUnited PackageZeroFederal ShippingTenFederal ShippingFiveFederal ShippingThirtySpeedy ExpressTenSpeedy ExpressTwentySpeedy ExpressZeroSpeedy ExpressFiveSpeedy ExpressTenSpeedy ExpressTwentyFederal ShippingZeroFederal ShippingZeroFederal ShippingTwenty FiveFederal ShippingTwenty FiveFederal ShippingFifteenFederal ShippingTwentyUnited PackageTwenty FiveUnited PackageFifteenUnited PackageZeroUnited PackageTwenty FiveUnited PackageFiveUnited PackageTenSpeedy ExpressTenFederal ShippingTwentyFederal ShippingTwenty FiveUnited PackageZeroUnited PackageFifteenUnited PackageFifteenUnited PackageThirtyFederal ShippingTwenty FiveFederal ShippingTwenty FiveFederal ShippingZeroFederal ShippingZeroUnited PackageZeroSpeedy ExpressThirtySpeedy ExpressZeroSpeedy ExpressFifteenSpeedy ExpressZeroSpeedy ExpressZeroFederal ShippingFiveFederal ShippingZeroFederal ShippingZeroFederal ShippingFifteenSpeedy ExpressTwentySpeedy ExpressTenSpeedy ExpressFiveSpeedy ExpressFifteenSpeedy ExpressTwenty FiveSpeedy ExpressThirtySpeedy ExpressThirtyUnited PackageThirtyUnited PackageZeroUnited PackageTwentySpeedy ExpressZeroSpeedy ExpressFifteenSpeedy ExpressZeroFederal ShippingZeroFederal ShippingFifteenFederal ShippingThirtyFederal ShippingFiveFederal ShippingTenFederal ShippingFifteenSpeedy ExpressFifteenSpeedy ExpressFiveFederal ShippingThirtyUnited PackageZeroUnited PackageThirtyUnited PackageTwentyUnited PackageFifteenUnited PackageZeroUnited PackageTwentyUnited PackageFifteenUnited PackageFifteenSpeedy ExpressFifteenSpeedy ExpressZeroSpeedy ExpressZeroSpeedy ExpressThirtyFederal ShippingZeroFederal ShippingTwenty FiveFederal ShippingThirtyFederal ShippingTwenty FiveSpeedy ExpressThirtySpeedy ExpressThirtySpeedy ExpressTwenty FiveUnited PackageThirtyUnited PackageTwenty FiveSpeedy ExpressFiveSpeedy ExpressZeroSpeedy ExpressTenSpeedy ExpressThirtyFederal ShippingFiveFederal ShippingTwenty FiveFederal ShippingZeroFederal ShippingTwenty FiveFederal ShippingFiveFederal ShippingZeroSpeedy ExpressTwenty FiveSpeedy ExpressTenSpeedy ExpressFifteenFederal ShippingZeroUnited PackageTwenty FiveUnited PackageTwentyUnited PackageZeroUnited PackageZeroSpeedy ExpressTenSpeedy ExpressTwenty FiveSpeedy ExpressTwenty FiveSpeedy ExpressZeroFederal ShippingThirtyUnited PackageZeroUnited PackageZeroUnited PackageZeroFederal ShippingZeroFederal ShippingTwentyFederal ShippingTwenty FiveSpeedy ExpressTwentySpeedy ExpressTwentySpeedy ExpressZeroSpeedy ExpressTenFederal ShippingTwentyFederal ShippingZeroFederal ShippingFifteenFederal ShippingTenUnited PackageZeroSpeedy ExpressTenUnited PackageTenUnited PackageZeroSpeedy ExpressThirtySpeedy ExpressFifteenFederal ShippingTenFederal ShippingThirtyFederal ShippingFiveFederal ShippingTwentyUnited PackageTwentyUnited PackageFifteenFederal ShippingTwentyFederal ShippingFiveFederal ShippingZeroFederal ShippingZeroFederal ShippingTwenty FiveSpeedy ExpressZeroSpeedy ExpressFifteenSpeedy ExpressTwenty FiveSpeedy ExpressTwenty FiveSpeedy ExpressZeroUnited PackageFiveUnited PackageTwenty FiveUnited PackageZeroUnited PackageFifteenUnited PackageFiveUnited PackageFifteenSpeedy ExpressTenSpeedy ExpressThirtyUnited PackageZeroUnited PackageTenFederal ShippingTwenty FiveFederal ShippingTenFederal ShippingFifteenFederal ShippingTenFederal ShippingTwenty FiveSpeedy ExpressZeroSpeedy ExpressTenUnited PackageTenUnited PackageZeroSpeedy ExpressZeroSpeedy ExpressFifteenSpeedy ExpressThirtySpeedy ExpressFifteenUnited PackageThirtySpeedy ExpressZeroSpeedy ExpressZeroFederal ShippingFiveFederal ShippingZeroFederal ShippingZeroFederal ShippingThirtyFederal ShippingTenFederal ShippingTenUnited PackageZeroUnited PackageZeroUnited PackageFifteenUnited PackageTenUnited PackageTwentyUnited PackageZeroSpeedy ExpressFiveSpeedy ExpressThirtySpeedy ExpressZeroUnited PackageZeroUnited PackageZeroUnited PackageFifteenFederal ShippingFifteenFederal ShippingFifteenUnited PackageTwenty FiveUnited PackageZeroUnited PackageFiveSpeedy ExpressThirtyFederal ShippingThirtyFederal ShippingTwentySpeedy ExpressTwenty FiveFederal ShippingFiveFederal ShippingThirtyFederal ShippingThirtySpeedy ExpressFiveSpeedy ExpressTwenty FiveSpeedy ExpressThirtySpeedy ExpressTwentySpeedy ExpressZeroSpeedy ExpressFifteenSpeedy ExpressTwenty FiveSpeedy ExpressZeroFederal ShippingTenFederal ShippingTwenty FiveFederal ShippingTwenty FiveFederal ShippingTwenty FiveFederal ShippingTwentyUnited PackageFifteenUnited PackageZeroUnited PackageZeroUnited PackageFifteenUnited PackageThirtyUnited PackageZeroFederal ShippingTwenty FiveFederal ShippingTenFederal ShippingTwenty FiveFederal ShippingTwenty FiveUnited PackageThirtySpeedy ExpressFifteenSpeedy ExpressTenFederal ShippingZeroFederal ShippingThirtyUnited PackageThirtyUnited PackageTwentyUnited PackageZeroUnited PackageFifteenSpeedy ExpressTenSpeedy ExpressThirtySpeedy ExpressZeroSpeedy ExpressZeroSpeedy ExpressTwentySpeedy ExpressTwentyUnited PackageZeroUnited PackageFiveSpeedy ExpressZeroSpeedy ExpressFifteenSpeedy ExpressTwenty FiveSpeedy ExpressZeroSpeedy ExpressFiveSpeedy ExpressZeroUnited PackageTwenty FiveUnited PackageFiveUnited PackageZeroUnited PackageFifteenUnited PackageFiveUnited PackageFifteenUnited PackageFifteenUnited PackageTwenty FiveUnited PackageFiveUnited PackageThirtyUnited PackageFifteenUnited PackageThirtyUnited PackageTenUnited PackageTwentyUnited PackageZeroFederal ShippingZeroFederal ShippingFifteenFederal ShippingZeroFederal ShippingFifteenSpeedy ExpressTwenty FiveSpeedy ExpressFifteenSpeedy ExpressTwentySpeedy ExpressZeroSpeedy ExpressThirtyFederal ShippingFiveFederal ShippingThirtyFederal ShippingZeroFederal ShippingTwentyFederal ShippingTenFederal ShippingZeroFederal ShippingTwentyFederal ShippingTwentyFederal ShippingZeroUnited PackageThirtyUnited PackageFiveUnited PackageZeroUnited PackageThirtyUnited PackageZeroUnited PackageFifteenFederal ShippingThirtyFederal ShippingTwenty FiveFederal ShippingFifteenFederal ShippingThirtyUnited PackageTenUnited PackageTwenty FiveSpeedy ExpressTwenty FiveSpeedy ExpressFifteenSpeedy ExpressZeroSpeedy ExpressTwentySpeedy ExpressThirtyFederal ShippingZeroFederal ShippingThirtyFederal ShippingFiveFederal ShippingTenFederal ShippingFiveFederal ShippingTwenty FiveFederal ShippingFifteenFederal ShippingZeroFederal ShippingZeroUnited PackageZeroUnited PackageZeroUnited PackageTwenty FiveUnited PackageZeroSpeedy ExpressThirtySpeedy ExpressTwentySpeedy ExpressThirtySpeedy ExpressTwenty FiveSpeedy ExpressThirtySpeedy ExpressTwentySpeedy ExpressZeroSpeedy ExpressTwenty FiveSpeedy ExpressZeroSpeedy ExpressZeroUnited PackageZeroUnited PackageZeroUnited PackageFiveSpeedy ExpressTenSpeedy ExpressTwentySpeedy ExpressThirtySpeedy ExpressZeroUnited PackageTwenty FiveUnited PackageZeroUnited PackageTwenty FiveUnited PackageZeroUnited PackageZeroSpeedy ExpressTenSpeedy ExpressThirtySpeedy ExpressThirtyUnited PackageZeroUnited PackageTenUnited PackageThirtyFederal ShippingTenFederal ShippingTwentyUnited PackageZeroUnited PackageZeroUnited PackageFiveUnited PackageTwentyUnited PackageZeroUnited PackageThirtyUnited PackageTwenty FiveUnited PackageTenUnited PackageTwentyUnited PackageFifteenUnited PackageTenSpeedy ExpressFifteenSpeedy ExpressFiveSpeedy ExpressTwenty FiveSpeedy ExpressZeroSpeedy ExpressFifteenSpeedy ExpressZeroUnited PackageZeroUnited PackageFifteenUnited PackageFifteenSpeedy ExpressTenSpeedy ExpressThirtySpeedy ExpressTwenty FiveSpeedy ExpressFifteenFederal ShippingFifteenFederal ShippingTenUnited PackageTwenty FiveUnited PackageTenUnited PackageZeroUnited PackageTwentyUnited PackageZeroUnited PackageThirtyUnited PackageZeroSpeedy ExpressFiveSpeedy ExpressZeroUnited PackageZeroUnited PackageFiveUnited PackageZeroUnited PackageFifteenFederal ShippingZeroFederal ShippingThirtySpeedy ExpressTenSpeedy ExpressZeroSpeedy ExpressZeroFederal ShippingThirtyFederal ShippingZeroFederal ShippingTwentySpeedy ExpressTwenty FiveSpeedy ExpressTwenty FiveSpeedy ExpressThirtySpeedy ExpressFiveFederal ShippingZeroFederal ShippingFifteenFederal ShippingTenFederal ShippingZeroUnited PackageFiveUnited PackageThirtyUnited PackageZeroFederal ShippingTwenty FiveFederal ShippingZeroFederal ShippingThirtyFederal ShippingFifteenSpeedy ExpressZeroSpeedy ExpressTwentySpeedy ExpressFifteenFederal ShippingThirtyUnited PackageTwenty FiveUnited PackageFifteenFederal ShippingThirtyFederal ShippingFifteenSpeedy ExpressZeroSpeedy ExpressFifteenSpeedy ExpressTenUnited PackageFifteenUnited PackageZeroUnited PackageZeroUnited PackageZeroUnited PackageZeroUnited PackageFifteenUnited PackageTwentySpeedy ExpressFiveSpeedy ExpressFifteenSpeedy ExpressTwenty FiveSpeedy ExpressZeroSpeedy ExpressFiveSpeedy ExpressThirtySpeedy ExpressZeroFederal ShippingFifteenFederal ShippingThirtyUnited PackageZeroUnited PackageFifteenUnited PackageFiveFederal ShippingFiveUnited PackageThirtySpeedy ExpressTenSpeedy ExpressZeroSpeedy ExpressTwentySpeedy ExpressZeroFederal ShippingFiveFederal ShippingZeroFederal ShippingFifteenFederal ShippingTwentyFederal ShippingZeroUnited PackageTenFederal ShippingTwenty FiveFederal ShippingTwenty FiveUnited PackageTenUnited PackageTwenty FiveUnited PackageTenUnited PackageTenUnited PackageTenFederal ShippingFiveFederal ShippingFifteenFederal ShippingTwenty FiveSpeedy ExpressTenSpeedy ExpressZeroSpeedy ExpressTenUnited PackageThirtyUnited PackageZeroSpeedy ExpressZeroSpeedy ExpressTwentySpeedy ExpressTwentySpeedy ExpressZeroUnited PackageZeroUnited PackageTwentyUnited PackageTenUnited PackageTenUnited PackageTwenty FiveUnited PackageTwentyUnited PackageFifteenUnited PackageZeroFederal ShippingTenFederal ShippingZeroUnited PackageTenUnited PackageThirtyUnited PackageThirtyUnited PackageThirtySpeedy ExpressFifteenSpeedy ExpressFiveFederal ShippingZeroFederal ShippingZeroFederal ShippingZeroFederal ShippingTwenty FiveFederal ShippingTenUnited PackageZeroUnited PackageZeroUnited PackageTwenty FiveSpeedy ExpressTwentySpeedy ExpressTwenty FiveFederal ShippingThirtyFederal ShippingFiveFederal ShippingFiveFederal ShippingZeroSpeedy ExpressZeroSpeedy ExpressTwenty FiveSpeedy ExpressTwentySpeedy ExpressZeroSpeedy ExpressTwentySpeedy ExpressFiveSpeedy ExpressTwenty FiveSpeedy ExpressFifteenFederal ShippingFiveFederal ShippingThirtyFederal ShippingTwentyFederal ShippingTwentyUnited PackageFiveUnited PackageTwentySpeedy ExpressTenSpeedy ExpressZeroSpeedy ExpressZeroSpeedy ExpressTwenty FiveFederal ShippingZeroFederal ShippingTwenty FiveFederal ShippingTwenty FiveFederal ShippingTenFederal ShippingZeroFederal ShippingTwenty FiveUnited PackageTwentyFederal ShippingZeroFederal ShippingFifteenUnited PackageFiveUnited PackageTwenty FiveUnited PackageZeroUnited PackageZeroUnited PackageTwenty FiveUnited PackageTenFederal ShippingTenFederal ShippingFiveUnited PackageTwentyUnited PackageZeroUnited PackageFifteenUnited PackageZeroFederal ShippingFifteenUnited PackageFiveUnited PackageTwenty FiveUnited PackageZeroFederal ShippingThirtyFederal ShippingFifteenFederal ShippingThirtySpeedy ExpressFiveSpeedy ExpressTwentyUnited PackageZeroUnited PackageZeroUnited PackageFifteenUnited PackageZeroFederal ShippingThirtyFederal ShippingTenFederal ShippingTwentyFederal ShippingTwenty FiveFederal ShippingZeroFederal ShippingZeroFederal ShippingZeroUnited PackageZeroUnited PackageTwentyUnited PackageTenUnited PackageTwenty FiveSpeedy ExpressTwenty FiveSpeedy ExpressZeroUnited PackageZeroUnited PackageTwentySpeedy ExpressTenSpeedy ExpressTwentySpeedy ExpressFifteenSpeedy ExpressZeroUnited PackageTwenty FiveUnited PackageFiveUnited PackageZeroUnited PackageTenFederal ShippingFifteenFederal ShippingFifteenFederal ShippingThirtyUnited PackageZeroUnited PackageTenUnited PackageZeroUnited PackageTwenty FiveSpeedy ExpressZeroSpeedy ExpressTenSpeedy ExpressTwenty FiveSpeedy ExpressTwentyUnited PackageTenUnited PackageFiveUnited PackageZeroUnited PackageFifteenUnited PackageTwentyFederal ShippingZeroUnited PackageZeroUnited PackageFifteenUnited PackageFifteenFederal ShippingTenSpeedy ExpressTwenty FiveSpeedy ExpressThirtySpeedy ExpressZeroUnited PackageFiveUnited PackageFifteenFederal ShippingZeroFederal ShippingZeroFederal ShippingThirtyUnited PackageZeroSpeedy ExpressTwenty FiveUnited PackageZeroUnited PackageZeroUnited PackageTwentyUnited PackageZeroUnited PackageTenUnited PackageTwenty FiveFederal ShippingFiveFederal ShippingZeroFederal ShippingTwenty FiveSpeedy ExpressZeroFederal ShippingFiveFederal ShippingZeroFederal ShippingTenFederal ShippingFiveUnited PackageZeroUnited PackageFiveUnited PackageThirtyUnited PackageFifteenUnited PackageTenUnited PackageZeroUnited PackageZeroUnited PackageThirtyUnited PackageTwentyUnited PackageFiveSpeedy ExpressTwenty FiveUnited PackageFifteenSpeedy ExpressTenSpeedy ExpressTwenty FiveUnited PackageFiveUnited PackageTwentyFederal ShippingTenFederal ShippingZeroFederal ShippingTwentySpeedy ExpressTenSpeedy ExpressZeroSpeedy ExpressTwenty FiveUnited PackageThirtyUnited PackageZeroUnited PackageTwentyUnited PackageFifteenSpeedy ExpressTenSpeedy ExpressTwenty FiveSpeedy ExpressZeroUnited PackageTenUnited PackageZeroSpeedy ExpressTwenty FiveSpeedy ExpressThirtySpeedy ExpressTenFederal ShippingFiveFederal ShippingFifteenFederal ShippingTwentyFederal ShippingTwenty FiveSpeedy ExpressTwenty FiveSpeedy ExpressThirtySpeedy ExpressTwentyFederal ShippingZeroFederal ShippingZeroFederal ShippingTenFederal ShippingZeroFederal ShippingTenFederal ShippingZeroUnited PackageZeroUnited PackageTwenty FiveUnited PackageZeroUnited PackageTwenty FiveUnited PackageZeroUnited PackageTwenty FiveUnited PackageFiveUnited PackageTwenty FiveUnited PackageTenUnited PackageTenUnited PackageFifteenFederal ShippingZeroFederal ShippingZeroFederal ShippingFifteenUnited PackageTenUnited PackageTwenty FiveUnited PackageZeroUnited PackageTwentySpeedy ExpressFiveSpeedy ExpressFifteenSpeedy ExpressZeroSpeedy ExpressTwentyFederal ShippingTenFederal ShippingThirtyFederal ShippingTwenty FiveSpeedy ExpressZeroSpeedy ExpressTwentySpeedy ExpressTenSpeedy ExpressZeroUnited PackageTenUnited PackageZeroUnited PackageZeroUnited PackageZeroUnited PackageZeroFederal ShippingZeroFederal ShippingFifteenFederal ShippingZeroSpeedy ExpressZeroSpeedy ExpressTwentySpeedy ExpressZeroUnited PackageTenUnited PackageZeroSpeedy ExpressTwentySpeedy ExpressZeroFederal ShippingFiveFederal ShippingZeroFederal ShippingZeroSpeedy ExpressTwenty FiveSpeedy ExpressZeroSpeedy ExpressFifteenSpeedy ExpressFifteenFederal ShippingTenUnited PackageFifteenUnited PackageFifteenUnited PackageTwentyUnited PackageTwentyUnited PackageTwenty FiveUnited PackageZeroUnited PackageThirtyUnited PackageZeroUnited PackageZeroUnited PackageThirtyFederal ShippingZeroFederal ShippingFifteenUnited PackageZeroSpeedy ExpressTwenty FiveSpeedy ExpressZeroSpeedy ExpressZeroSpeedy ExpressTenSpeedy ExpressZeroUnited PackageFiveUnited PackageFifteenUnited PackageTenUnited PackageTwenty FiveSpeedy ExpressZeroSpeedy ExpressTwentySpeedy ExpressZeroSpeedy ExpressZeroFederal ShippingTenFederal ShippingFiveSpeedy ExpressZeroSpeedy ExpressTenSpeedy ExpressZeroSpeedy ExpressZeroSpeedy ExpressTwentySpeedy ExpressZeroSpeedy ExpressThirtySpeedy ExpressFiveUnited PackageTwenty FiveUnited PackageZeroUnited PackageZeroUnited PackageZeroUnited PackageTenUnited PackageFiveUnited PackageZeroUnited PackageThirtyUnited PackageZeroFederal ShippingTwentyFederal ShippingFifteenFederal ShippingZeroFederal ShippingZeroFederal ShippingFifteenSpeedy ExpressFiveSpeedy ExpressFifteenSpeedy ExpressTwenty FiveUnited PackageTenUnited PackageFifteenUnited PackageZeroUnited PackageTenFederal ShippingFiveFederal ShippingZeroSpeedy ExpressThirtyUnited PackageThirtyUnited PackageTwenty FiveUnited PackageZeroUnited PackageZeroUnited PackageFifteenUnited PackageFifteenUnited PackageTwentyFederal ShippingFiveUnited PackageTwenty FiveUnited PackageFiveSpeedy ExpressFifteenSpeedy ExpressTwenty FiveUnited PackageThirtySpeedy ExpressZeroUnited PackageTwentyUnited PackageTenUnited PackageZeroUnited PackageTwenty FiveUnited PackageFifteenFederal ShippingTenFederal ShippingZeroFederal ShippingFifteenSpeedy ExpressTwenty FiveSpeedy ExpressZeroUnited PackageTwentyFederal ShippingZeroSpeedy ExpressTwenty FiveSpeedy ExpressTwenty FiveUnited PackageZeroUnited PackageTwenty FiveUnited PackageThirtySpeedy ExpressTwentySpeedy ExpressTenUnited PackageZeroUnited PackageThirtyUnited PackageTenUnited PackageTwentyUnited PackageTenUnited PackageTwentyUnited PackageZeroFederal ShippingThirtyFederal ShippingFiveFederal ShippingZeroFederal ShippingTwenty FiveUnited PackageFiveUnited PackageZeroUnited PackageZeroUnited PackageZeroUnited PackageFifteenFederal ShippingZeroUnited PackageZeroUnited PackageThirtyUnited PackageFifteenUnited PackageThirtyUnited PackageTenSpeedy ExpressZeroSpeedy ExpressTenSpeedy ExpressZeroSpeedy ExpressTwentySpeedy ExpressFifteenSpeedy ExpressFifteenSpeedy ExpressTenUnited PackageTenUnited PackageFiveUnited PackageFifteenUnited PackageTenUnited PackageZeroUnited PackageTwenty FiveUnited PackageFifteenUnited PackageFiveSpeedy ExpressTenSpeedy ExpressTwenty FiveSpeedy ExpressTenSpeedy ExpressTwentySpeedy ExpressTenSpeedy ExpressFiveUnited PackageTwenty FiveUnited PackageTenUnited PackageThirtyUnited PackageThirtyUnited PackageThirtyUnited PackageZeroUnited PackageTenUnited PackageTwenty FiveUnited PackageZeroUnited PackageTwentyUnited PackageTwenty FiveUnited PackageZeroUnited PackageFiveUnited PackageTwenty FiveUnited PackageTwenty FiveUnited PackageZeroUnited PackageTwenty FiveUnited PackageTenUnited PackageZeroUnited PackageZeroUnited PackageZeroUnited PackageFiveUnited PackageZeroUnited PackageTenUnited PackageZeroUnited PackageTwenty FiveUnited PackageTwenty FiveUnited PackageFiveUnited PackageTenUnited PackageZeroUnited PackageTwenty FiveUnited PackageTwentyUnited PackageZeroUnited PackageThirtyUnited PackageTwentyUnited PackageFiveUnited PackageTwenty FiveUnited PackageFifteen to numeric",
     "output_type": "error",
     "traceback": [
      "\u001b[1;31m---------------------------------------------------------------------------\u001b[0m",
      "\u001b[1;31mValueError\u001b[0m                                Traceback (most recent call last)",
      "\u001b[1;32m~\\Anaconda3\\envs\\learn-env\\lib\\site-packages\\pandas\\core\\nanops.py\u001b[0m in \u001b[0;36m_ensure_numeric\u001b[1;34m(x)\u001b[0m\n\u001b[0;32m   1303\u001b[0m         \u001b[1;32mtry\u001b[0m\u001b[1;33m:\u001b[0m\u001b[1;33m\u001b[0m\u001b[1;33m\u001b[0m\u001b[0m\n\u001b[1;32m-> 1304\u001b[1;33m             \u001b[0mx\u001b[0m \u001b[1;33m=\u001b[0m \u001b[0mfloat\u001b[0m\u001b[1;33m(\u001b[0m\u001b[0mx\u001b[0m\u001b[1;33m)\u001b[0m\u001b[1;33m\u001b[0m\u001b[1;33m\u001b[0m\u001b[0m\n\u001b[0m\u001b[0;32m   1305\u001b[0m         \u001b[1;32mexcept\u001b[0m \u001b[0mException\u001b[0m\u001b[1;33m:\u001b[0m\u001b[1;33m\u001b[0m\u001b[1;33m\u001b[0m\u001b[0m\n",
      "\u001b[1;31mValueError\u001b[0m: could not convert string to float: 'Federal ShippingThirtyFederal ShippingZeroFederal ShippingZeroSpeedy ExpressZeroSpeedy ExpressTenUnited PackageTenUnited PackageTenUnited PackageZeroSpeedy ExpressTwenty FiveSpeedy ExpressTwentySpeedy ExpressZeroUnited PackageZeroUnited PackageTwentyUnited PackageZeroUnited PackageTwentyUnited PackageFiveUnited PackageFifteenUnited PackageZeroUnited PackageTwentyUnited PackageFiveFederal ShippingTwenty FiveFederal ShippingTenFederal ShippingTwentyFederal ShippingZeroUnited PackageZeroUnited PackageFifteenFederal ShippingThirtyFederal ShippingFiveFederal ShippingFifteenSpeedy ExpressTwenty FiveSpeedy ExpressZeroSpeedy ExpressTwenty FiveFederal ShippingFiveFederal ShippingTwenty FiveSpeedy ExpressTenSpeedy ExpressTwentySpeedy ExpressZeroSpeedy ExpressThirtyUnited PackageFiveUnited PackageFifteenFederal ShippingZeroFederal ShippingTenFederal ShippingThirtyFederal ShippingTenFederal ShippingZeroFederal ShippingFifteenFederal ShippingFiveFederal ShippingTwenty FiveFederal ShippingTenSpeedy ExpressZeroSpeedy ExpressThirtyFederal ShippingZeroSpeedy ExpressThirtySpeedy ExpressZeroSpeedy ExpressTwentyFederal ShippingZeroFederal ShippingZeroSpeedy ExpressTwentySpeedy ExpressZeroSpeedy ExpressTwentySpeedy ExpressTwenty FiveUnited PackageTwentyUnited PackageZeroUnited PackageTwentyUnited PackageZeroFederal ShippingZeroFederal ShippingTwentyFederal ShippingTwentyFederal ShippingThirtyFederal ShippingTwentySpeedy ExpressZeroSpeedy ExpressZeroSpeedy ExpressZeroSpeedy ExpressZeroFederal ShippingZeroFederal ShippingFiveFederal ShippingZeroFederal ShippingZeroUnited PackageFifteenUnited PackageZeroUnited PackageFiveUnited PackageFiveUnited PackageZeroSpeedy ExpressZeroSpeedy ExpressTwentySpeedy ExpressTwenty FiveSpeedy ExpressFiveSpeedy ExpressZeroSpeedy ExpressFifteenSpeedy ExpressFifteenSpeedy ExpressTwentyFederal ShippingFiveFederal ShippingFiveFederal ShippingZeroFederal ShippingZeroSpeedy ExpressThirtySpeedy ExpressFifteenSpeedy ExpressZeroSpeedy ExpressTenUnited PackageTenUnited PackageThirtyUnited PackageZeroFederal ShippingFifteenFederal ShippingZeroFederal ShippingTenFederal ShippingFifteenFederal ShippingZeroSpeedy ExpressTenSpeedy ExpressFifteenFederal ShippingTwenty FiveFederal ShippingThirtySpeedy ExpressZeroSpeedy ExpressZeroSpeedy ExpressFifteenSpeedy ExpressFifteenUnited PackageFiveUnited PackageFifteenUnited PackageTenUnited PackageZeroFederal ShippingZeroFederal ShippingZeroFederal ShippingFiveFederal ShippingTwenty FiveUnited PackageTenUnited PackageZeroUnited PackageTwenty FiveUnited PackageZeroUnited PackageTwenty FiveUnited PackageThirtySpeedy ExpressThirtySpeedy ExpressTenSpeedy ExpressFifteenUnited PackageFiveUnited PackageZeroUnited PackageTwenty FiveUnited PackageTwentyUnited PackageZeroUnited PackageZeroUnited PackageFiveUnited PackageThirtyUnited PackageTwentyUnited PackageFifteenUnited PackageThirtyUnited PackageThirtyUnited PackageZeroUnited PackageZeroUnited PackageTwenty FiveUnited PackageThirtyUnited PackageZeroUnited PackageFifteenUnited PackageFifteenUnited PackageZeroUnited PackageZeroFederal ShippingZeroFederal ShippingZeroFederal ShippingFiveFederal ShippingFifteenFederal ShippingZeroFederal ShippingTenUnited PackageZeroUnited PackageFifteenFederal ShippingFifteenFederal ShippingThirtySpeedy ExpressZeroSpeedy ExpressTwenty FiveSpeedy ExpressZeroSpeedy ExpressTwenty FiveSpeedy ExpressZeroUnited PackageTenUnited PackageZeroFederal ShippingZeroFederal ShippingFifteenUnited PackageZeroUnited PackageTwenty FiveUnited PackageZeroUnited PackageTwenty FiveUnited PackageTwentyUnited PackageTwenty FiveUnited PackageTwentyUnited PackageZeroUnited PackageFifteenUnited PackageThirtyFederal ShippingTenFederal ShippingZeroSpeedy ExpressTenUnited PackageTenUnited PackageTwentyFederal ShippingZeroFederal ShippingZeroFederal ShippingTwentyFederal ShippingZeroUnited PackageFifteenFederal ShippingTwenty FiveSpeedy ExpressFiveSpeedy ExpressThirtySpeedy ExpressFiveSpeedy ExpressTenSpeedy ExpressFifteenSpeedy ExpressZeroSpeedy ExpressZeroSpeedy ExpressFiveFederal ShippingTwenty FiveFederal ShippingFiveFederal ShippingZeroFederal ShippingTwentyFederal ShippingZeroUnited PackageZeroUnited PackageTwentyUnited PackageTwenty FiveSpeedy ExpressTwenty FiveSpeedy ExpressThirtySpeedy ExpressFifteenSpeedy ExpressTwentyFederal ShippingZeroFederal ShippingZeroFederal ShippingFifteenUnited PackageFiveUnited PackageFifteenUnited PackageFifteenUnited PackageThirtySpeedy ExpressZeroSpeedy ExpressZeroSpeedy ExpressTenUnited PackageZeroUnited PackageZeroUnited PackageZeroFederal ShippingZeroFederal ShippingFiveFederal ShippingZeroUnited PackageTwenty FiveUnited PackageFifteenUnited PackageTwenty FiveUnited PackageTwentyUnited PackageTwenty FiveUnited PackageTenUnited PackageZeroFederal ShippingTwenty FiveFederal ShippingZeroFederal ShippingTwentyFederal ShippingTwenty FiveFederal ShippingZeroFederal ShippingZeroFederal ShippingFifteenUnited PackageZeroUnited PackageZeroUnited PackageZeroFederal ShippingZeroFederal ShippingTenFederal ShippingTwenty FiveFederal ShippingTwentyFederal ShippingZeroUnited PackageTwenty FiveUnited PackageTwentyUnited PackageTwentyUnited PackageTwentySpeedy ExpressThirtySpeedy ExpressFifteenSpeedy ExpressTwentyUnited PackageZeroUnited PackageZeroUnited PackageZeroUnited PackageFiveUnited PackageZeroFederal ShippingZeroFederal ShippingThirtyFederal ShippingThirtyFederal ShippingFiveFederal ShippingThirtyFederal ShippingTwenty FiveUnited PackageTenUnited PackageTwenty FiveSpeedy ExpressTenUnited PackageThirtyUnited PackageFifteenSpeedy ExpressFifteenSpeedy ExpressTenSpeedy ExpressFifteenSpeedy ExpressZeroFederal ShippingZeroFederal ShippingTenFederal ShippingThirtyFederal ShippingFifteenFederal ShippingTenFederal ShippingZeroSpeedy ExpressZeroSpeedy ExpressTwentyUnited PackageTwentyUnited PackageTwentyUnited PackageFifteenFederal ShippingZeroFederal ShippingZeroFederal ShippingZeroSpeedy ExpressZeroSpeedy ExpressFifteenSpeedy ExpressTwentyFederal ShippingTenFederal ShippingTwentyFederal ShippingZeroFederal ShippingZeroFederal ShippingZeroFederal ShippingFifteenFederal ShippingFifteenFederal ShippingTenUnited PackageFiveUnited PackageZeroSpeedy ExpressThirtySpeedy ExpressTenSpeedy ExpressTenFederal ShippingTwentyFederal ShippingTwenty FiveFederal ShippingTwentySpeedy ExpressFifteenSpeedy ExpressZeroUnited PackageThirtyUnited PackageZeroUnited PackageFifteenFederal ShippingFifteenFederal ShippingTenFederal ShippingZeroFederal ShippingFifteenUnited PackageFiveUnited PackageZeroUnited PackageTwentyUnited PackageThirtyUnited PackageZeroUnited PackageThirtyUnited PackageTenUnited PackageThirtyUnited PackageFiveSpeedy ExpressTwentyUnited PackageZeroUnited PackageFifteenUnited PackageZeroUnited PackageZeroFederal ShippingTwentyFederal ShippingZeroFederal ShippingTwentyFederal ShippingTwentyUnited PackageZeroUnited PackageTenUnited PackageTwentyFederal ShippingZeroFederal ShippingFiveFederal ShippingZeroSpeedy ExpressTenSpeedy ExpressFiveSpeedy ExpressZeroFederal ShippingFifteenFederal ShippingZeroFederal ShippingZeroFederal ShippingThirtyFederal ShippingFiveSpeedy ExpressZeroSpeedy ExpressZeroSpeedy ExpressZeroSpeedy ExpressTwentySpeedy ExpressFiveFederal ShippingFiveFederal ShippingThirtyFederal ShippingThirtyFederal ShippingZeroFederal ShippingZeroUnited PackageTenUnited PackageZeroUnited PackageFifteenFederal ShippingZeroFederal ShippingFifteenUnited PackageZeroUnited PackageZeroUnited PackageZeroUnited PackageZeroSpeedy ExpressFifteenSpeedy ExpressTwenty FiveSpeedy ExpressZeroUnited PackageZeroUnited PackageTwentyUnited PackageZeroUnited PackageThirtySpeedy ExpressTwentySpeedy ExpressFifteenSpeedy ExpressZeroSpeedy ExpressZeroFederal ShippingFiveFederal ShippingFifteenFederal ShippingTwenty FiveFederal ShippingZeroFederal ShippingThirtyFederal ShippingZeroFederal ShippingTwentyFederal ShippingFiveFederal ShippingZeroSpeedy ExpressZeroSpeedy ExpressZeroSpeedy ExpressFifteenFederal ShippingTwenty FiveFederal ShippingZeroFederal ShippingZeroSpeedy ExpressFiveSpeedy ExpressTenFederal ShippingFifteenFederal ShippingTwentyFederal ShippingFifteenFederal ShippingZeroFederal ShippingTwentyFederal ShippingFifteenFederal ShippingZeroFederal ShippingFifteenFederal ShippingFifteenSpeedy ExpressFifteenSpeedy ExpressThirtySpeedy ExpressZeroSpeedy ExpressZeroUnited PackageTwenty FiveUnited PackageFiveFederal ShippingTenFederal ShippingTwenty FiveSpeedy ExpressZeroSpeedy ExpressZeroSpeedy ExpressFifteenSpeedy ExpressTwenty FiveSpeedy ExpressTenSpeedy ExpressFiveSpeedy ExpressZeroSpeedy ExpressTwentySpeedy ExpressThirtyUnited PackageThirtyUnited PackageFifteenUnited PackageZeroSpeedy ExpressTwenty FiveSpeedy ExpressTenSpeedy ExpressZeroSpeedy ExpressZeroSpeedy ExpressFiveFederal ShippingTwentyFederal ShippingZeroFederal ShippingTenFederal ShippingFifteenFederal ShippingZeroUnited PackageZeroUnited PackageTenUnited PackageZeroUnited PackageTwentyFederal ShippingFiveFederal ShippingTwentySpeedy ExpressZeroSpeedy ExpressTwentyFederal ShippingFiveFederal ShippingZeroFederal ShippingTwentyFederal ShippingFifteenFederal ShippingZeroFederal ShippingFifteenFederal ShippingFifteenSpeedy ExpressTwenty FiveSpeedy ExpressZeroSpeedy ExpressTwenty FiveSpeedy ExpressFiveUnited PackageZeroUnited PackageFifteenSpeedy ExpressZeroSpeedy ExpressFiveSpeedy ExpressThirtySpeedy ExpressFiveSpeedy ExpressFiveSpeedy ExpressZeroSpeedy ExpressZeroSpeedy ExpressFifteenSpeedy ExpressZeroFederal ShippingTwentyFederal ShippingZeroUnited PackageFifteenUnited PackageFifteenUnited PackageFifteenUnited PackageTwentyUnited PackageTwentySpeedy ExpressThirtySpeedy ExpressThirtyUnited PackageZeroSpeedy ExpressZeroUnited PackageThirtyUnited PackageFiveSpeedy ExpressZeroSpeedy ExpressFiveSpeedy ExpressThirtySpeedy ExpressZeroUnited PackageZeroUnited PackageThirtyUnited PackageZeroUnited PackageZeroUnited PackageTenFederal ShippingThirtyUnited PackageThirtyUnited PackageTwentyUnited PackageTwenty FiveUnited PackageTwenty FiveUnited PackageZeroUnited PackageZeroUnited PackageThirtyUnited PackageThirtyUnited PackageTwenty FiveSpeedy ExpressZeroUnited PackageFiveUnited PackageFifteenUnited PackageTwentyFederal ShippingZeroFederal ShippingTenFederal ShippingThirtyFederal ShippingFiveUnited PackageTwenty FiveUnited PackageTenUnited PackageZeroUnited PackageTwenty FiveUnited PackageThirtyUnited PackageThirtyUnited PackageTenUnited PackageTwentySpeedy ExpressThirtySpeedy ExpressZeroFederal ShippingZeroFederal ShippingZeroFederal ShippingFifteenFederal ShippingTenSpeedy ExpressFiveSpeedy ExpressTenSpeedy ExpressFiveSpeedy ExpressZeroSpeedy ExpressTwentySpeedy ExpressTwenty FiveUnited PackageFiveUnited PackageZeroUnited PackageZeroUnited PackageZeroUnited PackageThirtyUnited PackageZeroUnited PackageTwenty FiveUnited PackageZeroUnited PackageZeroUnited PackageTenFederal ShippingTwentyFederal ShippingThirtyFederal ShippingZeroFederal ShippingFifteenSpeedy ExpressZeroSpeedy ExpressFifteenUnited PackageTwenty FiveUnited PackageThirtyFederal ShippingTenFederal ShippingTwentyFederal ShippingZeroUnited PackageFiveUnited PackageZeroUnited PackageTwenty FiveUnited PackageZeroUnited PackageFiveUnited PackageFifteenSpeedy ExpressZeroFederal ShippingZeroFederal ShippingZeroFederal ShippingTwenty FiveFederal ShippingThirtyFederal ShippingZeroUnited PackageTenUnited PackageZeroUnited PackageZeroSpeedy ExpressFifteenSpeedy ExpressTwenty FiveFederal ShippingFiveFederal ShippingFifteenFederal ShippingTwentySpeedy ExpressFiveSpeedy ExpressTwenty FiveFederal ShippingFiveFederal ShippingZeroUnited PackageZeroUnited PackageTwenty FiveUnited PackageThirtyUnited PackageZeroFederal ShippingZeroFederal ShippingZeroFederal ShippingThirtyFederal ShippingFifteenFederal ShippingThirtySpeedy ExpressThirtySpeedy ExpressZeroUnited PackageZeroUnited PackageThirtyFederal ShippingFifteenFederal ShippingTwenty FiveSpeedy ExpressTwenty FiveSpeedy ExpressTenSpeedy ExpressFifteenUnited PackageZeroUnited PackageTwenty FiveUnited PackageThirtyFederal ShippingTenFederal ShippingThirtySpeedy ExpressZeroSpeedy ExpressTenFederal ShippingTwentyFederal ShippingZeroUnited PackageZeroUnited PackageZeroUnited PackageThirtyUnited PackageTwenty FiveSpeedy ExpressTwentySpeedy ExpressTwentySpeedy ExpressTwentyFederal ShippingTwentyFederal ShippingThirtyUnited PackageTenUnited PackageFiveUnited PackageFiveFederal ShippingZeroFederal ShippingFifteenFederal ShippingZeroFederal ShippingZeroFederal ShippingThirtyUnited PackageZeroUnited PackageZeroUnited PackageFifteenUnited PackageZeroFederal ShippingThirtyUnited PackageFifteenUnited PackageFifteenFederal ShippingFiveFederal ShippingThirtyFederal ShippingTenUnited PackageTwenty FiveUnited PackageTwenty FiveUnited PackageTwentyUnited PackageThirtyUnited PackageThirtyUnited PackageTenUnited PackageFiveUnited PackageFiveUnited PackageZeroUnited PackageTenUnited PackageZeroUnited PackageFiveUnited PackageThirtyUnited PackageTenUnited PackageZeroUnited PackageFifteenUnited PackageTwenty FiveFederal ShippingFifteenFederal ShippingFifteenSpeedy ExpressThirtySpeedy ExpressZeroFederal ShippingZeroFederal ShippingTwentyFederal ShippingFifteenUnited PackageThirtyFederal ShippingTwenty FiveFederal ShippingTenFederal ShippingFifteenUnited PackageTwentySpeedy ExpressThirtySpeedy ExpressZeroSpeedy ExpressFifteenUnited PackageZeroUnited PackageThirtyUnited PackageZeroUnited PackageZeroUnited PackageFifteenSpeedy ExpressFiveSpeedy ExpressZeroFederal ShippingTenSpeedy ExpressFifteenSpeedy ExpressZeroSpeedy ExpressTenUnited PackageZeroUnited PackageZeroFederal ShippingTwenty FiveFederal ShippingFiveFederal ShippingZeroFederal ShippingTwenty FiveFederal ShippingZeroUnited PackageThirtyUnited PackageThirtySpeedy ExpressTwenty FiveSpeedy ExpressTwenty FiveUnited PackageFiveUnited PackageFiveSpeedy ExpressZeroFederal ShippingZeroFederal ShippingTwenty FiveFederal ShippingZeroFederal ShippingTenFederal ShippingZeroUnited PackageZeroUnited PackageZeroUnited PackageZeroUnited PackageZeroSpeedy ExpressFiveSpeedy ExpressTwenty FiveSpeedy ExpressTwenty FiveUnited PackageZeroUnited PackageZeroUnited PackageThirtyUnited PackageZeroUnited PackageTwenty FiveSpeedy ExpressZeroSpeedy ExpressTenSpeedy ExpressThirtySpeedy ExpressTwentySpeedy ExpressZeroFederal ShippingZeroFederal ShippingTenFederal ShippingZeroFederal ShippingTwenty FiveFederal ShippingZeroFederal ShippingThirtyUnited PackageZeroUnited PackageFifteenUnited PackageFifteenFederal ShippingZeroFederal ShippingThirtyFederal ShippingZeroSpeedy ExpressZeroSpeedy ExpressZeroUnited PackageFifteenUnited PackageTenUnited PackageFifteenSpeedy ExpressTenSpeedy ExpressZeroSpeedy ExpressFifteenSpeedy ExpressThirtyUnited PackageZeroUnited PackageZeroUnited PackageTwenty FiveUnited PackageTenUnited PackageZeroUnited PackageFifteenUnited PackageTwenty FiveUnited PackageTenUnited PackageTwentyUnited PackageThirtyUnited PackageTenUnited PackageFiveUnited PackageThirtySpeedy ExpressZeroSpeedy ExpressTwentyUnited PackageThirtyUnited PackageTwentyUnited PackageZeroUnited PackageTwentyUnited PackageFifteenUnited PackageFifteenUnited PackageZeroUnited PackageTwenty FiveUnited PackageTwenty FiveUnited PackageTwentySpeedy ExpressZeroFederal ShippingFifteenFederal ShippingTwentySpeedy ExpressZeroSpeedy ExpressZeroSpeedy ExpressFiveUnited PackageFifteenUnited PackageThirtyUnited PackageTenSpeedy ExpressThirtySpeedy ExpressThirtySpeedy ExpressTwentySpeedy ExpressZeroUnited PackageZeroUnited PackageTwentyUnited PackageTwentyUnited PackageZeroSpeedy ExpressTwentySpeedy ExpressTenSpeedy ExpressTwentySpeedy ExpressZeroSpeedy ExpressFiveFederal ShippingThirtyFederal ShippingZeroFederal ShippingFiveFederal ShippingFiveFederal ShippingTwentyFederal ShippingFifteenFederal ShippingTwenty FiveFederal ShippingZeroFederal ShippingFifteenFederal ShippingFifteenSpeedy ExpressZeroSpeedy ExpressFifteenSpeedy ExpressZeroSpeedy ExpressZeroFederal ShippingThirtyFederal ShippingTenUnited PackageZeroUnited PackageTwenty FiveSpeedy ExpressZeroSpeedy ExpressTenUnited PackageThirtyFederal ShippingTenFederal ShippingFifteenFederal ShippingZeroUnited PackageTwenty FiveUnited PackageTwentyUnited PackageFifteenUnited PackageTenSpeedy ExpressTwentySpeedy ExpressFifteenSpeedy ExpressTenFederal ShippingZeroFederal ShippingFiveFederal ShippingFiveFederal ShippingTwenty FiveFederal ShippingTenFederal ShippingFifteenFederal ShippingFifteenSpeedy ExpressFifteenSpeedy ExpressTwenty FiveUnited PackageThirtyUnited PackageTenUnited PackageTwenty FiveUnited PackageTwentyUnited PackageFifteenFederal ShippingTenFederal ShippingTwenty FiveFederal ShippingZeroFederal ShippingFifteenFederal ShippingZeroFederal ShippingFiveFederal ShippingZeroFederal ShippingTenFederal ShippingThirtySpeedy ExpressZeroUnited PackageThirtyUnited PackageTwenty FiveUnited PackageZeroUnited PackageTenUnited PackageTwenty FiveUnited PackageZeroUnited PackageFiveSpeedy ExpressTenSpeedy ExpressTwentySpeedy ExpressFifteenSpeedy ExpressZeroUnited PackageFifteenUnited PackageTenSpeedy ExpressTwentySpeedy ExpressZeroUnited PackageTwentyUnited PackageTwenty FiveFederal ShippingZeroFederal ShippingTwentyFederal ShippingTwentyUnited PackageZeroUnited PackageThirtySpeedy ExpressThirtySpeedy ExpressZeroSpeedy ExpressTwentySpeedy ExpressTwentySpeedy ExpressTenSpeedy ExpressZeroFederal ShippingZeroSpeedy ExpressTwentySpeedy ExpressTwentyFederal ShippingThirtyFederal ShippingThirtyFederal ShippingZeroFederal ShippingZeroUnited PackageTenUnited PackageTwenty FiveUnited PackageThirtyUnited PackageTwenty FiveFederal ShippingZeroFederal ShippingFifteenFederal ShippingZeroUnited PackageTwentyUnited PackageThirtyUnited PackageZeroUnited PackageThirtySpeedy ExpressZeroSpeedy ExpressFiveSpeedy ExpressZeroSpeedy ExpressTwentyFederal ShippingTenFederal ShippingTwentyFederal ShippingFifteenUnited PackageFiveUnited PackageTwenty FiveUnited PackageFifteenFederal ShippingFifteenFederal ShippingTwentyUnited PackageFiveUnited PackageTwenty FiveFederal ShippingZeroFederal ShippingTenFederal ShippingZeroSpeedy ExpressTwenty FiveUnited PackageTwentyUnited PackageTwentyUnited PackageZeroUnited PackageZeroUnited PackageFifteenSpeedy ExpressTwentySpeedy ExpressZeroSpeedy ExpressTwenty FiveSpeedy ExpressZeroSpeedy ExpressFifteenSpeedy ExpressFifteenFederal ShippingZeroFederal ShippingZeroUnited PackageFifteenFederal ShippingTenFederal ShippingFifteenSpeedy ExpressTwenty FiveSpeedy ExpressTenSpeedy ExpressTenSpeedy ExpressFiveSpeedy ExpressZeroUnited PackageZeroUnited PackageFifteenUnited PackageTwentyUnited PackageTwenty FiveUnited PackageTwentySpeedy ExpressFifteenSpeedy ExpressTwenty FiveSpeedy ExpressFifteenSpeedy ExpressThirtySpeedy ExpressFiveSpeedy ExpressTwenty FiveFederal ShippingZeroFederal ShippingTwentyFederal ShippingZeroFederal ShippingThirtyFederal ShippingZeroFederal ShippingZeroSpeedy ExpressTenSpeedy ExpressFiveSpeedy ExpressFiveSpeedy ExpressZeroUnited PackageFifteenUnited PackageTwenty FiveUnited PackageFifteenSpeedy ExpressTwenty FiveSpeedy ExpressTwentyUnited PackageTenUnited PackageZeroUnited PackageZeroUnited PackageZeroFederal ShippingZeroFederal ShippingTwentyFederal ShippingZeroSpeedy ExpressTenSpeedy ExpressZeroSpeedy ExpressTwentySpeedy ExpressThirtySpeedy ExpressZeroUnited PackageThirtyUnited PackageTenUnited PackageZeroUnited PackageFiveSpeedy ExpressTwentyUnited PackageTenUnited PackageTwenty FiveUnited PackageZeroUnited PackageZeroUnited PackageTwentyUnited PackageFifteenUnited PackageZeroUnited PackageTwentyUnited PackageFiveUnited PackageTwenty FiveFederal ShippingThirtyFederal ShippingFiveFederal ShippingFiveFederal ShippingTwentyUnited PackageFifteenUnited PackageThirtyUnited PackageThirtyUnited PackageZeroUnited PackageZeroSpeedy ExpressTwenty FiveSpeedy ExpressThirtySpeedy ExpressFifteenFederal ShippingFiveFederal ShippingTwenty FiveFederal ShippingZeroFederal ShippingTwenty FiveUnited PackageFiveUnited PackageTwenty FiveUnited PackageThirtyUnited PackageZeroFederal ShippingTwenty FiveFederal ShippingFifteenUnited PackageZeroUnited PackageFiveUnited PackageFiveUnited PackageZeroUnited PackageFifteenUnited PackageZeroUnited PackageZeroUnited PackageFifteenSpeedy ExpressZeroSpeedy ExpressZeroSpeedy ExpressZeroUnited PackageZeroUnited PackageZeroUnited PackageZeroFederal ShippingZeroFederal ShippingFiveFederal ShippingTenFederal ShippingZeroFederal ShippingThirtyUnited PackageTwentyUnited PackageTwentySpeedy ExpressTwenty FiveSpeedy ExpressTwenty FiveSpeedy ExpressTwentyFederal ShippingZeroFederal ShippingFiveFederal ShippingZeroFederal ShippingZeroFederal ShippingTenFederal ShippingZeroFederal ShippingTenFederal ShippingTwenty FiveFederal ShippingZeroFederal ShippingZeroFederal ShippingTwenty FiveSpeedy ExpressZeroSpeedy ExpressTwentySpeedy ExpressThirtySpeedy ExpressThirtySpeedy ExpressThirtySpeedy ExpressFifteenSpeedy ExpressZeroSpeedy ExpressZeroFederal ShippingZeroSpeedy ExpressFifteenSpeedy ExpressThirtyUnited PackageTwenty FiveUnited PackageThirtyFederal ShippingFiveFederal ShippingTwenty FiveSpeedy ExpressZeroSpeedy ExpressFiveSpeedy ExpressZeroUnited PackageZeroUnited PackageTwenty FiveUnited PackageZeroSpeedy ExpressZeroSpeedy ExpressTwentyFederal ShippingTenFederal ShippingZeroFederal ShippingZeroFederal ShippingFifteenUnited PackageFiveUnited PackageFiveUnited PackageTwenty FiveUnited PackageZeroFederal ShippingZeroFederal ShippingZeroFederal ShippingFifteenFederal ShippingZeroFederal ShippingTenUnited PackageFiveUnited PackageTwenty FiveUnited PackageFifteenUnited PackageZeroSpeedy ExpressTenSpeedy ExpressZeroSpeedy ExpressZeroSpeedy ExpressFiveSpeedy ExpressTenUnited PackageTenSpeedy ExpressZeroSpeedy ExpressFifteenSpeedy ExpressZeroUnited PackageFiveUnited PackageTenUnited PackageZeroUnited PackageZeroUnited PackageThirtyUnited PackageZeroSpeedy ExpressFiveSpeedy ExpressThirtySpeedy ExpressZeroSpeedy ExpressFifteenUnited PackageTwentyUnited PackageThirtyUnited PackageThirtySpeedy ExpressZeroFederal ShippingFiveFederal ShippingTwentyUnited PackageFifteenUnited PackageThirtyUnited PackageZeroUnited PackageTenFederal ShippingZeroFederal ShippingThirtyFederal ShippingZeroUnited PackageTenUnited PackageZeroUnited PackageTwentyUnited PackageZeroUnited PackageZeroSpeedy ExpressFifteenSpeedy ExpressZeroUnited PackageTwentyUnited PackageTwentyUnited PackageThirtySpeedy ExpressTwentySpeedy ExpressTwenty FiveSpeedy ExpressZeroSpeedy ExpressTenSpeedy ExpressFiveSpeedy ExpressTwenty FiveSpeedy ExpressTenSpeedy ExpressZeroSpeedy ExpressZeroUnited PackageFifteenUnited PackageZeroSpeedy ExpressTenSpeedy ExpressZeroSpeedy ExpressTwenty FiveUnited PackageTwenty FiveUnited PackageZeroUnited PackageZeroUnited PackageTwentyUnited PackageZeroUnited PackageFiveUnited PackageFifteenFederal ShippingZeroFederal ShippingTwentyFederal ShippingZeroFederal ShippingTwentyFederal ShippingTenFederal ShippingTenFederal ShippingZeroSpeedy ExpressTenSpeedy ExpressTwentySpeedy ExpressZeroFederal ShippingFiveFederal ShippingFiveFederal ShippingThirtyUnited PackageTwentyUnited PackageTwentyUnited PackageTwenty FiveSpeedy ExpressTwenty FiveSpeedy ExpressThirtySpeedy ExpressZeroSpeedy ExpressZeroUnited PackageZeroUnited PackageTenUnited PackageZeroSpeedy ExpressZeroSpeedy ExpressZeroUnited PackageZeroUnited PackageZeroUnited PackageTwentyUnited PackageZeroUnited PackageZeroUnited PackageFifteenUnited PackageTenSpeedy ExpressThirtySpeedy ExpressFifteenUnited PackageTenUnited PackageZeroUnited PackageTwenty FiveUnited PackageFifteenUnited PackageZeroUnited PackageFiveFederal ShippingZeroFederal ShippingTenFederal ShippingFifteenFederal ShippingFiveFederal ShippingTenFederal ShippingZeroFederal ShippingThirtySpeedy ExpressZeroSpeedy ExpressZeroSpeedy ExpressZeroFederal ShippingZeroFederal ShippingZeroSpeedy ExpressFiveSpeedy ExpressFifteenSpeedy ExpressTwentySpeedy ExpressThirtySpeedy ExpressThirtySpeedy ExpressZeroSpeedy ExpressZeroSpeedy ExpressZeroSpeedy ExpressThirtyFederal ShippingZeroSpeedy ExpressTenSpeedy ExpressFifteenSpeedy ExpressFifteenSpeedy ExpressZeroFederal ShippingZeroFederal ShippingZeroFederal ShippingTwentySpeedy ExpressTwenty FiveSpeedy ExpressTwentyUnited PackageTwenty FiveUnited PackageZeroUnited PackageFiveSpeedy ExpressZeroSpeedy ExpressZeroSpeedy ExpressTwenty FiveUnited PackageTwentyUnited PackageTwenty FiveFederal ShippingTenFederal ShippingTwenty FiveFederal ShippingZeroFederal ShippingTwentyFederal ShippingTwentyFederal ShippingThirtyUnited PackageZeroUnited PackageTwentyFederal ShippingZeroFederal ShippingTenFederal ShippingZeroSpeedy ExpressFiveSpeedy ExpressZeroUnited PackageFiveUnited PackageTenUnited PackageZeroSpeedy ExpressZeroSpeedy ExpressThirtySpeedy ExpressZeroSpeedy ExpressZeroSpeedy ExpressFifteenSpeedy ExpressZeroFederal ShippingTwenty FiveFederal ShippingZeroFederal ShippingZeroFederal ShippingThirtyFederal ShippingTwentySpeedy ExpressZeroSpeedy ExpressZeroUnited PackageFiveUnited PackageTenUnited PackageTwenty FiveUnited PackageFiveUnited PackageTenUnited PackageFifteenFederal ShippingZeroFederal ShippingTenFederal ShippingTwentyFederal ShippingZeroUnited PackageZeroUnited PackageFifteenUnited PackageTenUnited PackageFifteenUnited PackageZeroFederal ShippingFifteenSpeedy ExpressTwenty FiveSpeedy ExpressTwentySpeedy ExpressFifteenSpeedy ExpressTwenty FiveSpeedy ExpressZeroUnited PackageZeroUnited PackageTwenty FiveFederal ShippingTenFederal ShippingTwenty FiveFederal ShippingTwentySpeedy ExpressZeroSpeedy ExpressThirtySpeedy ExpressZeroSpeedy ExpressThirtySpeedy ExpressZeroUnited PackageFifteenUnited PackageThirtyUnited PackageTwentyUnited PackageZeroFederal ShippingTenFederal ShippingFiveFederal ShippingThirtySpeedy ExpressTenSpeedy ExpressTwentySpeedy ExpressZeroSpeedy ExpressFiveSpeedy ExpressTenSpeedy ExpressTwentyFederal ShippingZeroFederal ShippingZeroFederal ShippingTwenty FiveFederal ShippingTwenty FiveFederal ShippingFifteenFederal ShippingTwentyUnited PackageTwenty FiveUnited PackageFifteenUnited PackageZeroUnited PackageTwenty FiveUnited PackageFiveUnited PackageTenSpeedy ExpressTenFederal ShippingTwentyFederal ShippingTwenty FiveUnited PackageZeroUnited PackageFifteenUnited PackageFifteenUnited PackageThirtyFederal ShippingTwenty FiveFederal ShippingTwenty FiveFederal ShippingZeroFederal ShippingZeroUnited PackageZeroSpeedy ExpressThirtySpeedy ExpressZeroSpeedy ExpressFifteenSpeedy ExpressZeroSpeedy ExpressZeroFederal ShippingFiveFederal ShippingZeroFederal ShippingZeroFederal ShippingFifteenSpeedy ExpressTwentySpeedy ExpressTenSpeedy ExpressFiveSpeedy ExpressFifteenSpeedy ExpressTwenty FiveSpeedy ExpressThirtySpeedy ExpressThirtyUnited PackageThirtyUnited PackageZeroUnited PackageTwentySpeedy ExpressZeroSpeedy ExpressFifteenSpeedy ExpressZeroFederal ShippingZeroFederal ShippingFifteenFederal ShippingThirtyFederal ShippingFiveFederal ShippingTenFederal ShippingFifteenSpeedy ExpressFifteenSpeedy ExpressFiveFederal ShippingThirtyUnited PackageZeroUnited PackageThirtyUnited PackageTwentyUnited PackageFifteenUnited PackageZeroUnited PackageTwentyUnited PackageFifteenUnited PackageFifteenSpeedy ExpressFifteenSpeedy ExpressZeroSpeedy ExpressZeroSpeedy ExpressThirtyFederal ShippingZeroFederal ShippingTwenty FiveFederal ShippingThirtyFederal ShippingTwenty FiveSpeedy ExpressThirtySpeedy ExpressThirtySpeedy ExpressTwenty FiveUnited PackageThirtyUnited PackageTwenty FiveSpeedy ExpressFiveSpeedy ExpressZeroSpeedy ExpressTenSpeedy ExpressThirtyFederal ShippingFiveFederal ShippingTwenty FiveFederal ShippingZeroFederal ShippingTwenty FiveFederal ShippingFiveFederal ShippingZeroSpeedy ExpressTwenty FiveSpeedy ExpressTenSpeedy ExpressFifteenFederal ShippingZeroUnited PackageTwenty FiveUnited PackageTwentyUnited PackageZeroUnited PackageZeroSpeedy ExpressTenSpeedy ExpressTwenty FiveSpeedy ExpressTwenty FiveSpeedy ExpressZeroFederal ShippingThirtyUnited PackageZeroUnited PackageZeroUnited PackageZeroFederal ShippingZeroFederal ShippingTwentyFederal ShippingTwenty FiveSpeedy ExpressTwentySpeedy ExpressTwentySpeedy ExpressZeroSpeedy ExpressTenFederal ShippingTwentyFederal ShippingZeroFederal ShippingFifteenFederal ShippingTenUnited PackageZeroSpeedy ExpressTenUnited PackageTenUnited PackageZeroSpeedy ExpressThirtySpeedy ExpressFifteenFederal ShippingTenFederal ShippingThirtyFederal ShippingFiveFederal ShippingTwentyUnited PackageTwentyUnited PackageFifteenFederal ShippingTwentyFederal ShippingFiveFederal ShippingZeroFederal ShippingZeroFederal ShippingTwenty FiveSpeedy ExpressZeroSpeedy ExpressFifteenSpeedy ExpressTwenty FiveSpeedy ExpressTwenty FiveSpeedy ExpressZeroUnited PackageFiveUnited PackageTwenty FiveUnited PackageZeroUnited PackageFifteenUnited PackageFiveUnited PackageFifteenSpeedy ExpressTenSpeedy ExpressThirtyUnited PackageZeroUnited PackageTenFederal ShippingTwenty FiveFederal ShippingTenFederal ShippingFifteenFederal ShippingTenFederal ShippingTwenty FiveSpeedy ExpressZeroSpeedy ExpressTenUnited PackageTenUnited PackageZeroSpeedy ExpressZeroSpeedy ExpressFifteenSpeedy ExpressThirtySpeedy ExpressFifteenUnited PackageThirtySpeedy ExpressZeroSpeedy ExpressZeroFederal ShippingFiveFederal ShippingZeroFederal ShippingZeroFederal ShippingThirtyFederal ShippingTenFederal ShippingTenUnited PackageZeroUnited PackageZeroUnited PackageFifteenUnited PackageTenUnited PackageTwentyUnited PackageZeroSpeedy ExpressFiveSpeedy ExpressThirtySpeedy ExpressZeroUnited PackageZeroUnited PackageZeroUnited PackageFifteenFederal ShippingFifteenFederal ShippingFifteenUnited PackageTwenty FiveUnited PackageZeroUnited PackageFiveSpeedy ExpressThirtyFederal ShippingThirtyFederal ShippingTwentySpeedy ExpressTwenty FiveFederal ShippingFiveFederal ShippingThirtyFederal ShippingThirtySpeedy ExpressFiveSpeedy ExpressTwenty FiveSpeedy ExpressThirtySpeedy ExpressTwentySpeedy ExpressZeroSpeedy ExpressFifteenSpeedy ExpressTwenty FiveSpeedy ExpressZeroFederal ShippingTenFederal ShippingTwenty FiveFederal ShippingTwenty FiveFederal ShippingTwenty FiveFederal ShippingTwentyUnited PackageFifteenUnited PackageZeroUnited PackageZeroUnited PackageFifteenUnited PackageThirtyUnited PackageZeroFederal ShippingTwenty FiveFederal ShippingTenFederal ShippingTwenty FiveFederal ShippingTwenty FiveUnited PackageThirtySpeedy ExpressFifteenSpeedy ExpressTenFederal ShippingZeroFederal ShippingThirtyUnited PackageThirtyUnited PackageTwentyUnited PackageZeroUnited PackageFifteenSpeedy ExpressTenSpeedy ExpressThirtySpeedy ExpressZeroSpeedy ExpressZeroSpeedy ExpressTwentySpeedy ExpressTwentyUnited PackageZeroUnited PackageFiveSpeedy ExpressZeroSpeedy ExpressFifteenSpeedy ExpressTwenty FiveSpeedy ExpressZeroSpeedy ExpressFiveSpeedy ExpressZeroUnited PackageTwenty FiveUnited PackageFiveUnited PackageZeroUnited PackageFifteenUnited PackageFiveUnited PackageFifteenUnited PackageFifteenUnited PackageTwenty FiveUnited PackageFiveUnited PackageThirtyUnited PackageFifteenUnited PackageThirtyUnited PackageTenUnited PackageTwentyUnited PackageZeroFederal ShippingZeroFederal ShippingFifteenFederal ShippingZeroFederal ShippingFifteenSpeedy ExpressTwenty FiveSpeedy ExpressFifteenSpeedy ExpressTwentySpeedy ExpressZeroSpeedy ExpressThirtyFederal ShippingFiveFederal ShippingThirtyFederal ShippingZeroFederal ShippingTwentyFederal ShippingTenFederal ShippingZeroFederal ShippingTwentyFederal ShippingTwentyFederal ShippingZeroUnited PackageThirtyUnited PackageFiveUnited PackageZeroUnited PackageThirtyUnited PackageZeroUnited PackageFifteenFederal ShippingThirtyFederal ShippingTwenty FiveFederal ShippingFifteenFederal ShippingThirtyUnited PackageTenUnited PackageTwenty FiveSpeedy ExpressTwenty FiveSpeedy ExpressFifteenSpeedy ExpressZeroSpeedy ExpressTwentySpeedy ExpressThirtyFederal ShippingZeroFederal ShippingThirtyFederal ShippingFiveFederal ShippingTenFederal ShippingFiveFederal ShippingTwenty FiveFederal ShippingFifteenFederal ShippingZeroFederal ShippingZeroUnited PackageZeroUnited PackageZeroUnited PackageTwenty FiveUnited PackageZeroSpeedy ExpressThirtySpeedy ExpressTwentySpeedy ExpressThirtySpeedy ExpressTwenty FiveSpeedy ExpressThirtySpeedy ExpressTwentySpeedy ExpressZeroSpeedy ExpressTwenty FiveSpeedy ExpressZeroSpeedy ExpressZeroUnited PackageZeroUnited PackageZeroUnited PackageFiveSpeedy ExpressTenSpeedy ExpressTwentySpeedy ExpressThirtySpeedy ExpressZeroUnited PackageTwenty FiveUnited PackageZeroUnited PackageTwenty FiveUnited PackageZeroUnited PackageZeroSpeedy ExpressTenSpeedy ExpressThirtySpeedy ExpressThirtyUnited PackageZeroUnited PackageTenUnited PackageThirtyFederal ShippingTenFederal ShippingTwentyUnited PackageZeroUnited PackageZeroUnited PackageFiveUnited PackageTwentyUnited PackageZeroUnited PackageThirtyUnited PackageTwenty FiveUnited PackageTenUnited PackageTwentyUnited PackageFifteenUnited PackageTenSpeedy ExpressFifteenSpeedy ExpressFiveSpeedy ExpressTwenty FiveSpeedy ExpressZeroSpeedy ExpressFifteenSpeedy ExpressZeroUnited PackageZeroUnited PackageFifteenUnited PackageFifteenSpeedy ExpressTenSpeedy ExpressThirtySpeedy ExpressTwenty FiveSpeedy ExpressFifteenFederal ShippingFifteenFederal ShippingTenUnited PackageTwenty FiveUnited PackageTenUnited PackageZeroUnited PackageTwentyUnited PackageZeroUnited PackageThirtyUnited PackageZeroSpeedy ExpressFiveSpeedy ExpressZeroUnited PackageZeroUnited PackageFiveUnited PackageZeroUnited PackageFifteenFederal ShippingZeroFederal ShippingThirtySpeedy ExpressTenSpeedy ExpressZeroSpeedy ExpressZeroFederal ShippingThirtyFederal ShippingZeroFederal ShippingTwentySpeedy ExpressTwenty FiveSpeedy ExpressTwenty FiveSpeedy ExpressThirtySpeedy ExpressFiveFederal ShippingZeroFederal ShippingFifteenFederal ShippingTenFederal ShippingZeroUnited PackageFiveUnited PackageThirtyUnited PackageZeroFederal ShippingTwenty FiveFederal ShippingZeroFederal ShippingThirtyFederal ShippingFifteenSpeedy ExpressZeroSpeedy ExpressTwentySpeedy ExpressFifteenFederal ShippingThirtyUnited PackageTwenty FiveUnited PackageFifteenFederal ShippingThirtyFederal ShippingFifteenSpeedy ExpressZeroSpeedy ExpressFifteenSpeedy ExpressTenUnited PackageFifteenUnited PackageZeroUnited PackageZeroUnited PackageZeroUnited PackageZeroUnited PackageFifteenUnited PackageTwentySpeedy ExpressFiveSpeedy ExpressFifteenSpeedy ExpressTwenty FiveSpeedy ExpressZeroSpeedy ExpressFiveSpeedy ExpressThirtySpeedy ExpressZeroFederal ShippingFifteenFederal ShippingThirtyUnited PackageZeroUnited PackageFifteenUnited PackageFiveFederal ShippingFiveUnited PackageThirtySpeedy ExpressTenSpeedy ExpressZeroSpeedy ExpressTwentySpeedy ExpressZeroFederal ShippingFiveFederal ShippingZeroFederal ShippingFifteenFederal ShippingTwentyFederal ShippingZeroUnited PackageTenFederal ShippingTwenty FiveFederal ShippingTwenty FiveUnited PackageTenUnited PackageTwenty FiveUnited PackageTenUnited PackageTenUnited PackageTenFederal ShippingFiveFederal ShippingFifteenFederal ShippingTwenty FiveSpeedy ExpressTenSpeedy ExpressZeroSpeedy ExpressTenUnited PackageThirtyUnited PackageZeroSpeedy ExpressZeroSpeedy ExpressTwentySpeedy ExpressTwentySpeedy ExpressZeroUnited PackageZeroUnited PackageTwentyUnited PackageTenUnited PackageTenUnited PackageTwenty FiveUnited PackageTwentyUnited PackageFifteenUnited PackageZeroFederal ShippingTenFederal ShippingZeroUnited PackageTenUnited PackageThirtyUnited PackageThirtyUnited PackageThirtySpeedy ExpressFifteenSpeedy ExpressFiveFederal ShippingZeroFederal ShippingZeroFederal ShippingZeroFederal ShippingTwenty FiveFederal ShippingTenUnited PackageZeroUnited PackageZeroUnited PackageTwenty FiveSpeedy ExpressTwentySpeedy ExpressTwenty FiveFederal ShippingThirtyFederal ShippingFiveFederal ShippingFiveFederal ShippingZeroSpeedy ExpressZeroSpeedy ExpressTwenty FiveSpeedy ExpressTwentySpeedy ExpressZeroSpeedy ExpressTwentySpeedy ExpressFiveSpeedy ExpressTwenty FiveSpeedy ExpressFifteenFederal ShippingFiveFederal ShippingThirtyFederal ShippingTwentyFederal ShippingTwentyUnited PackageFiveUnited PackageTwentySpeedy ExpressTenSpeedy ExpressZeroSpeedy ExpressZeroSpeedy ExpressTwenty FiveFederal ShippingZeroFederal ShippingTwenty FiveFederal ShippingTwenty FiveFederal ShippingTenFederal ShippingZeroFederal ShippingTwenty FiveUnited PackageTwentyFederal ShippingZeroFederal ShippingFifteenUnited PackageFiveUnited PackageTwenty FiveUnited PackageZeroUnited PackageZeroUnited PackageTwenty FiveUnited PackageTenFederal ShippingTenFederal ShippingFiveUnited PackageTwentyUnited PackageZeroUnited PackageFifteenUnited PackageZeroFederal ShippingFifteenUnited PackageFiveUnited PackageTwenty FiveUnited PackageZeroFederal ShippingThirtyFederal ShippingFifteenFederal ShippingThirtySpeedy ExpressFiveSpeedy ExpressTwentyUnited PackageZeroUnited PackageZeroUnited PackageFifteenUnited PackageZeroFederal ShippingThirtyFederal ShippingTenFederal ShippingTwentyFederal ShippingTwenty FiveFederal ShippingZeroFederal ShippingZeroFederal ShippingZeroUnited PackageZeroUnited PackageTwentyUnited PackageTenUnited PackageTwenty FiveSpeedy ExpressTwenty FiveSpeedy ExpressZeroUnited PackageZeroUnited PackageTwentySpeedy ExpressTenSpeedy ExpressTwentySpeedy ExpressFifteenSpeedy ExpressZeroUnited PackageTwenty FiveUnited PackageFiveUnited PackageZeroUnited PackageTenFederal ShippingFifteenFederal ShippingFifteenFederal ShippingThirtyUnited PackageZeroUnited PackageTenUnited PackageZeroUnited PackageTwenty FiveSpeedy ExpressZeroSpeedy ExpressTenSpeedy ExpressTwenty FiveSpeedy ExpressTwentyUnited PackageTenUnited PackageFiveUnited PackageZeroUnited PackageFifteenUnited PackageTwentyFederal ShippingZeroUnited PackageZeroUnited PackageFifteenUnited PackageFifteenFederal ShippingTenSpeedy ExpressTwenty FiveSpeedy ExpressThirtySpeedy ExpressZeroUnited PackageFiveUnited PackageFifteenFederal ShippingZeroFederal ShippingZeroFederal ShippingThirtyUnited PackageZeroSpeedy ExpressTwenty FiveUnited PackageZeroUnited PackageZeroUnited PackageTwentyUnited PackageZeroUnited PackageTenUnited PackageTwenty FiveFederal ShippingFiveFederal ShippingZeroFederal ShippingTwenty FiveSpeedy ExpressZeroFederal ShippingFiveFederal ShippingZeroFederal ShippingTenFederal ShippingFiveUnited PackageZeroUnited PackageFiveUnited PackageThirtyUnited PackageFifteenUnited PackageTenUnited PackageZeroUnited PackageZeroUnited PackageThirtyUnited PackageTwentyUnited PackageFiveSpeedy ExpressTwenty FiveUnited PackageFifteenSpeedy ExpressTenSpeedy ExpressTwenty FiveUnited PackageFiveUnited PackageTwentyFederal ShippingTenFederal ShippingZeroFederal ShippingTwentySpeedy ExpressTenSpeedy ExpressZeroSpeedy ExpressTwenty FiveUnited PackageThirtyUnited PackageZeroUnited PackageTwentyUnited PackageFifteenSpeedy ExpressTenSpeedy ExpressTwenty FiveSpeedy ExpressZeroUnited PackageTenUnited PackageZeroSpeedy ExpressTwenty FiveSpeedy ExpressThirtySpeedy ExpressTenFederal ShippingFiveFederal ShippingFifteenFederal ShippingTwentyFederal ShippingTwenty FiveSpeedy ExpressTwenty FiveSpeedy ExpressThirtySpeedy ExpressTwentyFederal ShippingZeroFederal ShippingZeroFederal ShippingTenFederal ShippingZeroFederal ShippingTenFederal ShippingZeroUnited PackageZeroUnited PackageTwenty FiveUnited PackageZeroUnited PackageTwenty FiveUnited PackageZeroUnited PackageTwenty FiveUnited PackageFiveUnited PackageTwenty FiveUnited PackageTenUnited PackageTenUnited PackageFifteenFederal ShippingZeroFederal ShippingZeroFederal ShippingFifteenUnited PackageTenUnited PackageTwenty FiveUnited PackageZeroUnited PackageTwentySpeedy ExpressFiveSpeedy ExpressFifteenSpeedy ExpressZeroSpeedy ExpressTwentyFederal ShippingTenFederal ShippingThirtyFederal ShippingTwenty FiveSpeedy ExpressZeroSpeedy ExpressTwentySpeedy ExpressTenSpeedy ExpressZeroUnited PackageTenUnited PackageZeroUnited PackageZeroUnited PackageZeroUnited PackageZeroFederal ShippingZeroFederal ShippingFifteenFederal ShippingZeroSpeedy ExpressZeroSpeedy ExpressTwentySpeedy ExpressZeroUnited PackageTenUnited PackageZeroSpeedy ExpressTwentySpeedy ExpressZeroFederal ShippingFiveFederal ShippingZeroFederal ShippingZeroSpeedy ExpressTwenty FiveSpeedy ExpressZeroSpeedy ExpressFifteenSpeedy ExpressFifteenFederal ShippingTenUnited PackageFifteenUnited PackageFifteenUnited PackageTwentyUnited PackageTwentyUnited PackageTwenty FiveUnited PackageZeroUnited PackageThirtyUnited PackageZeroUnited PackageZeroUnited PackageThirtyFederal ShippingZeroFederal ShippingFifteenUnited PackageZeroSpeedy ExpressTwenty FiveSpeedy ExpressZeroSpeedy ExpressZeroSpeedy ExpressTenSpeedy ExpressZeroUnited PackageFiveUnited PackageFifteenUnited PackageTenUnited PackageTwenty FiveSpeedy ExpressZeroSpeedy ExpressTwentySpeedy ExpressZeroSpeedy ExpressZeroFederal ShippingTenFederal ShippingFiveSpeedy ExpressZeroSpeedy ExpressTenSpeedy ExpressZeroSpeedy ExpressZeroSpeedy ExpressTwentySpeedy ExpressZeroSpeedy ExpressThirtySpeedy ExpressFiveUnited PackageTwenty FiveUnited PackageZeroUnited PackageZeroUnited PackageZeroUnited PackageTenUnited PackageFiveUnited PackageZeroUnited PackageThirtyUnited PackageZeroFederal ShippingTwentyFederal ShippingFifteenFederal ShippingZeroFederal ShippingZeroFederal ShippingFifteenSpeedy ExpressFiveSpeedy ExpressFifteenSpeedy ExpressTwenty FiveUnited PackageTenUnited PackageFifteenUnited PackageZeroUnited PackageTenFederal ShippingFiveFederal ShippingZeroSpeedy ExpressThirtyUnited PackageThirtyUnited PackageTwenty FiveUnited PackageZeroUnited PackageZeroUnited PackageFifteenUnited PackageFifteenUnited PackageTwentyFederal ShippingFiveUnited PackageTwenty FiveUnited PackageFiveSpeedy ExpressFifteenSpeedy ExpressTwenty FiveUnited PackageThirtySpeedy ExpressZeroUnited PackageTwentyUnited PackageTenUnited PackageZeroUnited PackageTwenty FiveUnited PackageFifteenFederal ShippingTenFederal ShippingZeroFederal ShippingFifteenSpeedy ExpressTwenty FiveSpeedy ExpressZeroUnited PackageTwentyFederal ShippingZeroSpeedy ExpressTwenty FiveSpeedy ExpressTwenty FiveUnited PackageZeroUnited PackageTwenty FiveUnited PackageThirtySpeedy ExpressTwentySpeedy ExpressTenUnited PackageZeroUnited PackageThirtyUnited PackageTenUnited PackageTwentyUnited PackageTenUnited PackageTwentyUnited PackageZeroFederal ShippingThirtyFederal ShippingFiveFederal ShippingZeroFederal ShippingTwenty FiveUnited PackageFiveUnited PackageZeroUnited PackageZeroUnited PackageZeroUnited PackageFifteenFederal ShippingZeroUnited PackageZeroUnited PackageThirtyUnited PackageFifteenUnited PackageThirtyUnited PackageTenSpeedy ExpressZeroSpeedy ExpressTenSpeedy ExpressZeroSpeedy ExpressTwentySpeedy ExpressFifteenSpeedy ExpressFifteenSpeedy ExpressTenUnited PackageTenUnited PackageFiveUnited PackageFifteenUnited PackageTenUnited PackageZeroUnited PackageTwenty FiveUnited PackageFifteenUnited PackageFiveSpeedy ExpressTenSpeedy ExpressTwenty FiveSpeedy ExpressTenSpeedy ExpressTwentySpeedy ExpressTenSpeedy ExpressFiveUnited PackageTwenty FiveUnited PackageTenUnited PackageThirtyUnited PackageThirtyUnited PackageThirtyUnited PackageZeroUnited PackageTenUnited PackageTwenty FiveUnited PackageZeroUnited PackageTwentyUnited PackageTwenty FiveUnited PackageZeroUnited PackageFiveUnited PackageTwenty FiveUnited PackageTwenty FiveUnited PackageZeroUnited PackageTwenty FiveUnited PackageTenUnited PackageZeroUnited PackageZeroUnited PackageZeroUnited PackageFiveUnited PackageZeroUnited PackageTenUnited PackageZeroUnited PackageTwenty FiveUnited PackageTwenty FiveUnited PackageFiveUnited PackageTenUnited PackageZeroUnited PackageTwenty FiveUnited PackageTwentyUnited PackageZeroUnited PackageThirtyUnited PackageTwentyUnited PackageFiveUnited PackageTwenty FiveUnited PackageFifteen'",
      "\nDuring handling of the above exception, another exception occurred:\n",
      "\u001b[1;31mValueError\u001b[0m                                Traceback (most recent call last)",
      "\u001b[1;32m~\\Anaconda3\\envs\\learn-env\\lib\\site-packages\\pandas\\core\\nanops.py\u001b[0m in \u001b[0;36m_ensure_numeric\u001b[1;34m(x)\u001b[0m\n\u001b[0;32m   1306\u001b[0m             \u001b[1;32mtry\u001b[0m\u001b[1;33m:\u001b[0m\u001b[1;33m\u001b[0m\u001b[1;33m\u001b[0m\u001b[0m\n\u001b[1;32m-> 1307\u001b[1;33m                 \u001b[0mx\u001b[0m \u001b[1;33m=\u001b[0m \u001b[0mcomplex\u001b[0m\u001b[1;33m(\u001b[0m\u001b[0mx\u001b[0m\u001b[1;33m)\u001b[0m\u001b[1;33m\u001b[0m\u001b[1;33m\u001b[0m\u001b[0m\n\u001b[0m\u001b[0;32m   1308\u001b[0m             \u001b[1;32mexcept\u001b[0m \u001b[0mException\u001b[0m\u001b[1;33m:\u001b[0m\u001b[1;33m\u001b[0m\u001b[1;33m\u001b[0m\u001b[0m\n",
      "\u001b[1;31mValueError\u001b[0m: complex() arg is a malformed string",
      "\nDuring handling of the above exception, another exception occurred:\n",
      "\u001b[1;31mTypeError\u001b[0m                                 Traceback (most recent call last)",
      "\u001b[1;32m~\\Anaconda3\\envs\\learn-env\\lib\\site-packages\\pandas\\core\\nanops.py\u001b[0m in \u001b[0;36mf\u001b[1;34m(values, axis, skipna, **kwds)\u001b[0m\n\u001b[0;32m    119\u001b[0m                 \u001b[1;32melse\u001b[0m\u001b[1;33m:\u001b[0m\u001b[1;33m\u001b[0m\u001b[1;33m\u001b[0m\u001b[0m\n\u001b[1;32m--> 120\u001b[1;33m                     \u001b[0mresult\u001b[0m \u001b[1;33m=\u001b[0m \u001b[0malt\u001b[0m\u001b[1;33m(\u001b[0m\u001b[0mvalues\u001b[0m\u001b[1;33m,\u001b[0m \u001b[0maxis\u001b[0m\u001b[1;33m=\u001b[0m\u001b[0maxis\u001b[0m\u001b[1;33m,\u001b[0m \u001b[0mskipna\u001b[0m\u001b[1;33m=\u001b[0m\u001b[0mskipna\u001b[0m\u001b[1;33m,\u001b[0m \u001b[1;33m**\u001b[0m\u001b[0mkwds\u001b[0m\u001b[1;33m)\u001b[0m\u001b[1;33m\u001b[0m\u001b[1;33m\u001b[0m\u001b[0m\n\u001b[0m\u001b[0;32m    121\u001b[0m             \u001b[1;32mexcept\u001b[0m \u001b[0mException\u001b[0m\u001b[1;33m:\u001b[0m\u001b[1;33m\u001b[0m\u001b[1;33m\u001b[0m\u001b[0m\n",
      "\u001b[1;32m~\\Anaconda3\\envs\\learn-env\\lib\\site-packages\\pandas\\core\\nanops.py\u001b[0m in \u001b[0;36mnanmean\u001b[1;34m(values, axis, skipna, mask)\u001b[0m\n\u001b[0;32m    550\u001b[0m     \u001b[0mcount\u001b[0m \u001b[1;33m=\u001b[0m \u001b[0m_get_counts\u001b[0m\u001b[1;33m(\u001b[0m\u001b[0mvalues\u001b[0m\u001b[1;33m.\u001b[0m\u001b[0mshape\u001b[0m\u001b[1;33m,\u001b[0m \u001b[0mmask\u001b[0m\u001b[1;33m,\u001b[0m \u001b[0maxis\u001b[0m\u001b[1;33m,\u001b[0m \u001b[0mdtype\u001b[0m\u001b[1;33m=\u001b[0m\u001b[0mdtype_count\u001b[0m\u001b[1;33m)\u001b[0m\u001b[1;33m\u001b[0m\u001b[1;33m\u001b[0m\u001b[0m\n\u001b[1;32m--> 551\u001b[1;33m     \u001b[0mthe_sum\u001b[0m \u001b[1;33m=\u001b[0m \u001b[0m_ensure_numeric\u001b[0m\u001b[1;33m(\u001b[0m\u001b[0mvalues\u001b[0m\u001b[1;33m.\u001b[0m\u001b[0msum\u001b[0m\u001b[1;33m(\u001b[0m\u001b[0maxis\u001b[0m\u001b[1;33m,\u001b[0m \u001b[0mdtype\u001b[0m\u001b[1;33m=\u001b[0m\u001b[0mdtype_sum\u001b[0m\u001b[1;33m)\u001b[0m\u001b[1;33m)\u001b[0m\u001b[1;33m\u001b[0m\u001b[1;33m\u001b[0m\u001b[0m\n\u001b[0m\u001b[0;32m    552\u001b[0m \u001b[1;33m\u001b[0m\u001b[0m\n",
      "\u001b[1;32m~\\Anaconda3\\envs\\learn-env\\lib\\site-packages\\pandas\\core\\nanops.py\u001b[0m in \u001b[0;36m_ensure_numeric\u001b[1;34m(x)\u001b[0m\n\u001b[0;32m   1309\u001b[0m                 raise TypeError(\n\u001b[1;32m-> 1310\u001b[1;33m                     \u001b[1;34m\"Could not convert {value!s} to numeric\"\u001b[0m\u001b[1;33m.\u001b[0m\u001b[0mformat\u001b[0m\u001b[1;33m(\u001b[0m\u001b[0mvalue\u001b[0m\u001b[1;33m=\u001b[0m\u001b[0mx\u001b[0m\u001b[1;33m)\u001b[0m\u001b[1;33m\u001b[0m\u001b[1;33m\u001b[0m\u001b[0m\n\u001b[0m\u001b[0;32m   1311\u001b[0m                 )\n",
      "\u001b[1;31mTypeError\u001b[0m: Could not convert Federal ShippingThirtyFederal ShippingZeroFederal ShippingZeroSpeedy ExpressZeroSpeedy ExpressTenUnited PackageTenUnited PackageTenUnited PackageZeroSpeedy ExpressTwenty FiveSpeedy ExpressTwentySpeedy ExpressZeroUnited PackageZeroUnited PackageTwentyUnited PackageZeroUnited PackageTwentyUnited PackageFiveUnited PackageFifteenUnited PackageZeroUnited PackageTwentyUnited PackageFiveFederal ShippingTwenty FiveFederal ShippingTenFederal ShippingTwentyFederal ShippingZeroUnited PackageZeroUnited PackageFifteenFederal ShippingThirtyFederal ShippingFiveFederal ShippingFifteenSpeedy ExpressTwenty FiveSpeedy ExpressZeroSpeedy ExpressTwenty FiveFederal ShippingFiveFederal ShippingTwenty FiveSpeedy ExpressTenSpeedy ExpressTwentySpeedy ExpressZeroSpeedy ExpressThirtyUnited PackageFiveUnited PackageFifteenFederal ShippingZeroFederal ShippingTenFederal ShippingThirtyFederal ShippingTenFederal ShippingZeroFederal ShippingFifteenFederal ShippingFiveFederal ShippingTwenty FiveFederal ShippingTenSpeedy ExpressZeroSpeedy ExpressThirtyFederal ShippingZeroSpeedy ExpressThirtySpeedy ExpressZeroSpeedy ExpressTwentyFederal ShippingZeroFederal ShippingZeroSpeedy ExpressTwentySpeedy ExpressZeroSpeedy ExpressTwentySpeedy ExpressTwenty FiveUnited PackageTwentyUnited PackageZeroUnited PackageTwentyUnited PackageZeroFederal ShippingZeroFederal ShippingTwentyFederal ShippingTwentyFederal ShippingThirtyFederal ShippingTwentySpeedy ExpressZeroSpeedy ExpressZeroSpeedy ExpressZeroSpeedy ExpressZeroFederal ShippingZeroFederal ShippingFiveFederal ShippingZeroFederal ShippingZeroUnited PackageFifteenUnited PackageZeroUnited PackageFiveUnited PackageFiveUnited PackageZeroSpeedy ExpressZeroSpeedy ExpressTwentySpeedy ExpressTwenty FiveSpeedy ExpressFiveSpeedy ExpressZeroSpeedy ExpressFifteenSpeedy ExpressFifteenSpeedy ExpressTwentyFederal ShippingFiveFederal ShippingFiveFederal ShippingZeroFederal ShippingZeroSpeedy ExpressThirtySpeedy ExpressFifteenSpeedy ExpressZeroSpeedy ExpressTenUnited PackageTenUnited PackageThirtyUnited PackageZeroFederal ShippingFifteenFederal ShippingZeroFederal ShippingTenFederal ShippingFifteenFederal ShippingZeroSpeedy ExpressTenSpeedy ExpressFifteenFederal ShippingTwenty FiveFederal ShippingThirtySpeedy ExpressZeroSpeedy ExpressZeroSpeedy ExpressFifteenSpeedy ExpressFifteenUnited PackageFiveUnited PackageFifteenUnited PackageTenUnited PackageZeroFederal ShippingZeroFederal ShippingZeroFederal ShippingFiveFederal ShippingTwenty FiveUnited PackageTenUnited PackageZeroUnited PackageTwenty FiveUnited PackageZeroUnited PackageTwenty FiveUnited PackageThirtySpeedy ExpressThirtySpeedy ExpressTenSpeedy ExpressFifteenUnited PackageFiveUnited PackageZeroUnited PackageTwenty FiveUnited PackageTwentyUnited PackageZeroUnited PackageZeroUnited PackageFiveUnited PackageThirtyUnited PackageTwentyUnited PackageFifteenUnited PackageThirtyUnited PackageThirtyUnited PackageZeroUnited PackageZeroUnited PackageTwenty FiveUnited PackageThirtyUnited PackageZeroUnited PackageFifteenUnited PackageFifteenUnited PackageZeroUnited PackageZeroFederal ShippingZeroFederal ShippingZeroFederal ShippingFiveFederal ShippingFifteenFederal ShippingZeroFederal ShippingTenUnited PackageZeroUnited PackageFifteenFederal ShippingFifteenFederal ShippingThirtySpeedy ExpressZeroSpeedy ExpressTwenty FiveSpeedy ExpressZeroSpeedy ExpressTwenty FiveSpeedy ExpressZeroUnited PackageTenUnited PackageZeroFederal ShippingZeroFederal ShippingFifteenUnited PackageZeroUnited PackageTwenty FiveUnited PackageZeroUnited PackageTwenty FiveUnited PackageTwentyUnited PackageTwenty FiveUnited PackageTwentyUnited PackageZeroUnited PackageFifteenUnited PackageThirtyFederal ShippingTenFederal ShippingZeroSpeedy ExpressTenUnited PackageTenUnited PackageTwentyFederal ShippingZeroFederal ShippingZeroFederal ShippingTwentyFederal ShippingZeroUnited PackageFifteenFederal ShippingTwenty FiveSpeedy ExpressFiveSpeedy ExpressThirtySpeedy ExpressFiveSpeedy ExpressTenSpeedy ExpressFifteenSpeedy ExpressZeroSpeedy ExpressZeroSpeedy ExpressFiveFederal ShippingTwenty FiveFederal ShippingFiveFederal ShippingZeroFederal ShippingTwentyFederal ShippingZeroUnited PackageZeroUnited PackageTwentyUnited PackageTwenty FiveSpeedy ExpressTwenty FiveSpeedy ExpressThirtySpeedy ExpressFifteenSpeedy ExpressTwentyFederal ShippingZeroFederal ShippingZeroFederal ShippingFifteenUnited PackageFiveUnited PackageFifteenUnited PackageFifteenUnited PackageThirtySpeedy ExpressZeroSpeedy ExpressZeroSpeedy ExpressTenUnited PackageZeroUnited PackageZeroUnited PackageZeroFederal ShippingZeroFederal ShippingFiveFederal ShippingZeroUnited PackageTwenty FiveUnited PackageFifteenUnited PackageTwenty FiveUnited PackageTwentyUnited PackageTwenty FiveUnited PackageTenUnited PackageZeroFederal ShippingTwenty FiveFederal ShippingZeroFederal ShippingTwentyFederal ShippingTwenty FiveFederal ShippingZeroFederal ShippingZeroFederal ShippingFifteenUnited PackageZeroUnited PackageZeroUnited PackageZeroFederal ShippingZeroFederal ShippingTenFederal ShippingTwenty FiveFederal ShippingTwentyFederal ShippingZeroUnited PackageTwenty FiveUnited PackageTwentyUnited PackageTwentyUnited PackageTwentySpeedy ExpressThirtySpeedy ExpressFifteenSpeedy ExpressTwentyUnited PackageZeroUnited PackageZeroUnited PackageZeroUnited PackageFiveUnited PackageZeroFederal ShippingZeroFederal ShippingThirtyFederal ShippingThirtyFederal ShippingFiveFederal ShippingThirtyFederal ShippingTwenty FiveUnited PackageTenUnited PackageTwenty FiveSpeedy ExpressTenUnited PackageThirtyUnited PackageFifteenSpeedy ExpressFifteenSpeedy ExpressTenSpeedy ExpressFifteenSpeedy ExpressZeroFederal ShippingZeroFederal ShippingTenFederal ShippingThirtyFederal ShippingFifteenFederal ShippingTenFederal ShippingZeroSpeedy ExpressZeroSpeedy ExpressTwentyUnited PackageTwentyUnited PackageTwentyUnited PackageFifteenFederal ShippingZeroFederal ShippingZeroFederal ShippingZeroSpeedy ExpressZeroSpeedy ExpressFifteenSpeedy ExpressTwentyFederal ShippingTenFederal ShippingTwentyFederal ShippingZeroFederal ShippingZeroFederal ShippingZeroFederal ShippingFifteenFederal ShippingFifteenFederal ShippingTenUnited PackageFiveUnited PackageZeroSpeedy ExpressThirtySpeedy ExpressTenSpeedy ExpressTenFederal ShippingTwentyFederal ShippingTwenty FiveFederal ShippingTwentySpeedy ExpressFifteenSpeedy ExpressZeroUnited PackageThirtyUnited PackageZeroUnited PackageFifteenFederal ShippingFifteenFederal ShippingTenFederal ShippingZeroFederal ShippingFifteenUnited PackageFiveUnited PackageZeroUnited PackageTwentyUnited PackageThirtyUnited PackageZeroUnited PackageThirtyUnited PackageTenUnited PackageThirtyUnited PackageFiveSpeedy ExpressTwentyUnited PackageZeroUnited PackageFifteenUnited PackageZeroUnited PackageZeroFederal ShippingTwentyFederal ShippingZeroFederal ShippingTwentyFederal ShippingTwentyUnited PackageZeroUnited PackageTenUnited PackageTwentyFederal ShippingZeroFederal ShippingFiveFederal ShippingZeroSpeedy ExpressTenSpeedy ExpressFiveSpeedy ExpressZeroFederal ShippingFifteenFederal ShippingZeroFederal ShippingZeroFederal ShippingThirtyFederal ShippingFiveSpeedy ExpressZeroSpeedy ExpressZeroSpeedy ExpressZeroSpeedy ExpressTwentySpeedy ExpressFiveFederal ShippingFiveFederal ShippingThirtyFederal ShippingThirtyFederal ShippingZeroFederal ShippingZeroUnited PackageTenUnited PackageZeroUnited PackageFifteenFederal ShippingZeroFederal ShippingFifteenUnited PackageZeroUnited PackageZeroUnited PackageZeroUnited PackageZeroSpeedy ExpressFifteenSpeedy ExpressTwenty FiveSpeedy ExpressZeroUnited PackageZeroUnited PackageTwentyUnited PackageZeroUnited PackageThirtySpeedy ExpressTwentySpeedy ExpressFifteenSpeedy ExpressZeroSpeedy ExpressZeroFederal ShippingFiveFederal ShippingFifteenFederal ShippingTwenty FiveFederal ShippingZeroFederal ShippingThirtyFederal ShippingZeroFederal ShippingTwentyFederal ShippingFiveFederal ShippingZeroSpeedy ExpressZeroSpeedy ExpressZeroSpeedy ExpressFifteenFederal ShippingTwenty FiveFederal ShippingZeroFederal ShippingZeroSpeedy ExpressFiveSpeedy ExpressTenFederal ShippingFifteenFederal ShippingTwentyFederal ShippingFifteenFederal ShippingZeroFederal ShippingTwentyFederal ShippingFifteenFederal ShippingZeroFederal ShippingFifteenFederal ShippingFifteenSpeedy ExpressFifteenSpeedy ExpressThirtySpeedy ExpressZeroSpeedy ExpressZeroUnited PackageTwenty FiveUnited PackageFiveFederal ShippingTenFederal ShippingTwenty FiveSpeedy ExpressZeroSpeedy ExpressZeroSpeedy ExpressFifteenSpeedy ExpressTwenty FiveSpeedy ExpressTenSpeedy ExpressFiveSpeedy ExpressZeroSpeedy ExpressTwentySpeedy ExpressThirtyUnited PackageThirtyUnited PackageFifteenUnited PackageZeroSpeedy ExpressTwenty FiveSpeedy ExpressTenSpeedy ExpressZeroSpeedy ExpressZeroSpeedy ExpressFiveFederal ShippingTwentyFederal ShippingZeroFederal ShippingTenFederal ShippingFifteenFederal ShippingZeroUnited PackageZeroUnited PackageTenUnited PackageZeroUnited PackageTwentyFederal ShippingFiveFederal ShippingTwentySpeedy ExpressZeroSpeedy ExpressTwentyFederal ShippingFiveFederal ShippingZeroFederal ShippingTwentyFederal ShippingFifteenFederal ShippingZeroFederal ShippingFifteenFederal ShippingFifteenSpeedy ExpressTwenty FiveSpeedy ExpressZeroSpeedy ExpressTwenty FiveSpeedy ExpressFiveUnited PackageZeroUnited PackageFifteenSpeedy ExpressZeroSpeedy ExpressFiveSpeedy ExpressThirtySpeedy ExpressFiveSpeedy ExpressFiveSpeedy ExpressZeroSpeedy ExpressZeroSpeedy ExpressFifteenSpeedy ExpressZeroFederal ShippingTwentyFederal ShippingZeroUnited PackageFifteenUnited PackageFifteenUnited PackageFifteenUnited PackageTwentyUnited PackageTwentySpeedy ExpressThirtySpeedy ExpressThirtyUnited PackageZeroSpeedy ExpressZeroUnited PackageThirtyUnited PackageFiveSpeedy ExpressZeroSpeedy ExpressFiveSpeedy ExpressThirtySpeedy ExpressZeroUnited PackageZeroUnited PackageThirtyUnited PackageZeroUnited PackageZeroUnited PackageTenFederal ShippingThirtyUnited PackageThirtyUnited PackageTwentyUnited PackageTwenty FiveUnited PackageTwenty FiveUnited PackageZeroUnited PackageZeroUnited PackageThirtyUnited PackageThirtyUnited PackageTwenty FiveSpeedy ExpressZeroUnited PackageFiveUnited PackageFifteenUnited PackageTwentyFederal ShippingZeroFederal ShippingTenFederal ShippingThirtyFederal ShippingFiveUnited PackageTwenty FiveUnited PackageTenUnited PackageZeroUnited PackageTwenty FiveUnited PackageThirtyUnited PackageThirtyUnited PackageTenUnited PackageTwentySpeedy ExpressThirtySpeedy ExpressZeroFederal ShippingZeroFederal ShippingZeroFederal ShippingFifteenFederal ShippingTenSpeedy ExpressFiveSpeedy ExpressTenSpeedy ExpressFiveSpeedy ExpressZeroSpeedy ExpressTwentySpeedy ExpressTwenty FiveUnited PackageFiveUnited PackageZeroUnited PackageZeroUnited PackageZeroUnited PackageThirtyUnited PackageZeroUnited PackageTwenty FiveUnited PackageZeroUnited PackageZeroUnited PackageTenFederal ShippingTwentyFederal ShippingThirtyFederal ShippingZeroFederal ShippingFifteenSpeedy ExpressZeroSpeedy ExpressFifteenUnited PackageTwenty FiveUnited PackageThirtyFederal ShippingTenFederal ShippingTwentyFederal ShippingZeroUnited PackageFiveUnited PackageZeroUnited PackageTwenty FiveUnited PackageZeroUnited PackageFiveUnited PackageFifteenSpeedy ExpressZeroFederal ShippingZeroFederal ShippingZeroFederal ShippingTwenty FiveFederal ShippingThirtyFederal ShippingZeroUnited PackageTenUnited PackageZeroUnited PackageZeroSpeedy ExpressFifteenSpeedy ExpressTwenty FiveFederal ShippingFiveFederal ShippingFifteenFederal ShippingTwentySpeedy ExpressFiveSpeedy ExpressTwenty FiveFederal ShippingFiveFederal ShippingZeroUnited PackageZeroUnited PackageTwenty FiveUnited PackageThirtyUnited PackageZeroFederal ShippingZeroFederal ShippingZeroFederal ShippingThirtyFederal ShippingFifteenFederal ShippingThirtySpeedy ExpressThirtySpeedy ExpressZeroUnited PackageZeroUnited PackageThirtyFederal ShippingFifteenFederal ShippingTwenty FiveSpeedy ExpressTwenty FiveSpeedy ExpressTenSpeedy ExpressFifteenUnited PackageZeroUnited PackageTwenty FiveUnited PackageThirtyFederal ShippingTenFederal ShippingThirtySpeedy ExpressZeroSpeedy ExpressTenFederal ShippingTwentyFederal ShippingZeroUnited PackageZeroUnited PackageZeroUnited PackageThirtyUnited PackageTwenty FiveSpeedy ExpressTwentySpeedy ExpressTwentySpeedy ExpressTwentyFederal ShippingTwentyFederal ShippingThirtyUnited PackageTenUnited PackageFiveUnited PackageFiveFederal ShippingZeroFederal ShippingFifteenFederal ShippingZeroFederal ShippingZeroFederal ShippingThirtyUnited PackageZeroUnited PackageZeroUnited PackageFifteenUnited PackageZeroFederal ShippingThirtyUnited PackageFifteenUnited PackageFifteenFederal ShippingFiveFederal ShippingThirtyFederal ShippingTenUnited PackageTwenty FiveUnited PackageTwenty FiveUnited PackageTwentyUnited PackageThirtyUnited PackageThirtyUnited PackageTenUnited PackageFiveUnited PackageFiveUnited PackageZeroUnited PackageTenUnited PackageZeroUnited PackageFiveUnited PackageThirtyUnited PackageTenUnited PackageZeroUnited PackageFifteenUnited PackageTwenty FiveFederal ShippingFifteenFederal ShippingFifteenSpeedy ExpressThirtySpeedy ExpressZeroFederal ShippingZeroFederal ShippingTwentyFederal ShippingFifteenUnited PackageThirtyFederal ShippingTwenty FiveFederal ShippingTenFederal ShippingFifteenUnited PackageTwentySpeedy ExpressThirtySpeedy ExpressZeroSpeedy ExpressFifteenUnited PackageZeroUnited PackageThirtyUnited PackageZeroUnited PackageZeroUnited PackageFifteenSpeedy ExpressFiveSpeedy ExpressZeroFederal ShippingTenSpeedy ExpressFifteenSpeedy ExpressZeroSpeedy ExpressTenUnited PackageZeroUnited PackageZeroFederal ShippingTwenty FiveFederal ShippingFiveFederal ShippingZeroFederal ShippingTwenty FiveFederal ShippingZeroUnited PackageThirtyUnited PackageThirtySpeedy ExpressTwenty FiveSpeedy ExpressTwenty FiveUnited PackageFiveUnited PackageFiveSpeedy ExpressZeroFederal ShippingZeroFederal ShippingTwenty FiveFederal ShippingZeroFederal ShippingTenFederal ShippingZeroUnited PackageZeroUnited PackageZeroUnited PackageZeroUnited PackageZeroSpeedy ExpressFiveSpeedy ExpressTwenty FiveSpeedy ExpressTwenty FiveUnited PackageZeroUnited PackageZeroUnited PackageThirtyUnited PackageZeroUnited PackageTwenty FiveSpeedy ExpressZeroSpeedy ExpressTenSpeedy ExpressThirtySpeedy ExpressTwentySpeedy ExpressZeroFederal ShippingZeroFederal ShippingTenFederal ShippingZeroFederal ShippingTwenty FiveFederal ShippingZeroFederal ShippingThirtyUnited PackageZeroUnited PackageFifteenUnited PackageFifteenFederal ShippingZeroFederal ShippingThirtyFederal ShippingZeroSpeedy ExpressZeroSpeedy ExpressZeroUnited PackageFifteenUnited PackageTenUnited PackageFifteenSpeedy ExpressTenSpeedy ExpressZeroSpeedy ExpressFifteenSpeedy ExpressThirtyUnited PackageZeroUnited PackageZeroUnited PackageTwenty FiveUnited PackageTenUnited PackageZeroUnited PackageFifteenUnited PackageTwenty FiveUnited PackageTenUnited PackageTwentyUnited PackageThirtyUnited PackageTenUnited PackageFiveUnited PackageThirtySpeedy ExpressZeroSpeedy ExpressTwentyUnited PackageThirtyUnited PackageTwentyUnited PackageZeroUnited PackageTwentyUnited PackageFifteenUnited PackageFifteenUnited PackageZeroUnited PackageTwenty FiveUnited PackageTwenty FiveUnited PackageTwentySpeedy ExpressZeroFederal ShippingFifteenFederal ShippingTwentySpeedy ExpressZeroSpeedy ExpressZeroSpeedy ExpressFiveUnited PackageFifteenUnited PackageThirtyUnited PackageTenSpeedy ExpressThirtySpeedy ExpressThirtySpeedy ExpressTwentySpeedy ExpressZeroUnited PackageZeroUnited PackageTwentyUnited PackageTwentyUnited PackageZeroSpeedy ExpressTwentySpeedy ExpressTenSpeedy ExpressTwentySpeedy ExpressZeroSpeedy ExpressFiveFederal ShippingThirtyFederal ShippingZeroFederal ShippingFiveFederal ShippingFiveFederal ShippingTwentyFederal ShippingFifteenFederal ShippingTwenty FiveFederal ShippingZeroFederal ShippingFifteenFederal ShippingFifteenSpeedy ExpressZeroSpeedy ExpressFifteenSpeedy ExpressZeroSpeedy ExpressZeroFederal ShippingThirtyFederal ShippingTenUnited PackageZeroUnited PackageTwenty FiveSpeedy ExpressZeroSpeedy ExpressTenUnited PackageThirtyFederal ShippingTenFederal ShippingFifteenFederal ShippingZeroUnited PackageTwenty FiveUnited PackageTwentyUnited PackageFifteenUnited PackageTenSpeedy ExpressTwentySpeedy ExpressFifteenSpeedy ExpressTenFederal ShippingZeroFederal ShippingFiveFederal ShippingFiveFederal ShippingTwenty FiveFederal ShippingTenFederal ShippingFifteenFederal ShippingFifteenSpeedy ExpressFifteenSpeedy ExpressTwenty FiveUnited PackageThirtyUnited PackageTenUnited PackageTwenty FiveUnited PackageTwentyUnited PackageFifteenFederal ShippingTenFederal ShippingTwenty FiveFederal ShippingZeroFederal ShippingFifteenFederal ShippingZeroFederal ShippingFiveFederal ShippingZeroFederal ShippingTenFederal ShippingThirtySpeedy ExpressZeroUnited PackageThirtyUnited PackageTwenty FiveUnited PackageZeroUnited PackageTenUnited PackageTwenty FiveUnited PackageZeroUnited PackageFiveSpeedy ExpressTenSpeedy ExpressTwentySpeedy ExpressFifteenSpeedy ExpressZeroUnited PackageFifteenUnited PackageTenSpeedy ExpressTwentySpeedy ExpressZeroUnited PackageTwentyUnited PackageTwenty FiveFederal ShippingZeroFederal ShippingTwentyFederal ShippingTwentyUnited PackageZeroUnited PackageThirtySpeedy ExpressThirtySpeedy ExpressZeroSpeedy ExpressTwentySpeedy ExpressTwentySpeedy ExpressTenSpeedy ExpressZeroFederal ShippingZeroSpeedy ExpressTwentySpeedy ExpressTwentyFederal ShippingThirtyFederal ShippingThirtyFederal ShippingZeroFederal ShippingZeroUnited PackageTenUnited PackageTwenty FiveUnited PackageThirtyUnited PackageTwenty FiveFederal ShippingZeroFederal ShippingFifteenFederal ShippingZeroUnited PackageTwentyUnited PackageThirtyUnited PackageZeroUnited PackageThirtySpeedy ExpressZeroSpeedy ExpressFiveSpeedy ExpressZeroSpeedy ExpressTwentyFederal ShippingTenFederal ShippingTwentyFederal ShippingFifteenUnited PackageFiveUnited PackageTwenty FiveUnited PackageFifteenFederal ShippingFifteenFederal ShippingTwentyUnited PackageFiveUnited PackageTwenty FiveFederal ShippingZeroFederal ShippingTenFederal ShippingZeroSpeedy ExpressTwenty FiveUnited PackageTwentyUnited PackageTwentyUnited PackageZeroUnited PackageZeroUnited PackageFifteenSpeedy ExpressTwentySpeedy ExpressZeroSpeedy ExpressTwenty FiveSpeedy ExpressZeroSpeedy ExpressFifteenSpeedy ExpressFifteenFederal ShippingZeroFederal ShippingZeroUnited PackageFifteenFederal ShippingTenFederal ShippingFifteenSpeedy ExpressTwenty FiveSpeedy ExpressTenSpeedy ExpressTenSpeedy ExpressFiveSpeedy ExpressZeroUnited PackageZeroUnited PackageFifteenUnited PackageTwentyUnited PackageTwenty FiveUnited PackageTwentySpeedy ExpressFifteenSpeedy ExpressTwenty FiveSpeedy ExpressFifteenSpeedy ExpressThirtySpeedy ExpressFiveSpeedy ExpressTwenty FiveFederal ShippingZeroFederal ShippingTwentyFederal ShippingZeroFederal ShippingThirtyFederal ShippingZeroFederal ShippingZeroSpeedy ExpressTenSpeedy ExpressFiveSpeedy ExpressFiveSpeedy ExpressZeroUnited PackageFifteenUnited PackageTwenty FiveUnited PackageFifteenSpeedy ExpressTwenty FiveSpeedy ExpressTwentyUnited PackageTenUnited PackageZeroUnited PackageZeroUnited PackageZeroFederal ShippingZeroFederal ShippingTwentyFederal ShippingZeroSpeedy ExpressTenSpeedy ExpressZeroSpeedy ExpressTwentySpeedy ExpressThirtySpeedy ExpressZeroUnited PackageThirtyUnited PackageTenUnited PackageZeroUnited PackageFiveSpeedy ExpressTwentyUnited PackageTenUnited PackageTwenty FiveUnited PackageZeroUnited PackageZeroUnited PackageTwentyUnited PackageFifteenUnited PackageZeroUnited PackageTwentyUnited PackageFiveUnited PackageTwenty FiveFederal ShippingThirtyFederal ShippingFiveFederal ShippingFiveFederal ShippingTwentyUnited PackageFifteenUnited PackageThirtyUnited PackageThirtyUnited PackageZeroUnited PackageZeroSpeedy ExpressTwenty FiveSpeedy ExpressThirtySpeedy ExpressFifteenFederal ShippingFiveFederal ShippingTwenty FiveFederal ShippingZeroFederal ShippingTwenty FiveUnited PackageFiveUnited PackageTwenty FiveUnited PackageThirtyUnited PackageZeroFederal ShippingTwenty FiveFederal ShippingFifteenUnited PackageZeroUnited PackageFiveUnited PackageFiveUnited PackageZeroUnited PackageFifteenUnited PackageZeroUnited PackageZeroUnited PackageFifteenSpeedy ExpressZeroSpeedy ExpressZeroSpeedy ExpressZeroUnited PackageZeroUnited PackageZeroUnited PackageZeroFederal ShippingZeroFederal ShippingFiveFederal ShippingTenFederal ShippingZeroFederal ShippingThirtyUnited PackageTwentyUnited PackageTwentySpeedy ExpressTwenty FiveSpeedy ExpressTwenty FiveSpeedy ExpressTwentyFederal ShippingZeroFederal ShippingFiveFederal ShippingZeroFederal ShippingZeroFederal ShippingTenFederal ShippingZeroFederal ShippingTenFederal ShippingTwenty FiveFederal ShippingZeroFederal ShippingZeroFederal ShippingTwenty FiveSpeedy ExpressZeroSpeedy ExpressTwentySpeedy ExpressThirtySpeedy ExpressThirtySpeedy ExpressThirtySpeedy ExpressFifteenSpeedy ExpressZeroSpeedy ExpressZeroFederal ShippingZeroSpeedy ExpressFifteenSpeedy ExpressThirtyUnited PackageTwenty FiveUnited PackageThirtyFederal ShippingFiveFederal ShippingTwenty FiveSpeedy ExpressZeroSpeedy ExpressFiveSpeedy ExpressZeroUnited PackageZeroUnited PackageTwenty FiveUnited PackageZeroSpeedy ExpressZeroSpeedy ExpressTwentyFederal ShippingTenFederal ShippingZeroFederal ShippingZeroFederal ShippingFifteenUnited PackageFiveUnited PackageFiveUnited PackageTwenty FiveUnited PackageZeroFederal ShippingZeroFederal ShippingZeroFederal ShippingFifteenFederal ShippingZeroFederal ShippingTenUnited PackageFiveUnited PackageTwenty FiveUnited PackageFifteenUnited PackageZeroSpeedy ExpressTenSpeedy ExpressZeroSpeedy ExpressZeroSpeedy ExpressFiveSpeedy ExpressTenUnited PackageTenSpeedy ExpressZeroSpeedy ExpressFifteenSpeedy ExpressZeroUnited PackageFiveUnited PackageTenUnited PackageZeroUnited PackageZeroUnited PackageThirtyUnited PackageZeroSpeedy ExpressFiveSpeedy ExpressThirtySpeedy ExpressZeroSpeedy ExpressFifteenUnited PackageTwentyUnited PackageThirtyUnited PackageThirtySpeedy ExpressZeroFederal ShippingFiveFederal ShippingTwentyUnited PackageFifteenUnited PackageThirtyUnited PackageZeroUnited PackageTenFederal ShippingZeroFederal ShippingThirtyFederal ShippingZeroUnited PackageTenUnited PackageZeroUnited PackageTwentyUnited PackageZeroUnited PackageZeroSpeedy ExpressFifteenSpeedy ExpressZeroUnited PackageTwentyUnited PackageTwentyUnited PackageThirtySpeedy ExpressTwentySpeedy ExpressTwenty FiveSpeedy ExpressZeroSpeedy ExpressTenSpeedy ExpressFiveSpeedy ExpressTwenty FiveSpeedy ExpressTenSpeedy ExpressZeroSpeedy ExpressZeroUnited PackageFifteenUnited PackageZeroSpeedy ExpressTenSpeedy ExpressZeroSpeedy ExpressTwenty FiveUnited PackageTwenty FiveUnited PackageZeroUnited PackageZeroUnited PackageTwentyUnited PackageZeroUnited PackageFiveUnited PackageFifteenFederal ShippingZeroFederal ShippingTwentyFederal ShippingZeroFederal ShippingTwentyFederal ShippingTenFederal ShippingTenFederal ShippingZeroSpeedy ExpressTenSpeedy ExpressTwentySpeedy ExpressZeroFederal ShippingFiveFederal ShippingFiveFederal ShippingThirtyUnited PackageTwentyUnited PackageTwentyUnited PackageTwenty FiveSpeedy ExpressTwenty FiveSpeedy ExpressThirtySpeedy ExpressZeroSpeedy ExpressZeroUnited PackageZeroUnited PackageTenUnited PackageZeroSpeedy ExpressZeroSpeedy ExpressZeroUnited PackageZeroUnited PackageZeroUnited PackageTwentyUnited PackageZeroUnited PackageZeroUnited PackageFifteenUnited PackageTenSpeedy ExpressThirtySpeedy ExpressFifteenUnited PackageTenUnited PackageZeroUnited PackageTwenty FiveUnited PackageFifteenUnited PackageZeroUnited PackageFiveFederal ShippingZeroFederal ShippingTenFederal ShippingFifteenFederal ShippingFiveFederal ShippingTenFederal ShippingZeroFederal ShippingThirtySpeedy ExpressZeroSpeedy ExpressZeroSpeedy ExpressZeroFederal ShippingZeroFederal ShippingZeroSpeedy ExpressFiveSpeedy ExpressFifteenSpeedy ExpressTwentySpeedy ExpressThirtySpeedy ExpressThirtySpeedy ExpressZeroSpeedy ExpressZeroSpeedy ExpressZeroSpeedy ExpressThirtyFederal ShippingZeroSpeedy ExpressTenSpeedy ExpressFifteenSpeedy ExpressFifteenSpeedy ExpressZeroFederal ShippingZeroFederal ShippingZeroFederal ShippingTwentySpeedy ExpressTwenty FiveSpeedy ExpressTwentyUnited PackageTwenty FiveUnited PackageZeroUnited PackageFiveSpeedy ExpressZeroSpeedy ExpressZeroSpeedy ExpressTwenty FiveUnited PackageTwentyUnited PackageTwenty FiveFederal ShippingTenFederal ShippingTwenty FiveFederal ShippingZeroFederal ShippingTwentyFederal ShippingTwentyFederal ShippingThirtyUnited PackageZeroUnited PackageTwentyFederal ShippingZeroFederal ShippingTenFederal ShippingZeroSpeedy ExpressFiveSpeedy ExpressZeroUnited PackageFiveUnited PackageTenUnited PackageZeroSpeedy ExpressZeroSpeedy ExpressThirtySpeedy ExpressZeroSpeedy ExpressZeroSpeedy ExpressFifteenSpeedy ExpressZeroFederal ShippingTwenty FiveFederal ShippingZeroFederal ShippingZeroFederal ShippingThirtyFederal ShippingTwentySpeedy ExpressZeroSpeedy ExpressZeroUnited PackageFiveUnited PackageTenUnited PackageTwenty FiveUnited PackageFiveUnited PackageTenUnited PackageFifteenFederal ShippingZeroFederal ShippingTenFederal ShippingTwentyFederal ShippingZeroUnited PackageZeroUnited PackageFifteenUnited PackageTenUnited PackageFifteenUnited PackageZeroFederal ShippingFifteenSpeedy ExpressTwenty FiveSpeedy ExpressTwentySpeedy ExpressFifteenSpeedy ExpressTwenty FiveSpeedy ExpressZeroUnited PackageZeroUnited PackageTwenty FiveFederal ShippingTenFederal ShippingTwenty FiveFederal ShippingTwentySpeedy ExpressZeroSpeedy ExpressThirtySpeedy ExpressZeroSpeedy ExpressThirtySpeedy ExpressZeroUnited PackageFifteenUnited PackageThirtyUnited PackageTwentyUnited PackageZeroFederal ShippingTenFederal ShippingFiveFederal ShippingThirtySpeedy ExpressTenSpeedy ExpressTwentySpeedy ExpressZeroSpeedy ExpressFiveSpeedy ExpressTenSpeedy ExpressTwentyFederal ShippingZeroFederal ShippingZeroFederal ShippingTwenty FiveFederal ShippingTwenty FiveFederal ShippingFifteenFederal ShippingTwentyUnited PackageTwenty FiveUnited PackageFifteenUnited PackageZeroUnited PackageTwenty FiveUnited PackageFiveUnited PackageTenSpeedy ExpressTenFederal ShippingTwentyFederal ShippingTwenty FiveUnited PackageZeroUnited PackageFifteenUnited PackageFifteenUnited PackageThirtyFederal ShippingTwenty FiveFederal ShippingTwenty FiveFederal ShippingZeroFederal ShippingZeroUnited PackageZeroSpeedy ExpressThirtySpeedy ExpressZeroSpeedy ExpressFifteenSpeedy ExpressZeroSpeedy ExpressZeroFederal ShippingFiveFederal ShippingZeroFederal ShippingZeroFederal ShippingFifteenSpeedy ExpressTwentySpeedy ExpressTenSpeedy ExpressFiveSpeedy ExpressFifteenSpeedy ExpressTwenty FiveSpeedy ExpressThirtySpeedy ExpressThirtyUnited PackageThirtyUnited PackageZeroUnited PackageTwentySpeedy ExpressZeroSpeedy ExpressFifteenSpeedy ExpressZeroFederal ShippingZeroFederal ShippingFifteenFederal ShippingThirtyFederal ShippingFiveFederal ShippingTenFederal ShippingFifteenSpeedy ExpressFifteenSpeedy ExpressFiveFederal ShippingThirtyUnited PackageZeroUnited PackageThirtyUnited PackageTwentyUnited PackageFifteenUnited PackageZeroUnited PackageTwentyUnited PackageFifteenUnited PackageFifteenSpeedy ExpressFifteenSpeedy ExpressZeroSpeedy ExpressZeroSpeedy ExpressThirtyFederal ShippingZeroFederal ShippingTwenty FiveFederal ShippingThirtyFederal ShippingTwenty FiveSpeedy ExpressThirtySpeedy ExpressThirtySpeedy ExpressTwenty FiveUnited PackageThirtyUnited PackageTwenty FiveSpeedy ExpressFiveSpeedy ExpressZeroSpeedy ExpressTenSpeedy ExpressThirtyFederal ShippingFiveFederal ShippingTwenty FiveFederal ShippingZeroFederal ShippingTwenty FiveFederal ShippingFiveFederal ShippingZeroSpeedy ExpressTwenty FiveSpeedy ExpressTenSpeedy ExpressFifteenFederal ShippingZeroUnited PackageTwenty FiveUnited PackageTwentyUnited PackageZeroUnited PackageZeroSpeedy ExpressTenSpeedy ExpressTwenty FiveSpeedy ExpressTwenty FiveSpeedy ExpressZeroFederal ShippingThirtyUnited PackageZeroUnited PackageZeroUnited PackageZeroFederal ShippingZeroFederal ShippingTwentyFederal ShippingTwenty FiveSpeedy ExpressTwentySpeedy ExpressTwentySpeedy ExpressZeroSpeedy ExpressTenFederal ShippingTwentyFederal ShippingZeroFederal ShippingFifteenFederal ShippingTenUnited PackageZeroSpeedy ExpressTenUnited PackageTenUnited PackageZeroSpeedy ExpressThirtySpeedy ExpressFifteenFederal ShippingTenFederal ShippingThirtyFederal ShippingFiveFederal ShippingTwentyUnited PackageTwentyUnited PackageFifteenFederal ShippingTwentyFederal ShippingFiveFederal ShippingZeroFederal ShippingZeroFederal ShippingTwenty FiveSpeedy ExpressZeroSpeedy ExpressFifteenSpeedy ExpressTwenty FiveSpeedy ExpressTwenty FiveSpeedy ExpressZeroUnited PackageFiveUnited PackageTwenty FiveUnited PackageZeroUnited PackageFifteenUnited PackageFiveUnited PackageFifteenSpeedy ExpressTenSpeedy ExpressThirtyUnited PackageZeroUnited PackageTenFederal ShippingTwenty FiveFederal ShippingTenFederal ShippingFifteenFederal ShippingTenFederal ShippingTwenty FiveSpeedy ExpressZeroSpeedy ExpressTenUnited PackageTenUnited PackageZeroSpeedy ExpressZeroSpeedy ExpressFifteenSpeedy ExpressThirtySpeedy ExpressFifteenUnited PackageThirtySpeedy ExpressZeroSpeedy ExpressZeroFederal ShippingFiveFederal ShippingZeroFederal ShippingZeroFederal ShippingThirtyFederal ShippingTenFederal ShippingTenUnited PackageZeroUnited PackageZeroUnited PackageFifteenUnited PackageTenUnited PackageTwentyUnited PackageZeroSpeedy ExpressFiveSpeedy ExpressThirtySpeedy ExpressZeroUnited PackageZeroUnited PackageZeroUnited PackageFifteenFederal ShippingFifteenFederal ShippingFifteenUnited PackageTwenty FiveUnited PackageZeroUnited PackageFiveSpeedy ExpressThirtyFederal ShippingThirtyFederal ShippingTwentySpeedy ExpressTwenty FiveFederal ShippingFiveFederal ShippingThirtyFederal ShippingThirtySpeedy ExpressFiveSpeedy ExpressTwenty FiveSpeedy ExpressThirtySpeedy ExpressTwentySpeedy ExpressZeroSpeedy ExpressFifteenSpeedy ExpressTwenty FiveSpeedy ExpressZeroFederal ShippingTenFederal ShippingTwenty FiveFederal ShippingTwenty FiveFederal ShippingTwenty FiveFederal ShippingTwentyUnited PackageFifteenUnited PackageZeroUnited PackageZeroUnited PackageFifteenUnited PackageThirtyUnited PackageZeroFederal ShippingTwenty FiveFederal ShippingTenFederal ShippingTwenty FiveFederal ShippingTwenty FiveUnited PackageThirtySpeedy ExpressFifteenSpeedy ExpressTenFederal ShippingZeroFederal ShippingThirtyUnited PackageThirtyUnited PackageTwentyUnited PackageZeroUnited PackageFifteenSpeedy ExpressTenSpeedy ExpressThirtySpeedy ExpressZeroSpeedy ExpressZeroSpeedy ExpressTwentySpeedy ExpressTwentyUnited PackageZeroUnited PackageFiveSpeedy ExpressZeroSpeedy ExpressFifteenSpeedy ExpressTwenty FiveSpeedy ExpressZeroSpeedy ExpressFiveSpeedy ExpressZeroUnited PackageTwenty FiveUnited PackageFiveUnited PackageZeroUnited PackageFifteenUnited PackageFiveUnited PackageFifteenUnited PackageFifteenUnited PackageTwenty FiveUnited PackageFiveUnited PackageThirtyUnited PackageFifteenUnited PackageThirtyUnited PackageTenUnited PackageTwentyUnited PackageZeroFederal ShippingZeroFederal ShippingFifteenFederal ShippingZeroFederal ShippingFifteenSpeedy ExpressTwenty FiveSpeedy ExpressFifteenSpeedy ExpressTwentySpeedy ExpressZeroSpeedy ExpressThirtyFederal ShippingFiveFederal ShippingThirtyFederal ShippingZeroFederal ShippingTwentyFederal ShippingTenFederal ShippingZeroFederal ShippingTwentyFederal ShippingTwentyFederal ShippingZeroUnited PackageThirtyUnited PackageFiveUnited PackageZeroUnited PackageThirtyUnited PackageZeroUnited PackageFifteenFederal ShippingThirtyFederal ShippingTwenty FiveFederal ShippingFifteenFederal ShippingThirtyUnited PackageTenUnited PackageTwenty FiveSpeedy ExpressTwenty FiveSpeedy ExpressFifteenSpeedy ExpressZeroSpeedy ExpressTwentySpeedy ExpressThirtyFederal ShippingZeroFederal ShippingThirtyFederal ShippingFiveFederal ShippingTenFederal ShippingFiveFederal ShippingTwenty FiveFederal ShippingFifteenFederal ShippingZeroFederal ShippingZeroUnited PackageZeroUnited PackageZeroUnited PackageTwenty FiveUnited PackageZeroSpeedy ExpressThirtySpeedy ExpressTwentySpeedy ExpressThirtySpeedy ExpressTwenty FiveSpeedy ExpressThirtySpeedy ExpressTwentySpeedy ExpressZeroSpeedy ExpressTwenty FiveSpeedy ExpressZeroSpeedy ExpressZeroUnited PackageZeroUnited PackageZeroUnited PackageFiveSpeedy ExpressTenSpeedy ExpressTwentySpeedy ExpressThirtySpeedy ExpressZeroUnited PackageTwenty FiveUnited PackageZeroUnited PackageTwenty FiveUnited PackageZeroUnited PackageZeroSpeedy ExpressTenSpeedy ExpressThirtySpeedy ExpressThirtyUnited PackageZeroUnited PackageTenUnited PackageThirtyFederal ShippingTenFederal ShippingTwentyUnited PackageZeroUnited PackageZeroUnited PackageFiveUnited PackageTwentyUnited PackageZeroUnited PackageThirtyUnited PackageTwenty FiveUnited PackageTenUnited PackageTwentyUnited PackageFifteenUnited PackageTenSpeedy ExpressFifteenSpeedy ExpressFiveSpeedy ExpressTwenty FiveSpeedy ExpressZeroSpeedy ExpressFifteenSpeedy ExpressZeroUnited PackageZeroUnited PackageFifteenUnited PackageFifteenSpeedy ExpressTenSpeedy ExpressThirtySpeedy ExpressTwenty FiveSpeedy ExpressFifteenFederal ShippingFifteenFederal ShippingTenUnited PackageTwenty FiveUnited PackageTenUnited PackageZeroUnited PackageTwentyUnited PackageZeroUnited PackageThirtyUnited PackageZeroSpeedy ExpressFiveSpeedy ExpressZeroUnited PackageZeroUnited PackageFiveUnited PackageZeroUnited PackageFifteenFederal ShippingZeroFederal ShippingThirtySpeedy ExpressTenSpeedy ExpressZeroSpeedy ExpressZeroFederal ShippingThirtyFederal ShippingZeroFederal ShippingTwentySpeedy ExpressTwenty FiveSpeedy ExpressTwenty FiveSpeedy ExpressThirtySpeedy ExpressFiveFederal ShippingZeroFederal ShippingFifteenFederal ShippingTenFederal ShippingZeroUnited PackageFiveUnited PackageThirtyUnited PackageZeroFederal ShippingTwenty FiveFederal ShippingZeroFederal ShippingThirtyFederal ShippingFifteenSpeedy ExpressZeroSpeedy ExpressTwentySpeedy ExpressFifteenFederal ShippingThirtyUnited PackageTwenty FiveUnited PackageFifteenFederal ShippingThirtyFederal ShippingFifteenSpeedy ExpressZeroSpeedy ExpressFifteenSpeedy ExpressTenUnited PackageFifteenUnited PackageZeroUnited PackageZeroUnited PackageZeroUnited PackageZeroUnited PackageFifteenUnited PackageTwentySpeedy ExpressFiveSpeedy ExpressFifteenSpeedy ExpressTwenty FiveSpeedy ExpressZeroSpeedy ExpressFiveSpeedy ExpressThirtySpeedy ExpressZeroFederal ShippingFifteenFederal ShippingThirtyUnited PackageZeroUnited PackageFifteenUnited PackageFiveFederal ShippingFiveUnited PackageThirtySpeedy ExpressTenSpeedy ExpressZeroSpeedy ExpressTwentySpeedy ExpressZeroFederal ShippingFiveFederal ShippingZeroFederal ShippingFifteenFederal ShippingTwentyFederal ShippingZeroUnited PackageTenFederal ShippingTwenty FiveFederal ShippingTwenty FiveUnited PackageTenUnited PackageTwenty FiveUnited PackageTenUnited PackageTenUnited PackageTenFederal ShippingFiveFederal ShippingFifteenFederal ShippingTwenty FiveSpeedy ExpressTenSpeedy ExpressZeroSpeedy ExpressTenUnited PackageThirtyUnited PackageZeroSpeedy ExpressZeroSpeedy ExpressTwentySpeedy ExpressTwentySpeedy ExpressZeroUnited PackageZeroUnited PackageTwentyUnited PackageTenUnited PackageTenUnited PackageTwenty FiveUnited PackageTwentyUnited PackageFifteenUnited PackageZeroFederal ShippingTenFederal ShippingZeroUnited PackageTenUnited PackageThirtyUnited PackageThirtyUnited PackageThirtySpeedy ExpressFifteenSpeedy ExpressFiveFederal ShippingZeroFederal ShippingZeroFederal ShippingZeroFederal ShippingTwenty FiveFederal ShippingTenUnited PackageZeroUnited PackageZeroUnited PackageTwenty FiveSpeedy ExpressTwentySpeedy ExpressTwenty FiveFederal ShippingThirtyFederal ShippingFiveFederal ShippingFiveFederal ShippingZeroSpeedy ExpressZeroSpeedy ExpressTwenty FiveSpeedy ExpressTwentySpeedy ExpressZeroSpeedy ExpressTwentySpeedy ExpressFiveSpeedy ExpressTwenty FiveSpeedy ExpressFifteenFederal ShippingFiveFederal ShippingThirtyFederal ShippingTwentyFederal ShippingTwentyUnited PackageFiveUnited PackageTwentySpeedy ExpressTenSpeedy ExpressZeroSpeedy ExpressZeroSpeedy ExpressTwenty FiveFederal ShippingZeroFederal ShippingTwenty FiveFederal ShippingTwenty FiveFederal ShippingTenFederal ShippingZeroFederal ShippingTwenty FiveUnited PackageTwentyFederal ShippingZeroFederal ShippingFifteenUnited PackageFiveUnited PackageTwenty FiveUnited PackageZeroUnited PackageZeroUnited PackageTwenty FiveUnited PackageTenFederal ShippingTenFederal ShippingFiveUnited PackageTwentyUnited PackageZeroUnited PackageFifteenUnited PackageZeroFederal ShippingFifteenUnited PackageFiveUnited PackageTwenty FiveUnited PackageZeroFederal ShippingThirtyFederal ShippingFifteenFederal ShippingThirtySpeedy ExpressFiveSpeedy ExpressTwentyUnited PackageZeroUnited PackageZeroUnited PackageFifteenUnited PackageZeroFederal ShippingThirtyFederal ShippingTenFederal ShippingTwentyFederal ShippingTwenty FiveFederal ShippingZeroFederal ShippingZeroFederal ShippingZeroUnited PackageZeroUnited PackageTwentyUnited PackageTenUnited PackageTwenty FiveSpeedy ExpressTwenty FiveSpeedy ExpressZeroUnited PackageZeroUnited PackageTwentySpeedy ExpressTenSpeedy ExpressTwentySpeedy ExpressFifteenSpeedy ExpressZeroUnited PackageTwenty FiveUnited PackageFiveUnited PackageZeroUnited PackageTenFederal ShippingFifteenFederal ShippingFifteenFederal ShippingThirtyUnited PackageZeroUnited PackageTenUnited PackageZeroUnited PackageTwenty FiveSpeedy ExpressZeroSpeedy ExpressTenSpeedy ExpressTwenty FiveSpeedy ExpressTwentyUnited PackageTenUnited PackageFiveUnited PackageZeroUnited PackageFifteenUnited PackageTwentyFederal ShippingZeroUnited PackageZeroUnited PackageFifteenUnited PackageFifteenFederal ShippingTenSpeedy ExpressTwenty FiveSpeedy ExpressThirtySpeedy ExpressZeroUnited PackageFiveUnited PackageFifteenFederal ShippingZeroFederal ShippingZeroFederal ShippingThirtyUnited PackageZeroSpeedy ExpressTwenty FiveUnited PackageZeroUnited PackageZeroUnited PackageTwentyUnited PackageZeroUnited PackageTenUnited PackageTwenty FiveFederal ShippingFiveFederal ShippingZeroFederal ShippingTwenty FiveSpeedy ExpressZeroFederal ShippingFiveFederal ShippingZeroFederal ShippingTenFederal ShippingFiveUnited PackageZeroUnited PackageFiveUnited PackageThirtyUnited PackageFifteenUnited PackageTenUnited PackageZeroUnited PackageZeroUnited PackageThirtyUnited PackageTwentyUnited PackageFiveSpeedy ExpressTwenty FiveUnited PackageFifteenSpeedy ExpressTenSpeedy ExpressTwenty FiveUnited PackageFiveUnited PackageTwentyFederal ShippingTenFederal ShippingZeroFederal ShippingTwentySpeedy ExpressTenSpeedy ExpressZeroSpeedy ExpressTwenty FiveUnited PackageThirtyUnited PackageZeroUnited PackageTwentyUnited PackageFifteenSpeedy ExpressTenSpeedy ExpressTwenty FiveSpeedy ExpressZeroUnited PackageTenUnited PackageZeroSpeedy ExpressTwenty FiveSpeedy ExpressThirtySpeedy ExpressTenFederal ShippingFiveFederal ShippingFifteenFederal ShippingTwentyFederal ShippingTwenty FiveSpeedy ExpressTwenty FiveSpeedy ExpressThirtySpeedy ExpressTwentyFederal ShippingZeroFederal ShippingZeroFederal ShippingTenFederal ShippingZeroFederal ShippingTenFederal ShippingZeroUnited PackageZeroUnited PackageTwenty FiveUnited PackageZeroUnited PackageTwenty FiveUnited PackageZeroUnited PackageTwenty FiveUnited PackageFiveUnited PackageTwenty FiveUnited PackageTenUnited PackageTenUnited PackageFifteenFederal ShippingZeroFederal ShippingZeroFederal ShippingFifteenUnited PackageTenUnited PackageTwenty FiveUnited PackageZeroUnited PackageTwentySpeedy ExpressFiveSpeedy ExpressFifteenSpeedy ExpressZeroSpeedy ExpressTwentyFederal ShippingTenFederal ShippingThirtyFederal ShippingTwenty FiveSpeedy ExpressZeroSpeedy ExpressTwentySpeedy ExpressTenSpeedy ExpressZeroUnited PackageTenUnited PackageZeroUnited PackageZeroUnited PackageZeroUnited PackageZeroFederal ShippingZeroFederal ShippingFifteenFederal ShippingZeroSpeedy ExpressZeroSpeedy ExpressTwentySpeedy ExpressZeroUnited PackageTenUnited PackageZeroSpeedy ExpressTwentySpeedy ExpressZeroFederal ShippingFiveFederal ShippingZeroFederal ShippingZeroSpeedy ExpressTwenty FiveSpeedy ExpressZeroSpeedy ExpressFifteenSpeedy ExpressFifteenFederal ShippingTenUnited PackageFifteenUnited PackageFifteenUnited PackageTwentyUnited PackageTwentyUnited PackageTwenty FiveUnited PackageZeroUnited PackageThirtyUnited PackageZeroUnited PackageZeroUnited PackageThirtyFederal ShippingZeroFederal ShippingFifteenUnited PackageZeroSpeedy ExpressTwenty FiveSpeedy ExpressZeroSpeedy ExpressZeroSpeedy ExpressTenSpeedy ExpressZeroUnited PackageFiveUnited PackageFifteenUnited PackageTenUnited PackageTwenty FiveSpeedy ExpressZeroSpeedy ExpressTwentySpeedy ExpressZeroSpeedy ExpressZeroFederal ShippingTenFederal ShippingFiveSpeedy ExpressZeroSpeedy ExpressTenSpeedy ExpressZeroSpeedy ExpressZeroSpeedy ExpressTwentySpeedy ExpressZeroSpeedy ExpressThirtySpeedy ExpressFiveUnited PackageTwenty FiveUnited PackageZeroUnited PackageZeroUnited PackageZeroUnited PackageTenUnited PackageFiveUnited PackageZeroUnited PackageThirtyUnited PackageZeroFederal ShippingTwentyFederal ShippingFifteenFederal ShippingZeroFederal ShippingZeroFederal ShippingFifteenSpeedy ExpressFiveSpeedy ExpressFifteenSpeedy ExpressTwenty FiveUnited PackageTenUnited PackageFifteenUnited PackageZeroUnited PackageTenFederal ShippingFiveFederal ShippingZeroSpeedy ExpressThirtyUnited PackageThirtyUnited PackageTwenty FiveUnited PackageZeroUnited PackageZeroUnited PackageFifteenUnited PackageFifteenUnited PackageTwentyFederal ShippingFiveUnited PackageTwenty FiveUnited PackageFiveSpeedy ExpressFifteenSpeedy ExpressTwenty FiveUnited PackageThirtySpeedy ExpressZeroUnited PackageTwentyUnited PackageTenUnited PackageZeroUnited PackageTwenty FiveUnited PackageFifteenFederal ShippingTenFederal ShippingZeroFederal ShippingFifteenSpeedy ExpressTwenty FiveSpeedy ExpressZeroUnited PackageTwentyFederal ShippingZeroSpeedy ExpressTwenty FiveSpeedy ExpressTwenty FiveUnited PackageZeroUnited PackageTwenty FiveUnited PackageThirtySpeedy ExpressTwentySpeedy ExpressTenUnited PackageZeroUnited PackageThirtyUnited PackageTenUnited PackageTwentyUnited PackageTenUnited PackageTwentyUnited PackageZeroFederal ShippingThirtyFederal ShippingFiveFederal ShippingZeroFederal ShippingTwenty FiveUnited PackageFiveUnited PackageZeroUnited PackageZeroUnited PackageZeroUnited PackageFifteenFederal ShippingZeroUnited PackageZeroUnited PackageThirtyUnited PackageFifteenUnited PackageThirtyUnited PackageTenSpeedy ExpressZeroSpeedy ExpressTenSpeedy ExpressZeroSpeedy ExpressTwentySpeedy ExpressFifteenSpeedy ExpressFifteenSpeedy ExpressTenUnited PackageTenUnited PackageFiveUnited PackageFifteenUnited PackageTenUnited PackageZeroUnited PackageTwenty FiveUnited PackageFifteenUnited PackageFiveSpeedy ExpressTenSpeedy ExpressTwenty FiveSpeedy ExpressTenSpeedy ExpressTwentySpeedy ExpressTenSpeedy ExpressFiveUnited PackageTwenty FiveUnited PackageTenUnited PackageThirtyUnited PackageThirtyUnited PackageThirtyUnited PackageZeroUnited PackageTenUnited PackageTwenty FiveUnited PackageZeroUnited PackageTwentyUnited PackageTwenty FiveUnited PackageZeroUnited PackageFiveUnited PackageTwenty FiveUnited PackageTwenty FiveUnited PackageZeroUnited PackageTwenty FiveUnited PackageTenUnited PackageZeroUnited PackageZeroUnited PackageZeroUnited PackageFiveUnited PackageZeroUnited PackageTenUnited PackageZeroUnited PackageTwenty FiveUnited PackageTwenty FiveUnited PackageFiveUnited PackageTenUnited PackageZeroUnited PackageTwenty FiveUnited PackageTwentyUnited PackageZeroUnited PackageThirtyUnited PackageTwentyUnited PackageFiveUnited PackageTwenty FiveUnited PackageFifteen to numeric",
      "\nDuring handling of the above exception, another exception occurred:\n",
      "\u001b[1;31mValueError\u001b[0m                                Traceback (most recent call last)",
      "\u001b[1;32m~\\Anaconda3\\envs\\learn-env\\lib\\site-packages\\pandas\\core\\nanops.py\u001b[0m in \u001b[0;36m_ensure_numeric\u001b[1;34m(x)\u001b[0m\n\u001b[0;32m   1303\u001b[0m         \u001b[1;32mtry\u001b[0m\u001b[1;33m:\u001b[0m\u001b[1;33m\u001b[0m\u001b[1;33m\u001b[0m\u001b[0m\n\u001b[1;32m-> 1304\u001b[1;33m             \u001b[0mx\u001b[0m \u001b[1;33m=\u001b[0m \u001b[0mfloat\u001b[0m\u001b[1;33m(\u001b[0m\u001b[0mx\u001b[0m\u001b[1;33m)\u001b[0m\u001b[1;33m\u001b[0m\u001b[1;33m\u001b[0m\u001b[0m\n\u001b[0m\u001b[0;32m   1305\u001b[0m         \u001b[1;32mexcept\u001b[0m \u001b[0mException\u001b[0m\u001b[1;33m:\u001b[0m\u001b[1;33m\u001b[0m\u001b[1;33m\u001b[0m\u001b[0m\n",
      "\u001b[1;31mValueError\u001b[0m: could not convert string to float: 'Federal ShippingThirtyFederal ShippingZeroFederal ShippingZeroSpeedy ExpressZeroSpeedy ExpressTenUnited PackageTenUnited PackageTenUnited PackageZeroSpeedy ExpressTwenty FiveSpeedy ExpressTwentySpeedy ExpressZeroUnited PackageZeroUnited PackageTwentyUnited PackageZeroUnited PackageTwentyUnited PackageFiveUnited PackageFifteenUnited PackageZeroUnited PackageTwentyUnited PackageFiveFederal ShippingTwenty FiveFederal ShippingTenFederal ShippingTwentyFederal ShippingZeroUnited PackageZeroUnited PackageFifteenFederal ShippingThirtyFederal ShippingFiveFederal ShippingFifteenSpeedy ExpressTwenty FiveSpeedy ExpressZeroSpeedy ExpressTwenty FiveFederal ShippingFiveFederal ShippingTwenty FiveSpeedy ExpressTenSpeedy ExpressTwentySpeedy ExpressZeroSpeedy ExpressThirtyUnited PackageFiveUnited PackageFifteenFederal ShippingZeroFederal ShippingTenFederal ShippingThirtyFederal ShippingTenFederal ShippingZeroFederal ShippingFifteenFederal ShippingFiveFederal ShippingTwenty FiveFederal ShippingTenSpeedy ExpressZeroSpeedy ExpressThirtyFederal ShippingZeroSpeedy ExpressThirtySpeedy ExpressZeroSpeedy ExpressTwentyFederal ShippingZeroFederal ShippingZeroSpeedy ExpressTwentySpeedy ExpressZeroSpeedy ExpressTwentySpeedy ExpressTwenty FiveUnited PackageTwentyUnited PackageZeroUnited PackageTwentyUnited PackageZeroFederal ShippingZeroFederal ShippingTwentyFederal ShippingTwentyFederal ShippingThirtyFederal ShippingTwentySpeedy ExpressZeroSpeedy ExpressZeroSpeedy ExpressZeroSpeedy ExpressZeroFederal ShippingZeroFederal ShippingFiveFederal ShippingZeroFederal ShippingZeroUnited PackageFifteenUnited PackageZeroUnited PackageFiveUnited PackageFiveUnited PackageZeroSpeedy ExpressZeroSpeedy ExpressTwentySpeedy ExpressTwenty FiveSpeedy ExpressFiveSpeedy ExpressZeroSpeedy ExpressFifteenSpeedy ExpressFifteenSpeedy ExpressTwentyFederal ShippingFiveFederal ShippingFiveFederal ShippingZeroFederal ShippingZeroSpeedy ExpressThirtySpeedy ExpressFifteenSpeedy ExpressZeroSpeedy ExpressTenUnited PackageTenUnited PackageThirtyUnited PackageZeroFederal ShippingFifteenFederal ShippingZeroFederal ShippingTenFederal ShippingFifteenFederal ShippingZeroSpeedy ExpressTenSpeedy ExpressFifteenFederal ShippingTwenty FiveFederal ShippingThirtySpeedy ExpressZeroSpeedy ExpressZeroSpeedy ExpressFifteenSpeedy ExpressFifteenUnited PackageFiveUnited PackageFifteenUnited PackageTenUnited PackageZeroFederal ShippingZeroFederal ShippingZeroFederal ShippingFiveFederal ShippingTwenty FiveUnited PackageTenUnited PackageZeroUnited PackageTwenty FiveUnited PackageZeroUnited PackageTwenty FiveUnited PackageThirtySpeedy ExpressThirtySpeedy ExpressTenSpeedy ExpressFifteenUnited PackageFiveUnited PackageZeroUnited PackageTwenty FiveUnited PackageTwentyUnited PackageZeroUnited PackageZeroUnited PackageFiveUnited PackageThirtyUnited PackageTwentyUnited PackageFifteenUnited PackageThirtyUnited PackageThirtyUnited PackageZeroUnited PackageZeroUnited PackageTwenty FiveUnited PackageThirtyUnited PackageZeroUnited PackageFifteenUnited PackageFifteenUnited PackageZeroUnited PackageZeroFederal ShippingZeroFederal ShippingZeroFederal ShippingFiveFederal ShippingFifteenFederal ShippingZeroFederal ShippingTenUnited PackageZeroUnited PackageFifteenFederal ShippingFifteenFederal ShippingThirtySpeedy ExpressZeroSpeedy ExpressTwenty FiveSpeedy ExpressZeroSpeedy ExpressTwenty FiveSpeedy ExpressZeroUnited PackageTenUnited PackageZeroFederal ShippingZeroFederal ShippingFifteenUnited PackageZeroUnited PackageTwenty FiveUnited PackageZeroUnited PackageTwenty FiveUnited PackageTwentyUnited PackageTwenty FiveUnited PackageTwentyUnited PackageZeroUnited PackageFifteenUnited PackageThirtyFederal ShippingTenFederal ShippingZeroSpeedy ExpressTenUnited PackageTenUnited PackageTwentyFederal ShippingZeroFederal ShippingZeroFederal ShippingTwentyFederal ShippingZeroUnited PackageFifteenFederal ShippingTwenty FiveSpeedy ExpressFiveSpeedy ExpressThirtySpeedy ExpressFiveSpeedy ExpressTenSpeedy ExpressFifteenSpeedy ExpressZeroSpeedy ExpressZeroSpeedy ExpressFiveFederal ShippingTwenty FiveFederal ShippingFiveFederal ShippingZeroFederal ShippingTwentyFederal ShippingZeroUnited PackageZeroUnited PackageTwentyUnited PackageTwenty FiveSpeedy ExpressTwenty FiveSpeedy ExpressThirtySpeedy ExpressFifteenSpeedy ExpressTwentyFederal ShippingZeroFederal ShippingZeroFederal ShippingFifteenUnited PackageFiveUnited PackageFifteenUnited PackageFifteenUnited PackageThirtySpeedy ExpressZeroSpeedy ExpressZeroSpeedy ExpressTenUnited PackageZeroUnited PackageZeroUnited PackageZeroFederal ShippingZeroFederal ShippingFiveFederal ShippingZeroUnited PackageTwenty FiveUnited PackageFifteenUnited PackageTwenty FiveUnited PackageTwentyUnited PackageTwenty FiveUnited PackageTenUnited PackageZeroFederal ShippingTwenty FiveFederal ShippingZeroFederal ShippingTwentyFederal ShippingTwenty FiveFederal ShippingZeroFederal ShippingZeroFederal ShippingFifteenUnited PackageZeroUnited PackageZeroUnited PackageZeroFederal ShippingZeroFederal ShippingTenFederal ShippingTwenty FiveFederal ShippingTwentyFederal ShippingZeroUnited PackageTwenty FiveUnited PackageTwentyUnited PackageTwentyUnited PackageTwentySpeedy ExpressThirtySpeedy ExpressFifteenSpeedy ExpressTwentyUnited PackageZeroUnited PackageZeroUnited PackageZeroUnited PackageFiveUnited PackageZeroFederal ShippingZeroFederal ShippingThirtyFederal ShippingThirtyFederal ShippingFiveFederal ShippingThirtyFederal ShippingTwenty FiveUnited PackageTenUnited PackageTwenty FiveSpeedy ExpressTenUnited PackageThirtyUnited PackageFifteenSpeedy ExpressFifteenSpeedy ExpressTenSpeedy ExpressFifteenSpeedy ExpressZeroFederal ShippingZeroFederal ShippingTenFederal ShippingThirtyFederal ShippingFifteenFederal ShippingTenFederal ShippingZeroSpeedy ExpressZeroSpeedy ExpressTwentyUnited PackageTwentyUnited PackageTwentyUnited PackageFifteenFederal ShippingZeroFederal ShippingZeroFederal ShippingZeroSpeedy ExpressZeroSpeedy ExpressFifteenSpeedy ExpressTwentyFederal ShippingTenFederal ShippingTwentyFederal ShippingZeroFederal ShippingZeroFederal ShippingZeroFederal ShippingFifteenFederal ShippingFifteenFederal ShippingTenUnited PackageFiveUnited PackageZeroSpeedy ExpressThirtySpeedy ExpressTenSpeedy ExpressTenFederal ShippingTwentyFederal ShippingTwenty FiveFederal ShippingTwentySpeedy ExpressFifteenSpeedy ExpressZeroUnited PackageThirtyUnited PackageZeroUnited PackageFifteenFederal ShippingFifteenFederal ShippingTenFederal ShippingZeroFederal ShippingFifteenUnited PackageFiveUnited PackageZeroUnited PackageTwentyUnited PackageThirtyUnited PackageZeroUnited PackageThirtyUnited PackageTenUnited PackageThirtyUnited PackageFiveSpeedy ExpressTwentyUnited PackageZeroUnited PackageFifteenUnited PackageZeroUnited PackageZeroFederal ShippingTwentyFederal ShippingZeroFederal ShippingTwentyFederal ShippingTwentyUnited PackageZeroUnited PackageTenUnited PackageTwentyFederal ShippingZeroFederal ShippingFiveFederal ShippingZeroSpeedy ExpressTenSpeedy ExpressFiveSpeedy ExpressZeroFederal ShippingFifteenFederal ShippingZeroFederal ShippingZeroFederal ShippingThirtyFederal ShippingFiveSpeedy ExpressZeroSpeedy ExpressZeroSpeedy ExpressZeroSpeedy ExpressTwentySpeedy ExpressFiveFederal ShippingFiveFederal ShippingThirtyFederal ShippingThirtyFederal ShippingZeroFederal ShippingZeroUnited PackageTenUnited PackageZeroUnited PackageFifteenFederal ShippingZeroFederal ShippingFifteenUnited PackageZeroUnited PackageZeroUnited PackageZeroUnited PackageZeroSpeedy ExpressFifteenSpeedy ExpressTwenty FiveSpeedy ExpressZeroUnited PackageZeroUnited PackageTwentyUnited PackageZeroUnited PackageThirtySpeedy ExpressTwentySpeedy ExpressFifteenSpeedy ExpressZeroSpeedy ExpressZeroFederal ShippingFiveFederal ShippingFifteenFederal ShippingTwenty FiveFederal ShippingZeroFederal ShippingThirtyFederal ShippingZeroFederal ShippingTwentyFederal ShippingFiveFederal ShippingZeroSpeedy ExpressZeroSpeedy ExpressZeroSpeedy ExpressFifteenFederal ShippingTwenty FiveFederal ShippingZeroFederal ShippingZeroSpeedy ExpressFiveSpeedy ExpressTenFederal ShippingFifteenFederal ShippingTwentyFederal ShippingFifteenFederal ShippingZeroFederal ShippingTwentyFederal ShippingFifteenFederal ShippingZeroFederal ShippingFifteenFederal ShippingFifteenSpeedy ExpressFifteenSpeedy ExpressThirtySpeedy ExpressZeroSpeedy ExpressZeroUnited PackageTwenty FiveUnited PackageFiveFederal ShippingTenFederal ShippingTwenty FiveSpeedy ExpressZeroSpeedy ExpressZeroSpeedy ExpressFifteenSpeedy ExpressTwenty FiveSpeedy ExpressTenSpeedy ExpressFiveSpeedy ExpressZeroSpeedy ExpressTwentySpeedy ExpressThirtyUnited PackageThirtyUnited PackageFifteenUnited PackageZeroSpeedy ExpressTwenty FiveSpeedy ExpressTenSpeedy ExpressZeroSpeedy ExpressZeroSpeedy ExpressFiveFederal ShippingTwentyFederal ShippingZeroFederal ShippingTenFederal ShippingFifteenFederal ShippingZeroUnited PackageZeroUnited PackageTenUnited PackageZeroUnited PackageTwentyFederal ShippingFiveFederal ShippingTwentySpeedy ExpressZeroSpeedy ExpressTwentyFederal ShippingFiveFederal ShippingZeroFederal ShippingTwentyFederal ShippingFifteenFederal ShippingZeroFederal ShippingFifteenFederal ShippingFifteenSpeedy ExpressTwenty FiveSpeedy ExpressZeroSpeedy ExpressTwenty FiveSpeedy ExpressFiveUnited PackageZeroUnited PackageFifteenSpeedy ExpressZeroSpeedy ExpressFiveSpeedy ExpressThirtySpeedy ExpressFiveSpeedy ExpressFiveSpeedy ExpressZeroSpeedy ExpressZeroSpeedy ExpressFifteenSpeedy ExpressZeroFederal ShippingTwentyFederal ShippingZeroUnited PackageFifteenUnited PackageFifteenUnited PackageFifteenUnited PackageTwentyUnited PackageTwentySpeedy ExpressThirtySpeedy ExpressThirtyUnited PackageZeroSpeedy ExpressZeroUnited PackageThirtyUnited PackageFiveSpeedy ExpressZeroSpeedy ExpressFiveSpeedy ExpressThirtySpeedy ExpressZeroUnited PackageZeroUnited PackageThirtyUnited PackageZeroUnited PackageZeroUnited PackageTenFederal ShippingThirtyUnited PackageThirtyUnited PackageTwentyUnited PackageTwenty FiveUnited PackageTwenty FiveUnited PackageZeroUnited PackageZeroUnited PackageThirtyUnited PackageThirtyUnited PackageTwenty FiveSpeedy ExpressZeroUnited PackageFiveUnited PackageFifteenUnited PackageTwentyFederal ShippingZeroFederal ShippingTenFederal ShippingThirtyFederal ShippingFiveUnited PackageTwenty FiveUnited PackageTenUnited PackageZeroUnited PackageTwenty FiveUnited PackageThirtyUnited PackageThirtyUnited PackageTenUnited PackageTwentySpeedy ExpressThirtySpeedy ExpressZeroFederal ShippingZeroFederal ShippingZeroFederal ShippingFifteenFederal ShippingTenSpeedy ExpressFiveSpeedy ExpressTenSpeedy ExpressFiveSpeedy ExpressZeroSpeedy ExpressTwentySpeedy ExpressTwenty FiveUnited PackageFiveUnited PackageZeroUnited PackageZeroUnited PackageZeroUnited PackageThirtyUnited PackageZeroUnited PackageTwenty FiveUnited PackageZeroUnited PackageZeroUnited PackageTenFederal ShippingTwentyFederal ShippingThirtyFederal ShippingZeroFederal ShippingFifteenSpeedy ExpressZeroSpeedy ExpressFifteenUnited PackageTwenty FiveUnited PackageThirtyFederal ShippingTenFederal ShippingTwentyFederal ShippingZeroUnited PackageFiveUnited PackageZeroUnited PackageTwenty FiveUnited PackageZeroUnited PackageFiveUnited PackageFifteenSpeedy ExpressZeroFederal ShippingZeroFederal ShippingZeroFederal ShippingTwenty FiveFederal ShippingThirtyFederal ShippingZeroUnited PackageTenUnited PackageZeroUnited PackageZeroSpeedy ExpressFifteenSpeedy ExpressTwenty FiveFederal ShippingFiveFederal ShippingFifteenFederal ShippingTwentySpeedy ExpressFiveSpeedy ExpressTwenty FiveFederal ShippingFiveFederal ShippingZeroUnited PackageZeroUnited PackageTwenty FiveUnited PackageThirtyUnited PackageZeroFederal ShippingZeroFederal ShippingZeroFederal ShippingThirtyFederal ShippingFifteenFederal ShippingThirtySpeedy ExpressThirtySpeedy ExpressZeroUnited PackageZeroUnited PackageThirtyFederal ShippingFifteenFederal ShippingTwenty FiveSpeedy ExpressTwenty FiveSpeedy ExpressTenSpeedy ExpressFifteenUnited PackageZeroUnited PackageTwenty FiveUnited PackageThirtyFederal ShippingTenFederal ShippingThirtySpeedy ExpressZeroSpeedy ExpressTenFederal ShippingTwentyFederal ShippingZeroUnited PackageZeroUnited PackageZeroUnited PackageThirtyUnited PackageTwenty FiveSpeedy ExpressTwentySpeedy ExpressTwentySpeedy ExpressTwentyFederal ShippingTwentyFederal ShippingThirtyUnited PackageTenUnited PackageFiveUnited PackageFiveFederal ShippingZeroFederal ShippingFifteenFederal ShippingZeroFederal ShippingZeroFederal ShippingThirtyUnited PackageZeroUnited PackageZeroUnited PackageFifteenUnited PackageZeroFederal ShippingThirtyUnited PackageFifteenUnited PackageFifteenFederal ShippingFiveFederal ShippingThirtyFederal ShippingTenUnited PackageTwenty FiveUnited PackageTwenty FiveUnited PackageTwentyUnited PackageThirtyUnited PackageThirtyUnited PackageTenUnited PackageFiveUnited PackageFiveUnited PackageZeroUnited PackageTenUnited PackageZeroUnited PackageFiveUnited PackageThirtyUnited PackageTenUnited PackageZeroUnited PackageFifteenUnited PackageTwenty FiveFederal ShippingFifteenFederal ShippingFifteenSpeedy ExpressThirtySpeedy ExpressZeroFederal ShippingZeroFederal ShippingTwentyFederal ShippingFifteenUnited PackageThirtyFederal ShippingTwenty FiveFederal ShippingTenFederal ShippingFifteenUnited PackageTwentySpeedy ExpressThirtySpeedy ExpressZeroSpeedy ExpressFifteenUnited PackageZeroUnited PackageThirtyUnited PackageZeroUnited PackageZeroUnited PackageFifteenSpeedy ExpressFiveSpeedy ExpressZeroFederal ShippingTenSpeedy ExpressFifteenSpeedy ExpressZeroSpeedy ExpressTenUnited PackageZeroUnited PackageZeroFederal ShippingTwenty FiveFederal ShippingFiveFederal ShippingZeroFederal ShippingTwenty FiveFederal ShippingZeroUnited PackageThirtyUnited PackageThirtySpeedy ExpressTwenty FiveSpeedy ExpressTwenty FiveUnited PackageFiveUnited PackageFiveSpeedy ExpressZeroFederal ShippingZeroFederal ShippingTwenty FiveFederal ShippingZeroFederal ShippingTenFederal ShippingZeroUnited PackageZeroUnited PackageZeroUnited PackageZeroUnited PackageZeroSpeedy ExpressFiveSpeedy ExpressTwenty FiveSpeedy ExpressTwenty FiveUnited PackageZeroUnited PackageZeroUnited PackageThirtyUnited PackageZeroUnited PackageTwenty FiveSpeedy ExpressZeroSpeedy ExpressTenSpeedy ExpressThirtySpeedy ExpressTwentySpeedy ExpressZeroFederal ShippingZeroFederal ShippingTenFederal ShippingZeroFederal ShippingTwenty FiveFederal ShippingZeroFederal ShippingThirtyUnited PackageZeroUnited PackageFifteenUnited PackageFifteenFederal ShippingZeroFederal ShippingThirtyFederal ShippingZeroSpeedy ExpressZeroSpeedy ExpressZeroUnited PackageFifteenUnited PackageTenUnited PackageFifteenSpeedy ExpressTenSpeedy ExpressZeroSpeedy ExpressFifteenSpeedy ExpressThirtyUnited PackageZeroUnited PackageZeroUnited PackageTwenty FiveUnited PackageTenUnited PackageZeroUnited PackageFifteenUnited PackageTwenty FiveUnited PackageTenUnited PackageTwentyUnited PackageThirtyUnited PackageTenUnited PackageFiveUnited PackageThirtySpeedy ExpressZeroSpeedy ExpressTwentyUnited PackageThirtyUnited PackageTwentyUnited PackageZeroUnited PackageTwentyUnited PackageFifteenUnited PackageFifteenUnited PackageZeroUnited PackageTwenty FiveUnited PackageTwenty FiveUnited PackageTwentySpeedy ExpressZeroFederal ShippingFifteenFederal ShippingTwentySpeedy ExpressZeroSpeedy ExpressZeroSpeedy ExpressFiveUnited PackageFifteenUnited PackageThirtyUnited PackageTenSpeedy ExpressThirtySpeedy ExpressThirtySpeedy ExpressTwentySpeedy ExpressZeroUnited PackageZeroUnited PackageTwentyUnited PackageTwentyUnited PackageZeroSpeedy ExpressTwentySpeedy ExpressTenSpeedy ExpressTwentySpeedy ExpressZeroSpeedy ExpressFiveFederal ShippingThirtyFederal ShippingZeroFederal ShippingFiveFederal ShippingFiveFederal ShippingTwentyFederal ShippingFifteenFederal ShippingTwenty FiveFederal ShippingZeroFederal ShippingFifteenFederal ShippingFifteenSpeedy ExpressZeroSpeedy ExpressFifteenSpeedy ExpressZeroSpeedy ExpressZeroFederal ShippingThirtyFederal ShippingTenUnited PackageZeroUnited PackageTwenty FiveSpeedy ExpressZeroSpeedy ExpressTenUnited PackageThirtyFederal ShippingTenFederal ShippingFifteenFederal ShippingZeroUnited PackageTwenty FiveUnited PackageTwentyUnited PackageFifteenUnited PackageTenSpeedy ExpressTwentySpeedy ExpressFifteenSpeedy ExpressTenFederal ShippingZeroFederal ShippingFiveFederal ShippingFiveFederal ShippingTwenty FiveFederal ShippingTenFederal ShippingFifteenFederal ShippingFifteenSpeedy ExpressFifteenSpeedy ExpressTwenty FiveUnited PackageThirtyUnited PackageTenUnited PackageTwenty FiveUnited PackageTwentyUnited PackageFifteenFederal ShippingTenFederal ShippingTwenty FiveFederal ShippingZeroFederal ShippingFifteenFederal ShippingZeroFederal ShippingFiveFederal ShippingZeroFederal ShippingTenFederal ShippingThirtySpeedy ExpressZeroUnited PackageThirtyUnited PackageTwenty FiveUnited PackageZeroUnited PackageTenUnited PackageTwenty FiveUnited PackageZeroUnited PackageFiveSpeedy ExpressTenSpeedy ExpressTwentySpeedy ExpressFifteenSpeedy ExpressZeroUnited PackageFifteenUnited PackageTenSpeedy ExpressTwentySpeedy ExpressZeroUnited PackageTwentyUnited PackageTwenty FiveFederal ShippingZeroFederal ShippingTwentyFederal ShippingTwentyUnited PackageZeroUnited PackageThirtySpeedy ExpressThirtySpeedy ExpressZeroSpeedy ExpressTwentySpeedy ExpressTwentySpeedy ExpressTenSpeedy ExpressZeroFederal ShippingZeroSpeedy ExpressTwentySpeedy ExpressTwentyFederal ShippingThirtyFederal ShippingThirtyFederal ShippingZeroFederal ShippingZeroUnited PackageTenUnited PackageTwenty FiveUnited PackageThirtyUnited PackageTwenty FiveFederal ShippingZeroFederal ShippingFifteenFederal ShippingZeroUnited PackageTwentyUnited PackageThirtyUnited PackageZeroUnited PackageThirtySpeedy ExpressZeroSpeedy ExpressFiveSpeedy ExpressZeroSpeedy ExpressTwentyFederal ShippingTenFederal ShippingTwentyFederal ShippingFifteenUnited PackageFiveUnited PackageTwenty FiveUnited PackageFifteenFederal ShippingFifteenFederal ShippingTwentyUnited PackageFiveUnited PackageTwenty FiveFederal ShippingZeroFederal ShippingTenFederal ShippingZeroSpeedy ExpressTwenty FiveUnited PackageTwentyUnited PackageTwentyUnited PackageZeroUnited PackageZeroUnited PackageFifteenSpeedy ExpressTwentySpeedy ExpressZeroSpeedy ExpressTwenty FiveSpeedy ExpressZeroSpeedy ExpressFifteenSpeedy ExpressFifteenFederal ShippingZeroFederal ShippingZeroUnited PackageFifteenFederal ShippingTenFederal ShippingFifteenSpeedy ExpressTwenty FiveSpeedy ExpressTenSpeedy ExpressTenSpeedy ExpressFiveSpeedy ExpressZeroUnited PackageZeroUnited PackageFifteenUnited PackageTwentyUnited PackageTwenty FiveUnited PackageTwentySpeedy ExpressFifteenSpeedy ExpressTwenty FiveSpeedy ExpressFifteenSpeedy ExpressThirtySpeedy ExpressFiveSpeedy ExpressTwenty FiveFederal ShippingZeroFederal ShippingTwentyFederal ShippingZeroFederal ShippingThirtyFederal ShippingZeroFederal ShippingZeroSpeedy ExpressTenSpeedy ExpressFiveSpeedy ExpressFiveSpeedy ExpressZeroUnited PackageFifteenUnited PackageTwenty FiveUnited PackageFifteenSpeedy ExpressTwenty FiveSpeedy ExpressTwentyUnited PackageTenUnited PackageZeroUnited PackageZeroUnited PackageZeroFederal ShippingZeroFederal ShippingTwentyFederal ShippingZeroSpeedy ExpressTenSpeedy ExpressZeroSpeedy ExpressTwentySpeedy ExpressThirtySpeedy ExpressZeroUnited PackageThirtyUnited PackageTenUnited PackageZeroUnited PackageFiveSpeedy ExpressTwentyUnited PackageTenUnited PackageTwenty FiveUnited PackageZeroUnited PackageZeroUnited PackageTwentyUnited PackageFifteenUnited PackageZeroUnited PackageTwentyUnited PackageFiveUnited PackageTwenty FiveFederal ShippingThirtyFederal ShippingFiveFederal ShippingFiveFederal ShippingTwentyUnited PackageFifteenUnited PackageThirtyUnited PackageThirtyUnited PackageZeroUnited PackageZeroSpeedy ExpressTwenty FiveSpeedy ExpressThirtySpeedy ExpressFifteenFederal ShippingFiveFederal ShippingTwenty FiveFederal ShippingZeroFederal ShippingTwenty FiveUnited PackageFiveUnited PackageTwenty FiveUnited PackageThirtyUnited PackageZeroFederal ShippingTwenty FiveFederal ShippingFifteenUnited PackageZeroUnited PackageFiveUnited PackageFiveUnited PackageZeroUnited PackageFifteenUnited PackageZeroUnited PackageZeroUnited PackageFifteenSpeedy ExpressZeroSpeedy ExpressZeroSpeedy ExpressZeroUnited PackageZeroUnited PackageZeroUnited PackageZeroFederal ShippingZeroFederal ShippingFiveFederal ShippingTenFederal ShippingZeroFederal ShippingThirtyUnited PackageTwentyUnited PackageTwentySpeedy ExpressTwenty FiveSpeedy ExpressTwenty FiveSpeedy ExpressTwentyFederal ShippingZeroFederal ShippingFiveFederal ShippingZeroFederal ShippingZeroFederal ShippingTenFederal ShippingZeroFederal ShippingTenFederal ShippingTwenty FiveFederal ShippingZeroFederal ShippingZeroFederal ShippingTwenty FiveSpeedy ExpressZeroSpeedy ExpressTwentySpeedy ExpressThirtySpeedy ExpressThirtySpeedy ExpressThirtySpeedy ExpressFifteenSpeedy ExpressZeroSpeedy ExpressZeroFederal ShippingZeroSpeedy ExpressFifteenSpeedy ExpressThirtyUnited PackageTwenty FiveUnited PackageThirtyFederal ShippingFiveFederal ShippingTwenty FiveSpeedy ExpressZeroSpeedy ExpressFiveSpeedy ExpressZeroUnited PackageZeroUnited PackageTwenty FiveUnited PackageZeroSpeedy ExpressZeroSpeedy ExpressTwentyFederal ShippingTenFederal ShippingZeroFederal ShippingZeroFederal ShippingFifteenUnited PackageFiveUnited PackageFiveUnited PackageTwenty FiveUnited PackageZeroFederal ShippingZeroFederal ShippingZeroFederal ShippingFifteenFederal ShippingZeroFederal ShippingTenUnited PackageFiveUnited PackageTwenty FiveUnited PackageFifteenUnited PackageZeroSpeedy ExpressTenSpeedy ExpressZeroSpeedy ExpressZeroSpeedy ExpressFiveSpeedy ExpressTenUnited PackageTenSpeedy ExpressZeroSpeedy ExpressFifteenSpeedy ExpressZeroUnited PackageFiveUnited PackageTenUnited PackageZeroUnited PackageZeroUnited PackageThirtyUnited PackageZeroSpeedy ExpressFiveSpeedy ExpressThirtySpeedy ExpressZeroSpeedy ExpressFifteenUnited PackageTwentyUnited PackageThirtyUnited PackageThirtySpeedy ExpressZeroFederal ShippingFiveFederal ShippingTwentyUnited PackageFifteenUnited PackageThirtyUnited PackageZeroUnited PackageTenFederal ShippingZeroFederal ShippingThirtyFederal ShippingZeroUnited PackageTenUnited PackageZeroUnited PackageTwentyUnited PackageZeroUnited PackageZeroSpeedy ExpressFifteenSpeedy ExpressZeroUnited PackageTwentyUnited PackageTwentyUnited PackageThirtySpeedy ExpressTwentySpeedy ExpressTwenty FiveSpeedy ExpressZeroSpeedy ExpressTenSpeedy ExpressFiveSpeedy ExpressTwenty FiveSpeedy ExpressTenSpeedy ExpressZeroSpeedy ExpressZeroUnited PackageFifteenUnited PackageZeroSpeedy ExpressTenSpeedy ExpressZeroSpeedy ExpressTwenty FiveUnited PackageTwenty FiveUnited PackageZeroUnited PackageZeroUnited PackageTwentyUnited PackageZeroUnited PackageFiveUnited PackageFifteenFederal ShippingZeroFederal ShippingTwentyFederal ShippingZeroFederal ShippingTwentyFederal ShippingTenFederal ShippingTenFederal ShippingZeroSpeedy ExpressTenSpeedy ExpressTwentySpeedy ExpressZeroFederal ShippingFiveFederal ShippingFiveFederal ShippingThirtyUnited PackageTwentyUnited PackageTwentyUnited PackageTwenty FiveSpeedy ExpressTwenty FiveSpeedy ExpressThirtySpeedy ExpressZeroSpeedy ExpressZeroUnited PackageZeroUnited PackageTenUnited PackageZeroSpeedy ExpressZeroSpeedy ExpressZeroUnited PackageZeroUnited PackageZeroUnited PackageTwentyUnited PackageZeroUnited PackageZeroUnited PackageFifteenUnited PackageTenSpeedy ExpressThirtySpeedy ExpressFifteenUnited PackageTenUnited PackageZeroUnited PackageTwenty FiveUnited PackageFifteenUnited PackageZeroUnited PackageFiveFederal ShippingZeroFederal ShippingTenFederal ShippingFifteenFederal ShippingFiveFederal ShippingTenFederal ShippingZeroFederal ShippingThirtySpeedy ExpressZeroSpeedy ExpressZeroSpeedy ExpressZeroFederal ShippingZeroFederal ShippingZeroSpeedy ExpressFiveSpeedy ExpressFifteenSpeedy ExpressTwentySpeedy ExpressThirtySpeedy ExpressThirtySpeedy ExpressZeroSpeedy ExpressZeroSpeedy ExpressZeroSpeedy ExpressThirtyFederal ShippingZeroSpeedy ExpressTenSpeedy ExpressFifteenSpeedy ExpressFifteenSpeedy ExpressZeroFederal ShippingZeroFederal ShippingZeroFederal ShippingTwentySpeedy ExpressTwenty FiveSpeedy ExpressTwentyUnited PackageTwenty FiveUnited PackageZeroUnited PackageFiveSpeedy ExpressZeroSpeedy ExpressZeroSpeedy ExpressTwenty FiveUnited PackageTwentyUnited PackageTwenty FiveFederal ShippingTenFederal ShippingTwenty FiveFederal ShippingZeroFederal ShippingTwentyFederal ShippingTwentyFederal ShippingThirtyUnited PackageZeroUnited PackageTwentyFederal ShippingZeroFederal ShippingTenFederal ShippingZeroSpeedy ExpressFiveSpeedy ExpressZeroUnited PackageFiveUnited PackageTenUnited PackageZeroSpeedy ExpressZeroSpeedy ExpressThirtySpeedy ExpressZeroSpeedy ExpressZeroSpeedy ExpressFifteenSpeedy ExpressZeroFederal ShippingTwenty FiveFederal ShippingZeroFederal ShippingZeroFederal ShippingThirtyFederal ShippingTwentySpeedy ExpressZeroSpeedy ExpressZeroUnited PackageFiveUnited PackageTenUnited PackageTwenty FiveUnited PackageFiveUnited PackageTenUnited PackageFifteenFederal ShippingZeroFederal ShippingTenFederal ShippingTwentyFederal ShippingZeroUnited PackageZeroUnited PackageFifteenUnited PackageTenUnited PackageFifteenUnited PackageZeroFederal ShippingFifteenSpeedy ExpressTwenty FiveSpeedy ExpressTwentySpeedy ExpressFifteenSpeedy ExpressTwenty FiveSpeedy ExpressZeroUnited PackageZeroUnited PackageTwenty FiveFederal ShippingTenFederal ShippingTwenty FiveFederal ShippingTwentySpeedy ExpressZeroSpeedy ExpressThirtySpeedy ExpressZeroSpeedy ExpressThirtySpeedy ExpressZeroUnited PackageFifteenUnited PackageThirtyUnited PackageTwentyUnited PackageZeroFederal ShippingTenFederal ShippingFiveFederal ShippingThirtySpeedy ExpressTenSpeedy ExpressTwentySpeedy ExpressZeroSpeedy ExpressFiveSpeedy ExpressTenSpeedy ExpressTwentyFederal ShippingZeroFederal ShippingZeroFederal ShippingTwenty FiveFederal ShippingTwenty FiveFederal ShippingFifteenFederal ShippingTwentyUnited PackageTwenty FiveUnited PackageFifteenUnited PackageZeroUnited PackageTwenty FiveUnited PackageFiveUnited PackageTenSpeedy ExpressTenFederal ShippingTwentyFederal ShippingTwenty FiveUnited PackageZeroUnited PackageFifteenUnited PackageFifteenUnited PackageThirtyFederal ShippingTwenty FiveFederal ShippingTwenty FiveFederal ShippingZeroFederal ShippingZeroUnited PackageZeroSpeedy ExpressThirtySpeedy ExpressZeroSpeedy ExpressFifteenSpeedy ExpressZeroSpeedy ExpressZeroFederal ShippingFiveFederal ShippingZeroFederal ShippingZeroFederal ShippingFifteenSpeedy ExpressTwentySpeedy ExpressTenSpeedy ExpressFiveSpeedy ExpressFifteenSpeedy ExpressTwenty FiveSpeedy ExpressThirtySpeedy ExpressThirtyUnited PackageThirtyUnited PackageZeroUnited PackageTwentySpeedy ExpressZeroSpeedy ExpressFifteenSpeedy ExpressZeroFederal ShippingZeroFederal ShippingFifteenFederal ShippingThirtyFederal ShippingFiveFederal ShippingTenFederal ShippingFifteenSpeedy ExpressFifteenSpeedy ExpressFiveFederal ShippingThirtyUnited PackageZeroUnited PackageThirtyUnited PackageTwentyUnited PackageFifteenUnited PackageZeroUnited PackageTwentyUnited PackageFifteenUnited PackageFifteenSpeedy ExpressFifteenSpeedy ExpressZeroSpeedy ExpressZeroSpeedy ExpressThirtyFederal ShippingZeroFederal ShippingTwenty FiveFederal ShippingThirtyFederal ShippingTwenty FiveSpeedy ExpressThirtySpeedy ExpressThirtySpeedy ExpressTwenty FiveUnited PackageThirtyUnited PackageTwenty FiveSpeedy ExpressFiveSpeedy ExpressZeroSpeedy ExpressTenSpeedy ExpressThirtyFederal ShippingFiveFederal ShippingTwenty FiveFederal ShippingZeroFederal ShippingTwenty FiveFederal ShippingFiveFederal ShippingZeroSpeedy ExpressTwenty FiveSpeedy ExpressTenSpeedy ExpressFifteenFederal ShippingZeroUnited PackageTwenty FiveUnited PackageTwentyUnited PackageZeroUnited PackageZeroSpeedy ExpressTenSpeedy ExpressTwenty FiveSpeedy ExpressTwenty FiveSpeedy ExpressZeroFederal ShippingThirtyUnited PackageZeroUnited PackageZeroUnited PackageZeroFederal ShippingZeroFederal ShippingTwentyFederal ShippingTwenty FiveSpeedy ExpressTwentySpeedy ExpressTwentySpeedy ExpressZeroSpeedy ExpressTenFederal ShippingTwentyFederal ShippingZeroFederal ShippingFifteenFederal ShippingTenUnited PackageZeroSpeedy ExpressTenUnited PackageTenUnited PackageZeroSpeedy ExpressThirtySpeedy ExpressFifteenFederal ShippingTenFederal ShippingThirtyFederal ShippingFiveFederal ShippingTwentyUnited PackageTwentyUnited PackageFifteenFederal ShippingTwentyFederal ShippingFiveFederal ShippingZeroFederal ShippingZeroFederal ShippingTwenty FiveSpeedy ExpressZeroSpeedy ExpressFifteenSpeedy ExpressTwenty FiveSpeedy ExpressTwenty FiveSpeedy ExpressZeroUnited PackageFiveUnited PackageTwenty FiveUnited PackageZeroUnited PackageFifteenUnited PackageFiveUnited PackageFifteenSpeedy ExpressTenSpeedy ExpressThirtyUnited PackageZeroUnited PackageTenFederal ShippingTwenty FiveFederal ShippingTenFederal ShippingFifteenFederal ShippingTenFederal ShippingTwenty FiveSpeedy ExpressZeroSpeedy ExpressTenUnited PackageTenUnited PackageZeroSpeedy ExpressZeroSpeedy ExpressFifteenSpeedy ExpressThirtySpeedy ExpressFifteenUnited PackageThirtySpeedy ExpressZeroSpeedy ExpressZeroFederal ShippingFiveFederal ShippingZeroFederal ShippingZeroFederal ShippingThirtyFederal ShippingTenFederal ShippingTenUnited PackageZeroUnited PackageZeroUnited PackageFifteenUnited PackageTenUnited PackageTwentyUnited PackageZeroSpeedy ExpressFiveSpeedy ExpressThirtySpeedy ExpressZeroUnited PackageZeroUnited PackageZeroUnited PackageFifteenFederal ShippingFifteenFederal ShippingFifteenUnited PackageTwenty FiveUnited PackageZeroUnited PackageFiveSpeedy ExpressThirtyFederal ShippingThirtyFederal ShippingTwentySpeedy ExpressTwenty FiveFederal ShippingFiveFederal ShippingThirtyFederal ShippingThirtySpeedy ExpressFiveSpeedy ExpressTwenty FiveSpeedy ExpressThirtySpeedy ExpressTwentySpeedy ExpressZeroSpeedy ExpressFifteenSpeedy ExpressTwenty FiveSpeedy ExpressZeroFederal ShippingTenFederal ShippingTwenty FiveFederal ShippingTwenty FiveFederal ShippingTwenty FiveFederal ShippingTwentyUnited PackageFifteenUnited PackageZeroUnited PackageZeroUnited PackageFifteenUnited PackageThirtyUnited PackageZeroFederal ShippingTwenty FiveFederal ShippingTenFederal ShippingTwenty FiveFederal ShippingTwenty FiveUnited PackageThirtySpeedy ExpressFifteenSpeedy ExpressTenFederal ShippingZeroFederal ShippingThirtyUnited PackageThirtyUnited PackageTwentyUnited PackageZeroUnited PackageFifteenSpeedy ExpressTenSpeedy ExpressThirtySpeedy ExpressZeroSpeedy ExpressZeroSpeedy ExpressTwentySpeedy ExpressTwentyUnited PackageZeroUnited PackageFiveSpeedy ExpressZeroSpeedy ExpressFifteenSpeedy ExpressTwenty FiveSpeedy ExpressZeroSpeedy ExpressFiveSpeedy ExpressZeroUnited PackageTwenty FiveUnited PackageFiveUnited PackageZeroUnited PackageFifteenUnited PackageFiveUnited PackageFifteenUnited PackageFifteenUnited PackageTwenty FiveUnited PackageFiveUnited PackageThirtyUnited PackageFifteenUnited PackageThirtyUnited PackageTenUnited PackageTwentyUnited PackageZeroFederal ShippingZeroFederal ShippingFifteenFederal ShippingZeroFederal ShippingFifteenSpeedy ExpressTwenty FiveSpeedy ExpressFifteenSpeedy ExpressTwentySpeedy ExpressZeroSpeedy ExpressThirtyFederal ShippingFiveFederal ShippingThirtyFederal ShippingZeroFederal ShippingTwentyFederal ShippingTenFederal ShippingZeroFederal ShippingTwentyFederal ShippingTwentyFederal ShippingZeroUnited PackageThirtyUnited PackageFiveUnited PackageZeroUnited PackageThirtyUnited PackageZeroUnited PackageFifteenFederal ShippingThirtyFederal ShippingTwenty FiveFederal ShippingFifteenFederal ShippingThirtyUnited PackageTenUnited PackageTwenty FiveSpeedy ExpressTwenty FiveSpeedy ExpressFifteenSpeedy ExpressZeroSpeedy ExpressTwentySpeedy ExpressThirtyFederal ShippingZeroFederal ShippingThirtyFederal ShippingFiveFederal ShippingTenFederal ShippingFiveFederal ShippingTwenty FiveFederal ShippingFifteenFederal ShippingZeroFederal ShippingZeroUnited PackageZeroUnited PackageZeroUnited PackageTwenty FiveUnited PackageZeroSpeedy ExpressThirtySpeedy ExpressTwentySpeedy ExpressThirtySpeedy ExpressTwenty FiveSpeedy ExpressThirtySpeedy ExpressTwentySpeedy ExpressZeroSpeedy ExpressTwenty FiveSpeedy ExpressZeroSpeedy ExpressZeroUnited PackageZeroUnited PackageZeroUnited PackageFiveSpeedy ExpressTenSpeedy ExpressTwentySpeedy ExpressThirtySpeedy ExpressZeroUnited PackageTwenty FiveUnited PackageZeroUnited PackageTwenty FiveUnited PackageZeroUnited PackageZeroSpeedy ExpressTenSpeedy ExpressThirtySpeedy ExpressThirtyUnited PackageZeroUnited PackageTenUnited PackageThirtyFederal ShippingTenFederal ShippingTwentyUnited PackageZeroUnited PackageZeroUnited PackageFiveUnited PackageTwentyUnited PackageZeroUnited PackageThirtyUnited PackageTwenty FiveUnited PackageTenUnited PackageTwentyUnited PackageFifteenUnited PackageTenSpeedy ExpressFifteenSpeedy ExpressFiveSpeedy ExpressTwenty FiveSpeedy ExpressZeroSpeedy ExpressFifteenSpeedy ExpressZeroUnited PackageZeroUnited PackageFifteenUnited PackageFifteenSpeedy ExpressTenSpeedy ExpressThirtySpeedy ExpressTwenty FiveSpeedy ExpressFifteenFederal ShippingFifteenFederal ShippingTenUnited PackageTwenty FiveUnited PackageTenUnited PackageZeroUnited PackageTwentyUnited PackageZeroUnited PackageThirtyUnited PackageZeroSpeedy ExpressFiveSpeedy ExpressZeroUnited PackageZeroUnited PackageFiveUnited PackageZeroUnited PackageFifteenFederal ShippingZeroFederal ShippingThirtySpeedy ExpressTenSpeedy ExpressZeroSpeedy ExpressZeroFederal ShippingThirtyFederal ShippingZeroFederal ShippingTwentySpeedy ExpressTwenty FiveSpeedy ExpressTwenty FiveSpeedy ExpressThirtySpeedy ExpressFiveFederal ShippingZeroFederal ShippingFifteenFederal ShippingTenFederal ShippingZeroUnited PackageFiveUnited PackageThirtyUnited PackageZeroFederal ShippingTwenty FiveFederal ShippingZeroFederal ShippingThirtyFederal ShippingFifteenSpeedy ExpressZeroSpeedy ExpressTwentySpeedy ExpressFifteenFederal ShippingThirtyUnited PackageTwenty FiveUnited PackageFifteenFederal ShippingThirtyFederal ShippingFifteenSpeedy ExpressZeroSpeedy ExpressFifteenSpeedy ExpressTenUnited PackageFifteenUnited PackageZeroUnited PackageZeroUnited PackageZeroUnited PackageZeroUnited PackageFifteenUnited PackageTwentySpeedy ExpressFiveSpeedy ExpressFifteenSpeedy ExpressTwenty FiveSpeedy ExpressZeroSpeedy ExpressFiveSpeedy ExpressThirtySpeedy ExpressZeroFederal ShippingFifteenFederal ShippingThirtyUnited PackageZeroUnited PackageFifteenUnited PackageFiveFederal ShippingFiveUnited PackageThirtySpeedy ExpressTenSpeedy ExpressZeroSpeedy ExpressTwentySpeedy ExpressZeroFederal ShippingFiveFederal ShippingZeroFederal ShippingFifteenFederal ShippingTwentyFederal ShippingZeroUnited PackageTenFederal ShippingTwenty FiveFederal ShippingTwenty FiveUnited PackageTenUnited PackageTwenty FiveUnited PackageTenUnited PackageTenUnited PackageTenFederal ShippingFiveFederal ShippingFifteenFederal ShippingTwenty FiveSpeedy ExpressTenSpeedy ExpressZeroSpeedy ExpressTenUnited PackageThirtyUnited PackageZeroSpeedy ExpressZeroSpeedy ExpressTwentySpeedy ExpressTwentySpeedy ExpressZeroUnited PackageZeroUnited PackageTwentyUnited PackageTenUnited PackageTenUnited PackageTwenty FiveUnited PackageTwentyUnited PackageFifteenUnited PackageZeroFederal ShippingTenFederal ShippingZeroUnited PackageTenUnited PackageThirtyUnited PackageThirtyUnited PackageThirtySpeedy ExpressFifteenSpeedy ExpressFiveFederal ShippingZeroFederal ShippingZeroFederal ShippingZeroFederal ShippingTwenty FiveFederal ShippingTenUnited PackageZeroUnited PackageZeroUnited PackageTwenty FiveSpeedy ExpressTwentySpeedy ExpressTwenty FiveFederal ShippingThirtyFederal ShippingFiveFederal ShippingFiveFederal ShippingZeroSpeedy ExpressZeroSpeedy ExpressTwenty FiveSpeedy ExpressTwentySpeedy ExpressZeroSpeedy ExpressTwentySpeedy ExpressFiveSpeedy ExpressTwenty FiveSpeedy ExpressFifteenFederal ShippingFiveFederal ShippingThirtyFederal ShippingTwentyFederal ShippingTwentyUnited PackageFiveUnited PackageTwentySpeedy ExpressTenSpeedy ExpressZeroSpeedy ExpressZeroSpeedy ExpressTwenty FiveFederal ShippingZeroFederal ShippingTwenty FiveFederal ShippingTwenty FiveFederal ShippingTenFederal ShippingZeroFederal ShippingTwenty FiveUnited PackageTwentyFederal ShippingZeroFederal ShippingFifteenUnited PackageFiveUnited PackageTwenty FiveUnited PackageZeroUnited PackageZeroUnited PackageTwenty FiveUnited PackageTenFederal ShippingTenFederal ShippingFiveUnited PackageTwentyUnited PackageZeroUnited PackageFifteenUnited PackageZeroFederal ShippingFifteenUnited PackageFiveUnited PackageTwenty FiveUnited PackageZeroFederal ShippingThirtyFederal ShippingFifteenFederal ShippingThirtySpeedy ExpressFiveSpeedy ExpressTwentyUnited PackageZeroUnited PackageZeroUnited PackageFifteenUnited PackageZeroFederal ShippingThirtyFederal ShippingTenFederal ShippingTwentyFederal ShippingTwenty FiveFederal ShippingZeroFederal ShippingZeroFederal ShippingZeroUnited PackageZeroUnited PackageTwentyUnited PackageTenUnited PackageTwenty FiveSpeedy ExpressTwenty FiveSpeedy ExpressZeroUnited PackageZeroUnited PackageTwentySpeedy ExpressTenSpeedy ExpressTwentySpeedy ExpressFifteenSpeedy ExpressZeroUnited PackageTwenty FiveUnited PackageFiveUnited PackageZeroUnited PackageTenFederal ShippingFifteenFederal ShippingFifteenFederal ShippingThirtyUnited PackageZeroUnited PackageTenUnited PackageZeroUnited PackageTwenty FiveSpeedy ExpressZeroSpeedy ExpressTenSpeedy ExpressTwenty FiveSpeedy ExpressTwentyUnited PackageTenUnited PackageFiveUnited PackageZeroUnited PackageFifteenUnited PackageTwentyFederal ShippingZeroUnited PackageZeroUnited PackageFifteenUnited PackageFifteenFederal ShippingTenSpeedy ExpressTwenty FiveSpeedy ExpressThirtySpeedy ExpressZeroUnited PackageFiveUnited PackageFifteenFederal ShippingZeroFederal ShippingZeroFederal ShippingThirtyUnited PackageZeroSpeedy ExpressTwenty FiveUnited PackageZeroUnited PackageZeroUnited PackageTwentyUnited PackageZeroUnited PackageTenUnited PackageTwenty FiveFederal ShippingFiveFederal ShippingZeroFederal ShippingTwenty FiveSpeedy ExpressZeroFederal ShippingFiveFederal ShippingZeroFederal ShippingTenFederal ShippingFiveUnited PackageZeroUnited PackageFiveUnited PackageThirtyUnited PackageFifteenUnited PackageTenUnited PackageZeroUnited PackageZeroUnited PackageThirtyUnited PackageTwentyUnited PackageFiveSpeedy ExpressTwenty FiveUnited PackageFifteenSpeedy ExpressTenSpeedy ExpressTwenty FiveUnited PackageFiveUnited PackageTwentyFederal ShippingTenFederal ShippingZeroFederal ShippingTwentySpeedy ExpressTenSpeedy ExpressZeroSpeedy ExpressTwenty FiveUnited PackageThirtyUnited PackageZeroUnited PackageTwentyUnited PackageFifteenSpeedy ExpressTenSpeedy ExpressTwenty FiveSpeedy ExpressZeroUnited PackageTenUnited PackageZeroSpeedy ExpressTwenty FiveSpeedy ExpressThirtySpeedy ExpressTenFederal ShippingFiveFederal ShippingFifteenFederal ShippingTwentyFederal ShippingTwenty FiveSpeedy ExpressTwenty FiveSpeedy ExpressThirtySpeedy ExpressTwentyFederal ShippingZeroFederal ShippingZeroFederal ShippingTenFederal ShippingZeroFederal ShippingTenFederal ShippingZeroUnited PackageZeroUnited PackageTwenty FiveUnited PackageZeroUnited PackageTwenty FiveUnited PackageZeroUnited PackageTwenty FiveUnited PackageFiveUnited PackageTwenty FiveUnited PackageTenUnited PackageTenUnited PackageFifteenFederal ShippingZeroFederal ShippingZeroFederal ShippingFifteenUnited PackageTenUnited PackageTwenty FiveUnited PackageZeroUnited PackageTwentySpeedy ExpressFiveSpeedy ExpressFifteenSpeedy ExpressZeroSpeedy ExpressTwentyFederal ShippingTenFederal ShippingThirtyFederal ShippingTwenty FiveSpeedy ExpressZeroSpeedy ExpressTwentySpeedy ExpressTenSpeedy ExpressZeroUnited PackageTenUnited PackageZeroUnited PackageZeroUnited PackageZeroUnited PackageZeroFederal ShippingZeroFederal ShippingFifteenFederal ShippingZeroSpeedy ExpressZeroSpeedy ExpressTwentySpeedy ExpressZeroUnited PackageTenUnited PackageZeroSpeedy ExpressTwentySpeedy ExpressZeroFederal ShippingFiveFederal ShippingZeroFederal ShippingZeroSpeedy ExpressTwenty FiveSpeedy ExpressZeroSpeedy ExpressFifteenSpeedy ExpressFifteenFederal ShippingTenUnited PackageFifteenUnited PackageFifteenUnited PackageTwentyUnited PackageTwentyUnited PackageTwenty FiveUnited PackageZeroUnited PackageThirtyUnited PackageZeroUnited PackageZeroUnited PackageThirtyFederal ShippingZeroFederal ShippingFifteenUnited PackageZeroSpeedy ExpressTwenty FiveSpeedy ExpressZeroSpeedy ExpressZeroSpeedy ExpressTenSpeedy ExpressZeroUnited PackageFiveUnited PackageFifteenUnited PackageTenUnited PackageTwenty FiveSpeedy ExpressZeroSpeedy ExpressTwentySpeedy ExpressZeroSpeedy ExpressZeroFederal ShippingTenFederal ShippingFiveSpeedy ExpressZeroSpeedy ExpressTenSpeedy ExpressZeroSpeedy ExpressZeroSpeedy ExpressTwentySpeedy ExpressZeroSpeedy ExpressThirtySpeedy ExpressFiveUnited PackageTwenty FiveUnited PackageZeroUnited PackageZeroUnited PackageZeroUnited PackageTenUnited PackageFiveUnited PackageZeroUnited PackageThirtyUnited PackageZeroFederal ShippingTwentyFederal ShippingFifteenFederal ShippingZeroFederal ShippingZeroFederal ShippingFifteenSpeedy ExpressFiveSpeedy ExpressFifteenSpeedy ExpressTwenty FiveUnited PackageTenUnited PackageFifteenUnited PackageZeroUnited PackageTenFederal ShippingFiveFederal ShippingZeroSpeedy ExpressThirtyUnited PackageThirtyUnited PackageTwenty FiveUnited PackageZeroUnited PackageZeroUnited PackageFifteenUnited PackageFifteenUnited PackageTwentyFederal ShippingFiveUnited PackageTwenty FiveUnited PackageFiveSpeedy ExpressFifteenSpeedy ExpressTwenty FiveUnited PackageThirtySpeedy ExpressZeroUnited PackageTwentyUnited PackageTenUnited PackageZeroUnited PackageTwenty FiveUnited PackageFifteenFederal ShippingTenFederal ShippingZeroFederal ShippingFifteenSpeedy ExpressTwenty FiveSpeedy ExpressZeroUnited PackageTwentyFederal ShippingZeroSpeedy ExpressTwenty FiveSpeedy ExpressTwenty FiveUnited PackageZeroUnited PackageTwenty FiveUnited PackageThirtySpeedy ExpressTwentySpeedy ExpressTenUnited PackageZeroUnited PackageThirtyUnited PackageTenUnited PackageTwentyUnited PackageTenUnited PackageTwentyUnited PackageZeroFederal ShippingThirtyFederal ShippingFiveFederal ShippingZeroFederal ShippingTwenty FiveUnited PackageFiveUnited PackageZeroUnited PackageZeroUnited PackageZeroUnited PackageFifteenFederal ShippingZeroUnited PackageZeroUnited PackageThirtyUnited PackageFifteenUnited PackageThirtyUnited PackageTenSpeedy ExpressZeroSpeedy ExpressTenSpeedy ExpressZeroSpeedy ExpressTwentySpeedy ExpressFifteenSpeedy ExpressFifteenSpeedy ExpressTenUnited PackageTenUnited PackageFiveUnited PackageFifteenUnited PackageTenUnited PackageZeroUnited PackageTwenty FiveUnited PackageFifteenUnited PackageFiveSpeedy ExpressTenSpeedy ExpressTwenty FiveSpeedy ExpressTenSpeedy ExpressTwentySpeedy ExpressTenSpeedy ExpressFiveUnited PackageTwenty FiveUnited PackageTenUnited PackageThirtyUnited PackageThirtyUnited PackageThirtyUnited PackageZeroUnited PackageTenUnited PackageTwenty FiveUnited PackageZeroUnited PackageTwentyUnited PackageTwenty FiveUnited PackageZeroUnited PackageFiveUnited PackageTwenty FiveUnited PackageTwenty FiveUnited PackageZeroUnited PackageTwenty FiveUnited PackageTenUnited PackageZeroUnited PackageZeroUnited PackageZeroUnited PackageFiveUnited PackageZeroUnited PackageTenUnited PackageZeroUnited PackageTwenty FiveUnited PackageTwenty FiveUnited PackageFiveUnited PackageTenUnited PackageZeroUnited PackageTwenty FiveUnited PackageTwentyUnited PackageZeroUnited PackageThirtyUnited PackageTwentyUnited PackageFiveUnited PackageTwenty FiveUnited PackageFifteen'",
      "\nDuring handling of the above exception, another exception occurred:\n",
      "\u001b[1;31mValueError\u001b[0m                                Traceback (most recent call last)",
      "\u001b[1;32m~\\Anaconda3\\envs\\learn-env\\lib\\site-packages\\pandas\\core\\nanops.py\u001b[0m in \u001b[0;36m_ensure_numeric\u001b[1;34m(x)\u001b[0m\n\u001b[0;32m   1306\u001b[0m             \u001b[1;32mtry\u001b[0m\u001b[1;33m:\u001b[0m\u001b[1;33m\u001b[0m\u001b[1;33m\u001b[0m\u001b[0m\n\u001b[1;32m-> 1307\u001b[1;33m                 \u001b[0mx\u001b[0m \u001b[1;33m=\u001b[0m \u001b[0mcomplex\u001b[0m\u001b[1;33m(\u001b[0m\u001b[0mx\u001b[0m\u001b[1;33m)\u001b[0m\u001b[1;33m\u001b[0m\u001b[1;33m\u001b[0m\u001b[0m\n\u001b[0m\u001b[0;32m   1308\u001b[0m             \u001b[1;32mexcept\u001b[0m \u001b[0mException\u001b[0m\u001b[1;33m:\u001b[0m\u001b[1;33m\u001b[0m\u001b[1;33m\u001b[0m\u001b[0m\n",
      "\u001b[1;31mValueError\u001b[0m: complex() arg is a malformed string",
      "\nDuring handling of the above exception, another exception occurred:\n",
      "\u001b[1;31mTypeError\u001b[0m                                 Traceback (most recent call last)",
      "\u001b[1;32m<ipython-input-176-76d57559a1a8>\u001b[0m in \u001b[0;36m<module>\u001b[1;34m\u001b[0m\n\u001b[0;32m      5\u001b[0m     \u001b[0mdof\u001b[0m \u001b[1;33m=\u001b[0m \u001b[0mnx\u001b[0m \u001b[1;33m+\u001b[0m \u001b[0mny\u001b[0m \u001b[1;33m-\u001b[0m \u001b[1;36m2\u001b[0m\u001b[1;33m\u001b[0m\u001b[1;33m\u001b[0m\u001b[0m\n\u001b[0;32m      6\u001b[0m     \u001b[1;32mreturn\u001b[0m \u001b[1;33m(\u001b[0m\u001b[0mmean\u001b[0m\u001b[1;33m(\u001b[0m\u001b[0mx\u001b[0m\u001b[1;33m)\u001b[0m \u001b[1;33m-\u001b[0m \u001b[0mmean\u001b[0m\u001b[1;33m(\u001b[0m\u001b[0my\u001b[0m\u001b[1;33m)\u001b[0m\u001b[1;33m)\u001b[0m \u001b[1;33m/\u001b[0m \u001b[0msqrt\u001b[0m\u001b[1;33m(\u001b[0m\u001b[1;33m(\u001b[0m\u001b[1;33m(\u001b[0m\u001b[0mnx\u001b[0m\u001b[1;33m-\u001b[0m\u001b[1;36m1\u001b[0m\u001b[1;33m)\u001b[0m\u001b[1;33m*\u001b[0m\u001b[0mstd\u001b[0m\u001b[1;33m(\u001b[0m\u001b[0mx\u001b[0m\u001b[1;33m,\u001b[0m \u001b[0mddof\u001b[0m\u001b[1;33m=\u001b[0m\u001b[1;36m1\u001b[0m\u001b[1;33m)\u001b[0m \u001b[1;33m**\u001b[0m \u001b[1;36m2\u001b[0m \u001b[1;33m+\u001b[0m \u001b[1;33m(\u001b[0m\u001b[0mny\u001b[0m\u001b[1;33m-\u001b[0m\u001b[1;36m1\u001b[0m\u001b[1;33m)\u001b[0m\u001b[1;33m*\u001b[0m\u001b[0mstd\u001b[0m\u001b[1;33m(\u001b[0m\u001b[0my\u001b[0m\u001b[1;33m,\u001b[0m \u001b[0mddof\u001b[0m\u001b[1;33m=\u001b[0m\u001b[1;36m1\u001b[0m\u001b[1;33m)\u001b[0m \u001b[1;33m**\u001b[0m \u001b[1;36m2\u001b[0m\u001b[1;33m)\u001b[0m \u001b[1;33m/\u001b[0m \u001b[0mdof\u001b[0m\u001b[1;33m)\u001b[0m\u001b[1;33m\u001b[0m\u001b[1;33m\u001b[0m\u001b[0m\n\u001b[1;32m----> 7\u001b[1;33m \u001b[0meffect_size\u001b[0m \u001b[1;33m=\u001b[0m \u001b[0mcohen_d_two_samp\u001b[0m\u001b[1;33m(\u001b[0m\u001b[0mdf_str\u001b[0m\u001b[1;33m[\u001b[0m\u001b[1;34m'ItemTotal'\u001b[0m\u001b[1;33m]\u001b[0m\u001b[1;33m,\u001b[0m \u001b[0mdf_str\u001b[0m\u001b[1;33m[\u001b[0m\u001b[1;34m'CompanyName'\u001b[0m\u001b[1;33m]\u001b[0m\u001b[1;33m+\u001b[0m\u001b[0mdf_str\u001b[0m\u001b[1;33m[\u001b[0m\u001b[1;34m'ReorderLevel'\u001b[0m\u001b[1;33m]\u001b[0m\u001b[1;33m)\u001b[0m\u001b[1;33m\u001b[0m\u001b[1;33m\u001b[0m\u001b[0m\n\u001b[0m\u001b[0;32m      8\u001b[0m \u001b[0meffect_size\u001b[0m\u001b[1;33m\u001b[0m\u001b[1;33m\u001b[0m\u001b[0m\n",
      "\u001b[1;32m<ipython-input-176-76d57559a1a8>\u001b[0m in \u001b[0;36mcohen_d_two_samp\u001b[1;34m(x, y)\u001b[0m\n\u001b[0;32m      4\u001b[0m     \u001b[0mny\u001b[0m \u001b[1;33m=\u001b[0m \u001b[0mlen\u001b[0m\u001b[1;33m(\u001b[0m\u001b[0my\u001b[0m\u001b[1;33m)\u001b[0m\u001b[1;33m\u001b[0m\u001b[1;33m\u001b[0m\u001b[0m\n\u001b[0;32m      5\u001b[0m     \u001b[0mdof\u001b[0m \u001b[1;33m=\u001b[0m \u001b[0mnx\u001b[0m \u001b[1;33m+\u001b[0m \u001b[0mny\u001b[0m \u001b[1;33m-\u001b[0m \u001b[1;36m2\u001b[0m\u001b[1;33m\u001b[0m\u001b[1;33m\u001b[0m\u001b[0m\n\u001b[1;32m----> 6\u001b[1;33m     \u001b[1;32mreturn\u001b[0m \u001b[1;33m(\u001b[0m\u001b[0mmean\u001b[0m\u001b[1;33m(\u001b[0m\u001b[0mx\u001b[0m\u001b[1;33m)\u001b[0m \u001b[1;33m-\u001b[0m \u001b[0mmean\u001b[0m\u001b[1;33m(\u001b[0m\u001b[0my\u001b[0m\u001b[1;33m)\u001b[0m\u001b[1;33m)\u001b[0m \u001b[1;33m/\u001b[0m \u001b[0msqrt\u001b[0m\u001b[1;33m(\u001b[0m\u001b[1;33m(\u001b[0m\u001b[1;33m(\u001b[0m\u001b[0mnx\u001b[0m\u001b[1;33m-\u001b[0m\u001b[1;36m1\u001b[0m\u001b[1;33m)\u001b[0m\u001b[1;33m*\u001b[0m\u001b[0mstd\u001b[0m\u001b[1;33m(\u001b[0m\u001b[0mx\u001b[0m\u001b[1;33m,\u001b[0m \u001b[0mddof\u001b[0m\u001b[1;33m=\u001b[0m\u001b[1;36m1\u001b[0m\u001b[1;33m)\u001b[0m \u001b[1;33m**\u001b[0m \u001b[1;36m2\u001b[0m \u001b[1;33m+\u001b[0m \u001b[1;33m(\u001b[0m\u001b[0mny\u001b[0m\u001b[1;33m-\u001b[0m\u001b[1;36m1\u001b[0m\u001b[1;33m)\u001b[0m\u001b[1;33m*\u001b[0m\u001b[0mstd\u001b[0m\u001b[1;33m(\u001b[0m\u001b[0my\u001b[0m\u001b[1;33m,\u001b[0m \u001b[0mddof\u001b[0m\u001b[1;33m=\u001b[0m\u001b[1;36m1\u001b[0m\u001b[1;33m)\u001b[0m \u001b[1;33m**\u001b[0m \u001b[1;36m2\u001b[0m\u001b[1;33m)\u001b[0m \u001b[1;33m/\u001b[0m \u001b[0mdof\u001b[0m\u001b[1;33m)\u001b[0m\u001b[1;33m\u001b[0m\u001b[1;33m\u001b[0m\u001b[0m\n\u001b[0m\u001b[0;32m      7\u001b[0m \u001b[0meffect_size\u001b[0m \u001b[1;33m=\u001b[0m \u001b[0mcohen_d_two_samp\u001b[0m\u001b[1;33m(\u001b[0m\u001b[0mdf_str\u001b[0m\u001b[1;33m[\u001b[0m\u001b[1;34m'ItemTotal'\u001b[0m\u001b[1;33m]\u001b[0m\u001b[1;33m,\u001b[0m \u001b[0mdf_str\u001b[0m\u001b[1;33m[\u001b[0m\u001b[1;34m'CompanyName'\u001b[0m\u001b[1;33m]\u001b[0m\u001b[1;33m+\u001b[0m\u001b[0mdf_str\u001b[0m\u001b[1;33m[\u001b[0m\u001b[1;34m'ReorderLevel'\u001b[0m\u001b[1;33m]\u001b[0m\u001b[1;33m)\u001b[0m\u001b[1;33m\u001b[0m\u001b[1;33m\u001b[0m\u001b[0m\n\u001b[0;32m      8\u001b[0m \u001b[0meffect_size\u001b[0m\u001b[1;33m\u001b[0m\u001b[1;33m\u001b[0m\u001b[0m\n",
      "\u001b[1;32m<__array_function__ internals>\u001b[0m in \u001b[0;36mmean\u001b[1;34m(*args, **kwargs)\u001b[0m\n",
      "\u001b[1;32m~\\Anaconda3\\envs\\learn-env\\lib\\site-packages\\numpy\\core\\fromnumeric.py\u001b[0m in \u001b[0;36mmean\u001b[1;34m(a, axis, dtype, out, keepdims)\u001b[0m\n\u001b[0;32m   3252\u001b[0m             \u001b[1;32mpass\u001b[0m\u001b[1;33m\u001b[0m\u001b[1;33m\u001b[0m\u001b[0m\n\u001b[0;32m   3253\u001b[0m         \u001b[1;32melse\u001b[0m\u001b[1;33m:\u001b[0m\u001b[1;33m\u001b[0m\u001b[1;33m\u001b[0m\u001b[0m\n\u001b[1;32m-> 3254\u001b[1;33m             \u001b[1;32mreturn\u001b[0m \u001b[0mmean\u001b[0m\u001b[1;33m(\u001b[0m\u001b[0maxis\u001b[0m\u001b[1;33m=\u001b[0m\u001b[0maxis\u001b[0m\u001b[1;33m,\u001b[0m \u001b[0mdtype\u001b[0m\u001b[1;33m=\u001b[0m\u001b[0mdtype\u001b[0m\u001b[1;33m,\u001b[0m \u001b[0mout\u001b[0m\u001b[1;33m=\u001b[0m\u001b[0mout\u001b[0m\u001b[1;33m,\u001b[0m \u001b[1;33m**\u001b[0m\u001b[0mkwargs\u001b[0m\u001b[1;33m)\u001b[0m\u001b[1;33m\u001b[0m\u001b[1;33m\u001b[0m\u001b[0m\n\u001b[0m\u001b[0;32m   3255\u001b[0m \u001b[1;33m\u001b[0m\u001b[0m\n\u001b[0;32m   3256\u001b[0m     return _methods._mean(a, axis=axis, dtype=dtype,\n",
      "\u001b[1;32m~\\Anaconda3\\envs\\learn-env\\lib\\site-packages\\pandas\\core\\generic.py\u001b[0m in \u001b[0;36mstat_func\u001b[1;34m(self, axis, skipna, level, numeric_only, **kwargs)\u001b[0m\n\u001b[0;32m  11616\u001b[0m             \u001b[1;32mreturn\u001b[0m \u001b[0mself\u001b[0m\u001b[1;33m.\u001b[0m\u001b[0m_agg_by_level\u001b[0m\u001b[1;33m(\u001b[0m\u001b[0mname\u001b[0m\u001b[1;33m,\u001b[0m \u001b[0maxis\u001b[0m\u001b[1;33m=\u001b[0m\u001b[0maxis\u001b[0m\u001b[1;33m,\u001b[0m \u001b[0mlevel\u001b[0m\u001b[1;33m=\u001b[0m\u001b[0mlevel\u001b[0m\u001b[1;33m,\u001b[0m \u001b[0mskipna\u001b[0m\u001b[1;33m=\u001b[0m\u001b[0mskipna\u001b[0m\u001b[1;33m)\u001b[0m\u001b[1;33m\u001b[0m\u001b[1;33m\u001b[0m\u001b[0m\n\u001b[0;32m  11617\u001b[0m         return self._reduce(\n\u001b[1;32m> 11618\u001b[1;33m             \u001b[0mf\u001b[0m\u001b[1;33m,\u001b[0m \u001b[0mname\u001b[0m\u001b[1;33m,\u001b[0m \u001b[0maxis\u001b[0m\u001b[1;33m=\u001b[0m\u001b[0maxis\u001b[0m\u001b[1;33m,\u001b[0m \u001b[0mskipna\u001b[0m\u001b[1;33m=\u001b[0m\u001b[0mskipna\u001b[0m\u001b[1;33m,\u001b[0m \u001b[0mnumeric_only\u001b[0m\u001b[1;33m=\u001b[0m\u001b[0mnumeric_only\u001b[0m\u001b[1;33m\u001b[0m\u001b[1;33m\u001b[0m\u001b[0m\n\u001b[0m\u001b[0;32m  11619\u001b[0m         )\n\u001b[0;32m  11620\u001b[0m \u001b[1;33m\u001b[0m\u001b[0m\n",
      "\u001b[1;32m~\\Anaconda3\\envs\\learn-env\\lib\\site-packages\\pandas\\core\\series.py\u001b[0m in \u001b[0;36m_reduce\u001b[1;34m(self, op, name, axis, skipna, numeric_only, filter_type, **kwds)\u001b[0m\n\u001b[0;32m   4088\u001b[0m                 )\n\u001b[0;32m   4089\u001b[0m             \u001b[1;32mwith\u001b[0m \u001b[0mnp\u001b[0m\u001b[1;33m.\u001b[0m\u001b[0merrstate\u001b[0m\u001b[1;33m(\u001b[0m\u001b[0mall\u001b[0m\u001b[1;33m=\u001b[0m\u001b[1;34m\"ignore\"\u001b[0m\u001b[1;33m)\u001b[0m\u001b[1;33m:\u001b[0m\u001b[1;33m\u001b[0m\u001b[1;33m\u001b[0m\u001b[0m\n\u001b[1;32m-> 4090\u001b[1;33m                 \u001b[1;32mreturn\u001b[0m \u001b[0mop\u001b[0m\u001b[1;33m(\u001b[0m\u001b[0mdelegate\u001b[0m\u001b[1;33m,\u001b[0m \u001b[0mskipna\u001b[0m\u001b[1;33m=\u001b[0m\u001b[0mskipna\u001b[0m\u001b[1;33m,\u001b[0m \u001b[1;33m**\u001b[0m\u001b[0mkwds\u001b[0m\u001b[1;33m)\u001b[0m\u001b[1;33m\u001b[0m\u001b[1;33m\u001b[0m\u001b[0m\n\u001b[0m\u001b[0;32m   4091\u001b[0m \u001b[1;33m\u001b[0m\u001b[0m\n\u001b[0;32m   4092\u001b[0m         \u001b[1;31m# TODO(EA) dispatch to Index\u001b[0m\u001b[1;33m\u001b[0m\u001b[1;33m\u001b[0m\u001b[1;33m\u001b[0m\u001b[0m\n",
      "\u001b[1;32m~\\Anaconda3\\envs\\learn-env\\lib\\site-packages\\pandas\\core\\nanops.py\u001b[0m in \u001b[0;36m_f\u001b[1;34m(*args, **kwargs)\u001b[0m\n\u001b[0;32m     68\u001b[0m             \u001b[1;32mtry\u001b[0m\u001b[1;33m:\u001b[0m\u001b[1;33m\u001b[0m\u001b[1;33m\u001b[0m\u001b[0m\n\u001b[0;32m     69\u001b[0m                 \u001b[1;32mwith\u001b[0m \u001b[0mnp\u001b[0m\u001b[1;33m.\u001b[0m\u001b[0merrstate\u001b[0m\u001b[1;33m(\u001b[0m\u001b[0minvalid\u001b[0m\u001b[1;33m=\u001b[0m\u001b[1;34m\"ignore\"\u001b[0m\u001b[1;33m)\u001b[0m\u001b[1;33m:\u001b[0m\u001b[1;33m\u001b[0m\u001b[1;33m\u001b[0m\u001b[0m\n\u001b[1;32m---> 70\u001b[1;33m                     \u001b[1;32mreturn\u001b[0m \u001b[0mf\u001b[0m\u001b[1;33m(\u001b[0m\u001b[1;33m*\u001b[0m\u001b[0margs\u001b[0m\u001b[1;33m,\u001b[0m \u001b[1;33m**\u001b[0m\u001b[0mkwargs\u001b[0m\u001b[1;33m)\u001b[0m\u001b[1;33m\u001b[0m\u001b[1;33m\u001b[0m\u001b[0m\n\u001b[0m\u001b[0;32m     71\u001b[0m             \u001b[1;32mexcept\u001b[0m \u001b[0mValueError\u001b[0m \u001b[1;32mas\u001b[0m \u001b[0me\u001b[0m\u001b[1;33m:\u001b[0m\u001b[1;33m\u001b[0m\u001b[1;33m\u001b[0m\u001b[0m\n\u001b[0;32m     72\u001b[0m                 \u001b[1;31m# we want to transform an object array\u001b[0m\u001b[1;33m\u001b[0m\u001b[1;33m\u001b[0m\u001b[1;33m\u001b[0m\u001b[0m\n",
      "\u001b[1;32m~\\Anaconda3\\envs\\learn-env\\lib\\site-packages\\pandas\\core\\nanops.py\u001b[0m in \u001b[0;36mf\u001b[1;34m(values, axis, skipna, **kwds)\u001b[0m\n\u001b[0;32m    121\u001b[0m             \u001b[1;32mexcept\u001b[0m \u001b[0mException\u001b[0m\u001b[1;33m:\u001b[0m\u001b[1;33m\u001b[0m\u001b[1;33m\u001b[0m\u001b[0m\n\u001b[0;32m    122\u001b[0m                 \u001b[1;32mtry\u001b[0m\u001b[1;33m:\u001b[0m\u001b[1;33m\u001b[0m\u001b[1;33m\u001b[0m\u001b[0m\n\u001b[1;32m--> 123\u001b[1;33m                     \u001b[0mresult\u001b[0m \u001b[1;33m=\u001b[0m \u001b[0malt\u001b[0m\u001b[1;33m(\u001b[0m\u001b[0mvalues\u001b[0m\u001b[1;33m,\u001b[0m \u001b[0maxis\u001b[0m\u001b[1;33m=\u001b[0m\u001b[0maxis\u001b[0m\u001b[1;33m,\u001b[0m \u001b[0mskipna\u001b[0m\u001b[1;33m=\u001b[0m\u001b[0mskipna\u001b[0m\u001b[1;33m,\u001b[0m \u001b[1;33m**\u001b[0m\u001b[0mkwds\u001b[0m\u001b[1;33m)\u001b[0m\u001b[1;33m\u001b[0m\u001b[1;33m\u001b[0m\u001b[0m\n\u001b[0m\u001b[0;32m    124\u001b[0m                 \u001b[1;32mexcept\u001b[0m \u001b[0mValueError\u001b[0m \u001b[1;32mas\u001b[0m \u001b[0me\u001b[0m\u001b[1;33m:\u001b[0m\u001b[1;33m\u001b[0m\u001b[1;33m\u001b[0m\u001b[0m\n\u001b[0;32m    125\u001b[0m                     \u001b[1;31m# we want to transform an object array\u001b[0m\u001b[1;33m\u001b[0m\u001b[1;33m\u001b[0m\u001b[1;33m\u001b[0m\u001b[0m\n",
      "\u001b[1;32m~\\Anaconda3\\envs\\learn-env\\lib\\site-packages\\pandas\\core\\nanops.py\u001b[0m in \u001b[0;36mnanmean\u001b[1;34m(values, axis, skipna, mask)\u001b[0m\n\u001b[0;32m    549\u001b[0m         \u001b[0mdtype_count\u001b[0m \u001b[1;33m=\u001b[0m \u001b[0mdtype\u001b[0m\u001b[1;33m\u001b[0m\u001b[1;33m\u001b[0m\u001b[0m\n\u001b[0;32m    550\u001b[0m     \u001b[0mcount\u001b[0m \u001b[1;33m=\u001b[0m \u001b[0m_get_counts\u001b[0m\u001b[1;33m(\u001b[0m\u001b[0mvalues\u001b[0m\u001b[1;33m.\u001b[0m\u001b[0mshape\u001b[0m\u001b[1;33m,\u001b[0m \u001b[0mmask\u001b[0m\u001b[1;33m,\u001b[0m \u001b[0maxis\u001b[0m\u001b[1;33m,\u001b[0m \u001b[0mdtype\u001b[0m\u001b[1;33m=\u001b[0m\u001b[0mdtype_count\u001b[0m\u001b[1;33m)\u001b[0m\u001b[1;33m\u001b[0m\u001b[1;33m\u001b[0m\u001b[0m\n\u001b[1;32m--> 551\u001b[1;33m     \u001b[0mthe_sum\u001b[0m \u001b[1;33m=\u001b[0m \u001b[0m_ensure_numeric\u001b[0m\u001b[1;33m(\u001b[0m\u001b[0mvalues\u001b[0m\u001b[1;33m.\u001b[0m\u001b[0msum\u001b[0m\u001b[1;33m(\u001b[0m\u001b[0maxis\u001b[0m\u001b[1;33m,\u001b[0m \u001b[0mdtype\u001b[0m\u001b[1;33m=\u001b[0m\u001b[0mdtype_sum\u001b[0m\u001b[1;33m)\u001b[0m\u001b[1;33m)\u001b[0m\u001b[1;33m\u001b[0m\u001b[1;33m\u001b[0m\u001b[0m\n\u001b[0m\u001b[0;32m    552\u001b[0m \u001b[1;33m\u001b[0m\u001b[0m\n\u001b[0;32m    553\u001b[0m     \u001b[1;32mif\u001b[0m \u001b[0maxis\u001b[0m \u001b[1;32mis\u001b[0m \u001b[1;32mnot\u001b[0m \u001b[1;32mNone\u001b[0m \u001b[1;32mand\u001b[0m \u001b[0mgetattr\u001b[0m\u001b[1;33m(\u001b[0m\u001b[0mthe_sum\u001b[0m\u001b[1;33m,\u001b[0m \u001b[1;34m\"ndim\"\u001b[0m\u001b[1;33m,\u001b[0m \u001b[1;32mFalse\u001b[0m\u001b[1;33m)\u001b[0m\u001b[1;33m:\u001b[0m\u001b[1;33m\u001b[0m\u001b[1;33m\u001b[0m\u001b[0m\n",
      "\u001b[1;32m~\\Anaconda3\\envs\\learn-env\\lib\\site-packages\\pandas\\core\\nanops.py\u001b[0m in \u001b[0;36m_ensure_numeric\u001b[1;34m(x)\u001b[0m\n\u001b[0;32m   1308\u001b[0m             \u001b[1;32mexcept\u001b[0m \u001b[0mException\u001b[0m\u001b[1;33m:\u001b[0m\u001b[1;33m\u001b[0m\u001b[1;33m\u001b[0m\u001b[0m\n\u001b[0;32m   1309\u001b[0m                 raise TypeError(\n\u001b[1;32m-> 1310\u001b[1;33m                     \u001b[1;34m\"Could not convert {value!s} to numeric\"\u001b[0m\u001b[1;33m.\u001b[0m\u001b[0mformat\u001b[0m\u001b[1;33m(\u001b[0m\u001b[0mvalue\u001b[0m\u001b[1;33m=\u001b[0m\u001b[0mx\u001b[0m\u001b[1;33m)\u001b[0m\u001b[1;33m\u001b[0m\u001b[1;33m\u001b[0m\u001b[0m\n\u001b[0m\u001b[0;32m   1311\u001b[0m                 )\n\u001b[0;32m   1312\u001b[0m     \u001b[1;32mreturn\u001b[0m \u001b[0mx\u001b[0m\u001b[1;33m\u001b[0m\u001b[1;33m\u001b[0m\u001b[0m\n",
      "\u001b[1;31mTypeError\u001b[0m: Could not convert Federal ShippingThirtyFederal ShippingZeroFederal ShippingZeroSpeedy ExpressZeroSpeedy ExpressTenUnited PackageTenUnited PackageTenUnited PackageZeroSpeedy ExpressTwenty FiveSpeedy ExpressTwentySpeedy ExpressZeroUnited PackageZeroUnited PackageTwentyUnited PackageZeroUnited PackageTwentyUnited PackageFiveUnited PackageFifteenUnited PackageZeroUnited PackageTwentyUnited PackageFiveFederal ShippingTwenty FiveFederal ShippingTenFederal ShippingTwentyFederal ShippingZeroUnited PackageZeroUnited PackageFifteenFederal ShippingThirtyFederal ShippingFiveFederal ShippingFifteenSpeedy ExpressTwenty FiveSpeedy ExpressZeroSpeedy ExpressTwenty FiveFederal ShippingFiveFederal ShippingTwenty FiveSpeedy ExpressTenSpeedy ExpressTwentySpeedy ExpressZeroSpeedy ExpressThirtyUnited PackageFiveUnited PackageFifteenFederal ShippingZeroFederal ShippingTenFederal ShippingThirtyFederal ShippingTenFederal ShippingZeroFederal ShippingFifteenFederal ShippingFiveFederal ShippingTwenty FiveFederal ShippingTenSpeedy ExpressZeroSpeedy ExpressThirtyFederal ShippingZeroSpeedy ExpressThirtySpeedy ExpressZeroSpeedy ExpressTwentyFederal ShippingZeroFederal ShippingZeroSpeedy ExpressTwentySpeedy ExpressZeroSpeedy ExpressTwentySpeedy ExpressTwenty FiveUnited PackageTwentyUnited PackageZeroUnited PackageTwentyUnited PackageZeroFederal ShippingZeroFederal ShippingTwentyFederal ShippingTwentyFederal ShippingThirtyFederal ShippingTwentySpeedy ExpressZeroSpeedy ExpressZeroSpeedy ExpressZeroSpeedy ExpressZeroFederal ShippingZeroFederal ShippingFiveFederal ShippingZeroFederal ShippingZeroUnited PackageFifteenUnited PackageZeroUnited PackageFiveUnited PackageFiveUnited PackageZeroSpeedy ExpressZeroSpeedy ExpressTwentySpeedy ExpressTwenty FiveSpeedy ExpressFiveSpeedy ExpressZeroSpeedy ExpressFifteenSpeedy ExpressFifteenSpeedy ExpressTwentyFederal ShippingFiveFederal ShippingFiveFederal ShippingZeroFederal ShippingZeroSpeedy ExpressThirtySpeedy ExpressFifteenSpeedy ExpressZeroSpeedy ExpressTenUnited PackageTenUnited PackageThirtyUnited PackageZeroFederal ShippingFifteenFederal ShippingZeroFederal ShippingTenFederal ShippingFifteenFederal ShippingZeroSpeedy ExpressTenSpeedy ExpressFifteenFederal ShippingTwenty FiveFederal ShippingThirtySpeedy ExpressZeroSpeedy ExpressZeroSpeedy ExpressFifteenSpeedy ExpressFifteenUnited PackageFiveUnited PackageFifteenUnited PackageTenUnited PackageZeroFederal ShippingZeroFederal ShippingZeroFederal ShippingFiveFederal ShippingTwenty FiveUnited PackageTenUnited PackageZeroUnited PackageTwenty FiveUnited PackageZeroUnited PackageTwenty FiveUnited PackageThirtySpeedy ExpressThirtySpeedy ExpressTenSpeedy ExpressFifteenUnited PackageFiveUnited PackageZeroUnited PackageTwenty FiveUnited PackageTwentyUnited PackageZeroUnited PackageZeroUnited PackageFiveUnited PackageThirtyUnited PackageTwentyUnited PackageFifteenUnited PackageThirtyUnited PackageThirtyUnited PackageZeroUnited PackageZeroUnited PackageTwenty FiveUnited PackageThirtyUnited PackageZeroUnited PackageFifteenUnited PackageFifteenUnited PackageZeroUnited PackageZeroFederal ShippingZeroFederal ShippingZeroFederal ShippingFiveFederal ShippingFifteenFederal ShippingZeroFederal ShippingTenUnited PackageZeroUnited PackageFifteenFederal ShippingFifteenFederal ShippingThirtySpeedy ExpressZeroSpeedy ExpressTwenty FiveSpeedy ExpressZeroSpeedy ExpressTwenty FiveSpeedy ExpressZeroUnited PackageTenUnited PackageZeroFederal ShippingZeroFederal ShippingFifteenUnited PackageZeroUnited PackageTwenty FiveUnited PackageZeroUnited PackageTwenty FiveUnited PackageTwentyUnited PackageTwenty FiveUnited PackageTwentyUnited PackageZeroUnited PackageFifteenUnited PackageThirtyFederal ShippingTenFederal ShippingZeroSpeedy ExpressTenUnited PackageTenUnited PackageTwentyFederal ShippingZeroFederal ShippingZeroFederal ShippingTwentyFederal ShippingZeroUnited PackageFifteenFederal ShippingTwenty FiveSpeedy ExpressFiveSpeedy ExpressThirtySpeedy ExpressFiveSpeedy ExpressTenSpeedy ExpressFifteenSpeedy ExpressZeroSpeedy ExpressZeroSpeedy ExpressFiveFederal ShippingTwenty FiveFederal ShippingFiveFederal ShippingZeroFederal ShippingTwentyFederal ShippingZeroUnited PackageZeroUnited PackageTwentyUnited PackageTwenty FiveSpeedy ExpressTwenty FiveSpeedy ExpressThirtySpeedy ExpressFifteenSpeedy ExpressTwentyFederal ShippingZeroFederal ShippingZeroFederal ShippingFifteenUnited PackageFiveUnited PackageFifteenUnited PackageFifteenUnited PackageThirtySpeedy ExpressZeroSpeedy ExpressZeroSpeedy ExpressTenUnited PackageZeroUnited PackageZeroUnited PackageZeroFederal ShippingZeroFederal ShippingFiveFederal ShippingZeroUnited PackageTwenty FiveUnited PackageFifteenUnited PackageTwenty FiveUnited PackageTwentyUnited PackageTwenty FiveUnited PackageTenUnited PackageZeroFederal ShippingTwenty FiveFederal ShippingZeroFederal ShippingTwentyFederal ShippingTwenty FiveFederal ShippingZeroFederal ShippingZeroFederal ShippingFifteenUnited PackageZeroUnited PackageZeroUnited PackageZeroFederal ShippingZeroFederal ShippingTenFederal ShippingTwenty FiveFederal ShippingTwentyFederal ShippingZeroUnited PackageTwenty FiveUnited PackageTwentyUnited PackageTwentyUnited PackageTwentySpeedy ExpressThirtySpeedy ExpressFifteenSpeedy ExpressTwentyUnited PackageZeroUnited PackageZeroUnited PackageZeroUnited PackageFiveUnited PackageZeroFederal ShippingZeroFederal ShippingThirtyFederal ShippingThirtyFederal ShippingFiveFederal ShippingThirtyFederal ShippingTwenty FiveUnited PackageTenUnited PackageTwenty FiveSpeedy ExpressTenUnited PackageThirtyUnited PackageFifteenSpeedy ExpressFifteenSpeedy ExpressTenSpeedy ExpressFifteenSpeedy ExpressZeroFederal ShippingZeroFederal ShippingTenFederal ShippingThirtyFederal ShippingFifteenFederal ShippingTenFederal ShippingZeroSpeedy ExpressZeroSpeedy ExpressTwentyUnited PackageTwentyUnited PackageTwentyUnited PackageFifteenFederal ShippingZeroFederal ShippingZeroFederal ShippingZeroSpeedy ExpressZeroSpeedy ExpressFifteenSpeedy ExpressTwentyFederal ShippingTenFederal ShippingTwentyFederal ShippingZeroFederal ShippingZeroFederal ShippingZeroFederal ShippingFifteenFederal ShippingFifteenFederal ShippingTenUnited PackageFiveUnited PackageZeroSpeedy ExpressThirtySpeedy ExpressTenSpeedy ExpressTenFederal ShippingTwentyFederal ShippingTwenty FiveFederal ShippingTwentySpeedy ExpressFifteenSpeedy ExpressZeroUnited PackageThirtyUnited PackageZeroUnited PackageFifteenFederal ShippingFifteenFederal ShippingTenFederal ShippingZeroFederal ShippingFifteenUnited PackageFiveUnited PackageZeroUnited PackageTwentyUnited PackageThirtyUnited PackageZeroUnited PackageThirtyUnited PackageTenUnited PackageThirtyUnited PackageFiveSpeedy ExpressTwentyUnited PackageZeroUnited PackageFifteenUnited PackageZeroUnited PackageZeroFederal ShippingTwentyFederal ShippingZeroFederal ShippingTwentyFederal ShippingTwentyUnited PackageZeroUnited PackageTenUnited PackageTwentyFederal ShippingZeroFederal ShippingFiveFederal ShippingZeroSpeedy ExpressTenSpeedy ExpressFiveSpeedy ExpressZeroFederal ShippingFifteenFederal ShippingZeroFederal ShippingZeroFederal ShippingThirtyFederal ShippingFiveSpeedy ExpressZeroSpeedy ExpressZeroSpeedy ExpressZeroSpeedy ExpressTwentySpeedy ExpressFiveFederal ShippingFiveFederal ShippingThirtyFederal ShippingThirtyFederal ShippingZeroFederal ShippingZeroUnited PackageTenUnited PackageZeroUnited PackageFifteenFederal ShippingZeroFederal ShippingFifteenUnited PackageZeroUnited PackageZeroUnited PackageZeroUnited PackageZeroSpeedy ExpressFifteenSpeedy ExpressTwenty FiveSpeedy ExpressZeroUnited PackageZeroUnited PackageTwentyUnited PackageZeroUnited PackageThirtySpeedy ExpressTwentySpeedy ExpressFifteenSpeedy ExpressZeroSpeedy ExpressZeroFederal ShippingFiveFederal ShippingFifteenFederal ShippingTwenty FiveFederal ShippingZeroFederal ShippingThirtyFederal ShippingZeroFederal ShippingTwentyFederal ShippingFiveFederal ShippingZeroSpeedy ExpressZeroSpeedy ExpressZeroSpeedy ExpressFifteenFederal ShippingTwenty FiveFederal ShippingZeroFederal ShippingZeroSpeedy ExpressFiveSpeedy ExpressTenFederal ShippingFifteenFederal ShippingTwentyFederal ShippingFifteenFederal ShippingZeroFederal ShippingTwentyFederal ShippingFifteenFederal ShippingZeroFederal ShippingFifteenFederal ShippingFifteenSpeedy ExpressFifteenSpeedy ExpressThirtySpeedy ExpressZeroSpeedy ExpressZeroUnited PackageTwenty FiveUnited PackageFiveFederal ShippingTenFederal ShippingTwenty FiveSpeedy ExpressZeroSpeedy ExpressZeroSpeedy ExpressFifteenSpeedy ExpressTwenty FiveSpeedy ExpressTenSpeedy ExpressFiveSpeedy ExpressZeroSpeedy ExpressTwentySpeedy ExpressThirtyUnited PackageThirtyUnited PackageFifteenUnited PackageZeroSpeedy ExpressTwenty FiveSpeedy ExpressTenSpeedy ExpressZeroSpeedy ExpressZeroSpeedy ExpressFiveFederal ShippingTwentyFederal ShippingZeroFederal ShippingTenFederal ShippingFifteenFederal ShippingZeroUnited PackageZeroUnited PackageTenUnited PackageZeroUnited PackageTwentyFederal ShippingFiveFederal ShippingTwentySpeedy ExpressZeroSpeedy ExpressTwentyFederal ShippingFiveFederal ShippingZeroFederal ShippingTwentyFederal ShippingFifteenFederal ShippingZeroFederal ShippingFifteenFederal ShippingFifteenSpeedy ExpressTwenty FiveSpeedy ExpressZeroSpeedy ExpressTwenty FiveSpeedy ExpressFiveUnited PackageZeroUnited PackageFifteenSpeedy ExpressZeroSpeedy ExpressFiveSpeedy ExpressThirtySpeedy ExpressFiveSpeedy ExpressFiveSpeedy ExpressZeroSpeedy ExpressZeroSpeedy ExpressFifteenSpeedy ExpressZeroFederal ShippingTwentyFederal ShippingZeroUnited PackageFifteenUnited PackageFifteenUnited PackageFifteenUnited PackageTwentyUnited PackageTwentySpeedy ExpressThirtySpeedy ExpressThirtyUnited PackageZeroSpeedy ExpressZeroUnited PackageThirtyUnited PackageFiveSpeedy ExpressZeroSpeedy ExpressFiveSpeedy ExpressThirtySpeedy ExpressZeroUnited PackageZeroUnited PackageThirtyUnited PackageZeroUnited PackageZeroUnited PackageTenFederal ShippingThirtyUnited PackageThirtyUnited PackageTwentyUnited PackageTwenty FiveUnited PackageTwenty FiveUnited PackageZeroUnited PackageZeroUnited PackageThirtyUnited PackageThirtyUnited PackageTwenty FiveSpeedy ExpressZeroUnited PackageFiveUnited PackageFifteenUnited PackageTwentyFederal ShippingZeroFederal ShippingTenFederal ShippingThirtyFederal ShippingFiveUnited PackageTwenty FiveUnited PackageTenUnited PackageZeroUnited PackageTwenty FiveUnited PackageThirtyUnited PackageThirtyUnited PackageTenUnited PackageTwentySpeedy ExpressThirtySpeedy ExpressZeroFederal ShippingZeroFederal ShippingZeroFederal ShippingFifteenFederal ShippingTenSpeedy ExpressFiveSpeedy ExpressTenSpeedy ExpressFiveSpeedy ExpressZeroSpeedy ExpressTwentySpeedy ExpressTwenty FiveUnited PackageFiveUnited PackageZeroUnited PackageZeroUnited PackageZeroUnited PackageThirtyUnited PackageZeroUnited PackageTwenty FiveUnited PackageZeroUnited PackageZeroUnited PackageTenFederal ShippingTwentyFederal ShippingThirtyFederal ShippingZeroFederal ShippingFifteenSpeedy ExpressZeroSpeedy ExpressFifteenUnited PackageTwenty FiveUnited PackageThirtyFederal ShippingTenFederal ShippingTwentyFederal ShippingZeroUnited PackageFiveUnited PackageZeroUnited PackageTwenty FiveUnited PackageZeroUnited PackageFiveUnited PackageFifteenSpeedy ExpressZeroFederal ShippingZeroFederal ShippingZeroFederal ShippingTwenty FiveFederal ShippingThirtyFederal ShippingZeroUnited PackageTenUnited PackageZeroUnited PackageZeroSpeedy ExpressFifteenSpeedy ExpressTwenty FiveFederal ShippingFiveFederal ShippingFifteenFederal ShippingTwentySpeedy ExpressFiveSpeedy ExpressTwenty FiveFederal ShippingFiveFederal ShippingZeroUnited PackageZeroUnited PackageTwenty FiveUnited PackageThirtyUnited PackageZeroFederal ShippingZeroFederal ShippingZeroFederal ShippingThirtyFederal ShippingFifteenFederal ShippingThirtySpeedy ExpressThirtySpeedy ExpressZeroUnited PackageZeroUnited PackageThirtyFederal ShippingFifteenFederal ShippingTwenty FiveSpeedy ExpressTwenty FiveSpeedy ExpressTenSpeedy ExpressFifteenUnited PackageZeroUnited PackageTwenty FiveUnited PackageThirtyFederal ShippingTenFederal ShippingThirtySpeedy ExpressZeroSpeedy ExpressTenFederal ShippingTwentyFederal ShippingZeroUnited PackageZeroUnited PackageZeroUnited PackageThirtyUnited PackageTwenty FiveSpeedy ExpressTwentySpeedy ExpressTwentySpeedy ExpressTwentyFederal ShippingTwentyFederal ShippingThirtyUnited PackageTenUnited PackageFiveUnited PackageFiveFederal ShippingZeroFederal ShippingFifteenFederal ShippingZeroFederal ShippingZeroFederal ShippingThirtyUnited PackageZeroUnited PackageZeroUnited PackageFifteenUnited PackageZeroFederal ShippingThirtyUnited PackageFifteenUnited PackageFifteenFederal ShippingFiveFederal ShippingThirtyFederal ShippingTenUnited PackageTwenty FiveUnited PackageTwenty FiveUnited PackageTwentyUnited PackageThirtyUnited PackageThirtyUnited PackageTenUnited PackageFiveUnited PackageFiveUnited PackageZeroUnited PackageTenUnited PackageZeroUnited PackageFiveUnited PackageThirtyUnited PackageTenUnited PackageZeroUnited PackageFifteenUnited PackageTwenty FiveFederal ShippingFifteenFederal ShippingFifteenSpeedy ExpressThirtySpeedy ExpressZeroFederal ShippingZeroFederal ShippingTwentyFederal ShippingFifteenUnited PackageThirtyFederal ShippingTwenty FiveFederal ShippingTenFederal ShippingFifteenUnited PackageTwentySpeedy ExpressThirtySpeedy ExpressZeroSpeedy ExpressFifteenUnited PackageZeroUnited PackageThirtyUnited PackageZeroUnited PackageZeroUnited PackageFifteenSpeedy ExpressFiveSpeedy ExpressZeroFederal ShippingTenSpeedy ExpressFifteenSpeedy ExpressZeroSpeedy ExpressTenUnited PackageZeroUnited PackageZeroFederal ShippingTwenty FiveFederal ShippingFiveFederal ShippingZeroFederal ShippingTwenty FiveFederal ShippingZeroUnited PackageThirtyUnited PackageThirtySpeedy ExpressTwenty FiveSpeedy ExpressTwenty FiveUnited PackageFiveUnited PackageFiveSpeedy ExpressZeroFederal ShippingZeroFederal ShippingTwenty FiveFederal ShippingZeroFederal ShippingTenFederal ShippingZeroUnited PackageZeroUnited PackageZeroUnited PackageZeroUnited PackageZeroSpeedy ExpressFiveSpeedy ExpressTwenty FiveSpeedy ExpressTwenty FiveUnited PackageZeroUnited PackageZeroUnited PackageThirtyUnited PackageZeroUnited PackageTwenty FiveSpeedy ExpressZeroSpeedy ExpressTenSpeedy ExpressThirtySpeedy ExpressTwentySpeedy ExpressZeroFederal ShippingZeroFederal ShippingTenFederal ShippingZeroFederal ShippingTwenty FiveFederal ShippingZeroFederal ShippingThirtyUnited PackageZeroUnited PackageFifteenUnited PackageFifteenFederal ShippingZeroFederal ShippingThirtyFederal ShippingZeroSpeedy ExpressZeroSpeedy ExpressZeroUnited PackageFifteenUnited PackageTenUnited PackageFifteenSpeedy ExpressTenSpeedy ExpressZeroSpeedy ExpressFifteenSpeedy ExpressThirtyUnited PackageZeroUnited PackageZeroUnited PackageTwenty FiveUnited PackageTenUnited PackageZeroUnited PackageFifteenUnited PackageTwenty FiveUnited PackageTenUnited PackageTwentyUnited PackageThirtyUnited PackageTenUnited PackageFiveUnited PackageThirtySpeedy ExpressZeroSpeedy ExpressTwentyUnited PackageThirtyUnited PackageTwentyUnited PackageZeroUnited PackageTwentyUnited PackageFifteenUnited PackageFifteenUnited PackageZeroUnited PackageTwenty FiveUnited PackageTwenty FiveUnited PackageTwentySpeedy ExpressZeroFederal ShippingFifteenFederal ShippingTwentySpeedy ExpressZeroSpeedy ExpressZeroSpeedy ExpressFiveUnited PackageFifteenUnited PackageThirtyUnited PackageTenSpeedy ExpressThirtySpeedy ExpressThirtySpeedy ExpressTwentySpeedy ExpressZeroUnited PackageZeroUnited PackageTwentyUnited PackageTwentyUnited PackageZeroSpeedy ExpressTwentySpeedy ExpressTenSpeedy ExpressTwentySpeedy ExpressZeroSpeedy ExpressFiveFederal ShippingThirtyFederal ShippingZeroFederal ShippingFiveFederal ShippingFiveFederal ShippingTwentyFederal ShippingFifteenFederal ShippingTwenty FiveFederal ShippingZeroFederal ShippingFifteenFederal ShippingFifteenSpeedy ExpressZeroSpeedy ExpressFifteenSpeedy ExpressZeroSpeedy ExpressZeroFederal ShippingThirtyFederal ShippingTenUnited PackageZeroUnited PackageTwenty FiveSpeedy ExpressZeroSpeedy ExpressTenUnited PackageThirtyFederal ShippingTenFederal ShippingFifteenFederal ShippingZeroUnited PackageTwenty FiveUnited PackageTwentyUnited PackageFifteenUnited PackageTenSpeedy ExpressTwentySpeedy ExpressFifteenSpeedy ExpressTenFederal ShippingZeroFederal ShippingFiveFederal ShippingFiveFederal ShippingTwenty FiveFederal ShippingTenFederal ShippingFifteenFederal ShippingFifteenSpeedy ExpressFifteenSpeedy ExpressTwenty FiveUnited PackageThirtyUnited PackageTenUnited PackageTwenty FiveUnited PackageTwentyUnited PackageFifteenFederal ShippingTenFederal ShippingTwenty FiveFederal ShippingZeroFederal ShippingFifteenFederal ShippingZeroFederal ShippingFiveFederal ShippingZeroFederal ShippingTenFederal ShippingThirtySpeedy ExpressZeroUnited PackageThirtyUnited PackageTwenty FiveUnited PackageZeroUnited PackageTenUnited PackageTwenty FiveUnited PackageZeroUnited PackageFiveSpeedy ExpressTenSpeedy ExpressTwentySpeedy ExpressFifteenSpeedy ExpressZeroUnited PackageFifteenUnited PackageTenSpeedy ExpressTwentySpeedy ExpressZeroUnited PackageTwentyUnited PackageTwenty FiveFederal ShippingZeroFederal ShippingTwentyFederal ShippingTwentyUnited PackageZeroUnited PackageThirtySpeedy ExpressThirtySpeedy ExpressZeroSpeedy ExpressTwentySpeedy ExpressTwentySpeedy ExpressTenSpeedy ExpressZeroFederal ShippingZeroSpeedy ExpressTwentySpeedy ExpressTwentyFederal ShippingThirtyFederal ShippingThirtyFederal ShippingZeroFederal ShippingZeroUnited PackageTenUnited PackageTwenty FiveUnited PackageThirtyUnited PackageTwenty FiveFederal ShippingZeroFederal ShippingFifteenFederal ShippingZeroUnited PackageTwentyUnited PackageThirtyUnited PackageZeroUnited PackageThirtySpeedy ExpressZeroSpeedy ExpressFiveSpeedy ExpressZeroSpeedy ExpressTwentyFederal ShippingTenFederal ShippingTwentyFederal ShippingFifteenUnited PackageFiveUnited PackageTwenty FiveUnited PackageFifteenFederal ShippingFifteenFederal ShippingTwentyUnited PackageFiveUnited PackageTwenty FiveFederal ShippingZeroFederal ShippingTenFederal ShippingZeroSpeedy ExpressTwenty FiveUnited PackageTwentyUnited PackageTwentyUnited PackageZeroUnited PackageZeroUnited PackageFifteenSpeedy ExpressTwentySpeedy ExpressZeroSpeedy ExpressTwenty FiveSpeedy ExpressZeroSpeedy ExpressFifteenSpeedy ExpressFifteenFederal ShippingZeroFederal ShippingZeroUnited PackageFifteenFederal ShippingTenFederal ShippingFifteenSpeedy ExpressTwenty FiveSpeedy ExpressTenSpeedy ExpressTenSpeedy ExpressFiveSpeedy ExpressZeroUnited PackageZeroUnited PackageFifteenUnited PackageTwentyUnited PackageTwenty FiveUnited PackageTwentySpeedy ExpressFifteenSpeedy ExpressTwenty FiveSpeedy ExpressFifteenSpeedy ExpressThirtySpeedy ExpressFiveSpeedy ExpressTwenty FiveFederal ShippingZeroFederal ShippingTwentyFederal ShippingZeroFederal ShippingThirtyFederal ShippingZeroFederal ShippingZeroSpeedy ExpressTenSpeedy ExpressFiveSpeedy ExpressFiveSpeedy ExpressZeroUnited PackageFifteenUnited PackageTwenty FiveUnited PackageFifteenSpeedy ExpressTwenty FiveSpeedy ExpressTwentyUnited PackageTenUnited PackageZeroUnited PackageZeroUnited PackageZeroFederal ShippingZeroFederal ShippingTwentyFederal ShippingZeroSpeedy ExpressTenSpeedy ExpressZeroSpeedy ExpressTwentySpeedy ExpressThirtySpeedy ExpressZeroUnited PackageThirtyUnited PackageTenUnited PackageZeroUnited PackageFiveSpeedy ExpressTwentyUnited PackageTenUnited PackageTwenty FiveUnited PackageZeroUnited PackageZeroUnited PackageTwentyUnited PackageFifteenUnited PackageZeroUnited PackageTwentyUnited PackageFiveUnited PackageTwenty FiveFederal ShippingThirtyFederal ShippingFiveFederal ShippingFiveFederal ShippingTwentyUnited PackageFifteenUnited PackageThirtyUnited PackageThirtyUnited PackageZeroUnited PackageZeroSpeedy ExpressTwenty FiveSpeedy ExpressThirtySpeedy ExpressFifteenFederal ShippingFiveFederal ShippingTwenty FiveFederal ShippingZeroFederal ShippingTwenty FiveUnited PackageFiveUnited PackageTwenty FiveUnited PackageThirtyUnited PackageZeroFederal ShippingTwenty FiveFederal ShippingFifteenUnited PackageZeroUnited PackageFiveUnited PackageFiveUnited PackageZeroUnited PackageFifteenUnited PackageZeroUnited PackageZeroUnited PackageFifteenSpeedy ExpressZeroSpeedy ExpressZeroSpeedy ExpressZeroUnited PackageZeroUnited PackageZeroUnited PackageZeroFederal ShippingZeroFederal ShippingFiveFederal ShippingTenFederal ShippingZeroFederal ShippingThirtyUnited PackageTwentyUnited PackageTwentySpeedy ExpressTwenty FiveSpeedy ExpressTwenty FiveSpeedy ExpressTwentyFederal ShippingZeroFederal ShippingFiveFederal ShippingZeroFederal ShippingZeroFederal ShippingTenFederal ShippingZeroFederal ShippingTenFederal ShippingTwenty FiveFederal ShippingZeroFederal ShippingZeroFederal ShippingTwenty FiveSpeedy ExpressZeroSpeedy ExpressTwentySpeedy ExpressThirtySpeedy ExpressThirtySpeedy ExpressThirtySpeedy ExpressFifteenSpeedy ExpressZeroSpeedy ExpressZeroFederal ShippingZeroSpeedy ExpressFifteenSpeedy ExpressThirtyUnited PackageTwenty FiveUnited PackageThirtyFederal ShippingFiveFederal ShippingTwenty FiveSpeedy ExpressZeroSpeedy ExpressFiveSpeedy ExpressZeroUnited PackageZeroUnited PackageTwenty FiveUnited PackageZeroSpeedy ExpressZeroSpeedy ExpressTwentyFederal ShippingTenFederal ShippingZeroFederal ShippingZeroFederal ShippingFifteenUnited PackageFiveUnited PackageFiveUnited PackageTwenty FiveUnited PackageZeroFederal ShippingZeroFederal ShippingZeroFederal ShippingFifteenFederal ShippingZeroFederal ShippingTenUnited PackageFiveUnited PackageTwenty FiveUnited PackageFifteenUnited PackageZeroSpeedy ExpressTenSpeedy ExpressZeroSpeedy ExpressZeroSpeedy ExpressFiveSpeedy ExpressTenUnited PackageTenSpeedy ExpressZeroSpeedy ExpressFifteenSpeedy ExpressZeroUnited PackageFiveUnited PackageTenUnited PackageZeroUnited PackageZeroUnited PackageThirtyUnited PackageZeroSpeedy ExpressFiveSpeedy ExpressThirtySpeedy ExpressZeroSpeedy ExpressFifteenUnited PackageTwentyUnited PackageThirtyUnited PackageThirtySpeedy ExpressZeroFederal ShippingFiveFederal ShippingTwentyUnited PackageFifteenUnited PackageThirtyUnited PackageZeroUnited PackageTenFederal ShippingZeroFederal ShippingThirtyFederal ShippingZeroUnited PackageTenUnited PackageZeroUnited PackageTwentyUnited PackageZeroUnited PackageZeroSpeedy ExpressFifteenSpeedy ExpressZeroUnited PackageTwentyUnited PackageTwentyUnited PackageThirtySpeedy ExpressTwentySpeedy ExpressTwenty FiveSpeedy ExpressZeroSpeedy ExpressTenSpeedy ExpressFiveSpeedy ExpressTwenty FiveSpeedy ExpressTenSpeedy ExpressZeroSpeedy ExpressZeroUnited PackageFifteenUnited PackageZeroSpeedy ExpressTenSpeedy ExpressZeroSpeedy ExpressTwenty FiveUnited PackageTwenty FiveUnited PackageZeroUnited PackageZeroUnited PackageTwentyUnited PackageZeroUnited PackageFiveUnited PackageFifteenFederal ShippingZeroFederal ShippingTwentyFederal ShippingZeroFederal ShippingTwentyFederal ShippingTenFederal ShippingTenFederal ShippingZeroSpeedy ExpressTenSpeedy ExpressTwentySpeedy ExpressZeroFederal ShippingFiveFederal ShippingFiveFederal ShippingThirtyUnited PackageTwentyUnited PackageTwentyUnited PackageTwenty FiveSpeedy ExpressTwenty FiveSpeedy ExpressThirtySpeedy ExpressZeroSpeedy ExpressZeroUnited PackageZeroUnited PackageTenUnited PackageZeroSpeedy ExpressZeroSpeedy ExpressZeroUnited PackageZeroUnited PackageZeroUnited PackageTwentyUnited PackageZeroUnited PackageZeroUnited PackageFifteenUnited PackageTenSpeedy ExpressThirtySpeedy ExpressFifteenUnited PackageTenUnited PackageZeroUnited PackageTwenty FiveUnited PackageFifteenUnited PackageZeroUnited PackageFiveFederal ShippingZeroFederal ShippingTenFederal ShippingFifteenFederal ShippingFiveFederal ShippingTenFederal ShippingZeroFederal ShippingThirtySpeedy ExpressZeroSpeedy ExpressZeroSpeedy ExpressZeroFederal ShippingZeroFederal ShippingZeroSpeedy ExpressFiveSpeedy ExpressFifteenSpeedy ExpressTwentySpeedy ExpressThirtySpeedy ExpressThirtySpeedy ExpressZeroSpeedy ExpressZeroSpeedy ExpressZeroSpeedy ExpressThirtyFederal ShippingZeroSpeedy ExpressTenSpeedy ExpressFifteenSpeedy ExpressFifteenSpeedy ExpressZeroFederal ShippingZeroFederal ShippingZeroFederal ShippingTwentySpeedy ExpressTwenty FiveSpeedy ExpressTwentyUnited PackageTwenty FiveUnited PackageZeroUnited PackageFiveSpeedy ExpressZeroSpeedy ExpressZeroSpeedy ExpressTwenty FiveUnited PackageTwentyUnited PackageTwenty FiveFederal ShippingTenFederal ShippingTwenty FiveFederal ShippingZeroFederal ShippingTwentyFederal ShippingTwentyFederal ShippingThirtyUnited PackageZeroUnited PackageTwentyFederal ShippingZeroFederal ShippingTenFederal ShippingZeroSpeedy ExpressFiveSpeedy ExpressZeroUnited PackageFiveUnited PackageTenUnited PackageZeroSpeedy ExpressZeroSpeedy ExpressThirtySpeedy ExpressZeroSpeedy ExpressZeroSpeedy ExpressFifteenSpeedy ExpressZeroFederal ShippingTwenty FiveFederal ShippingZeroFederal ShippingZeroFederal ShippingThirtyFederal ShippingTwentySpeedy ExpressZeroSpeedy ExpressZeroUnited PackageFiveUnited PackageTenUnited PackageTwenty FiveUnited PackageFiveUnited PackageTenUnited PackageFifteenFederal ShippingZeroFederal ShippingTenFederal ShippingTwentyFederal ShippingZeroUnited PackageZeroUnited PackageFifteenUnited PackageTenUnited PackageFifteenUnited PackageZeroFederal ShippingFifteenSpeedy ExpressTwenty FiveSpeedy ExpressTwentySpeedy ExpressFifteenSpeedy ExpressTwenty FiveSpeedy ExpressZeroUnited PackageZeroUnited PackageTwenty FiveFederal ShippingTenFederal ShippingTwenty FiveFederal ShippingTwentySpeedy ExpressZeroSpeedy ExpressThirtySpeedy ExpressZeroSpeedy ExpressThirtySpeedy ExpressZeroUnited PackageFifteenUnited PackageThirtyUnited PackageTwentyUnited PackageZeroFederal ShippingTenFederal ShippingFiveFederal ShippingThirtySpeedy ExpressTenSpeedy ExpressTwentySpeedy ExpressZeroSpeedy ExpressFiveSpeedy ExpressTenSpeedy ExpressTwentyFederal ShippingZeroFederal ShippingZeroFederal ShippingTwenty FiveFederal ShippingTwenty FiveFederal ShippingFifteenFederal ShippingTwentyUnited PackageTwenty FiveUnited PackageFifteenUnited PackageZeroUnited PackageTwenty FiveUnited PackageFiveUnited PackageTenSpeedy ExpressTenFederal ShippingTwentyFederal ShippingTwenty FiveUnited PackageZeroUnited PackageFifteenUnited PackageFifteenUnited PackageThirtyFederal ShippingTwenty FiveFederal ShippingTwenty FiveFederal ShippingZeroFederal ShippingZeroUnited PackageZeroSpeedy ExpressThirtySpeedy ExpressZeroSpeedy ExpressFifteenSpeedy ExpressZeroSpeedy ExpressZeroFederal ShippingFiveFederal ShippingZeroFederal ShippingZeroFederal ShippingFifteenSpeedy ExpressTwentySpeedy ExpressTenSpeedy ExpressFiveSpeedy ExpressFifteenSpeedy ExpressTwenty FiveSpeedy ExpressThirtySpeedy ExpressThirtyUnited PackageThirtyUnited PackageZeroUnited PackageTwentySpeedy ExpressZeroSpeedy ExpressFifteenSpeedy ExpressZeroFederal ShippingZeroFederal ShippingFifteenFederal ShippingThirtyFederal ShippingFiveFederal ShippingTenFederal ShippingFifteenSpeedy ExpressFifteenSpeedy ExpressFiveFederal ShippingThirtyUnited PackageZeroUnited PackageThirtyUnited PackageTwentyUnited PackageFifteenUnited PackageZeroUnited PackageTwentyUnited PackageFifteenUnited PackageFifteenSpeedy ExpressFifteenSpeedy ExpressZeroSpeedy ExpressZeroSpeedy ExpressThirtyFederal ShippingZeroFederal ShippingTwenty FiveFederal ShippingThirtyFederal ShippingTwenty FiveSpeedy ExpressThirtySpeedy ExpressThirtySpeedy ExpressTwenty FiveUnited PackageThirtyUnited PackageTwenty FiveSpeedy ExpressFiveSpeedy ExpressZeroSpeedy ExpressTenSpeedy ExpressThirtyFederal ShippingFiveFederal ShippingTwenty FiveFederal ShippingZeroFederal ShippingTwenty FiveFederal ShippingFiveFederal ShippingZeroSpeedy ExpressTwenty FiveSpeedy ExpressTenSpeedy ExpressFifteenFederal ShippingZeroUnited PackageTwenty FiveUnited PackageTwentyUnited PackageZeroUnited PackageZeroSpeedy ExpressTenSpeedy ExpressTwenty FiveSpeedy ExpressTwenty FiveSpeedy ExpressZeroFederal ShippingThirtyUnited PackageZeroUnited PackageZeroUnited PackageZeroFederal ShippingZeroFederal ShippingTwentyFederal ShippingTwenty FiveSpeedy ExpressTwentySpeedy ExpressTwentySpeedy ExpressZeroSpeedy ExpressTenFederal ShippingTwentyFederal ShippingZeroFederal ShippingFifteenFederal ShippingTenUnited PackageZeroSpeedy ExpressTenUnited PackageTenUnited PackageZeroSpeedy ExpressThirtySpeedy ExpressFifteenFederal ShippingTenFederal ShippingThirtyFederal ShippingFiveFederal ShippingTwentyUnited PackageTwentyUnited PackageFifteenFederal ShippingTwentyFederal ShippingFiveFederal ShippingZeroFederal ShippingZeroFederal ShippingTwenty FiveSpeedy ExpressZeroSpeedy ExpressFifteenSpeedy ExpressTwenty FiveSpeedy ExpressTwenty FiveSpeedy ExpressZeroUnited PackageFiveUnited PackageTwenty FiveUnited PackageZeroUnited PackageFifteenUnited PackageFiveUnited PackageFifteenSpeedy ExpressTenSpeedy ExpressThirtyUnited PackageZeroUnited PackageTenFederal ShippingTwenty FiveFederal ShippingTenFederal ShippingFifteenFederal ShippingTenFederal ShippingTwenty FiveSpeedy ExpressZeroSpeedy ExpressTenUnited PackageTenUnited PackageZeroSpeedy ExpressZeroSpeedy ExpressFifteenSpeedy ExpressThirtySpeedy ExpressFifteenUnited PackageThirtySpeedy ExpressZeroSpeedy ExpressZeroFederal ShippingFiveFederal ShippingZeroFederal ShippingZeroFederal ShippingThirtyFederal ShippingTenFederal ShippingTenUnited PackageZeroUnited PackageZeroUnited PackageFifteenUnited PackageTenUnited PackageTwentyUnited PackageZeroSpeedy ExpressFiveSpeedy ExpressThirtySpeedy ExpressZeroUnited PackageZeroUnited PackageZeroUnited PackageFifteenFederal ShippingFifteenFederal ShippingFifteenUnited PackageTwenty FiveUnited PackageZeroUnited PackageFiveSpeedy ExpressThirtyFederal ShippingThirtyFederal ShippingTwentySpeedy ExpressTwenty FiveFederal ShippingFiveFederal ShippingThirtyFederal ShippingThirtySpeedy ExpressFiveSpeedy ExpressTwenty FiveSpeedy ExpressThirtySpeedy ExpressTwentySpeedy ExpressZeroSpeedy ExpressFifteenSpeedy ExpressTwenty FiveSpeedy ExpressZeroFederal ShippingTenFederal ShippingTwenty FiveFederal ShippingTwenty FiveFederal ShippingTwenty FiveFederal ShippingTwentyUnited PackageFifteenUnited PackageZeroUnited PackageZeroUnited PackageFifteenUnited PackageThirtyUnited PackageZeroFederal ShippingTwenty FiveFederal ShippingTenFederal ShippingTwenty FiveFederal ShippingTwenty FiveUnited PackageThirtySpeedy ExpressFifteenSpeedy ExpressTenFederal ShippingZeroFederal ShippingThirtyUnited PackageThirtyUnited PackageTwentyUnited PackageZeroUnited PackageFifteenSpeedy ExpressTenSpeedy ExpressThirtySpeedy ExpressZeroSpeedy ExpressZeroSpeedy ExpressTwentySpeedy ExpressTwentyUnited PackageZeroUnited PackageFiveSpeedy ExpressZeroSpeedy ExpressFifteenSpeedy ExpressTwenty FiveSpeedy ExpressZeroSpeedy ExpressFiveSpeedy ExpressZeroUnited PackageTwenty FiveUnited PackageFiveUnited PackageZeroUnited PackageFifteenUnited PackageFiveUnited PackageFifteenUnited PackageFifteenUnited PackageTwenty FiveUnited PackageFiveUnited PackageThirtyUnited PackageFifteenUnited PackageThirtyUnited PackageTenUnited PackageTwentyUnited PackageZeroFederal ShippingZeroFederal ShippingFifteenFederal ShippingZeroFederal ShippingFifteenSpeedy ExpressTwenty FiveSpeedy ExpressFifteenSpeedy ExpressTwentySpeedy ExpressZeroSpeedy ExpressThirtyFederal ShippingFiveFederal ShippingThirtyFederal ShippingZeroFederal ShippingTwentyFederal ShippingTenFederal ShippingZeroFederal ShippingTwentyFederal ShippingTwentyFederal ShippingZeroUnited PackageThirtyUnited PackageFiveUnited PackageZeroUnited PackageThirtyUnited PackageZeroUnited PackageFifteenFederal ShippingThirtyFederal ShippingTwenty FiveFederal ShippingFifteenFederal ShippingThirtyUnited PackageTenUnited PackageTwenty FiveSpeedy ExpressTwenty FiveSpeedy ExpressFifteenSpeedy ExpressZeroSpeedy ExpressTwentySpeedy ExpressThirtyFederal ShippingZeroFederal ShippingThirtyFederal ShippingFiveFederal ShippingTenFederal ShippingFiveFederal ShippingTwenty FiveFederal ShippingFifteenFederal ShippingZeroFederal ShippingZeroUnited PackageZeroUnited PackageZeroUnited PackageTwenty FiveUnited PackageZeroSpeedy ExpressThirtySpeedy ExpressTwentySpeedy ExpressThirtySpeedy ExpressTwenty FiveSpeedy ExpressThirtySpeedy ExpressTwentySpeedy ExpressZeroSpeedy ExpressTwenty FiveSpeedy ExpressZeroSpeedy ExpressZeroUnited PackageZeroUnited PackageZeroUnited PackageFiveSpeedy ExpressTenSpeedy ExpressTwentySpeedy ExpressThirtySpeedy ExpressZeroUnited PackageTwenty FiveUnited PackageZeroUnited PackageTwenty FiveUnited PackageZeroUnited PackageZeroSpeedy ExpressTenSpeedy ExpressThirtySpeedy ExpressThirtyUnited PackageZeroUnited PackageTenUnited PackageThirtyFederal ShippingTenFederal ShippingTwentyUnited PackageZeroUnited PackageZeroUnited PackageFiveUnited PackageTwentyUnited PackageZeroUnited PackageThirtyUnited PackageTwenty FiveUnited PackageTenUnited PackageTwentyUnited PackageFifteenUnited PackageTenSpeedy ExpressFifteenSpeedy ExpressFiveSpeedy ExpressTwenty FiveSpeedy ExpressZeroSpeedy ExpressFifteenSpeedy ExpressZeroUnited PackageZeroUnited PackageFifteenUnited PackageFifteenSpeedy ExpressTenSpeedy ExpressThirtySpeedy ExpressTwenty FiveSpeedy ExpressFifteenFederal ShippingFifteenFederal ShippingTenUnited PackageTwenty FiveUnited PackageTenUnited PackageZeroUnited PackageTwentyUnited PackageZeroUnited PackageThirtyUnited PackageZeroSpeedy ExpressFiveSpeedy ExpressZeroUnited PackageZeroUnited PackageFiveUnited PackageZeroUnited PackageFifteenFederal ShippingZeroFederal ShippingThirtySpeedy ExpressTenSpeedy ExpressZeroSpeedy ExpressZeroFederal ShippingThirtyFederal ShippingZeroFederal ShippingTwentySpeedy ExpressTwenty FiveSpeedy ExpressTwenty FiveSpeedy ExpressThirtySpeedy ExpressFiveFederal ShippingZeroFederal ShippingFifteenFederal ShippingTenFederal ShippingZeroUnited PackageFiveUnited PackageThirtyUnited PackageZeroFederal ShippingTwenty FiveFederal ShippingZeroFederal ShippingThirtyFederal ShippingFifteenSpeedy ExpressZeroSpeedy ExpressTwentySpeedy ExpressFifteenFederal ShippingThirtyUnited PackageTwenty FiveUnited PackageFifteenFederal ShippingThirtyFederal ShippingFifteenSpeedy ExpressZeroSpeedy ExpressFifteenSpeedy ExpressTenUnited PackageFifteenUnited PackageZeroUnited PackageZeroUnited PackageZeroUnited PackageZeroUnited PackageFifteenUnited PackageTwentySpeedy ExpressFiveSpeedy ExpressFifteenSpeedy ExpressTwenty FiveSpeedy ExpressZeroSpeedy ExpressFiveSpeedy ExpressThirtySpeedy ExpressZeroFederal ShippingFifteenFederal ShippingThirtyUnited PackageZeroUnited PackageFifteenUnited PackageFiveFederal ShippingFiveUnited PackageThirtySpeedy ExpressTenSpeedy ExpressZeroSpeedy ExpressTwentySpeedy ExpressZeroFederal ShippingFiveFederal ShippingZeroFederal ShippingFifteenFederal ShippingTwentyFederal ShippingZeroUnited PackageTenFederal ShippingTwenty FiveFederal ShippingTwenty FiveUnited PackageTenUnited PackageTwenty FiveUnited PackageTenUnited PackageTenUnited PackageTenFederal ShippingFiveFederal ShippingFifteenFederal ShippingTwenty FiveSpeedy ExpressTenSpeedy ExpressZeroSpeedy ExpressTenUnited PackageThirtyUnited PackageZeroSpeedy ExpressZeroSpeedy ExpressTwentySpeedy ExpressTwentySpeedy ExpressZeroUnited PackageZeroUnited PackageTwentyUnited PackageTenUnited PackageTenUnited PackageTwenty FiveUnited PackageTwentyUnited PackageFifteenUnited PackageZeroFederal ShippingTenFederal ShippingZeroUnited PackageTenUnited PackageThirtyUnited PackageThirtyUnited PackageThirtySpeedy ExpressFifteenSpeedy ExpressFiveFederal ShippingZeroFederal ShippingZeroFederal ShippingZeroFederal ShippingTwenty FiveFederal ShippingTenUnited PackageZeroUnited PackageZeroUnited PackageTwenty FiveSpeedy ExpressTwentySpeedy ExpressTwenty FiveFederal ShippingThirtyFederal ShippingFiveFederal ShippingFiveFederal ShippingZeroSpeedy ExpressZeroSpeedy ExpressTwenty FiveSpeedy ExpressTwentySpeedy ExpressZeroSpeedy ExpressTwentySpeedy ExpressFiveSpeedy ExpressTwenty FiveSpeedy ExpressFifteenFederal ShippingFiveFederal ShippingThirtyFederal ShippingTwentyFederal ShippingTwentyUnited PackageFiveUnited PackageTwentySpeedy ExpressTenSpeedy ExpressZeroSpeedy ExpressZeroSpeedy ExpressTwenty FiveFederal ShippingZeroFederal ShippingTwenty FiveFederal ShippingTwenty FiveFederal ShippingTenFederal ShippingZeroFederal ShippingTwenty FiveUnited PackageTwentyFederal ShippingZeroFederal ShippingFifteenUnited PackageFiveUnited PackageTwenty FiveUnited PackageZeroUnited PackageZeroUnited PackageTwenty FiveUnited PackageTenFederal ShippingTenFederal ShippingFiveUnited PackageTwentyUnited PackageZeroUnited PackageFifteenUnited PackageZeroFederal ShippingFifteenUnited PackageFiveUnited PackageTwenty FiveUnited PackageZeroFederal ShippingThirtyFederal ShippingFifteenFederal ShippingThirtySpeedy ExpressFiveSpeedy ExpressTwentyUnited PackageZeroUnited PackageZeroUnited PackageFifteenUnited PackageZeroFederal ShippingThirtyFederal ShippingTenFederal ShippingTwentyFederal ShippingTwenty FiveFederal ShippingZeroFederal ShippingZeroFederal ShippingZeroUnited PackageZeroUnited PackageTwentyUnited PackageTenUnited PackageTwenty FiveSpeedy ExpressTwenty FiveSpeedy ExpressZeroUnited PackageZeroUnited PackageTwentySpeedy ExpressTenSpeedy ExpressTwentySpeedy ExpressFifteenSpeedy ExpressZeroUnited PackageTwenty FiveUnited PackageFiveUnited PackageZeroUnited PackageTenFederal ShippingFifteenFederal ShippingFifteenFederal ShippingThirtyUnited PackageZeroUnited PackageTenUnited PackageZeroUnited PackageTwenty FiveSpeedy ExpressZeroSpeedy ExpressTenSpeedy ExpressTwenty FiveSpeedy ExpressTwentyUnited PackageTenUnited PackageFiveUnited PackageZeroUnited PackageFifteenUnited PackageTwentyFederal ShippingZeroUnited PackageZeroUnited PackageFifteenUnited PackageFifteenFederal ShippingTenSpeedy ExpressTwenty FiveSpeedy ExpressThirtySpeedy ExpressZeroUnited PackageFiveUnited PackageFifteenFederal ShippingZeroFederal ShippingZeroFederal ShippingThirtyUnited PackageZeroSpeedy ExpressTwenty FiveUnited PackageZeroUnited PackageZeroUnited PackageTwentyUnited PackageZeroUnited PackageTenUnited PackageTwenty FiveFederal ShippingFiveFederal ShippingZeroFederal ShippingTwenty FiveSpeedy ExpressZeroFederal ShippingFiveFederal ShippingZeroFederal ShippingTenFederal ShippingFiveUnited PackageZeroUnited PackageFiveUnited PackageThirtyUnited PackageFifteenUnited PackageTenUnited PackageZeroUnited PackageZeroUnited PackageThirtyUnited PackageTwentyUnited PackageFiveSpeedy ExpressTwenty FiveUnited PackageFifteenSpeedy ExpressTenSpeedy ExpressTwenty FiveUnited PackageFiveUnited PackageTwentyFederal ShippingTenFederal ShippingZeroFederal ShippingTwentySpeedy ExpressTenSpeedy ExpressZeroSpeedy ExpressTwenty FiveUnited PackageThirtyUnited PackageZeroUnited PackageTwentyUnited PackageFifteenSpeedy ExpressTenSpeedy ExpressTwenty FiveSpeedy ExpressZeroUnited PackageTenUnited PackageZeroSpeedy ExpressTwenty FiveSpeedy ExpressThirtySpeedy ExpressTenFederal ShippingFiveFederal ShippingFifteenFederal ShippingTwentyFederal ShippingTwenty FiveSpeedy ExpressTwenty FiveSpeedy ExpressThirtySpeedy ExpressTwentyFederal ShippingZeroFederal ShippingZeroFederal ShippingTenFederal ShippingZeroFederal ShippingTenFederal ShippingZeroUnited PackageZeroUnited PackageTwenty FiveUnited PackageZeroUnited PackageTwenty FiveUnited PackageZeroUnited PackageTwenty FiveUnited PackageFiveUnited PackageTwenty FiveUnited PackageTenUnited PackageTenUnited PackageFifteenFederal ShippingZeroFederal ShippingZeroFederal ShippingFifteenUnited PackageTenUnited PackageTwenty FiveUnited PackageZeroUnited PackageTwentySpeedy ExpressFiveSpeedy ExpressFifteenSpeedy ExpressZeroSpeedy ExpressTwentyFederal ShippingTenFederal ShippingThirtyFederal ShippingTwenty FiveSpeedy ExpressZeroSpeedy ExpressTwentySpeedy ExpressTenSpeedy ExpressZeroUnited PackageTenUnited PackageZeroUnited PackageZeroUnited PackageZeroUnited PackageZeroFederal ShippingZeroFederal ShippingFifteenFederal ShippingZeroSpeedy ExpressZeroSpeedy ExpressTwentySpeedy ExpressZeroUnited PackageTenUnited PackageZeroSpeedy ExpressTwentySpeedy ExpressZeroFederal ShippingFiveFederal ShippingZeroFederal ShippingZeroSpeedy ExpressTwenty FiveSpeedy ExpressZeroSpeedy ExpressFifteenSpeedy ExpressFifteenFederal ShippingTenUnited PackageFifteenUnited PackageFifteenUnited PackageTwentyUnited PackageTwentyUnited PackageTwenty FiveUnited PackageZeroUnited PackageThirtyUnited PackageZeroUnited PackageZeroUnited PackageThirtyFederal ShippingZeroFederal ShippingFifteenUnited PackageZeroSpeedy ExpressTwenty FiveSpeedy ExpressZeroSpeedy ExpressZeroSpeedy ExpressTenSpeedy ExpressZeroUnited PackageFiveUnited PackageFifteenUnited PackageTenUnited PackageTwenty FiveSpeedy ExpressZeroSpeedy ExpressTwentySpeedy ExpressZeroSpeedy ExpressZeroFederal ShippingTenFederal ShippingFiveSpeedy ExpressZeroSpeedy ExpressTenSpeedy ExpressZeroSpeedy ExpressZeroSpeedy ExpressTwentySpeedy ExpressZeroSpeedy ExpressThirtySpeedy ExpressFiveUnited PackageTwenty FiveUnited PackageZeroUnited PackageZeroUnited PackageZeroUnited PackageTenUnited PackageFiveUnited PackageZeroUnited PackageThirtyUnited PackageZeroFederal ShippingTwentyFederal ShippingFifteenFederal ShippingZeroFederal ShippingZeroFederal ShippingFifteenSpeedy ExpressFiveSpeedy ExpressFifteenSpeedy ExpressTwenty FiveUnited PackageTenUnited PackageFifteenUnited PackageZeroUnited PackageTenFederal ShippingFiveFederal ShippingZeroSpeedy ExpressThirtyUnited PackageThirtyUnited PackageTwenty FiveUnited PackageZeroUnited PackageZeroUnited PackageFifteenUnited PackageFifteenUnited PackageTwentyFederal ShippingFiveUnited PackageTwenty FiveUnited PackageFiveSpeedy ExpressFifteenSpeedy ExpressTwenty FiveUnited PackageThirtySpeedy ExpressZeroUnited PackageTwentyUnited PackageTenUnited PackageZeroUnited PackageTwenty FiveUnited PackageFifteenFederal ShippingTenFederal ShippingZeroFederal ShippingFifteenSpeedy ExpressTwenty FiveSpeedy ExpressZeroUnited PackageTwentyFederal ShippingZeroSpeedy ExpressTwenty FiveSpeedy ExpressTwenty FiveUnited PackageZeroUnited PackageTwenty FiveUnited PackageThirtySpeedy ExpressTwentySpeedy ExpressTenUnited PackageZeroUnited PackageThirtyUnited PackageTenUnited PackageTwentyUnited PackageTenUnited PackageTwentyUnited PackageZeroFederal ShippingThirtyFederal ShippingFiveFederal ShippingZeroFederal ShippingTwenty FiveUnited PackageFiveUnited PackageZeroUnited PackageZeroUnited PackageZeroUnited PackageFifteenFederal ShippingZeroUnited PackageZeroUnited PackageThirtyUnited PackageFifteenUnited PackageThirtyUnited PackageTenSpeedy ExpressZeroSpeedy ExpressTenSpeedy ExpressZeroSpeedy ExpressTwentySpeedy ExpressFifteenSpeedy ExpressFifteenSpeedy ExpressTenUnited PackageTenUnited PackageFiveUnited PackageFifteenUnited PackageTenUnited PackageZeroUnited PackageTwenty FiveUnited PackageFifteenUnited PackageFiveSpeedy ExpressTenSpeedy ExpressTwenty FiveSpeedy ExpressTenSpeedy ExpressTwentySpeedy ExpressTenSpeedy ExpressFiveUnited PackageTwenty FiveUnited PackageTenUnited PackageThirtyUnited PackageThirtyUnited PackageThirtyUnited PackageZeroUnited PackageTenUnited PackageTwenty FiveUnited PackageZeroUnited PackageTwentyUnited PackageTwenty FiveUnited PackageZeroUnited PackageFiveUnited PackageTwenty FiveUnited PackageTwenty FiveUnited PackageZeroUnited PackageTwenty FiveUnited PackageTenUnited PackageZeroUnited PackageZeroUnited PackageZeroUnited PackageFiveUnited PackageZeroUnited PackageTenUnited PackageZeroUnited PackageTwenty FiveUnited PackageTwenty FiveUnited PackageFiveUnited PackageTenUnited PackageZeroUnited PackageTwenty FiveUnited PackageTwentyUnited PackageZeroUnited PackageThirtyUnited PackageTwentyUnited PackageFiveUnited PackageTwenty FiveUnited PackageFifteen to numeric"
     ]
    }
   ],
   "source": [
    "# effect size test\n",
    "def cohen_d_two_samp(x,y):\n",
    "    nx = len(x)\n",
    "    ny = len(y)\n",
    "    dof = nx + ny - 2\n",
    "    return (mean(x) - mean(y)) / sqrt(((nx-1)*std(x, ddof=1) ** 2 + (ny-1)*std(y, ddof=1) ** 2) / dof)\n",
    "effect_size = cohen_d_two_samp(df_str['ItemTotal'], df_str['CompanyName']+df_str['ReorderLevel'])\n",
    "effect_size"
   ]
  },
  {
   "cell_type": "markdown",
   "metadata": {},
   "source": [
    "#### 2.2.4.4.3 Error<a id='Error'></a>"
   ]
  },
  {
   "cell_type": "code",
   "execution_count": 165,
   "metadata": {},
   "outputs": [],
   "source": [
    "# power variables\n",
    "effect_size, nobs1, alpha = effect_size, df['ItemTotal'].shape[0], alpha"
   ]
  },
  {
   "cell_type": "code",
   "execution_count": 166,
   "metadata": {},
   "outputs": [
    {
     "data": {
      "text/plain": [
       "1.0"
      ]
     },
     "execution_count": 166,
     "metadata": {},
     "output_type": "execute_result"
    }
   ],
   "source": [
    "# power test\n",
    "power = tt_ind_solve_power(effect_size=effect_size, nobs1=nobs1, alpha=alpha)\n",
    "power"
   ]
  },
  {
   "cell_type": "code",
   "execution_count": 167,
   "metadata": {},
   "outputs": [
    {
     "data": {
      "text/plain": [
       "0.0"
      ]
     },
     "execution_count": 167,
     "metadata": {},
     "output_type": "execute_result"
    }
   ],
   "source": [
    "# evaluation of power test\n",
    "type_2_error = 1 - power\n",
    "type_2_error"
   ]
  },
  {
   "cell_type": "markdown",
   "metadata": {},
   "source": [
    "## 2.2.5 Interpret Model<a id='Interpret Model'></a>"
   ]
  },
  {
   "cell_type": "markdown",
   "metadata": {},
   "source": [
    "### 2.2.5.1 Extension of acquired knowledge<a id='Extension'></a>\n",
    "#### Deeper question\n",
    "#### Hypothesis for deeper question"
   ]
  },
  {
   "cell_type": "code",
   "execution_count": 91,
   "metadata": {},
   "outputs": [],
   "source": [
    "# deeper understanding variables already set"
   ]
  },
  {
   "cell_type": "code",
   "execution_count": 170,
   "metadata": {},
   "outputs": [
    {
     "data": {
      "text/html": [
       "<div>\n",
       "<style scoped>\n",
       "    .dataframe tbody tr th:only-of-type {\n",
       "        vertical-align: middle;\n",
       "    }\n",
       "\n",
       "    .dataframe tbody tr th {\n",
       "        vertical-align: top;\n",
       "    }\n",
       "\n",
       "    .dataframe thead th {\n",
       "        text-align: right;\n",
       "    }\n",
       "</style>\n",
       "<table border=\"1\" class=\"dataframe\">\n",
       "  <thead>\n",
       "    <tr style=\"text-align: right;\">\n",
       "      <th></th>\n",
       "      <th>df</th>\n",
       "      <th>sum_sq</th>\n",
       "      <th>mean_sq</th>\n",
       "      <th>F</th>\n",
       "      <th>PR(&gt;F)</th>\n",
       "    </tr>\n",
       "  </thead>\n",
       "  <tbody>\n",
       "    <tr>\n",
       "      <th>CompanyName</th>\n",
       "      <td>2.0</td>\n",
       "      <td>3.445841e+06</td>\n",
       "      <td>1.722920e+06</td>\n",
       "      <td>1.410746</td>\n",
       "      <td>0.244187</td>\n",
       "    </tr>\n",
       "    <tr>\n",
       "      <th>ReorderLevel</th>\n",
       "      <td>1.0</td>\n",
       "      <td>2.476820e+07</td>\n",
       "      <td>2.476820e+07</td>\n",
       "      <td>20.280477</td>\n",
       "      <td>0.000007</td>\n",
       "    </tr>\n",
       "    <tr>\n",
       "      <th>Residual</th>\n",
       "      <td>2151.0</td>\n",
       "      <td>2.626980e+09</td>\n",
       "      <td>1.221283e+06</td>\n",
       "      <td>NaN</td>\n",
       "      <td>NaN</td>\n",
       "    </tr>\n",
       "  </tbody>\n",
       "</table>\n",
       "</div>"
      ],
      "text/plain": [
       "                  df        sum_sq       mean_sq          F    PR(>F)\n",
       "CompanyName      2.0  3.445841e+06  1.722920e+06   1.410746  0.244187\n",
       "ReorderLevel     1.0  2.476820e+07  2.476820e+07  20.280477  0.000007\n",
       "Residual      2151.0  2.626980e+09  1.221283e+06        NaN       NaN"
      ]
     },
     "execution_count": 170,
     "metadata": {},
     "output_type": "execute_result"
    }
   ],
   "source": [
    "# deeper understanding test\n",
    "anova_results = sm.stats.anova_lm(ols('ItemTotal ~ CompanyName + ReorderLevel', data=df).fit())\n",
    "anova_results"
   ]
  },
  {
   "cell_type": "code",
   "execution_count": 171,
   "metadata": {},
   "outputs": [],
   "source": [
    "# deeper understanding result\n",
    "companyName_anova_pvalue = anova_results.loc['CompanyName', 'PR(>F)']\n",
    "reorderLevel_anova_pvalue = anova_results.loc['ReorderLevel', 'PR(>F)']"
   ]
  },
  {
   "cell_type": "code",
   "execution_count": 172,
   "metadata": {},
   "outputs": [
    {
     "name": "stdout",
     "output_type": "stream",
     "text": [
      "Fail to reject the null hypothesis\n"
     ]
    }
   ],
   "source": [
    "# deeper understanding evaluation of result\n",
    "if alpha > companyName_anova_pvalue:\n",
    "    print('Reject the null hypothesis')\n",
    "else:\n",
    "    print('Fail to reject the null hypothesis')"
   ]
  },
  {
   "cell_type": "code",
   "execution_count": 173,
   "metadata": {},
   "outputs": [
    {
     "name": "stdout",
     "output_type": "stream",
     "text": [
      "Reject the null hypothesis\n"
     ]
    }
   ],
   "source": [
    "if alpha > reorderLevel_anova_pvalue:\n",
    "    print('Reject the null hypothesis')\n",
    "else:\n",
    "    print('Fail to reject the null hypothesis')"
   ]
  },
  {
   "cell_type": "code",
   "execution_count": 177,
   "metadata": {},
   "outputs": [],
   "source": [
    "# non-parametric testing variables\n",
    "shipVia1 = df[df['CompanyName'] == 'Federal Shipping']\n",
    "shipVia1_reorder0 = shipVia1[shipVia1['ReorderLevel'] == 0]['ItemTotal']\n",
    "shipVia1_reorder5 = shipVia1[shipVia1['ReorderLevel'] == 5]['ItemTotal']\n",
    "shipVia1_reorder10 = shipVia1[shipVia1['ReorderLevel'] == 10]['ItemTotal']\n",
    "shipVia1_reorder15 = shipVia1[shipVia1['ReorderLevel'] == 15]['ItemTotal']\n",
    "shipVia1_reorder20 = shipVia1[shipVia1['ReorderLevel'] == 20]['ItemTotal']\n",
    "shipVia1_reorder25 = shipVia1[shipVia1['ReorderLevel'] == 25]['ItemTotal']\n",
    "shipVia1_reorder30 = shipVia1[shipVia1['ReorderLevel'] == 30]['ItemTotal']\n",
    "shipVia2 = df[df['CompanyName'] == 'Speedy Express']\n",
    "shipVia2_reorder0 = shipVia2[shipVia2['ReorderLevel'] == 0]['ItemTotal']\n",
    "shipVia2_reorder5 = shipVia2[shipVia2['ReorderLevel'] == 5]['ItemTotal']\n",
    "shipVia2_reorder10 = shipVia2[shipVia2['ReorderLevel'] == 10]['ItemTotal']\n",
    "shipVia2_reorder15 = shipVia2[shipVia2['ReorderLevel'] == 15]['ItemTotal']\n",
    "shipVia2_reorder20 = shipVia2[shipVia2['ReorderLevel'] == 20]['ItemTotal']\n",
    "shipVia2_reorder25 = shipVia2[shipVia2['ReorderLevel'] == 25]['ItemTotal']\n",
    "shipVia2_reorder30 = shipVia2[shipVia2['ReorderLevel'] == 30]['ItemTotal']\n",
    "shipVia3 = df[df['CompanyName'] == 'United Package']\n",
    "shipVia3_reorder0 = shipVia3[shipVia3['ReorderLevel'] == 0]['ItemTotal']\n",
    "shipVia3_reorder5 = shipVia3[shipVia3['ReorderLevel'] == 5]['ItemTotal']\n",
    "shipVia3_reorder10 = shipVia3[shipVia3['ReorderLevel'] == 10]['ItemTotal']\n",
    "shipVia3_reorder15 = shipVia3[shipVia3['ReorderLevel'] == 15]['ItemTotal']\n",
    "shipVia3_reorder20 = shipVia3[shipVia3['ReorderLevel'] == 20]['ItemTotal']\n",
    "shipVia3_reorder25 = shipVia3[shipVia3['ReorderLevel'] == 25]['ItemTotal']\n",
    "shipVia3_reorder30 = shipVia3[shipVia3['ReorderLevel'] == 30]['ItemTotal']"
   ]
  },
  {
   "cell_type": "code",
   "execution_count": 179,
   "metadata": {},
   "outputs": [
    {
     "data": {
      "text/plain": [
       "KruskalResult(statistic=191.1760174190746, pvalue=6.208124121397785e-30)"
      ]
     },
     "execution_count": 179,
     "metadata": {},
     "output_type": "execute_result"
    }
   ],
   "source": [
    "# non-parametric test\n",
    "kruskal_results = stats.kruskal(shipVia1_reorder0, shipVia1_reorder5, shipVia1_reorder10, shipVia1_reorder15, shipVia1_reorder20, \n",
    "                                shipVia1_reorder25, shipVia1_reorder30, shipVia2_reorder0, shipVia2_reorder5, shipVia2_reorder10, \n",
    "                                shipVia2_reorder15, shipVia2_reorder20, shipVia2_reorder25, shipVia2_reorder30, shipVia3_reorder0, \n",
    "                                shipVia3_reorder5, shipVia3_reorder10, shipVia3_reorder15, shipVia3_reorder20, shipVia3_reorder25, \n",
    "                                shipVia3_reorder30)\n",
    "kruskal_results"
   ]
  },
  {
   "cell_type": "code",
   "execution_count": 181,
   "metadata": {},
   "outputs": [
    {
     "data": {
      "text/plain": [
       "6.208124121397785e-30"
      ]
     },
     "execution_count": 181,
     "metadata": {},
     "output_type": "execute_result"
    }
   ],
   "source": [
    "# result\n",
    "p_value = kruskal_results[1]\n",
    "p_value"
   ]
  },
  {
   "cell_type": "code",
   "execution_count": 182,
   "metadata": {},
   "outputs": [
    {
     "name": "stdout",
     "output_type": "stream",
     "text": [
      "Reject the null hypothesis\n"
     ]
    }
   ],
   "source": [
    "if alpha > p_value:\n",
    "    print('Reject the null hypothesis')\n",
    "else:\n",
    "    print('Fail to reject the null hypothesis')"
   ]
  },
  {
   "cell_type": "code",
   "execution_count": 183,
   "metadata": {},
   "outputs": [
    {
     "data": {
      "text/html": [
       "<table class=\"simpletable\">\n",
       "<caption>Multiple Comparison of Means - Tukey HSD, FWER=0.05</caption>\n",
       "<tr>\n",
       "            <th>group1</th>                      <th>group2</th>            <th>meandiff</th>   <th>p-adj</th>    <th>lower</th>     <th>upper</th>   <th>reject</th>\n",
       "</tr>\n",
       "<tr>\n",
       "    <td>Federal ShippingFifteen</td>      <td>Federal ShippingFive</td>     <td>-956.5566</td>  <td>0.001</td> <td>-1594.6462</td> <td>-318.4671</td>  <td>True</td> \n",
       "</tr>\n",
       "<tr>\n",
       "    <td>Federal ShippingFifteen</td>       <td>Federal ShippingTen</td>     <td>-634.054</td>  <td>0.0372</td> <td>-1252.5269</td> <td>-15.5811</td>   <td>True</td> \n",
       "</tr>\n",
       "<tr>\n",
       "    <td>Federal ShippingFifteen</td>     <td>Federal ShippingThirty</td>    <td>-700.6749</td> <td>0.0114</td>  <td>-1328.472</td> <td>-72.8778</td>   <td>True</td> \n",
       "</tr>\n",
       "<tr>\n",
       "    <td>Federal ShippingFifteen</td>     <td>Federal ShippingTwenty</td>    <td>-741.8032</td> <td>0.0063</td> <td>-1382.6356</td> <td>-100.9709</td>  <td>True</td> \n",
       "</tr>\n",
       "<tr>\n",
       "    <td>Federal ShippingFifteen</td>   <td>Federal ShippingTwenty Five</td> <td>-797.1815</td> <td>0.0013</td> <td>-1429.9943</td> <td>-164.3686</td>  <td>True</td> \n",
       "</tr>\n",
       "<tr>\n",
       "    <td>Federal ShippingFifteen</td>      <td>Federal ShippingZero</td>     <td>-349.9929</td> <td>0.5842</td>  <td>-848.1693</td> <td>148.1836</td>   <td>False</td>\n",
       "</tr>\n",
       "<tr>\n",
       "    <td>Federal ShippingFifteen</td>      <td>Speedy ExpressFifteen</td>    <td>-440.4663</td> <td>0.5438</td> <td>-1052.5003</td> <td>171.5677</td>   <td>False</td>\n",
       "</tr>\n",
       "<tr>\n",
       "    <td>Federal ShippingFifteen</td>       <td>Speedy ExpressFive</td>      <td>-812.2508</td> <td>0.0046</td> <td>-1500.8869</td> <td>-123.6147</td>  <td>True</td> \n",
       "</tr>\n",
       "<tr>\n",
       "    <td>Federal ShippingFifteen</td>        <td>Speedy ExpressTen</td>      <td>-730.3703</td> <td>0.0042</td> <td>-1346.6472</td> <td>-114.0934</td>  <td>True</td> \n",
       "</tr>\n",
       "<tr>\n",
       "    <td>Federal ShippingFifteen</td>      <td>Speedy ExpressThirty</td>     <td>-496.2385</td> <td>0.3621</td> <td>-1124.0356</td> <td>131.5587</td>   <td>False</td>\n",
       "</tr>\n",
       "<tr>\n",
       "    <td>Federal ShippingFifteen</td>      <td>Speedy ExpressTwenty</td>     <td>-840.8731</td>  <td>0.001</td> <td>-1450.8567</td> <td>-230.8895</td>  <td>True</td> \n",
       "</tr>\n",
       "<tr>\n",
       "    <td>Federal ShippingFifteen</td>    <td>Speedy ExpressTwenty Five</td>  <td>-743.5337</td> <td>0.0021</td> <td>-1347.6318</td> <td>-139.4357</td>  <td>True</td> \n",
       "</tr>\n",
       "<tr>\n",
       "    <td>Federal ShippingFifteen</td>       <td>Speedy ExpressZero</td>      <td>-443.8291</td> <td>0.1618</td>  <td>-943.2989</td>  <td>55.6407</td>   <td>False</td>\n",
       "</tr>\n",
       "<tr>\n",
       "    <td>Federal ShippingFifteen</td>      <td>United PackageFifteen</td>     <td>-183.1</td>     <td>0.9</td>   <td>-743.0213</td> <td>376.8213</td>   <td>False</td>\n",
       "</tr>\n",
       "<tr>\n",
       "    <td>Federal ShippingFifteen</td>       <td>United PackageFive</td>      <td>-852.5966</td>  <td>0.001</td> <td>-1460.5751</td> <td>-244.618</td>   <td>True</td> \n",
       "</tr>\n",
       "<tr>\n",
       "    <td>Federal ShippingFifteen</td>        <td>United PackageTen</td>      <td>-736.1914</td> <td>0.0013</td> <td>-1320.1111</td> <td>-152.2717</td>  <td>True</td> \n",
       "</tr>\n",
       "<tr>\n",
       "    <td>Federal ShippingFifteen</td>      <td>United PackageThirty</td>      <td>-592.29</td>  <td>0.0398</td> <td>-1173.2854</td> <td>-11.2946</td>   <td>True</td> \n",
       "</tr>\n",
       "<tr>\n",
       "    <td>Federal ShippingFifteen</td>      <td>United PackageTwenty</td>     <td>-836.2948</td>  <td>0.001</td> <td>-1421.7186</td> <td>-250.871</td>   <td>True</td> \n",
       "</tr>\n",
       "<tr>\n",
       "    <td>Federal ShippingFifteen</td>    <td>United PackageTwenty Five</td>  <td>-757.4534</td>  <td>0.001</td> <td>-1322.9536</td> <td>-191.9532</td>  <td>True</td> \n",
       "</tr>\n",
       "<tr>\n",
       "    <td>Federal ShippingFifteen</td>       <td>United PackageZero</td>       <td>-223.29</td>    <td>0.9</td>   <td>-704.7119</td> <td>258.1319</td>   <td>False</td>\n",
       "</tr>\n",
       "<tr>\n",
       "     <td>Federal ShippingFive</td>         <td>Federal ShippingTen</td>     <td>322.5026</td>    <td>0.9</td>   <td>-334.2833</td> <td>979.2885</td>   <td>False</td>\n",
       "</tr>\n",
       "<tr>\n",
       "     <td>Federal ShippingFive</td>       <td>Federal ShippingThirty</td>    <td>255.8817</td>    <td>0.9</td>   <td>-409.6919</td> <td>921.4553</td>   <td>False</td>\n",
       "</tr>\n",
       "<tr>\n",
       "     <td>Federal ShippingFive</td>       <td>Federal ShippingTwenty</td>    <td>214.7534</td>    <td>0.9</td>   <td>-463.1294</td> <td>892.6362</td>   <td>False</td>\n",
       "</tr>\n",
       "<tr>\n",
       "     <td>Federal ShippingFive</td>     <td>Federal ShippingTwenty Five</td> <td>159.3752</td>    <td>0.9</td>   <td>-510.9316</td> <td>829.6819</td>   <td>False</td>\n",
       "</tr>\n",
       "<tr>\n",
       "     <td>Federal ShippingFive</td>        <td>Federal ShippingZero</td>     <td>606.5637</td>  <td>0.0119</td>   <td>61.5511</td>  <td>1151.5764</td>  <td>True</td> \n",
       "</tr>\n",
       "<tr>\n",
       "     <td>Federal ShippingFive</td>        <td>Speedy ExpressFifteen</td>    <td>516.0903</td>   <td>0.355</td>  <td>-134.6359</td> <td>1166.8165</td>  <td>False</td>\n",
       "</tr>\n",
       "<tr>\n",
       "     <td>Federal ShippingFive</td>         <td>Speedy ExpressFive</td>      <td>144.3058</td>    <td>0.9</td>   <td>-578.936</td>  <td>867.5476</td>   <td>False</td>\n",
       "</tr>\n",
       "<tr>\n",
       "     <td>Federal ShippingFive</td>          <td>Speedy ExpressTen</td>      <td>226.1863</td>    <td>0.9</td>   <td>-428.5321</td> <td>880.9047</td>   <td>False</td>\n",
       "</tr>\n",
       "<tr>\n",
       "     <td>Federal ShippingFive</td>        <td>Speedy ExpressThirty</td>     <td>460.3182</td>  <td>0.6101</td>  <td>-205.2554</td> <td>1125.8918</td>  <td>False</td>\n",
       "</tr>\n",
       "<tr>\n",
       "     <td>Federal ShippingFive</td>        <td>Speedy ExpressTwenty</td>     <td>115.6835</td>    <td>0.9</td>   <td>-533.1146</td> <td>764.4816</td>   <td>False</td>\n",
       "</tr>\n",
       "<tr>\n",
       "     <td>Federal ShippingFive</td>      <td>Speedy ExpressTwenty Five</td>  <td>213.0229</td>    <td>0.9</td>   <td>-430.2449</td> <td>856.2907</td>   <td>False</td>\n",
       "</tr>\n",
       "<tr>\n",
       "     <td>Federal ShippingFive</td>         <td>Speedy ExpressZero</td>      <td>512.7275</td>  <td>0.0983</td>  <td>-33.4676</td>  <td>1058.9226</td>  <td>False</td>\n",
       "</tr>\n",
       "<tr>\n",
       "     <td>Federal ShippingFive</td>        <td>United PackageFifteen</td>    <td>773.4566</td>   <td>0.001</td>  <td>171.4842</td>  <td>1375.4291</td>  <td>True</td> \n",
       "</tr>\n",
       "<tr>\n",
       "     <td>Federal ShippingFive</td>         <td>United PackageFive</td>       <td>103.96</td>     <td>0.9</td>   <td>-542.9533</td> <td>750.8734</td>   <td>False</td>\n",
       "</tr>\n",
       "<tr>\n",
       "     <td>Federal ShippingFive</td>          <td>United PackageTen</td>      <td>220.3652</td>    <td>0.9</td>   <td>-403.9914</td> <td>844.7219</td>   <td>False</td>\n",
       "</tr>\n",
       "<tr>\n",
       "     <td>Federal ShippingFive</td>        <td>United PackageThirty</td>     <td>364.2666</td>  <td>0.8596</td>  <td>-257.356</td>  <td>985.8892</td>   <td>False</td>\n",
       "</tr>\n",
       "<tr>\n",
       "     <td>Federal ShippingFive</td>        <td>United PackageTwenty</td>     <td>120.2618</td>    <td>0.9</td>   <td>-505.5018</td> <td>746.0254</td>   <td>False</td>\n",
       "</tr>\n",
       "<tr>\n",
       "     <td>Federal ShippingFive</td>      <td>United PackageTwenty Five</td>  <td>199.1032</td>    <td>0.9</td>   <td>-408.0619</td> <td>806.2683</td>   <td>False</td>\n",
       "</tr>\n",
       "<tr>\n",
       "     <td>Federal ShippingFive</td>         <td>United PackageZero</td>      <td>733.2666</td>   <td>0.001</td>  <td>203.5252</td>  <td>1263.0081</td>  <td>True</td> \n",
       "</tr>\n",
       "<tr>\n",
       "      <td>Federal ShippingTen</td>       <td>Federal ShippingThirty</td>    <td>-66.6209</td>    <td>0.9</td>   <td>-713.4119</td> <td>580.1702</td>   <td>False</td>\n",
       "</tr>\n",
       "<tr>\n",
       "      <td>Federal ShippingTen</td>       <td>Federal ShippingTwenty</td>    <td>-107.7492</td>   <td>0.9</td>   <td>-767.2001</td> <td>551.7017</td>   <td>False</td>\n",
       "</tr>\n",
       "<tr>\n",
       "      <td>Federal ShippingTen</td>     <td>Federal ShippingTwenty Five</td> <td>-163.1274</td>   <td>0.9</td>   <td>-814.7881</td> <td>488.5332</td>   <td>False</td>\n",
       "</tr>\n",
       "<tr>\n",
       "      <td>Federal ShippingTen</td>        <td>Federal ShippingZero</td>     <td>284.0611</td>    <td>0.9</td>   <td>-237.848</td>  <td>805.9703</td>   <td>False</td>\n",
       "</tr>\n",
       "<tr>\n",
       "      <td>Federal ShippingTen</td>        <td>Speedy ExpressFifteen</td>    <td>193.5877</td>    <td>0.9</td>   <td>-437.9145</td> <td>825.0899</td>   <td>False</td>\n",
       "</tr>\n",
       "<tr>\n",
       "      <td>Federal ShippingTen</td>         <td>Speedy ExpressFive</td>      <td>-178.1968</td>   <td>0.9</td>   <td>-884.1919</td> <td>527.7983</td>   <td>False</td>\n",
       "</tr>\n",
       "<tr>\n",
       "      <td>Federal ShippingTen</td>          <td>Speedy ExpressTen</td>      <td>-96.3163</td>    <td>0.9</td>   <td>-731.9315</td> <td>539.2989</td>   <td>False</td>\n",
       "</tr>\n",
       "<tr>\n",
       "      <td>Federal ShippingTen</td>        <td>Speedy ExpressThirty</td>     <td>137.8156</td>    <td>0.9</td>   <td>-508.9755</td> <td>784.6066</td>   <td>False</td>\n",
       "</tr>\n",
       "<tr>\n",
       "      <td>Federal ShippingTen</td>        <td>Speedy ExpressTwenty</td>     <td>-206.8191</td>   <td>0.9</td>   <td>-836.3343</td> <td>422.6962</td>   <td>False</td>\n",
       "</tr>\n",
       "<tr>\n",
       "      <td>Federal ShippingTen</td>      <td>Speedy ExpressTwenty Five</td>  <td>-109.4797</td>   <td>0.9</td>   <td>-733.2937</td> <td>514.3343</td>   <td>False</td>\n",
       "</tr>\n",
       "<tr>\n",
       "      <td>Federal ShippingTen</td>         <td>Speedy ExpressZero</td>      <td>190.2249</td>    <td>0.9</td>   <td>-332.9189</td> <td>713.3687</td>   <td>False</td>\n",
       "</tr>\n",
       "<tr>\n",
       "      <td>Federal ShippingTen</td>        <td>United PackageFifteen</td>     <td>450.954</td>  <td>0.4015</td>  <td>-130.1839</td> <td>1032.092</td>   <td>False</td>\n",
       "</tr>\n",
       "<tr>\n",
       "      <td>Federal ShippingTen</td>         <td>United PackageFive</td>      <td>-218.5426</td>   <td>0.9</td>   <td>-846.1151</td>  <td>409.03</td>    <td>False</td>\n",
       "</tr>\n",
       "<tr>\n",
       "      <td>Federal ShippingTen</td>          <td>United PackageTen</td>      <td>-102.1374</td>   <td>0.9</td>   <td>-706.4317</td>  <td>502.157</td>   <td>False</td>\n",
       "</tr>\n",
       "<tr>\n",
       "      <td>Federal ShippingTen</td>        <td>United PackageThirty</td>      <td>41.764</td>     <td>0.9</td>   <td>-559.7051</td> <td>643.2331</td>   <td>False</td>\n",
       "</tr>\n",
       "<tr>\n",
       "      <td>Federal ShippingTen</td>        <td>United PackageTwenty</td>     <td>-202.2408</td>   <td>0.9</td>   <td>-807.9886</td> <td>403.5071</td>   <td>False</td>\n",
       "</tr>\n",
       "<tr>\n",
       "      <td>Federal ShippingTen</td>      <td>United PackageTwenty Five</td>  <td>-123.3994</td>   <td>0.9</td>   <td>-709.9144</td> <td>463.1156</td>   <td>False</td>\n",
       "</tr>\n",
       "<tr>\n",
       "      <td>Federal ShippingTen</td>         <td>United PackageZero</td>       <td>410.764</td>  <td>0.3086</td>  <td>-95.1771</td>  <td>916.7052</td>   <td>False</td>\n",
       "</tr>\n",
       "<tr>\n",
       "    <td>Federal ShippingThirty</td>      <td>Federal ShippingTwenty</td>    <td>-41.1284</td>    <td>0.9</td>   <td>-709.3319</td> <td>627.0752</td>   <td>False</td>\n",
       "</tr>\n",
       "<tr>\n",
       "    <td>Federal ShippingThirty</td>    <td>Federal ShippingTwenty Five</td> <td>-96.5066</td>    <td>0.9</td>   <td>-757.0231</td> <td>564.0099</td>   <td>False</td>\n",
       "</tr>\n",
       "<tr>\n",
       "    <td>Federal ShippingThirty</td>       <td>Federal ShippingZero</td>      <td>350.682</td>  <td>0.6894</td>  <td>-182.2436</td> <td>883.6076</td>   <td>False</td>\n",
       "</tr>\n",
       "<tr>\n",
       "    <td>Federal ShippingThirty</td>       <td>Speedy ExpressFifteen</td>    <td>260.2086</td>    <td>0.9</td>   <td>-380.4283</td> <td>900.8454</td>   <td>False</td>\n",
       "</tr>\n",
       "<tr>\n",
       "    <td>Federal ShippingThirty</td>        <td>Speedy ExpressFive</td>      <td>-111.5759</td>   <td>0.9</td>   <td>-825.7535</td> <td>602.6016</td>   <td>False</td>\n",
       "</tr>\n",
       "<tr>\n",
       "    <td>Federal ShippingThirty</td>         <td>Speedy ExpressTen</td>      <td>-29.6954</td>    <td>0.9</td>   <td>-674.387</td>  <td>614.9961</td>   <td>False</td>\n",
       "</tr>\n",
       "<tr>\n",
       "    <td>Federal ShippingThirty</td>       <td>Speedy ExpressThirty</td>     <td>204.4364</td>    <td>0.9</td>   <td>-451.2763</td> <td>860.1491</td>   <td>False</td>\n",
       "</tr>\n",
       "<tr>\n",
       "    <td>Federal ShippingThirty</td>       <td>Speedy ExpressTwenty</td>     <td>-140.1982</td>   <td>0.9</td>   <td>-778.8765</td> <td>498.4801</td>   <td>False</td>\n",
       "</tr>\n",
       "<tr>\n",
       "    <td>Federal ShippingThirty</td>     <td>Speedy ExpressTwenty Five</td>  <td>-42.8588</td>    <td>0.9</td>   <td>-675.9184</td> <td>590.2007</td>   <td>False</td>\n",
       "</tr>\n",
       "<tr>\n",
       "    <td>Federal ShippingThirty</td>        <td>Speedy ExpressZero</td>      <td>256.8458</td>    <td>0.9</td>   <td>-277.289</td>  <td>790.9806</td>   <td>False</td>\n",
       "</tr>\n",
       "<tr>\n",
       "    <td>Federal ShippingThirty</td>       <td>United PackageFifteen</td>    <td>517.5749</td>  <td>0.1815</td>  <td>-73.4765</td>  <td>1108.6264</td>  <td>False</td>\n",
       "</tr>\n",
       "<tr>\n",
       "    <td>Federal ShippingThirty</td>        <td>United PackageFive</td>      <td>-151.9217</td>   <td>0.9</td>   <td>-788.6852</td> <td>484.8419</td>   <td>False</td>\n",
       "</tr>\n",
       "<tr>\n",
       "    <td>Federal ShippingThirty</td>         <td>United PackageTen</td>      <td>-35.5165</td>    <td>0.9</td>   <td>-649.3505</td> <td>578.3175</td>   <td>False</td>\n",
       "</tr>\n",
       "<tr>\n",
       "    <td>Federal ShippingThirty</td>       <td>United PackageThirty</td>     <td>108.3849</td>    <td>0.9</td>   <td>-502.668</td>  <td>719.4377</td>   <td>False</td>\n",
       "</tr>\n",
       "<tr>\n",
       "    <td>Federal ShippingThirty</td>       <td>United PackageTwenty</td>     <td>-135.6199</td>   <td>0.9</td>   <td>-750.8849</td> <td>479.6451</td>   <td>False</td>\n",
       "</tr>\n",
       "<tr>\n",
       "    <td>Federal ShippingThirty</td>     <td>United PackageTwenty Five</td>  <td>-56.7785</td>    <td>0.9</td>   <td>-653.1177</td> <td>539.5606</td>   <td>False</td>\n",
       "</tr>\n",
       "<tr>\n",
       "    <td>Federal ShippingThirty</td>        <td>United PackageZero</td>      <td>477.3849</td>  <td>0.1165</td>  <td>-39.9128</td>  <td>994.6826</td>   <td>False</td>\n",
       "</tr>\n",
       "<tr>\n",
       "    <td>Federal ShippingTwenty</td>    <td>Federal ShippingTwenty Five</td> <td>-55.3782</td>    <td>0.9</td>   <td>-728.2965</td>  <td>617.54</td>    <td>False</td>\n",
       "</tr>\n",
       "<tr>\n",
       "    <td>Federal ShippingTwenty</td>       <td>Federal ShippingZero</td>     <td>391.8104</td>  <td>0.5555</td>  <td>-156.4109</td> <td>940.0317</td>   <td>False</td>\n",
       "</tr>\n",
       "<tr>\n",
       "    <td>Federal ShippingTwenty</td>       <td>Speedy ExpressFifteen</td>    <td>301.3369</td>    <td>0.9</td>   <td>-352.0791</td> <td>954.7529</td>   <td>False</td>\n",
       "</tr>\n",
       "<tr>\n",
       "    <td>Federal ShippingTwenty</td>        <td>Speedy ExpressFive</td>      <td>-70.4476</td>    <td>0.9</td>   <td>-796.1104</td> <td>655.2152</td>   <td>False</td>\n",
       "</tr>\n",
       "<tr>\n",
       "    <td>Federal ShippingTwenty</td>         <td>Speedy ExpressTen</td>       <td>11.4329</td>    <td>0.9</td>   <td>-645.9589</td> <td>668.8248</td>   <td>False</td>\n",
       "</tr>\n",
       "<tr>\n",
       "    <td>Federal ShippingTwenty</td>       <td>Speedy ExpressThirty</td>     <td>245.5648</td>    <td>0.9</td>   <td>-422.6388</td> <td>913.7684</td>   <td>False</td>\n",
       "</tr>\n",
       "<tr>\n",
       "    <td>Federal ShippingTwenty</td>       <td>Speedy ExpressTwenty</td>     <td>-99.0699</td>    <td>0.9</td>   <td>-750.5657</td>  <td>552.426</td>   <td>False</td>\n",
       "</tr>\n",
       "<tr>\n",
       "    <td>Federal ShippingTwenty</td>     <td>Speedy ExpressTwenty Five</td>   <td>-1.7305</td>    <td>0.9</td>   <td>-647.7191</td> <td>644.2581</td>   <td>False</td>\n",
       "</tr>\n",
       "<tr>\n",
       "    <td>Federal ShippingTwenty</td>        <td>Speedy ExpressZero</td>      <td>297.9741</td>    <td>0.9</td>   <td>-251.4227</td>  <td>847.371</td>   <td>False</td>\n",
       "</tr>\n",
       "<tr>\n",
       "    <td>Federal ShippingTwenty</td>       <td>United PackageFifteen</td>    <td>558.7033</td>  <td>0.1155</td>  <td>-46.1758</td>  <td>1163.5823</td>  <td>False</td>\n",
       "</tr>\n",
       "<tr>\n",
       "    <td>Federal ShippingTwenty</td>        <td>United PackageFive</td>      <td>-110.7933</td>   <td>0.9</td>   <td>-760.4122</td> <td>538.8256</td>   <td>False</td>\n",
       "</tr>\n",
       "<tr>\n",
       "    <td>Federal ShippingTwenty</td>         <td>United PackageTen</td>       <td>5.6119</td>     <td>0.9</td>   <td>-621.5476</td> <td>632.7714</td>   <td>False</td>\n",
       "</tr>\n",
       "<tr>\n",
       "    <td>Federal ShippingTwenty</td>       <td>United PackageThirty</td>     <td>149.5132</td>    <td>0.9</td>   <td>-474.9245</td>  <td>773.951</td>   <td>False</td>\n",
       "</tr>\n",
       "<tr>\n",
       "    <td>Federal ShippingTwenty</td>       <td>United PackageTwenty</td>     <td>-94.4916</td>    <td>0.9</td>   <td>-723.0517</td> <td>534.0686</td>   <td>False</td>\n",
       "</tr>\n",
       "<tr>\n",
       "    <td>Federal ShippingTwenty</td>     <td>United PackageTwenty Five</td>  <td>-15.6502</td>    <td>0.9</td>   <td>-625.6972</td> <td>594.3968</td>   <td>False</td>\n",
       "</tr>\n",
       "<tr>\n",
       "    <td>Federal ShippingTwenty</td>        <td>United PackageZero</td>      <td>518.5133</td>  <td>0.0687</td>  <td>-14.5288</td>  <td>1051.5553</td>  <td>False</td>\n",
       "</tr>\n",
       "<tr>\n",
       "  <td>Federal ShippingTwenty Five</td>    <td>Federal ShippingZero</td>     <td>447.1886</td>  <td>0.2684</td>  <td>-91.6367</td>  <td>986.0138</td>   <td>False</td>\n",
       "</tr>\n",
       "<tr>\n",
       "  <td>Federal ShippingTwenty Five</td>    <td>Speedy ExpressFifteen</td>    <td>356.7151</td>    <td>0.9</td>   <td>-288.8377</td> <td>1002.268</td>   <td>False</td>\n",
       "</tr>\n",
       "<tr>\n",
       "  <td>Federal ShippingTwenty Five</td>     <td>Speedy ExpressFive</td>      <td>-15.0694</td>    <td>0.9</td>    <td>-733.66</td>  <td>703.5213</td>   <td>False</td>\n",
       "</tr>\n",
       "<tr>\n",
       "  <td>Federal ShippingTwenty Five</td>      <td>Speedy ExpressTen</td>       <td>66.8111</td>    <td>0.9</td>   <td>-582.7657</td>  <td>716.388</td>   <td>False</td>\n",
       "</tr>\n",
       "<tr>\n",
       "  <td>Federal ShippingTwenty Five</td>    <td>Speedy ExpressThirty</td>      <td>300.943</td>    <td>0.9</td>   <td>-359.5735</td> <td>961.4595</td>   <td>False</td>\n",
       "</tr>\n",
       "<tr>\n",
       "  <td>Federal ShippingTwenty Five</td>    <td>Speedy ExpressTwenty</td>     <td>-43.6916</td>    <td>0.9</td>   <td>-687.3009</td> <td>599.9176</td>   <td>False</td>\n",
       "</tr>\n",
       "<tr>\n",
       "  <td>Federal ShippingTwenty Five</td>  <td>Speedy ExpressTwenty Five</td>   <td>53.6477</td>    <td>0.9</td>   <td>-584.3862</td> <td>691.6817</td>   <td>False</td>\n",
       "</tr>\n",
       "<tr>\n",
       "  <td>Federal ShippingTwenty Five</td>     <td>Speedy ExpressZero</td>      <td>353.3523</td>  <td>0.6981</td>  <td>-186.6689</td> <td>893.3736</td>   <td>False</td>\n",
       "</tr>\n",
       "<tr>\n",
       "  <td>Federal ShippingTwenty Five</td>    <td>United PackageFifteen</td>    <td>614.0815</td>  <td>0.0352</td>   <td>17.7051</td>  <td>1210.4578</td>  <td>True</td> \n",
       "</tr>\n",
       "<tr>\n",
       "  <td>Federal ShippingTwenty Five</td>     <td>United PackageFive</td>      <td>-55.4151</td>    <td>0.9</td>   <td>-697.1243</td> <td>586.2941</td>   <td>False</td>\n",
       "</tr>\n",
       "<tr>\n",
       "  <td>Federal ShippingTwenty Five</td>      <td>United PackageTen</td>       <td>60.9901</td>    <td>0.9</td>   <td>-557.9728</td>  <td>679.953</td>   <td>False</td>\n",
       "</tr>\n",
       "<tr>\n",
       "  <td>Federal ShippingTwenty Five</td>    <td>United PackageThirty</td>     <td>204.8915</td>    <td>0.9</td>   <td>-411.3135</td> <td>821.0964</td>   <td>False</td>\n",
       "</tr>\n",
       "<tr>\n",
       "  <td>Federal ShippingTwenty Five</td>    <td>United PackageTwenty</td>     <td>-39.1133</td>    <td>0.9</td>   <td>-659.4954</td> <td>581.2687</td>   <td>False</td>\n",
       "</tr>\n",
       "<tr>\n",
       "  <td>Federal ShippingTwenty Five</td>  <td>United PackageTwenty Five</td>   <td>39.728</td>     <td>0.9</td>   <td>-561.8892</td> <td>641.3453</td>   <td>False</td>\n",
       "</tr>\n",
       "<tr>\n",
       "  <td>Federal ShippingTwenty Five</td>     <td>United PackageZero</td>      <td>573.8915</td>  <td>0.0149</td>   <td>50.5179</td>  <td>1097.265</td>   <td>True</td> \n",
       "</tr>\n",
       "<tr>\n",
       "     <td>Federal ShippingZero</td>        <td>Speedy ExpressFifteen</td>    <td>-90.4734</td>    <td>0.9</td>   <td>-604.7361</td> <td>423.7892</td>   <td>False</td>\n",
       "</tr>\n",
       "<tr>\n",
       "     <td>Federal ShippingZero</td>         <td>Speedy ExpressFive</td>      <td>-462.258</td>  <td>0.4285</td> <td>-1065.6651</td> <td>141.1492</td>   <td>False</td>\n",
       "</tr>\n",
       "<tr>\n",
       "     <td>Federal ShippingZero</td>          <td>Speedy ExpressTen</td>      <td>-380.3774</td> <td>0.5135</td>  <td>-899.6825</td> <td>138.9276</td>   <td>False</td>\n",
       "</tr>\n",
       "<tr>\n",
       "     <td>Federal ShippingZero</td>        <td>Speedy ExpressThirty</td>     <td>-146.2456</td>   <td>0.9</td>   <td>-679.1712</td>  <td>386.68</td>    <td>False</td>\n",
       "</tr>\n",
       "<tr>\n",
       "     <td>Federal ShippingZero</td>        <td>Speedy ExpressTwenty</td>     <td>-490.8802</td> <td>0.0799</td>  <td>-1002.701</td>  <td>20.9406</td>   <td>False</td>\n",
       "</tr>\n",
       "<tr>\n",
       "     <td>Federal ShippingZero</td>      <td>Speedy ExpressTwenty Five</td>  <td>-393.5408</td> <td>0.3915</td>  <td>-898.3328</td> <td>111.2511</td>   <td>False</td>\n",
       "</tr>\n",
       "<tr>\n",
       "     <td>Federal ShippingZero</td>         <td>Speedy ExpressZero</td>      <td>-93.8362</td>    <td>0.9</td>   <td>-467.1331</td> <td>279.4606</td>   <td>False</td>\n",
       "</tr>\n",
       "<tr>\n",
       "     <td>Federal ShippingZero</td>        <td>United PackageFifteen</td>    <td>166.8929</td>    <td>0.9</td>   <td>-284.0975</td> <td>617.8833</td>   <td>False</td>\n",
       "</tr>\n",
       "<tr>\n",
       "     <td>Federal ShippingZero</td>         <td>United PackageFive</td>      <td>-502.6037</td> <td>0.0586</td> <td>-1012.0331</td>  <td>6.8258</td>    <td>False</td>\n",
       "</tr>\n",
       "<tr>\n",
       "     <td>Federal ShippingZero</td>          <td>United PackageTen</td>      <td>-386.1985</td> <td>0.3272</td>  <td>-866.6594</td>  <td>94.2625</td>   <td>False</td>\n",
       "</tr>\n",
       "<tr>\n",
       "     <td>Federal ShippingZero</td>        <td>United PackageThirty</td>     <td>-242.2971</td>   <td>0.9</td>   <td>-719.1998</td> <td>234.6055</td>   <td>False</td>\n",
       "</tr>\n",
       "<tr>\n",
       "     <td>Federal ShippingZero</td>        <td>United PackageTwenty</td>     <td>-486.3019</td> <td>0.0454</td>  <td>-968.5898</td>  <td>-4.0141</td>   <td>True</td> \n",
       "</tr>\n",
       "<tr>\n",
       "     <td>Federal ShippingZero</td>      <td>United PackageTwenty Five</td>  <td>-407.4605</td> <td>0.1599</td>  <td>-865.359</td>   <td>50.4379</td>   <td>False</td>\n",
       "</tr>\n",
       "<tr>\n",
       "     <td>Federal ShippingZero</td>         <td>United PackageZero</td>      <td>126.7029</td>    <td>0.9</td>   <td>-222.0772</td> <td>475.4829</td>   <td>False</td>\n",
       "</tr>\n",
       "<tr>\n",
       "     <td>Speedy ExpressFifteen</td>        <td>Speedy ExpressFive</td>      <td>-371.7845</td>   <td>0.9</td>  <td>-1072.1458</td> <td>328.5768</td>   <td>False</td>\n",
       "</tr>\n",
       "<tr>\n",
       "     <td>Speedy ExpressFifteen</td>         <td>Speedy ExpressTen</td>      <td>-289.904</td>    <td>0.9</td>   <td>-919.2557</td> <td>339.4477</td>   <td>False</td>\n",
       "</tr>\n",
       "<tr>\n",
       "     <td>Speedy ExpressFifteen</td>       <td>Speedy ExpressThirty</td>     <td>-55.7721</td>    <td>0.9</td>   <td>-696.409</td>  <td>584.8647</td>   <td>False</td>\n",
       "</tr>\n",
       "<tr>\n",
       "     <td>Speedy ExpressFifteen</td>       <td>Speedy ExpressTwenty</td>     <td>-400.4068</td> <td>0.7261</td> <td>-1023.5973</td> <td>222.7837</td>   <td>False</td>\n",
       "</tr>\n",
       "<tr>\n",
       "     <td>Speedy ExpressFifteen</td>     <td>Speedy ExpressTwenty Five</td>  <td>-303.0674</td>   <td>0.9</td>   <td>-920.4982</td> <td>314.3634</td>   <td>False</td>\n",
       "</tr>\n",
       "<tr>\n",
       "     <td>Speedy ExpressFifteen</td>        <td>Speedy ExpressZero</td>       <td>-3.3628</td>    <td>0.9</td>   <td>-518.8785</td> <td>512.1529</td>   <td>False</td>\n",
       "</tr>\n",
       "<tr>\n",
       "     <td>Speedy ExpressFifteen</td>       <td>United PackageFifteen</td>    <td>257.3663</td>    <td>0.9</td>   <td>-316.9143</td> <td>831.6469</td>   <td>False</td>\n",
       "</tr>\n",
       "<tr>\n",
       "     <td>Speedy ExpressFifteen</td>        <td>United PackageFive</td>      <td>-412.1303</td> <td>0.6767</td> <td>-1033.3582</td> <td>209.0977</td>   <td>False</td>\n",
       "</tr>\n",
       "<tr>\n",
       "     <td>Speedy ExpressFifteen</td>         <td>United PackageTen</td>      <td>-295.7251</td>   <td>0.9</td>   <td>-893.4278</td> <td>301.9777</td>   <td>False</td>\n",
       "</tr>\n",
       "<tr>\n",
       "     <td>Speedy ExpressFifteen</td>       <td>United PackageThirty</td>     <td>-151.8237</td>   <td>0.9</td>   <td>-746.6699</td> <td>443.0225</td>   <td>False</td>\n",
       "</tr>\n",
       "<tr>\n",
       "     <td>Speedy ExpressFifteen</td>       <td>United PackageTwenty</td>     <td>-395.8285</td> <td>0.6833</td>  <td>-995.0007</td> <td>203.3438</td>   <td>False</td>\n",
       "</tr>\n",
       "<tr>\n",
       "     <td>Speedy ExpressFifteen</td>     <td>United PackageTwenty Five</td>  <td>-316.9871</td>   <td>0.9</td>   <td>-896.7084</td> <td>262.7342</td>   <td>False</td>\n",
       "</tr>\n",
       "<tr>\n",
       "     <td>Speedy ExpressFifteen</td>        <td>United PackageZero</td>      <td>217.1763</td>    <td>0.9</td>   <td>-280.8732</td> <td>715.2259</td>   <td>False</td>\n",
       "</tr>\n",
       "<tr>\n",
       "      <td>Speedy ExpressFive</td>           <td>Speedy ExpressTen</td>       <td>81.8805</td>    <td>0.9</td>   <td>-622.1916</td> <td>785.9527</td>   <td>False</td>\n",
       "</tr>\n",
       "<tr>\n",
       "      <td>Speedy ExpressFive</td>         <td>Speedy ExpressThirty</td>     <td>316.0124</td>    <td>0.9</td>   <td>-398.1652</td> <td>1030.1899</td>  <td>False</td>\n",
       "</tr>\n",
       "<tr>\n",
       "      <td>Speedy ExpressFive</td>         <td>Speedy ExpressTwenty</td>     <td>-28.6223</td>    <td>0.9</td>   <td>-727.1925</td>  <td>669.948</td>   <td>False</td>\n",
       "</tr>\n",
       "<tr>\n",
       "      <td>Speedy ExpressFive</td>       <td>Speedy ExpressTwenty Five</td>   <td>68.7171</td>    <td>0.9</td>   <td>-624.7199</td> <td>762.1541</td>   <td>False</td>\n",
       "</tr>\n",
       "<tr>\n",
       "      <td>Speedy ExpressFive</td>          <td>Speedy ExpressZero</td>      <td>368.4217</td>  <td>0.8041</td>  <td>-236.0536</td>  <td>972.897</td>   <td>False</td>\n",
       "</tr>\n",
       "<tr>\n",
       "      <td>Speedy ExpressFive</td>         <td>United PackageFifteen</td>    <td>629.1508</td>  <td>0.0791</td>  <td>-26.1599</td>  <td>1284.4616</td>  <td>False</td>\n",
       "</tr>\n",
       "<tr>\n",
       "      <td>Speedy ExpressFive</td>          <td>United PackageFive</td>      <td>-40.3457</td>    <td>0.9</td>   <td>-737.1658</td> <td>656.4743</td>   <td>False</td>\n",
       "</tr>\n",
       "<tr>\n",
       "      <td>Speedy ExpressFive</td>           <td>United PackageTen</td>       <td>76.0595</td>    <td>0.9</td>   <td>-599.8714</td> <td>751.9904</td>   <td>False</td>\n",
       "</tr>\n",
       "<tr>\n",
       "      <td>Speedy ExpressFive</td>         <td>United PackageThirty</td>     <td>219.9608</td>    <td>0.9</td>   <td>-453.4454</td> <td>893.3671</td>   <td>False</td>\n",
       "</tr>\n",
       "<tr>\n",
       "      <td>Speedy ExpressFive</td>         <td>United PackageTwenty</td>      <td>-24.044</td>    <td>0.9</td>   <td>-701.2747</td> <td>653.1867</td>   <td>False</td>\n",
       "</tr>\n",
       "<tr>\n",
       "      <td>Speedy ExpressFive</td>       <td>United PackageTwenty Five</td>   <td>54.7974</td>    <td>0.9</td>   <td>-605.2866</td> <td>714.8814</td>   <td>False</td>\n",
       "</tr>\n",
       "<tr>\n",
       "      <td>Speedy ExpressFive</td>          <td>United PackageZero</td>      <td>588.9608</td>  <td>0.0507</td>   <td>-0.6894</td>  <td>1178.6111</td>  <td>False</td>\n",
       "</tr>\n",
       "<tr>\n",
       "       <td>Speedy ExpressTen</td>         <td>Speedy ExpressThirty</td>     <td>234.1319</td>    <td>0.9</td>   <td>-410.5597</td> <td>878.8234</td>   <td>False</td>\n",
       "</tr>\n",
       "<tr>\n",
       "       <td>Speedy ExpressTen</td>         <td>Speedy ExpressTwenty</td>     <td>-110.5028</td>   <td>0.9</td>   <td>-737.8607</td> <td>516.8551</td>   <td>False</td>\n",
       "</tr>\n",
       "<tr>\n",
       "       <td>Speedy ExpressTen</td>       <td>Speedy ExpressTwenty Five</td>  <td>-13.1634</td>    <td>0.9</td>   <td>-634.8003</td> <td>608.4735</td>   <td>False</td>\n",
       "</tr>\n",
       "<tr>\n",
       "       <td>Speedy ExpressTen</td>          <td>Speedy ExpressZero</td>      <td>286.5412</td>    <td>0.9</td>   <td>-234.0047</td> <td>807.0871</td>   <td>False</td>\n",
       "</tr>\n",
       "<tr>\n",
       "       <td>Speedy ExpressTen</td>         <td>United PackageFifteen</td>    <td>547.2703</td>  <td>0.0913</td>   <td>-31.53</td>   <td>1126.0707</td>  <td>False</td>\n",
       "</tr>\n",
       "<tr>\n",
       "       <td>Speedy ExpressTen</td>          <td>United PackageFive</td>      <td>-122.2263</td>   <td>0.9</td>   <td>-747.6348</td> <td>503.1823</td>   <td>False</td>\n",
       "</tr>\n",
       "<tr>\n",
       "       <td>Speedy ExpressTen</td>           <td>United PackageTen</td>       <td>-5.8211</td>    <td>0.9</td>   <td>-607.8677</td> <td>596.2256</td>   <td>False</td>\n",
       "</tr>\n",
       "<tr>\n",
       "       <td>Speedy ExpressTen</td>         <td>United PackageThirty</td>     <td>138.0803</td>    <td>0.9</td>   <td>-461.1305</td> <td>737.2911</td>   <td>False</td>\n",
       "</tr>\n",
       "<tr>\n",
       "       <td>Speedy ExpressTen</td>         <td>United PackageTwenty</td>     <td>-105.9245</td>   <td>0.9</td>   <td>-709.4301</td> <td>497.5811</td>   <td>False</td>\n",
       "</tr>\n",
       "<tr>\n",
       "       <td>Speedy ExpressTen</td>       <td>United PackageTwenty Five</td>  <td>-27.0831</td>    <td>0.9</td>   <td>-611.2821</td> <td>557.1159</td>   <td>False</td>\n",
       "</tr>\n",
       "<tr>\n",
       "       <td>Speedy ExpressTen</td>          <td>United PackageZero</td>      <td>507.0803</td>  <td>0.0458</td>   <td>3.8259</td>   <td>1010.3347</td>  <td>True</td> \n",
       "</tr>\n",
       "<tr>\n",
       "     <td>Speedy ExpressThirty</td>        <td>Speedy ExpressTwenty</td>     <td>-344.6347</td>   <td>0.9</td>   <td>-983.3129</td> <td>294.0436</td>   <td>False</td>\n",
       "</tr>\n",
       "<tr>\n",
       "     <td>Speedy ExpressThirty</td>      <td>Speedy ExpressTwenty Five</td>  <td>-247.2953</td>   <td>0.9</td>   <td>-880.3548</td> <td>385.7643</td>   <td>False</td>\n",
       "</tr>\n",
       "<tr>\n",
       "     <td>Speedy ExpressThirty</td>         <td>Speedy ExpressZero</td>       <td>52.4093</td>    <td>0.9</td>   <td>-481.7255</td> <td>586.5441</td>   <td>False</td>\n",
       "</tr>\n",
       "<tr>\n",
       "     <td>Speedy ExpressThirty</td>        <td>United PackageFifteen</td>    <td>313.1385</td>    <td>0.9</td>   <td>-277.913</td>  <td>904.1899</td>   <td>False</td>\n",
       "</tr>\n",
       "<tr>\n",
       "     <td>Speedy ExpressThirty</td>         <td>United PackageFive</td>      <td>-356.3581</td>   <td>0.9</td>   <td>-993.1216</td> <td>280.4054</td>   <td>False</td>\n",
       "</tr>\n",
       "<tr>\n",
       "     <td>Speedy ExpressThirty</td>          <td>United PackageTen</td>      <td>-239.9529</td>   <td>0.9</td>   <td>-853.7869</td> <td>373.8811</td>   <td>False</td>\n",
       "</tr>\n",
       "<tr>\n",
       "     <td>Speedy ExpressThirty</td>        <td>United PackageThirty</td>     <td>-96.0515</td>    <td>0.9</td>   <td>-707.1044</td> <td>515.0013</td>   <td>False</td>\n",
       "</tr>\n",
       "<tr>\n",
       "     <td>Speedy ExpressThirty</td>        <td>United PackageTwenty</td>     <td>-340.0563</td>   <td>0.9</td>   <td>-955.3213</td> <td>275.2086</td>   <td>False</td>\n",
       "</tr>\n",
       "<tr>\n",
       "     <td>Speedy ExpressThirty</td>      <td>United PackageTwenty Five</td>  <td>-261.215</td>    <td>0.9</td>   <td>-857.5541</td> <td>335.1242</td>   <td>False</td>\n",
       "</tr>\n",
       "<tr>\n",
       "     <td>Speedy ExpressThirty</td>         <td>United PackageZero</td>      <td>272.9485</td>    <td>0.9</td>   <td>-244.3493</td> <td>790.2462</td>   <td>False</td>\n",
       "</tr>\n",
       "<tr>\n",
       "     <td>Speedy ExpressTwenty</td>      <td>Speedy ExpressTwenty Five</td>   <td>97.3394</td>    <td>0.9</td>   <td>-518.059</td>  <td>712.7378</td>   <td>False</td>\n",
       "</tr>\n",
       "<tr>\n",
       "     <td>Speedy ExpressTwenty</td>         <td>Speedy ExpressZero</td>       <td>397.044</td>  <td>0.4073</td>  <td>-116.0357</td> <td>910.1237</td>   <td>False</td>\n",
       "</tr>\n",
       "<tr>\n",
       "     <td>Speedy ExpressTwenty</td>        <td>United PackageFifteen</td>    <td>657.7731</td>  <td>0.0071</td>   <td>85.6782</td>  <td>1229.8681</td>  <td>True</td> \n",
       "</tr>\n",
       "<tr>\n",
       "     <td>Speedy ExpressTwenty</td>         <td>United PackageFive</td>      <td>-11.7235</td>    <td>0.9</td>   <td>-630.9315</td> <td>607.4846</td>   <td>False</td>\n",
       "</tr>\n",
       "<tr>\n",
       "     <td>Speedy ExpressTwenty</td>          <td>United PackageTen</td>      <td>104.6817</td>    <td>0.9</td>   <td>-490.9213</td> <td>700.2848</td>   <td>False</td>\n",
       "</tr>\n",
       "<tr>\n",
       "     <td>Speedy ExpressTwenty</td>        <td>United PackageThirty</td>     <td>248.5831</td>    <td>0.9</td>   <td>-344.1532</td> <td>841.3195</td>   <td>False</td>\n",
       "</tr>\n",
       "<tr>\n",
       "     <td>Speedy ExpressTwenty</td>        <td>United PackageTwenty</td>      <td>4.5783</td>     <td>0.9</td>   <td>-592.4994</td>  <td>601.656</td>   <td>False</td>\n",
       "</tr>\n",
       "<tr>\n",
       "     <td>Speedy ExpressTwenty</td>      <td>United PackageTwenty Five</td>   <td>83.4197</td>    <td>0.9</td>   <td>-494.1366</td> <td>660.9759</td>   <td>False</td>\n",
       "</tr>\n",
       "<tr>\n",
       "     <td>Speedy ExpressTwenty</td>         <td>United PackageZero</td>      <td>617.5831</td>  <td>0.0016</td>  <td>122.0554</td>  <td>1113.1109</td>  <td>True</td> \n",
       "</tr>\n",
       "<tr>\n",
       "   <td>Speedy ExpressTwenty Five</td>      <td>Speedy ExpressZero</td>      <td>299.7046</td>  <td>0.8448</td>  <td>-206.3638</td>  <td>805.773</td>   <td>False</td>\n",
       "</tr>\n",
       "<tr>\n",
       "   <td>Speedy ExpressTwenty Five</td>     <td>United PackageFifteen</td>    <td>560.4337</td>   <td>0.056</td>   <td>-5.3816</td>  <td>1126.2491</td>  <td>False</td>\n",
       "</tr>\n",
       "<tr>\n",
       "   <td>Speedy ExpressTwenty Five</td>      <td>United PackageFive</td>      <td>-109.0628</td>   <td>0.9</td>   <td>-722.4738</td> <td>504.3481</td>   <td>False</td>\n",
       "</tr>\n",
       "<tr>\n",
       "   <td>Speedy ExpressTwenty Five</td>       <td>United PackageTen</td>       <td>7.3424</td>     <td>0.9</td>   <td>-582.2316</td> <td>596.9163</td>   <td>False</td>\n",
       "</tr>\n",
       "<tr>\n",
       "   <td>Speedy ExpressTwenty Five</td>     <td>United PackageThirty</td>     <td>151.2437</td>    <td>0.9</td>   <td>-435.4341</td> <td>737.9215</td>   <td>False</td>\n",
       "</tr>\n",
       "<tr>\n",
       "   <td>Speedy ExpressTwenty Five</td>     <td>United PackageTwenty</td>     <td>-92.7611</td>    <td>0.9</td>   <td>-683.8247</td> <td>498.3026</td>   <td>False</td>\n",
       "</tr>\n",
       "<tr>\n",
       "   <td>Speedy ExpressTwenty Five</td>   <td>United PackageTwenty Five</td>  <td>-13.9197</td>    <td>0.9</td>   <td>-585.2564</td>  <td>557.417</td>   <td>False</td>\n",
       "</tr>\n",
       "<tr>\n",
       "   <td>Speedy ExpressTwenty Five</td>      <td>United PackageZero</td>      <td>520.2437</td>  <td>0.0224</td>   <td>31.9793</td>  <td>1008.5082</td>  <td>True</td> \n",
       "</tr>\n",
       "<tr>\n",
       "      <td>Speedy ExpressZero</td>         <td>United PackageFifteen</td>    <td>260.7291</td>  <td>0.8825</td>  <td>-191.6895</td> <td>713.1478</td>   <td>False</td>\n",
       "</tr>\n",
       "<tr>\n",
       "      <td>Speedy ExpressZero</td>          <td>United PackageFive</td>      <td>-408.7674</td> <td>0.3359</td>  <td>-919.4617</td> <td>101.9268</td>   <td>False</td>\n",
       "</tr>\n",
       "<tr>\n",
       "      <td>Speedy ExpressZero</td>           <td>United PackageTen</td>      <td>-292.3623</td> <td>0.8104</td>  <td>-774.1641</td> <td>189.4396</td>   <td>False</td>\n",
       "</tr>\n",
       "<tr>\n",
       "      <td>Speedy ExpressZero</td>         <td>United PackageThirty</td>     <td>-148.4609</td>   <td>0.9</td>   <td>-626.7144</td> <td>329.7926</td>   <td>False</td>\n",
       "</tr>\n",
       "<tr>\n",
       "      <td>Speedy ExpressZero</td>         <td>United PackageTwenty</td>     <td>-392.4657</td> <td>0.3095</td>  <td>-876.0893</td>  <td>91.158</td>    <td>False</td>\n",
       "</tr>\n",
       "<tr>\n",
       "      <td>Speedy ExpressZero</td>       <td>United PackageTwenty Five</td>  <td>-313.6243</td> <td>0.6308</td>  <td>-772.9295</td> <td>145.6809</td>   <td>False</td>\n",
       "</tr>\n",
       "<tr>\n",
       "      <td>Speedy ExpressZero</td>          <td>United PackageZero</td>      <td>220.5391</td>   <td>0.758</td>  <td>-130.0857</td>  <td>571.164</td>   <td>False</td>\n",
       "</tr>\n",
       "<tr>\n",
       "     <td>United PackageFifteen</td>        <td>United PackageFive</td>      <td>-669.4966</td> <td>0.0049</td> <td>-1239.4531</td>  <td>-99.54</td>    <td>True</td> \n",
       "</tr>\n",
       "<tr>\n",
       "     <td>United PackageFifteen</td>         <td>United PackageTen</td>      <td>-553.0914</td> <td>0.0414</td> <td>-1097.3108</td>  <td>-8.8719</td>   <td>True</td> \n",
       "</tr>\n",
       "<tr>\n",
       "     <td>United PackageFifteen</td>       <td>United PackageThirty</td>      <td>-409.19</td>  <td>0.4548</td>  <td>-950.2706</td> <td>131.8906</td>   <td>False</td>\n",
       "</tr>\n",
       "<tr>\n",
       "     <td>United PackageFifteen</td>       <td>United PackageTwenty</td>     <td>-653.1948</td> <td>0.0036</td> <td>-1199.0278</td> <td>-107.3618</td>  <td>True</td> \n",
       "</tr>\n",
       "<tr>\n",
       "     <td>United PackageFifteen</td>     <td>United PackageTwenty Five</td>  <td>-574.3534</td> <td>0.0151</td> <td>-1098.7608</td> <td>-49.9461</td>   <td>True</td> \n",
       "</tr>\n",
       "<tr>\n",
       "     <td>United PackageFifteen</td>        <td>United PackageZero</td>       <td>-40.19</td>     <td>0.9</td>   <td>-472.6014</td> <td>392.2214</td>   <td>False</td>\n",
       "</tr>\n",
       "<tr>\n",
       "      <td>United PackageFive</td>           <td>United PackageTen</td>      <td>116.4052</td>    <td>0.9</td>   <td>-477.1441</td> <td>709.9545</td>   <td>False</td>\n",
       "</tr>\n",
       "<tr>\n",
       "      <td>United PackageFive</td>         <td>United PackageThirty</td>     <td>260.3066</td>    <td>0.9</td>   <td>-330.3661</td> <td>850.9793</td>   <td>False</td>\n",
       "</tr>\n",
       "<tr>\n",
       "      <td>United PackageFive</td>         <td>United PackageTwenty</td>      <td>16.3018</td>    <td>0.9</td>   <td>-578.7273</td> <td>611.3309</td>   <td>False</td>\n",
       "</tr>\n",
       "<tr>\n",
       "      <td>United PackageFive</td>       <td>United PackageTwenty Five</td>   <td>95.1432</td>    <td>0.9</td>   <td>-480.295</td>  <td>670.5813</td>   <td>False</td>\n",
       "</tr>\n",
       "<tr>\n",
       "      <td>United PackageFive</td>          <td>United PackageZero</td>      <td>629.3066</td>   <td>0.001</td>  <td>136.2492</td>  <td>1122.364</td>   <td>True</td> \n",
       "</tr>\n",
       "<tr>\n",
       "       <td>United PackageTen</td>         <td>United PackageThirty</td>     <td>143.9014</td>    <td>0.9</td>   <td>-421.9772</td>  <td>709.78</td>    <td>False</td>\n",
       "</tr>\n",
       "<tr>\n",
       "       <td>United PackageTen</td>         <td>United PackageTwenty</td>     <td>-100.1034</td>   <td>0.9</td>   <td>-670.5278</td>  <td>470.321</td>   <td>False</td>\n",
       "</tr>\n",
       "<tr>\n",
       "       <td>United PackageTen</td>       <td>United PackageTwenty Five</td>   <td>-21.262</td>    <td>0.9</td>   <td>-571.2197</td> <td>528.6956</td>   <td>False</td>\n",
       "</tr>\n",
       "<tr>\n",
       "       <td>United PackageTen</td>          <td>United PackageZero</td>      <td>512.9014</td>  <td>0.0128</td>   <td>49.8356</td>  <td>975.9672</td>   <td>True</td> \n",
       "</tr>\n",
       "<tr>\n",
       "     <td>United PackageThirty</td>        <td>United PackageTwenty</td>     <td>-244.0048</td>   <td>0.9</td>   <td>-811.4353</td> <td>323.4257</td>   <td>False</td>\n",
       "</tr>\n",
       "<tr>\n",
       "     <td>United PackageThirty</td>      <td>United PackageTwenty Five</td>  <td>-165.1634</td>   <td>0.9</td>   <td>-712.0152</td> <td>381.6883</td>   <td>False</td>\n",
       "</tr>\n",
       "<tr>\n",
       "     <td>United PackageThirty</td>         <td>United PackageZero</td>        <td>369.0</td>   <td>0.3286</td>  <td>-90.3728</td>  <td>828.3728</td>   <td>False</td>\n",
       "</tr>\n",
       "<tr>\n",
       "     <td>United PackageTwenty</td>      <td>United PackageTwenty Five</td>   <td>78.8414</td>    <td>0.9</td>   <td>-472.713</td>  <td>630.3958</td>   <td>False</td>\n",
       "</tr>\n",
       "<tr>\n",
       "     <td>United PackageTwenty</td>         <td>United PackageZero</td>      <td>613.0048</td>   <td>0.001</td>  <td>148.0437</td>  <td>1077.9659</td>  <td>True</td> \n",
       "</tr>\n",
       "<tr>\n",
       "   <td>United PackageTwenty Five</td>      <td>United PackageZero</td>      <td>534.1634</td>  <td>0.0027</td>   <td>94.552</td>   <td>973.7749</td>   <td>True</td> \n",
       "</tr>\n",
       "</table>"
      ],
      "text/plain": [
       "<class 'statsmodels.iolib.table.SimpleTable'>"
      ]
     },
     "execution_count": 183,
     "metadata": {},
     "output_type": "execute_result"
    }
   ],
   "source": [
    "tukey_results = pairwise_tukeyhsd(df_str['ItemTotal'], df_str['CompanyName']+df_str['ReorderLevel'])\n",
    "tukey_results.summary()"
   ]
  },
  {
   "cell_type": "code",
   "execution_count": 186,
   "metadata": {},
   "outputs": [
    {
     "name": "stderr",
     "output_type": "stream",
     "text": [
      "C:\\Users\\eannefawcett\\Anaconda3\\envs\\learn-env\\lib\\site-packages\\ipykernel_launcher.py:7: UserWarning: Matplotlib is currently using module://ipykernel.pylab.backend_inline, which is a non-GUI backend, so cannot show the figure.\n",
      "  import sys\n"
     ]
    },
    {
     "data": {
      "image/png": "[encoded data removed]",
      "text/plain": [
       "<Figure size 720x432 with 1 Axes>"
      ]
     },
     "metadata": {
      "needs_background": "light"
     },
     "output_type": "display_data"
    }
   ],
   "source": [
    "# create figure\n",
    "fig06 = plt.figure(figsize=(5,4))\n",
    "ax = fig06.add_subplot(111)\n",
    "\n",
    "# run tukeys\n",
    "tukey_results = pairwise_tukeyhsd(df_str['ItemTotal'], df_str['CompanyName']+df_str['ReorderLevel'])\n",
    "tukey_plot = tukey_results.plot_simultaneous(ax=ax).show() \n",
    "\n",
    "# format plot\n",
    "ax.axes.set_title('Multiple Comparisions Between Shipping Companies and Level of Reorder')\n",
    "ax.axes.set_ylabel('Shipping Company and Level of Reorder')\n",
    "ax.axes.set_xlabel('Item Total')\n",
    "plt.show();"
   ]
  },
  {
   "cell_type": "markdown",
   "metadata": {},
   "source": [
    "# 2.3 Results<a id='Results'></a>"
   ]
  },
  {
   "cell_type": "markdown",
   "metadata": {},
   "source": [
    "# 2.4 Conclusions<a id='Conclusions'></a>\n",
    "\n",
    "- 2.4.1 Actionable Items and Insights\n",
    "- 2.4.2 Additional Visuals"
   ]
  },
  {
   "cell_type": "markdown",
   "metadata": {},
   "source": [
    "## 2.4.1 Actionable Items and Insights<a id='Actionable Items and Insights'></a>\n",
    "\n",
    "YES, REORDER LOWERS CUSTOMER SPENDING\n",
    "\n",
    "TRY TO MOVE CLIENTS TO A REORDER LEVEL OF 15; DISCOURAGE CLIENTS FROM A REORDER LEVEL OF 5"
   ]
  },
  {
   "cell_type": "markdown",
   "metadata": {},
   "source": [
    "## 2.4.2 Additional Visuals<a id='Additional Visuals'></a>"
   ]
  },
  {
   "cell_type": "markdown",
   "metadata": {},
   "source": [
    "# 2.5 Future Work<a id='Future Work'></a>"
   ]
  },
  {
   "cell_type": "markdown",
   "metadata": {},
   "source": [
    "Confirm that using a reorder level of 15 will be advantageous for the company."
   ]
  },
  {
   "cell_type": "markdown",
   "metadata": {},
   "source": [
    "# 2.6 References<a id='References'></a>"
   ]
  }
 ],
 "metadata": {
  "kernelspec": {
   "display_name": "learn-env",
   "language": "python",
   "name": "learn-env"
  },
  "language_info": {
   "codemirror_mode": {
    "name": "ipython",
    "version": 3
   },
   "file_extension": ".py",
   "mimetype": "text/x-python",
   "name": "python",
   "nbconvert_exporter": "python",
   "pygments_lexer": "ipython3",
   "version": "3.6.9"
  }
 },
 "nbformat": 4,
 "nbformat_minor": 2
}
